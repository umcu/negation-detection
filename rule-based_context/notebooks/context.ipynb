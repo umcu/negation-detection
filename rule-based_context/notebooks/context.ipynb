{
 "cells": [
  {
   "cell_type": "markdown",
   "metadata": {},
   "source": [
    "# Negation detection with ConText"
   ]
  },
  {
   "cell_type": "markdown",
   "metadata": {},
   "source": [
    "## Setup"
   ]
  },
  {
   "cell_type": "code",
   "execution_count": 97,
   "metadata": {},
   "outputs": [
    {
     "name": "stdout",
     "output_type": "stream",
     "text": [
      "The autoreload extension is already loaded. To reload it, use:\n",
      "  %reload_ext autoreload\n"
     ]
    }
   ],
   "source": [
    "%load_ext autoreload\n",
    "import pathlib\n",
    "import sys\n",
    "import pickle\n",
    "import pandas as pd\n",
    "import spacy\n",
    "import numpy as np\n",
    "import pandas as pd\n",
    "from spacy import displacy\n",
    "from spacy.tokens import Span, Doc\n",
    "import medspacy\n",
    "from medspacy.visualization import visualize_dep\n",
    "from medspacy.context import ConTextRule, ConTextComponent\n",
    "from sklearn.metrics import classification_report\n",
    "from collections import defaultdict\n",
    "# until bug is fixed in v6 of ipython kernel\n",
    "import warnings\n",
    "warnings.simplefilter('once')\n",
    "\n",
    "sys.path.insert(0, '/home/bramiozo/DEV/GIT/UPOD/negation-detection')\n",
    "import utils.DataSetSplitter"
   ]
  },
  {
   "cell_type": "markdown",
   "metadata": {},
   "source": [
    "### Recreate the spacy pipeline:"
   ]
  },
  {
   "cell_type": "code",
   "execution_count": 22,
   "metadata": {},
   "outputs": [],
   "source": [
    "nlp = spacy.load(pathlib.Path('..','..','data','MedSpacy_pipeline'))\n",
    "# Load the custom attributes set during labeling\n",
    "Doc.set_extension(\"data_type\", default=None)\n",
    "Doc.set_extension(\"doc_id\", default=None)\n",
    "Span.set_extension(\"entity_id\", default=None)\n",
    "Span.set_extension(\"negation\", default=\"NotNegated\")\n",
    "Span.set_extension(\"experiencer\", default=\"Patient\")\n",
    "Span.set_extension(\"temporality\", default=\"Recent\")"
   ]
  },
  {
   "cell_type": "markdown",
   "metadata": {},
   "source": [
    "### Load texts, rules:"
   ]
  },
  {
   "cell_type": "code",
   "execution_count": 23,
   "metadata": {},
   "outputs": [],
   "source": [
    "docs_file = pathlib.Path('..','..','data', 'EMCDutchClinicalCorpus', 'DCC_docs.pickle')\n",
    "preproc_docs = pickle.loads(docs_file.read_bytes())"
   ]
  },
  {
   "cell_type": "code",
   "execution_count": 24,
   "metadata": {},
   "outputs": [],
   "source": [
    "context_file = pathlib.Path('..','configs','context','contextD_triggers.json') # all negation triggers in test set from ContextD"
   ]
  },
  {
   "cell_type": "code",
   "execution_count": 25,
   "metadata": {},
   "outputs": [],
   "source": [
    "context = ConTextComponent(nlp, rules=\"other\", rule_list=str(context_file))"
   ]
  },
  {
   "cell_type": "code",
   "execution_count": 6,
   "metadata": {},
   "outputs": [],
   "source": [
    "result_file = pathlib.Path('..', '..', 'results', 'rule-based_predictions.csv.gz')"
   ]
  },
  {
   "cell_type": "markdown",
   "metadata": {},
   "source": [
    "## Example"
   ]
  },
  {
   "cell_type": "code",
   "execution_count": 26,
   "metadata": {},
   "outputs": [],
   "source": [
    "[example_doc] = [d for d in preproc_docs if d._.doc_id == 'DL1112']"
   ]
  },
  {
   "cell_type": "code",
   "execution_count": 27,
   "metadata": {},
   "outputs": [
    {
     "data": {
      "text/html": [
       "<span class=\"tex2jax_ignore\"><div class=\"entities\" style=\"line-height: 2.5; direction: ltr\">Patient kan zich geen \n",
       "<mark class=\"entity\" style=\"background: #ddd; padding: 0.45em 0.6em; margin: 0 0.25em; line-height: 1; border-radius: 0.35em;\">\n",
       "    trauma\n",
       "    <span style=\"font-size: 0.8em; font-weight: bold; line-height: 1; border-radius: 0.35em; text-transform: uppercase; vertical-align: middle; margin-left: 0.5rem\">CONCEPT</span>\n",
       "</mark>\n",
       " herinneren.\n",
       "</div></span>"
      ],
      "text/plain": [
       "<IPython.core.display.HTML object>"
      ]
     },
     "metadata": {},
     "output_type": "display_data"
    }
   ],
   "source": [
    "displacy.render(example_doc, style='ent')"
   ]
  },
  {
   "cell_type": "markdown",
   "metadata": {},
   "source": [
    "Add ConText:"
   ]
  },
  {
   "cell_type": "code",
   "execution_count": 28,
   "metadata": {},
   "outputs": [
    {
     "data": {
      "text/html": [
       "<span class=\"tex2jax_ignore\"><svg xmlns=\"http://www.w3.org/2000/svg\" xmlns:xlink=\"http://www.w3.org/1999/xlink\" xml:lang=\"en\" id=\"7a78607a01814087882b8c35f229d845-0\" class=\"displacy\" width=\"1450\" height=\"224.5\" direction=\"ltr\" style=\"max-width: none; height: 224.5px; color: #000000; background: #ffffff; font-family: Arial; direction: ltr\">\n",
       "<text class=\"displacy-token\" fill=\"currentColor\" text-anchor=\"middle\" y=\"134.5\">\n",
       "    <tspan class=\"displacy-word\" fill=\"currentColor\" x=\"50\">Patient</tspan>\n",
       "    <tspan class=\"displacy-tag\" dy=\"2em\" fill=\"currentColor\" x=\"50\"></tspan>\n",
       "</text>\n",
       "\n",
       "<text class=\"displacy-token\" fill=\"currentColor\" text-anchor=\"middle\" y=\"134.5\">\n",
       "    <tspan class=\"displacy-word\" fill=\"currentColor\" x=\"225\">kan</tspan>\n",
       "    <tspan class=\"displacy-tag\" dy=\"2em\" fill=\"currentColor\" x=\"225\"></tspan>\n",
       "</text>\n",
       "\n",
       "<text class=\"displacy-token\" fill=\"currentColor\" text-anchor=\"middle\" y=\"134.5\">\n",
       "    <tspan class=\"displacy-word\" fill=\"currentColor\" x=\"400\">zich</tspan>\n",
       "    <tspan class=\"displacy-tag\" dy=\"2em\" fill=\"currentColor\" x=\"400\"></tspan>\n",
       "</text>\n",
       "\n",
       "<text class=\"displacy-token\" fill=\"currentColor\" text-anchor=\"middle\" y=\"134.5\">\n",
       "    <tspan class=\"displacy-word\" fill=\"currentColor\" x=\"575\">geen</tspan>\n",
       "    <tspan class=\"displacy-tag\" dy=\"2em\" fill=\"currentColor\" x=\"575\"></tspan>\n",
       "</text>\n",
       "\n",
       "<text class=\"displacy-token\" fill=\"currentColor\" text-anchor=\"middle\" y=\"134.5\">\n",
       "    <tspan class=\"displacy-word\" fill=\"currentColor\" x=\"750\">trauma</tspan>\n",
       "    <tspan class=\"displacy-tag\" dy=\"2em\" fill=\"currentColor\" x=\"750\">CONCEPT</tspan>\n",
       "</text>\n",
       "\n",
       "<text class=\"displacy-token\" fill=\"currentColor\" text-anchor=\"middle\" y=\"134.5\">\n",
       "    <tspan class=\"displacy-word\" fill=\"currentColor\" x=\"925\">herinneren</tspan>\n",
       "    <tspan class=\"displacy-tag\" dy=\"2em\" fill=\"currentColor\" x=\"925\"></tspan>\n",
       "</text>\n",
       "\n",
       "<text class=\"displacy-token\" fill=\"currentColor\" text-anchor=\"middle\" y=\"134.5\">\n",
       "    <tspan class=\"displacy-word\" fill=\"currentColor\" x=\"1100\">.</tspan>\n",
       "    <tspan class=\"displacy-tag\" dy=\"2em\" fill=\"currentColor\" x=\"1100\"></tspan>\n",
       "</text>\n",
       "\n",
       "<text class=\"displacy-token\" fill=\"currentColor\" text-anchor=\"middle\" y=\"134.5\">\n",
       "    <tspan class=\"displacy-word\" fill=\"currentColor\" x=\"1275\">\n",
       "</tspan>\n",
       "    <tspan class=\"displacy-tag\" dy=\"2em\" fill=\"currentColor\" x=\"1275\"></tspan>\n",
       "</text>\n",
       "\n",
       "<g class=\"displacy-arrow\">\n",
       "    <path class=\"displacy-arc\" id=\"arrow-7a78607a01814087882b8c35f229d845-0-0\" stroke-width=\"2px\" d=\"M595,89.5 C595,2.0 750.0,2.0 750.0,89.5\" fill=\"none\" stroke=\"currentColor\"/>\n",
       "    <text dy=\"1.25em\" style=\"font-size: 0.8em; letter-spacing: 1px\">\n",
       "        <textPath xlink:href=\"#arrow-7a78607a01814087882b8c35f229d845-0-0\" class=\"displacy-label\" startOffset=\"50%\" side=\"left\" fill=\"currentColor\" text-anchor=\"middle\">NEGATED_EXISTENCE</textPath>\n",
       "    </text>\n",
       "    <path class=\"displacy-arrowhead\" d=\"M750.0,91.5 L758.0,79.5 742.0,79.5\" fill=\"currentColor\"/>\n",
       "</g>\n",
       "</svg></span>"
      ],
      "text/plain": [
       "<IPython.core.display.HTML object>"
      ]
     },
     "metadata": {},
     "output_type": "display_data"
    }
   ],
   "source": [
    "# Run just the context component; visualize the result\n",
    "visualize_dep(context(example_doc))"
   ]
  },
  {
   "cell_type": "markdown",
   "metadata": {},
   "source": [
    "## Run \"ContextD on all docs"
   ]
  },
  {
   "cell_type": "code",
   "execution_count": 29,
   "metadata": {},
   "outputs": [
    {
     "name": "stdout",
     "output_type": "stream",
     "text": [
      "CPU times: user 872 ms, sys: 3 ms, total: 875 ms\n",
      "Wall time: 873 ms\n"
     ]
    }
   ],
   "source": [
    "%%time\n",
    "docs = []\n",
    "for doc in preproc_docs:\n",
    "    docs.append(context(doc))"
   ]
  },
  {
   "cell_type": "markdown",
   "metadata": {},
   "source": [
    "## Score performance"
   ]
  },
  {
   "cell_type": "markdown",
   "metadata": {},
   "source": [
    "### Negation"
   ]
  },
  {
   "cell_type": "markdown",
   "metadata": {},
   "source": [
    "Table of all predictions:"
   ]
  },
  {
   "cell_type": "code",
   "execution_count": 11,
   "metadata": {},
   "outputs": [],
   "source": [
    "res = []\n",
    "for d in docs:\n",
    "    for e in d.ents:\n",
    "        res.append({'entity_id': e._.entity_id,\n",
    "                    'annotation': 'negated' if e._.negation=='Negated' else 'not negated',\n",
    "                    'rule_based': 'negated' if e._.is_negated else 'not negated'})\n",
    "pd.DataFrame(res).to_csv(result_file, index=False, compression='gzip')"
   ]
  },
  {
   "cell_type": "markdown",
   "metadata": {},
   "source": [
    "#### Total"
   ]
  },
  {
   "cell_type": "code",
   "execution_count": 30,
   "metadata": {},
   "outputs": [],
   "source": [
    "trues = [True if e._.negation=='Negated' else False for d in docs for e in d.ents]\n",
    "trues_all = [(True, e,i,j) if e._.negation=='Negated' else (False,e,i,j) for i,d in enumerate(docs)\n",
    "                                                                 for j,e in enumerate(d.ents)]\n",
    "preds = [e._.is_negated for d in docs for e in d.ents]\n",
    "preds_all = [(True, e,i,j) if e._.is_negated else (False, e,i,j) for i,d in enumerate(docs)\n",
    "                                                                 for j,e in enumerate(d.ents)]\n",
    "target_names = ['not negated', 'negated']"
   ]
  },
  {
   "cell_type": "code",
   "execution_count": 31,
   "metadata": {},
   "outputs": [
    {
     "name": "stdout",
     "output_type": "stream",
     "text": [
      "              precision    recall  f1-score   support\n",
      "\n",
      " not negated       0.98      0.97      0.98     10791\n",
      "     negated       0.82      0.89      0.86      1760\n",
      "\n",
      "    accuracy                           0.96     12551\n",
      "   macro avg       0.90      0.93      0.92     12551\n",
      "weighted avg       0.96      0.96      0.96     12551\n",
      "\n"
     ]
    }
   ],
   "source": [
    "print(classification_report(trues, preds, target_names=target_names))"
   ]
  },
  {
   "cell_type": "markdown",
   "metadata": {},
   "source": [
    "#### Per document type"
   ]
  },
  {
   "cell_type": "code",
   "execution_count": 32,
   "metadata": {},
   "outputs": [
    {
     "name": "stdout",
     "output_type": "stream",
     "text": [
      "Data type: GP\n",
      "              precision    recall  f1-score   support\n",
      "\n",
      " not negated       0.97      0.95      0.96      3013\n",
      "     negated       0.67      0.80      0.73       383\n",
      "\n",
      "    accuracy                           0.93      3396\n",
      "   macro avg       0.82      0.88      0.85      3396\n",
      "weighted avg       0.94      0.93      0.94      3396\n",
      "\n",
      "Data type: SP\n",
      "              precision    recall  f1-score   support\n",
      "\n",
      " not negated       0.97      0.96      0.97      2273\n",
      "     negated       0.81      0.84      0.82       403\n",
      "\n",
      "    accuracy                           0.95      2676\n",
      "   macro avg       0.89      0.90      0.89      2676\n",
      "weighted avg       0.95      0.95      0.95      2676\n",
      "\n"
     ]
    },
    {
     "name": "stderr",
     "output_type": "stream",
     "text": [
      "/home/lcreteig/negation-detection/.venv/lib/python3.8/site-packages/ipykernel/ipkernel.py:283: DeprecationWarning: `should_run_async` will not call `transform_cell` automatically in the future. Please pass the result to `transformed_cell` argument and any exception that happen during thetransform in `preprocessing_exc_tuple` in IPython 7.17 and above.\n",
      "  and should_run_async(code)\n"
     ]
    },
    {
     "name": "stdout",
     "output_type": "stream",
     "text": [
      "Data type: RD\n",
      "              precision    recall  f1-score   support\n",
      "\n",
      " not negated       0.99      0.98      0.99      3088\n",
      "     negated       0.90      0.97      0.93       595\n",
      "\n",
      "    accuracy                           0.98      3683\n",
      "   macro avg       0.95      0.97      0.96      3683\n",
      "weighted avg       0.98      0.98      0.98      3683\n",
      "\n",
      "Data type: DL\n",
      "              precision    recall  f1-score   support\n",
      "\n",
      " not negated       0.99      0.98      0.99      2417\n",
      "     negated       0.89      0.92      0.91       379\n",
      "\n",
      "    accuracy                           0.97      2796\n",
      "   macro avg       0.94      0.95      0.95      2796\n",
      "weighted avg       0.97      0.97      0.97      2796\n",
      "\n"
     ]
    }
   ],
   "source": [
    "data_types = ['GP', 'SP', 'RD', 'DL']\n",
    "results = defaultdict(list)\n",
    "for dt in data_types:\n",
    "    trues = [True if e._.negation=='Negated' else False for d in docs if d._.data_type==dt for e in d.ents]\n",
    "    trues_all = [(True, e,i,j) if e._.negation=='Negated' else (False,e,i,j) \n",
    "                                                                 for i,d in enumerate(docs)\n",
    "                                                                 if d._.data_type==dt\n",
    "                                                                 for j,e in enumerate(d.ents) \n",
    "                                                                  ]\n",
    "    preds = [e._.is_negated for d in docs if d._.data_type==dt for e in d.ents]\n",
    "    preds_all = [(True, e, i,j) if e._.is_negated else (False, e, i,j) \n",
    "                                                                 for i,d in enumerate(docs)\n",
    "                                                                 if d._.data_type==dt                                                                  \n",
    "                                                                 for j,e in enumerate(d.ents)\n",
    "                                                                 ]\n",
    "    \n",
    "    results[dt] = {'trues': trues_all, 'preds': preds_all}\n",
    "    \n",
    "    print(f\"Data type: {dt}\")\n",
    "    print(classification_report(trues, preds, target_names=target_names))"
   ]
  },
  {
   "cell_type": "markdown",
   "metadata": {},
   "source": [
    "Compare to paper: https://bmcbioinformatics.biomedcentral.com/articles/10.1186/s12859-014-0373-3/tables/5"
   ]
  },
  {
   "cell_type": "markdown",
   "metadata": {},
   "source": [
    "- **GP**: \n",
    "    - Precision and recall much worse than in paper. Probably because we haven't added the GP-specific tweaks for the rules yet?\n",
    "    - Also here recall is higher than precision; other way around in paper (for baseline)\n",
    "- **SP**: Performance pretty similar (couple points worse)\n",
    "- **RD**: Performance almost exactly the same as in paper (for final)\n",
    "- **DL**: Performance pretty similar (bit worse)"
   ]
  },
  {
   "cell_type": "markdown",
   "metadata": {},
   "source": [
    "# Failure modes"
   ]
  },
  {
   "cell_type": "code",
   "execution_count": 33,
   "metadata": {},
   "outputs": [],
   "source": [
    "false_negatives = dict()\n",
    "false_positives = dict()\n",
    "false_negatives['GP'] = [t for i,t in enumerate(results['GP']['trues']) if (t[0]!=results['GP']['preds'][i][0]) &\\\n",
    "                                                                           (t[0]==True)]\n",
    "false_positives['GP'] = [t for i,t in enumerate(results['GP']['trues']) if (t[0]!=results['GP']['preds'][i][0]) &\\\n",
    "                                                                           (t[0]==False)]"
   ]
  },
  {
   "cell_type": "code",
   "execution_count": 38,
   "metadata": {},
   "outputs": [
    {
     "data": {
      "text/html": [
       "<span class=\"tex2jax_ignore\"><div class=\"entities\" style=\"line-height: 2.5; direction: ltr\">nachtpijn+, slot-, giving way-, li knie: \n",
       "<mark class=\"entity\" style=\"background: #ddd; padding: 0.45em 0.6em; margin: 0 0.25em; line-height: 1; border-radius: 0.35em;\">\n",
       "    zwelling\n",
       "    <span style=\"font-size: 0.8em; font-weight: bold; line-height: 1; border-radius: 0.35em; text-transform: uppercase; vertical-align: middle; margin-left: 0.5rem\">CONCEPT</span>\n",
       "</mark>\n",
       "-, \n",
       "<mark class=\"entity\" style=\"background: #ddd; padding: 0.45em 0.6em; margin: 0 0.25em; line-height: 1; border-radius: 0.35em;\">\n",
       "    hydrops\n",
       "    <span style=\"font-size: 0.8em; font-weight: bold; line-height: 1; border-radius: 0.35em; text-transform: uppercase; vertical-align: middle; margin-left: 0.5rem\">CONCEPT</span>\n",
       "</mark>\n",
       "-, rood-, warm-, flex eindgevoel verend, pijnlijk, niet beperkt, ext.\n",
       "</div></span>"
      ],
      "text/plain": [
       "<IPython.core.display.HTML object>"
      ]
     },
     "metadata": {},
     "output_type": "display_data"
    },
    {
     "data": {
      "text/plain": [
       "((True, zwelling, 1295, 0), None)"
      ]
     },
     "execution_count": 38,
     "metadata": {},
     "output_type": "execute_result"
    }
   ],
   "source": [
    "n = 10\n",
    "false_negatives['GP'][n], displacy.render(context(docs[false_negatives['GP'][n][2]]), style='ent')"
   ]
  },
  {
   "cell_type": "markdown",
   "metadata": {},
   "source": [
    "## Cross-validation"
   ]
  },
  {
   "cell_type": "code",
   "execution_count": 40,
   "metadata": {},
   "outputs": [
    {
     "name": "stderr",
     "output_type": "stream",
     "text": [
      "100%|████████████████████████████████████████████████████████| 10/10 [00:00<00:00, 13971.70it/s]\n",
      "100%|████████████████████████████████████████████████████| 3983/3983 [00:00<00:00, 25186.59it/s]\n",
      "100%|████████████████████████████████████████████████████| 4001/4001 [00:00<00:00, 31044.20it/s]\n",
      "100%|████████████████████████████████████████████████████| 4000/4000 [00:00<00:00, 33050.67it/s]\n",
      "100%|████████████████████████████████████████████████████| 2999/2999 [00:00<00:00, 31945.22it/s]\n",
      "100%|███████████████████████████████████████████████████████████| 1/1 [00:00<00:00, 7037.42it/s]\n",
      "0it [00:00, ?it/s]\n",
      "100%|██████████████████████████████████████████████████████████| 3/3 [00:00<00:00, 16754.88it/s]\n",
      "100%|██████████████████████████████████████████████████████████| 4/4 [00:00<00:00, 20360.70it/s]\n",
      "100%|██████████████████████████████████████████████████████████| 6/6 [00:00<00:00, 20971.52it/s]\n",
      "100%|██████████████████████████████████████████████████████████| 5/5 [00:00<00:00, 17757.43it/s]\n",
      "100%|██████████████████████████████████████████████████████████| 3/3 [00:00<00:00, 18236.10it/s]\n"
     ]
    }
   ],
   "source": [
    "# load folds per letter type\n",
    "# docs[0]._.doc_id is in fold_test list\n",
    "dcc_path = \"../../data\"\n",
    "ids_df = utils.DataSetSplitter.get_ids_dataframe(corpus_path = dcc_path)"
   ]
  },
  {
   "cell_type": "code",
   "execution_count": 148,
   "metadata": {},
   "outputs": [
    {
     "name": "stderr",
     "output_type": "stream",
     "text": [
      "1000it [00:00, 2187.46it/s]\n",
      "1000it [00:00, 1788.16it/s]\n",
      "1000it [00:00, 2277.40it/s]\n",
      "1000it [00:00, 1868.85it/s]\n"
     ]
    }
   ],
   "source": [
    "n_reps = 100\n",
    "n_folds = 10\n",
    "intra_folds = utils.DataSetSplitter.get_intra_group_folds(ids_df = ids_df,\n",
    "                                                          num_reps = n_reps,\n",
    "                                                          num_folds = n_folds)"
   ]
  },
  {
   "cell_type": "code",
   "execution_count": 149,
   "metadata": {},
   "outputs": [],
   "source": [
    "# make docs searchable by doc_id\n",
    "docs_plus = defaultdict(list)\n",
    "for d in docs: \n",
    "    for e in d.ents:\n",
    "        docs_plus[d._.doc_id] += [e]      "
   ]
  },
  {
   "cell_type": "code",
   "execution_count": 150,
   "metadata": {},
   "outputs": [],
   "source": [
    "def get_preds_trues(documents, val_list):\n",
    "    # process all ents per doc, append to res lists\n",
    "    trues, preds = [], []\n",
    "    for v in val_list:\n",
    "        for e in documents[v]:\n",
    "            trues.append(e._.negation=='Negated')\n",
    "            preds.append(e._.is_negated)\n",
    "    return np.array(trues, dtype=bool), np.array(preds, dtype=bool)"
   ]
  },
  {
   "cell_type": "code",
   "execution_count": 151,
   "metadata": {},
   "outputs": [],
   "source": [
    "from sklearn.metrics import f1_score, precision_score, recall_score, accuracy_score"
   ]
  },
  {
   "cell_type": "code",
   "execution_count": 152,
   "metadata": {},
   "outputs": [],
   "source": [
    "def specificity_score(trues,preds):\n",
    "    return sum(trues==False)/(sum(trues==False) + sum((preds!=trues) & (trues==False)))\n",
    "\n",
    "def sensitivity_score(trues,preds):\n",
    "    return sum(trues==True)/(sum(trues==True) + sum((preds!=trues) & (trues==True)))  "
   ]
  },
  {
   "cell_type": "code",
   "execution_count": 153,
   "metadata": {},
   "outputs": [],
   "source": [
    "metrics_list = []\n",
    "for g in ['GP', 'SP', 'RD', 'DL']:\n",
    "    for k in range(n_reps*n_folds):\n",
    "        _trues, _preds = get_preds_trues(documents=docs_plus, \n",
    "                                         val_list=intra_folds[g][k][1])\n",
    "\n",
    "        f1  = f1_score(_trues, _preds)\n",
    "        acc = accuracy_score(_trues, _preds)\n",
    "        precision = precision_score(_trues, _preds)\n",
    "        specificity = specificity_score(_trues, _preds)\n",
    "        sensitivity = sensitivity_score(_trues, _preds)\n",
    "        recall = recall_score(_trues, _preds)\n",
    "        metrics_list.append({'f1': f1, \n",
    "                             'acc': acc,\n",
    "                             'precision': precision, \n",
    "                             'recall': recall, \n",
    "                             'specificity': specificity,\n",
    "                             'sensitivity': sensitivity,\n",
    "                             'group': g})\n",
    "        \n",
    "scores = pd.DataFrame(metrics_list)"
   ]
  },
  {
   "cell_type": "code",
   "execution_count": 157,
   "metadata": {},
   "outputs": [
    {
     "data": {
      "text/html": [
       "<div>\n",
       "<style scoped>\n",
       "    .dataframe tbody tr th:only-of-type {\n",
       "        vertical-align: middle;\n",
       "    }\n",
       "\n",
       "    .dataframe tbody tr th {\n",
       "        vertical-align: top;\n",
       "    }\n",
       "\n",
       "    .dataframe thead th {\n",
       "        text-align: right;\n",
       "    }\n",
       "</style>\n",
       "<table border=\"1\" class=\"dataframe\">\n",
       "  <thead>\n",
       "    <tr style=\"text-align: right;\">\n",
       "      <th></th>\n",
       "      <th>f1</th>\n",
       "      <th>acc</th>\n",
       "      <th>precision</th>\n",
       "      <th>recall</th>\n",
       "      <th>specificity</th>\n",
       "      <th>sensitivity</th>\n",
       "    </tr>\n",
       "    <tr>\n",
       "      <th>group</th>\n",
       "      <th></th>\n",
       "      <th></th>\n",
       "      <th></th>\n",
       "      <th></th>\n",
       "      <th></th>\n",
       "      <th></th>\n",
       "    </tr>\n",
       "  </thead>\n",
       "  <tbody>\n",
       "    <tr>\n",
       "      <th>DL</th>\n",
       "      <td>0.820194</td>\n",
       "      <td>0.945518</td>\n",
       "      <td>0.809983</td>\n",
       "      <td>0.836718</td>\n",
       "      <td>0.966371</td>\n",
       "      <td>0.863153</td>\n",
       "    </tr>\n",
       "    <tr>\n",
       "      <th>GP</th>\n",
       "      <td>0.784377</td>\n",
       "      <td>0.941111</td>\n",
       "      <td>0.751367</td>\n",
       "      <td>0.824784</td>\n",
       "      <td>0.960445</td>\n",
       "      <td>0.853367</td>\n",
       "    </tr>\n",
       "    <tr>\n",
       "      <th>RD</th>\n",
       "      <td>0.803948</td>\n",
       "      <td>0.944945</td>\n",
       "      <td>0.783360</td>\n",
       "      <td>0.830513</td>\n",
       "      <td>0.964727</td>\n",
       "      <td>0.857817</td>\n",
       "    </tr>\n",
       "    <tr>\n",
       "      <th>SP</th>\n",
       "      <td>0.820194</td>\n",
       "      <td>0.945518</td>\n",
       "      <td>0.809983</td>\n",
       "      <td>0.836718</td>\n",
       "      <td>0.966371</td>\n",
       "      <td>0.863153</td>\n",
       "    </tr>\n",
       "  </tbody>\n",
       "</table>\n",
       "</div>"
      ],
      "text/plain": [
       "             f1       acc  precision    recall  specificity  sensitivity\n",
       "group                                                                   \n",
       "DL     0.820194  0.945518   0.809983  0.836718     0.966371     0.863153\n",
       "GP     0.784377  0.941111   0.751367  0.824784     0.960445     0.853367\n",
       "RD     0.803948  0.944945   0.783360  0.830513     0.964727     0.857817\n",
       "SP     0.820194  0.945518   0.809983  0.836718     0.966371     0.863153"
      ]
     },
     "execution_count": 157,
     "metadata": {},
     "output_type": "execute_result"
    }
   ],
   "source": [
    "scores.groupby('group').mean()"
   ]
  },
  {
   "cell_type": "markdown",
   "metadata": {},
   "source": [
    "## Visualise scores"
   ]
  },
  {
   "cell_type": "code",
   "execution_count": 154,
   "metadata": {},
   "outputs": [],
   "source": [
    "import matplotlib.pyplot as plt\n",
    "import seaborn as sns"
   ]
  },
  {
   "cell_type": "code",
   "execution_count": 156,
   "metadata": {},
   "outputs": [
    {
     "data": {
      "text/plain": [
       "Text(0.5, 1.0, 'sensitivity score')"
      ]
     },
     "execution_count": 156,
     "metadata": {},
     "output_type": "execute_result"
    },
    {
     "data": {
      "image/png": "[encoded data removed]",
      "text/plain": [
       "<Figure size 1440x1512 with 6 Axes>"
      ]
     },
     "metadata": {
      "needs_background": "light"
     },
     "output_type": "display_data"
    }
   ],
   "source": [
    "fig, ax = plt.subplots(ncols=2, nrows=3, figsize=(20,21))\n",
    "\n",
    "scores['f1'].hist(ax=ax[0,0], density=True, color='grey')\n",
    "scores['acc'].hist(ax=ax[0,1], density=True, color='grey')\n",
    "scores['precision'].hist(ax=ax[1,0], density=True, color='grey')\n",
    "scores['recall'].hist(ax=ax[1,1], density=True, color='grey')\n",
    "scores['specificity'].hist(ax=ax[2,0], density=True, color='grey')\n",
    "scores['sensitivity'].hist(ax=ax[2,1], density=True, color='grey')\n",
    "\n",
    "scores['f1'].plot.kde(ax=ax[0,0], color='black', lw=5)\n",
    "scores['acc'].plot.kde(ax=ax[0,1], color='black', lw=5)\n",
    "scores['precision'].plot.kde(ax=ax[1,0], color='black', lw=5)\n",
    "scores['recall'].plot.kde(ax=ax[1,1], color='black', lw=5)\n",
    "scores['specificity'].plot.kde(ax=ax[2,0], color='black', lw=5)\n",
    "scores['sensitivity'].plot.kde(ax=ax[2,1], color='black', lw=5)\n",
    "\n",
    "ax[0,0].set_title('f1 score')\n",
    "ax[0,1].set_title('accuracy score')\n",
    "ax[1,0].set_title('precision score')\n",
    "ax[1,1].set_title('recall score')\n",
    "ax[2,0].set_title('specificity score')\n",
    "ax[2,1].set_title('sensitivity score')\n"
   ]
  },
  {
   "cell_type": "code",
   "execution_count": 158,
   "metadata": {},
   "outputs": [],
   "source": [
    "import joypy"
   ]
  },
  {
   "cell_type": "code",
   "execution_count": 165,
   "metadata": {},
   "outputs": [
    {
     "data": {
      "text/html": [
       "<div>\n",
       "<style scoped>\n",
       "    .dataframe tbody tr th:only-of-type {\n",
       "        vertical-align: middle;\n",
       "    }\n",
       "\n",
       "    .dataframe tbody tr th {\n",
       "        vertical-align: top;\n",
       "    }\n",
       "\n",
       "    .dataframe thead th {\n",
       "        text-align: right;\n",
       "    }\n",
       "</style>\n",
       "<table border=\"1\" class=\"dataframe\">\n",
       "  <thead>\n",
       "    <tr style=\"text-align: right;\">\n",
       "      <th>group</th>\n",
       "      <th>DL</th>\n",
       "      <th>GP</th>\n",
       "      <th>RD</th>\n",
       "      <th>SP</th>\n",
       "    </tr>\n",
       "  </thead>\n",
       "  <tbody>\n",
       "    <tr>\n",
       "      <th>0</th>\n",
       "      <td>NaN</td>\n",
       "      <td>0.785714</td>\n",
       "      <td>NaN</td>\n",
       "      <td>NaN</td>\n",
       "    </tr>\n",
       "    <tr>\n",
       "      <th>1</th>\n",
       "      <td>NaN</td>\n",
       "      <td>0.821192</td>\n",
       "      <td>NaN</td>\n",
       "      <td>NaN</td>\n",
       "    </tr>\n",
       "    <tr>\n",
       "      <th>2</th>\n",
       "      <td>NaN</td>\n",
       "      <td>0.846154</td>\n",
       "      <td>NaN</td>\n",
       "      <td>NaN</td>\n",
       "    </tr>\n",
       "    <tr>\n",
       "      <th>3</th>\n",
       "      <td>NaN</td>\n",
       "      <td>0.740741</td>\n",
       "      <td>NaN</td>\n",
       "      <td>NaN</td>\n",
       "    </tr>\n",
       "    <tr>\n",
       "      <th>4</th>\n",
       "      <td>NaN</td>\n",
       "      <td>0.729167</td>\n",
       "      <td>NaN</td>\n",
       "      <td>NaN</td>\n",
       "    </tr>\n",
       "    <tr>\n",
       "      <th>...</th>\n",
       "      <td>...</td>\n",
       "      <td>...</td>\n",
       "      <td>...</td>\n",
       "      <td>...</td>\n",
       "    </tr>\n",
       "    <tr>\n",
       "      <th>3995</th>\n",
       "      <td>0.851064</td>\n",
       "      <td>NaN</td>\n",
       "      <td>NaN</td>\n",
       "      <td>NaN</td>\n",
       "    </tr>\n",
       "    <tr>\n",
       "      <th>3996</th>\n",
       "      <td>0.803922</td>\n",
       "      <td>NaN</td>\n",
       "      <td>NaN</td>\n",
       "      <td>NaN</td>\n",
       "    </tr>\n",
       "    <tr>\n",
       "      <th>3997</th>\n",
       "      <td>0.845361</td>\n",
       "      <td>NaN</td>\n",
       "      <td>NaN</td>\n",
       "      <td>NaN</td>\n",
       "    </tr>\n",
       "    <tr>\n",
       "      <th>3998</th>\n",
       "      <td>0.757576</td>\n",
       "      <td>NaN</td>\n",
       "      <td>NaN</td>\n",
       "      <td>NaN</td>\n",
       "    </tr>\n",
       "    <tr>\n",
       "      <th>3999</th>\n",
       "      <td>0.835165</td>\n",
       "      <td>NaN</td>\n",
       "      <td>NaN</td>\n",
       "      <td>NaN</td>\n",
       "    </tr>\n",
       "  </tbody>\n",
       "</table>\n",
       "<p>4000 rows × 4 columns</p>\n",
       "</div>"
      ],
      "text/plain": [
       "group        DL        GP  RD  SP\n",
       "0           NaN  0.785714 NaN NaN\n",
       "1           NaN  0.821192 NaN NaN\n",
       "2           NaN  0.846154 NaN NaN\n",
       "3           NaN  0.740741 NaN NaN\n",
       "4           NaN  0.729167 NaN NaN\n",
       "...         ...       ...  ..  ..\n",
       "3995   0.851064       NaN NaN NaN\n",
       "3996   0.803922       NaN NaN NaN\n",
       "3997   0.845361       NaN NaN NaN\n",
       "3998   0.757576       NaN NaN NaN\n",
       "3999   0.835165       NaN NaN NaN\n",
       "\n",
       "[4000 rows x 4 columns]"
      ]
     },
     "execution_count": 165,
     "metadata": {},
     "output_type": "execute_result"
    }
   ],
   "source": []
  },
  {
   "cell_type": "code",
   "execution_count": 167,
   "metadata": {},
   "outputs": [
    {
     "data": {
      "text/plain": [
       "Text(0.5, 0.98, 'F1 score')"
      ]
     },
     "execution_count": 167,
     "metadata": {},
     "output_type": "execute_result"
    },
    {
     "data": {
      "image/png": "[encoded data removed]",
      "text/plain": [
       "<Figure size 432x288 with 5 Axes>"
      ]
     },
     "metadata": {
      "needs_background": "light"
     },
     "output_type": "display_data"
    }
   ],
   "source": [
    "fig, axes = joypy.joyplot(scores[['f1', 'group']].pivot(columns='group', values='f1'))\n",
    "fig.suptitle('F1 score')"
   ]
  },
  {
   "cell_type": "code",
   "execution_count": 169,
   "metadata": {},
   "outputs": [
    {
     "data": {
      "text/plain": [
       "Text(0.5, 0.98, 'Accuracy score')"
      ]
     },
     "execution_count": 169,
     "metadata": {},
     "output_type": "execute_result"
    },
    {
     "data": {
      "image/png": "[encoded data removed]",
      "text/plain": [
       "<Figure size 432x288 with 5 Axes>"
      ]
     },
     "metadata": {
      "needs_background": "light"
     },
     "output_type": "display_data"
    }
   ],
   "source": [
    "fig, axes = joypy.joyplot(scores[['acc', 'group']].pivot(columns='group', values='acc'))\n",
    "fig.suptitle('Accuracy score')"
   ]
  },
  {
   "cell_type": "code",
   "execution_count": 170,
   "metadata": {},
   "outputs": [
    {
     "data": {
      "text/plain": [
       "Text(0.5, 0.98, 'Precision score')"
      ]
     },
     "execution_count": 170,
     "metadata": {},
     "output_type": "execute_result"
    },
    {
     "data": {
      "image/png": "[encoded data removed]",
      "text/plain": [
       "<Figure size 432x288 with 5 Axes>"
      ]
     },
     "metadata": {
      "needs_background": "light"
     },
     "output_type": "display_data"
    }
   ],
   "source": [
    "fig, axes = joypy.joyplot(scores[['precision', 'group']].pivot(columns='group', values='precision'))\n",
    "fig.suptitle('Precision score')"
   ]
  }
 ],
 "metadata": {
  "jupytext": {
   "encoding": "# -*- coding: utf-8 -*-",
   "formats": "ipynb,py:percent"
  },
  "kernelspec": {
   "display_name": "medspacy",
   "language": "python",
   "name": "medspacy"
  },
  "language_info": {
   "codemirror_mode": {
    "name": "ipython",
    "version": 3
   },
   "file_extension": ".py",
   "mimetype": "text/x-python",
   "name": "python",
   "nbconvert_exporter": "python",
   "pygments_lexer": "ipython3",
   "version": "3.8.10"
  }
 },
 "nbformat": 4,
 "nbformat_minor": 4
}
