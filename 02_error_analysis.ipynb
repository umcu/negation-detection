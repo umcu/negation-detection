{
 "cells": [
  {
   "cell_type": "code",
   "execution_count": 1,
   "id": "c76830f3",
   "metadata": {},
   "outputs": [
    {
     "data": {
      "text/html": [
       "<div>\n",
       "<style scoped>\n",
       "    .dataframe tbody tr th:only-of-type {\n",
       "        vertical-align: middle;\n",
       "    }\n",
       "\n",
       "    .dataframe tbody tr th {\n",
       "        vertical-align: top;\n",
       "    }\n",
       "\n",
       "    .dataframe thead th {\n",
       "        text-align: right;\n",
       "    }\n",
       "</style>\n",
       "<table border=\"1\" class=\"dataframe\">\n",
       "  <thead>\n",
       "    <tr style=\"text-align: right;\">\n",
       "      <th></th>\n",
       "      <th>entity_id</th>\n",
       "      <th>category</th>\n",
       "      <th>label</th>\n",
       "      <th>bilstm</th>\n",
       "      <th>bilstm_cv</th>\n",
       "      <th>rule_based</th>\n",
       "      <th>robbert_512_2</th>\n",
       "      <th>robbert_128_2</th>\n",
       "      <th>robbert_32_2</th>\n",
       "    </tr>\n",
       "  </thead>\n",
       "  <tbody>\n",
       "    <tr>\n",
       "      <th>0</th>\n",
       "      <td>DL1111_32_46</td>\n",
       "      <td>DL</td>\n",
       "      <td>not negated</td>\n",
       "      <td>not negated</td>\n",
       "      <td>not negated</td>\n",
       "      <td>not negated</td>\n",
       "      <td>not negated</td>\n",
       "      <td>not negated</td>\n",
       "      <td>not negated</td>\n",
       "    </tr>\n",
       "    <tr>\n",
       "      <th>1</th>\n",
       "      <td>DL1111_272_280</td>\n",
       "      <td>DL</td>\n",
       "      <td>not negated</td>\n",
       "      <td>not negated</td>\n",
       "      <td>not negated</td>\n",
       "      <td>not negated</td>\n",
       "      <td>not negated</td>\n",
       "      <td>not negated</td>\n",
       "      <td>NaN</td>\n",
       "    </tr>\n",
       "    <tr>\n",
       "      <th>2</th>\n",
       "      <td>DL1111_363_377</td>\n",
       "      <td>DL</td>\n",
       "      <td>not negated</td>\n",
       "      <td>not negated</td>\n",
       "      <td>not negated</td>\n",
       "      <td>not negated</td>\n",
       "      <td>not negated</td>\n",
       "      <td>not negated</td>\n",
       "      <td>NaN</td>\n",
       "    </tr>\n",
       "    <tr>\n",
       "      <th>3</th>\n",
       "      <td>DL1112_22_28</td>\n",
       "      <td>DL</td>\n",
       "      <td>negated</td>\n",
       "      <td>negated</td>\n",
       "      <td>negated</td>\n",
       "      <td>negated</td>\n",
       "      <td>negated</td>\n",
       "      <td>negated</td>\n",
       "      <td>negated</td>\n",
       "    </tr>\n",
       "    <tr>\n",
       "      <th>4</th>\n",
       "      <td>DL1113_59_67</td>\n",
       "      <td>DL</td>\n",
       "      <td>not negated</td>\n",
       "      <td>not negated</td>\n",
       "      <td>not negated</td>\n",
       "      <td>not negated</td>\n",
       "      <td>not negated</td>\n",
       "      <td>not negated</td>\n",
       "      <td>not negated</td>\n",
       "    </tr>\n",
       "  </tbody>\n",
       "</table>\n",
       "</div>"
      ],
      "text/plain": [
       "        entity_id category        label       bilstm    bilstm_cv  \\\n",
       "0    DL1111_32_46       DL  not negated  not negated  not negated   \n",
       "1  DL1111_272_280       DL  not negated  not negated  not negated   \n",
       "2  DL1111_363_377       DL  not negated  not negated  not negated   \n",
       "3    DL1112_22_28       DL      negated      negated      negated   \n",
       "4    DL1113_59_67       DL  not negated  not negated  not negated   \n",
       "\n",
       "    rule_based robbert_512_2 robbert_128_2 robbert_32_2  \n",
       "0  not negated   not negated   not negated  not negated  \n",
       "1  not negated   not negated   not negated          NaN  \n",
       "2  not negated   not negated   not negated          NaN  \n",
       "3      negated       negated       negated      negated  \n",
       "4  not negated   not negated   not negated  not negated  "
      ]
     },
     "execution_count": 1,
     "metadata": {},
     "output_type": "execute_result"
    }
   ],
   "source": [
    "from pathlib import Path\n",
    "from evaluation_utils import get_document_text\n",
    "import pandas as pd\n",
    "import numpy as np\n",
    "import json\n",
    "\n",
    "dcc_dir = Path('data') / 'EMCDutchClinicalCorpus'\n",
    "data_dir = Path('data')\n",
    "result_dir = Path('results')\n",
    "bilstm_result_file = result_dir / 'bilstm_predictions_cv.csv.gz'\n",
    "robbert_result_file = result_dir / 'robbert_predictions.csv.gz'\n",
    "merged_result_file = result_dir / 'merged_results.csv.gz'\n",
    "annotation_file = data_dir / 'emc-dcc_ann.json'\n",
    "\n",
    "# Load results\n",
    "results = pd.read_csv(merged_result_file)\n",
    "results.head()"
   ]
  },
  {
   "cell_type": "markdown",
   "id": "a212a815",
   "metadata": {},
   "source": [
    "# RobBERT"
   ]
  },
  {
   "cell_type": "code",
   "execution_count": 2,
   "id": "1e16c59d",
   "metadata": {},
   "outputs": [
    {
     "name": "stdout",
     "output_type": "stream",
     "text": [
      "12551 entity_id           0\n",
      "category            0\n",
      "label               0\n",
      "bilstm              0\n",
      "bilstm_cv           0\n",
      "rule_based          0\n",
      "robbert_512_2    1634\n",
      "robbert_128_2    2212\n",
      "robbert_32_2     6194\n",
      "dtype: int64\n"
     ]
    },
    {
     "data": {
      "text/html": [
       "<div>\n",
       "<style scoped>\n",
       "    .dataframe tbody tr th:only-of-type {\n",
       "        vertical-align: middle;\n",
       "    }\n",
       "\n",
       "    .dataframe tbody tr th {\n",
       "        vertical-align: top;\n",
       "    }\n",
       "\n",
       "    .dataframe thead th {\n",
       "        text-align: right;\n",
       "    }\n",
       "</style>\n",
       "<table border=\"1\" class=\"dataframe\">\n",
       "  <thead>\n",
       "    <tr style=\"text-align: right;\">\n",
       "      <th></th>\n",
       "      <th>entity_id</th>\n",
       "      <th>category</th>\n",
       "      <th>label</th>\n",
       "      <th>bilstm</th>\n",
       "      <th>bilstm_cv</th>\n",
       "      <th>rule_based</th>\n",
       "      <th>robbert_512_2</th>\n",
       "      <th>robbert_128_2</th>\n",
       "      <th>robbert_32_2</th>\n",
       "    </tr>\n",
       "  </thead>\n",
       "  <tbody>\n",
       "    <tr>\n",
       "      <th>0</th>\n",
       "      <td>DL1111_32_46</td>\n",
       "      <td>DL</td>\n",
       "      <td>not negated</td>\n",
       "      <td>not negated</td>\n",
       "      <td>not negated</td>\n",
       "      <td>not negated</td>\n",
       "      <td>not negated</td>\n",
       "      <td>not negated</td>\n",
       "      <td>not negated</td>\n",
       "    </tr>\n",
       "    <tr>\n",
       "      <th>1</th>\n",
       "      <td>DL1111_272_280</td>\n",
       "      <td>DL</td>\n",
       "      <td>not negated</td>\n",
       "      <td>not negated</td>\n",
       "      <td>not negated</td>\n",
       "      <td>not negated</td>\n",
       "      <td>not negated</td>\n",
       "      <td>not negated</td>\n",
       "      <td>NaN</td>\n",
       "    </tr>\n",
       "    <tr>\n",
       "      <th>2</th>\n",
       "      <td>DL1111_363_377</td>\n",
       "      <td>DL</td>\n",
       "      <td>not negated</td>\n",
       "      <td>not negated</td>\n",
       "      <td>not negated</td>\n",
       "      <td>not negated</td>\n",
       "      <td>not negated</td>\n",
       "      <td>not negated</td>\n",
       "      <td>NaN</td>\n",
       "    </tr>\n",
       "    <tr>\n",
       "      <th>3</th>\n",
       "      <td>DL1112_22_28</td>\n",
       "      <td>DL</td>\n",
       "      <td>negated</td>\n",
       "      <td>negated</td>\n",
       "      <td>negated</td>\n",
       "      <td>negated</td>\n",
       "      <td>negated</td>\n",
       "      <td>negated</td>\n",
       "      <td>negated</td>\n",
       "    </tr>\n",
       "    <tr>\n",
       "      <th>4</th>\n",
       "      <td>DL1113_59_67</td>\n",
       "      <td>DL</td>\n",
       "      <td>not negated</td>\n",
       "      <td>not negated</td>\n",
       "      <td>not negated</td>\n",
       "      <td>not negated</td>\n",
       "      <td>not negated</td>\n",
       "      <td>not negated</td>\n",
       "      <td>not negated</td>\n",
       "    </tr>\n",
       "  </tbody>\n",
       "</table>\n",
       "</div>"
      ],
      "text/plain": [
       "        entity_id category        label       bilstm    bilstm_cv  \\\n",
       "0    DL1111_32_46       DL  not negated  not negated  not negated   \n",
       "1  DL1111_272_280       DL  not negated  not negated  not negated   \n",
       "2  DL1111_363_377       DL  not negated  not negated  not negated   \n",
       "3    DL1112_22_28       DL      negated      negated      negated   \n",
       "4    DL1113_59_67       DL  not negated  not negated  not negated   \n",
       "\n",
       "    rule_based robbert_512_2 robbert_128_2 robbert_32_2  \n",
       "0  not negated   not negated   not negated  not negated  \n",
       "1  not negated   not negated   not negated          NaN  \n",
       "2  not negated   not negated   not negated          NaN  \n",
       "3      negated       negated       negated      negated  \n",
       "4  not negated   not negated   not negated  not negated  "
      ]
     },
     "execution_count": 2,
     "metadata": {},
     "output_type": "execute_result"
    }
   ],
   "source": [
    "results = pd.read_csv(robbert_result_file)\n",
    "print(results.shape[0], results.isna().sum())\n",
    "results.head()"
   ]
  },
  {
   "cell_type": "markdown",
   "id": "da58e4b7",
   "metadata": {},
   "source": [
    "## Overall"
   ]
  },
  {
   "cell_type": "code",
   "execution_count": 3,
   "id": "d0e4a9a5",
   "metadata": {},
   "outputs": [
    {
     "data": {
      "text/plain": [
       "array(['DL', 'GP', 'RD', 'SP'], dtype=object)"
      ]
     },
     "execution_count": 3,
     "metadata": {},
     "output_type": "execute_result"
    }
   ],
   "source": [
    "results.category.unique()"
   ]
  },
  {
   "cell_type": "code",
   "execution_count": 4,
   "id": "28dea63a",
   "metadata": {},
   "outputs": [
    {
     "name": "stdout",
     "output_type": "stream",
     "text": [
      "==================================================\n",
      "Overall accuracy\n",
      "==================================================\n",
      "\tTP:1534 \tFP:77 \n",
      "\n",
      "\tFN:118 \t\tTN:9188 \n",
      "\n",
      "--------------------------------------------------------------------------------\n",
      "ACC:0.982,\tSENS:0.929,\tSPEC:0.992,\tPPV:0.952,\tNPV:0.987\n",
      "--------------------------------------------------------------------------------\n",
      "\n",
      "==================================================\n",
      "DL accuracy\n",
      "==================================================\n",
      "\tTP:364 \t\tFP:17 \n",
      "\n",
      "\tFN:11 \t\tTN:2237 \n",
      "\n",
      "--------------------------------------------------------------------------------\n",
      "ACC:0.989,\tSENS:0.971,\tSPEC:0.992,\tPPV:0.955,\tNPV:0.995\n",
      "--------------------------------------------------------------------------------\n",
      "\n",
      "==================================================\n",
      "SP accuracy\n",
      "==================================================\n",
      "\tTP:322 \t\tFP:22 \n",
      "\n",
      "\tFN:44 \t\tTN:1913 \n",
      "\n",
      "--------------------------------------------------------------------------------\n",
      "ACC:0.971,\tSENS:0.88,\tSPEC:0.989,\tPPV:0.936,\tNPV:0.978\n",
      "--------------------------------------------------------------------------------\n",
      "\n",
      "==================================================\n",
      "RD accuracy\n",
      "==================================================\n",
      "\tTP:551 \t\tFP:21 \n",
      "\n",
      "\tFN:24 \t\tTN:2604 \n",
      "\n",
      "--------------------------------------------------------------------------------\n",
      "ACC:0.986,\tSENS:0.958,\tSPEC:0.992,\tPPV:0.963,\tNPV:0.991\n",
      "--------------------------------------------------------------------------------\n",
      "\n",
      "==================================================\n",
      "GP accuracy\n",
      "==================================================\n",
      "\tTP:297 \t\tFP:17 \n",
      "\n",
      "\tFN:39 \t\tTN:2434 \n",
      "\n",
      "--------------------------------------------------------------------------------\n",
      "ACC:0.98,\tSENS:0.884,\tSPEC:0.993,\tPPV:0.946,\tNPV:0.991\n",
      "--------------------------------------------------------------------------------\n",
      "\n"
     ]
    }
   ],
   "source": [
    "FN = results[(results.label=='negated') & (results.robbert_512_2=='not negated')].shape[0]\n",
    "TN = results[(results.label=='not negated') & (results.robbert_512_2=='not negated')].shape[0]\n",
    "FP = results[(results.label=='not negated') & (results.robbert_512_2=='negated')].shape[0]\n",
    "TP = results[(results.label=='negated') & (results.robbert_512_2=='negated')].shape[0]\n",
    "\n",
    "print(\"=\"*50)\n",
    "print(\"Overall accuracy\")\n",
    "print(\"=\"*50)\n",
    "print(f\"\\tTP:{TP} \\tFP:{FP} \\n\\n\\tFN:{FN} \\t\\tTN:{TN} \\n\")\n",
    "\n",
    "ACC = (TP+TN)/(TP+TN+FP+FN)\n",
    "SPEC = TN/(TN+FP)\n",
    "SENS = TP/(TP+FN)\n",
    "PPV = TP/(TP+FP)\n",
    "NPV = TN/(TN+FN)\n",
    "print(\"-\"*80)\n",
    "print(f\"ACC:{round(ACC,3)},\\tSENS:{round(SENS,3)},\\tSPEC:{round(SPEC,3)},\\tPPV:{round(PPV,3)},\\tNPV:{round(NPV,3)}\")\n",
    "print(\"-\"*80+\"\\n\")\n",
    "\n",
    "#################\n",
    "\n",
    "FN = results[(results.category=='DL') & (results.label=='negated') & (results.robbert_512_2=='not negated')].shape[0]\n",
    "TN = results[(results.category=='DL') & (results.label=='not negated') & (results.robbert_512_2=='not negated')].shape[0]\n",
    "FP = results[(results.category=='DL') & (results.label=='not negated') & (results.robbert_512_2=='negated')].shape[0]\n",
    "TP = results[(results.category=='DL') & (results.label=='negated') & (results.robbert_512_2=='negated')].shape[0]\n",
    "\n",
    "print(\"=\"*50)\n",
    "print(\"DL accuracy\")\n",
    "print(\"=\"*50)\n",
    "print(f\"\\tTP:{TP} \\t\\tFP:{FP} \\n\\n\\tFN:{FN} \\t\\tTN:{TN} \\n\")\n",
    "\n",
    "ACC = (TP+TN)/(TP+TN+FP+FN)\n",
    "SPEC = TN/(TN+FP)\n",
    "SENS = TP/(TP+FN)\n",
    "PPV = TP/(TP+FP)\n",
    "NPV = TN/(TN+FN)\n",
    "print(\"-\"*80)\n",
    "print(f\"ACC:{round(ACC,3)},\\tSENS:{round(SENS,3)},\\tSPEC:{round(SPEC,3)},\\tPPV:{round(PPV,3)},\\tNPV:{round(NPV,3)}\")\n",
    "print(\"-\"*80+\"\\n\")\n",
    "\n",
    "#################\n",
    "\n",
    "FN = results[(results.category=='SP') & (results.label=='negated') & (results.robbert_512_2=='not negated')].shape[0]\n",
    "TN = results[(results.category=='SP') & (results.label=='not negated') & (results.robbert_512_2=='not negated')].shape[0]\n",
    "FP = results[(results.category=='SP') & (results.label=='not negated') & (results.robbert_512_2=='negated')].shape[0]\n",
    "TP = results[(results.category=='SP') & (results.label=='negated') & (results.robbert_512_2=='negated')].shape[0]\n",
    "\n",
    "print(\"=\"*50)\n",
    "print(\"SP accuracy\")\n",
    "print(\"=\"*50)\n",
    "print(f\"\\tTP:{TP} \\t\\tFP:{FP} \\n\\n\\tFN:{FN} \\t\\tTN:{TN} \\n\")\n",
    "\n",
    "ACC = (TP+TN)/(TP+TN+FP+FN)\n",
    "SPEC = TN/(TN+FP)\n",
    "SENS = TP/(TP+FN)\n",
    "PPV = TP/(TP+FP)\n",
    "NPV = TN/(TN+FN)\n",
    "print(\"-\"*80)\n",
    "print(f\"ACC:{round(ACC,3)},\\tSENS:{round(SENS,3)},\\tSPEC:{round(SPEC,3)},\\tPPV:{round(PPV,3)},\\tNPV:{round(NPV,3)}\")\n",
    "print(\"-\"*80+\"\\n\")\n",
    "\n",
    "#################\n",
    "\n",
    "FN = results[(results.category=='RD') & (results.label=='negated') & (results.robbert_512_2=='not negated')].shape[0]\n",
    "TN = results[(results.category=='RD') & (results.label=='not negated') & (results.robbert_512_2=='not negated')].shape[0]\n",
    "FP = results[(results.category=='RD') & (results.label=='not negated') & (results.robbert_512_2=='negated')].shape[0]\n",
    "TP = results[(results.category=='RD') & (results.label=='negated') & (results.robbert_512_2=='negated')].shape[0]\n",
    "\n",
    "print(\"=\"*50)\n",
    "print(\"RD accuracy\")\n",
    "print(\"=\"*50)\n",
    "print(f\"\\tTP:{TP} \\t\\tFP:{FP} \\n\\n\\tFN:{FN} \\t\\tTN:{TN} \\n\")\n",
    "\n",
    "ACC = (TP+TN)/(TP+TN+FP+FN)\n",
    "SPEC = TN/(TN+FP)\n",
    "SENS = TP/(TP+FN)\n",
    "PPV = TP/(TP+FP)\n",
    "NPV = TN/(TN+FN)\n",
    "print(\"-\"*80)\n",
    "print(f\"ACC:{round(ACC,3)},\\tSENS:{round(SENS,3)},\\tSPEC:{round(SPEC,3)},\\tPPV:{round(PPV,3)},\\tNPV:{round(NPV,3)}\")\n",
    "print(\"-\"*80+\"\\n\")\n",
    "\n",
    "#################\n",
    "\n",
    "FN = results[(results.category=='GP') & (results.label=='negated') & (results.robbert_512_2=='not negated')].shape[0]\n",
    "TN = results[(results.category=='GP') & (results.label=='not negated') & (results.robbert_512_2=='not negated')].shape[0]\n",
    "FP = results[(results.category=='GP') & (results.label=='not negated') & (results.robbert_512_2=='negated')].shape[0]\n",
    "TP = results[(results.category=='GP') & (results.label=='negated') & (results.robbert_512_2=='negated')].shape[0]\n",
    "\n",
    "print(\"=\"*50)\n",
    "print(\"GP accuracy\")\n",
    "print(\"=\"*50)\n",
    "print(f\"\\tTP:{TP} \\t\\tFP:{FP} \\n\\n\\tFN:{FN} \\t\\tTN:{TN} \\n\")\n",
    "\n",
    "ACC = (TP+TN)/(TP+TN+FP+FN)\n",
    "SPEC = TN/(TN+FP)\n",
    "SENS = TP/(TP+FN)\n",
    "PPV = TP/(TP+FP)\n",
    "V = TN/(TN+FN)\n",
    "\n",
    "print(\"-\"*80)\n",
    "print(f\"ACC:{round(ACC,3)},\\tSENS:{round(SENS,3)},\\tSPEC:{round(SPEC,3)},\\tPPV:{round(PPV,3)},\\tNPV:{round(NPV,3)}\")\n",
    "print(\"-\"*80+\"\\n\")"
   ]
  },
  {
   "cell_type": "code",
   "execution_count": 5,
   "id": "03e48a67",
   "metadata": {},
   "outputs": [],
   "source": [
    "scores = []\n",
    "\n",
    "FN = results[(results.label=='negated') & (results.robbert_512_2=='not negated')].shape[0]\n",
    "TN = results[(results.label=='not negated') & (results.robbert_512_2=='not negated')].shape[0]\n",
    "FP = results[(results.label=='not negated') & (results.robbert_512_2=='negated')].shape[0]\n",
    "TP = results[(results.label=='negated') & (results.robbert_512_2=='negated')].shape[0]\n",
    "\n",
    "ACC = (TP+TN)/(TP+TN+FP+FN)\n",
    "SPEC = TN/(TN+FP)\n",
    "SENS = TP/(TP+FN)\n",
    "PPV = TP/(TP+FP)\n",
    "NPV = TN/(TN+FN)\n",
    "\n",
    "missing_perc = results.robbert_512_2.isna().sum()/results.shape[0]\n",
    "\n",
    "scores.append({'blocksize': 512, 'acc': ACC, 'spec': SPEC, 'sens': SENS, 'ppv': PPV, 'npv': NPV, 'miss':missing_perc})\n",
    "\n",
    "############################\n",
    "\n",
    "FN = results[(results.label=='negated') & (results.robbert_128_2=='not negated')].shape[0]\n",
    "TN = results[(results.label=='not negated') & (results.robbert_128_2=='not negated')].shape[0]\n",
    "FP = results[(results.label=='not negated') & (results.robbert_128_2=='negated')].shape[0]\n",
    "TP = results[(results.label=='negated') & (results.robbert_128_2=='negated')].shape[0]\n",
    "\n",
    "ACC = (TP+TN)/(TP+TN+FP+FN)\n",
    "SPEC = TN/(TN+FP)\n",
    "SENS = TP/(TP+FN)\n",
    "PPV = TP/(TP+FP)\n",
    "NPV = TN/(TN+FN)\n",
    "\n",
    "missing_perc = results.robbert_128_2.isna().sum()/results.shape[0]\n",
    "\n",
    "scores.append({'blocksize': 128, 'acc': ACC, 'spec': SPEC, 'sens': SENS, 'ppv': PPV, 'npv': NPV, 'miss':missing_perc})\n",
    "\n",
    "############################\n",
    "\n",
    "FN = results[(results.label=='negated') & (results.robbert_32_2=='not negated')].shape[0]\n",
    "TN = results[(results.label=='not negated') & (results.robbert_32_2=='not negated')].shape[0]\n",
    "FP = results[(results.label=='not negated') & (results.robbert_32_2=='negated')].shape[0]\n",
    "TP = results[(results.label=='negated') & (results.robbert_32_2=='negated')].shape[0]\n",
    "\n",
    "ACC = (TP+TN)/(TP+TN+FP+FN)\n",
    "SPEC = TN/(TN+FP)\n",
    "SENS = TP/(TP+FN)\n",
    "PPV = TP/(TP+FP)\n",
    "NPV = TN/(TN+FN)\n",
    "\n",
    "missing_perc = results.robbert_32_2.isna().sum()/results.shape[0]\n",
    "\n",
    "scores.append({'blocksize': 32, 'acc': ACC, 'spec': SPEC, 'sens': SENS, 'ppv': PPV, 'npv': NPV, 'miss':missing_perc})\n",
    "\n",
    "scores_df = pd.DataFrame(scores)"
   ]
  },
  {
   "cell_type": "code",
   "execution_count": 6,
   "id": "6e251ba6",
   "metadata": {},
   "outputs": [
    {
     "data": {
      "text/html": [
       "<div>\n",
       "<style scoped>\n",
       "    .dataframe tbody tr th:only-of-type {\n",
       "        vertical-align: middle;\n",
       "    }\n",
       "\n",
       "    .dataframe tbody tr th {\n",
       "        vertical-align: top;\n",
       "    }\n",
       "\n",
       "    .dataframe thead th {\n",
       "        text-align: right;\n",
       "    }\n",
       "</style>\n",
       "<table border=\"1\" class=\"dataframe\">\n",
       "  <thead>\n",
       "    <tr style=\"text-align: right;\">\n",
       "      <th></th>\n",
       "      <th>blocksize</th>\n",
       "      <th>acc</th>\n",
       "      <th>spec</th>\n",
       "      <th>sens</th>\n",
       "      <th>ppv</th>\n",
       "      <th>npv</th>\n",
       "      <th>miss</th>\n",
       "    </tr>\n",
       "  </thead>\n",
       "  <tbody>\n",
       "    <tr>\n",
       "      <th>0</th>\n",
       "      <td>512</td>\n",
       "      <td>0.982138</td>\n",
       "      <td>0.991689</td>\n",
       "      <td>0.928571</td>\n",
       "      <td>0.952204</td>\n",
       "      <td>0.987320</td>\n",
       "      <td>0.130189</td>\n",
       "    </tr>\n",
       "    <tr>\n",
       "      <th>1</th>\n",
       "      <td>128</td>\n",
       "      <td>0.981913</td>\n",
       "      <td>0.991897</td>\n",
       "      <td>0.926443</td>\n",
       "      <td>0.953655</td>\n",
       "      <td>0.986829</td>\n",
       "      <td>0.176241</td>\n",
       "    </tr>\n",
       "    <tr>\n",
       "      <th>2</th>\n",
       "      <td>32</td>\n",
       "      <td>0.982382</td>\n",
       "      <td>0.992808</td>\n",
       "      <td>0.921842</td>\n",
       "      <td>0.956667</td>\n",
       "      <td>0.986623</td>\n",
       "      <td>0.493506</td>\n",
       "    </tr>\n",
       "  </tbody>\n",
       "</table>\n",
       "</div>"
      ],
      "text/plain": [
       "   blocksize       acc      spec      sens       ppv       npv      miss\n",
       "0        512  0.982138  0.991689  0.928571  0.952204  0.987320  0.130189\n",
       "1        128  0.981913  0.991897  0.926443  0.953655  0.986829  0.176241\n",
       "2         32  0.982382  0.992808  0.921842  0.956667  0.986623  0.493506"
      ]
     },
     "execution_count": 6,
     "metadata": {},
     "output_type": "execute_result"
    }
   ],
   "source": [
    "scores_df"
   ]
  },
  {
   "cell_type": "markdown",
   "id": "de13ed03",
   "metadata": {},
   "source": [
    "Going from a block size of $512$ to a block-size of $32$ does not lead to a noticeable performance decrease, it does decrease the computation time by a factor of $10$. We have to note here that due to the current batch process we skip label tokens that are outside the block size. "
   ]
  },
  {
   "cell_type": "markdown",
   "id": "5fc6e01e",
   "metadata": {},
   "source": [
    "## False negatives"
   ]
  },
  {
   "cell_type": "code",
   "execution_count": 7,
   "id": "b5293599",
   "metadata": {},
   "outputs": [
    {
     "name": "stdout",
     "output_type": "stream",
     "text": [
      "118\n",
      "77\n"
     ]
    }
   ],
   "source": [
    "false_negatives = results[(results.label == 'negated') & (results.robbert_512_2== 'not negated')]\n",
    "false_negatives.head()\n",
    "print(false_negatives.shape[0])\n",
    "\n",
    "false_positives = results[(results.label == 'not negated') & (results.robbert_512_2== 'negated')]\n",
    "false_positives.head()\n",
    "print(false_positives.shape[0])"
   ]
  },
  {
   "cell_type": "code",
   "execution_count": 8,
   "id": "8125bf0c",
   "metadata": {},
   "outputs": [
    {
     "data": {
      "text/html": [
       "Re voet <mark style='background-color: #fff59d'><text>zwelling</text></mark> -, haematoom -, asdrukpijn 5e str, drukpijn tub.metatarsale\n",
       "<br>"
      ],
      "text/plain": [
       "<IPython.core.display.HTML object>"
      ]
     },
     "metadata": {},
     "output_type": "display_data"
    },
    {
     "name": "stdout",
     "output_type": "stream",
     "text": [
      "Entity: zwelling (8-16)\n",
      "\n",
      "         entity_id category    label   bilstm    bilstm_cv   rule_based  \\\n",
      "12100  SP1962_8_16       SP  negated  negated  not negated  not negated   \n",
      "\n",
      "      robbert_512_2 robbert_128_2 robbert_32_2  \n",
      "12100   not negated   not negated  not negated  \n"
     ]
    }
   ],
   "source": [
    "# Show issue with a random record\n",
    "random_entity = false_negatives.entity_id.tolist()[115]\n",
    "text, start, end = get_document_text(random_entity, dcc_dir, results)"
   ]
  },
  {
   "cell_type": "code",
   "execution_count": 9,
   "id": "cb99f5ee",
   "metadata": {},
   "outputs": [
    {
     "data": {
      "text/html": [
       "O 9 : Niet-specifieke <mark style='background-color: #fff59d'><text>ontsteking</text></mark> gezien.\n",
       "<br>"
      ],
      "text/plain": [
       "<IPython.core.display.HTML object>"
      ]
     },
     "metadata": {},
     "output_type": "display_data"
    },
    {
     "name": "stdout",
     "output_type": "stream",
     "text": [
      "Entity: ontsteking (22-32)\n",
      "\n",
      "          entity_id category        label   bilstm    bilstm_cv rule_based  \\\n",
      "11681  SP1789_22_32       SP  not negated  negated  not negated    negated   \n",
      "\n",
      "      robbert_512_2 robbert_128_2 robbert_32_2  \n",
      "11681       negated       negated  not negated  \n"
     ]
    }
   ],
   "source": [
    "# Show issue with a random record\n",
    "random_entity = false_positives.entity_id.tolist()[69]\n",
    "text, start, end = get_document_text(random_entity, dcc_dir, results)"
   ]
  },
  {
   "cell_type": "code",
   "execution_count": 10,
   "id": "c4260e81",
   "metadata": {},
   "outputs": [],
   "source": [
    "error_types = {'false_negative': {'uncommon': [0,5,8,10,12,22,36,47,51,53,63,66,70,77,\n",
    "                                               78,79,80,84,85,88,89,90,96,97,99,103,104,\n",
    "                                               107,112,113,114], \n",
    "                                  'annotation_error': [1,19,21,25,30,31,41,62,68,72,75,76,83,87,98,117],\n",
    "                                  'uncertainty': [2,3,4,6,7,37,46,56,57,60,61,62,67,71,109],\n",
    "                                  'long_distance': [9,40,50,52],\n",
    "                                  'minus': [11,13,14,15,16,17,18,20,23,24,26,\n",
    "                                            27,28,29,32,33,34,35,38,39,42,43,\n",
    "                                            44,45,48,49,81,115],\n",
    "                                  'other': [47,55,58,59,64,74,91,92,95,105,106,108,116],\n",
    "                                  'list': [69,73,102],\n",
    "                                  'sentence_structure': [82,86,93,94,95,96,101,110,111],\n",
    "                                  'punctuation': []\n",
    "                                 },\n",
    "              'false_positive': {'annotation_error': [0,1,2,8,10,13,14,39,42,\n",
    "                                                      43,49,53,54,55,57,59,71,\n",
    "                                                      74,75],\n",
    "                                 'negation_of_different_term': [3,4,5,6,9,12,15,18,26,27,\n",
    "                                                                28,29,36,37,38,40,48,50,\n",
    "                                                                58,65,70],\n",
    "                                 'uncertainty': [7,11,16,41,44,52,68],\n",
    "                                 'grammar': [],\n",
    "                                 'punctuation': [30,23,32,21,20],\n",
    "                                 'other': [17,19,24,25,35,46,47,51,60,61,64,\n",
    "                                           72,73, 22,31,33,34,45,62,63,66,76],\n",
    "                                 'list': [],                                                 \n",
    "                                 'hyphen': [56,67,69]\n",
    "              }}"
   ]
  },
  {
   "cell_type": "code",
   "execution_count": 11,
   "id": "a3e361d6",
   "metadata": {},
   "outputs": [],
   "source": [
    "tmp = pd.DataFrame(error_types)\n",
    "tmp['false_negative'] = tmp['false_negative'].apply(lambda x: x if isinstance(x,list) else [])\n",
    "tmp['false_positive'] = tmp['false_positive'].apply(lambda x: x if isinstance(x,list) else [])\n",
    "tmp['fn_count'], tmp['fp_count'] = zip(*tmp.apply(lambda x: (len(x[0]), len(x[1])), axis=1))\n",
    "tmp[['fn_perc','fp_perc']] = tmp[['fn_count', 'fp_count']]/tmp[['fn_count', 'fp_count']].sum(axis=0)"
   ]
  },
  {
   "cell_type": "code",
   "execution_count": 12,
   "id": "c005024f",
   "metadata": {},
   "outputs": [
    {
     "data": {
      "text/html": [
       "<div>\n",
       "<style scoped>\n",
       "    .dataframe tbody tr th:only-of-type {\n",
       "        vertical-align: middle;\n",
       "    }\n",
       "\n",
       "    .dataframe tbody tr th {\n",
       "        vertical-align: top;\n",
       "    }\n",
       "\n",
       "    .dataframe thead th {\n",
       "        text-align: right;\n",
       "    }\n",
       "</style>\n",
       "<table border=\"1\" class=\"dataframe\">\n",
       "  <thead>\n",
       "    <tr style=\"text-align: right;\">\n",
       "      <th></th>\n",
       "      <th>fn_count</th>\n",
       "      <th>fp_count</th>\n",
       "      <th>fn_perc</th>\n",
       "      <th>fp_perc</th>\n",
       "    </tr>\n",
       "  </thead>\n",
       "  <tbody>\n",
       "    <tr>\n",
       "      <th>uncommon</th>\n",
       "      <td>31</td>\n",
       "      <td>0</td>\n",
       "      <td>0.2605</td>\n",
       "      <td>0.0000</td>\n",
       "    </tr>\n",
       "    <tr>\n",
       "      <th>annotation_error</th>\n",
       "      <td>16</td>\n",
       "      <td>19</td>\n",
       "      <td>0.1345</td>\n",
       "      <td>0.2468</td>\n",
       "    </tr>\n",
       "    <tr>\n",
       "      <th>uncertainty</th>\n",
       "      <td>15</td>\n",
       "      <td>7</td>\n",
       "      <td>0.1261</td>\n",
       "      <td>0.0909</td>\n",
       "    </tr>\n",
       "    <tr>\n",
       "      <th>long_distance</th>\n",
       "      <td>4</td>\n",
       "      <td>0</td>\n",
       "      <td>0.0336</td>\n",
       "      <td>0.0000</td>\n",
       "    </tr>\n",
       "    <tr>\n",
       "      <th>minus</th>\n",
       "      <td>28</td>\n",
       "      <td>0</td>\n",
       "      <td>0.2353</td>\n",
       "      <td>0.0000</td>\n",
       "    </tr>\n",
       "    <tr>\n",
       "      <th>other</th>\n",
       "      <td>13</td>\n",
       "      <td>22</td>\n",
       "      <td>0.1092</td>\n",
       "      <td>0.2857</td>\n",
       "    </tr>\n",
       "    <tr>\n",
       "      <th>list</th>\n",
       "      <td>3</td>\n",
       "      <td>0</td>\n",
       "      <td>0.0252</td>\n",
       "      <td>0.0000</td>\n",
       "    </tr>\n",
       "    <tr>\n",
       "      <th>sentence_structure</th>\n",
       "      <td>9</td>\n",
       "      <td>0</td>\n",
       "      <td>0.0756</td>\n",
       "      <td>0.0000</td>\n",
       "    </tr>\n",
       "    <tr>\n",
       "      <th>punctuation</th>\n",
       "      <td>0</td>\n",
       "      <td>5</td>\n",
       "      <td>0.0000</td>\n",
       "      <td>0.0649</td>\n",
       "    </tr>\n",
       "    <tr>\n",
       "      <th>negation_of_different_term</th>\n",
       "      <td>0</td>\n",
       "      <td>21</td>\n",
       "      <td>0.0000</td>\n",
       "      <td>0.2727</td>\n",
       "    </tr>\n",
       "    <tr>\n",
       "      <th>grammar</th>\n",
       "      <td>0</td>\n",
       "      <td>0</td>\n",
       "      <td>0.0000</td>\n",
       "      <td>0.0000</td>\n",
       "    </tr>\n",
       "    <tr>\n",
       "      <th>hyphen</th>\n",
       "      <td>0</td>\n",
       "      <td>3</td>\n",
       "      <td>0.0000</td>\n",
       "      <td>0.0390</td>\n",
       "    </tr>\n",
       "  </tbody>\n",
       "</table>\n",
       "</div>"
      ],
      "text/plain": [
       "                            fn_count  fp_count  fn_perc  fp_perc\n",
       "uncommon                          31         0   0.2605   0.0000\n",
       "annotation_error                  16        19   0.1345   0.2468\n",
       "uncertainty                       15         7   0.1261   0.0909\n",
       "long_distance                      4         0   0.0336   0.0000\n",
       "minus                             28         0   0.2353   0.0000\n",
       "other                             13        22   0.1092   0.2857\n",
       "list                               3         0   0.0252   0.0000\n",
       "sentence_structure                 9         0   0.0756   0.0000\n",
       "punctuation                        0         5   0.0000   0.0649\n",
       "negation_of_different_term         0        21   0.0000   0.2727\n",
       "grammar                            0         0   0.0000   0.0000\n",
       "hyphen                             0         3   0.0000   0.0390"
      ]
     },
     "execution_count": 12,
     "metadata": {},
     "output_type": "execute_result"
    }
   ],
   "source": [
    "tmp[['fn_count', 'fp_count', 'fn_perc', 'fp_perc']].round(4)"
   ]
  },
  {
   "cell_type": "code",
   "execution_count": 13,
   "id": "12336d81",
   "metadata": {},
   "outputs": [],
   "source": [
    "false_negative_map = {_v:k for k,v in error_types['false_negative'].items() for _v in v}\n",
    "false_positive_map = {_v:k for k,v in error_types['false_positive'].items() for _v in v}"
   ]
  },
  {
   "cell_type": "code",
   "execution_count": 14,
   "id": "6d769537",
   "metadata": {},
   "outputs": [
    {
     "name": "stderr",
     "output_type": "stream",
     "text": [
      "/tmp/ipykernel_145294/1716393503.py:2: SettingWithCopyWarning: \n",
      "A value is trying to be set on a copy of a slice from a DataFrame.\n",
      "Try using .loc[row_indexer,col_indexer] = value instead\n",
      "\n",
      "See the caveats in the documentation: https://pandas.pydata.org/pandas-docs/stable/user_guide/indexing.html#returning-a-view-versus-a-copy\n",
      "  false_negatives.loc[:, 'error_type'] = \"UNDEFINED\"\n",
      "/tmp/ipykernel_145294/1716393503.py:3: SettingWithCopyWarning: \n",
      "A value is trying to be set on a copy of a slice from a DataFrame.\n",
      "Try using .loc[row_indexer,col_indexer] = value instead\n",
      "\n",
      "See the caveats in the documentation: https://pandas.pydata.org/pandas-docs/stable/user_guide/indexing.html#returning-a-view-versus-a-copy\n",
      "  false_negatives.loc[:, 'error_type'] = false_negatives.index.map(false_negative_map)\n",
      "/tmp/ipykernel_145294/1716393503.py:6: SettingWithCopyWarning: \n",
      "A value is trying to be set on a copy of a slice from a DataFrame.\n",
      "Try using .loc[row_indexer,col_indexer] = value instead\n",
      "\n",
      "See the caveats in the documentation: https://pandas.pydata.org/pandas-docs/stable/user_guide/indexing.html#returning-a-view-versus-a-copy\n",
      "  false_positives.loc[:, 'error_type'] = \"UNDEFINED\"\n",
      "/tmp/ipykernel_145294/1716393503.py:7: SettingWithCopyWarning: \n",
      "A value is trying to be set on a copy of a slice from a DataFrame.\n",
      "Try using .loc[row_indexer,col_indexer] = value instead\n",
      "\n",
      "See the caveats in the documentation: https://pandas.pydata.org/pandas-docs/stable/user_guide/indexing.html#returning-a-view-versus-a-copy\n",
      "  false_positives.loc[:, 'error_type'] = false_positives.index.map(false_positive_map)\n"
     ]
    }
   ],
   "source": [
    "false_negatives.reset_index(inplace=True, drop=True)\n",
    "false_negatives.loc[:, 'error_type'] = \"UNDEFINED\"\n",
    "false_negatives.loc[:, 'error_type'] = false_negatives.index.map(false_negative_map)\n",
    "\n",
    "false_positives.reset_index(inplace=True, drop=True)\n",
    "false_positives.loc[:, 'error_type'] = \"UNDEFINED\"\n",
    "false_positives.loc[:, 'error_type'] = false_positives.index.map(false_positive_map)"
   ]
  },
  {
   "cell_type": "code",
   "execution_count": 16,
   "id": "eaaf17e1",
   "metadata": {},
   "outputs": [
    {
     "name": "stderr",
     "output_type": "stream",
     "text": [
      "/tmp/ipykernel_145294/1503610160.py:4: SettingWithCopyWarning: \n",
      "A value is trying to be set on a copy of a slice from a DataFrame.\n",
      "Try using .loc[row_indexer,col_indexer] = value instead\n",
      "\n",
      "See the caveats in the documentation: https://pandas.pydata.org/pandas-docs/stable/user_guide/indexing.html#returning-a-view-versus-a-copy\n",
      "  false_positives['pattern'] = false_positives['entity_id'].apply(lambda x: get_document_text(x, *args, **kwargs)[0])\n",
      "/tmp/ipykernel_145294/1503610160.py:5: SettingWithCopyWarning: \n",
      "A value is trying to be set on a copy of a slice from a DataFrame.\n",
      "Try using .loc[row_indexer,col_indexer] = value instead\n",
      "\n",
      "See the caveats in the documentation: https://pandas.pydata.org/pandas-docs/stable/user_guide/indexing.html#returning-a-view-versus-a-copy\n",
      "  false_negatives['pattern'] = false_negatives['entity_id'].apply(lambda x: get_document_text(x, *args, **kwargs)[0])\n"
     ]
    }
   ],
   "source": [
    "args = [dcc_dir, results]\n",
    "kwargs = {'print_html': False, 'print_text': False, 'obfuscate_entity': True}\n",
    "\n",
    "false_positives['pattern'] = false_positives['entity_id'].apply(lambda x: get_document_text(x, *args, **kwargs)[0])\n",
    "false_negatives['pattern'] = false_negatives['entity_id'].apply(lambda x: get_document_text(x, *args, **kwargs)[0])\n",
    "\n",
    "false_positives[['entity_id', 'error_type', 'pattern']].to_csv(\"results/false-positives_robbert.csv\", index=False)\n",
    "false_negatives[['entity_id', 'error_type', 'pattern']].to_csv(\"results/false-negatives_robbert.csv\", index=False)"
   ]
  },
  {
   "cell_type": "markdown",
   "id": "ff90e169",
   "metadata": {},
   "source": [
    "# biLSTM"
   ]
  },
  {
   "cell_type": "markdown",
   "id": "23931fff",
   "metadata": {},
   "source": [
    "## False negatives biLSTM"
   ]
  },
  {
   "cell_type": "code",
   "execution_count": null,
   "id": "1057db8e",
   "metadata": {},
   "outputs": [],
   "source": [
    "# Select false negatives\n",
    "false_negatives = results[(results.label == 'negated') & (results.bilstm == 'not negated')]\n",
    "false_negatives.head()"
   ]
  },
  {
   "cell_type": "code",
   "execution_count": null,
   "id": "a01bada6",
   "metadata": {},
   "outputs": [],
   "source": [
    "# Show issue with a random record\n",
    "random_entity = false_negatives.sample(1).entity_id.tolist()[0]\n",
    "text, start, end = get_document_text(random_entity, dcc_dir, results)"
   ]
  },
  {
   "cell_type": "code",
   "execution_count": null,
   "id": "03ada35c",
   "metadata": {},
   "outputs": [],
   "source": [
    "# Count number of false negatives caused by -\n",
    "count = 0\n",
    "for index, record in false_negatives.iterrows():\n",
    "    text, start, end = get_document_text(record.entity_id, dcc_dir, Path('data'), print_text=False)\n",
    "    if text[end:end+1] == '-':\n",
    "        count += 1\n",
    "print(f'{count} of {false_negatives.shape[0]} ({round((count / false_negatives.shape[0]) * 100)}%) false negatives caused by negation described as \"-\"')"
   ]
  },
  {
   "cell_type": "code",
   "execution_count": null,
   "id": "13b47aac",
   "metadata": {},
   "outputs": [],
   "source": [
    "# Show text for all errors in BiLSTM cross-validation\n",
    "model_pred = pd.read_csv(bilstm_result_file)\n",
    "\n",
    "# Load annotated data\n",
    "with open(annotation_file) as f:\n",
    "    annotations = json.load(f)\n",
    "result = []\n",
    "for document in annotations['projects'][0]['documents']:\n",
    "    document_name = document['name']\n",
    "    text = document['text']\n",
    "\n",
    "    for annotation in document['annotations']:\n",
    "\n",
    "        # Extract data\n",
    "        start_char = annotation['start']\n",
    "        end_char = annotation['end']\n",
    "        negation_value = annotation['meta_anns']['Negation']['value']\n",
    "\n",
    "        # Create custom ID\n",
    "        entity_id = f'{document_name}_{start_char}_{end_char}'\n",
    "        result.append([entity_id, negation_value])\n",
    "ann_labels = pd.DataFrame(result, columns=['entity_id', 'label'])  \n",
    "cmp_labels = pd.merge(left=ann_labels, right = model_pred, left_on='entity_id', right_on='entity_id')\n",
    "all_errors = cmp_labels[cmp_labels.label != cmp_labels.bilstm_cv]\n",
    "\n",
    "for error_id, series in all_errors.iterrows():\n",
    "    get_document_text(cmp_labels[\"entity_id\"].iloc[error_id], dcc_dir, cmp_labels)"
   ]
  },
  {
   "cell_type": "markdown",
   "id": "f5f857e6",
   "metadata": {},
   "source": [
    "# Rule based"
   ]
  },
  {
   "cell_type": "markdown",
   "id": "85ba212b",
   "metadata": {},
   "source": [
    "## False negatives\n"
   ]
  },
  {
   "cell_type": "code",
   "execution_count": null,
   "id": "168fd932",
   "metadata": {},
   "outputs": [],
   "source": [
    "FNs_rule = results[(results.label == 'negated') & (results.rule_based == 'not negated')]['entity_id']\n",
    "len(FNs_rule)"
   ]
  },
  {
   "cell_type": "code",
   "execution_count": null,
   "id": "c2aa2b6d",
   "metadata": {},
   "outputs": [],
   "source": [
    "g_FNs_rule = iter(FNs_rule.to_list())"
   ]
  },
  {
   "cell_type": "code",
   "execution_count": null,
   "id": "16405db7",
   "metadata": {},
   "outputs": [],
   "source": [
    "# iterate through one doc at a time\n",
    "get_document_text(next(g_FNs_rule), dcc_dir, results);"
   ]
  },
  {
   "cell_type": "markdown",
   "id": "b80d2cf6",
   "metadata": {},
   "source": [
    "### Observations:\n",
    "1. Most frequent false negatives are a \"list of negations\", e.g.:\n",
    "    - \"`ENT`-\" or \"`ENT` -\" or \"`ENT`:-\" (58 cases)\n",
    "    - \"`ENT`: nee\" or \"`ENT`: geen\" or \"`ENT`: negatief\" (7 cases)\n",
    "2. 2nd most frequent are actually not false negatives, but labeling errors (22 cases)\n",
    "    - negation is labelled as part of the entity, e.g. \"geen bijwerking\" is the entity (GP1665_79_94, GP1681_0_11, GP2567_126_137)\n",
    "    - no negation actually present (GP1558_64_70, GP2796_56_63, GP2967_0_6, RD1951_465_472, SP1164_179_186)\n",
    "    - entity is a (sub)heading of report; not actually present (e.g. SP1188_26_31; only occurs in SP)\n",
    "3. A negation trigger is missing that could easily be added\n",
    "    - \"neg\" / \"negatief\" (13 cases)\n",
    "    - \"pleit tegen\" (4 cases)\n",
    "    - \"niet voorafgegaan\" (8 cases)\n",
    "    - words like \"niet\" en \"geen\" that occur directly next to `ENT`, so have a scope of 1; probably too many false positives with broader scope (12 cases)"
   ]
  },
  {
   "cell_type": "markdown",
   "id": "d12dc706",
   "metadata": {},
   "source": [
    "### Categories"
   ]
  },
  {
   "cell_type": "code",
   "execution_count": null,
   "id": "35f7b3c5",
   "metadata": {},
   "outputs": [],
   "source": [
    "# Load entity_id, snippet containing error, error category, and (absence of) trigger involved\n",
    "errors_FN = pd.read_csv(result_dir / 'false-negatives_rule-based.csv', sep = ';')\n",
    "errors_FN.head()"
   ]
  },
  {
   "cell_type": "code",
   "execution_count": null,
   "id": "3566607c",
   "metadata": {},
   "outputs": [],
   "source": [
    "def print_category_counts(df, err_type):\n",
    "    cnt = df['category'].value_counts()\n",
    "    tot = df.shape[0]\n",
    "    print(f'{err_type} ({tot} total)')\n",
    "    print(pd.concat([cnt.rename('count'),\n",
    "               (cnt / tot * 100).rename('percentage')],\n",
    "              axis=1))"
   ]
  },
  {
   "cell_type": "code",
   "execution_count": null,
   "id": "cd7b4398",
   "metadata": {},
   "outputs": [],
   "source": [
    "print_category_counts(errors_FN, 'False negatives')"
   ]
  },
  {
   "cell_type": "code",
   "execution_count": null,
   "id": "c74f64e8",
   "metadata": {},
   "outputs": [],
   "source": [
    "def print_example_error(df, category):\n",
    "    smpl = df[df['category'] == category].sample()\n",
    "    get_document_text(smpl.entity_id.values[0], dcc_dir, results.iloc[:,0:3]);\n",
    "    print(smpl)"
   ]
  },
  {
   "cell_type": "code",
   "execution_count": null,
   "id": "e29d7c8d",
   "metadata": {},
   "outputs": [],
   "source": [
    "print_example_error(errors_FN, 'sentence splitting')"
   ]
  },
  {
   "cell_type": "markdown",
   "id": "59b8d60d",
   "metadata": {},
   "source": [
    "## False positives\n"
   ]
  },
  {
   "cell_type": "code",
   "execution_count": null,
   "id": "06547338",
   "metadata": {},
   "outputs": [],
   "source": [
    "FPs_rule = results[(results.label == 'not negated') & (results.rule_based == 'negated')]['entity_id']\n",
    "len(FPs_rule)"
   ]
  },
  {
   "cell_type": "code",
   "execution_count": null,
   "id": "1c20ff4e",
   "metadata": {},
   "outputs": [],
   "source": [
    "g_FPs_rule = iter(FPs_rule.to_list())"
   ]
  },
  {
   "cell_type": "code",
   "execution_count": null,
   "id": "5d2bf7ed",
   "metadata": {},
   "outputs": [],
   "source": [
    "# iterate through one doc at a time\n",
    "get_document_text(next(g_FPs_rule), dcc_dir, results);"
   ]
  },
  {
   "cell_type": "markdown",
   "id": "5f14285d",
   "metadata": {},
   "source": [
    "### Observations:\n",
    "- \"wel\" should be a termination trigger\n",
    "- triggers like \"geen\" and \"niet\" should have a reduced scope (maybe even just 1?)\n",
    "    - might also help to add punctuation like `,` and `;` as termination triggers"
   ]
  },
  {
   "cell_type": "markdown",
   "id": "708f45ac",
   "metadata": {},
   "source": [
    "### Categories"
   ]
  },
  {
   "cell_type": "code",
   "execution_count": null,
   "id": "4058e204",
   "metadata": {},
   "outputs": [],
   "source": [
    "# Load entity_id, snippet containing error, error category, and (absence of) trigger involved\n",
    "errors_FP = pd.read_csv(result_dir / 'false-positives_rule-based.csv', sep = ';')\n",
    "errors_FP.head()"
   ]
  },
  {
   "cell_type": "code",
   "execution_count": null,
   "id": "3c28e944",
   "metadata": {},
   "outputs": [],
   "source": [
    "print_category_counts(errors_FP, 'False positives')"
   ]
  },
  {
   "cell_type": "code",
   "execution_count": null,
   "id": "7ad0a901",
   "metadata": {},
   "outputs": [],
   "source": [
    "print_example_error(errors_FP, 'missing termination trigger')"
   ]
  },
  {
   "cell_type": "markdown",
   "id": "ad6dc038",
   "metadata": {},
   "source": [
    "# Ensemble"
   ]
  },
  {
   "cell_type": "code",
   "execution_count": null,
   "id": "7631f859",
   "metadata": {},
   "outputs": [],
   "source": [
    "results[['label', 'bilstm', 'bilstm_cv', 'rule_based', \n",
    "         'robbert_512_2', 'robbert_128_2', 'robbert_32_2']]=\\\n",
    "results[['label', 'bilstm', 'bilstm_cv', 'rule_based', \n",
    "         'robbert_512_2', 'robbert_128_2', 'robbert_32_2']].apply(lambda x: x.map({'not negated':0,\n",
    "                                                                                   'negated': 1}), \n",
    "                                                                  axis=1)\n",
    "results.dropna(subset=['robbert_512_2'], inplace=True)\n",
    "results.drop(['bilstm', 'robbert_128_2', 'robbert_32_2'], axis=1, inplace=True)"
   ]
  },
  {
   "cell_type": "code",
   "execution_count": null,
   "id": "f1c305bb",
   "metadata": {},
   "outputs": [],
   "source": [
    "'''\n",
    "ACC = (TP+TN)/(TP+TN+FP+FN)\n",
    "SPEC = TN/(TN+FP)\n",
    "SENS = TP/(TP+FN)\n",
    "PPV = TP/(TP+FP)\n",
    "NPV = TN/(TN+FN)\n",
    "'''\n",
    "\n",
    "results['ensemble_mv'] = results[['bilstm_cv', 'rule_based', 'robbert_512_2']].\\\n",
    "                            apply(lambda x: round(np.mean(x)),axis=1)"
   ]
  },
  {
   "cell_type": "code",
   "execution_count": null,
   "id": "5537e9d7",
   "metadata": {},
   "outputs": [],
   "source": [
    "def confusion_matrix(ys,est='ensemble_mv'):\n",
    "    y_est = ys[est]\n",
    "    y_true = ys['label']\n",
    "    TP = sum((y_est==y_true) & (y_true==1))\n",
    "    TN = sum((y_est==y_true) & (y_true==0))\n",
    "    FP = sum((y_est!=y_true) & (y_true==0))\n",
    "    FN = sum((y_est!=y_true) & (y_true==1))\n",
    "    \n",
    "    ACC = (TP+TN)/(TP+TN+FP+FN)\n",
    "    SPEC = TN/(TN+FP)\n",
    "    SENS = TP/(TP+FN)\n",
    "    PPV = TP/(TP+FP)\n",
    "    NPV = TN/(TN+FN)\n",
    "\n",
    "    return round(ACC,3),round(SPEC,3),round(SENS,3),round(PPV,3),round(NPV,3)\n",
    "\n",
    "results[['category', 'label', 'ensemble_mv']].groupby('category').apply(confusion_matrix)"
   ]
  },
  {
   "cell_type": "code",
   "execution_count": null,
   "id": "34401adc",
   "metadata": {},
   "outputs": [],
   "source": [
    "results[['category', 'label', 'bilstm_cv']].groupby('category').apply(lambda x: confusion_matrix(x,est='bilstm_cv'))"
   ]
  },
  {
   "cell_type": "code",
   "execution_count": null,
   "id": "859b6aaa",
   "metadata": {},
   "outputs": [],
   "source": [
    "results[['category', 'label', 'rule_based']].groupby('category').apply(lambda x: confusion_matrix(x,est='rule_based'))"
   ]
  },
  {
   "cell_type": "code",
   "execution_count": null,
   "id": "c1b6fc1b",
   "metadata": {},
   "outputs": [],
   "source": [
    "results[['category', 'label', 'robbert_512_2']].groupby('category').apply(lambda x: confusion_matrix(x,est='robbert_512_2'))"
   ]
  }
 ],
 "metadata": {
  "kernelspec": {
   "display_name": "NLP",
   "language": "python",
   "name": "nlp"
  },
  "language_info": {
   "codemirror_mode": {
    "name": "ipython",
    "version": 3
   },
   "file_extension": ".py",
   "mimetype": "text/x-python",
   "name": "python",
   "nbconvert_exporter": "python",
   "pygments_lexer": "ipython3",
   "version": "3.8.10"
  }
 },
 "nbformat": 4,
 "nbformat_minor": 5
}
