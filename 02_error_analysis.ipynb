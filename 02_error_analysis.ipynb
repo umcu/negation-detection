{
 "cells": [
  {
   "cell_type": "code",
   "execution_count": 1,
   "metadata": {},
   "outputs": [
    {
     "data": {
      "text/html": [
       "<div>\n",
       "<style scoped>\n",
       "    .dataframe tbody tr th:only-of-type {\n",
       "        vertical-align: middle;\n",
       "    }\n",
       "\n",
       "    .dataframe tbody tr th {\n",
       "        vertical-align: top;\n",
       "    }\n",
       "\n",
       "    .dataframe thead th {\n",
       "        text-align: right;\n",
       "    }\n",
       "</style>\n",
       "<table border=\"1\" class=\"dataframe\">\n",
       "  <thead>\n",
       "    <tr style=\"text-align: right;\">\n",
       "      <th></th>\n",
       "      <th>entity_id</th>\n",
       "      <th>category</th>\n",
       "      <th>label</th>\n",
       "      <th>bilstm</th>\n",
       "      <th>bilstm_cv</th>\n",
       "      <th>rule_based</th>\n",
       "      <th>robbert_v2_dutch_base_2_64_512</th>\n",
       "      <th>robbert_v2_dutch_base_3_64_512</th>\n",
       "      <th>robbert_v2_dutch_base_3_32_512</th>\n",
       "      <th>robbert_v2_dutch_base_3_32_32</th>\n",
       "      <th>robbert_v2_dutch_base_3_32_64</th>\n",
       "      <th>MedRoBERTa_2_64_512</th>\n",
       "      <th>MedRoBERTa_3_64_512</th>\n",
       "      <th>MedRoBERTa_3_32_512</th>\n",
       "      <th>robbert_v2_dutch_base_DAPT_2_64_512</th>\n",
       "      <th>robbert_v2_dutch_base_DAPT_3_64_512</th>\n",
       "      <th>robbert_v2_dutch_base_DAPT_3_32_512</th>\n",
       "      <th>robbert_v2_dutch_base_10_128_512_zeroShot</th>\n",
       "      <th>robbert_v2_dutch_base_DAPT_10_128_512_zeroShot</th>\n",
       "      <th>MedRoBERTa_10_128_512_zeroShot</th>\n",
       "    </tr>\n",
       "  </thead>\n",
       "  <tbody>\n",
       "    <tr>\n",
       "      <th>0</th>\n",
       "      <td>DL1111_32_46</td>\n",
       "      <td>DL</td>\n",
       "      <td>not negated</td>\n",
       "      <td>not negated</td>\n",
       "      <td>not negated</td>\n",
       "      <td>not negated</td>\n",
       "      <td>not negated</td>\n",
       "      <td>not negated</td>\n",
       "      <td>not negated</td>\n",
       "      <td>not negated</td>\n",
       "      <td>not negated</td>\n",
       "      <td>not negated</td>\n",
       "      <td>not negated</td>\n",
       "      <td>not negated</td>\n",
       "      <td>not negated</td>\n",
       "      <td>not negated</td>\n",
       "      <td>not negated</td>\n",
       "      <td>not negated</td>\n",
       "      <td>not negated</td>\n",
       "      <td>not negated</td>\n",
       "    </tr>\n",
       "    <tr>\n",
       "      <th>1</th>\n",
       "      <td>DL1111_272_280</td>\n",
       "      <td>DL</td>\n",
       "      <td>not negated</td>\n",
       "      <td>not negated</td>\n",
       "      <td>not negated</td>\n",
       "      <td>not negated</td>\n",
       "      <td>not negated</td>\n",
       "      <td>not negated</td>\n",
       "      <td>not negated</td>\n",
       "      <td>not negated</td>\n",
       "      <td>not negated</td>\n",
       "      <td>not negated</td>\n",
       "      <td>not negated</td>\n",
       "      <td>not negated</td>\n",
       "      <td>not negated</td>\n",
       "      <td>not negated</td>\n",
       "      <td>not negated</td>\n",
       "      <td>not negated</td>\n",
       "      <td>not negated</td>\n",
       "      <td>not negated</td>\n",
       "    </tr>\n",
       "    <tr>\n",
       "      <th>2</th>\n",
       "      <td>DL1111_363_377</td>\n",
       "      <td>DL</td>\n",
       "      <td>not negated</td>\n",
       "      <td>not negated</td>\n",
       "      <td>not negated</td>\n",
       "      <td>not negated</td>\n",
       "      <td>not negated</td>\n",
       "      <td>not negated</td>\n",
       "      <td>not negated</td>\n",
       "      <td>not negated</td>\n",
       "      <td>not negated</td>\n",
       "      <td>not negated</td>\n",
       "      <td>not negated</td>\n",
       "      <td>not negated</td>\n",
       "      <td>not negated</td>\n",
       "      <td>not negated</td>\n",
       "      <td>not negated</td>\n",
       "      <td>not negated</td>\n",
       "      <td>not negated</td>\n",
       "      <td>not negated</td>\n",
       "    </tr>\n",
       "    <tr>\n",
       "      <th>3</th>\n",
       "      <td>DL1112_22_28</td>\n",
       "      <td>DL</td>\n",
       "      <td>negated</td>\n",
       "      <td>negated</td>\n",
       "      <td>negated</td>\n",
       "      <td>negated</td>\n",
       "      <td>negated</td>\n",
       "      <td>negated</td>\n",
       "      <td>negated</td>\n",
       "      <td>negated</td>\n",
       "      <td>negated</td>\n",
       "      <td>negated</td>\n",
       "      <td>negated</td>\n",
       "      <td>negated</td>\n",
       "      <td>negated</td>\n",
       "      <td>negated</td>\n",
       "      <td>negated</td>\n",
       "      <td>negated</td>\n",
       "      <td>negated</td>\n",
       "      <td>negated</td>\n",
       "    </tr>\n",
       "    <tr>\n",
       "      <th>4</th>\n",
       "      <td>DL1113_59_67</td>\n",
       "      <td>DL</td>\n",
       "      <td>not negated</td>\n",
       "      <td>not negated</td>\n",
       "      <td>not negated</td>\n",
       "      <td>not negated</td>\n",
       "      <td>not negated</td>\n",
       "      <td>not negated</td>\n",
       "      <td>not negated</td>\n",
       "      <td>not negated</td>\n",
       "      <td>not negated</td>\n",
       "      <td>not negated</td>\n",
       "      <td>not negated</td>\n",
       "      <td>not negated</td>\n",
       "      <td>not negated</td>\n",
       "      <td>not negated</td>\n",
       "      <td>not negated</td>\n",
       "      <td>not negated</td>\n",
       "      <td>not negated</td>\n",
       "      <td>not negated</td>\n",
       "    </tr>\n",
       "  </tbody>\n",
       "</table>\n",
       "</div>"
      ],
      "text/plain": [
       "        entity_id category        label       bilstm    bilstm_cv  \\\n",
       "0    DL1111_32_46       DL  not negated  not negated  not negated   \n",
       "1  DL1111_272_280       DL  not negated  not negated  not negated   \n",
       "2  DL1111_363_377       DL  not negated  not negated  not negated   \n",
       "3    DL1112_22_28       DL      negated      negated      negated   \n",
       "4    DL1113_59_67       DL  not negated  not negated  not negated   \n",
       "\n",
       "    rule_based robbert_v2_dutch_base_2_64_512 robbert_v2_dutch_base_3_64_512  \\\n",
       "0  not negated                    not negated                    not negated   \n",
       "1  not negated                    not negated                    not negated   \n",
       "2  not negated                    not negated                    not negated   \n",
       "3      negated                        negated                        negated   \n",
       "4  not negated                    not negated                    not negated   \n",
       "\n",
       "  robbert_v2_dutch_base_3_32_512 robbert_v2_dutch_base_3_32_32  \\\n",
       "0                    not negated                   not negated   \n",
       "1                    not negated                   not negated   \n",
       "2                    not negated                   not negated   \n",
       "3                        negated                       negated   \n",
       "4                    not negated                   not negated   \n",
       "\n",
       "  robbert_v2_dutch_base_3_32_64 MedRoBERTa_2_64_512 MedRoBERTa_3_64_512  \\\n",
       "0                   not negated         not negated         not negated   \n",
       "1                   not negated         not negated         not negated   \n",
       "2                   not negated         not negated         not negated   \n",
       "3                       negated             negated             negated   \n",
       "4                   not negated         not negated         not negated   \n",
       "\n",
       "  MedRoBERTa_3_32_512 robbert_v2_dutch_base_DAPT_2_64_512  \\\n",
       "0         not negated                         not negated   \n",
       "1         not negated                         not negated   \n",
       "2         not negated                         not negated   \n",
       "3             negated                             negated   \n",
       "4         not negated                         not negated   \n",
       "\n",
       "  robbert_v2_dutch_base_DAPT_3_64_512 robbert_v2_dutch_base_DAPT_3_32_512  \\\n",
       "0                         not negated                         not negated   \n",
       "1                         not negated                         not negated   \n",
       "2                         not negated                         not negated   \n",
       "3                             negated                             negated   \n",
       "4                         not negated                         not negated   \n",
       "\n",
       "  robbert_v2_dutch_base_10_128_512_zeroShot  \\\n",
       "0                               not negated   \n",
       "1                               not negated   \n",
       "2                               not negated   \n",
       "3                                   negated   \n",
       "4                               not negated   \n",
       "\n",
       "  robbert_v2_dutch_base_DAPT_10_128_512_zeroShot  \\\n",
       "0                                    not negated   \n",
       "1                                    not negated   \n",
       "2                                    not negated   \n",
       "3                                        negated   \n",
       "4                                    not negated   \n",
       "\n",
       "  MedRoBERTa_10_128_512_zeroShot  \n",
       "0                    not negated  \n",
       "1                    not negated  \n",
       "2                    not negated  \n",
       "3                        negated  \n",
       "4                    not negated  "
      ]
     },
     "execution_count": 1,
     "metadata": {},
     "output_type": "execute_result"
    }
   ],
   "source": [
    "from pathlib import Path\n",
    "from evaluation_utils import get_document_text\n",
    "import pandas as pd\n",
    "import numpy as np\n",
    "import json\n",
    "\n",
    "dcc_dir = Path('data') / 'EMCDutchClinicalCorpus'\n",
    "data_dir = Path('data')\n",
    "result_dir = Path('results')\n",
    "bilstm_result_file = result_dir / 'bilstm_predictions_cv.csv.gz'\n",
    "robbert_result_file = result_dir / 'robbert_v2_dutch_base_3_32_512_predictions.csv.gz'\n",
    "medroberta_file = result_dir / 'MedRoBERTa_3_32_512_predictions.csv.gz'\n",
    "merged_result_file = result_dir / 'merged_results.csv.gz'\n",
    "annotation_file = data_dir / 'emc-dcc_ann.json'\n",
    "\n",
    "# Load results\n",
    "results = pd.read_csv(merged_result_file)\n",
    "results.head()"
   ]
  },
  {
   "cell_type": "markdown",
   "metadata": {},
   "source": [
    "# RobBERT"
   ]
  },
  {
   "cell_type": "code",
   "execution_count": 2,
   "metadata": {},
   "outputs": [
    {
     "name": "stdout",
     "output_type": "stream",
     "text": [
      "12431 Unnamed: 0             0\n",
      "entity_id              0\n",
      "category               0\n",
      "label                  0\n",
      "MedRoBERTa_3_32_512    0\n",
      "dtype: int64\n"
     ]
    },
    {
     "data": {
      "text/html": [
       "<div>\n",
       "<style scoped>\n",
       "    .dataframe tbody tr th:only-of-type {\n",
       "        vertical-align: middle;\n",
       "    }\n",
       "\n",
       "    .dataframe tbody tr th {\n",
       "        vertical-align: top;\n",
       "    }\n",
       "\n",
       "    .dataframe thead th {\n",
       "        text-align: right;\n",
       "    }\n",
       "</style>\n",
       "<table border=\"1\" class=\"dataframe\">\n",
       "  <thead>\n",
       "    <tr style=\"text-align: right;\">\n",
       "      <th></th>\n",
       "      <th>Unnamed: 0</th>\n",
       "      <th>entity_id</th>\n",
       "      <th>category</th>\n",
       "      <th>label</th>\n",
       "      <th>MedRoBERTa_3_32_512</th>\n",
       "    </tr>\n",
       "  </thead>\n",
       "  <tbody>\n",
       "    <tr>\n",
       "      <th>0</th>\n",
       "      <td>0</td>\n",
       "      <td>DL1111_272_280</td>\n",
       "      <td>DL</td>\n",
       "      <td>not negated</td>\n",
       "      <td>not negated</td>\n",
       "    </tr>\n",
       "    <tr>\n",
       "      <th>1</th>\n",
       "      <td>1</td>\n",
       "      <td>DL1111_32_46</td>\n",
       "      <td>DL</td>\n",
       "      <td>not negated</td>\n",
       "      <td>not negated</td>\n",
       "    </tr>\n",
       "    <tr>\n",
       "      <th>2</th>\n",
       "      <td>2</td>\n",
       "      <td>DL1111_363_377</td>\n",
       "      <td>DL</td>\n",
       "      <td>not negated</td>\n",
       "      <td>not negated</td>\n",
       "    </tr>\n",
       "    <tr>\n",
       "      <th>3</th>\n",
       "      <td>3</td>\n",
       "      <td>DL1112_22_28</td>\n",
       "      <td>DL</td>\n",
       "      <td>negated</td>\n",
       "      <td>negated</td>\n",
       "    </tr>\n",
       "    <tr>\n",
       "      <th>4</th>\n",
       "      <td>4</td>\n",
       "      <td>DL1113_141_155</td>\n",
       "      <td>DL</td>\n",
       "      <td>not negated</td>\n",
       "      <td>not negated</td>\n",
       "    </tr>\n",
       "  </tbody>\n",
       "</table>\n",
       "</div>"
      ],
      "text/plain": [
       "   Unnamed: 0       entity_id category        label MedRoBERTa_3_32_512\n",
       "0           0  DL1111_272_280       DL  not negated         not negated\n",
       "1           1    DL1111_32_46       DL  not negated         not negated\n",
       "2           2  DL1111_363_377       DL  not negated         not negated\n",
       "3           3    DL1112_22_28       DL      negated             negated\n",
       "4           4  DL1113_141_155       DL  not negated         not negated"
      ]
     },
     "execution_count": 2,
     "metadata": {},
     "output_type": "execute_result"
    }
   ],
   "source": [
    "colname = 'robbert_v2_dutch_base_3_32_512' # MedRoBERTa_3_32_512\n",
    "\n",
    "file = robbert_result_file \n",
    "results = pd.read_csv(file)\n",
    "results.drop_duplicates().dropna().to_csv('results/robbert_v2_dutch_base_3_32_512_predictions.csv.gz')\n",
    "\n",
    "file = result_dir / 'robbert_v2_dutch_base_DAPT_3_32_512_predictions.csv.gz' \n",
    "results = pd.read_csv(file)\n",
    "results.drop_duplicates().dropna().to_csv('results/robbert_v2_dutch_base_DAPT_3_32_512_predictions.csv.gz')\n",
    "\n",
    "file =  result_dir / 'MedRoBERTa_3_32_512_predictions.csv.gz'\n",
    "results = pd.read_csv(file)\n",
    "results.drop_duplicates().dropna().to_csv('results/MedRoBERTa_3_32_512_predictions.csv.gz')\n",
    "\n",
    "print(results.shape[0], results.isna().sum())\n",
    "results.head()"
   ]
  },
  {
   "cell_type": "markdown",
   "metadata": {},
   "source": [
    "## Overall"
   ]
  },
  {
   "cell_type": "code",
   "execution_count": 7,
   "metadata": {},
   "outputs": [
    {
     "data": {
      "text/plain": [
       "array(['DL', 'GP', 'RD', 'SP'], dtype=object)"
      ]
     },
     "execution_count": 7,
     "metadata": {},
     "output_type": "execute_result"
    }
   ],
   "source": [
    "results.category.unique()"
   ]
  },
  {
   "cell_type": "code",
   "execution_count": 12,
   "metadata": {},
   "outputs": [],
   "source": [
    "scores = []\n",
    "\n",
    "FN = results[(results.label=='negated') & (results.robbert_v2_dutch_base_3_32_512=='not negated')].shape[0]\n",
    "TN = results[(results.label=='not negated') & (results.robbert_v2_dutch_base_3_32_512=='not negated')].shape[0]\n",
    "FP = results[(results.label=='not negated') & (results.robbert_v2_dutch_base_3_32_512=='negated')].shape[0]\n",
    "TP = results[(results.label=='negated') & (results.robbert_v2_dutch_base_3_32_512=='negated')].shape[0]\n",
    "\n",
    "ACC = (TP+TN)/(TP+TN+FP+FN)\n",
    "SPEC = TN/(TN+FP)\n",
    "SENS = TP/(TP+FN)\n",
    "PPV = TP/(TP+FP)\n",
    "NPV = TN/(TN+FN)\n",
    "\n",
    "missing_perc = results.robbert_v2_dutch_base_3_32_512.isna().sum()/results.shape[0]\n",
    "\n",
    "scores.append({'blocksize': 512, 'acc': ACC, 'spec': SPEC, 'sens': SENS, 'ppv': PPV, 'npv': NPV, 'miss':missing_perc})\n",
    "scores_df = pd.DataFrame(scores)"
   ]
  },
  {
   "cell_type": "code",
   "execution_count": 13,
   "metadata": {},
   "outputs": [
    {
     "data": {
      "text/html": [
       "<div>\n",
       "<style scoped>\n",
       "    .dataframe tbody tr th:only-of-type {\n",
       "        vertical-align: middle;\n",
       "    }\n",
       "\n",
       "    .dataframe tbody tr th {\n",
       "        vertical-align: top;\n",
       "    }\n",
       "\n",
       "    .dataframe thead th {\n",
       "        text-align: right;\n",
       "    }\n",
       "</style>\n",
       "<table border=\"1\" class=\"dataframe\">\n",
       "  <thead>\n",
       "    <tr style=\"text-align: right;\">\n",
       "      <th></th>\n",
       "      <th>blocksize</th>\n",
       "      <th>acc</th>\n",
       "      <th>spec</th>\n",
       "      <th>sens</th>\n",
       "      <th>ppv</th>\n",
       "      <th>npv</th>\n",
       "      <th>miss</th>\n",
       "    </tr>\n",
       "  </thead>\n",
       "  <tbody>\n",
       "    <tr>\n",
       "      <th>0</th>\n",
       "      <td>512</td>\n",
       "      <td>0.984523</td>\n",
       "      <td>0.992074</td>\n",
       "      <td>0.939812</td>\n",
       "      <td>0.952434</td>\n",
       "      <td>0.989859</td>\n",
       "      <td>0.010421</td>\n",
       "    </tr>\n",
       "  </tbody>\n",
       "</table>\n",
       "</div>"
      ],
      "text/plain": [
       "   blocksize       acc      spec      sens       ppv       npv      miss\n",
       "0        512  0.984523  0.992074  0.939812  0.952434  0.989859  0.010421"
      ]
     },
     "execution_count": 13,
     "metadata": {},
     "output_type": "execute_result"
    }
   ],
   "source": [
    "scores_df"
   ]
  },
  {
   "cell_type": "markdown",
   "metadata": {},
   "source": [
    "Going from a block size of $512$ to a block-size of $32$ does not lead to a noticeable performance decrease, it does decrease the computation time by a factor of $10$. We have to note here that due to the current batch process we skip label tokens that are outside the block size. "
   ]
  },
  {
   "cell_type": "markdown",
   "metadata": {},
   "source": [
    "## False negatives"
   ]
  },
  {
   "cell_type": "code",
   "execution_count": 14,
   "metadata": {},
   "outputs": [
    {
     "name": "stdout",
     "output_type": "stream",
     "text": [
      "109\n",
      "85\n"
     ]
    }
   ],
   "source": [
    "false_negatives = results[(results.label == 'negated') & (results.robbert_v2_dutch_base_3_32_512== 'not negated')]\n",
    "false_negatives.head()\n",
    "print(false_negatives.shape[0])\n",
    "\n",
    "false_positives = results[(results.label == 'not negated') & (results.robbert_v2_dutch_base_3_32_512== 'negated')]\n",
    "false_positives.head()\n",
    "print(false_positives.shape[0])"
   ]
  },
  {
   "cell_type": "code",
   "execution_count": 229,
   "metadata": {},
   "outputs": [
    {
     "ename": "IndexError",
     "evalue": "list index out of range",
     "output_type": "error",
     "traceback": [
      "\u001b[0;31m---------------------------------------------------------------------------\u001b[0m",
      "\u001b[0;31mIndexError\u001b[0m                                Traceback (most recent call last)",
      "\u001b[0;32m<ipython-input-229-26964abeab4c>\u001b[0m in \u001b[0;36m<module>\u001b[0;34m\u001b[0m\n\u001b[1;32m      1\u001b[0m \u001b[0;31m# Show issue with a random record\u001b[0m\u001b[0;34m\u001b[0m\u001b[0;34m\u001b[0m\u001b[0;34m\u001b[0m\u001b[0m\n\u001b[0;32m----> 2\u001b[0;31m \u001b[0mrandom_entity\u001b[0m \u001b[0;34m=\u001b[0m \u001b[0mfalse_negatives\u001b[0m\u001b[0;34m.\u001b[0m\u001b[0mentity_id\u001b[0m\u001b[0;34m.\u001b[0m\u001b[0mtolist\u001b[0m\u001b[0;34m(\u001b[0m\u001b[0;34m)\u001b[0m\u001b[0;34m[\u001b[0m\u001b[0;36m109\u001b[0m\u001b[0;34m]\u001b[0m\u001b[0;34m\u001b[0m\u001b[0;34m\u001b[0m\u001b[0m\n\u001b[0m\u001b[1;32m      3\u001b[0m \u001b[0mtext\u001b[0m\u001b[0;34m,\u001b[0m \u001b[0mstart\u001b[0m\u001b[0;34m,\u001b[0m \u001b[0mend\u001b[0m \u001b[0;34m=\u001b[0m \u001b[0mget_document_text\u001b[0m\u001b[0;34m(\u001b[0m\u001b[0mrandom_entity\u001b[0m\u001b[0;34m,\u001b[0m \u001b[0mdcc_dir\u001b[0m\u001b[0;34m,\u001b[0m \u001b[0mresults\u001b[0m\u001b[0;34m)\u001b[0m\u001b[0;34m\u001b[0m\u001b[0;34m\u001b[0m\u001b[0m\n",
      "\u001b[0;31mIndexError\u001b[0m: list index out of range"
     ]
    }
   ],
   "source": [
    "# Show issue with a random record\n",
    "random_entity = false_negatives.entity_id.tolist()[109]\n",
    "text, start, end = get_document_text(random_entity, dcc_dir, results)"
   ]
  },
  {
   "cell_type": "code",
   "execution_count": 198,
   "metadata": {},
   "outputs": [
    {
     "ename": "IndexError",
     "evalue": "list index out of range",
     "output_type": "error",
     "traceback": [
      "\u001b[0;31m---------------------------------------------------------------------------\u001b[0m",
      "\u001b[0;31mIndexError\u001b[0m                                Traceback (most recent call last)",
      "\u001b[0;32m<ipython-input-198-c0eafbe370de>\u001b[0m in \u001b[0;36m<module>\u001b[0;34m\u001b[0m\n\u001b[1;32m      1\u001b[0m \u001b[0;31m# Show issue with a random record\u001b[0m\u001b[0;34m\u001b[0m\u001b[0;34m\u001b[0m\u001b[0;34m\u001b[0m\u001b[0m\n\u001b[0;32m----> 2\u001b[0;31m \u001b[0mrandom_entity\u001b[0m \u001b[0;34m=\u001b[0m \u001b[0mfalse_positives\u001b[0m\u001b[0;34m.\u001b[0m\u001b[0mentity_id\u001b[0m\u001b[0;34m.\u001b[0m\u001b[0mtolist\u001b[0m\u001b[0;34m(\u001b[0m\u001b[0;34m)\u001b[0m\u001b[0;34m[\u001b[0m\u001b[0;36m85\u001b[0m\u001b[0;34m]\u001b[0m\u001b[0;34m\u001b[0m\u001b[0;34m\u001b[0m\u001b[0m\n\u001b[0m\u001b[1;32m      3\u001b[0m \u001b[0mtext\u001b[0m\u001b[0;34m,\u001b[0m \u001b[0mstart\u001b[0m\u001b[0;34m,\u001b[0m \u001b[0mend\u001b[0m \u001b[0;34m=\u001b[0m \u001b[0mget_document_text\u001b[0m\u001b[0;34m(\u001b[0m\u001b[0mrandom_entity\u001b[0m\u001b[0;34m,\u001b[0m \u001b[0mdcc_dir\u001b[0m\u001b[0;34m,\u001b[0m \u001b[0mresults\u001b[0m\u001b[0;34m)\u001b[0m\u001b[0;34m\u001b[0m\u001b[0;34m\u001b[0m\u001b[0m\n",
      "\u001b[0;31mIndexError\u001b[0m: list index out of range"
     ]
    }
   ],
   "source": [
    "# Show issue with a random record\n",
    "random_entity = false_positives.entity_id.tolist()[85]\n",
    "text, start, end = get_document_text(random_entity, dcc_dir, results)"
   ]
  },
  {
   "cell_type": "markdown",
   "metadata": {},
   "source": [
    "* Uncertainty splitsen in: “speculation” en “ambiguous”\n",
    "* Annotation error splitsen in: “speculation”, “ambiguous” of toch “annotation_error”"
   ]
  },
  {
   "cell_type": "code",
   "execution_count": 230,
   "metadata": {},
   "outputs": [],
   "source": [
    "error_types = {'false_negative': {'uncommon_negation': [0,4,11,45,49,74,82,88,89,92,96,\n",
    "                                                        101,102,103,104,105,107], \n",
    "                                  'annotation_error': [10,13,20,21,27,36,39,52,54,65,66,67,78,93,108],                                  \n",
    "                                  'speculation': [2,3,5,6,8,18,29,40,43,44,\n",
    "                                                  47,50,53,55,58,59,60,61,68,80,81], \n",
    "                                  'ambiguous': [1,7,9,19,41,57,62,76],\n",
    "                                  'minus': [12,15,16,17,22,23,24,25,26,\n",
    "                                            28,30,31,33,34,37,38,42,63,83,84,85,86,106],\n",
    "                                  'other': [14,32,35,46,48,51,56,73,77,90,94,95,97,98,99],\n",
    "                                  'scope': [6,64,70,71,72,75,79,91],\n",
    "                                  'punctuation': [100],\n",
    "                                  'wrong_modality': [69,87]\n",
    "                                 },\n",
    "              'false_positive': {'annotation_error': [0,9,11,22,28,32,47,60,61,68,76,79,82],\n",
    "                                 'negation_of_different_term': [1,4,5,6,7,14,15,18,19,\n",
    "                                                                20,24,26,29,30,37,38,40,49,52,\n",
    "                                                                55,62,63,64,65,66,69,70,71,72,\n",
    "                                                                74,77,78],\n",
    "                                 'speculation': [10,16,39,45,46,56,57,59],\n",
    "                                 'ambiguous': [2,3,8,12,17,42,43,44,48,53,73],\n",
    "                                 'punctuation': [35],\n",
    "                                 'other': [23,25,27,31,33,34,41,50,51,54,58,75,80,81,83,84],\n",
    "                                 'scope': [],                                                 \n",
    "                                 'minus': [],\n",
    "                                 'wrong_modality': [13,21,36,67]\n",
    "              }}"
   ]
  },
  {
   "cell_type": "code",
   "execution_count": 231,
   "metadata": {},
   "outputs": [],
   "source": [
    "tmp = pd.DataFrame(error_types)\n",
    "tmp['false_negative'] = tmp['false_negative'].apply(lambda x: x if isinstance(x,list) else [])\n",
    "tmp['false_positive'] = tmp['false_positive'].apply(lambda x: x if isinstance(x,list) else [])\n",
    "tmp['fn_count'], tmp['fp_count'] = zip(*tmp.apply(lambda x: (len(x[0]), len(x[1])), axis=1))\n",
    "tmp[['fn_perc','fp_perc']] = tmp[['fn_count', 'fp_count']]/tmp[['fn_count', 'fp_count']].sum(axis=0)"
   ]
  },
  {
   "cell_type": "code",
   "execution_count": 232,
   "metadata": {},
   "outputs": [
    {
     "data": {
      "text/html": [
       "<div>\n",
       "<style scoped>\n",
       "    .dataframe tbody tr th:only-of-type {\n",
       "        vertical-align: middle;\n",
       "    }\n",
       "\n",
       "    .dataframe tbody tr th {\n",
       "        vertical-align: top;\n",
       "    }\n",
       "\n",
       "    .dataframe thead th {\n",
       "        text-align: right;\n",
       "    }\n",
       "</style>\n",
       "<table border=\"1\" class=\"dataframe\">\n",
       "  <thead>\n",
       "    <tr style=\"text-align: right;\">\n",
       "      <th></th>\n",
       "      <th>fn_count</th>\n",
       "      <th>fp_count</th>\n",
       "      <th>fn_perc</th>\n",
       "      <th>fp_perc</th>\n",
       "    </tr>\n",
       "  </thead>\n",
       "  <tbody>\n",
       "    <tr>\n",
       "      <th>uncommon_negation</th>\n",
       "      <td>17</td>\n",
       "      <td>0</td>\n",
       "      <td>0.155</td>\n",
       "      <td>0.000</td>\n",
       "    </tr>\n",
       "    <tr>\n",
       "      <th>annotation_error</th>\n",
       "      <td>15</td>\n",
       "      <td>13</td>\n",
       "      <td>0.136</td>\n",
       "      <td>0.153</td>\n",
       "    </tr>\n",
       "    <tr>\n",
       "      <th>speculation</th>\n",
       "      <td>21</td>\n",
       "      <td>8</td>\n",
       "      <td>0.191</td>\n",
       "      <td>0.094</td>\n",
       "    </tr>\n",
       "    <tr>\n",
       "      <th>ambiguous</th>\n",
       "      <td>8</td>\n",
       "      <td>11</td>\n",
       "      <td>0.073</td>\n",
       "      <td>0.129</td>\n",
       "    </tr>\n",
       "    <tr>\n",
       "      <th>minus</th>\n",
       "      <td>23</td>\n",
       "      <td>0</td>\n",
       "      <td>0.209</td>\n",
       "      <td>0.000</td>\n",
       "    </tr>\n",
       "    <tr>\n",
       "      <th>other</th>\n",
       "      <td>15</td>\n",
       "      <td>16</td>\n",
       "      <td>0.136</td>\n",
       "      <td>0.188</td>\n",
       "    </tr>\n",
       "    <tr>\n",
       "      <th>scope</th>\n",
       "      <td>8</td>\n",
       "      <td>0</td>\n",
       "      <td>0.073</td>\n",
       "      <td>0.000</td>\n",
       "    </tr>\n",
       "    <tr>\n",
       "      <th>punctuation</th>\n",
       "      <td>1</td>\n",
       "      <td>1</td>\n",
       "      <td>0.009</td>\n",
       "      <td>0.012</td>\n",
       "    </tr>\n",
       "    <tr>\n",
       "      <th>wrong_modality</th>\n",
       "      <td>2</td>\n",
       "      <td>4</td>\n",
       "      <td>0.018</td>\n",
       "      <td>0.047</td>\n",
       "    </tr>\n",
       "    <tr>\n",
       "      <th>negation_of_different_term</th>\n",
       "      <td>0</td>\n",
       "      <td>32</td>\n",
       "      <td>0.000</td>\n",
       "      <td>0.376</td>\n",
       "    </tr>\n",
       "  </tbody>\n",
       "</table>\n",
       "</div>"
      ],
      "text/plain": [
       "                            fn_count  fp_count  fn_perc  fp_perc\n",
       "uncommon_negation                 17         0    0.155    0.000\n",
       "annotation_error                  15        13    0.136    0.153\n",
       "speculation                       21         8    0.191    0.094\n",
       "ambiguous                          8        11    0.073    0.129\n",
       "minus                             23         0    0.209    0.000\n",
       "other                             15        16    0.136    0.188\n",
       "scope                              8         0    0.073    0.000\n",
       "punctuation                        1         1    0.009    0.012\n",
       "wrong_modality                     2         4    0.018    0.047\n",
       "negation_of_different_term         0        32    0.000    0.376"
      ]
     },
     "execution_count": 232,
     "metadata": {},
     "output_type": "execute_result"
    }
   ],
   "source": [
    "tmp[['fn_count', 'fp_count', 'fn_perc', 'fp_perc']].round(3)"
   ]
  },
  {
   "cell_type": "code",
   "execution_count": 233,
   "metadata": {},
   "outputs": [],
   "source": [
    "false_negative_map = {_v:k for k,v in error_types['false_negative'].items() for _v in v}\n",
    "false_positive_map = {_v:k for k,v in error_types['false_positive'].items() for _v in v}"
   ]
  },
  {
   "cell_type": "code",
   "execution_count": 234,
   "metadata": {},
   "outputs": [
    {
     "name": "stderr",
     "output_type": "stream",
     "text": [
      "<ipython-input-234-bcffd6121571>:2: SettingWithCopyWarning: \n",
      "A value is trying to be set on a copy of a slice from a DataFrame.\n",
      "Try using .loc[row_indexer,col_indexer] = value instead\n",
      "\n",
      "See the caveats in the documentation: https://pandas.pydata.org/pandas-docs/stable/user_guide/indexing.html#returning-a-view-versus-a-copy\n",
      "  false_negatives.loc[:, 'error_type'] = \"UNDEFINED\"\n",
      "<ipython-input-234-bcffd6121571>:3: SettingWithCopyWarning: \n",
      "A value is trying to be set on a copy of a slice from a DataFrame.\n",
      "Try using .loc[row_indexer,col_indexer] = value instead\n",
      "\n",
      "See the caveats in the documentation: https://pandas.pydata.org/pandas-docs/stable/user_guide/indexing.html#returning-a-view-versus-a-copy\n",
      "  false_negatives.loc[:, 'error_type'] = false_negatives.index.map(false_negative_map)\n",
      "<ipython-input-234-bcffd6121571>:6: SettingWithCopyWarning: \n",
      "A value is trying to be set on a copy of a slice from a DataFrame.\n",
      "Try using .loc[row_indexer,col_indexer] = value instead\n",
      "\n",
      "See the caveats in the documentation: https://pandas.pydata.org/pandas-docs/stable/user_guide/indexing.html#returning-a-view-versus-a-copy\n",
      "  false_positives.loc[:, 'error_type'] = \"UNDEFINED\"\n",
      "<ipython-input-234-bcffd6121571>:7: SettingWithCopyWarning: \n",
      "A value is trying to be set on a copy of a slice from a DataFrame.\n",
      "Try using .loc[row_indexer,col_indexer] = value instead\n",
      "\n",
      "See the caveats in the documentation: https://pandas.pydata.org/pandas-docs/stable/user_guide/indexing.html#returning-a-view-versus-a-copy\n",
      "  false_positives.loc[:, 'error_type'] = false_positives.index.map(false_positive_map)\n"
     ]
    }
   ],
   "source": [
    "false_negatives.reset_index(inplace=True, drop=True)\n",
    "false_negatives.loc[:, 'error_type'] = \"UNDEFINED\"\n",
    "false_negatives.loc[:, 'error_type'] = false_negatives.index.map(false_negative_map)\n",
    "\n",
    "false_positives.reset_index(inplace=True, drop=True)\n",
    "false_positives.loc[:, 'error_type'] = \"UNDEFINED\"\n",
    "false_positives.loc[:, 'error_type'] = false_positives.index.map(false_positive_map)"
   ]
  },
  {
   "cell_type": "code",
   "execution_count": 235,
   "metadata": {},
   "outputs": [
    {
     "name": "stderr",
     "output_type": "stream",
     "text": [
      "<ipython-input-235-92a74258d773>:4: SettingWithCopyWarning: \n",
      "A value is trying to be set on a copy of a slice from a DataFrame.\n",
      "Try using .loc[row_indexer,col_indexer] = value instead\n",
      "\n",
      "See the caveats in the documentation: https://pandas.pydata.org/pandas-docs/stable/user_guide/indexing.html#returning-a-view-versus-a-copy\n",
      "  false_positives['pattern'] = false_positives['entity_id'].apply(lambda x: get_document_text(x, *args, **kwargs)[0])\n",
      "<ipython-input-235-92a74258d773>:5: SettingWithCopyWarning: \n",
      "A value is trying to be set on a copy of a slice from a DataFrame.\n",
      "Try using .loc[row_indexer,col_indexer] = value instead\n",
      "\n",
      "See the caveats in the documentation: https://pandas.pydata.org/pandas-docs/stable/user_guide/indexing.html#returning-a-view-versus-a-copy\n",
      "  false_negatives['pattern'] = false_negatives['entity_id'].apply(lambda x: get_document_text(x, *args, **kwargs)[0])\n"
     ]
    }
   ],
   "source": [
    "args = [dcc_dir, results]\n",
    "kwargs = {'print_html': False, 'print_text': False, 'obfuscate_entity': True}\n",
    "\n",
    "false_positives['pattern'] = false_positives['entity_id'].apply(lambda x: get_document_text(x, *args, **kwargs)[0])\n",
    "false_negatives['pattern'] = false_negatives['entity_id'].apply(lambda x: get_document_text(x, *args, **kwargs)[0])\n",
    "\n",
    "false_positives[['entity_id', 'error_type', 'pattern']].to_csv(\"results/false-positives_robbert.csv\", index=False)\n",
    "false_negatives[['entity_id', 'error_type', 'pattern']].to_csv(\"results/false-negatives_robbert.csv\", index=False)"
   ]
  },
  {
   "cell_type": "markdown",
   "metadata": {},
   "source": [
    "# biLSTM"
   ]
  },
  {
   "cell_type": "markdown",
   "metadata": {},
   "source": [
    "## False negatives biLSTM"
   ]
  },
  {
   "cell_type": "code",
   "execution_count": 17,
   "metadata": {},
   "outputs": [
    {
     "data": {
      "text/html": [
       "<div>\n",
       "<style scoped>\n",
       "    .dataframe tbody tr th:only-of-type {\n",
       "        vertical-align: middle;\n",
       "    }\n",
       "\n",
       "    .dataframe tbody tr th {\n",
       "        vertical-align: top;\n",
       "    }\n",
       "\n",
       "    .dataframe thead th {\n",
       "        text-align: right;\n",
       "    }\n",
       "</style>\n",
       "<table border=\"1\" class=\"dataframe\">\n",
       "  <thead>\n",
       "    <tr style=\"text-align: right;\">\n",
       "      <th></th>\n",
       "      <th>entity_id</th>\n",
       "      <th>category</th>\n",
       "      <th>label</th>\n",
       "      <th>bilstm</th>\n",
       "      <th>bilstm_cv</th>\n",
       "      <th>rule_based</th>\n",
       "      <th>robbert_512_2</th>\n",
       "      <th>robbert_128_2</th>\n",
       "      <th>robbert_32_2</th>\n",
       "      <th>robbert_32_1</th>\n",
       "    </tr>\n",
       "  </thead>\n",
       "  <tbody>\n",
       "    <tr>\n",
       "      <th>2950</th>\n",
       "      <td>GP1191_121_127</td>\n",
       "      <td>GP</td>\n",
       "      <td>negated</td>\n",
       "      <td>not negated</td>\n",
       "      <td>not negated</td>\n",
       "      <td>not negated</td>\n",
       "      <td>not negated</td>\n",
       "      <td>not negated</td>\n",
       "      <td>not negated</td>\n",
       "      <td>not negated</td>\n",
       "    </tr>\n",
       "    <tr>\n",
       "      <th>3612</th>\n",
       "      <td>GP1558_64_70</td>\n",
       "      <td>GP</td>\n",
       "      <td>negated</td>\n",
       "      <td>not negated</td>\n",
       "      <td>negated</td>\n",
       "      <td>not negated</td>\n",
       "      <td>not negated</td>\n",
       "      <td>NaN</td>\n",
       "      <td>not negated</td>\n",
       "      <td>NaN</td>\n",
       "    </tr>\n",
       "    <tr>\n",
       "      <th>3659</th>\n",
       "      <td>GP1601_67_74</td>\n",
       "      <td>GP</td>\n",
       "      <td>negated</td>\n",
       "      <td>not negated</td>\n",
       "      <td>not negated</td>\n",
       "      <td>not negated</td>\n",
       "      <td>not negated</td>\n",
       "      <td>not negated</td>\n",
       "      <td>not negated</td>\n",
       "      <td>not negated</td>\n",
       "    </tr>\n",
       "    <tr>\n",
       "      <th>4432</th>\n",
       "      <td>GP2067_0_5</td>\n",
       "      <td>GP</td>\n",
       "      <td>negated</td>\n",
       "      <td>not negated</td>\n",
       "      <td>not negated</td>\n",
       "      <td>not negated</td>\n",
       "      <td>NaN</td>\n",
       "      <td>NaN</td>\n",
       "      <td>NaN</td>\n",
       "      <td>NaN</td>\n",
       "    </tr>\n",
       "    <tr>\n",
       "      <th>5620</th>\n",
       "      <td>GP2796_56_63</td>\n",
       "      <td>GP</td>\n",
       "      <td>negated</td>\n",
       "      <td>not negated</td>\n",
       "      <td>not negated</td>\n",
       "      <td>not negated</td>\n",
       "      <td>not negated</td>\n",
       "      <td>not negated</td>\n",
       "      <td>not negated</td>\n",
       "      <td>negated</td>\n",
       "    </tr>\n",
       "  </tbody>\n",
       "</table>\n",
       "</div>"
      ],
      "text/plain": [
       "           entity_id category    label       bilstm    bilstm_cv   rule_based  \\\n",
       "2950  GP1191_121_127       GP  negated  not negated  not negated  not negated   \n",
       "3612    GP1558_64_70       GP  negated  not negated      negated  not negated   \n",
       "3659    GP1601_67_74       GP  negated  not negated  not negated  not negated   \n",
       "4432      GP2067_0_5       GP  negated  not negated  not negated  not negated   \n",
       "5620    GP2796_56_63       GP  negated  not negated  not negated  not negated   \n",
       "\n",
       "     robbert_512_2 robbert_128_2 robbert_32_2 robbert_32_1  \n",
       "2950   not negated   not negated  not negated  not negated  \n",
       "3612   not negated           NaN  not negated          NaN  \n",
       "3659   not negated   not negated  not negated  not negated  \n",
       "4432           NaN           NaN          NaN          NaN  \n",
       "5620   not negated   not negated  not negated      negated  "
      ]
     },
     "execution_count": 17,
     "metadata": {},
     "output_type": "execute_result"
    }
   ],
   "source": [
    "# Select false negatives\n",
    "false_negatives = results[(results.label == 'negated') & (results.bilstm == 'not negated')]\n",
    "false_negatives.head()"
   ]
  },
  {
   "cell_type": "code",
   "execution_count": 18,
   "metadata": {},
   "outputs": [
    {
     "data": {
      "text/html": [
       "XXXXXXXXXX, adres Nw #Street#-a, #Postcode# #City# Geachte collega, Uw bovengenoemde patient bezocht de polikliniek dermatologie in verband met psoriasis.\n",
       "Anamnese Zoals u weet is patient al langer bekend met psoriasis waarvoor in het verleden lokale therapie (onvoldoende effect) en UVB therapie(onvoldoende effect).\n",
       "Ik was voornemens Methotrexaat te starten maar bij de thoraxfoto werd een tumor gezien.\n",
       "Hij is bekend met diabetes mellitus en als medicatie wordt Metformine, Atacand, Diamicron en Ascal gebruikt.\n",
       "<mark style='background-color: #fff59d'><text>Hepatitis B</text></mark> en C serologie: negatief.\n",
       "Conclusie Psoriasis vulgaris.\n",
       "Daarnaast bestaat er een kleine kans op een Methotrexaat pneumonitis.\n",
       "<br>"
      ],
      "text/plain": [
       "<IPython.core.display.HTML object>"
      ]
     },
     "metadata": {},
     "output_type": "display_data"
    },
    {
     "name": "stdout",
     "output_type": "stream",
     "text": [
      "Entity: Hepatitis B (515-526)\n",
      "\n",
      "            entity_id category    label       bilstm    bilstm_cv  \\\n",
      "10513  SP1350_515_526       SP  negated  not negated  not negated   \n",
      "\n",
      "        rule_based robbert_512_2 robbert_128_2 robbert_32_2 robbert_32_1  \n",
      "10513  not negated   not negated   not negated          NaN          NaN  \n"
     ]
    }
   ],
   "source": [
    "# Show issue with a random record\n",
    "random_entity = false_negatives.sample(1).entity_id.tolist()[0]\n",
    "text, start, end = get_document_text(random_entity, dcc_dir, results)"
   ]
  },
  {
   "cell_type": "code",
   "execution_count": 19,
   "metadata": {},
   "outputs": [
    {
     "name": "stdout",
     "output_type": "stream",
     "text": [
      "0 of 17 (0%) false negatives caused by negation described as \"-\"\n"
     ]
    }
   ],
   "source": [
    "# Count number of false negatives caused by -\n",
    "count = 0\n",
    "for index, record in false_negatives.iterrows():\n",
    "    text, start, end = get_document_text(record.entity_id, dcc_dir, Path('data'), print_text=False)\n",
    "    if text[end:end+1] == '-':\n",
    "        count += 1\n",
    "print(f'{count} of {false_negatives.shape[0]} ({round((count / false_negatives.shape[0]) * 100)}%) false negatives caused by negation described as \"-\"')"
   ]
  },
  {
   "cell_type": "code",
   "execution_count": 20,
   "metadata": {},
   "outputs": [
    {
     "data": {
      "text/html": [
       "Het laatste jaar zijn de klachten verminderd en bovendien wil patiente - nu zij <mark style='background-color: #fff59d'><text>gescheiden</text></mark> is - weer wat meer gaan werken als verpleegkundige.\n",
       "<br>"
      ],
      "text/plain": [
       "<IPython.core.display.HTML object>"
      ]
     },
     "metadata": {},
     "output_type": "display_data"
    },
    {
     "name": "stdout",
     "output_type": "stream",
     "text": [
      "Entity: gescheiden (80-90)\n",
      "\n",
      "        entity_id        label bilstm_cv\n",
      "117  DL1154_80_90  not negated   negated\n"
     ]
    },
    {
     "data": {
      "text/html": [
       "Er is geen trauma ontstaan.\n",
       "Er is een arthrogram en een arthroscopie gemaakt, welke aantoonde dat er een ligament-letsel zou zijn.\n",
       "De Watsontest (scapho-lunaire <mark style='background-color: #fff59d'><text>dissociatie</text></mark>) en de Finkelsteintest zijn negatief.\n",
       "Als de uitslag bekend is zal patiente wederom op mijn spreekuur komen, voor het bespreken van de uitslag.\n",
       "<br>"
      ],
      "text/plain": [
       "<IPython.core.display.HTML object>"
      ]
     },
     "metadata": {},
     "output_type": "display_data"
    },
    {
     "name": "stdout",
     "output_type": "stream",
     "text": [
      "Entity: dissociatie (161-172)\n",
      "\n",
      "          entity_id    label    bilstm_cv\n",
      "121  DL1156_161_172  negated  not negated\n"
     ]
    },
    {
     "data": {
      "text/html": [
       "Dit probleem bestaat sedert 3 jaar en is spontaan begonnen, een voorafgaand <mark style='background-color: #fff59d'><text>trauma</text></mark> kan niet worden herinnerd.\n",
       "Geen tendovaginitis.\n",
       "Conclusie en beleid: Voetklachten rechts, in de vorm van zwelling en stijfheid, vooral in de zomer.\n",
       "<br>"
      ],
      "text/plain": [
       "<IPython.core.display.HTML object>"
      ]
     },
     "metadata": {},
     "output_type": "display_data"
    },
    {
     "name": "stdout",
     "output_type": "stream",
     "text": [
      "Entity: trauma (76-82)\n",
      "\n",
      "        entity_id    label    bilstm_cv\n",
      "155  DL1167_76_82  negated  not negated\n"
     ]
    },
    {
     "data": {
      "text/html": [
       "Patiente klaagt sedertdien over een doof gevoel rond de rechter duim (die overigens op congenitale basis hypoplastisch is), en over een cervicobrachialgie.\n",
       "Aan schouder- en bovenarmsmusculatuur geen atrofie.\n",
       "Over de rechter pols een litteken ter hoogte van het eerste peescompartiment.\n",
       "Conclusie en beleid: Cervicobrachialgie zonder zekere <mark style='background-color: #fff59d'><text>diagnose</text></mark>.\n",
       "Evenals collega #Name# dacht ik ook aan een postoperatief letsel van de n.\n",
       "<br>"
      ],
      "text/plain": [
       "<IPython.core.display.HTML object>"
      ]
     },
     "metadata": {},
     "output_type": "display_data"
    },
    {
     "name": "stdout",
     "output_type": "stream",
     "text": [
      "Entity: diagnose (340-348)\n",
      "\n",
      "          entity_id    label    bilstm_cv\n",
      "360  DL1237_340_348  negated  not negated\n"
     ]
    },
    {
     "data": {
      "text/html": [
       "Anamnestisch zijn er geen aanwijzingen voor een compartimentsyndroom, zeker niet omdat er ook een zwelling van het onderbeen is.\n",
       "Geen atrofie van de bovenbeensmusculatuur.\n",
       "Geen aanwijzingen voor shin splints.\n",
       "In rust na inspanning was de druk binnen 1 minuut weer normaal, hetgeen pleit tegen een chronisch <mark style='background-color: #fff59d'><text>compartimentsyndroom</text></mark>.\n",
       "Conclusie: Geen aanwijzingen voor compartimentsyndroom.\n",
       "<br>"
      ],
      "text/plain": [
       "<IPython.core.display.HTML object>"
      ]
     },
     "metadata": {},
     "output_type": "display_data"
    },
    {
     "name": "stdout",
     "output_type": "stream",
     "text": [
      "Entity: compartimentsyndroom (307-327)\n",
      "\n",
      "          entity_id    label    bilstm_cv\n",
      "376  DL1242_307_327  negated  not negated\n"
     ]
    },
    {
     "data": {
      "text/html": [
       "Geen stuitligging.\n",
       "Conclusie: Verminderde abductie beide heupen, zonder dat hier een <mark style='background-color: #fff59d'><text>heupdysplasie</text></mark> aan ten grondslag ligt.\n",
       "<br>"
      ],
      "text/plain": [
       "<IPython.core.display.HTML object>"
      ]
     },
     "metadata": {},
     "output_type": "display_data"
    },
    {
     "name": "stdout",
     "output_type": "stream",
     "text": [
      "Entity: heupdysplasie (85-98)\n",
      "\n",
      "        entity_id    label    bilstm_cv\n",
      "515  DL1295_85_98  negated  not negated\n"
     ]
    },
    {
     "data": {
      "text/html": [
       "Diagnose: posttraumatische oefenstoornis na beklemming linker ringvinger in augustus'95.\n",
       "Bij onderzoek bestaat er enige zwelling t.h.v. het PIP-gewricht met een litteken op het dorsum.\n",
       "Er is noch sprake van <mark style='background-color: #fff59d'><text>overmatig zweten</text></mark>, noch van excessieve haargroei.\n",
       "Met name kunnen we geen aanwijzing vinden voor neuromen.\n",
       "<br>"
      ],
      "text/plain": [
       "<IPython.core.display.HTML object>"
      ]
     },
     "metadata": {},
     "output_type": "display_data"
    },
    {
     "name": "stdout",
     "output_type": "stream",
     "text": [
      "Entity: overmatig zweten (207-223)\n",
      "\n",
      "          entity_id    label    bilstm_cv\n",
      "599  DL1325_207_223  negated  not negated\n"
     ]
    },
    {
     "data": {
      "text/html": [
       "Anamnese: #Name# is bekend met een anterior #City# cell degeneratie, een variant van arthrogryposis multiplex congenita.\n",
       "Tijdens de neonatale periode is hij hier opgenomen geweest in het #Hospital# voor de <mark style='background-color: #fff59d'><text>diagnose</text></mark> en voor de behandeling van een femurfractuur links.\n",
       "Verder heeft hij een klompvoet links en een afwijkende voet rechts.\n",
       "Bij onderzoek is er aan de handen beiderzijds een thumbin palm misvorming.\n",
       "Voeten: calcaneovalgus, danwel verticale talus rechts en een stugge klompvoet links.\n",
       "Rontgenonderzoek van het bekken en beide bovenbenen toont een goed geconsolideerde femurschachtfractuur links en ook een geringe periostreactie aan de laterale zijde van het rechter femur.\n",
       "<br>"
      ],
      "text/plain": [
       "<IPython.core.display.HTML object>"
      ]
     },
     "metadata": {},
     "output_type": "display_data"
    },
    {
     "name": "stdout",
     "output_type": "stream",
     "text": [
      "Entity: diagnose (206-214)\n",
      "\n",
      "          entity_id        label bilstm_cv\n",
      "664  DL1348_206_214  not negated   negated\n"
     ]
    },
    {
     "data": {
      "text/html": [
       "Pronatie:   links:  0/75'             rechts: 0/80' Supinatie:  links:  0/ 0'             rechts: 0/90'   Rontgenonderzoek toonde een status na een distale radiusfractuur links.\n",
       "Het capitulum radii lijkt niet te <mark style='background-color: #fff59d'><text>sporen</text></mark>.\n",
       "<br>"
      ],
      "text/plain": [
       "<IPython.core.display.HTML object>"
      ]
     },
     "metadata": {},
     "output_type": "display_data"
    },
    {
     "name": "stdout",
     "output_type": "stream",
     "text": [
      "Entity: sporen (212-218)\n",
      "\n",
      "          entity_id    label    bilstm_cv\n",
      "709  DL1367_212_218  negated  not negated\n"
     ]
    },
    {
     "data": {
      "text/html": [
       "Een omschreven voorafgaand <mark style='background-color: #fff59d'><text>trauma</text></mark> kan niet worden aangegeven.\n",
       "Aan het rechter bovenbeen 2 cm atrofie.\n",
       "Staand lijkt er een genu valgum van circa 15` te bestaan, deels is dit schijnbaar door voornoemde flexiecontractuur.\n",
       "Beeldvormende diagnostiek: X-rechter knie + arthrogram d.d. 09-10-1995: laterale meniscuslaesie.\n",
       "Conclusie en beleid: Laterale meniscuslaesie rechter knie, tevens genu valgum.\n",
       "Patient is op de opnamelijst geplaatst voor arthroscopisch/chirurgische ingreep in dagbehandeling.\n",
       "<br>"
      ],
      "text/plain": [
       "<IPython.core.display.HTML object>"
      ]
     },
     "metadata": {},
     "output_type": "display_data"
    },
    {
     "name": "stdout",
     "output_type": "stream",
     "text": [
      "Entity: trauma (27-33)\n",
      "\n",
      "        entity_id        label bilstm_cv\n",
      "781  DL1391_27_33  not negated   negated\n"
     ]
    },
    {
     "data": {
      "text/html": [
       "Anamnese: Medio 1995 kreeg patiente wat last van beide heupen en zij merkte ook een zwelling aan de achterzijde van de heupen op.\n",
       "Onderzoek: Er bestond beiderzijds, rechts meer dan links, een zwelling in het gebied van de gluteus en trochanter, over een lengte van rechts 12 cm en links 7 cm.\n",
       "Een zekere <mark style='background-color: #fff59d'><text>diagnose</text></mark> kon niet gesteld worden.\n",
       "<br>"
      ],
      "text/plain": [
       "<IPython.core.display.HTML object>"
      ]
     },
     "metadata": {},
     "output_type": "display_data"
    },
    {
     "name": "stdout",
     "output_type": "stream",
     "text": [
      "Entity: diagnose (304-312)\n",
      "\n",
      "          entity_id        label bilstm_cv\n",
      "821  DL1401_304_312  not negated   negated\n"
     ]
    },
    {
     "data": {
      "text/html": [
       "Wat betreft de linker zijde: gezien de ongecompliceerde genezing verwacht ik geen functionele beperkingen van het <mark style='background-color: #fff59d'><text>litteken</text></mark>.\n",
       "<br>"
      ],
      "text/plain": [
       "<IPython.core.display.HTML object>"
      ]
     },
     "metadata": {},
     "output_type": "display_data"
    },
    {
     "name": "stdout",
     "output_type": "stream",
     "text": [
      "Entity: litteken (114-122)\n",
      "\n",
      "          entity_id        label bilstm_cv\n",
      "939  DL1446_114_122  not negated   negated\n"
     ]
    },
    {
     "data": {
      "text/html": [
       "Rontgenonderzoek: Thoracolumbalewervelkolom: rechte rug, iets versterkte thoracale kyphose zonder definitieve <mark style='background-color: #fff59d'><text>groeistoornissen</text></mark>.\n",
       "<br>"
      ],
      "text/plain": [
       "<IPython.core.display.HTML object>"
      ]
     },
     "metadata": {},
     "output_type": "display_data"
    },
    {
     "name": "stdout",
     "output_type": "stream",
     "text": [
      "Entity: groeistoornissen (110-126)\n",
      "\n",
      "          entity_id    label    bilstm_cv\n",
      "988  DL1470_110_126  negated  not negated\n"
     ]
    },
    {
     "data": {
      "text/html": [
       "Anamnese: #Name# was ons bekend met een heupdysplasie in het verre verleden.\n",
       "Zij heeft af en toe wat rugpijn tussen de schouderbladen en vooral bij lichamelijke aktiviteit.\n",
       "De rug is recht, toont geen scoliose, maar heeft wel wat ronding in de thoracale wervelkolom.\n",
       "Rontgenonderzoek: Geen afwijkingen passend bij de <mark style='background-color: #fff59d'><text>ziekte</text></mark> van #Name#.\n",
       "<br>"
      ],
      "text/plain": [
       "<IPython.core.display.HTML object>"
      ]
     },
     "metadata": {},
     "output_type": "display_data"
    },
    {
     "name": "stdout",
     "output_type": "stream",
     "text": [
      "Entity: ziekte (317-323)\n",
      "\n",
      "          entity_id    label    bilstm_cv\n",
      "993  DL1472_317_323  negated  not negated\n"
     ]
    },
    {
     "data": {
      "text/html": [
       "Dit is niet voorafgegaan door een <mark style='background-color: #fff59d'><text>trauma</text></mark>.\n",
       "<br>"
      ],
      "text/plain": [
       "<IPython.core.display.HTML object>"
      ]
     },
     "metadata": {},
     "output_type": "display_data"
    },
    {
     "name": "stdout",
     "output_type": "stream",
     "text": [
      "Entity: trauma (34-40)\n",
      "\n",
      "         entity_id    label    bilstm_cv\n",
      "1079  DL1508_34_40  negated  not negated\n"
     ]
    },
    {
     "data": {
      "text/html": [
       "Tijdens arthroscopie bleek er sprake van een synovitis.\n",
       "Geen opvallende <mark style='background-color: #fff59d'><text>chondropathie</text></mark>.\n",
       "Deze toonden een aspecifieke ontstekingsreactie.\n",
       "<br>"
      ],
      "text/plain": [
       "<IPython.core.display.HTML object>"
      ]
     },
     "metadata": {},
     "output_type": "display_data"
    },
    {
     "name": "stdout",
     "output_type": "stream",
     "text": [
      "Entity: chondropathie (72-85)\n",
      "\n",
      "         entity_id        label bilstm_cv\n",
      "1340  DL1608_72_85  not negated   negated\n"
     ]
    },
    {
     "data": {
      "text/html": [
       "Op 26-11-1995 liep patient tijdens het voetballen een knieletsel rechts op.\n",
       "<mark style='background-color: #fff59d'><text>Zwelling</text></mark> zou niet zijn opgetreden, maar gedurende enkele weken was de knie niet goed te strekken.\n",
       "Bij onderzoek toont de rechter knie een geringe hydrops en is er een geringe strekbeperking.\n",
       "De MRI toont een midsubstance voorste kruisbandruptuur en een ruptuur in de ahcterhoorn van de mediale meniscus.\n",
       "<br>"
      ],
      "text/plain": [
       "<IPython.core.display.HTML object>"
      ]
     },
     "metadata": {},
     "output_type": "display_data"
    },
    {
     "name": "stdout",
     "output_type": "stream",
     "text": [
      "Entity: Zwelling (76-84)\n",
      "\n",
      "         entity_id    label    bilstm_cv\n",
      "1368  DL1615_76_84  negated  not negated\n"
     ]
    },
    {
     "data": {
      "text/html": [
       "Anamnese: #Name# is via het consultatiebureau en huisarts ingestuurd onder verdenking van een klompvoet.\n",
       "Er zijn meer dan 3 huidplooien zichtbaar t.h.v. de achillespees, wat niet past bij een <mark style='background-color: #fff59d'><text>klompvoet</text></mark>.\n",
       "Bij inspectie is er tevens een geringe, soepele, metatarsus adductus en een metatarsus primus varus.\n",
       "Conclusie: Soepele metatarsus adductus in combinatie met metatarsus primus varus.\n",
       "Geen aanwijzingen voor een klompvoet.\n",
       "<br>"
      ],
      "text/plain": [
       "<IPython.core.display.HTML object>"
      ]
     },
     "metadata": {},
     "output_type": "display_data"
    },
    {
     "name": "stdout",
     "output_type": "stream",
     "text": [
      "Entity: klompvoet (192-201)\n",
      "\n",
      "           entity_id    label    bilstm_cv\n",
      "1464  DL1642_192_201  negated  not negated\n"
     ]
    },
    {
     "data": {
      "text/html": [
       "Rontgenonderzoek toonde met name geen benige <mark style='background-color: #fff59d'><text>exostose</text></mark> aan de achterzijde van de scapula aan.\n",
       "<br>"
      ],
      "text/plain": [
       "<IPython.core.display.HTML object>"
      ]
     },
     "metadata": {},
     "output_type": "display_data"
    },
    {
     "name": "stdout",
     "output_type": "stream",
     "text": [
      "Entity: exostose (45-53)\n",
      "\n",
      "         entity_id    label    bilstm_cv\n",
      "1494  DL1652_45_53  negated  not negated\n"
     ]
    },
    {
     "data": {
      "text/html": [
       "Patiente is bij ons bekend met een zogenaamd pseudo Antley Bixler syndroom beeld.\n",
       "Hierbij is sprake van een afgevlakt achterhoofd zonder te verwachten <mark style='background-color: #fff59d'><text>synostose</text></mark> van de lambdanaden.\n",
       "Tevens is er een abducens parese rechts aanwezig.\n",
       "<br>"
      ],
      "text/plain": [
       "<IPython.core.display.HTML object>"
      ]
     },
     "metadata": {},
     "output_type": "display_data"
    },
    {
     "name": "stdout",
     "output_type": "stream",
     "text": [
      "Entity: synostose (151-160)\n",
      "\n",
      "           entity_id        label bilstm_cv\n",
      "1519  DL1667_151_160  not negated   negated\n"
     ]
    },
    {
     "data": {
      "text/html": [
       "Reden van opname: lipodystrofie aan de mediale zijde van beide knieen.\n",
       "Bij poliklinische controle bleek de wondgenezing fraai en konden de hechtingen worden verwijderd.\n",
       "Het resultaat was op dat moment reeds goed te zien en was naar de tevredenheid van patiente, evenwel zal het definitieve resultaat pas over meerdere maanden te beoordelen zijn; zodra de <mark style='background-color: #fff59d'><text>zwelling</text></mark> is verdwenen.\n",
       "<br>"
      ],
      "text/plain": [
       "<IPython.core.display.HTML object>"
      ]
     },
     "metadata": {},
     "output_type": "display_data"
    },
    {
     "name": "stdout",
     "output_type": "stream",
     "text": [
      "Entity: zwelling (355-363)\n",
      "\n",
      "           entity_id        label bilstm_cv\n",
      "1538  DL1673_355_363  not negated   negated\n"
     ]
    },
    {
     "data": {
      "text/html": [
       "Zij is verder goed gezond, gebruikt geen medicijnen en is niet bekend met <mark style='background-color: #fff59d'><text>allergie</text></mark>.\n",
       "<br>"
      ],
      "text/plain": [
       "<IPython.core.display.HTML object>"
      ]
     },
     "metadata": {},
     "output_type": "display_data"
    },
    {
     "name": "stdout",
     "output_type": "stream",
     "text": [
      "Entity: allergie (74-82)\n",
      "\n",
      "         entity_id    label    bilstm_cv\n",
      "1615  DL1701_74_82  negated  not negated\n"
     ]
    },
    {
     "data": {
      "text/html": [
       "De rugpijn is sinds 1 jaar aanwezig.\n",
       "Geen spondylolysis/listhesis.\n",
       "Diagnose: Lumbago zonder objectiveerbare oorzaak.|\n",
       "Anamnestisch is er niet duidelijke sprake van een neurogene <mark style='background-color: #fff59d'><text>claudicatio</text></mark>.\n",
       "Bij onderzoek wordt ook een radiculopathie uitgesloten.\n",
       "<br>"
      ],
      "text/plain": [
       "<IPython.core.display.HTML object>"
      ]
     },
     "metadata": {},
     "output_type": "display_data"
    },
    {
     "name": "stdout",
     "output_type": "stream",
     "text": [
      "Entity: claudicatio (178-189)\n",
      "\n",
      "           entity_id    label    bilstm_cv\n",
      "1717  DL1732_178_189  negated  not negated\n"
     ]
    },
    {
     "data": {
      "text/html": [
       "De rugpijn is sinds 1 jaar aanwezig.\n",
       "Geen spondylolysis/listhesis.\n",
       "Diagnose: Lumbago zonder objectiveerbare oorzaak.|\n",
       "Anamnestisch is er niet duidelijke sprake van een neurogene claudicatio.\n",
       "Bij onderzoek wordt ook een <mark style='background-color: #fff59d'><text>radiculopathie</text></mark> uitgesloten.\n",
       "<br>"
      ],
      "text/plain": [
       "<IPython.core.display.HTML object>"
      ]
     },
     "metadata": {},
     "output_type": "display_data"
    },
    {
     "name": "stdout",
     "output_type": "stream",
     "text": [
      "Entity: radiculopathie (219-233)\n",
      "\n",
      "           entity_id    label    bilstm_cv\n",
      "1718  DL1732_219_233  negated  not negated\n"
     ]
    },
    {
     "data": {
      "text/html": [
       "Anamnese: Patient kwam naar mijn spreekuur voor beoordeling van zijn <mark style='background-color: #fff59d'><text>scoliose</text></mark>.\n",
       "Patient is bekend met een spastische tetraplegie vanaf de geboorte, gepaardgaande met heupluxaties bdz.\n",
       "Onderzoek: Een 22-jarige man met een spastische tetraplegie.\n",
       "Rontgenonderzoek: #Name# dd 10.01.96 X-bekken en lumbosacrale wervelkolom ap zittend en dwars en omkromfoto's: hier wordt allereerst een status na congenitale heupluxatie bdz.\n",
       "Voorts een ernstige lumbale scoliose convex naar links, verlopend van Th11 t/m L5, hoek van Cobb 84`.\n",
       "Omkromfoto laat een correctie zien tot ongeveer 40`.|   Conclusie: Thans 22-jarige man met een spastische tetraplegie, voorts verstandelijk ernstig gehandicapt met een forse lumbale scoliose convex naar links waardoor hij geheel uit het lood komt te zitten naar rechts.\n",
       "<br>"
      ],
      "text/plain": [
       "<IPython.core.display.HTML object>"
      ]
     },
     "metadata": {},
     "output_type": "display_data"
    },
    {
     "name": "stdout",
     "output_type": "stream",
     "text": [
      "Entity: scoliose (69-77)\n",
      "\n",
      "         entity_id        label bilstm_cv\n",
      "1742  DL1740_69_77  not negated   negated\n"
     ]
    },
    {
     "data": {
      "text/html": [
       "Vanaf oktober 1994 heb ik de behandeling van dit crushletsel van de rechter hand met luxaties op carpometacarpaal niveau en een fractuur van de basisphalanx van de wijsvinger en van metacarpale III overgenomen.\n",
       "Hij werd op 25 juli 1995 opnieuw geopereerd, waarbij de loop via het oude litteken werd opgelicht en van het surplus subcutaan vet werd ontdaan.\n",
       "Tenslotte werd ter hoogte van de aangegeven neuroomklachten geexploreerd, waarbij geen duidelijke <mark style='background-color: #fff59d'><text>neuroom</text></mark> aangetroffen werd.\n",
       "Er blijkt een ruptuur te zijn ontstaan van de extensor van de vijfde straal, zodat reexploratie noodzakelijk is op 29 juli 1995.\n",
       "<br>"
      ],
      "text/plain": [
       "<IPython.core.display.HTML object>"
      ]
     },
     "metadata": {},
     "output_type": "display_data"
    },
    {
     "name": "stdout",
     "output_type": "stream",
     "text": [
      "Entity: neuroom (454-461)\n",
      "\n",
      "           entity_id        label bilstm_cv\n",
      "1889  DL1775_454_461  not negated   negated\n"
     ]
    },
    {
     "data": {
      "text/html": [
       "Daarnaast heeft hij veel last van hoofdpijn en duizeligheid.\n",
       "Onderzoek: Bij onderzoek een stevig gebouwde, 45-jarige man met een versterkte kyphose en een versterkte lordose.\n",
       "Bij bewegingen van de cervicale wervelkolom zijn er lichte crepitaties en een lichte beperking en pijn wordt aangegeven in de eindstanden.\n",
       "Objectief orthopaedisch <mark style='background-color: #fff59d'><text>lijden</text></mark> heb ik niet kunnen aantonen.\n",
       "<br>"
      ],
      "text/plain": [
       "<IPython.core.display.HTML object>"
      ]
     },
     "metadata": {},
     "output_type": "display_data"
    },
    {
     "name": "stdout",
     "output_type": "stream",
     "text": [
      "Entity: lijden (338-344)\n",
      "\n",
      "           entity_id    label    bilstm_cv\n",
      "1957  DL1796_338_344  negated  not negated\n"
     ]
    },
    {
     "data": {
      "text/html": [
       "De ellebogen vertonen geen opvallende <mark style='background-color: #fff59d'><text>zwelling</text></mark>.\n",
       "De provocatietesten voor de tenniselleboog zijn negatief.\n",
       "Naast de linker radiuskop mogelijk een klein corpus liberum.\n",
       "Diagnose: Arthrose ellebogen bdz.\n",
       "<br>"
      ],
      "text/plain": [
       "<IPython.core.display.HTML object>"
      ]
     },
     "metadata": {},
     "output_type": "display_data"
    },
    {
     "name": "stdout",
     "output_type": "stream",
     "text": [
      "Entity: zwelling (38-46)\n",
      "\n",
      "         entity_id    label    bilstm_cv\n",
      "1970  DL1802_38_46  negated  not negated\n"
     ]
    },
    {
     "data": {
      "text/html": [
       "De ellebogen vertonen geen opvallende zwelling.\n",
       "De provocatietesten voor de <mark style='background-color: #fff59d'><text>tenniselleboog</text></mark> zijn negatief.\n",
       "Naast de linker radiuskop mogelijk een klein corpus liberum.\n",
       "Diagnose: Arthrose ellebogen bdz.\n",
       "<br>"
      ],
      "text/plain": [
       "<IPython.core.display.HTML object>"
      ]
     },
     "metadata": {},
     "output_type": "display_data"
    },
    {
     "name": "stdout",
     "output_type": "stream",
     "text": [
      "Entity: tenniselleboog (76-90)\n",
      "\n",
      "         entity_id    label    bilstm_cv\n",
      "1971  DL1802_76_90  negated  not negated\n"
     ]
    },
    {
     "data": {
      "text/html": [
       "Diagnose: snelgroeiend ulcererend tumor rechter oor.\n",
       "De resectieranden zijn vrij van <mark style='background-color: #fff59d'><text>tumor</text></mark>.\n",
       "<br>"
      ],
      "text/plain": [
       "<IPython.core.display.HTML object>"
      ]
     },
     "metadata": {},
     "output_type": "display_data"
    },
    {
     "name": "stdout",
     "output_type": "stream",
     "text": [
      "Entity: tumor (85-90)\n",
      "\n",
      "         entity_id    label    bilstm_cv\n",
      "2101  DL1861_85_90  negated  not negated\n"
     ]
    },
    {
     "data": {
      "text/html": [
       "Zoals bij u bekend heeft patiente een status na arthrodese van MCP I links, tenolyse van de extensor pollicis longus over het IP-gewricht en een Eaton Littler stabilisatie plastiek m.b.v. een deel van de flexor carpi radialis i.v.m. een luxatie van het CMC I-gewricht.\n",
       "Patiente had hierna een goed resultaat verkregen, echter in de ochtend van 8 januari, tijdens het wegzetten van de stofzuigerslang, voelde zij een plotselinge knap aan de dorsale zijde over het metacarpale I, met vanaf dat moment een pijnlijke zwelling t.p.v. de basis van het metacarpale I en een onvermogen tot abductie van de linker duim.\n",
       "Er is een rode huidverkleuring over het dorsum van metacarpale I en over het CMC-gewricht.\n",
       "In de differentiaal diagnose staat een ruptuur van de abductus pollicis longus of een fractuur of fissuur van het metacarpale I of een arthritis van het CMC-gewricht.\n",
       "Wel werd er vocht aangetoond in het CMC I-gewricht, zeer suspect voor het beeld van een arthritis.\n",
       "Patiente werd hierop behandeld met een alcoholverband, elevatie van de linkerarm, Naprosine 3xdaags 250 mg. en laboratoriumonderzoek werd verricht.\n",
       "Postoperatief werd gestart met oefentherapie onder begeleiding van de revalidatie/handtherapie.\n",
       "Echter een luxatie of subluxatie van het CMC-gewricht is niet te palperen.\n",
       "Verder blijkt de Tinell positief op de nervus medianus in de pols, zeer suspect dus voor een carpaal tunnel syndroom.\n",
       "Om een <mark style='background-color: #fff59d'><text>luxatie</text></mark> of subluxatie van het CMC-gewricht uit te sluiten, werd echografisch onderzoek verricht, waarbij geen duidelijke afwijkingen konden worden aangetoond.\n",
       "Ook bij doorlichting kon er geen duidelijke luxatie worden opgewekt.\n",
       "Conclusie: er is bij patiente sprake van een carpaal tunnel syndroom links, mogelijk reactief.\n",
       "Een duidelijke diagnose wat er nu precies aan de hand is met de linker duim hebben we nog niet.\n",
       "<br>"
      ],
      "text/plain": [
       "<IPython.core.display.HTML object>"
      ]
     },
     "metadata": {},
     "output_type": "display_data"
    },
    {
     "name": "stdout",
     "output_type": "stream",
     "text": [
      "Entity: luxatie (1412-1419)\n",
      "\n",
      "             entity_id    label    bilstm_cv\n",
      "2131  DL1868_1412_1419  negated  not negated\n"
     ]
    },
    {
     "data": {
      "text/html": [
       "Zoals bij u bekend heeft patiente een status na arthrodese van MCP I links, tenolyse van de extensor pollicis longus over het IP-gewricht en een Eaton Littler stabilisatie plastiek m.b.v. een deel van de flexor carpi radialis i.v.m. een luxatie van het CMC I-gewricht.\n",
       "Patiente had hierna een goed resultaat verkregen, echter in de ochtend van 8 januari, tijdens het wegzetten van de stofzuigerslang, voelde zij een plotselinge knap aan de dorsale zijde over het metacarpale I, met vanaf dat moment een pijnlijke zwelling t.p.v. de basis van het metacarpale I en een onvermogen tot abductie van de linker duim.\n",
       "Er is een rode huidverkleuring over het dorsum van metacarpale I en over het CMC-gewricht.\n",
       "In de differentiaal diagnose staat een ruptuur van de abductus pollicis longus of een fractuur of fissuur van het metacarpale I of een arthritis van het CMC-gewricht.\n",
       "Wel werd er vocht aangetoond in het CMC I-gewricht, zeer suspect voor het beeld van een arthritis.\n",
       "Patiente werd hierop behandeld met een alcoholverband, elevatie van de linkerarm, Naprosine 3xdaags 250 mg. en laboratoriumonderzoek werd verricht.\n",
       "Postoperatief werd gestart met oefentherapie onder begeleiding van de revalidatie/handtherapie.\n",
       "Echter een luxatie of subluxatie van het CMC-gewricht is niet te palperen.\n",
       "Verder blijkt de Tinell positief op de nervus medianus in de pols, zeer suspect dus voor een carpaal tunnel syndroom.\n",
       "Om een luxatie of subluxatie van het CMC-gewricht uit te sluiten, werd echografisch onderzoek verricht, waarbij geen duidelijke afwijkingen konden worden aangetoond.\n",
       "Ook bij doorlichting kon er geen duidelijke <mark style='background-color: #fff59d'><text>luxatie</text></mark> worden opgewekt.\n",
       "Conclusie: er is bij patiente sprake van een carpaal tunnel syndroom links, mogelijk reactief.\n",
       "Een duidelijke diagnose wat er nu precies aan de hand is met de linker duim hebben we nog niet.\n",
       "<br>"
      ],
      "text/plain": [
       "<IPython.core.display.HTML object>"
      ]
     },
     "metadata": {},
     "output_type": "display_data"
    },
    {
     "name": "stdout",
     "output_type": "stream",
     "text": [
      "Entity: luxatie (1615-1622)\n",
      "\n",
      "             entity_id    label    bilstm_cv\n",
      "2132  DL1868_1615_1622  negated  not negated\n"
     ]
    },
    {
     "data": {
      "text/html": [
       "De voorgeshciedenis van patiente vermeldt in 1977 een subcutane mastectomie beiderzijds op grond van mastopathie en cysten.\n",
       "Patiente is namelijk ook bekend met de ziekte van Willebrand.\n",
       "In 1992 werden nieuwe mammaprotheses ingebracht i.v.m. met ruptuur.\n",
       "De linker mamma was iets meer gezwollen dan de rechter en echografisch werd een klein seroom aangetoond, wat vanzelf moet resorberen.\n",
       "Een <mark style='background-color: #fff59d'><text>longembolie</text></mark> kon worden uitgesloten en m.b.v. ademhalingstherapie nam de pijn in de loop van de dagen geleidelijk aan af.\n",
       "<br>"
      ],
      "text/plain": [
       "<IPython.core.display.HTML object>"
      ]
     },
     "metadata": {},
     "output_type": "display_data"
    },
    {
     "name": "stdout",
     "output_type": "stream",
     "text": [
      "Entity: longembolie (392-403)\n",
      "\n",
      "           entity_id        label bilstm_cv\n",
      "2156  DL1874_392_403  not negated   negated\n"
     ]
    },
    {
     "data": {
      "text/html": [
       "Tijdens dezelfde operatie werd door de kinderchirurg nog een orchidopexie verricht in verband met <mark style='background-color: #fff59d'><text>niet ingedaalde testis</text></mark>.\n",
       "<br>"
      ],
      "text/plain": [
       "<IPython.core.display.HTML object>"
      ]
     },
     "metadata": {},
     "output_type": "display_data"
    },
    {
     "name": "stdout",
     "output_type": "stream",
     "text": [
      "Entity: niet ingedaalde testis (98-120)\n",
      "\n",
      "          entity_id        label bilstm_cv\n",
      "2168  DL1879_98_120  not negated   negated\n"
     ]
    },
    {
     "data": {
      "text/html": [
       "Patiente is bekend met een peritendinitis met tendinosis van de linker achillespees.\n",
       "Hoewel zij pijnklachten bleef houden, verdwenen de klachten van <mark style='background-color: #fff59d'><text>ochtendstijfheid</text></mark> en beperkte beweeglijkheid.\n",
       "Ook klinisch was de situatie sterk verbeterd: er werd geen zwelling meer gezien en er werden geen noduli meer gepalpeerd.\n",
       "<br>"
      ],
      "text/plain": [
       "<IPython.core.display.HTML object>"
      ]
     },
     "metadata": {},
     "output_type": "display_data"
    },
    {
     "name": "stdout",
     "output_type": "stream",
     "text": [
      "Entity: ochtendstijfheid (149-165)\n",
      "\n",
      "           entity_id    label    bilstm_cv\n",
      "2240  DL1914_149_165  negated  not negated\n"
     ]
    },
    {
     "data": {
      "text/html": [
       "De voorgeschiedenis vermeldt geen bijzonderheden, met name geen stuitligging.\n",
       "De familie-anamnese voor <mark style='background-color: #fff59d'><text>heupdysplasie</text></mark> is negatief.\n",
       "Rontgenonderzoek: X-bekken voor-achterwaarts + Lauenstein: heupluxatie rechts.\n",
       "Conclusie: Heupluxatie rechts.\n",
       "<br>"
      ],
      "text/plain": [
       "<IPython.core.display.HTML object>"
      ]
     },
     "metadata": {},
     "output_type": "display_data"
    },
    {
     "name": "stdout",
     "output_type": "stream",
     "text": [
      "Entity: heupdysplasie (103-116)\n",
      "\n",
      "           entity_id    label    bilstm_cv\n",
      "2354  DL1952_103_116  negated  not negated\n"
     ]
    },
    {
     "data": {
      "text/html": [
       "Hij kreeg een eenmalige Depomedrol-injectie in het ganglion.\n",
       "Er is een litteken van 32 mm radiodorsaal op de rechter pols zichtbaar.\n",
       "Er bestaat een teken van Tinel over het litteken en patient geeft aan enigszins electrische pijn te hebben ove het litteken.\n",
       "Rechts bedraagt de dorsoflexie:     0/55'                  palmairflexie:     0/40' Links bedraagt de dorsoflexie :     0/60'                  palmairflexie:     0/70'   Zowel de Watsontest (scapho-lunaire <mark style='background-color: #fff59d'><text>dissociatie</text></mark>) als de Finkelsteintest (extreme flexie in metacarpale I) waren negatief.\n",
       "<br>"
      ],
      "text/plain": [
       "<IPython.core.display.HTML object>"
      ]
     },
     "metadata": {},
     "output_type": "display_data"
    },
    {
     "name": "stdout",
     "output_type": "stream",
     "text": [
      "Entity: dissociatie (464-475)\n",
      "\n",
      "           entity_id        label bilstm_cv\n",
      "2402  DL1969_464_475  not negated   negated\n"
     ]
    },
    {
     "data": {
      "text/html": [
       "Er zijn geen eeltplekken of andere <mark style='background-color: #fff59d'><text>huidafwijkingen</text></mark> gekonstaterd.\n",
       "Er is geen roodheid of eeltvorming.\n",
       "<br>"
      ],
      "text/plain": [
       "<IPython.core.display.HTML object>"
      ]
     },
     "metadata": {},
     "output_type": "display_data"
    },
    {
     "name": "stdout",
     "output_type": "stream",
     "text": [
      "Entity: huidafwijkingen (35-50)\n",
      "\n",
      "         entity_id    label    bilstm_cv\n",
      "2410  DL1974_35_50  negated  not negated\n"
     ]
    },
    {
     "data": {
      "text/html": [
       "Er is een huid atrofie op basis van corticosteroid injecties.\n",
       "Rontgenonderzoek: Bij rontgenonderzoek is er een klein hielspoor zichtbaar en de achterzijde van de calcaneus vind ik opvallend irregulair.\n",
       "Het lijkt anamnestisch te gaan om een <mark style='background-color: #fff59d'><text>bursitis</text></mark> retrocalcanea.\n",
       "<br>"
      ],
      "text/plain": [
       "<IPython.core.display.HTML object>"
      ]
     },
     "metadata": {},
     "output_type": "display_data"
    },
    {
     "name": "stdout",
     "output_type": "stream",
     "text": [
      "Entity: bursitis (240-248)\n",
      "\n",
      "           entity_id        label bilstm_cv\n",
      "2431  DL1981_240_248  not negated   negated\n"
     ]
    },
    {
     "data": {
      "text/html": [
       "In 1987 werd een operatie volgens Putti Platt verricht wegens een habituele schouderluxatie rechts.\n",
       "De operatie heeft een tijdelijke verberering gegeven, maar al vlug was er sprake van recidief luxaties.\n",
       "Ook zijn er regelmatige <mark style='background-color: #fff59d'><text>luxaties</text></mark>, vooral na abductie/exorotatiebewegingen.\n",
       "De afgelopen 2 maanden geen luxaties meer gehad.\n",
       "Het litteken aan de voorzijde van de schouder ziet er rustig uit.\n",
       "Conclusie: Recidief habituele schouderluxatie rechts.\n",
       "Verder mogelijk instabiliteitsklachten bij een corpus liberum.\n",
       "<br>"
      ],
      "text/plain": [
       "<IPython.core.display.HTML object>"
      ]
     },
     "metadata": {},
     "output_type": "display_data"
    },
    {
     "name": "stdout",
     "output_type": "stream",
     "text": [
      "Entity: luxaties (228-236)\n",
      "\n",
      "           entity_id        label bilstm_cv\n",
      "2622  DL2053_228_236  not negated   negated\n"
     ]
    },
    {
     "data": {
      "text/html": [
       "Verschillende consulten door collega Bos in het Academisch Ziekenhuis in Leiden leverden behalve een verdenking op een coxitis fugax geen evidente pathologie aan het rechter heupgewricht op.\n",
       "Echter in het najaar '95 werd duidelijk dat er zich een ziekte van Perthes ontwikkelde.\n",
       "Revisie van de rontgenfoto's en echo's uit het Academisch ziekenhuis Leiden tonen in 1995 geen hydrops, noch veranderingen passend bij de <mark style='background-color: #fff59d'><text>ziekte van Perthes</text></mark>.\n",
       "Bij de laatste foto uit #City# is er wel sprake van een duidelijke afwijking, passend bij de ziekte van Perthes, waarschijnlijk Catterall III of IV. Er is echter bij de laatste foto geen evident containmentverlies.\n",
       "Conclusie Ziekte van Perthes rechter heup bij jong manneke, met op dit moment geen evident containment verlies op de rontgenfoto.\n",
       "<br>"
      ],
      "text/plain": [
       "<IPython.core.display.HTML object>"
      ]
     },
     "metadata": {},
     "output_type": "display_data"
    },
    {
     "name": "stdout",
     "output_type": "stream",
     "text": [
      "Entity: ziekte van Perthes (417-435)\n",
      "\n",
      "           entity_id        label bilstm_cv\n",
      "2634  DL2055_417_435  not negated   negated\n"
     ]
    },
    {
     "data": {
      "text/html": [
       "Conclusie: Milde adductiecontractuur linker heup, zonder rontgenologisch verdachte kenmerken voor <mark style='background-color: #fff59d'><text>heupdysplasie</text></mark>.\n",
       "<br>"
      ],
      "text/plain": [
       "<IPython.core.display.HTML object>"
      ]
     },
     "metadata": {},
     "output_type": "display_data"
    },
    {
     "name": "stdout",
     "output_type": "stream",
     "text": [
      "Entity: heupdysplasie (98-111)\n",
      "\n",
      "          entity_id    label    bilstm_cv\n",
      "2656  DL2063_98_111  negated  not negated\n"
     ]
    },
    {
     "data": {
      "text/html": [
       "<mark style='background-color: #fff59d'><text>pulm gb</text></mark>.\n",
       "Nog steeds benauwd, hoort zichzelf piepen en wordt er wakker van.\n",
       "Dyspareunie vooral door beschaidiging/onteking van de vulva.\n",
       "<br>"
      ],
      "text/plain": [
       "<IPython.core.display.HTML object>"
      ]
     },
     "metadata": {},
     "output_type": "display_data"
    },
    {
     "name": "stdout",
     "output_type": "stream",
     "text": [
      "Entity: pulm gb (0-7)\n",
      "\n",
      "       entity_id    label    bilstm_cv\n",
      "2847  GP1136_0_7  negated  not negated\n"
     ]
    },
    {
     "data": {
      "text/html": [
       "zacht vag enkele <mark style='background-color: #fff59d'><text>rhonchi</text></mark> STem wordt minder, neemt geleidelijk toe.\n",
       "<br>"
      ],
      "text/plain": [
       "<IPython.core.display.HTML object>"
      ]
     },
     "metadata": {},
     "output_type": "display_data"
    },
    {
     "name": "stdout",
     "output_type": "stream",
     "text": [
      "Entity: rhonchi (17-24)\n",
      "\n",
      "         entity_id        label bilstm_cv\n",
      "2909  GP1169_17_24  not negated   negated\n"
     ]
    },
    {
     "data": {
      "text/html": [
       "Pte geeft aan al meer dan 4 wkn te hoesten, dit is in eerste instantie begonnen als keelpijn, geen koorts maar wel veel klachten bij het slikken.\n",
       "Daarna is dit over gegaan in veel hoesten en daarbij een verkouden gevoel met af en toe een loopneus.\n",
       "Daarbij een druk gevoel boven de ogen, alsof pte hoofdpijn krijgt.\n",
       "Pte heeft al een hoestdrankje gebruikt dit had geen effect op de <mark style='background-color: #fff59d'><text>hoest</text></mark> of de slijm productie.\n",
       "Rhinosinusitis Starten met Otrivin 4-6 dd 1 spray in ieder neusgat voor 1,5 wkn.\n",
       "<br>"
      ],
      "text/plain": [
       "<IPython.core.display.HTML object>"
      ]
     },
     "metadata": {},
     "output_type": "display_data"
    },
    {
     "name": "stdout",
     "output_type": "stream",
     "text": [
      "Entity: hoest (380-385)\n",
      "\n",
      "           entity_id        label bilstm_cv\n",
      "2922  GP1176_380_385  not negated   negated\n"
     ]
    },
    {
     "data": {
      "text/html": [
       "nog even aanzien ors gaan halen bij geen verbetering maandag terugbellen Diarree breierig Net als zusje ook diarree maar <mark style='background-color: #fff59d'><text>koorts</text></mark> is over.\n",
       "<br>"
      ],
      "text/plain": [
       "<IPython.core.display.HTML object>"
      ]
     },
     "metadata": {},
     "output_type": "display_data"
    },
    {
     "name": "stdout",
     "output_type": "stream",
     "text": [
      "Entity: koorts (121-127)\n",
      "\n",
      "           entity_id    label    bilstm_cv\n",
      "2950  GP1191_121_127  negated  not negated\n"
     ]
    },
    {
     "data": {
      "text/html": [
       "gaat beter ,hoest nog ,<mark style='background-color: #fff59d'><text>koorts</text></mark>- , longen lichte  bronchitis c zn 1 week roken staken\n",
       "<br>"
      ],
      "text/plain": [
       "<IPython.core.display.HTML object>"
      ]
     },
     "metadata": {},
     "output_type": "display_data"
    },
    {
     "name": "stdout",
     "output_type": "stream",
     "text": [
      "Entity: koorts (23-29)\n",
      "\n",
      "         entity_id    label    bilstm_cv\n",
      "3012  GP1225_23_29  negated  not negated\n"
     ]
    },
    {
     "data": {
      "text/html": [
       "gaat prima, komt voor RR RR:130/90 cor ga, cor=pols=60 ra geen last vd <mark style='background-color: #fff59d'><text>trage pols</text></mark>\n",
       "<br>"
      ],
      "text/plain": [
       "<IPython.core.display.HTML object>"
      ]
     },
     "metadata": {},
     "output_type": "display_data"
    },
    {
     "name": "stdout",
     "output_type": "stream",
     "text": [
      "Entity: trage pols (71-81)\n",
      "\n",
      "         entity_id    label    bilstm_cv\n",
      "3027  GP1231_71_81  negated  not negated\n"
     ]
    },
    {
     "data": {
      "text/html": [
       "wat rode keel, geen klieren; <mark style='background-color: #fff59d'><text>rhinitis</text></mark> al 2 weken wisselend last keel, pijn, niet ziek, wel verkouden\n",
       "<br>"
      ],
      "text/plain": [
       "<IPython.core.display.HTML object>"
      ]
     },
     "metadata": {},
     "output_type": "display_data"
    },
    {
     "name": "stdout",
     "output_type": "stream",
     "text": [
      "Entity: rhinitis (29-37)\n",
      "\n",
      "         entity_id        label bilstm_cv\n",
      "3063  GP1258_29_37  not negated   negated\n"
     ]
    },
    {
     "data": {
      "text/html": [
       "niet ziek pols 72ra drukpijn rib 10 li abd rustige peristaltiek soepele buik milt niet vergroot gister met racefiets gevallen, andere fietser op hem terecht gekomen, doorgegaan, s avonds veel pijn in rug steken vannacht moeilijk geslapen.\n",
       "geen buikpijn <mark style='background-color: #fff59d'><text>schaafwond</text></mark> op been, broek niet kapot.\n",
       "<br>"
      ],
      "text/plain": [
       "<IPython.core.display.HTML object>"
      ]
     },
     "metadata": {},
     "output_type": "display_data"
    },
    {
     "name": "stdout",
     "output_type": "stream",
     "text": [
      "Entity: schaafwond (253-263)\n",
      "\n",
      "           entity_id        label bilstm_cv\n",
      "3071  GP1264_253_263  not negated   negated\n"
     ]
    },
    {
     "data": {
      "text/html": [
       "wat bleek, pols 72, rrz 122/78, cor, pulm en hals en abd gb Laatste 6 wk moe, mn bij inspanning.\n",
       "Geen pob, geen hoesten, <mark style='background-color: #fff59d'><text>piepen</text></mark>, niet ziek geweest.\n",
       "Als kind bronchitis.\n",
       "<br>"
      ],
      "text/plain": [
       "<IPython.core.display.HTML object>"
      ]
     },
     "metadata": {},
     "output_type": "display_data"
    },
    {
     "name": "stdout",
     "output_type": "stream",
     "text": [
      "Entity: piepen (121-127)\n",
      "\n",
      "           entity_id        label bilstm_cv\n",
      "3116  GP1295_121_127  not negated   negated\n"
     ]
    },
    {
     "data": {
      "text/html": [
       "Mn aan proximale kant roodheid (en pus) zat vastgeplakt.\n",
       "Novopad gaan gebruiken, 1dd vernieuwen, co 2dg om ontsteking in de gaten te houden Co <mark style='background-color: #fff59d'><text>schaafwond</text></mark>: geen pijn\n",
       "<br>"
      ],
      "text/plain": [
       "<IPython.core.display.HTML object>"
      ]
     },
     "metadata": {},
     "output_type": "display_data"
    },
    {
     "name": "stdout",
     "output_type": "stream",
     "text": [
      "Entity: schaafwond (143-153)\n",
      "\n",
      "           entity_id        label bilstm_cv\n",
      "3156  GP1313_143_153  not negated   negated\n"
     ]
    },
    {
     "data": {
      "text/html": [
       "3 dgn hoesten verkouden, iets piepen, al gestart met pufjes, <mark style='background-color: #fff59d'><text>koorts</text></mark>-, oor/keel: gb, speelt wel intrekkingen-, weghoestbare rhonchi, geen crepitaties, iets piepen af en toe, keel grote niet rode tonsillen,  re TV iets rood4dd salb, 2dd pulm, bij koorts/zieker: retour\n",
       "<br>"
      ],
      "text/plain": [
       "<IPython.core.display.HTML object>"
      ]
     },
     "metadata": {},
     "output_type": "display_data"
    },
    {
     "name": "stdout",
     "output_type": "stream",
     "text": [
      "Entity: koorts (61-67)\n",
      "\n",
      "         entity_id    label    bilstm_cv\n",
      "3160  GP1315_61_67  negated  not negated\n"
     ]
    },
    {
     "data": {
      "text/html": [
       "al maand of 3 zwelling in de hals links en achterhoofd links.\n",
       "Geen oorpijn-<mark style='background-color: #fff59d'><text>keelpijn</text></mark>-koorts oid gehad.\n",
       "<br>"
      ],
      "text/plain": [
       "<IPython.core.display.HTML object>"
      ]
     },
     "metadata": {},
     "output_type": "display_data"
    },
    {
     "name": "stdout",
     "output_type": "stream",
     "text": [
      "Entity: keelpijn (75-83)\n",
      "\n",
      "         entity_id    label    bilstm_cv\n",
      "3185  GP1331_75_83  negated  not negated\n"
     ]
    },
    {
     "data": {
      "text/html": [
       "al maand of 3 zwelling in de hals links en achterhoofd links.\n",
       "Geen oorpijn-keelpijn-<mark style='background-color: #fff59d'><text>koorts</text></mark> oid gehad.\n",
       "<br>"
      ],
      "text/plain": [
       "<IPython.core.display.HTML object>"
      ]
     },
     "metadata": {},
     "output_type": "display_data"
    },
    {
     "name": "stdout",
     "output_type": "stream",
     "text": [
      "Entity: koorts (84-90)\n",
      "\n",
      "         entity_id    label    bilstm_cv\n",
      "3186  GP1331_84_90  negated  not negated\n"
     ]
    },
    {
     "data": {
      "text/html": [
       "komt met sinds 3 weken bestaande keelpijn waarvoor paracetamol bij 38.5 graden koorts.\n",
       "iets rode keel, <mark style='background-color: #fff59d'><text>zwelling</text></mark>- beslag- klierenvirale keelontsteking expectatief.\n",
       "<br>"
      ],
      "text/plain": [
       "<IPython.core.display.HTML object>"
      ]
     },
     "metadata": {},
     "output_type": "display_data"
    },
    {
     "name": "stdout",
     "output_type": "stream",
     "text": [
      "Entity: zwelling (103-111)\n",
      "\n",
      "           entity_id    label    bilstm_cv\n",
      "3333  GP1417_103_111  negated  not negated\n"
     ]
    },
    {
     "data": {
      "text/html": [
       "hoest nog steeds heel erg veel, geen sputum, 's nachts lab en controle wo a.s. piepend, geen rhonchi <mark style='background-color: #fff59d'><text>koorts</text></mark>, veel zuurbranden, kan niet veel eten PANTOPRAZOL TABLET MSR 40MG 1 maal per dag 1 tablet gastric astma?\n",
       "<br>"
      ],
      "text/plain": [
       "<IPython.core.display.HTML object>"
      ]
     },
     "metadata": {},
     "output_type": "display_data"
    },
    {
     "name": "stdout",
     "output_type": "stream",
     "text": [
      "Entity: koorts (101-107)\n",
      "\n",
      "           entity_id        label bilstm_cv\n",
      "3395  GP1445_101_107  not negated   negated\n"
     ]
    },
    {
     "data": {
      "text/html": [
       "br:vorige week 2 dgn koorts gehad, vanmorgen 38.\n",
       "loopoor nu 1 maand, hoesten sinds 5 dgn, drinkt goed tot vanmorgen toen 1 maal fles geweigerd, eet goed.\n",
       "li oor een loopoor, pus in gehoorgang, oorlel licht schilferend, keel spoortje rode normale tonsillen, longen vag, <mark style='background-color: #fff59d'><text>rhonchi</text></mark>- crep-.\n",
       "dyspnoe- ziek- helder en alert.\n",
       "gezien lange duur loopoor koorts en rode keel nu een kuur, oor vet houden, als geen verbetering binnen 48 uur retour, eerder als zieker.\n",
       "<br>"
      ],
      "text/plain": [
       "<IPython.core.display.HTML object>"
      ]
     },
     "metadata": {},
     "output_type": "display_data"
    },
    {
     "name": "stdout",
     "output_type": "stream",
     "text": [
      "Entity: rhonchi (269-276)\n",
      "\n",
      "           entity_id    label    bilstm_cv\n",
      "3441  GP1471_269_276  negated  not negated\n"
     ]
    },
    {
     "data": {
      "text/html": [
       "oorontsteking.vriend na 1,5 jaar weg.witte <mark style='background-color: #fff59d'><text>fluor</text></mark> niet geweest\n",
       "<br>"
      ],
      "text/plain": [
       "<IPython.core.display.HTML object>"
      ]
     },
     "metadata": {},
     "output_type": "display_data"
    },
    {
     "name": "stdout",
     "output_type": "stream",
     "text": [
      "Entity: fluor (43-48)\n",
      "\n",
      "         entity_id    label    bilstm_cv\n",
      "3473  GP1489_43_48  negated  not negated\n"
     ]
    },
    {
     "data": {
      "text/html": [
       "Houdt hoofdpijn;rechstzijdig.Niet echt meer <mark style='background-color: #fff59d'><text>duizelig</text></mark> ACETYLSALICYLZUUR TABLET  80MG 1 dd 1 RRzit:160/90 Atenolol weer naar 50 mg/dd\n",
       "<br>"
      ],
      "text/plain": [
       "<IPython.core.display.HTML object>"
      ]
     },
     "metadata": {},
     "output_type": "display_data"
    },
    {
     "name": "stdout",
     "output_type": "stream",
     "text": [
      "Entity: duizelig (44-52)\n",
      "\n",
      "         entity_id    label    bilstm_cv\n",
      "3499  GP1506_44_52  negated  not negated\n"
     ]
    },
    {
     "data": {
      "text/html": [
       "Iom #Name#: nooit <mark style='background-color: #fff59d'><text>coronairlijden</text></mark> geobjectiveerd, gezien tensie/cholest.\n",
       "<br>"
      ],
      "text/plain": [
       "<IPython.core.display.HTML object>"
      ]
     },
     "metadata": {},
     "output_type": "display_data"
    },
    {
     "name": "stdout",
     "output_type": "stream",
     "text": [
      "Entity: coronairlijden (18-32)\n",
      "\n",
      "         entity_id    label    bilstm_cv\n",
      "3530  GP1523_18_32  negated  not negated\n"
     ]
    },
    {
     "data": {
      "text/html": [
       "Broer aan aneurysma overleden, vader ook.\n",
       "Geen aanw. voor <mark style='background-color: #fff59d'><text>aneurysma</text></mark> aorta.\n",
       "Maagklachten Last van breuk in het middenrif: droge keel, moeite met slikken: voelt het eten zakken.Breuk in middenrif ooit geconstateerd door dr. #Name#.\n",
       "<br>"
      ],
      "text/plain": [
       "<IPython.core.display.HTML object>"
      ]
     },
     "metadata": {},
     "output_type": "display_data"
    },
    {
     "name": "stdout",
     "output_type": "stream",
     "text": [
      "Entity: aneurysma (58-67)\n",
      "\n",
      "         entity_id    label    bilstm_cv\n",
      "3575  GP1541_58_67  negated  not negated\n"
     ]
    },
    {
     "data": {
      "text/html": [
       "<mark style='background-color: #fff59d'><text>diabetes</text></mark> controle: N-glucose:9* RR:125,/80 gewicht:84.5 uitleg over voeten nogmaals, glu weer hoog lengte:160* QI:32* c 1 mnd metformine 3dd 850 ipv 500mg.\n",
       "<br>"
      ],
      "text/plain": [
       "<IPython.core.display.HTML object>"
      ]
     },
     "metadata": {},
     "output_type": "display_data"
    },
    {
     "name": "stdout",
     "output_type": "stream",
     "text": [
      "Entity: diabetes (0-8)\n",
      "\n",
      "       entity_id        label bilstm_cv\n",
      "3590  GP1547_0_8  not negated   negated\n"
     ]
    },
    {
     "data": {
      "text/html": [
       "niet bekend met <mark style='background-color: #fff59d'><text>jicht</text></mark> re enkel iets warmer en iets roder dan links,  flexie is moeizamer, palsptaie overgang wreef/enkel is pijnlijk.\n",
       "Arthritis beeld DM controle via specialist, is gestart met metformine naast de insuline Lantus en novo rapid stond fout in computer;  is NIET bekend met AP klachten\n",
       "<br>"
      ],
      "text/plain": [
       "<IPython.core.display.HTML object>"
      ]
     },
     "metadata": {},
     "output_type": "display_data"
    },
    {
     "name": "stdout",
     "output_type": "stream",
     "text": [
      "Entity: jicht (16-21)\n",
      "\n",
      "         entity_id    label    bilstm_cv\n",
      "3637  GP1582_16_21  negated  not negated\n"
     ]
    },
    {
     "data": {
      "text/html": [
       "BVO geen klachten smear:#Name# Spec:ga RISC: Cervixscreening=> HPV <mark style='background-color: #fff59d'><text>uitslag</text></mark> HR-HPV afwezig (Intermediair celbeeld: Neigt tot atrofie, Meestal is dit al in een verder gevordert statum gezien de leeftijd)\n",
       "<br>"
      ],
      "text/plain": [
       "<IPython.core.display.HTML object>"
      ]
     },
     "metadata": {},
     "output_type": "display_data"
    },
    {
     "name": "stdout",
     "output_type": "stream",
     "text": [
      "Entity: uitslag (67-74)\n",
      "\n",
      "         entity_id    label    bilstm_cv\n",
      "3659  GP1601_67_74  negated  not negated\n"
     ]
    },
    {
     "data": {
      "text/html": [
       "sinds 1 dag pijn in de rechteronderkwab enhoesten, slijm, temp tot38.2, pulmones geen afwijkingen <mark style='background-color: #fff59d'><text>oorpijn</text></mark> en doof, oma rechts?\n",
       "<br>"
      ],
      "text/plain": [
       "<IPython.core.display.HTML object>"
      ]
     },
     "metadata": {},
     "output_type": "display_data"
    },
    {
     "name": "stdout",
     "output_type": "stream",
     "text": [
      "Entity: oorpijn (98-105)\n",
      "\n",
      "          entity_id        label bilstm_cv\n",
      "3686  GP1620_98_105  not negated   negated\n"
     ]
    },
    {
     "data": {
      "text/html": [
       "Hoest; dag en nacht; <mark style='background-color: #fff59d'><text>koorts</text></mark> - slijm + pulm: schoon\n",
       "<br>"
      ],
      "text/plain": [
       "<IPython.core.display.HTML object>"
      ]
     },
     "metadata": {},
     "output_type": "display_data"
    },
    {
     "name": "stdout",
     "output_type": "stream",
     "text": [
      "Entity: koorts (21-27)\n",
      "\n",
      "         entity_id        label bilstm_cv\n",
      "3690  GP1623_21_27  not negated   negated\n"
     ]
    },
    {
     "data": {
      "text/html": [
       "Al geruime tijd last 1e straal li-voet.<mark style='background-color: #fff59d'><text>Trauma</text></mark>:-\n",
       "<br>"
      ],
      "text/plain": [
       "<IPython.core.display.HTML object>"
      ]
     },
     "metadata": {},
     "output_type": "display_data"
    },
    {
     "name": "stdout",
     "output_type": "stream",
     "text": [
      "Entity: Trauma (39-45)\n",
      "\n",
      "         entity_id    label    bilstm_cv\n",
      "3728  GP1649_39_45  negated  not negated\n"
     ]
    },
    {
     "data": {
      "text/html": [
       "snds paar dagen kramp in de onderbuik.\n",
       "Is wat zweterig geweest, weet niet of dit <mark style='background-color: #fff59d'><text>koorts</text></mark> is. is momenteel in #City# komt morgen ochtend verse urine brengen ter controle.\n",
       "<br>"
      ],
      "text/plain": [
       "<IPython.core.display.HTML object>"
      ]
     },
     "metadata": {},
     "output_type": "display_data"
    },
    {
     "name": "stdout",
     "output_type": "stream",
     "text": [
      "Entity: koorts (81-87)\n",
      "\n",
      "         entity_id        label bilstm_cv\n",
      "3789  GP1687_81_87  not negated   negated\n"
     ]
    },
    {
     "data": {
      "text/html": [
       "oor loopt niet meer <mark style='background-color: #fff59d'><text>korst</text></mark> vorming afw oren schoon li brandwond li hand\n",
       "<br>"
      ],
      "text/plain": [
       "<IPython.core.display.HTML object>"
      ]
     },
     "metadata": {},
     "output_type": "display_data"
    },
    {
     "name": "stdout",
     "output_type": "stream",
     "text": [
      "Entity: korst (20-25)\n",
      "\n",
      "         entity_id        label bilstm_cv\n",
      "3863  GP1727_20_25  not negated   negated\n"
     ]
    },
    {
     "data": {
      "text/html": [
       "Adv: vaker zelfbevrediging, zelfvertrouwen, klinkt niet als <mark style='background-color: #fff59d'><text>ziekte</text></mark>.\n",
       "<br>"
      ],
      "text/plain": [
       "<IPython.core.display.HTML object>"
      ]
     },
     "metadata": {},
     "output_type": "display_data"
    },
    {
     "name": "stdout",
     "output_type": "stream",
     "text": [
      "Entity: ziekte (60-66)\n",
      "\n",
      "         entity_id    label    bilstm_cv\n",
      "3865  GP1728_60_66  negated  not negated\n"
     ]
    },
    {
     "data": {
      "text/html": [
       "snijwond dig V re hand 2 dg geleden maar nu bij bepaalde aanraking extreem veel pijn doof gevoel distaal van snijwond thv dip aan  rad.\n",
       "hoop dat er geen sudeckse <mark style='background-color: #fff59d'><text>atrofie</text></mark> gaat ontstaan\n",
       "<br>"
      ],
      "text/plain": [
       "<IPython.core.display.HTML object>"
      ]
     },
     "metadata": {},
     "output_type": "display_data"
    },
    {
     "name": "stdout",
     "output_type": "stream",
     "text": [
      "Entity: atrofie (162-169)\n",
      "\n",
      "           entity_id        label bilstm_cv\n",
      "3867  GP1729_162_169  not negated   negated\n"
     ]
    },
    {
     "data": {
      "text/html": [
       "komt voor aantal dingen, recent neirsteen vergr re, links moet nog binnenkort apneu onderzoek via nachtregistratie (via kno arts #Name#).\n",
       "met vriendin 11 mndn omgang, geen erectie stoornis maar probleem penetratie (direct <mark style='background-color: #fff59d'><text>verslapping</text></mark>), alle andere momenten prima geen probleem alg gaat leven prima, werkt 1/2 dgn, rijdt auto, geheugen lijkt redelijk te gaan, verwijzing naar sexuoloog RdG\n",
       "<br>"
      ],
      "text/plain": [
       "<IPython.core.display.HTML object>"
      ]
     },
     "metadata": {},
     "output_type": "display_data"
    },
    {
     "name": "stdout",
     "output_type": "stream",
     "text": [
      "Entity: verslapping (222-233)\n",
      "\n",
      "           entity_id        label bilstm_cv\n",
      "3875  GP1733_222_233  not negated   negated\n"
     ]
    },
    {
     "data": {
      "text/html": [
       "heeft sproeten die ze niet vertrouwt div naevi op benen en romp, <mark style='background-color: #fff59d'><text>jeuken</text></mark> niet, een heeft wel eens gebloed, vormverandering onduidelijk, het worden er wel wat meer.\n",
       "<br>"
      ],
      "text/plain": [
       "<IPython.core.display.HTML object>"
      ]
     },
     "metadata": {},
     "output_type": "display_data"
    },
    {
     "name": "stdout",
     "output_type": "stream",
     "text": [
      "Entity: jeuken (65-71)\n",
      "\n",
      "         entity_id    label    bilstm_cv\n",
      "3907  GP1749_65_71  negated  not negated\n"
     ]
    },
    {
     "data": {
      "text/html": [
       "Soms dag lang, soms met steken.\n",
       "In verleden hiervoor kuur AB gehad(geen <mark style='background-color: #fff59d'><text>roodheid</text></mark>/zwelling/koorts).Niet sexueel actief; voelt zelf gb lange magere jonge man;zachte stem.\n",
       "weerstand ongerust over infectie of andere aandoening testis uitleg: mogelijk soms mechanische irritatie\n",
       "<br>"
      ],
      "text/plain": [
       "<IPython.core.display.HTML object>"
      ]
     },
     "metadata": {},
     "output_type": "display_data"
    },
    {
     "name": "stdout",
     "output_type": "stream",
     "text": [
      "Entity: roodheid (72-80)\n",
      "\n",
      "         entity_id    label    bilstm_cv\n",
      "3925  GP1763_72_80  negated  not negated\n"
     ]
    },
    {
     "data": {
      "text/html": [
       "Soms dag lang, soms met steken.\n",
       "In verleden hiervoor kuur AB gehad(geen roodheid/<mark style='background-color: #fff59d'><text>zwelling</text></mark>/koorts).Niet sexueel actief; voelt zelf gb lange magere jonge man;zachte stem.\n",
       "weerstand ongerust over infectie of andere aandoening testis uitleg: mogelijk soms mechanische irritatie\n",
       "<br>"
      ],
      "text/plain": [
       "<IPython.core.display.HTML object>"
      ]
     },
     "metadata": {},
     "output_type": "display_data"
    },
    {
     "name": "stdout",
     "output_type": "stream",
     "text": [
      "Entity: zwelling (81-89)\n",
      "\n",
      "         entity_id    label    bilstm_cv\n",
      "3926  GP1763_81_89  negated  not negated\n"
     ]
    },
    {
     "data": {
      "text/html": [
       "Soms dag lang, soms met steken.\n",
       "In verleden hiervoor kuur AB gehad(geen roodheid/zwelling/<mark style='background-color: #fff59d'><text>koorts</text></mark>).Niet sexueel actief; voelt zelf gb lange magere jonge man;zachte stem.\n",
       "weerstand ongerust over infectie of andere aandoening testis uitleg: mogelijk soms mechanische irritatie\n",
       "<br>"
      ],
      "text/plain": [
       "<IPython.core.display.HTML object>"
      ]
     },
     "metadata": {},
     "output_type": "display_data"
    },
    {
     "name": "stdout",
     "output_type": "stream",
     "text": [
      "Entity: koorts (90-96)\n",
      "\n",
      "         entity_id    label    bilstm_cv\n",
      "3927  GP1763_90_96  negated  not negated\n"
     ]
    },
    {
     "data": {
      "text/html": [
       "mee-eter of <mark style='background-color: #fff59d'><text>splinter</text></mark> midden op rug donker plekje; 1-2mm.\n",
       "<br>"
      ],
      "text/plain": [
       "<IPython.core.display.HTML object>"
      ]
     },
     "metadata": {},
     "output_type": "display_data"
    },
    {
     "name": "stdout",
     "output_type": "stream",
     "text": [
      "Entity: splinter (12-20)\n",
      "\n",
      "         entity_id        label bilstm_cv\n",
      "3950  GP1775_12_20  not negated   negated\n"
     ]
    },
    {
     "data": {
      "text/html": [
       "niet meer wel nog verhoging Geen alarmsignalen, lijkt minder te worden, exp buikpijn, wel minder als afgelopen dinsdag, braken-, kan springen Had niet gezien en gehoord dat hij al geweest was: Nog Nl peristaltiek, soepele buik, aanzienlijk overgewicht, <mark style='background-color: #fff59d'><text>misselijkheid</text></mark>-, wel minder eetlust, geen diarree, koorts\n",
       "<br>"
      ],
      "text/plain": [
       "<IPython.core.display.HTML object>"
      ]
     },
     "metadata": {},
     "output_type": "display_data"
    },
    {
     "name": "stdout",
     "output_type": "stream",
     "text": [
      "Entity: misselijkheid (253-266)\n",
      "\n",
      "           entity_id        label bilstm_cv\n",
      "3961  GP1781_253_266  not negated   negated\n"
     ]
    },
    {
     "data": {
      "text/html": [
       "Verkouden, geen koorts, <mark style='background-color: #fff59d'><text>loopneus</text></mark> en hoesten, wit taai sputum Pulm;  VAG, keel: gb.\n",
       "<br>"
      ],
      "text/plain": [
       "<IPython.core.display.HTML object>"
      ]
     },
     "metadata": {},
     "output_type": "display_data"
    },
    {
     "name": "stdout",
     "output_type": "stream",
     "text": [
      "Entity: loopneus (24-32)\n",
      "\n",
      "         entity_id        label bilstm_cv\n",
      "4033  GP1838_24_32  not negated   negated\n"
     ]
    },
    {
     "data": {
      "text/html": [
       "Jeuk en uitslag minder, maar nu <mark style='background-color: #fff59d'><text>dyspnoe</text></mark> en pijn.\n",
       "Zyrtec alsnog innemen en PANTOPRAZOL TABLET MSR 40MG 1d1t Pols:76,r/a RRzit:120/80, geen spasme, wel \"\"kippevel\"\", vaten palpabel, had maagpijn zonder zuur (wel gehad), had PREDNISOLON CAPSULE 30MG 1d1c\n",
       "<br>"
      ],
      "text/plain": [
       "<IPython.core.display.HTML object>"
      ]
     },
     "metadata": {},
     "output_type": "display_data"
    },
    {
     "name": "stdout",
     "output_type": "stream",
     "text": [
      "Entity: dyspnoe (32-39)\n",
      "\n",
      "         entity_id        label bilstm_cv\n",
      "4139  GP1896_32_39  not negated   negated\n"
     ]
    },
    {
     "data": {
      "text/html": [
       "AV: voelt zich niet goed geen eetlust bandgevoel <mark style='background-color: #fff59d'><text>huilerig</text></mark>\n",
       "<br>"
      ],
      "text/plain": [
       "<IPython.core.display.HTML object>"
      ]
     },
     "metadata": {},
     "output_type": "display_data"
    },
    {
     "name": "stdout",
     "output_type": "stream",
     "text": [
      "Entity: huilerig (49-57)\n",
      "\n",
      "         entity_id        label bilstm_cv\n",
      "4257  GP1970_49_57  not negated   negated\n"
     ]
    },
    {
     "data": {
      "text/html": [
       "<mark style='background-color: #fff59d'><text>Koorts</text></mark> -.\n",
       "Beginnende otitis re?\n",
       "<br>"
      ],
      "text/plain": [
       "<IPython.core.display.HTML object>"
      ]
     },
     "metadata": {},
     "output_type": "display_data"
    },
    {
     "name": "stdout",
     "output_type": "stream",
     "text": [
      "Entity: Koorts (0-6)\n",
      "\n",
      "       entity_id    label    bilstm_cv\n",
      "4259  GP1973_0_6  negated  not negated\n"
     ]
    },
    {
     "data": {
      "text/html": [
       "2 weken geleden door partner heel hard op hoofd geduwt, sinds dien pijn rond linkeroogkas, hoofdpijn, nekpijn en tintelingen in linker arm, fysio heeft advies gegeven foto's te maken van nek en hoofd?\n",
       "nog nooit eerder te maken gehad met <mark style='background-color: #fff59d'><text>huiselijk geweld</text></mark>.\n",
       "<br>"
      ],
      "text/plain": [
       "<IPython.core.display.HTML object>"
      ]
     },
     "metadata": {},
     "output_type": "display_data"
    },
    {
     "name": "stdout",
     "output_type": "stream",
     "text": [
      "Entity: huiselijk geweld (237-253)\n",
      "\n",
      "           entity_id    label    bilstm_cv\n",
      "4319  GP2010_237_253  negated  not negated\n"
     ]
    },
    {
     "data": {
      "text/html": [
       "<mark style='background-color: #fff59d'><text>Dyspnoe</text></mark>- drukpijn linker flank,costa 10-11,geen asdrukpijn Uitleg,duurt lang !!Adekwate pijnstilling nemen.\n",
       "Dyspnoe-,pijn viel gisteren wel mee,neemt nu toe.\n",
       "<br>"
      ],
      "text/plain": [
       "<IPython.core.display.HTML object>"
      ]
     },
     "metadata": {},
     "output_type": "display_data"
    },
    {
     "name": "stdout",
     "output_type": "stream",
     "text": [
      "Entity: Dyspnoe (0-7)\n",
      "\n",
      "       entity_id    label    bilstm_cv\n",
      "4348  GP2024_0_7  negated  not negated\n"
     ]
    },
    {
     "data": {
      "text/html": [
       "Pit rosea (tegen pleit de tyd -->al meer dan 1 jaar aanwezig)/Urticaria (tegen pleit geen jeuk)/<mark style='background-color: #fff59d'><text>eczeem</text></mark>?-->smeren\n",
       "<br>"
      ],
      "text/plain": [
       "<IPython.core.display.HTML object>"
      ]
     },
     "metadata": {},
     "output_type": "display_data"
    },
    {
     "name": "stdout",
     "output_type": "stream",
     "text": [
      "Entity: eczeem (96-102)\n",
      "\n",
      "          entity_id        label bilstm_cv\n",
      "4361  GP2031_96_102  not negated   negated\n"
     ]
    },
    {
     "data": {
      "text/html": [
       "leek niet op een <mark style='background-color: #fff59d'><text>epilepsie</text></mark> aanval.\n",
       "Was niet bewusteloos.\n",
       "Daarna erg veel hoofdpijn en misselijk.\n",
       "Weet niet of ze een wegraking heeft gehad.\n",
       "Geen trekkingen.\n",
       "Geen tongbeet gehele li bovenarm meerdere hematomen v-ecg ivm snelle pols\n",
       "<br>"
      ],
      "text/plain": [
       "<IPython.core.display.HTML object>"
      ]
     },
     "metadata": {},
     "output_type": "display_data"
    },
    {
     "name": "stdout",
     "output_type": "stream",
     "text": [
      "Entity: epilepsie (17-26)\n",
      "\n",
      "         entity_id    label    bilstm_cv\n",
      "4396  GP2047_17_26  negated  not negated\n"
     ]
    },
    {
     "data": {
      "text/html": [
       "<mark style='background-color: #fff59d'><text>Piept</text></mark> niet, mogelijk iets verlengd exp.\n",
       "<br>"
      ],
      "text/plain": [
       "<IPython.core.display.HTML object>"
      ]
     },
     "metadata": {},
     "output_type": "display_data"
    },
    {
     "name": "stdout",
     "output_type": "stream",
     "text": [
      "Entity: Piept (0-5)\n",
      "\n",
      "       entity_id    label    bilstm_cv\n",
      "4432  GP2067_0_5  negated  not negated\n"
     ]
    },
    {
     "data": {
      "text/html": [
       "Iets verkouden, weinig snot, <mark style='background-color: #fff59d'><text>hoest</text></mark> niet.\n",
       "<br>"
      ],
      "text/plain": [
       "<IPython.core.display.HTML object>"
      ]
     },
     "metadata": {},
     "output_type": "display_data"
    },
    {
     "name": "stdout",
     "output_type": "stream",
     "text": [
      "Entity: hoest (29-34)\n",
      "\n",
      "         entity_id    label    bilstm_cv\n",
      "4434  GP2069_29_34  negated  not negated\n"
     ]
    },
    {
     "data": {
      "text/html": [
       "<mark style='background-color: #fff59d'><text>uitslag</text></mark> niet terug te vinden, voelt zich iets beter, nog wel wat pijn in de maagstreek en hoog in de flanken.\n",
       "<br>"
      ],
      "text/plain": [
       "<IPython.core.display.HTML object>"
      ]
     },
     "metadata": {},
     "output_type": "display_data"
    },
    {
     "name": "stdout",
     "output_type": "stream",
     "text": [
      "Entity: uitslag (0-7)\n",
      "\n",
      "       entity_id        label bilstm_cv\n",
      "4481  GP2097_0_7  not negated   negated\n"
     ]
    },
    {
     "data": {
      "text/html": [
       "MIZOLASTINE TABLET MGA 10MG 1 dd 1 tegen <mark style='background-color: #fff59d'><text>allergie</text></mark>\n",
       "<br>"
      ],
      "text/plain": [
       "<IPython.core.display.HTML object>"
      ]
     },
     "metadata": {},
     "output_type": "display_data"
    },
    {
     "name": "stdout",
     "output_type": "stream",
     "text": [
      "Entity: allergie (41-49)\n",
      "\n",
      "         entity_id        label bilstm_cv\n",
      "4509  GP2120_41_49  not negated   negated\n"
     ]
    },
    {
     "data": {
      "text/html": [
       "<mark style='background-color: #fff59d'><text>prolaps</text></mark>.\n",
       "Sed: niet duidelijk -> uricult Griep gehad, veel gehoest.\n",
       "Merkte urineverlies tijdens hoesten.\n",
       "Hiervoor bij hoesten/niezen etc geen klachten.\n",
       "<br>"
      ],
      "text/plain": [
       "<IPython.core.display.HTML object>"
      ]
     },
     "metadata": {},
     "output_type": "display_data"
    },
    {
     "name": "stdout",
     "output_type": "stream",
     "text": [
      "Entity: prolaps (0-7)\n",
      "\n",
      "       entity_id    label    bilstm_cv\n",
      "4601  GP2170_0_7  negated  not negated\n"
     ]
    },
    {
     "data": {
      "text/html": [
       "commentaar: lab uitslagen prima, geen enkele aanw voor <mark style='background-color: #fff59d'><text>ontsteking</text></mark>, bloedbeeld nl.\n",
       "<br>"
      ],
      "text/plain": [
       "<IPython.core.display.HTML object>"
      ]
     },
     "metadata": {},
     "output_type": "display_data"
    },
    {
     "name": "stdout",
     "output_type": "stream",
     "text": [
      "Entity: ontsteking (55-65)\n",
      "\n",
      "         entity_id    label    bilstm_cv\n",
      "4618  GP2181_55_65  negated  not negated\n"
     ]
    },
    {
     "data": {
      "text/html": [
       "cerumen cerumenprop uitspuiten Sinds gisteren na wattenstokje <mark style='background-color: #fff59d'><text>geen gehoor</text></mark> meer\n",
       "<br>"
      ],
      "text/plain": [
       "<IPython.core.display.HTML object>"
      ]
     },
     "metadata": {},
     "output_type": "display_data"
    },
    {
     "name": "stdout",
     "output_type": "stream",
     "text": [
      "Entity: geen gehoor (62-73)\n",
      "\n",
      "         entity_id        label bilstm_cv\n",
      "4622  GP2184_62_73  not negated   negated\n"
     ]
    },
    {
     "data": {
      "text/html": [
       "geen verduidelijking met reumatoloog Overleg <mark style='background-color: #fff59d'><text>revalidatie</text></mark> arts #Name#, heeft dit als specialiteit > verwijzing\n",
       "<br>"
      ],
      "text/plain": [
       "<IPython.core.display.HTML object>"
      ]
     },
     "metadata": {},
     "output_type": "display_data"
    },
    {
     "name": "stdout",
     "output_type": "stream",
     "text": [
      "Entity: revalidatie (45-56)\n",
      "\n",
      "         entity_id        label bilstm_cv\n",
      "4713  GP2253_45_56  not negated   negated\n"
     ]
    },
    {
     "data": {
      "text/html": [
       "al maanden een nare ochtendhoest, overdag geen last, ook last van <mark style='background-color: #fff59d'><text>overmatig zweten</text></mark>, niet benauwd, geen koorts, voelt zich niet ziek, gewicht stabiel, in verleden wel gerookt,  de laatste tijden weer mictie problemen, moest zich drie keer cathetariseren, gebruik driedase 5mg 1dd1 hoesten alg: niet ziek RR 141/80, pols 70/min reg, st 97%, over de longen VAG, geen bijgeluiden lab volgt, bij normale uitslage evt PM spirometrie?driedas\n",
       "<br>"
      ],
      "text/plain": [
       "<IPython.core.display.HTML object>"
      ]
     },
     "metadata": {},
     "output_type": "display_data"
    },
    {
     "name": "stdout",
     "output_type": "stream",
     "text": [
      "Entity: overmatig zweten (66-82)\n",
      "\n",
      "         entity_id        label bilstm_cv\n",
      "4729  GP2263_66_82  not negated   negated\n"
     ]
    },
    {
     "data": {
      "text/html": [
       "pulm; VAG, basale <mark style='background-color: #fff59d'><text>crepitaties</text></mark> Keel; matig geprikkeld voelt zich grieprig, hoest, pijn in spieren, keelpijn.\n",
       "<br>"
      ],
      "text/plain": [
       "<IPython.core.display.HTML object>"
      ]
     },
     "metadata": {},
     "output_type": "display_data"
    },
    {
     "name": "stdout",
     "output_type": "stream",
     "text": [
      "Entity: crepitaties (18-29)\n",
      "\n",
      "         entity_id        label bilstm_cv\n",
      "4751  GP2274_18_29  not negated   negated\n"
     ]
    },
    {
     "data": {
      "text/html": [
       "huid verbetert niet <mark style='background-color: #fff59d'><text>erytheem</text></mark>; centrale atrofie; randactiviteit; KOH : neg.\n",
       "mycose/eczeem VK dermatoloog\n",
       "<br>"
      ],
      "text/plain": [
       "<IPython.core.display.HTML object>"
      ]
     },
     "metadata": {},
     "output_type": "display_data"
    },
    {
     "name": "stdout",
     "output_type": "stream",
     "text": [
      "Entity: erytheem (20-28)\n",
      "\n",
      "         entity_id        label bilstm_cv\n",
      "4775  GP2286_20_28  not negated   negated\n"
     ]
    },
    {
     "data": {
      "text/html": [
       "Moedervlek op heup.\n",
       "Niet veranderd verheven <mark style='background-color: #fff59d'><text>papel</text></mark>, rustig aspect exp Na bezoek kroeg of concert 2 d schor\n",
       "<br>"
      ],
      "text/plain": [
       "<IPython.core.display.HTML object>"
      ]
     },
     "metadata": {},
     "output_type": "display_data"
    },
    {
     "name": "stdout",
     "output_type": "stream",
     "text": [
      "Entity: papel (44-49)\n",
      "\n",
      "         entity_id        label bilstm_cv\n",
      "4815  GP2309_44_49  not negated   negated\n"
     ]
    },
    {
     "data": {
      "text/html": [
       "Zwangerschapstest.- Int [V] #Name#  colitis ulcerosa of Crohn misselijk en pijn onderbuik, def:hard, <mark style='background-color: #fff59d'><text>koorts</text></mark>- dd M.\n",
       "Crohn aften in keel\n",
       "<br>"
      ],
      "text/plain": [
       "<IPython.core.display.HTML object>"
      ]
     },
     "metadata": {},
     "output_type": "display_data"
    },
    {
     "name": "stdout",
     "output_type": "stream",
     "text": [
      "Entity: koorts (101-107)\n",
      "\n",
      "           entity_id    label    bilstm_cv\n",
      "4917  GP2372_101_107  negated  not negated\n"
     ]
    },
    {
     "data": {
      "text/html": [
       "<mark style='background-color: #fff59d'><text>Allergie</text></mark> voor vanalles, zoals wortel.\n",
       "Heeft ook glutenintolerantie.\n",
       "nu 1 wk gele ontlasting na 1 wk koorts en ziek.\n",
       "coeliakie?\n",
       "<br>"
      ],
      "text/plain": [
       "<IPython.core.display.HTML object>"
      ]
     },
     "metadata": {},
     "output_type": "display_data"
    },
    {
     "name": "stdout",
     "output_type": "stream",
     "text": [
      "Entity: Allergie (0-8)\n",
      "\n",
      "       entity_id        label bilstm_cv\n",
      "5066  GP2457_0_8  not negated   negated\n"
     ]
    },
    {
     "data": {
      "text/html": [
       "NB Mw. heeft nooit een klacht gehad die paste bij de <mark style='background-color: #fff59d'><text>hernia</text></mark>.\n",
       "<br>"
      ],
      "text/plain": [
       "<IPython.core.display.HTML object>"
      ]
     },
     "metadata": {},
     "output_type": "display_data"
    },
    {
     "name": "stdout",
     "output_type": "stream",
     "text": [
      "Entity: hernia (53-59)\n",
      "\n",
      "         entity_id    label    bilstm_cv\n",
      "5100  GP2480_53_59  negated  not negated\n"
     ]
    },
    {
     "data": {
      "text/html": [
       "al twee jaar regelmatig dunne defaecatie; paar keer per week; voorafgegaan door krampen, vaak relatie met scherpe spijzen, geen relatie met <mark style='background-color: #fff59d'><text>stress</text></mark>, verergerend bij inspanning buik soepel; colon palp en gevoelige lab : bloed- en faecsonderzoek\n",
       "<br>"
      ],
      "text/plain": [
       "<IPython.core.display.HTML object>"
      ]
     },
     "metadata": {},
     "output_type": "display_data"
    },
    {
     "name": "stdout",
     "output_type": "stream",
     "text": [
      "Entity: stress (140-146)\n",
      "\n",
      "           entity_id        label bilstm_cv\n",
      "5158  GP2518_140_146  not negated   negated\n"
     ]
    },
    {
     "data": {
      "text/html": [
       "neusverkouden-, hoesten-, <mark style='background-color: #fff59d'><text>spugen</text></mark> sinds vannacht, diarree-.\n",
       "<br>"
      ],
      "text/plain": [
       "<IPython.core.display.HTML object>"
      ]
     },
     "metadata": {},
     "output_type": "display_data"
    },
    {
     "name": "stdout",
     "output_type": "stream",
     "text": [
      "Entity: spugen (26-32)\n",
      "\n",
      "         entity_id        label bilstm_cv\n",
      "5273  GP2595_26_32  not negated   negated\n"
     ]
    },
    {
     "data": {
      "text/html": [
       "uricult negatief uricult <mark style='background-color: #fff59d'><text>uitslag</text></mark>, tel #LongNumber#\n",
       "<br>"
      ],
      "text/plain": [
       "<IPython.core.display.HTML object>"
      ]
     },
     "metadata": {},
     "output_type": "display_data"
    },
    {
     "name": "stdout",
     "output_type": "stream",
     "text": [
      "Entity: uitslag (25-32)\n",
      "\n",
      "         entity_id    label    bilstm_cv\n",
      "5347  GP2639_25_32  negated  not negated\n"
     ]
    },
    {
     "data": {
      "text/html": [
       "zwelling oogleden na verven haar; eerst hap, daarna umc kreeg spuit op umc; daarmee beter umc adviseerde dermatoloog, mi niet nodig nu de <mark style='background-color: #fff59d'><text>diagnose</text></mark> duidelijk is, even laten zien nog fikse zwelling oogleden CLEMASTINE TABLET 1MG 2 DD PREDNISON TABLET 5MG 1 DD2 wil nr allergiecentrum dr #Name# M:HEDEN ;dermatoloog\n",
       "<br>"
      ],
      "text/plain": [
       "<IPython.core.display.HTML object>"
      ]
     },
     "metadata": {},
     "output_type": "display_data"
    },
    {
     "name": "stdout",
     "output_type": "stream",
     "text": [
      "Entity: diagnose (138-146)\n",
      "\n",
      "           entity_id        label bilstm_cv\n",
      "5374  GP2656_138_146  not negated   negated\n"
     ]
    },
    {
     "data": {
      "text/html": [
       "poosje verkouden en ook wat spierpijn op hoofd;geen koorts klinkt nasaal en <mark style='background-color: #fff59d'><text>hoest</text></mark> ook wat;groen fluimen.\n",
       "<br>"
      ],
      "text/plain": [
       "<IPython.core.display.HTML object>"
      ]
     },
     "metadata": {},
     "output_type": "display_data"
    },
    {
     "name": "stdout",
     "output_type": "stream",
     "text": [
      "Entity: hoest (76-81)\n",
      "\n",
      "         entity_id        label bilstm_cv\n",
      "5379  GP2658_76_81  not negated   negated\n"
     ]
    },
    {
     "data": {
      "text/html": [
       "<mark style='background-color: #fff59d'><text>Bleek</text></mark> niet goed.\n",
       "<br>"
      ],
      "text/plain": [
       "<IPython.core.display.HTML object>"
      ]
     },
     "metadata": {},
     "output_type": "display_data"
    },
    {
     "name": "stdout",
     "output_type": "stream",
     "text": [
      "Entity: Bleek (0-5)\n",
      "\n",
      "       entity_id        label bilstm_cv\n",
      "5389  GP2664_0_5  not negated   negated\n"
     ]
    },
    {
     "data": {
      "text/html": [
       "groeit matig loopt onder de kurvegeen <mark style='background-color: #fff59d'><text>koorts</text></mark> wel vrolijk hoest wel deze wk C/\n",
       "<br>"
      ],
      "text/plain": [
       "<IPython.core.display.HTML object>"
      ]
     },
     "metadata": {},
     "output_type": "display_data"
    },
    {
     "name": "stdout",
     "output_type": "stream",
     "text": [
      "Entity: koorts (38-44)\n",
      "\n",
      "         entity_id        label bilstm_cv\n",
      "5495  GP2719_38_44  not negated   negated\n"
     ]
    },
    {
     "data": {
      "text/html": [
       "Weet nog niet de <mark style='background-color: #fff59d'><text>uitslag</text></mark> van de pcr.\n",
       "<br>"
      ],
      "text/plain": [
       "<IPython.core.display.HTML object>"
      ]
     },
     "metadata": {},
     "output_type": "display_data"
    },
    {
     "name": "stdout",
     "output_type": "stream",
     "text": [
      "Entity: uitslag (17-24)\n",
      "\n",
      "         entity_id        label bilstm_cv\n",
      "5501  GP2722_17_24  not negated   negated\n"
     ]
    },
    {
     "data": {
      "text/html": [
       "Houdt moeheid, veel slapen.\n",
       "Nu 1wk hoofdpijn midvoor.\n",
       "Geen spanningen/stress ga sp <mark style='background-color: #fff59d'><text>hoofdpijn</text></mark> zn diclofenac proberen\n",
       "<br>"
      ],
      "text/plain": [
       "<IPython.core.display.HTML object>"
      ]
     },
     "metadata": {},
     "output_type": "display_data"
    },
    {
     "name": "stdout",
     "output_type": "stream",
     "text": [
      "Entity: hoofdpijn (83-92)\n",
      "\n",
      "         entity_id        label bilstm_cv\n",
      "5539  GP2748_83_92  not negated   negated\n"
     ]
    },
    {
     "data": {
      "text/html": [
       "geen ctr fie's <mark style='background-color: #fff59d'><text>spanning</text></mark> met dochter; wordt onzeker en durft straat niet meer op\n",
       "<br>"
      ],
      "text/plain": [
       "<IPython.core.display.HTML object>"
      ]
     },
     "metadata": {},
     "output_type": "display_data"
    },
    {
     "name": "stdout",
     "output_type": "stream",
     "text": [
      "Entity: spanning (15-23)\n",
      "\n",
      "         entity_id        label bilstm_cv\n",
      "5549  GP2756_15_23  not negated   negated\n"
     ]
    },
    {
     "data": {
      "text/html": [
       "braakt niet,geen koorts meer,wel <mark style='background-color: #fff59d'><text>diarree</text></mark>,loopt wat rond E/viraal P/uitleg,waarop te letten\n",
       "<br>"
      ],
      "text/plain": [
       "<IPython.core.display.HTML object>"
      ]
     },
     "metadata": {},
     "output_type": "display_data"
    },
    {
     "name": "stdout",
     "output_type": "stream",
     "text": [
      "Entity: diarree (33-40)\n",
      "\n",
      "         entity_id        label bilstm_cv\n",
      "5554  GP2758_33_40  not negated   negated\n"
     ]
    },
    {
     "data": {
      "text/html": [
       "IMIPRAMINI HCL 25MG DRAGEE 1 vesp doorgaan voelt zich beter, <mark style='background-color: #fff59d'><text>bedplassen</text></mark>-, vrolijker; co 1mnd\n",
       "<br>"
      ],
      "text/plain": [
       "<IPython.core.display.HTML object>"
      ]
     },
     "metadata": {},
     "output_type": "display_data"
    },
    {
     "name": "stdout",
     "output_type": "stream",
     "text": [
      "Entity: bedplassen (61-71)\n",
      "\n",
      "         entity_id    label    bilstm_cv\n",
      "5555  GP2759_61_71  negated  not negated\n"
     ]
    },
    {
     "data": {
      "text/html": [
       "CK door adipositas en statine?\n",
       "aanwijzingen voor recent <mark style='background-color: #fff59d'><text>infarct</text></mark>.\n",
       "<br>"
      ],
      "text/plain": [
       "<IPython.core.display.HTML object>"
      ]
     },
     "metadata": {},
     "output_type": "display_data"
    },
    {
     "name": "stdout",
     "output_type": "stream",
     "text": [
      "Entity: infarct (56-63)\n",
      "\n",
      "         entity_id    label    bilstm_cv\n",
      "5620  GP2796_56_63  negated  not negated\n"
     ]
    },
    {
     "data": {
      "text/html": [
       "Drop;- <mark style='background-color: #fff59d'><text>zoethout</text></mark>;- zout; let op.\n",
       "C/2a3wkn kreat/gfr bellen voor uitslag.24-uurs\n",
       "<br>"
      ],
      "text/plain": [
       "<IPython.core.display.HTML object>"
      ]
     },
     "metadata": {},
     "output_type": "display_data"
    },
    {
     "name": "stdout",
     "output_type": "stream",
     "text": [
      "Entity: zoethout (7-15)\n",
      "\n",
      "        entity_id    label    bilstm_cv\n",
      "5639  GP2805_7_15  negated  not negated\n"
     ]
    },
    {
     "data": {
      "text/html": [
       "sinds 2 maanden 5 maal een aanval gehad waarbij uitslag en jeuk over het gehele lichaam.\n",
       "nooit <mark style='background-color: #fff59d'><text>allergie</text></mark> gehad, geen nieuwe wasmiddelen of relatie met eten.\n",
       "geen kortademigheid erbij.\n",
       "bang voor leukemie want dat had een collega zie foto's lab om leukemie uit te sluiten, meteen soa testen gedaan want dat moest nog een keer\n",
       "<br>"
      ],
      "text/plain": [
       "<IPython.core.display.HTML object>"
      ]
     },
     "metadata": {},
     "output_type": "display_data"
    },
    {
     "name": "stdout",
     "output_type": "stream",
     "text": [
      "Entity: allergie (95-103)\n",
      "\n",
      "          entity_id    label    bilstm_cv\n",
      "5704  GP2835_95_103  negated  not negated\n"
     ]
    },
    {
     "data": {
      "text/html": [
       "koorts- <mark style='background-color: #fff59d'><text>fluor</text></mark>- soms na coitus vag bloedverlies lab en uitstrijkjepid uitsluiten mbv bse.\n",
       "<br>"
      ],
      "text/plain": [
       "<IPython.core.display.HTML object>"
      ]
     },
     "metadata": {},
     "output_type": "display_data"
    },
    {
     "name": "stdout",
     "output_type": "stream",
     "text": [
      "Entity: fluor (8-13)\n",
      "\n",
      "        entity_id    label    bilstm_cv\n",
      "5717  GP2842_8_13  negated  not negated\n"
     ]
    },
    {
     "data": {
      "text/html": [
       "Wilde uitslagen TSH en vrijT4 bespreken, het is haar niet duidelijk of <mark style='background-color: #fff59d'><text>moeheid</text></mark> hiervan kan komen.\n",
       "Uitleg over schildklier; heeft subklinische hyperthyreoidie (normaal vrij T4 en iets hoog TSH).\n",
       "<br>"
      ],
      "text/plain": [
       "<IPython.core.display.HTML object>"
      ]
     },
     "metadata": {},
     "output_type": "display_data"
    },
    {
     "name": "stdout",
     "output_type": "stream",
     "text": [
      "Entity: moeheid (71-78)\n",
      "\n",
      "         entity_id        label bilstm_cv\n",
      "5760  GP2869_71_78  not negated   negated\n"
     ]
    },
    {
     "data": {
      "text/html": [
       "<mark style='background-color: #fff59d'><text>Hydrops</text></mark>-.\n",
       "<br>"
      ],
      "text/plain": [
       "<IPython.core.display.HTML object>"
      ]
     },
     "metadata": {},
     "output_type": "display_data"
    },
    {
     "name": "stdout",
     "output_type": "stream",
     "text": [
      "Entity: Hydrops (0-7)\n",
      "\n",
      "       entity_id    label    bilstm_cv\n",
      "5775  GP2876_0_7  negated  not negated\n"
     ]
    },
    {
     "data": {
      "text/html": [
       "niet beter geworden, ze lijkt er geen last van te hebben, 's ochtends beter, in loop van dag erger toch geen <mark style='background-color: #fff59d'><text>eczeem</text></mark>?\n",
       "roodheid romp en armpjes, beetje droge huid hydrocortison stop, bij verergering of andere klachten retour\n",
       "<br>"
      ],
      "text/plain": [
       "<IPython.core.display.HTML object>"
      ]
     },
     "metadata": {},
     "output_type": "display_data"
    },
    {
     "name": "stdout",
     "output_type": "stream",
     "text": [
      "Entity: eczeem (109-115)\n",
      "\n",
      "           entity_id        label bilstm_cv\n",
      "5795  GP2891_109_115  not negated   negated\n"
     ]
    },
    {
     "data": {
      "text/html": [
       "<mark style='background-color: #fff59d'><text>koorts</text></mark>.\n",
       "meer maagzuur.\n",
       "<br>"
      ],
      "text/plain": [
       "<IPython.core.display.HTML object>"
      ]
     },
     "metadata": {},
     "output_type": "display_data"
    },
    {
     "name": "stdout",
     "output_type": "stream",
     "text": [
      "Entity: koorts (0-6)\n",
      "\n",
      "       entity_id    label    bilstm_cv\n",
      "5927  GP2967_0_6  negated  not negated\n"
     ]
    },
    {
     "data": {
      "text/html": [
       "met rillingen, is via GGD vaccinatie DTP/Hep a, ook lab dikke druppel.\n",
       "Niet in <mark style='background-color: #fff59d'><text>malaria</text></mark> gebied geweest.\n",
       "vorige week terug uit Brazilie, gisteravond hoge koortspiek keelpijn en diarree.\n",
       "<br>"
      ],
      "text/plain": [
       "<IPython.core.display.HTML object>"
      ]
     },
     "metadata": {},
     "output_type": "display_data"
    },
    {
     "name": "stdout",
     "output_type": "stream",
     "text": [
      "Entity: malaria (79-86)\n",
      "\n",
      "         entity_id    label    bilstm_cv\n",
      "5982  GP2995_79_86  negated  not negated\n"
     ]
    },
    {
     "data": {
      "text/html": [
       "Alzheimer, ziek, pijn liezen, plassen gaat moeilijk, incontinent, wit, <mark style='background-color: #fff59d'><text>koorts</text></mark> niet bekend, agressief,Volgens echtgenote en patient gaat het niet lekker.\n",
       "Bil:roodheid irritatie, nu nog geen wond.\n",
       "<br>"
      ],
      "text/plain": [
       "<IPython.core.display.HTML object>"
      ]
     },
     "metadata": {},
     "output_type": "display_data"
    },
    {
     "name": "stdout",
     "output_type": "stream",
     "text": [
      "Entity: koorts (71-77)\n",
      "\n",
      "         entity_id    label    bilstm_cv\n",
      "6026  GP3020_71_77  negated  not negated\n"
     ]
    },
    {
     "data": {
      "text/html": [
       "Al jaren op PIP gewricht re middelvinger een niet pijnlijke <mark style='background-color: #fff59d'><text>zwelling</text></mark>.\n",
       "Atheroomcyste.\n",
       "<br>"
      ],
      "text/plain": [
       "<IPython.core.display.HTML object>"
      ]
     },
     "metadata": {},
     "output_type": "display_data"
    },
    {
     "name": "stdout",
     "output_type": "stream",
     "text": [
      "Entity: zwelling (60-68)\n",
      "\n",
      "         entity_id        label bilstm_cv\n",
      "6077  GP3049_60_68  not negated   negated\n"
     ]
    },
    {
     "data": {
      "text/html": [
       "mediale liesbreuk rechts Heeft soms een zwakke straal, bang dat prostaat opspeelt.\n",
       "Bij anamnese verder eigenlijk geen klachten, <mark style='background-color: #fff59d'><text>nycturie</text></mark> 1x.\n",
       "Verder zwelling in lies sinds ca 1/2 jaar PRO: herniatie\n",
       "<br>"
      ],
      "text/plain": [
       "<IPython.core.display.HTML object>"
      ]
     },
     "metadata": {},
     "output_type": "display_data"
    },
    {
     "name": "stdout",
     "output_type": "stream",
     "text": [
      "Entity: nycturie (128-136)\n",
      "\n",
      "           entity_id        label bilstm_cv\n",
      "6080  GP3050_128_136  not negated   negated\n"
     ]
    },
    {
     "data": {
      "text/html": [
       "Boc; bij bevolkingsonderzoek <mark style='background-color: #fff59d'><text>borstkanker</text></mark> zijn geen afw gevonden\n",
       "<br>"
      ],
      "text/plain": [
       "<IPython.core.display.HTML object>"
      ]
     },
     "metadata": {},
     "output_type": "display_data"
    },
    {
     "name": "stdout",
     "output_type": "stream",
     "text": [
      "Entity: borstkanker (29-40)\n",
      "\n",
      "         entity_id    label    bilstm_cv\n",
      "6082  GP3051_29_40  negated  not negated\n"
     ]
    },
    {
     "data": {
      "text/html": [
       "al wkn verkouden, beetje hoesten, vnl vol, neussprayen ed nit geholpen O.sinusitis beeld, ook wat misselijk van slijm, <mark style='background-color: #fff59d'><text>braken</text></mark>-\n",
       "<br>"
      ],
      "text/plain": [
       "<IPython.core.display.HTML object>"
      ]
     },
     "metadata": {},
     "output_type": "display_data"
    },
    {
     "name": "stdout",
     "output_type": "stream",
     "text": [
      "Entity: braken (119-125)\n",
      "\n",
      "           entity_id    label    bilstm_cv\n",
      "6091  GP3054_119_125  negated  not negated\n"
     ]
    },
    {
     "data": {
      "text/html": [
       "<mark style='background-color: #fff59d'><text>Koorts</text></mark> -, ontlasting goed.\n",
       "<br>"
      ],
      "text/plain": [
       "<IPython.core.display.HTML object>"
      ]
     },
     "metadata": {},
     "output_type": "display_data"
    },
    {
     "name": "stdout",
     "output_type": "stream",
     "text": [
      "Entity: Koorts (0-6)\n",
      "\n",
      "       entity_id    label    bilstm_cv\n",
      "6111  GP3065_0_6  negated  not negated\n"
     ]
    },
    {
     "data": {
      "text/html": [
       "sinds 3 weken zwelling mediale zijde li onderbeen; geen trauma fluctuerende <mark style='background-color: #fff59d'><text>zwelling</text></mark> drsn 5 cm; geen verkleuring Haematoma, traumatic (5200) of cyste exp 2 wkn\n",
       "<br>"
      ],
      "text/plain": [
       "<IPython.core.display.HTML object>"
      ]
     },
     "metadata": {},
     "output_type": "display_data"
    },
    {
     "name": "stdout",
     "output_type": "stream",
     "text": [
      "Entity: zwelling (76-84)\n",
      "\n",
      "         entity_id        label bilstm_cv\n",
      "6161  GP3090_76_84  not negated   negated\n"
     ]
    },
    {
     "data": {
      "text/html": [
       "Het <mark style='background-color: #fff59d'><text>pleuravocht</text></mark> in de dorsale sinus is thans niet meer aanwezig.\n",
       "Geen tekenen van longoedeem.\n",
       "<br>"
      ],
      "text/plain": [
       "<IPython.core.display.HTML object>"
      ]
     },
     "metadata": {},
     "output_type": "display_data"
    },
    {
     "name": "stdout",
     "output_type": "stream",
     "text": [
      "Entity: pleuravocht (4-15)\n",
      "\n",
      "        entity_id    label    bilstm_cv\n",
      "6192  RD1111_4_15  negated  not negated\n"
     ]
    },
    {
     "data": {
      "text/html": [
       "KLINISCHE INFORMATIE O.a. M.Crohn waarvoor resectie van terminale ileum in 1994.\n",
       "Status na RT wegens prostaatcarcinoom in 1995.\n",
       "Nu hevige diarree.\n",
       "VRAAGSTELLING Crohn?\n",
       "Stenose?\n",
       "Geen afwijkingen passend bij actieve <mark style='background-color: #fff59d'><text>Crohn</text></mark> aangetoond.\n",
       "<br>"
      ],
      "text/plain": [
       "<IPython.core.display.HTML object>"
      ]
     },
     "metadata": {},
     "output_type": "display_data"
    },
    {
     "name": "stdout",
     "output_type": "stream",
     "text": [
      "Entity: Crohn (214-219)\n",
      "\n",
      "           entity_id    label    bilstm_cv\n",
      "6305  RD1156_214_219  negated  not negated\n"
     ]
    },
    {
     "data": {
      "text/html": [
       "heup:     Boven het linker acetabulum kleine sclerotische laesie, niet typisch voor <mark style='background-color: #fff59d'><text>metastase</text></mark>, mogelijk boteilandje.\n",
       "bekkenkam zonder verdenking op ossale metastasen.\n",
       "<br>"
      ],
      "text/plain": [
       "<IPython.core.display.HTML object>"
      ]
     },
     "metadata": {},
     "output_type": "display_data"
    },
    {
     "name": "stdout",
     "output_type": "stream",
     "text": [
      "Entity: metastase (84-93)\n",
      "\n",
      "         entity_id    label    bilstm_cv\n",
      "6309  RD1158_84_93  negated  not negated\n"
     ]
    },
    {
     "data": {
      "text/html": [
       "Dit beeld beinvloedt wel enigszins de beoordeling van <mark style='background-color: #fff59d'><text>nierstenen</text></mark> maar voor zover te beoordelen zijn deze niet aanwezig.\n",
       "<br>"
      ],
      "text/plain": [
       "<IPython.core.display.HTML object>"
      ]
     },
     "metadata": {},
     "output_type": "display_data"
    },
    {
     "name": "stdout",
     "output_type": "stream",
     "text": [
      "Entity: nierstenen (54-64)\n",
      "\n",
      "         entity_id    label    bilstm_cv\n",
      "6329  RD1164_54_64  negated  not negated\n"
     ]
    },
    {
     "data": {
      "text/html": [
       "VRAAGSTELLING Controle pneumothorax.\n",
       "Een pneumothorax t.h.v. de rechter longtop lijkt niet wezenlijk in omvang gewijzigd.\n",
       "Wel aanwijzing voor wat afname pleuravocht rechts gezien geringere egale sluieringscomponent.\n",
       "Rechts laterobasaal nog wel pleurale verbreding wijzend op resterend pleuravocht.\n",
       "Bekende intrapulmonale en pleurale restafwijkingen links na tuberculose.\n",
       "CONCLUSIE In vergelijk met 01-03-1997 aanwijzing voor iets afname <mark style='background-color: #fff59d'><text>pleuravocht</text></mark> rechts.\n",
       "<br>"
      ],
      "text/plain": [
       "<IPython.core.display.HTML object>"
      ]
     },
     "metadata": {},
     "output_type": "display_data"
    },
    {
     "name": "stdout",
     "output_type": "stream",
     "text": [
      "Entity: pleuravocht (437-448)\n",
      "\n",
      "           entity_id        label bilstm_cv\n",
      "6451  RD1213_437_448  not negated   negated\n"
     ]
    },
    {
     "data": {
      "text/html": [
       "<mark style='background-color: #fff59d'><text>Hoest</text></mark> niet op.\n",
       "VRAAGSTELLING Pneumonie?\n",
       "Voorts zijn er asbestotische veranderingen zichtbaar in de pleura rechts en een pleuritis calcaria beeld is waarneembaar in de linker thoraxhelft.\n",
       "Links bovendien pleuravocht.\n",
       "<br>"
      ],
      "text/plain": [
       "<IPython.core.display.HTML object>"
      ]
     },
     "metadata": {},
     "output_type": "display_data"
    },
    {
     "name": "stdout",
     "output_type": "stream",
     "text": [
      "Entity: Hoest (0-5)\n",
      "\n",
      "       entity_id    label    bilstm_cv\n",
      "6452  RD1214_0_5  negated  not negated\n"
     ]
    },
    {
     "data": {
      "text/html": [
       "inwendige prolaps.\n",
       "Het aspect gezien op de foto's van 31-03-1995 met een soort <mark style='background-color: #fff59d'><text>ulcus</text></mark> anterior van het rectum, wordt nu niet meer alszodanig gezien.\n",
       "<br>"
      ],
      "text/plain": [
       "<IPython.core.display.HTML object>"
      ]
     },
     "metadata": {},
     "output_type": "display_data"
    },
    {
     "name": "stdout",
     "output_type": "stream",
     "text": [
      "Entity: ulcus (79-84)\n",
      "\n",
      "         entity_id    label    bilstm_cv\n",
      "6473  RD1224_79_84  negated  not negated\n"
     ]
    },
    {
     "data": {
      "text/html": [
       "VRAAGSTELLING Littekenbreuk, afw.\n",
       "In de prostaat zijn er verkalkingen zichtbaar, geen aanwijzing voor <mark style='background-color: #fff59d'><text>littekenbreuk</text></mark> of andere afwijkingen aan het kleine bekken.\n",
       "Geen abces zichtbaar.\n",
       "CONCLUSIE: Lipomatose van het kleine bekken.\n",
       "<br>"
      ],
      "text/plain": [
       "<IPython.core.display.HTML object>"
      ]
     },
     "metadata": {},
     "output_type": "display_data"
    },
    {
     "name": "stdout",
     "output_type": "stream",
     "text": [
      "Entity: littekenbreuk (102-115)\n",
      "\n",
      "           entity_id    label    bilstm_cv\n",
      "6475  RD1225_102_115  negated  not negated\n"
     ]
    },
    {
     "data": {
      "text/html": [
       "Hoesten.\n",
       "~@@~ THORAX    2R 385002 In vergelijking met de meest recente opnamen d.d. 19-08-1987 is er sprake van een abnormale vaag begrensde verdichting in het rechter onderveld, verdacht voor beginnende <mark style='background-color: #fff59d'><text>pneumonie</text></mark>.\n",
       "U werd telefonisch van deze uitslag op de hoogte gesteld.\n",
       "<br>"
      ],
      "text/plain": [
       "<IPython.core.display.HTML object>"
      ]
     },
     "metadata": {},
     "output_type": "display_data"
    },
    {
     "name": "stdout",
     "output_type": "stream",
     "text": [
      "Entity: pneumonie (204-213)\n",
      "\n",
      "           entity_id        label bilstm_cv\n",
      "6539  RD1255_204_213  not negated   negated\n"
     ]
    },
    {
     "data": {
      "text/html": [
       "STATUSNUMMER : 963997   Vraagstelling : KNO tumor.\n",
       "- <mark style='background-color: #fff59d'><text>Pleuravocht</text></mark> rechts geresorbeerd; longvelden goed ontplooid (hoe behandeld?). - Geen duidelijk focale pleurale verbredingen.\n",
       "Geen aanwijzingen voor (centrale) longembolie.\n",
       "- In longsetting nu toch evident nodulaire afwijkingen; de voorheen beschreven klein subpleurale verdichting links lateraal diep in de costophrenische hoek voorheen sp 1105 thans sp -189 uitgegroeid tot een duidelijke nodus, tot 9 mm rond en een 2e nodulus voorheen niet zichtbaar thans meer ventraal in de laterale costophrenische hoek links sp -196 5 mm rond en toch geduid als longmetastasen.\n",
       "<br>"
      ],
      "text/plain": [
       "<IPython.core.display.HTML object>"
      ]
     },
     "metadata": {},
     "output_type": "display_data"
    },
    {
     "name": "stdout",
     "output_type": "stream",
     "text": [
      "Entity: Pleuravocht (53-64)\n",
      "\n",
      "         entity_id    label    bilstm_cv\n",
      "6582  RD1277_53_64  negated  not negated\n"
     ]
    },
    {
     "data": {
      "text/html": [
       "Hoesten, <mark style='background-color: #fff59d'><text>dyspnoe</text></mark> en koorts.\n",
       "<br>"
      ],
      "text/plain": [
       "<IPython.core.display.HTML object>"
      ]
     },
     "metadata": {},
     "output_type": "display_data"
    },
    {
     "name": "stdout",
     "output_type": "stream",
     "text": [
      "Entity: dyspnoe (9-16)\n",
      "\n",
      "        entity_id        label bilstm_cv\n",
      "6649  RD1306_9_16  not negated   negated\n"
     ]
    },
    {
     "data": {
      "text/html": [
       "KLINISCHE INFORMATIE Patient bekend met sclerose vulvae.\n",
       "Biopt: carcinoom.\n",
       "VRAAGSTELLING Uitbreiding tumor?\n",
       "1 cm en bevindt zich in het meest distale gedeelte van de vagina maar er is geen aanwijzing voor een diepe uitbreiding van de <mark style='background-color: #fff59d'><text>tumor</text></mark>.\n",
       "CONCLUSIE Aanwijzing voor kleine tumor in de labia major rechts zonder aanwijzingen voor diepe uitbreiding.\n",
       "<br>"
      ],
      "text/plain": [
       "<IPython.core.display.HTML object>"
      ]
     },
     "metadata": {},
     "output_type": "display_data"
    },
    {
     "name": "stdout",
     "output_type": "stream",
     "text": [
      "Entity: tumor (234-239)\n",
      "\n",
      "           entity_id        label bilstm_cv\n",
      "6702  RD1327_234_239  not negated   negated\n"
     ]
    },
    {
     "data": {
      "text/html": [
       "~@@~ THORAX    2R 385002 Minimaal subcutaan emphyseem links en spoortje pleuravocht links.\n",
       "Hopelijk is links geen <mark style='background-color: #fff59d'><text>pneumothorax</text></mark> in ontwikkeling.\n",
       "<br>"
      ],
      "text/plain": [
       "<IPython.core.display.HTML object>"
      ]
     },
     "metadata": {},
     "output_type": "display_data"
    },
    {
     "name": "stdout",
     "output_type": "stream",
     "text": [
      "Entity: pneumothorax (114-126)\n",
      "\n",
      "           entity_id        label bilstm_cv\n",
      "6727  RD1338_114_126  not negated   negated\n"
     ]
    },
    {
     "data": {
      "text/html": [
       "Geen pleuravocht.\n",
       "De luchthoudendheid der darmstructuren is inmiddels wat afgenomen, zodat er nu niet meer gesproken kan worden van een paralytische <mark style='background-color: #fff59d'><text>subileus</text></mark>.\n",
       "<br>"
      ],
      "text/plain": [
       "<IPython.core.display.HTML object>"
      ]
     },
     "metadata": {},
     "output_type": "display_data"
    },
    {
     "name": "stdout",
     "output_type": "stream",
     "text": [
      "Entity: subileus (149-157)\n",
      "\n",
      "           entity_id    label    bilstm_cv\n",
      "6729  RD1339_149_157  negated  not negated\n"
     ]
    },
    {
     "data": {
      "text/html": [
       "KLINISCHE INFORMATIE: 04-03-97 resectie coarctatio aortae.\n",
       "<mark style='background-color: #fff59d'><text>Pleuravocht</text></mark> van betekenis is daar echter niet aanwezig.\n",
       "<br>"
      ],
      "text/plain": [
       "<IPython.core.display.HTML object>"
      ]
     },
     "metadata": {},
     "output_type": "display_data"
    },
    {
     "name": "stdout",
     "output_type": "stream",
     "text": [
      "Entity: Pleuravocht (59-70)\n",
      "\n",
      "         entity_id    label    bilstm_cv\n",
      "6731  RD1340_59_70  negated  not negated\n"
     ]
    },
    {
     "data": {
      "text/html": [
       "<mark style='background-color: #fff59d'><text>Koorts</text></mark>.\n",
       "Geen tekenen van decompensatio cordis.\n",
       "Geen aanwijzingen voor pneumothorax.\n",
       "<br>"
      ],
      "text/plain": [
       "<IPython.core.display.HTML object>"
      ]
     },
     "metadata": {},
     "output_type": "display_data"
    },
    {
     "name": "stdout",
     "output_type": "stream",
     "text": [
      "Entity: Koorts (0-6)\n",
      "\n",
      "       entity_id        label bilstm_cv\n",
      "6788  RD1365_0_6  not negated   negated\n"
     ]
    },
    {
     "data": {
      "text/html": [
       "malaise.\n",
       "~@@~ THORAX    2R 385002 In vergelijking met de opnamen van 21-02-1997 is het <mark style='background-color: #fff59d'><text>pleuravocht</text></mark> aan de linker en rechter zijde thans geheel verdwenen.\n",
       "CONCLUSIE: In vergelijking met de opnamen van 21-02-1997 is het pleuravocht thans verdwenen.\n",
       "<br>"
      ],
      "text/plain": [
       "<IPython.core.display.HTML object>"
      ]
     },
     "metadata": {},
     "output_type": "display_data"
    },
    {
     "name": "stdout",
     "output_type": "stream",
     "text": [
      "Entity: pleuravocht (87-98)\n",
      "\n",
      "         entity_id    label    bilstm_cv\n",
      "6851  RD1396_87_98  negated  not negated\n"
     ]
    },
    {
     "data": {
      "text/html": [
       "Conclusie: Aanwijzingen voor <mark style='background-color: #fff59d'><text>pleuravocht</text></mark> re. met waarschijnlijk ook onderliggend infiltraat ter plaatse.\n",
       "<br>"
      ],
      "text/plain": [
       "<IPython.core.display.HTML object>"
      ]
     },
     "metadata": {},
     "output_type": "display_data"
    },
    {
     "name": "stdout",
     "output_type": "stream",
     "text": [
      "Entity: pleuravocht (29-40)\n",
      "\n",
      "         entity_id        label bilstm_cv\n",
      "7103  RD1499_29_40  not negated   negated\n"
     ]
    },
    {
     "data": {
      "text/html": [
       "Status na lobair pneumonie.\n",
       "Conclusie: Genezen <mark style='background-color: #fff59d'><text>pneumonie</text></mark>.\n",
       "<br>"
      ],
      "text/plain": [
       "<IPython.core.display.HTML object>"
      ]
     },
     "metadata": {},
     "output_type": "display_data"
    },
    {
     "name": "stdout",
     "output_type": "stream",
     "text": [
      "Entity: pneumonie (47-56)\n",
      "\n",
      "         entity_id    label    bilstm_cv\n",
      "7105  RD1500_47_56  negated  not negated\n"
     ]
    },
    {
     "data": {
      "text/html": [
       "KLINISCHE INFORMATIE Spina bifida, neurogeen blaaslijden.\n",
       "Beeld van spina bifida met geringe rechts convexe lumbale scoliose.\n",
       "Het aspect van de ureter is niet suspect voor een intraluminale <mark style='background-color: #fff59d'><text>obstructie</text></mark> of een circulaire afsluiting c.q.\n",
       "CONCLUSIE: #Name# verzamelsysteem rechts waarschijnlijk t.g.v. een benigne, relatieve obstructie t.h.v. het SI-gewricht: vaat overkruising?\n",
       "<br>"
      ],
      "text/plain": [
       "<IPython.core.display.HTML object>"
      ]
     },
     "metadata": {},
     "output_type": "display_data"
    },
    {
     "name": "stdout",
     "output_type": "stream",
     "text": [
      "Entity: obstructie (190-200)\n",
      "\n",
      "           entity_id    label    bilstm_cv\n",
      "7110  RD1502_190_200  negated  not negated\n"
     ]
    },
    {
     "data": {
      "text/html": [
       "KLINISCHE INFORMATIE Klinisch Sudecks atrofie linker voet.\n",
       "~@@~ ENKEL L.  2R 389602L ENKEL R.  2R 389602R T.p.v. de rechter calcaneus een matig grote hielspoor.\n",
       "Beiderzijds een kleine #Name# exostose.\n",
       "Verder ossale structuren binnen het normale, geen aanwijzing voor Sudeckse <mark style='background-color: #fff59d'><text>atrofie</text></mark>.\n",
       "<br>"
      ],
      "text/plain": [
       "<IPython.core.display.HTML object>"
      ]
     },
     "metadata": {},
     "output_type": "display_data"
    },
    {
     "name": "stdout",
     "output_type": "stream",
     "text": [
      "Entity: atrofie (276-283)\n",
      "\n",
      "           entity_id    label    bilstm_cv\n",
      "7127  RD1507_276_283  negated  not negated\n"
     ]
    },
    {
     "data": {
      "text/html": [
       "Iatrogeen <mark style='background-color: #fff59d'><text>blaasletsel</text></mark> tijdens operatie.\n",
       "<br>"
      ],
      "text/plain": [
       "<IPython.core.display.HTML object>"
      ]
     },
     "metadata": {},
     "output_type": "display_data"
    },
    {
     "name": "stdout",
     "output_type": "stream",
     "text": [
      "Entity: blaasletsel (10-21)\n",
      "\n",
      "         entity_id        label bilstm_cv\n",
      "7195  RD1539_10_21  not negated   negated\n"
     ]
    },
    {
     "data": {
      "text/html": [
       "KLINISCHE INFORMATIE #Name# cel leukemie.\n",
       "Koorts.\n",
       "Pleuravocht rechts meer dan links.\n",
       "Het beeld lijkt het meest op <mark style='background-color: #fff59d'><text>pleuravocht</text></mark>.\n",
       "Geen verandering in de hoeveelheid pleuravocht vergeleken met 12-01-1997.\n",
       "Beiderzijds pleuravocht.\n",
       "<br>"
      ],
      "text/plain": [
       "<IPython.core.display.HTML object>"
      ]
     },
     "metadata": {},
     "output_type": "display_data"
    },
    {
     "name": "stdout",
     "output_type": "stream",
     "text": [
      "Entity: pleuravocht (114-125)\n",
      "\n",
      "           entity_id        label bilstm_cv\n",
      "7278  RD1568_114_125  not negated   negated\n"
     ]
    },
    {
     "data": {
      "text/html": [
       "KLINISCHE INFORMATIE #Name# cel leukemie.\n",
       "Koorts.\n",
       "Pleuravocht rechts meer dan links.\n",
       "Het beeld lijkt het meest op pleuravocht.\n",
       "Geen verandering in de hoeveelheid <mark style='background-color: #fff59d'><text>pleuravocht</text></mark> vergeleken met 12-01-1997.\n",
       "Beiderzijds pleuravocht.\n",
       "<br>"
      ],
      "text/plain": [
       "<IPython.core.display.HTML object>"
      ]
     },
     "metadata": {},
     "output_type": "display_data"
    },
    {
     "name": "stdout",
     "output_type": "stream",
     "text": [
      "Entity: pleuravocht (162-173)\n",
      "\n",
      "           entity_id        label bilstm_cv\n",
      "7279  RD1568_162_173  not negated   negated\n"
     ]
    },
    {
     "data": {
      "text/html": [
       "Pleuravocht.\n",
       "VRAAGSTELLING: Toe- of afname van pleuravocht?\n",
       "Onveranderd geringe tot matige hoeveelheid pleuravocht rechts.\n",
       "Spoor pleuravocht links.\n",
       "Geen aanwijzingen voor longoedeem of longinfiltraat.\n",
       "CONCLUSIE: Geen afname van het <mark style='background-color: #fff59d'><text>pleuravocht</text></mark> rechts en spoor pleuravocht links.\n",
       "<br>"
      ],
      "text/plain": [
       "<IPython.core.display.HTML object>"
      ]
     },
     "metadata": {},
     "output_type": "display_data"
    },
    {
     "name": "stdout",
     "output_type": "stream",
     "text": [
      "Entity: pleuravocht (232-243)\n",
      "\n",
      "           entity_id        label bilstm_cv\n",
      "7292  RD1570_232_243  not negated   negated\n"
     ]
    },
    {
     "data": {
      "text/html": [
       "Vreemd gevoel rechter lichaamshelft.\n",
       "Intracerebraal worden geen afwijkingen gezien, geen aanwijzingen voor metastasen, Wel wordt een aantal subcutane laesies gezien in het vetweefsel zowel rechts hoog parieto-occipitaal, links parieto-occipitaal en links occipitaal.\n",
       "<mark style='background-color: #fff59d'><text>Metastasen</text></mark> lijken minder waarschijnlijk.\n",
       "<br>"
      ],
      "text/plain": [
       "<IPython.core.display.HTML object>"
      ]
     },
     "metadata": {},
     "output_type": "display_data"
    },
    {
     "name": "stdout",
     "output_type": "stream",
     "text": [
      "Entity: Metastasen (267-277)\n",
      "\n",
      "           entity_id    label    bilstm_cv\n",
      "7337  RD1590_267_277  negated  not negated\n"
     ]
    },
    {
     "data": {
      "text/html": [
       "Het toentertijd bilateraal aanwezige <mark style='background-color: #fff59d'><text>pleuravocht</text></mark> is nu verdwenen.\n",
       "<br>"
      ],
      "text/plain": [
       "<IPython.core.display.HTML object>"
      ]
     },
     "metadata": {},
     "output_type": "display_data"
    },
    {
     "name": "stdout",
     "output_type": "stream",
     "text": [
      "Entity: pleuravocht (37-48)\n",
      "\n",
      "         entity_id    label    bilstm_cv\n",
      "7365  RD1606_37_48  negated  not negated\n"
     ]
    },
    {
     "data": {
      "text/html": [
       "STATUSNUMMER : 0597669   Vraagstelling : tumor linker tonsil, geopereerd.\n",
       "Voor <mark style='background-color: #fff59d'><text>metastase</text></mark> verdachte veranderingen worden niet gezien m.n.\n",
       "<br>"
      ],
      "text/plain": [
       "<IPython.core.display.HTML object>"
      ]
     },
     "metadata": {},
     "output_type": "display_data"
    },
    {
     "name": "stdout",
     "output_type": "stream",
     "text": [
      "Entity: metastase (79-88)\n",
      "\n",
      "         entity_id    label    bilstm_cv\n",
      "7373  RD1608_79_88  negated  not negated\n"
     ]
    },
    {
     "data": {
      "text/html": [
       "Er is enig <mark style='background-color: #fff59d'><text>pleuravocht</text></mark> rechts; geen vochtcollecties subphrenisch.\n",
       "CONCLUSIE: Geen aanwijzingen voor intra-abdominaal abces.\n",
       "<br>"
      ],
      "text/plain": [
       "<IPython.core.display.HTML object>"
      ]
     },
     "metadata": {},
     "output_type": "display_data"
    },
    {
     "name": "stdout",
     "output_type": "stream",
     "text": [
      "Entity: pleuravocht (11-22)\n",
      "\n",
      "         entity_id        label bilstm_cv\n",
      "7384  RD1613_11_22  not negated   negated\n"
     ]
    },
    {
     "data": {
      "text/html": [
       "Ileus.\n",
       "VRAAGSTELLING Controle retroperitoneaal lucht en ileus.\n",
       "Geen vrij lucht onder de diafragmakoepels zichtbaar, wel verdenking op spoor pleuravocht rechts.\n",
       "Nog tekenen van <mark style='background-color: #fff59d'><text>ileus</text></mark>.\n",
       "<br>"
      ],
      "text/plain": [
       "<IPython.core.display.HTML object>"
      ]
     },
     "metadata": {},
     "output_type": "display_data"
    },
    {
     "name": "stdout",
     "output_type": "stream",
     "text": [
      "Entity: ileus (176-181)\n",
      "\n",
      "           entity_id        label bilstm_cv\n",
      "7395  RD1617_176_181  not negated   negated\n"
     ]
    },
    {
     "data": {
      "text/html": [
       "Nog hooguit minimaal afronding van de rechts laterale sinus, verder geen aanwijzing meer voor pleuravocht.\n",
       "Het <mark style='background-color: #fff59d'><text>pleuravocht</text></mark> rechts lijkt geheel verdwenen.\n",
       "Geen ileus.\n",
       "Geen tekenen van ileus.\n",
       "<br>"
      ],
      "text/plain": [
       "<IPython.core.display.HTML object>"
      ]
     },
     "metadata": {},
     "output_type": "display_data"
    },
    {
     "name": "stdout",
     "output_type": "stream",
     "text": [
      "Entity: pleuravocht (111-122)\n",
      "\n",
      "           entity_id    label    bilstm_cv\n",
      "7399  RD1619_111_122  negated  not negated\n"
     ]
    },
    {
     "data": {
      "text/html": [
       "KLINISCHE INFORMATIE Ureterletsel in '95 links bij gynaecologische operatie.\n",
       "B.BUIK    387070 Depots van kleine partikels in de galblaas; eigenlijk te klein voor de echte diagnose <mark style='background-color: #fff59d'><text>cholelithiasis</text></mark>.\n",
       "<br>"
      ],
      "text/plain": [
       "<IPython.core.display.HTML object>"
      ]
     },
     "metadata": {},
     "output_type": "display_data"
    },
    {
     "name": "stdout",
     "output_type": "stream",
     "text": [
      "Entity: cholelithiasis (180-194)\n",
      "\n",
      "           entity_id    label    bilstm_cv\n",
      "7414  RD1629_180_194  negated  not negated\n"
     ]
    },
    {
     "data": {
      "text/html": [
       "Nu hoge koorts.\n",
       "VRAAGSTELLING: Galwegpathologie, parenchymateuze afwijkingen, abces, vrij vocht.\n",
       "Er wordt enig pleuravocht rechts gezien.\n",
       "Geen aanwijzingen voor een subphrenisch abces rechts.\n",
       "Geen aanwijzingen voor een subphrenisch abces links.\n",
       "Cyste met een diameter van plusminus 3 cm in de middenpool van de rechter nier.\n",
       "CONCLUSIE: Geen duidelijke focus voor de <mark style='background-color: #fff59d'><text>koorts</text></mark> gevonden.\n",
       "<br>"
      ],
      "text/plain": [
       "<IPython.core.display.HTML object>"
      ]
     },
     "metadata": {},
     "output_type": "display_data"
    },
    {
     "name": "stdout",
     "output_type": "stream",
     "text": [
      "Entity: koorts (366-372)\n",
      "\n",
      "           entity_id        label bilstm_cv\n",
      "7467  RD1655_366_372  not negated   negated\n"
     ]
    },
    {
     "data": {
      "text/html": [
       "KLINISCHE INFORMATIE Al jaren duizelig.\n",
       "Sindsdien valneiging en dysartrie.\n",
       "VRAAGSTELLING Cerebellair infarct?\n",
       "Geen oorzaak van <mark style='background-color: #fff59d'><text>obstructie</text></mark> zichtbaar.\n",
       "<br>"
      ],
      "text/plain": [
       "<IPython.core.display.HTML object>"
      ]
     },
     "metadata": {},
     "output_type": "display_data"
    },
    {
     "name": "stdout",
     "output_type": "stream",
     "text": [
      "Entity: obstructie (127-137)\n",
      "\n",
      "           entity_id        label bilstm_cv\n",
      "7482  RD1662_127_137  not negated   negated\n"
     ]
    },
    {
     "data": {
      "text/html": [
       "Niet apert <mark style='background-color: #fff59d'><text>vergroot hart</text></mark>.\n",
       "<br>"
      ],
      "text/plain": [
       "<IPython.core.display.HTML object>"
      ]
     },
     "metadata": {},
     "output_type": "display_data"
    },
    {
     "name": "stdout",
     "output_type": "stream",
     "text": [
      "Entity: vergroot hart (11-24)\n",
      "\n",
      "         entity_id    label    bilstm_cv\n",
      "7505  RD1673_11_24  negated  not negated\n"
     ]
    },
    {
     "data": {
      "text/html": [
       "Nu rode pijnlijke zwelling in kuit en voet.\n",
       "VRAAGSTELLING: Trombose.\n",
       "CONCLUSIE: Geen trombose, eerder <mark style='background-color: #fff59d'><text>erysipelas</text></mark>-beeld.\n",
       "<br>"
      ],
      "text/plain": [
       "<IPython.core.display.HTML object>"
      ]
     },
     "metadata": {},
     "output_type": "display_data"
    },
    {
     "name": "stdout",
     "output_type": "stream",
     "text": [
      "Entity: erysipelas (102-112)\n",
      "\n",
      "           entity_id        label bilstm_cv\n",
      "7551  RD1693_102_112  not negated   negated\n"
     ]
    },
    {
     "data": {
      "text/html": [
       "Pijn trekkend naar rechter arm, koorts.\n",
       "Wat bol maar zeker niet <mark style='background-color: #fff59d'><text>vergroot hart</text></mark> met verbreding naar links.\n",
       "Er bestaat een arcuair rechts convexe scoliose thoracaal welke ten opzichte van het eerder onderzoek van 22-06-1987 progressief is.\n",
       "<br>"
      ],
      "text/plain": [
       "<IPython.core.display.HTML object>"
      ]
     },
     "metadata": {},
     "output_type": "display_data"
    },
    {
     "name": "stdout",
     "output_type": "stream",
     "text": [
      "Entity: vergroot hart (64-77)\n",
      "\n",
      "         entity_id    label    bilstm_cv\n",
      "7716  RD1762_64_77  negated  not negated\n"
     ]
    },
    {
     "data": {
      "text/html": [
       "KLINISCHE INFORMATIE: Hypertensie, hypercholesterolaemie.\n",
       "Gewichtsverlies.\n",
       "Vreemd aspect van costa 5, 6 en 7 links lateroventraal mogelijk op basis van een oud trauma.\n",
       "Het beeld past niet primair bij een <mark style='background-color: #fff59d'><text>mesothelioom</text></mark>.\n",
       "<br>"
      ],
      "text/plain": [
       "<IPython.core.display.HTML object>"
      ]
     },
     "metadata": {},
     "output_type": "display_data"
    },
    {
     "name": "stdout",
     "output_type": "stream",
     "text": [
      "Entity: mesothelioom (204-216)\n",
      "\n",
      "           entity_id    label    bilstm_cv\n",
      "7881  RD1839_204_216  negated  not negated\n"
     ]
    },
    {
     "data": {
      "text/html": [
       "KLINISCHE INFORMATIE Recent myocardinfarct, dyspnoe.\n",
       "~@@~ THORAX    2R 385002 In vergelijking met 23-09-1996 toenemende hartomvang met gering pleuravocht in ondiepe costofrenische sinus en aanzetting van fissuren.\n",
       "E.e.a. is suggestief voor geringe longstuwing.\n",
       "Op de laterale opname is 2cm craniaal van de aortaboog een ronde interpulmonale laesie zichtbaar, ook zichtbaar op 23-09-1996 en waarschijnlijk berust het op een verkalkt granuloom.\n",
       "CONCLUSIE Geen infiltraten, aanwijzingen voor geringe <mark style='background-color: #fff59d'><text>longstuwing</text></mark> gezien toenemende hartomvang en wat pleuravocht in de fissuren.\n",
       "<br>"
      ],
      "text/plain": [
       "<IPython.core.display.HTML object>"
      ]
     },
     "metadata": {},
     "output_type": "display_data"
    },
    {
     "name": "stdout",
     "output_type": "stream",
     "text": [
      "Entity: longstuwing (497-508)\n",
      "\n",
      "           entity_id        label bilstm_cv\n",
      "7887  RD1840_497_508  not negated   negated\n"
     ]
    },
    {
     "data": {
      "text/html": [
       "<mark style='background-color: #fff59d'><text>Pulmonale hypertensie</text></mark>.\n",
       "Thans koorts met koude rilling.\n",
       "~@@~ THORAX    2R 385002   In vergelijking met de opname van 28-02-97 is er onveranderd sprake van een vergroot hart met forse centrale longvaten passend bij pulmonale hypertensie.\n",
       "CONCLUSIE: Onveranderd beeld van pulmonale hypertensie.\n",
       "<br>"
      ],
      "text/plain": [
       "<IPython.core.display.HTML object>"
      ]
     },
     "metadata": {},
     "output_type": "display_data"
    },
    {
     "name": "stdout",
     "output_type": "stream",
     "text": [
      "Entity: Pulmonale hypertensie (0-21)\n",
      "\n",
      "        entity_id        label bilstm_cv\n",
      "8023  RD1902_0_21  not negated   negated\n"
     ]
    },
    {
     "data": {
      "text/html": [
       "VRAAGSTELLING Meniscusdegeneratie of scheur?\n",
       "~@@~ ECHO KNIE L. 389470L Geen aanwijzingen voor #Name# cyste of ganglion.\n",
       "Geen parameningeale cyste aanwijsbaar.\n",
       "Geen evidente aanwijzingen voor meniscusruptuur in de periferie, echter is echografie van de knie onvoldoende betrouwbaar om meniscus rupturen uit te sluiten.\n",
       "M.n. de centrale rupturen en een Bucket handle <mark style='background-color: #fff59d'><text>ruptuur</text></mark> kunnen niet met echografie worden aangetoond.\n",
       "Differentiatie tussen meniscus degeneratie en ruptuur is ook niet mogelijk.\n",
       "CONCLUSIE: Geen ganglion, #Name# cyste of parameningeale cyste.\n",
       "<br>"
      ],
      "text/plain": [
       "<IPython.core.display.HTML object>"
      ]
     },
     "metadata": {},
     "output_type": "display_data"
    },
    {
     "name": "stdout",
     "output_type": "stream",
     "text": [
      "Entity: ruptuur (365-372)\n",
      "\n",
      "           entity_id    label    bilstm_cv\n",
      "8140  RD1951_365_372  negated  not negated\n"
     ]
    },
    {
     "data": {
      "text/html": [
       "VRAAGSTELLING Meniscusdegeneratie of scheur?\n",
       "~@@~ ECHO KNIE L. 389470L Geen aanwijzingen voor #Name# cyste of ganglion.\n",
       "Geen parameningeale cyste aanwijsbaar.\n",
       "Geen evidente aanwijzingen voor meniscusruptuur in de periferie, echter is echografie van de knie onvoldoende betrouwbaar om meniscus rupturen uit te sluiten.\n",
       "M.n. de centrale rupturen en een Bucket handle ruptuur kunnen niet met echografie worden aangetoond.\n",
       "Differentiatie tussen meniscus degeneratie en <mark style='background-color: #fff59d'><text>ruptuur</text></mark> is ook niet mogelijk.\n",
       "CONCLUSIE: Geen ganglion, #Name# cyste of parameningeale cyste.\n",
       "<br>"
      ],
      "text/plain": [
       "<IPython.core.display.HTML object>"
      ]
     },
     "metadata": {},
     "output_type": "display_data"
    },
    {
     "name": "stdout",
     "output_type": "stream",
     "text": [
      "Entity: ruptuur (465-472)\n",
      "\n",
      "           entity_id    label    bilstm_cv\n",
      "8141  RD1951_465_472  negated  not negated\n"
     ]
    },
    {
     "data": {
      "text/html": [
       "VRAAGSTELLING Meniscusdegeneratie of scheur?\n",
       "~@@~ ECHO KNIE L. 389470L Geen aanwijzingen voor #Name# cyste of ganglion.\n",
       "Geen parameningeale cyste aanwijsbaar.\n",
       "Geen evidente aanwijzingen voor meniscusruptuur in de periferie, echter is echografie van de knie onvoldoende betrouwbaar om meniscus rupturen uit te sluiten.\n",
       "M.n. de centrale rupturen en een Bucket handle ruptuur kunnen niet met echografie worden aangetoond.\n",
       "Differentiatie tussen meniscus degeneratie en ruptuur is ook niet mogelijk.\n",
       "CONCLUSIE: Geen ganglion, #Name# <mark style='background-color: #fff59d'><text>cyste</text></mark> of parameningeale cyste.\n",
       "<br>"
      ],
      "text/plain": [
       "<IPython.core.display.HTML object>"
      ]
     },
     "metadata": {},
     "output_type": "display_data"
    },
    {
     "name": "stdout",
     "output_type": "stream",
     "text": [
      "Entity: cyste (528-533)\n",
      "\n",
      "           entity_id    label    bilstm_cv\n",
      "8143  RD1951_528_533  negated  not negated\n"
     ]
    },
    {
     "data": {
      "text/html": [
       "VRAAGSTELLING Meniscusdegeneratie of scheur?\n",
       "~@@~ ECHO KNIE L. 389470L Geen aanwijzingen voor #Name# cyste of ganglion.\n",
       "Geen parameningeale cyste aanwijsbaar.\n",
       "Geen evidente aanwijzingen voor meniscusruptuur in de periferie, echter is echografie van de knie onvoldoende betrouwbaar om meniscus rupturen uit te sluiten.\n",
       "M.n. de centrale rupturen en een Bucket handle ruptuur kunnen niet met echografie worden aangetoond.\n",
       "Differentiatie tussen meniscus degeneratie en ruptuur is ook niet mogelijk.\n",
       "CONCLUSIE: Geen ganglion, #Name# cyste of parameningeale <mark style='background-color: #fff59d'><text>cyste</text></mark>.\n",
       "<br>"
      ],
      "text/plain": [
       "<IPython.core.display.HTML object>"
      ]
     },
     "metadata": {},
     "output_type": "display_data"
    },
    {
     "name": "stdout",
     "output_type": "stream",
     "text": [
      "Entity: cyste (552-557)\n",
      "\n",
      "           entity_id    label    bilstm_cv\n",
      "8144  RD1951_552_557  negated  not negated\n"
     ]
    },
    {
     "data": {
      "text/html": [
       "~@@~ CT SCHEDEL   081042 Plannings-CT hersenen: Aankleurende tumor binnen het voor bestraling geplande volume.\n",
       "<mark style='background-color: #fff59d'><text>Metastasen</text></mark> erbuiten worden niet gezien.\n",
       "<br>"
      ],
      "text/plain": [
       "<IPython.core.display.HTML object>"
      ]
     },
     "metadata": {},
     "output_type": "display_data"
    },
    {
     "name": "stdout",
     "output_type": "stream",
     "text": [
      "Entity: Metastasen (111-121)\n",
      "\n",
      "           entity_id        label bilstm_cv\n",
      "8261  RD2001_111_121  not negated   negated\n"
     ]
    },
    {
     "data": {
      "text/html": [
       "KLINISCHE INFORMATIE: Op 3 januari plotseling hoofdpijn.\n",
       "Toch intracraniale bloeding?\n",
       "VRAAGSTELLING: Toch aneurysma?\n",
       "Er is multifocaal spasme in linker A. cerebri posterior en rechter A. cerebelli superior.\n",
       "pericallosa distaal is multifocaal spasme.\n",
       "Differentiaal diagnose moet gesteld worden tussen vasculitis en spasme door subarachnoidale bloeding.\n",
       "Een <mark style='background-color: #fff59d'><text>aneurysma</text></mark> is niet aangetoond.\n",
       "<br>"
      ],
      "text/plain": [
       "<IPython.core.display.HTML object>"
      ]
     },
     "metadata": {},
     "output_type": "display_data"
    },
    {
     "name": "stdout",
     "output_type": "stream",
     "text": [
      "Entity: aneurysma (356-365)\n",
      "\n",
      "           entity_id    label    bilstm_cv\n",
      "8283  RD2006_356_365  negated  not negated\n"
     ]
    },
    {
     "data": {
      "text/html": [
       "Wat #Name#, doch niet apert <mark style='background-color: #fff59d'><text>vergroot hart</text></mark>.\n",
       "<br>"
      ],
      "text/plain": [
       "<IPython.core.display.HTML object>"
      ]
     },
     "metadata": {},
     "output_type": "display_data"
    },
    {
     "name": "stdout",
     "output_type": "stream",
     "text": [
      "Entity: vergroot hart (28-41)\n",
      "\n",
      "         entity_id        label bilstm_cv\n",
      "8289  RD2009_28_41  not negated   negated\n"
     ]
    },
    {
     "data": {
      "text/html": [
       "KLINISCHE INFORMATIE Opgenomen wegens dementieel syndroom.\n",
       "Nu zonder bekend trauma pijn en <mark style='background-color: #fff59d'><text>zwelling</text></mark> aan de basis van duim rechts.\n",
       "<br>"
      ],
      "text/plain": [
       "<IPython.core.display.HTML object>"
      ]
     },
     "metadata": {},
     "output_type": "display_data"
    },
    {
     "name": "stdout",
     "output_type": "stream",
     "text": [
      "Entity: zwelling (91-99)\n",
      "\n",
      "         entity_id        label bilstm_cv\n",
      "8308  RD2018_91_99  not negated   negated\n"
     ]
    },
    {
     "data": {
      "text/html": [
       "Kleine hoeveelheid pleuravocht bdz.\n",
       "In de onderbuik wat onscherpe begrenzing van de vaginatop, echter geen duidelijke voor recidief <mark style='background-color: #fff59d'><text>tumor</text></mark> verdachte laesie.\n",
       "<br>"
      ],
      "text/plain": [
       "<IPython.core.display.HTML object>"
      ]
     },
     "metadata": {},
     "output_type": "display_data"
    },
    {
     "name": "stdout",
     "output_type": "stream",
     "text": [
      "Entity: tumor (132-137)\n",
      "\n",
      "           entity_id        label bilstm_cv\n",
      "8335  RD2031_132_137  not negated   negated\n"
     ]
    },
    {
     "data": {
      "text/html": [
       "KLINISCHE INFORMATIE M.Crohn.\n",
       "VRAAGSTELLING Controle ileus?\n",
       "1R 387001 In vergelijk met opnamen van 15-01-1997 is er een ongewijzigd beeld van een afwezigheid van <mark style='background-color: #fff59d'><text>ileus</text></mark>.\n",
       "CONCLUSIE Geen tekenen van ileus.\n",
       "<br>"
      ],
      "text/plain": [
       "<IPython.core.display.HTML object>"
      ]
     },
     "metadata": {},
     "output_type": "display_data"
    },
    {
     "name": "stdout",
     "output_type": "stream",
     "text": [
      "Entity: ileus (162-167)\n",
      "\n",
      "           entity_id    label    bilstm_cv\n",
      "8364  RD2041_162_167  negated  not negated\n"
     ]
    },
    {
     "data": {
      "text/html": [
       "Dukes C I carcinoom.\n",
       "B.BUIK    387070 Homogeen niet <mark style='background-color: #fff59d'><text>vergrote milt</text></mark>.\n",
       "Homogene niet vergrote lever, slanke intra- en extrahepatische galwegen.\n",
       "<br>"
      ],
      "text/plain": [
       "<IPython.core.display.HTML object>"
      ]
     },
     "metadata": {},
     "output_type": "display_data"
    },
    {
     "name": "stdout",
     "output_type": "stream",
     "text": [
      "Entity: vergrote milt (52-65)\n",
      "\n",
      "         entity_id    label    bilstm_cv\n",
      "8418  RD2060_52_65  negated  not negated\n"
     ]
    },
    {
     "data": {
      "text/html": [
       "<mark style='background-color: #fff59d'><text>Metastasen</text></mark> er buiten worden niet gezien.\n",
       "<br>"
      ],
      "text/plain": [
       "<IPython.core.display.HTML object>"
      ]
     },
     "metadata": {},
     "output_type": "display_data"
    },
    {
     "name": "stdout",
     "output_type": "stream",
     "text": [
      "Entity: Metastasen (0-10)\n",
      "\n",
      "        entity_id    label    bilstm_cv\n",
      "8437  RD2067_0_10  negated  not negated\n"
     ]
    },
    {
     "data": {
      "text/html": [
       "STATUSNUMMER : 970136   Vraagstelling : Controle op longmetastasen.\n",
       "085002 Thorax: Extreme linksconvexe scoliose en hoogthoracale kyfose.\n",
       "<mark style='background-color: #fff59d'><text>Longmetastasen</text></mark> worden niet gezien.\n",
       "<br>"
      ],
      "text/plain": [
       "<IPython.core.display.HTML object>"
      ]
     },
     "metadata": {},
     "output_type": "display_data"
    },
    {
     "name": "stdout",
     "output_type": "stream",
     "text": [
      "Entity: Longmetastasen (138-152)\n",
      "\n",
      "           entity_id        label bilstm_cv\n",
      "8467  RD2080_138_152  not negated   negated\n"
     ]
    },
    {
     "data": {
      "text/html": [
       "VRAAGSTELLING: Aspect nieren, ascites, levercirrhose, andere afwijkingen.\n",
       "CONCLUSIE: Grote lever met stompe rand mogelijk o.b.v. hartfalen.\n",
       "Geen duidelijke tekenen van cirrhose, spoor <mark style='background-color: #fff59d'><text>ascites</text></mark>.\n",
       "<br>"
      ],
      "text/plain": [
       "<IPython.core.display.HTML object>"
      ]
     },
     "metadata": {},
     "output_type": "display_data"
    },
    {
     "name": "stdout",
     "output_type": "stream",
     "text": [
      "Entity: ascites (184-191)\n",
      "\n",
      "           entity_id        label bilstm_cv\n",
      "8508  RD2096_184_191  not negated   negated\n"
     ]
    },
    {
     "data": {
      "text/html": [
       "Ascites.\n",
       "Weinig echogenieke patient met forse hoeveelheid ascites.\n",
       "In de ascites zijn reflexies zichtbaar.\n",
       "Er is een wat uitgespannen galblaas, gezien de ascites is over een wanddikte en andere cholecystitiskenmerken geen uitspraak te doen.\n",
       "Veel darmlissen drijven in de ascites, <mark style='background-color: #fff59d'><text>diverticulitis</text></mark> of appendicitis echografisch niet vast te stellen.\n",
       "<br>"
      ],
      "text/plain": [
       "<IPython.core.display.HTML object>"
      ]
     },
     "metadata": {},
     "output_type": "display_data"
    },
    {
     "name": "stdout",
     "output_type": "stream",
     "text": [
      "Entity: diverticulitis (280-294)\n",
      "\n",
      "           entity_id    label    bilstm_cv\n",
      "8601  RD2134_280_294  negated  not negated\n"
     ]
    },
    {
     "data": {
      "text/html": [
       "Ascites.\n",
       "Weinig echogenieke patient met forse hoeveelheid ascites.\n",
       "In de ascites zijn reflexies zichtbaar.\n",
       "Er is een wat uitgespannen galblaas, gezien de ascites is over een wanddikte en andere cholecystitiskenmerken geen uitspraak te doen.\n",
       "Veel darmlissen drijven in de ascites, diverticulitis of <mark style='background-color: #fff59d'><text>appendicitis</text></mark> echografisch niet vast te stellen.\n",
       "<br>"
      ],
      "text/plain": [
       "<IPython.core.display.HTML object>"
      ]
     },
     "metadata": {},
     "output_type": "display_data"
    },
    {
     "name": "stdout",
     "output_type": "stream",
     "text": [
      "Entity: appendicitis (298-310)\n",
      "\n",
      "           entity_id    label    bilstm_cv\n",
      "8602  RD2134_298_310  negated  not negated\n"
     ]
    },
    {
     "data": {
      "text/html": [
       "Geen ossale pathologie behalve <mark style='background-color: #fff59d'><text>atrofie</text></mark>.\n",
       "<br>"
      ],
      "text/plain": [
       "<IPython.core.display.HTML object>"
      ]
     },
     "metadata": {},
     "output_type": "display_data"
    },
    {
     "name": "stdout",
     "output_type": "stream",
     "text": [
      "Entity: atrofie (31-38)\n",
      "\n",
      "         entity_id        label bilstm_cv\n",
      "8706  RD2177_31_38  not negated   negated\n"
     ]
    },
    {
     "data": {
      "text/html": [
       "Patiente heeft nu plotseling krachtsverlies links en corticale stoornissen.\n",
       "Supratentorieel is er een lokale atrofie aan de linker zijde in de occipitaalkwab en aan de overgang naar de temporaalkwab.\n",
       "C.E.C.T: --   CONCLUSIE: CT-aanwijzingen voor recent <mark style='background-color: #fff59d'><text>infarct</text></mark> in een deel van het oppervlakkige stroomgebied A. cerebri media rechts.\n",
       "Lokale atrofie in de linker occipitaalkwab en aan de occipitotemporale overgang.\n",
       "<br>"
      ],
      "text/plain": [
       "<IPython.core.display.HTML object>"
      ]
     },
     "metadata": {},
     "output_type": "display_data"
    },
    {
     "name": "stdout",
     "output_type": "stream",
     "text": [
      "Entity: infarct (253-260)\n",
      "\n",
      "           entity_id        label bilstm_cv\n",
      "8743  RD2190_253_260  not negated   negated\n"
     ]
    },
    {
     "data": {
      "text/html": [
       "KLINISCHE INFORMATIE Onregelmatige menses.\n",
       "CONCLUSIE: Geen verklaring voor <mark style='background-color: #fff59d'><text>menorragie</text></mark>.\n",
       "<br>"
      ],
      "text/plain": [
       "<IPython.core.display.HTML object>"
      ]
     },
     "metadata": {},
     "output_type": "display_data"
    },
    {
     "name": "stdout",
     "output_type": "stream",
     "text": [
      "Entity: menorragie (75-85)\n",
      "\n",
      "         entity_id        label bilstm_cv\n",
      "8778  RD2200_75_85  not negated   negated\n"
     ]
    },
    {
     "data": {
      "text/html": [
       "KLINISCHE INFORMATIE Decompensatie en angina.\n",
       "Hemoptoe.\n",
       "~@@~ THORAX    2R 385002 In vergelijk met 10-02-1997 nu geen aanwijzing meer voor spoor pleuravocht rechts.\n",
       "CONCLUSIE: In vergelijk met 10-02-1997 is een spoor <mark style='background-color: #fff59d'><text>pleuravocht</text></mark> rechts verdwenen.\n",
       "Gedacht kan nog worden aan een status na longembolie.\n",
       "<br>"
      ],
      "text/plain": [
       "<IPython.core.display.HTML object>"
      ]
     },
     "metadata": {},
     "output_type": "display_data"
    },
    {
     "name": "stdout",
     "output_type": "stream",
     "text": [
      "Entity: pleuravocht (216-227)\n",
      "\n",
      "           entity_id    label    bilstm_cv\n",
      "8844  RD2227_216_227  negated  not negated\n"
     ]
    },
    {
     "data": {
      "text/html": [
       "~@@~ THORAX    2R 385002 Toch wat #Name# hart zonder aperte <mark style='background-color: #fff59d'><text>hartvergroting</text></mark>.\n",
       "<br>"
      ],
      "text/plain": [
       "<IPython.core.display.HTML object>"
      ]
     },
     "metadata": {},
     "output_type": "display_data"
    },
    {
     "name": "stdout",
     "output_type": "stream",
     "text": [
      "Entity: hartvergroting (60-74)\n",
      "\n",
      "         entity_id        label bilstm_cv\n",
      "8877  RD2240_60_74  not negated   negated\n"
     ]
    },
    {
     "data": {
      "text/html": [
       "Beeld kan passen bij chronische subluxatie; arthritis kan niet worden uitgesloten.\n",
       "De botstructuur van het acromion is ietwat onregelmatig, doch meer sclerotisch dan lytisch zodat voor een actieve <mark style='background-color: #fff59d'><text>arthritis</text></mark> op dit moment geen sprake lijkt.\n",
       "<br>"
      ],
      "text/plain": [
       "<IPython.core.display.HTML object>"
      ]
     },
     "metadata": {},
     "output_type": "display_data"
    },
    {
     "name": "stdout",
     "output_type": "stream",
     "text": [
      "Entity: arthritis (197-206)\n",
      "\n",
      "           entity_id    label    bilstm_cv\n",
      "8891  RD2245_197_206  negated  not negated\n"
     ]
    },
    {
     "data": {
      "text/html": [
       "Hoog thoracaal is een corpus vertebrale wat wolkerig verdicht doch dit rechtvaardigt nog niet zondermeer de diagnose <mark style='background-color: #fff59d'><text>botmetastasen</text></mark> van een mammaca.\n",
       "<br>"
      ],
      "text/plain": [
       "<IPython.core.display.HTML object>"
      ]
     },
     "metadata": {},
     "output_type": "display_data"
    },
    {
     "name": "stdout",
     "output_type": "stream",
     "text": [
      "Entity: botmetastasen (117-130)\n",
      "\n",
      "           entity_id    label    bilstm_cv\n",
      "8919  RD2259_117_130  negated  not negated\n"
     ]
    },
    {
     "data": {
      "text/html": [
       "tumor linker mamma postoperatief geduid als hematoom.\n",
       "VRAAGSTELLING : Diagnose status quo?\n",
       "~@@~ ECHO MAMMAE  386970 Conform 2-12-1996 wordt ter plaatse van het litteken in de linker mamma op 6uur een inhomogene, voornamelijk echogene, deels echoarem laesie gezien, echografisch sterk verdacht voor <mark style='background-color: #fff59d'><text>hematoom</text></mark>.\n",
       "Ter plaatse van de beide littekens geheel lateraal van zowel linker als rechter borst wordt een veel kleinere soortgelijke afwijking gezien, ook passend bij hematoom.\n",
       "De laesie berust op een oud hematoom, iets anders is zeer onwaarschijnlijk.\n",
       "KONKLUSIE : Zeker geen afname van fors hematoom terwijl caudaal in de linker mamma.\n",
       "<br>"
      ],
      "text/plain": [
       "<IPython.core.display.HTML object>"
      ]
     },
     "metadata": {},
     "output_type": "display_data"
    },
    {
     "name": "stdout",
     "output_type": "stream",
     "text": [
      "Entity: hematoom (298-306)\n",
      "\n",
      "           entity_id        label bilstm_cv\n",
      "8956  RD2271_298_306  not negated   negated\n"
     ]
    },
    {
     "data": {
      "text/html": [
       "Hoesten -, geen sputum.\n",
       "VRAAGSTELLING : Infiltraten of <mark style='background-color: #fff59d'><text>tuberculose</text></mark>?\n",
       "Geen actieve tuberculose.\n",
       "Veel gas in maag en darm.\n",
       "<br>"
      ],
      "text/plain": [
       "<IPython.core.display.HTML object>"
      ]
     },
     "metadata": {},
     "output_type": "display_data"
    },
    {
     "name": "stdout",
     "output_type": "stream",
     "text": [
      "Entity: tuberculose (55-66)\n",
      "\n",
      "         entity_id        label bilstm_cv\n",
      "9167  RD2342_55_66  not negated   negated\n"
     ]
    },
    {
     "data": {
      "text/html": [
       "KLINISCHE INFORMATIE Osteoom in linker sinus frontalis.\n",
       "VRAAGSTELLING Gaarne volledige afbeelding van het osteoom om uitbreiding goed vast te stellen.\n",
       "~@@~ CT AANGEZ.ZK 382041 Vergeleken met de afbeelding van 22-01-1997 opnieuw afbeelding van het osteoom in de laterale linker sinus frontalis.\n",
       "De neusbijholten vertonen geen of hooguit minimaal <mark style='background-color: #fff59d'><text>oedeem</text></mark>.\n",
       "<br>"
      ],
      "text/plain": [
       "<IPython.core.display.HTML object>"
      ]
     },
     "metadata": {},
     "output_type": "display_data"
    },
    {
     "name": "stdout",
     "output_type": "stream",
     "text": [
      "Entity: oedeem (345-351)\n",
      "\n",
      "           entity_id        label bilstm_cv\n",
      "9255  RD2371_345_351  not negated   negated\n"
     ]
    },
    {
     "data": {
      "text/html": [
       "KLINISCHE INFORMATIE: Dyspnoe d'effort.\n",
       "Druppelvormig en niet apert <mark style='background-color: #fff59d'><text>vergroot hart</text></mark>.\n",
       "Bovenste mediastinum is breed mede op grond van een struma rechts.\n",
       "<br>"
      ],
      "text/plain": [
       "<IPython.core.display.HTML object>"
      ]
     },
     "metadata": {},
     "output_type": "display_data"
    },
    {
     "name": "stdout",
     "output_type": "stream",
     "text": [
      "Entity: vergroot hart (68-81)\n",
      "\n",
      "         entity_id        label bilstm_cv\n",
      "9310  RD2388_68_81  not negated   negated\n"
     ]
    },
    {
     "data": {
      "text/html": [
       "<mark style='background-color: #fff59d'><text>claudicatio intermittens</text></mark> en plaatsing van buisprothese in de aorta mei '90.\n",
       "Aan lever, galwegen en nieren geen afwijkingen behoudens benigne niercyste rechts doorsnede 4 cm.\n",
       "CONCLUSIE: Sclerotische vaatonregelmatigheid in aortatraject blijkbaar behandeld, in iliaca traject nog irregulair met kleine aneurysma's.\n",
       "<br>"
      ],
      "text/plain": [
       "<IPython.core.display.HTML object>"
      ]
     },
     "metadata": {},
     "output_type": "display_data"
    },
    {
     "name": "stdout",
     "output_type": "stream",
     "text": [
      "Entity: claudicatio intermittens (0-24)\n",
      "\n",
      "        entity_id        label bilstm_cv\n",
      "9354  RD2412_0_24  not negated   negated\n"
     ]
    },
    {
     "data": {
      "text/html": [
       "Volgens patient <mark style='background-color: #fff59d'><text>luxatie</text></mark> dig.IV, zelf gereponeerd.\n",
       "Geen asdrukpijn, geen zwelling.\n",
       "Geen aanwijzingen voor posttraumatisch ossaal letsel van recente datum.\n",
       "<br>"
      ],
      "text/plain": [
       "<IPython.core.display.HTML object>"
      ]
     },
     "metadata": {},
     "output_type": "display_data"
    },
    {
     "name": "stdout",
     "output_type": "stream",
     "text": [
      "Entity: luxatie (16-23)\n",
      "\n",
      "         entity_id        label bilstm_cv\n",
      "9359  RD2414_16_23  not negated   negated\n"
     ]
    },
    {
     "data": {
      "text/html": [
       "Klinisch AKB letsel, veel klachten.\n",
       "Arthroscopie #Hospital#: geen intra-articulair <mark style='background-color: #fff59d'><text>kraakbeenletsel</text></mark>, geen meniscusafwijkingen.\n",
       "AKB structuur afwijkend of volledige ruptuur?\n",
       "Er is AKB ruptuur met avulsiefractuur van eminentia.\n",
       "CONCLUSIE Avulsiefractuur van eminentia, AKB ruptuur met afwijkende structuur waarin geen normale vezels meer herkenbaar zijn.\n",
       "Partieel letsel VKB.\n",
       "<br>"
      ],
      "text/plain": [
       "<IPython.core.display.HTML object>"
      ]
     },
     "metadata": {},
     "output_type": "display_data"
    },
    {
     "name": "stdout",
     "output_type": "stream",
     "text": [
      "Entity: kraakbeenletsel (83-98)\n",
      "\n",
      "         entity_id    label    bilstm_cv\n",
      "9367  RD2417_83_98  negated  not negated\n"
     ]
    },
    {
     "data": {
      "text/html": [
       "Pijn en knappen BSG + zwelling.\n",
       "VRAAGSTELLING Synovitis, synovia interpositie, kraakbeen laesie?\n",
       "Ventraal gelegen voor het ligament talofibulair posterior is er een driehoekige structuur zichtbaar welke zich projecteert perifeer in het talofibulaire gewricht, het is niet duidelijk wat een en ander voorstelt, maar mogelijk berust dit op een litteken.\n",
       "Op de STIR opnamen aanwijzingen voor hypo-intens signaal in de distale tibia wijzend op oedeem in het bot.\n",
       "CONCLUSIE: Vocht in het bovenste spronggewricht zonder aanwijzingen voor syndesmose <mark style='background-color: #fff59d'><text>ruptuur</text></mark>.\n",
       "Status na arthrodese subtalair met daarbijhorend litteken in het operatietraject.\n",
       "Oedeem distale tibia.\n",
       "<br>"
      ],
      "text/plain": [
       "<IPython.core.display.HTML object>"
      ]
     },
     "metadata": {},
     "output_type": "display_data"
    },
    {
     "name": "stdout",
     "output_type": "stream",
     "text": [
      "Entity: ruptuur (543-550)\n",
      "\n",
      "           entity_id    label    bilstm_cv\n",
      "9446  RD2447_543_550  negated  not negated\n"
     ]
    },
    {
     "data": {
      "text/html": [
       "Hoesten.\n",
       "Dyspnoe.\n",
       "<mark style='background-color: #fff59d'><text>Koorts</text></mark> gehad.\n",
       "~@@~ SINUS        382102 Sinusitis maxillaris rechts.\n",
       "<br>"
      ],
      "text/plain": [
       "<IPython.core.display.HTML object>"
      ]
     },
     "metadata": {},
     "output_type": "display_data"
    },
    {
     "name": "stdout",
     "output_type": "stream",
     "text": [
      "Entity: Koorts (18-24)\n",
      "\n",
      "         entity_id        label bilstm_cv\n",
      "9621  RD2504_18_24  not negated   negated\n"
     ]
    },
    {
     "data": {
      "text/html": [
       "Basaal wat aanwijzingen voor <mark style='background-color: #fff59d'><text>bronchopathie</text></mark> met o.a. op image 38 wat verdikte bronchuswanden.\n",
       "<br>"
      ],
      "text/plain": [
       "<IPython.core.display.HTML object>"
      ]
     },
     "metadata": {},
     "output_type": "display_data"
    },
    {
     "name": "stdout",
     "output_type": "stream",
     "text": [
      "Entity: bronchopathie (29-42)\n",
      "\n",
      "         entity_id        label bilstm_cv\n",
      "9636  RD2510_29_42  not negated   negated\n"
     ]
    },
    {
     "data": {
      "text/html": [
       "KLINISCHE INFORMATIE : M.Crohn.\n",
       "Uitgebreidheid en ernst m.Crohn?\n",
       "Het neo-terminale ileum toont een afwijkend aspekt over een gebied van ongeveer 10cm waarbij helemaal distaal op de overgang naar het colon een duidelijke stenose is met een maximale diameter van krap 1cm, gemeten op de foto, ongecorrigeerd.\n",
       "De lengte van de fistel bedraagt ongeveer 3cm, niet gecorrigeerd voor vergrotingsfaktor.\n",
       "Verder geen aanwijzingen voor activiteit m.<mark style='background-color: #fff59d'><text>Crohn</text></mark>.\n",
       "<br>"
      ],
      "text/plain": [
       "<IPython.core.display.HTML object>"
      ]
     },
     "metadata": {},
     "output_type": "display_data"
    },
    {
     "name": "stdout",
     "output_type": "stream",
     "text": [
      "Entity: Crohn (439-444)\n",
      "\n",
      "           entity_id        label bilstm_cv\n",
      "9645  RD2513_439_444  not negated   negated\n"
     ]
    },
    {
     "data": {
      "text/html": [
       "KLINISCHE INFORMATIE Status na anusatresie.\n",
       "Forse rectovaginale fistel.\n",
       "VRAAGSTELLING Atrofie interne/externe sphincter?\n",
       "Aan de ventrale zijde ligt de vagina tegen het rectum aan, waarbij niet met zekerheid een <mark style='background-color: #fff59d'><text>fistel</text></mark> zichtbaar is.\n",
       "CONCLUSIE Status na anusatresie, waarbij de interne sphincter niet identificeerbaar is en de externe sphincter dorsolateraal normaal is, echter aan de ventrale zijde niet sluit.\n",
       "<br>"
      ],
      "text/plain": [
       "<IPython.core.display.HTML object>"
      ]
     },
     "metadata": {},
     "output_type": "display_data"
    },
    {
     "name": "stdout",
     "output_type": "stream",
     "text": [
      "Entity: fistel (211-217)\n",
      "\n",
      "           entity_id        label bilstm_cv\n",
      "9687  RD2528_211_217  not negated   negated\n"
     ]
    },
    {
     "data": {
      "text/html": [
       "<mark style='background-color: #fff59d'><text>Lymfadenopathie</text></mark> in de hals wordt niet gezien, metname ook niet links.\n",
       "<br>"
      ],
      "text/plain": [
       "<IPython.core.display.HTML object>"
      ]
     },
     "metadata": {},
     "output_type": "display_data"
    },
    {
     "name": "stdout",
     "output_type": "stream",
     "text": [
      "Entity: Lymfadenopathie (0-15)\n",
      "\n",
      "        entity_id    label    bilstm_cv\n",
      "9744  RD2554_0_15  negated  not negated\n"
     ]
    },
    {
     "data": {
      "text/html": [
       "KLINISCHE INFORMATIE: Bekend met blindheid door papil en macula-oedeem.\n",
       "VRAAGSTELLING: Infiltraten, pleurareactie, thymoom?\n",
       "~@@~ THORAX    2R 385002   Ondiepe sinus frenicocostalis bilateraal zonder apert <mark style='background-color: #fff59d'><text>pleuravocht</text></mark>.\n",
       "<br>"
      ],
      "text/plain": [
       "<IPython.core.display.HTML object>"
      ]
     },
     "metadata": {},
     "output_type": "display_data"
    },
    {
     "name": "stdout",
     "output_type": "stream",
     "text": [
      "Entity: pleuravocht (205-216)\n",
      "\n",
      "           entity_id        label bilstm_cv\n",
      "9755  RD2557_205_216  not negated   negated\n"
     ]
    },
    {
     "data": {
      "text/html": [
       "KLINISCHE INFORMATIE: Pijn in de bovenbuik en misselijkheid.\n",
       "VRAAGSTELLING: Cholelithiasis?\n",
       "B.BUIK    387070 Opvallend grote, echoarme pancreas zonder actieve ontstekingsverschijnselen, verkalking of <mark style='background-color: #fff59d'><text>dilatatie van ductus pancreaticus</text></mark>.\n",
       "Geen galstenen.\n",
       "Enkele herkenbare lymfklieren langs truncus coeliacus en dorsaal van de maag met doorsnede van 1,2 cm, strikt genomen verdacht voor prikkeling door ontsteking of neoplasma.\n",
       "Normale lever, geen ascites.\n",
       "Normale nieren met links centraal een cyste van 3,4 cm zonder betekenis.\n",
       "<br>"
      ],
      "text/plain": [
       "<IPython.core.display.HTML object>"
      ]
     },
     "metadata": {},
     "output_type": "display_data"
    },
    {
     "name": "stdout",
     "output_type": "stream",
     "text": [
      "Entity: dilatatie van ductus pancreaticus (200-233)\n",
      "\n",
      "           entity_id    label    bilstm_cv\n",
      "9764  RD2560_200_233  negated  not negated\n"
     ]
    },
    {
     "data": {
      "text/html": [
       "KLINISCHE INFORMATIE: Pijn in de bovenbuik en misselijkheid.\n",
       "VRAAGSTELLING: Cholelithiasis?\n",
       "B.BUIK    387070 Opvallend grote, echoarme pancreas zonder actieve ontstekingsverschijnselen, verkalking of dilatatie van ductus pancreaticus.\n",
       "Geen galstenen.\n",
       "Enkele herkenbare lymfklieren langs truncus coeliacus en dorsaal van de maag met doorsnede van 1,2 cm, strikt genomen verdacht voor prikkeling door ontsteking of <mark style='background-color: #fff59d'><text>neoplasma</text></mark>.\n",
       "Normale lever, geen ascites.\n",
       "Normale nieren met links centraal een cyste van 3,4 cm zonder betekenis.\n",
       "<br>"
      ],
      "text/plain": [
       "<IPython.core.display.HTML object>"
      ]
     },
     "metadata": {},
     "output_type": "display_data"
    },
    {
     "name": "stdout",
     "output_type": "stream",
     "text": [
      "Entity: neoplasma (413-422)\n",
      "\n",
      "           entity_id        label bilstm_cv\n",
      "9767  RD2560_413_422  not negated   negated\n"
     ]
    },
    {
     "data": {
      "text/html": [
       "Blijft pijn houden t.p.v. litteken en MCP-gewrichten.\n",
       "VRAAGSTELLING Corpus liberum?\n",
       "Osteomyelitis?\n",
       "Met name geen aanwijzingen voor osteomyelitis.\n",
       "In de weke delen geen radio-opaque <mark style='background-color: #fff59d'><text>corpus alienum</text></mark> of avulsiefragment.\n",
       "<br>"
      ],
      "text/plain": [
       "<IPython.core.display.HTML object>"
      ]
     },
     "metadata": {},
     "output_type": "display_data"
    },
    {
     "name": "stdout",
     "output_type": "stream",
     "text": [
      "Entity: corpus alienum (181-195)\n",
      "\n",
      "           entity_id    label    bilstm_cv\n",
      "9805  RD2578_181_195  negated  not negated\n"
     ]
    },
    {
     "data": {
      "text/html": [
       "Duizeligheid bij een lage bloeddruk.#City#,\n",
       "Reden van komst: Hoofdpijn.\n",
       "Anamnese:3 Maanden geleden heeft patiente hoofdpijn gekregen, wisselend aanwezig.\n",
       "Daarnaast kreeg ze duizeligheid, voelde zich licht in het hoofd, valt niet <mark style='background-color: #fff59d'><text>flauw</text></mark>, wel genoeg om, om te vallen, ze moet dan gaan zitten of liggen.\n",
       "De hoofdpijn kan wisselend zijn, een paar uur of enkele dagen.\n",
       "Ze is er soms misselijk bij, braakt niet, geen last van het licht of het geluid.\n",
       "Hersenzenuwen g.a. Motoriek armen en benen, sensibiliteit, coordinatie en reflexen: g.a. Laboratorium: G.a. Rontgen: MRI-hersenen: alleen slijmvlieszwelling sinus maxillaris rechts.\n",
       "Duizeligheid bij een lage bloeddruk.\n",
       "<br>"
      ],
      "text/plain": [
       "<IPython.core.display.HTML object>"
      ]
     },
     "metadata": {},
     "output_type": "display_data"
    },
    {
     "name": "stdout",
     "output_type": "stream",
     "text": [
      "Entity: flauw (229-234)\n",
      "\n",
      "           entity_id    label    bilstm_cv\n",
      "9899  SP1130_229_234  negated  not negated\n"
     ]
    },
    {
     "data": {
      "text/html": [
       "Der [O] C/ Na excisie mal <mark style='background-color: #fff59d'><text>melanoom</text></mark> bo-been re: gda.\n",
       "<br>"
      ],
      "text/plain": [
       "<IPython.core.display.HTML object>"
      ]
     },
     "metadata": {},
     "output_type": "display_data"
    },
    {
     "name": "stdout",
     "output_type": "stream",
     "text": [
      "Entity: melanoom (26-34)\n",
      "\n",
      "         entity_id    label    bilstm_cv\n",
      "9946  SP1152_26_34  negated  not negated\n"
     ]
    },
    {
     "data": {
      "text/html": [
       "<mark style='background-color: #fff59d'><text>flitsen</text></mark> OS en een zwart vlekje sinds enkele dagen.\n",
       "Voorgeschiedenis : Hypertensie.\n",
       "Onderzoek: Visus OD : 0.9 Visus OS : 1.0 Oogdruk OD/S : 12 mm Hg Media ODS : helder, geen tobaccodust in het glasvocht Fundus OD : g.b.\n",
       "<br>"
      ],
      "text/plain": [
       "<IPython.core.display.HTML object>"
      ]
     },
     "metadata": {},
     "output_type": "display_data"
    },
    {
     "name": "stdout",
     "output_type": "stream",
     "text": [
      "Entity: flitsen (0-7)\n",
      "\n",
      "       entity_id        label bilstm_cv\n",
      "9960  SP1160_0_7  not negated   negated\n"
     ]
    },
    {
     "data": {
      "text/html": [
       "bekend, bijna 67-jarige alleenstaande nulli <mark style='background-color: #fff59d'><text>gravida</text></mark> wegens: 1. een overigens symptoomloze zwelling thv de mons pubis 2. jeukende rode labia.\n",
       "Scherp begrensde rode labia minora zonder epitheeldefecten of ulcus, waarvoor ik haar in eerste instantie Dactacortcreme heb meegegeven.(PM\n",
       "<br>"
      ],
      "text/plain": [
       "<IPython.core.display.HTML object>"
      ]
     },
     "metadata": {},
     "output_type": "display_data"
    },
    {
     "name": "stdout",
     "output_type": "stream",
     "text": [
      "Entity: gravida (44-51)\n",
      "\n",
      "         entity_id    label    bilstm_cv\n",
      "9984  SP1163_44_51  negated  not negated\n"
     ]
    },
    {
     "data": {
      "text/html": [
       "bekend, bijna 67-jarige alleenstaande nulli gravida wegens: 1. een overigens symptoomloze zwelling thv de mons pubis 2. jeukende rode labia.\n",
       "Scherp begrensde rode labia minora zonder epitheeldefecten of <mark style='background-color: #fff59d'><text>ulcus</text></mark>, waarvoor ik haar in eerste instantie Dactacortcreme heb meegegeven.(PM\n",
       "<br>"
      ],
      "text/plain": [
       "<IPython.core.display.HTML object>"
      ]
     },
     "metadata": {},
     "output_type": "display_data"
    },
    {
     "name": "stdout",
     "output_type": "stream",
     "text": [
      "Entity: ulcus (203-208)\n",
      "\n",
      "           entity_id    label    bilstm_cv\n",
      "9986  SP1163_203_208  negated  not negated\n"
     ]
    },
    {
     "data": {
      "text/html": [
       "cellen aangetroffen O 3 : Er wordt een bacteriele infectie gezien P 1 : Geen afwijkende plaveiselepitheelcellen A 1 : Geen andere afwijkingen C 1 : Geen afwijkingen van endocerv.\n",
       "<mark style='background-color: #fff59d'><text>Uitslag</text></mark>: Kwaliteit: : Onsteking: : Plaveiselc.: : Andere afw.: : Cylinderc.: : Conclusie: Pap 1, geen afwijkende epitheelcellen.\n",
       "<br>"
      ],
      "text/plain": [
       "<IPython.core.display.HTML object>"
      ]
     },
     "metadata": {},
     "output_type": "display_data"
    },
    {
     "name": "stdout",
     "output_type": "stream",
     "text": [
      "Entity: Uitslag (179-186)\n",
      "\n",
      "           entity_id    label    bilstm_cv\n",
      "9988  SP1164_179_186  negated  not negated\n"
     ]
    },
    {
     "data": {
      "text/html": [
       "Conclusie: Status na insulten met postictale verwardheid.\n",
       "Gangapraxie i.c.m.\n",
       "<mark style='background-color: #fff59d'><text>urine-incontinentie</text></mark> op grond van een NPH met daarbij enkele lacunair infarctjes en als toevalsbevinding een meningeoom links temoraal.\n",
       "2009 Geneesmiddelen misbruik.2007 controle poli neurologie: zowel bij neurologisch als aanvullend onderzoek geen nieuwe gezichtspunten en m.n.\n",
       "Uit brief GGZ arts: #Name# ivm een depressieve stoornis en een dementieel beeld.\n",
       "Afgelopen juli epilepsitsch insult gehad.\n",
       "Vanmiddag een wegraking gehad met trekkingen en tongbeet.\n",
       "Daarna krachtsverlies welke bijtrok, maar er bleef sprake van verwardheid.\n",
       "Vanavond om 19.45 opnieuw trekkingen waarna krachtsverlies rechts.\n",
       "Diagnose Conclusie: Status na insulten met postictale verwardheid.\n",
       "<br>"
      ],
      "text/plain": [
       "<IPython.core.display.HTML object>"
      ]
     },
     "metadata": {},
     "output_type": "display_data"
    },
    {
     "name": "stdout",
     "output_type": "stream",
     "text": [
      "Entity: urine-incontinentie (77-96)\n",
      "\n",
      "          entity_id        label bilstm_cv\n",
      "10050  SP1180_77_96  not negated   negated\n"
     ]
    },
    {
     "data": {
      "text/html": [
       "Eigenlijk heeft zij alleen in de zomer last van hoofdpijn en zodra de zomer voorbij is zijn ook haar hoofdpijnklachten over.\n",
       "Roze #Name# heeft geen aanwijzingen voor allergie.\n",
       "Ook komt de hoofdpijn in de weekenden voor, ofschoon niet erg opvallend.\n",
       "Familie niet belast voor <mark style='background-color: #fff59d'><text>migraine</text></mark>.\n",
       "Als er hoofdpijn is is het een beetje zeurende pijn en is de frequentie nu al weer afgenomen.\n",
       "Zou er toch weer een periode van hoofdpijn zijn dan valt te overwegen om propanolol te gebruiken in een dosering van 2 d.d. 20-40 mg.\n",
       "<br>"
      ],
      "text/plain": [
       "<IPython.core.display.HTML object>"
      ]
     },
     "metadata": {},
     "output_type": "display_data"
    },
    {
     "name": "stdout",
     "output_type": "stream",
     "text": [
      "Entity: migraine (274-282)\n",
      "\n",
      "            entity_id    label    bilstm_cv\n",
      "10072  SP1182_274_282  negated  not negated\n"
     ]
    },
    {
     "data": {
      "text/html": [
       "Een recidief <mark style='background-color: #fff59d'><text>longembolie</text></mark> onder antistolling konniet aangetoond worden.\n",
       "Echter wat ik niet geheel kan uitsluiten is eenpulmonale hypertensie, zodat patient wordt doorgestuurd naar hetEMC voor verder onderzoek.Daarnaast heeft patient veel gewrichtsklachten als gevolg vanarthrose bij overgewicht.\n",
       "<br>"
      ],
      "text/plain": [
       "<IPython.core.display.HTML object>"
      ]
     },
     "metadata": {},
     "output_type": "display_data"
    },
    {
     "name": "stdout",
     "output_type": "stream",
     "text": [
      "Entity: longembolie (13-24)\n",
      "\n",
      "          entity_id    label    bilstm_cv\n",
      "10113  SP1198_13_24  negated  not negated\n"
     ]
    },
    {
     "data": {
      "text/html": [
       "Name# Materiaal : Cervix (fluor); drager = #Name# MICROSCOPIE Lactobacillen spp.\n",
       "<1 per 10 velden Nugent score2 Geen bacteriele vaginose KWEKEN Banale kweek <mark style='background-color: #fff59d'><text>Candida</text></mark> albicans + DIVERSEN Chlamydia trachomatis (DNA) negatief Laboratorium:#Name# Materiaal : Cervix (fluor); drager = charcoal MICROSCOPIE Epitheelcellen sporadisch Leukocyten sporadisch Gisten sporadisch Gram negatieve staven +++ Gram negatieve kokken geen KWEKEN GO kweek geen groei van N. gonorrhoeae Pathologische anatomie:#Name#, Mevr MJG Pathologisch onderzoek B07-#LongNumber# Materiaal: Cervix Klinische gegevens: datum strijk : 15-05-07 menstr.\n",
       "O 4 : Er wordt Candida albicans (Monilia) gezien.\n",
       "Er wordt Candida albicans(Monilia) gezien.\n",
       "<br>"
      ],
      "text/plain": [
       "<IPython.core.display.HTML object>"
      ]
     },
     "metadata": {},
     "output_type": "display_data"
    },
    {
     "name": "stdout",
     "output_type": "stream",
     "text": [
      "Entity: Candida (157-164)\n",
      "\n",
      "            entity_id        label bilstm_cv\n",
      "10117  SP1199_157_164  not negated   negated\n"
     ]
    },
    {
     "data": {
      "text/html": [
       "Twee dagen voor begin van de klachten heeft XXXXXX twee dagen koorts gehad.\n",
       "Nu is er geen sprake meer van koorts.\n",
       "De eetlust is goed, er is geen sprake van <mark style='background-color: #fff59d'><text>gewichtsverlies</text></mark>.\n",
       "Mbv de nutriton is het spugen verminderd.\n",
       "FA: Colitis ulcerosa bij moeder.\n",
       "Droge huid, eczemateuze plekken.\n",
       "Verstopte neus, trommelvliezen niet a vue i.v.m.\n",
       "DD/ secundaire lactose-intolerantie na gastro-enteritis, parasitaire of virale infectie, koemelkallergie.\n",
       "In 90% ook effectief bij koemelkeiwitallergie.\n",
       "<br>"
      ],
      "text/plain": [
       "<IPython.core.display.HTML object>"
      ]
     },
     "metadata": {},
     "output_type": "display_data"
    },
    {
     "name": "stdout",
     "output_type": "stream",
     "text": [
      "Entity: gewichtsverlies (156-171)\n",
      "\n",
      "            entity_id        label bilstm_cv\n",
      "10126  SP1201_156_171  not negated   negated\n"
     ]
    },
    {
     "data": {
      "text/html": [
       "Conclusie: Myalgene rugpijn.\n",
       "Het is in mijn ogen onmogelijk om <mark style='background-color: #fff59d'><text>luxaties</text></mark> te krijgen van de ribwervelovergang, evenals het mogelijk is om dit te reponeren van buitenaf.\n",
       "<br>"
      ],
      "text/plain": [
       "<IPython.core.display.HTML object>"
      ]
     },
     "metadata": {},
     "output_type": "display_data"
    },
    {
     "name": "stdout",
     "output_type": "stream",
     "text": [
      "Entity: luxaties (63-71)\n",
      "\n",
      "          entity_id    label    bilstm_cv\n",
      "10149  SP1207_63_71  negated  not negated\n"
     ]
    },
    {
     "data": {
      "text/html": [
       "Er is op de CT scan een complete remissie zichtbaar en ook het beenmergaspiraat en -biopt zijn zonder tekenen van het eerder gediagnosticeerde mantelcel <mark style='background-color: #fff59d'><text>lymfoom</text></mark>.\n",
       "Hij knapt langzaam maar zeker wat op, heeft wel wat abdominale klachten, mogelijk als gevolg van een prikkelbare darmsyndroom en hij heeft een plekje bij zijn linker sleutelbeen, wat niet een niet genezende tendens toont en verdacht is voor een basaalcelcarcinoom, waarvoor hij naar de dermatoloog is gestuurd.\n",
       "Conclusie: Complete remissie na autologe stamceltransplantatie en BEAM conditionering in verband met mantelcel lymfoom.\n",
       "<br>"
      ],
      "text/plain": [
       "<IPython.core.display.HTML object>"
      ]
     },
     "metadata": {},
     "output_type": "display_data"
    },
    {
     "name": "stdout",
     "output_type": "stream",
     "text": [
      "Entity: lymfoom (153-160)\n",
      "\n",
      "            entity_id    label    bilstm_cv\n",
      "10168  SP1216_153_160  negated  not negated\n"
     ]
    },
    {
     "data": {
      "text/html": [
       "Temp: niet gemeten, denkt geen koorts te hebben.\n",
       "<mark style='background-color: #fff59d'><text>Hoest</text></mark> niet.\n",
       "Arts) al een half jaar last van gevoel adem te kort te komen in de nacht, geen podb, soms piepen, ook verstopte neus, geen koorts, hoesten-, op vakantie nergens last van, bij liggen meer last, MVG daarmresecetie ivm diverticulitis, metamucil, imodium, opiumtinctuur, zegt zelf het gevoel te hebben een klaplong te hebben als jong man ook gehad, een maand mee rond gelopen(O) niet ziek, cor gb, pulm re verminderd ademgeruis basaal ? geen crep of ronchi(E) dd huisstofallergie ?\n",
       "pleuravocht ?\n",
       "pleuravocht ?\n",
       "andere oorzaak, allergie ?\n",
       "<br>"
      ],
      "text/plain": [
       "<IPython.core.display.HTML object>"
      ]
     },
     "metadata": {},
     "output_type": "display_data"
    },
    {
     "name": "stdout",
     "output_type": "stream",
     "text": [
      "Entity: Hoest (49-54)\n",
      "\n",
      "          entity_id    label    bilstm_cv\n",
      "10186  SP1222_49_54  negated  not negated\n"
     ]
    },
    {
     "data": {
      "text/html": [
       "O 9 : Niet-specifieke <mark style='background-color: #fff59d'><text>ontsteking</text></mark> gezien.\n",
       "HPV uitslag: geblindeerd.\n",
       "<br>"
      ],
      "text/plain": [
       "<IPython.core.display.HTML object>"
      ]
     },
     "metadata": {},
     "output_type": "display_data"
    },
    {
     "name": "stdout",
     "output_type": "stream",
     "text": [
      "Entity: ontsteking (22-32)\n",
      "\n",
      "          entity_id        label bilstm_cv\n",
      "10233  SP1238_22_32  not negated   negated\n"
     ]
    },
    {
     "data": {
      "text/html": [
       "Betreft: Lab [O] <mark style='background-color: #fff59d'><text>HEPATITIS</text></mark> SEROLOGIE Hepatitis B surface ag (HBsAg) 0,3 (negatief) HIV 1 en 2 as 0,1 (negatief)- Geen aanwijzingen voor een infectie met vermeld(e) micro-organisme(n).\n",
       "<br>"
      ],
      "text/plain": [
       "<IPython.core.display.HTML object>"
      ]
     },
     "metadata": {},
     "output_type": "display_data"
    },
    {
     "name": "stdout",
     "output_type": "stream",
     "text": [
      "Entity: HEPATITIS (17-26)\n",
      "\n",
      "          entity_id    label    bilstm_cv\n",
      "10235  SP1239_17_26  negated  not negated\n"
     ]
    },
    {
     "data": {
      "text/html": [
       "Betreft: Lab [O] HEPATITIS SEROLOGIE <mark style='background-color: #fff59d'><text>Hepatitis B</text></mark> surface ag (HBsAg) 0,3 (negatief) HIV 1 en 2 as 0,1 (negatief)- Geen aanwijzingen voor een infectie met vermeld(e) micro-organisme(n).\n",
       "<br>"
      ],
      "text/plain": [
       "<IPython.core.display.HTML object>"
      ]
     },
     "metadata": {},
     "output_type": "display_data"
    },
    {
     "name": "stdout",
     "output_type": "stream",
     "text": [
      "Entity: Hepatitis B (37-48)\n",
      "\n",
      "          entity_id    label    bilstm_cv\n",
      "10236  SP1239_37_48  negated  not negated\n"
     ]
    },
    {
     "data": {
      "text/html": [
       "Patiente is ADL vrijwel zelfstandig, nu enige hulp i.v.m. de armfractuur.\n",
       "Er zijn geen diffuse blauwe plekken op de rest van het lichaam of <mark style='background-color: #fff59d'><text>tongbeet</text></mark> na de al.\n",
       "Beide onduidelijke vallen zijn opgetreden in de avond zonder te struikelen.\n",
       "Voorgeschiedenis: Hypertensie.\n",
       "Er is een hematoom links frontaal zichtbaar alsmede een immobiele rechterarm i.v.m. een fractuur.\n",
       "Bespreking: Patiente heeft 2x een trauma capitis gehad waarbij zij op dit moment weinig hinder ervaart van focale neurologische uitval of hoofdpijn.\n",
       "Gezien de pathologische voetzoolreflex rechts wordt een CT cerebrum verricht ter uitsluiting van een subduraal hematoom.\n",
       "Voor de collaps eci met onbekende bewustzijndaling heb ik neurologisch geen verklaring.\n",
       "Geen aanwijzingen voor een doorgemaakt epileptisch insult.\n",
       "Ik heb haar verwezen naar de cardioloog voor evaluatie van een mogelijke onderliggende ritmestoornis.\n",
       "<br>"
      ],
      "text/plain": [
       "<IPython.core.display.HTML object>"
      ]
     },
     "metadata": {},
     "output_type": "display_data"
    },
    {
     "name": "stdout",
     "output_type": "stream",
     "text": [
      "Entity: tongbeet (140-148)\n",
      "\n",
      "            entity_id    label    bilstm_cv\n",
      "10283  SP1265_140_148  negated  not negated\n"
     ]
    },
    {
     "data": {
      "text/html": [
       "PED Sinds 3 jr is #Name# regelmatig misselijk en braakt hij frequent, gerelateerd aan stress en spanningen; Volledig bloedbeeld en bezinking: g.a.; HP negatief.\n",
       "<mark style='background-color: #fff59d'><text>Coeliakie</text></mark> neg.\n",
       "<br>"
      ],
      "text/plain": [
       "<IPython.core.display.HTML object>"
      ]
     },
     "metadata": {},
     "output_type": "display_data"
    },
    {
     "name": "stdout",
     "output_type": "stream",
     "text": [
      "Entity: Coeliakie (161-170)\n",
      "\n",
      "            entity_id    label    bilstm_cv\n",
      "10303  SP1273_161_170  negated  not negated\n"
     ]
    },
    {
     "data": {
      "text/html": [
       "Regionaal : Geen aanwijzingen voor <mark style='background-color: #fff59d'><text>metastasen</text></mark>.\n",
       "<br>"
      ],
      "text/plain": [
       "<IPython.core.display.HTML object>"
      ]
     },
     "metadata": {},
     "output_type": "display_data"
    },
    {
     "name": "stdout",
     "output_type": "stream",
     "text": [
      "Entity: metastasen (35-45)\n",
      "\n",
      "          entity_id        label bilstm_cv\n",
      "10335  SP1283_35_45  not negated   negated\n"
     ]
    },
    {
     "data": {
      "text/html": [
       ": #LongNumber# Specialisme : SINT, Dr. #Name#, internist Indicatie: Zuurbranden, pijn in de bovenbuik, vitamine B12- en ijzerdeficientie.\n",
       "Omdat coeliakie in de differentiaal diagnose staat, worden er duodenumbiopten afgenomen.\n",
       "In het antrum een normaal slijmvlies, geen gastritis.\n",
       "Er worden hier biopten afgenomen voor Helicobacter pylori-diagnostiek, en eventueel ook om hypertrofie van de G-cellen aan te tonen.\n",
       "Meer proximaal in de maag is het plooienpatroon normaal, er wordt geen duidelijke <mark style='background-color: #fff59d'><text>atrofie</text></mark> van het maagslijmvlies gezien.\n",
       "Toch biopten ter uitsluiting van een lymfocytaire gastritis.\n",
       "Geen reflux oesofagitis.\n",
       "Conclusie: Endoscopisch eigenlijk geen afwijkingen, biopten voor coeliakie, lymfocytaire gastritis en H.p.-diagnostiek.\n",
       "<br>"
      ],
      "text/plain": [
       "<IPython.core.display.HTML object>"
      ]
     },
     "metadata": {},
     "output_type": "display_data"
    },
    {
     "name": "stdout",
     "output_type": "stream",
     "text": [
      "Entity: atrofie (496-503)\n",
      "\n",
      "            entity_id    label    bilstm_cv\n",
      "10367  SP1297_496_503  negated  not negated\n"
     ]
    },
    {
     "data": {
      "text/html": [
       ": #LongNumber# Specialisme : SINT, Dr. #Name#, internist Indicatie: Zuurbranden, pijn in de bovenbuik, vitamine B12- en ijzerdeficientie.\n",
       "Omdat coeliakie in de differentiaal diagnose staat, worden er duodenumbiopten afgenomen.\n",
       "In het antrum een normaal slijmvlies, geen gastritis.\n",
       "Er worden hier biopten afgenomen voor Helicobacter pylori-diagnostiek, en eventueel ook om hypertrofie van de G-cellen aan te tonen.\n",
       "Meer proximaal in de maag is het plooienpatroon normaal, er wordt geen duidelijke atrofie van het maagslijmvlies gezien.\n",
       "Toch biopten ter uitsluiting van een lymfocytaire gastritis.\n",
       "Geen reflux <mark style='background-color: #fff59d'><text>oesofagitis</text></mark>.\n",
       "Conclusie: Endoscopisch eigenlijk geen afwijkingen, biopten voor coeliakie, lymfocytaire gastritis en H.p.-diagnostiek.\n",
       "<br>"
      ],
      "text/plain": [
       "<IPython.core.display.HTML object>"
      ]
     },
     "metadata": {},
     "output_type": "display_data"
    },
    {
     "name": "stdout",
     "output_type": "stream",
     "text": [
      "Entity: oesofagitis (608-619)\n",
      "\n",
      "            entity_id    label    bilstm_cv\n",
      "10369  SP1297_608_619  negated  not negated\n"
     ]
    },
    {
     "data": {
      "text/html": [
       ": #LongNumber# Specialisme : SINT, Dr. #Name#, internist Indicatie: Zuurbranden, pijn in de bovenbuik, vitamine B12- en ijzerdeficientie.\n",
       "Omdat coeliakie in de differentiaal diagnose staat, worden er duodenumbiopten afgenomen.\n",
       "In het antrum een normaal slijmvlies, geen gastritis.\n",
       "Er worden hier biopten afgenomen voor Helicobacter pylori-diagnostiek, en eventueel ook om hypertrofie van de G-cellen aan te tonen.\n",
       "Meer proximaal in de maag is het plooienpatroon normaal, er wordt geen duidelijke atrofie van het maagslijmvlies gezien.\n",
       "Toch biopten ter uitsluiting van een lymfocytaire gastritis.\n",
       "Geen reflux oesofagitis.\n",
       "Conclusie: Endoscopisch eigenlijk geen afwijkingen, biopten voor <mark style='background-color: #fff59d'><text>coeliakie</text></mark>, lymfocytaire gastritis en H.p.-diagnostiek.\n",
       "<br>"
      ],
      "text/plain": [
       "<IPython.core.display.HTML object>"
      ]
     },
     "metadata": {},
     "output_type": "display_data"
    },
    {
     "name": "stdout",
     "output_type": "stream",
     "text": [
      "Entity: coeliakie (686-695)\n",
      "\n",
      "            entity_id        label bilstm_cv\n",
      "10370  SP1297_686_695  not negated   negated\n"
     ]
    },
    {
     "data": {
      "text/html": [
       ": #LongNumber# Specialisme : SINT, Dr. #Name#, internist Indicatie: Zuurbranden, pijn in de bovenbuik, vitamine B12- en ijzerdeficientie.\n",
       "Omdat coeliakie in de differentiaal diagnose staat, worden er duodenumbiopten afgenomen.\n",
       "In het antrum een normaal slijmvlies, geen gastritis.\n",
       "Er worden hier biopten afgenomen voor Helicobacter pylori-diagnostiek, en eventueel ook om hypertrofie van de G-cellen aan te tonen.\n",
       "Meer proximaal in de maag is het plooienpatroon normaal, er wordt geen duidelijke atrofie van het maagslijmvlies gezien.\n",
       "Toch biopten ter uitsluiting van een lymfocytaire gastritis.\n",
       "Geen reflux oesofagitis.\n",
       "Conclusie: Endoscopisch eigenlijk geen afwijkingen, biopten voor coeliakie, lymfocytaire <mark style='background-color: #fff59d'><text>gastritis</text></mark> en H.p.-diagnostiek.\n",
       "<br>"
      ],
      "text/plain": [
       "<IPython.core.display.HTML object>"
      ]
     },
     "metadata": {},
     "output_type": "display_data"
    },
    {
     "name": "stdout",
     "output_type": "stream",
     "text": [
      "Entity: gastritis (710-719)\n",
      "\n",
      "            entity_id        label bilstm_cv\n",
      "10371  SP1297_710_719  not negated   negated\n"
     ]
    },
    {
     "data": {
      "text/html": [
       "Referentienr: Functie: Datum/tijd : 02 - 07 - 2003 / : (dd-mm-jjjj / uu:mm) 137 102 Respons :----------------------------------------------------------------------------------------------------------------------------------------------------------Afzender identificatiecode : 0143 naam : Ziekenhuis #City# straat : Postbus huisnr: #LongNumber# postcode : #Postcode# plaats: #City# Contact persoon : HA22 #Name# Telefoon : #TelephoneNumber#TE-----------------------------------------------------------------------------Ontvanger identificatiecode : #LongNumber# naam : M.H. #Name# straat : #Street# huisnr: #HouseNumber# postcode : #Postcode# plaats: #City# Patientgegevens BTH PCL LOC 100 PAT PAT patientnr : #PatientId# XXXXXXXXXXXXXXXXXXXXXXXX naam : #Name# achternaam echtgenoot: #Name#)an/(V)vrouw : V 2 (G)ehuwd/(O)ngehuwd: straat : XXXXXXXXXXXXX huisnr: #HouseNumber# postcode : #PostalCode# plaats: #City#-----------------------------------------------------------------------------Vrije tekst ONTSLAGBERICHT CARDIOLOGIE Specialist : #Name# Opnamedatum: 18-06-2003, Ontslagdatum: 27-06-2003 Ontslag of overplaatsing naar: Huis Reden van opname: Palpataties Voorgeschiedenis: TIA, Hypertensie Anamnese: Patiente had last van hartkloppingen, bonzend hart wel regelmatig.\n",
       "Zij heeft verder al 5 weken last van aanvalsgewijze tintelingen in haar linker gezichtshelft en linker arm en duizeligheid.\n",
       "Er is geen sprake van angineuze klachten, ook niet van dyspnoe klachten.\n",
       "De overige tractus anamnese is niet aanvullend Risicofaktoren: Hypertensie, hypercholesterolaemie Medicatie bij opname: Hydrochloorthiazide 1dd 25, ascal 1dd 100, cozaar 1dd 50 Lichamelijk onderzoek: Bloeddruk: 240/104 Hart: Normale cortonen geen soufles Longen: VAG <mark style='background-color: #fff59d'><text>Perifeer oedeem</text></mark>: niet aanwezig ECG: Sinusritme 91/min, linker as deviatie, vlak ST segment in AVL en I.\n",
       "Bespreking: Patiente werd opgenomen met hypertensie, aanvals gewijze tintelingen en palpitaties.\n",
       "Alhoewel onwaarschijnlijk werd nog urine onderzoek ingezet om een feochromocytoom uit te sluiten.\n",
       "Medicatie bij ontslag: Cozaar 2dd 50, zocor 1dd 40, ascal 1dd 100, hydrochloorthiazide 1dd 25, selokeen 1dd 50 Conclusie: Hypertensie, aanvalsgewijze tintelingen eci Met vriendelijke groet#Name#, arts-assistente cardiologie Mede uit naam van #Name#\n",
       "<br>"
      ],
      "text/plain": [
       "<IPython.core.display.HTML object>"
      ]
     },
     "metadata": {},
     "output_type": "display_data"
    },
    {
     "name": "stdout",
     "output_type": "stream",
     "text": [
      "Entity: Perifeer oedeem (1740-1755)\n",
      "\n",
      "              entity_id    label    bilstm_cv\n",
      "10384  SP1300_1740_1755  negated  not negated\n"
     ]
    },
    {
     "data": {
      "text/html": [
       "Status na longembolie.\n",
       "<mark style='background-color: #fff59d'><text>Claudicatio intermittens</text></mark> is niet aan de orde.\n",
       "Bij het lichamelijk onderzoek is ten gevolge van perifere oedeem geen vaatpulsatie te voelen.\n",
       "Conclusie: er is geen sprake van arteriele insufficientie bij dit oedeem.\n",
       "<br>"
      ],
      "text/plain": [
       "<IPython.core.display.HTML object>"
      ]
     },
     "metadata": {},
     "output_type": "display_data"
    },
    {
     "name": "stdout",
     "output_type": "stream",
     "text": [
      "Entity: Claudicatio intermittens (23-47)\n",
      "\n",
      "          entity_id    label    bilstm_cv\n",
      "10392  SP1302_23_47  negated  not negated\n"
     ]
    },
    {
     "data": {
      "text/html": [
       "Oog [O] Mouches voulante OD, in fundo: geen afwijkingen <mark style='background-color: #fff59d'><text>cataract</text></mark> ODS, VOD/S: 0,6\n",
       "<br>"
      ],
      "text/plain": [
       "<IPython.core.display.HTML object>"
      ]
     },
     "metadata": {},
     "output_type": "display_data"
    },
    {
     "name": "stdout",
     "output_type": "stream",
     "text": [
      "Entity: cataract (56-64)\n",
      "\n",
      "          entity_id        label bilstm_cv\n",
      "10395  SP1303_56_64  not negated   negated\n"
     ]
    },
    {
     "data": {
      "text/html": [
       "Patiente is helaas niet <mark style='background-color: #fff59d'><text>gravida</text></mark> geworden.\n",
       "<br>"
      ],
      "text/plain": [
       "<IPython.core.display.HTML object>"
      ]
     },
     "metadata": {},
     "output_type": "display_data"
    },
    {
     "name": "stdout",
     "output_type": "stream",
     "text": [
      "Entity: gravida (24-31)\n",
      "\n",
      "          entity_id    label    bilstm_cv\n",
      "10409  SP1309_24_31  negated  not negated\n"
     ]
    },
    {
     "data": {
      "text/html": [
       "Hospital# <mark style='background-color: #fff59d'><text>INFECTIE</text></mark> SEROLOGIE Materiaal serumpaar 2e serum Cytomegalovirus IgM as 0.4 (negatief) <1.1 ratio Cytomegalovirus IgG as 0.0 (negatief) <1.1 ratio Toxoplasma IgM as 0.18 (negatief) <0.83 ratio Toxoplasma IgG as 0.2 (negatief) <1.6 IU/ml Autorisatie- Geen aanwijzingen voor een recente infectie met vermeld(e) micro-organisme(n).\n",
       "<br>"
      ],
      "text/plain": [
       "<IPython.core.display.HTML object>"
      ]
     },
     "metadata": {},
     "output_type": "display_data"
    },
    {
     "name": "stdout",
     "output_type": "stream",
     "text": [
      "Entity: INFECTIE (10-18)\n",
      "\n",
      "          entity_id    label    bilstm_cv\n",
      "10435  SP1317_10_18  negated  not negated\n"
     ]
    },
    {
     "data": {
      "text/html": [
       "XXXXXXXXXX, adres Nw #Street#-a, #Postcode# #City# Geachte collega, Uw bovengenoemde patient bezocht de polikliniek dermatologie in verband met psoriasis.\n",
       "Anamnese Zoals u weet is patient al langer bekend met psoriasis waarvoor in het verleden lokale therapie (onvoldoende effect) en UVB therapie(onvoldoende effect).\n",
       "Ik was voornemens Methotrexaat te starten maar bij de thoraxfoto werd een tumor gezien.\n",
       "Hij is bekend met diabetes mellitus en als medicatie wordt Metformine, Atacand, Diamicron en Ascal gebruikt.\n",
       "<mark style='background-color: #fff59d'><text>Hepatitis B</text></mark> en C serologie: negatief.\n",
       "Conclusie Psoriasis vulgaris.\n",
       "Daarnaast bestaat er een kleine kans op een Methotrexaat pneumonitis.\n",
       "<br>"
      ],
      "text/plain": [
       "<IPython.core.display.HTML object>"
      ]
     },
     "metadata": {},
     "output_type": "display_data"
    },
    {
     "name": "stdout",
     "output_type": "stream",
     "text": [
      "Entity: Hepatitis B (515-526)\n",
      "\n",
      "            entity_id    label    bilstm_cv\n",
      "10513  SP1350_515_526  negated  not negated\n"
     ]
    },
    {
     "data": {
      "text/html": [
       "Sedert die tijd heeft hij een wat vaag gevoel in de keel wat hij niet goed kan wegslikken.\n",
       "Hij <mark style='background-color: #fff59d'><text>hoest</text></mark> niet, geeft geen sputum op.\n",
       "Geen stridor hoorbaar.\n",
       "Na de operatie aan zijn hernia, waarbij er een ventrale benadering heeft plaatsgevonden in de hals, heeft hij eigenlijk een vage klacht die deels bestaat uit een soort globusgevoel met af en toe ook wat benauwdheid.\n",
       "Er zijn ook geen aanwijzingen voor een hoge luchtwegobstructie bij een normale flowvolumecurve.\n",
       "<br>"
      ],
      "text/plain": [
       "<IPython.core.display.HTML object>"
      ]
     },
     "metadata": {},
     "output_type": "display_data"
    },
    {
     "name": "stdout",
     "output_type": "stream",
     "text": [
      "Entity: hoest (95-100)\n",
      "\n",
      "           entity_id    label    bilstm_cv\n",
      "10520  SP1354_95_100  negated  not negated\n"
     ]
    },
    {
     "data": {
      "text/html": [
       "Anamnese: Patient heeft vooral klachten van neusobstructie sinds ca. 20 jaar.\n",
       "Patient heeft geen klachten van de longen, geen klachten van hoesten.\n",
       "Hiermee is de post-nasal drip verminderd, de neusobstructie klachten echter niet.\n",
       "Flexibele scopie: wat erythemateus slijmvlies beiderzijds, geen poliepen.\n",
       "Concluderend: Niet allergische <mark style='background-color: #fff59d'><text>chronische sinusitis</text></mark> klachten.\n",
       "C.T.-neusbijholten in verband met de reeds lang bestaande sinusgene neusobstructie klachten.\n",
       "<br>"
      ],
      "text/plain": [
       "<IPython.core.display.HTML object>"
      ]
     },
     "metadata": {},
     "output_type": "display_data"
    },
    {
     "name": "stdout",
     "output_type": "stream",
     "text": [
      "Entity: chronische sinusitis (335-355)\n",
      "\n",
      "            entity_id        label bilstm_cv\n",
      "10539  SP1362_335_355  not negated   negated\n"
     ]
    },
    {
     "data": {
      "text/html": [
       "vrdacht voor <mark style='background-color: #fff59d'><text>borstkanker</text></mark> gevonden.\n",
       "<br>"
      ],
      "text/plain": [
       "<IPython.core.display.HTML object>"
      ]
     },
     "metadata": {},
     "output_type": "display_data"
    },
    {
     "name": "stdout",
     "output_type": "stream",
     "text": [
      "Entity: borstkanker (13-24)\n",
      "\n",
      "          entity_id    label    bilstm_cv\n",
      "10542  SP1364_13_24  negated  not negated\n"
     ]
    },
    {
     "data": {
      "text/html": [
       "IMMUNOLOGIE: (AUTO-) ANTISTOFFEN Parietaalcel (maag) as negatief Autorisatie- Afwezigheid van antistoffen tegen parietale cellen pleit tegen de <mark style='background-color: #fff59d'><text>diagnose</text></mark> autoimmuun-gastritis en pernicieuze anemie.\n",
       "<br>"
      ],
      "text/plain": [
       "<IPython.core.display.HTML object>"
      ]
     },
     "metadata": {},
     "output_type": "display_data"
    },
    {
     "name": "stdout",
     "output_type": "stream",
     "text": [
      "Entity: diagnose (144-152)\n",
      "\n",
      "            entity_id    label    bilstm_cv\n",
      "10594  SP1398_144_152  negated  not negated\n"
     ]
    },
    {
     "data": {
      "text/html": [
       "IMMUNOLOGIE: (AUTO-) ANTISTOFFEN Parietaalcel (maag) as negatief Autorisatie- Afwezigheid van antistoffen tegen parietale cellen pleit tegen de diagnose autoimmuun-<mark style='background-color: #fff59d'><text>gastritis</text></mark> en pernicieuze anemie.\n",
       "<br>"
      ],
      "text/plain": [
       "<IPython.core.display.HTML object>"
      ]
     },
     "metadata": {},
     "output_type": "display_data"
    },
    {
     "name": "stdout",
     "output_type": "stream",
     "text": [
      "Entity: gastritis (164-173)\n",
      "\n",
      "            entity_id    label    bilstm_cv\n",
      "10595  SP1398_164_173  negated  not negated\n"
     ]
    },
    {
     "data": {
      "text/html": [
       "IMMUNOLOGIE: (AUTO-) ANTISTOFFEN Parietaalcel (maag) as negatief Autorisatie- Afwezigheid van antistoffen tegen parietale cellen pleit tegen de diagnose autoimmuun-gastritis en <mark style='background-color: #fff59d'><text>pernicieuze anemie</text></mark>.\n",
       "<br>"
      ],
      "text/plain": [
       "<IPython.core.display.HTML object>"
      ]
     },
     "metadata": {},
     "output_type": "display_data"
    },
    {
     "name": "stdout",
     "output_type": "stream",
     "text": [
      "Entity: pernicieuze anemie (177-195)\n",
      "\n",
      "            entity_id    label    bilstm_cv\n",
      "10596  SP1398_177_195  negated  not negated\n"
     ]
    },
    {
     "data": {
      "text/html": [
       "Radiologie, R Zeer geachte collega, Op 10-03-09 zag ik ter controle op de polikliniek Radiotherapie uw patient de heer #Name#n, XXXXXXXXXXXXXXXXXX, wonende #Street# te #City#, die tot december 2008 in opzet curatief bestraald werd i.v.m. een T3NxMx prostaatcarcinoom.\n",
       "Patient had af en toe klachten van rectaal bloedverlies, waarbij wat bloed op het wc-papiertje zat.\n",
       "Het volume van de darm vertoont multipele forse divertikels in het sigmoid.\n",
       "Geen poliepen of sarcoom of verdachte laesies.\n",
       "Geen hemorroiden.\n",
       "Conclusie: Diverticulose in het sigmoid zonder diverticulitis, geen bloedingsbron gevonden.\n",
       "Op dit moment ook geen tekenen van radiatieproctitis of andere oorzaken van <mark style='background-color: #fff59d'><text>rectaal bloedverlies</text></mark>.\n",
       "<br>"
      ],
      "text/plain": [
       "<IPython.core.display.HTML object>"
      ]
     },
     "metadata": {},
     "output_type": "display_data"
    },
    {
     "name": "stdout",
     "output_type": "stream",
     "text": [
      "Entity: rectaal bloedverlies (677-697)\n",
      "\n",
      "            entity_id        label bilstm_cv\n",
      "10610  SP1402_677_697  not negated   negated\n"
     ]
    },
    {
     "data": {
      "text/html": [
       "bronchiale hyperreactiviteit.\n",
       "Zij <mark style='background-color: #fff59d'><text>hoest</text></mark> niet, is niet toenemend kortademig en kwam eigenlijk voor preoperatieve screening.\n",
       "Over de longen normaal ademgeruis, geen ronchi, crepitaties of bijgeluiden.\n",
       "ECG: sinusritme, g.b.\n",
       "<br>"
      ],
      "text/plain": [
       "<IPython.core.display.HTML object>"
      ]
     },
     "metadata": {},
     "output_type": "display_data"
    },
    {
     "name": "stdout",
     "output_type": "stream",
     "text": [
      "Entity: hoest (34-39)\n",
      "\n",
      "          entity_id    label    bilstm_cv\n",
      "10627  SP1410_34_39  negated  not negated\n"
     ]
    },
    {
     "data": {
      "text/html": [
       "bronchiale hyperreactiviteit.\n",
       "Zij hoest niet, is niet toenemend kortademig en kwam eigenlijk voor preoperatieve screening.\n",
       "Over de longen normaal ademgeruis, geen ronchi, <mark style='background-color: #fff59d'><text>crepitaties</text></mark> of bijgeluiden.\n",
       "ECG: sinusritme, g.b.\n",
       "<br>"
      ],
      "text/plain": [
       "<IPython.core.display.HTML object>"
      ]
     },
     "metadata": {},
     "output_type": "display_data"
    },
    {
     "name": "stdout",
     "output_type": "stream",
     "text": [
      "Entity: crepitaties (171-182)\n",
      "\n",
      "            entity_id    label    bilstm_cv\n",
      "10628  SP1410_171_182  negated  not negated\n"
     ]
    },
    {
     "data": {
      "text/html": [
       "CHP:XXXXXXXXX:DC:Moeder belt: had al week last van keel, 3 dgn oorpijn.\n",
       "Heeft nu ook koortslip.\n",
       "Soms wat buikpijn, al langere tijd vaginale afscheiding en kortgeleden wormkuur gehad.\n",
       "(ZAR) Sinds ruim 1 wk keelpijn.\n",
       "5 dgn terug oorpijn en overgegeven , alleen op die dag.\n",
       "Echter geen verbetring: duizligheid gebleven,hoofdpijn en buikpijn, <mark style='background-color: #fff59d'><text>hoesten</text></mark>-, Gisteren temp 39#O-Converted##P-Converted# s Onbekend: EDIMEDI\n",
       "<br>"
      ],
      "text/plain": [
       "<IPython.core.display.HTML object>"
      ]
     },
     "metadata": {},
     "output_type": "display_data"
    },
    {
     "name": "stdout",
     "output_type": "stream",
     "text": [
      "Entity: hoesten (339-346)\n",
      "\n",
      "            entity_id    label    bilstm_cv\n",
      "10641  SP1413_339_346  negated  not negated\n"
     ]
    },
    {
     "data": {
      "text/html": [
       "LOG #Name#: Hr heeft besloten te stoppen met de <mark style='background-color: #fff59d'><text>logopedie</text></mark>\n",
       "<br>"
      ],
      "text/plain": [
       "<IPython.core.display.HTML object>"
      ]
     },
     "metadata": {},
     "output_type": "display_data"
    },
    {
     "name": "stdout",
     "output_type": "stream",
     "text": [
      "Entity: logopedie (48-57)\n",
      "\n",
      "          entity_id    label    bilstm_cv\n",
      "10671  SP1428_48_57  negated  not negated\n"
     ]
    },
    {
     "data": {
      "text/html": [
       "CHRA Huisartsendienst Re,-----------------------------------------------------------------Datum: 28-mei-2010 18:51 Oproepnummer: #LongNumber#-----------------------------------------------------------------Tel.: #TelephoneNumber# Polisnr: #LongNumber# Afkomst oproep: Partner Tel.: Urgentie: U2 Spoed Soort bezoek: Visite-----------------------------------------------------------------Klacht/hulpvraag: Klachten: Man heeft sinds vanmiddag 13.00 wat last van pijn in de hartstreek , POB uitstralend naar linker schouder en arm, . tintelingen in de hand, <mark style='background-color: #fff59d'><text>misselijk</text></mark>;- bleek;- klam;+, kortademig;- benauwd;+, Vg; prostaatca, MED; Salofalk, losec,maagbeschwermer, zo'n 10 jaaqr gelden ook klachten, is toen met roken gestopt.\n",
       "Graag met spoed visite-----------------------------------------------------------------Subjectief: vanorgen methond gelopen daarna bij bukken pijn lischouder en li thoraxhelft bij bewegen en bij liggen op de li schouder, dyspnoe- nausea- zweten-, niet erger bij insp wel bij diep doorzuchten Objectief: niet ziek, zweten-, dyspnoe- RR 190/90 p 92 ra.a. sao2 98% , pulm: vag bdz, cor s1s2s- geen vierde toon geen effect op nitro, nek mobiel, drukpijn li hemithorax opwekbaar en herkenbaar Evaluatie: spierpijn Plan: heeft al 4 pcm op contraindicatie nsaid nu tramadol toegevoegd bij veranderingklachten opnieuw contact-----------------------------------------------------------------Uitgeschreven recept:-----------------------------------------------------------------Nazorg: Overig:-----------------------------------------------------------------Advies: ABOUMA Fiattering: Tel.\n",
       "<br>"
      ],
      "text/plain": [
       "<IPython.core.display.HTML object>"
      ]
     },
     "metadata": {},
     "output_type": "display_data"
    },
    {
     "name": "stdout",
     "output_type": "stream",
     "text": [
      "Entity: misselijk (554-563)\n",
      "\n",
      "            entity_id    label    bilstm_cv\n",
      "10672  SP1429_554_563  negated  not negated\n"
     ]
    },
    {
     "data": {
      "text/html": [
       "CHRA Huisartsendienst Re,-----------------------------------------------------------------Datum: 28-mei-2010 18:51 Oproepnummer: #LongNumber#-----------------------------------------------------------------Tel.: #TelephoneNumber# Polisnr: #LongNumber# Afkomst oproep: Partner Tel.: Urgentie: U2 Spoed Soort bezoek: Visite-----------------------------------------------------------------Klacht/hulpvraag: Klachten: Man heeft sinds vanmiddag 13.00 wat last van pijn in de hartstreek , POB uitstralend naar linker schouder en arm, . tintelingen in de hand, misselijk;- <mark style='background-color: #fff59d'><text>bleek</text></mark>;- klam;+, kortademig;- benauwd;+, Vg; prostaatca, MED; Salofalk, losec,maagbeschwermer, zo'n 10 jaaqr gelden ook klachten, is toen met roken gestopt.\n",
       "Graag met spoed visite-----------------------------------------------------------------Subjectief: vanorgen methond gelopen daarna bij bukken pijn lischouder en li thoraxhelft bij bewegen en bij liggen op de li schouder, dyspnoe- nausea- zweten-, niet erger bij insp wel bij diep doorzuchten Objectief: niet ziek, zweten-, dyspnoe- RR 190/90 p 92 ra.a. sao2 98% , pulm: vag bdz, cor s1s2s- geen vierde toon geen effect op nitro, nek mobiel, drukpijn li hemithorax opwekbaar en herkenbaar Evaluatie: spierpijn Plan: heeft al 4 pcm op contraindicatie nsaid nu tramadol toegevoegd bij veranderingklachten opnieuw contact-----------------------------------------------------------------Uitgeschreven recept:-----------------------------------------------------------------Nazorg: Overig:-----------------------------------------------------------------Advies: ABOUMA Fiattering: Tel.\n",
       "<br>"
      ],
      "text/plain": [
       "<IPython.core.display.HTML object>"
      ]
     },
     "metadata": {},
     "output_type": "display_data"
    },
    {
     "name": "stdout",
     "output_type": "stream",
     "text": [
      "Entity: bleek (566-571)\n",
      "\n",
      "            entity_id    label    bilstm_cv\n",
      "10673  SP1429_566_571  negated  not negated\n"
     ]
    },
    {
     "data": {
      "text/html": [
       "Enige zwelling.\n",
       "Laryngitis Dysfonie Stoppen - <mark style='background-color: #fff59d'><text>logopedie</text></mark>.\n",
       "<br>"
      ],
      "text/plain": [
       "<IPython.core.display.HTML object>"
      ]
     },
     "metadata": {},
     "output_type": "display_data"
    },
    {
     "name": "stdout",
     "output_type": "stream",
     "text": [
      "Entity: logopedie (46-55)\n",
      "\n",
      "          entity_id    label    bilstm_cv\n",
      "10822  SP1483_46_55  negated  not negated\n"
     ]
    },
    {
     "data": {
      "text/html": [
       "serologie Klinische gegevens hoest > 4 weken INFECTIE SEROLOGIE Materiaal serumpaar 1e serum B.<mark style='background-color: #fff59d'><text>pertussis</text></mark> (kinkhoest) IgG as 7 (negatief) <9 U/ml B.pertussis (kinkhoest) IgA as 3 (negatief) <9 U/ml Autorisatie- Geen aanwijzingen voor een recente infectie met Bordetella ( kinkhoest ).\n",
       "<br>"
      ],
      "text/plain": [
       "<IPython.core.display.HTML object>"
      ]
     },
     "metadata": {},
     "output_type": "display_data"
    },
    {
     "name": "stdout",
     "output_type": "stream",
     "text": [
      "Entity: pertussis (95-104)\n",
      "\n",
      "           entity_id    label    bilstm_cv\n",
      "10831  SP1486_95_104  negated  not negated\n"
     ]
    },
    {
     "data": {
      "text/html": [
       "serologie Klinische gegevens hoest > 4 weken INFECTIE SEROLOGIE Materiaal serumpaar 1e serum B.pertussis (<mark style='background-color: #fff59d'><text>kinkhoest</text></mark>) IgG as 7 (negatief) <9 U/ml B.pertussis (kinkhoest) IgA as 3 (negatief) <9 U/ml Autorisatie- Geen aanwijzingen voor een recente infectie met Bordetella ( kinkhoest ).\n",
       "<br>"
      ],
      "text/plain": [
       "<IPython.core.display.HTML object>"
      ]
     },
     "metadata": {},
     "output_type": "display_data"
    },
    {
     "name": "stdout",
     "output_type": "stream",
     "text": [
      "Entity: kinkhoest (106-115)\n",
      "\n",
      "            entity_id    label    bilstm_cv\n",
      "10832  SP1486_106_115  negated  not negated\n"
     ]
    },
    {
     "data": {
      "text/html": [
       "serologie Klinische gegevens hoest > 4 weken INFECTIE SEROLOGIE Materiaal serumpaar 1e serum B.pertussis (kinkhoest) IgG as 7 (negatief) <9 U/ml B.<mark style='background-color: #fff59d'><text>pertussis</text></mark> (kinkhoest) IgA as 3 (negatief) <9 U/ml Autorisatie- Geen aanwijzingen voor een recente infectie met Bordetella ( kinkhoest ).\n",
       "<br>"
      ],
      "text/plain": [
       "<IPython.core.display.HTML object>"
      ]
     },
     "metadata": {},
     "output_type": "display_data"
    },
    {
     "name": "stdout",
     "output_type": "stream",
     "text": [
      "Entity: pertussis (147-156)\n",
      "\n",
      "            entity_id    label    bilstm_cv\n",
      "10833  SP1486_147_156  negated  not negated\n"
     ]
    },
    {
     "data": {
      "text/html": [
       "serologie Klinische gegevens hoest > 4 weken INFECTIE SEROLOGIE Materiaal serumpaar 1e serum B.pertussis (kinkhoest) IgG as 7 (negatief) <9 U/ml B.pertussis (<mark style='background-color: #fff59d'><text>kinkhoest</text></mark>) IgA as 3 (negatief) <9 U/ml Autorisatie- Geen aanwijzingen voor een recente infectie met Bordetella ( kinkhoest ).\n",
       "<br>"
      ],
      "text/plain": [
       "<IPython.core.display.HTML object>"
      ]
     },
     "metadata": {},
     "output_type": "display_data"
    },
    {
     "name": "stdout",
     "output_type": "stream",
     "text": [
      "Entity: kinkhoest (158-167)\n",
      "\n",
      "            entity_id    label    bilstm_cv\n",
      "10834  SP1486_158_167  negated  not negated\n"
     ]
    },
    {
     "data": {
      "text/html": [
       "Verwiizer en reden verwijzing: U verwees pati�nte voor diagnostiek en behandeling in verband met depressieve klachten en vermagering.\n",
       "behoefte te hebben aan praktische ondersteuning in haar moederrol en eventueel di�tiste voor voedingsadvies t.b.v. gewichtstoename; meer dan aan gespreksen/of medicamenteuze behandeling.\n",
       "DSM IV classificatie (voorlopig) As I  dysthyme stoornis, code 300.4\n",
       "As II  geen diagnose, code V71.09 As III lichamelijk klachten e.c.i.\n",
       "Ze heeft een al lang bestaande licht sombere stemming, sinds de geboorte van haar tweede kind en een duidelijk ondergewicht .\n",
       "Overigens o.i. geen sprake van: <mark style='background-color: #fff59d'><text>anorexie</text></mark>, een duidelijk depressieve - dan wel angststoornis hooguit dysthymie.\n",
       "En eventueel verwijzing naar een di�tiste voor voedingsadvies t.b.v. gewichtstoename .\n",
       "<br>"
      ],
      "text/plain": [
       "<IPython.core.display.HTML object>"
      ]
     },
     "metadata": {},
     "output_type": "display_data"
    },
    {
     "name": "stdout",
     "output_type": "stream",
     "text": [
      "Entity: anorexie (617-625)\n",
      "\n",
      "            entity_id    label    bilstm_cv\n",
      "10907  SP1517_617_625  negated  not negated\n"
     ]
    },
    {
     "data": {
      "text/html": [
       "Verwiizer en reden verwijzing: U verwees pati�nte voor diagnostiek en behandeling in verband met depressieve klachten en vermagering.\n",
       "behoefte te hebben aan praktische ondersteuning in haar moederrol en eventueel di�tiste voor voedingsadvies t.b.v. gewichtstoename; meer dan aan gespreksen/of medicamenteuze behandeling.\n",
       "DSM IV classificatie (voorlopig) As I  dysthyme stoornis, code 300.4\n",
       "As II  geen diagnose, code V71.09 As III lichamelijk klachten e.c.i.\n",
       "Ze heeft een al lang bestaande licht sombere stemming, sinds de geboorte van haar tweede kind en een duidelijk ondergewicht .\n",
       "Overigens o.i. geen sprake van: anorexie, een duidelijk depressieve - dan wel <mark style='background-color: #fff59d'><text>angststoornis</text></mark> hooguit dysthymie.\n",
       "En eventueel verwijzing naar een di�tiste voor voedingsadvies t.b.v. gewichtstoename .\n",
       "<br>"
      ],
      "text/plain": [
       "<IPython.core.display.HTML object>"
      ]
     },
     "metadata": {},
     "output_type": "display_data"
    },
    {
     "name": "stdout",
     "output_type": "stream",
     "text": [
      "Entity: angststoornis (663-676)\n",
      "\n",
      "            entity_id    label    bilstm_cv\n",
      "10908  SP1517_663_676  negated  not negated\n"
     ]
    },
    {
     "data": {
      "text/html": [
       "Na een luchtweginfect werd bij toeval een ritmestoornis geconstateerd.\n",
       "Haar voornaamste klacht is dyspnoe met inspanning.\n",
       "Zij is bekend met hypercholesterolaemie en hypertensie.\n",
       "Patiente is gehuwd, was voorheen werkzaam als receptioniste, heeft 2 zoons, het roken heeft zij 25 jaar geleden gestaakt.\n",
       "Van haar familie zijn beide ouders op hoge leeftijd gestorven en niemand is bekend met <mark style='background-color: #fff59d'><text>hart- en vaatziekten</text></mark>.\n",
       "5.0 mmol/l, HDL-cholesterol1.08 mmol/l, LDL-cholesterol 4.5 mmol/l, normale schildklierfunctie, CRP 4,8 mg/l.\n",
       "Het E.C.G. toont sinusritme, intermediaire hartas, QS rechts precordiaal, het beeld van een doorgemaakt anteroseptaal myocardinfarct.\n",
       "Myocardperfusiescan: subtotale stenose in het middentraject van de LAD met mogelijk een soft plaque in het meest proximale deel ervan.\n",
       "Beide onderzoeken met elkaar gecombineerd wijzen op een subtotale stenose in de LAD in het middentraject bij een distaal anteroseptaal/apicaal myocardinfarct.\n",
       "Proximaal in de LAD is een soft plaque die verantwoordelijk gesteld kan worden voor ischaemie proximaal van het infarct.\n",
       "Bespreking: patiente heeft een anteroseptaal myocardinfarct doorgemaakt met persisterende proximale ischaemie respectievelijk op basis van een subtotale stenose van de LAD in het middentraject en een proximale stenose in de LAD, een soft plaque, die verantwoordelijk gesteld moet worden voor ischaemie proximaal van het infarct.\n",
       "<br>"
      ],
      "text/plain": [
       "<IPython.core.display.HTML object>"
      ]
     },
     "metadata": {},
     "output_type": "display_data"
    },
    {
     "name": "stdout",
     "output_type": "stream",
     "text": [
      "Entity: hart- en vaatziekten (387-407)\n",
      "\n",
      "            entity_id    label    bilstm_cv\n",
      "10917  SP1519_387_407  negated  not negated\n"
     ]
    },
    {
     "data": {
      "text/html": [
       "Zij is bekend bij collega #Name# in verband met een pulmonale hypertensie.\n",
       "Voorts is zij bekend met diabetes mellitus.\n",
       "Anamnese: dyspnoe d'effort, duidelijk aanwezig.\n",
       "Onbelaste voorgeschiedenis voor <mark style='background-color: #fff59d'><text>hartziekten</text></mark>, zij rookt niet.\n",
       "Bespreking: bij patiente blijkt sprake te zijn van een boezemflutter, waarschijnlijk op basis van haar pulmonale hypertensie.\n",
       "Bij controle bleek er wederom sprake te zijn van een sinusritme.\n",
       "<br>"
      ],
      "text/plain": [
       "<IPython.core.display.HTML object>"
      ]
     },
     "metadata": {},
     "output_type": "display_data"
    },
    {
     "name": "stdout",
     "output_type": "stream",
     "text": [
      "Entity: hartziekten (199-210)\n",
      "\n",
      "            entity_id    label    bilstm_cv\n",
      "10936  SP1522_199_210  negated  not negated\n"
     ]
    },
    {
     "data": {
      "text/html": [
       "Reden van verwijzing: familiaire belasting voor coloncarcinoom.\n",
       "Voorgeschiedenis: Migraine.1974 - operatie vagina.\n",
       "Lichen sclerosis.\n",
       "Anamnese: Een broer van patiente zou op 61-jarige leeftijd een gemetastaseerd coloncarcinoom hebben gehad.\n",
       "<mark style='background-color: #fff59d'><text>Intoxicatie</text></mark>: geen.\n",
       "familiaire belasting voor coloncarcinoom.\n",
       "Conclusie: Familiaire belasting voor coloncarcinoom.\n",
       "<br>"
      ],
      "text/plain": [
       "<IPython.core.display.HTML object>"
      ]
     },
     "metadata": {},
     "output_type": "display_data"
    },
    {
     "name": "stdout",
     "output_type": "stream",
     "text": [
      "Entity: Intoxicatie (240-251)\n",
      "\n",
      "            entity_id    label    bilstm_cv\n",
      "10944  SP1523_240_251  negated  not negated\n"
     ]
    },
    {
     "data": {
      "text/html": [
       "<mark style='background-color: #fff59d'><text>cyste</text></mark>.\n",
       "<br>"
      ],
      "text/plain": [
       "<IPython.core.display.HTML object>"
      ]
     },
     "metadata": {},
     "output_type": "display_data"
    },
    {
     "name": "stdout",
     "output_type": "stream",
     "text": [
      "Entity: cyste (0-5)\n",
      "\n",
      "        entity_id    label    bilstm_cv\n",
      "10982  SP1548_0_5  negated  not negated\n"
     ]
    },
    {
     "data": {
      "text/html": [
       "Andere gegeneraliseerde/niet gespecificeerde <mark style='background-color: #fff59d'><text>ziekte</text></mark>, keel-oor ontsteking, broxil gehad, pcm mag gebruikt worden, max dosis niet overschrijden\n",
       "<br>"
      ],
      "text/plain": [
       "<IPython.core.display.HTML object>"
      ]
     },
     "metadata": {},
     "output_type": "display_data"
    },
    {
     "name": "stdout",
     "output_type": "stream",
     "text": [
      "Entity: ziekte (45-51)\n",
      "\n",
      "          entity_id        label bilstm_cv\n",
      "10985  SP1550_45_51  not negated   negated\n"
     ]
    },
    {
     "data": {
      "text/html": [
       "Tijdens de zwangerschap was tussen 22 en 26 weken sprake van een ernstige passagere hydrops.\n",
       "Hoewel de diagnose nooit serologisch bevestigd is, past het klinisch beeld het meeste bij een doorgemaakte Parvovirus infectie.\n",
       "Patiente is inmiddels 36 jaar geworden en denkt na over wel of niet <mark style='background-color: #fff59d'><text>prenatale screening</text></mark> of diagnostiek.\n",
       "Zij weten niet of ze een Down syndroom zwangerschap zouden afbreken en zullen de komende weken gebruiken om zich daarover te beraden.\n",
       "<br>"
      ],
      "text/plain": [
       "<IPython.core.display.HTML object>"
      ]
     },
     "metadata": {},
     "output_type": "display_data"
    },
    {
     "name": "stdout",
     "output_type": "stream",
     "text": [
      "Entity: prenatale screening (289-308)\n",
      "\n",
      "            entity_id        label bilstm_cv\n",
      "11001  SP1556_289_308  not negated   negated\n"
     ]
    },
    {
     "data": {
      "text/html": [
       "Patiente heeft geen cystitis gehad, evenmin is er sprake van een enige <mark style='background-color: #fff59d'><text>dyspareunie</text></mark>.\n",
       "<br>"
      ],
      "text/plain": [
       "<IPython.core.display.HTML object>"
      ]
     },
     "metadata": {},
     "output_type": "display_data"
    },
    {
     "name": "stdout",
     "output_type": "stream",
     "text": [
      "Entity: dyspareunie (71-82)\n",
      "\n",
      "          entity_id    label    bilstm_cv\n",
      "11031  SP1567_71_82  negated  not negated\n"
     ]
    },
    {
     "data": {
      "text/html": [
       "/ <mark style='background-color: #fff59d'><text>Hydronefrose</text></mark>, cholelithiasis?\n",
       "Galblaas en galwegen geen / bijzonderheden, geen cholelithiasis.\n",
       "<br>"
      ],
      "text/plain": [
       "<IPython.core.display.HTML object>"
      ]
     },
     "metadata": {},
     "output_type": "display_data"
    },
    {
     "name": "stdout",
     "output_type": "stream",
     "text": [
      "Entity: Hydronefrose (2-14)\n",
      "\n",
      "         entity_id        label bilstm_cv\n",
      "11092  SP1593_2_14  not negated   negated\n"
     ]
    },
    {
     "data": {
      "text/html": [
       "Reden van komst Verdenking obstipatie.\n",
       "Anamnese Volgens de ouders klaagt patiente veel over buikpijn.\n",
       "Aangezien haar oudere zus dezelfde klachten had op basis van obstipatie is bij patiente gestart met Forlax.\n",
       "Twee zakjes gaf diarree, terwijl zij bij een zakje buikpijn had.\n",
       "Sinds drie weken klaagt patiente niet meer over <mark style='background-color: #fff59d'><text>buikpijn</text></mark>.\n",
       "De ontlasting wisselt nog wel tussen diarree en kleine keutels.\n",
       "De oudste zus is bekend met obstipatie waarvoor klysmata en Forlax.\n",
       "In het hoofd-halsgebied geen tekenen van anemie of lymfadenopathie.\n",
       "De buik was soepel zonder hepatosplenomegalie met in de linkeronderbuik scybala palpabel.\n",
       "Op het buikoverzicht, wat door de huisarts is gemaakt, is coprostase zichtbaar.\n",
       "Aan de ouders werd uitgelegd dat diarree heel goed kan passen bij obstipatie en dat het belangrijk is om het colon te reinigen door middel van klysmata.\n",
       "Conclusie Obstipatie waarvoor driemaal Klyx en Forlax.\n",
       "<br>"
      ],
      "text/plain": [
       "<IPython.core.display.HTML object>"
      ]
     },
     "metadata": {},
     "output_type": "display_data"
    },
    {
     "name": "stdout",
     "output_type": "stream",
     "text": [
      "Entity: buikpijn (323-331)\n",
      "\n",
      "            entity_id    label    bilstm_cv\n",
      "11100  SP1594_323_331  negated  not negated\n"
     ]
    },
    {
     "data": {
      "text/html": [
       "#Name#s, XXXXXXXXXXXXXXXXXX en wonende#Street#, #Postcode# #City# is gezien op de polikliniek Metabole Ziekten ter nadere analyse van onbegrepen spierkrampen en rabdomyolyse.\n",
       "Voorgeschiedenis:2002: totale heupprothese rechts.2009, november: opname #Name# in verband met rabdomyolyse e.c.i., na behandeling restloos herstel.\n",
       "Anamnese: Patient vertelt gedurende de kinderleeftijd tot een jaar of 18 al krampen te hebben gehad, met name in de bil.\n",
       "Hij spint momenteel bijna dagelijks waarbij hij nu sinds vijf jaar twee keer per jaar de betreffende kramp heeft.\n",
       "De krampen ontstaan aan het begin van het sporten, zijn erg pijnlijk en duren ongeveer 5 minuten.\n",
       "Ook ditmaal was er geen luxerende moment zoals <mark style='background-color: #fff59d'><text>koorts</text></mark> of een infectie.\n",
       "De klachten hielden echter langere tijd aan waarna er bij laboratoriumcontrole sprake bleek te zijn van een forse rabdomyolyse.\n",
       "Lichamelijk onderzoek: Een niet-zieke, forse, gespierde man met abdominale adipositas.\n",
       "Bespreking: Deze 54-jarige man wordt doorverwezen ter nadere analyse van recidiverende spierklachten en een episode van rabdomyolyse.\n",
       "Omdat er anamnestisch sprake lijkt te zijn van een zogenaamde \"\"second wind\"\", zou er nog sprake kunnen zijn van een glycogeenstapelingsziekte.\n",
       "<br>"
      ],
      "text/plain": [
       "<IPython.core.display.HTML object>"
      ]
     },
     "metadata": {},
     "output_type": "display_data"
    },
    {
     "name": "stdout",
     "output_type": "stream",
     "text": [
      "Entity: koorts (704-710)\n",
      "\n",
      "            entity_id    label    bilstm_cv\n",
      "11215  SP1625_704_710  negated  not negated\n"
     ]
    },
    {
     "data": {
      "text/html": [
       "Datum anamnese: 01-09-2010 Anamnese: 13082010 pijnloos ulcus glans penis 3 wk, heeft wisselende sexuale contacten iha veilig1308201018082010 tel: opnieuw chlamydia: als plekje blijft> retour30082010 tel:plekje penis neemt toe, nu ook zoiets in linker oksel en witte plekjes op de tong?>>c01092010\n",
       "geindureerde afwijking glans en li oksel, daaarnaast witte afwijking op de tong, 3 lasesies scherp begrensd, niet verheven, pijnloos VG: melanoom; controle bij XXXX #Name# <mark style='background-color: #fff59d'><text>Atopie</text></mark>: nee Duur van de klachten: > 1 maand Symptomen: Pijn : nee Branderig : nee Jeuk : nee Localisatie: 1 oksel 2. tong 3.\n",
       "Medicatie: 18082010 AZITROMYCINE TABLET OMHULD 500MG (2-WATER) 21D2T Werkdiagnose: 01092010 dd lymphogranuloma venereum?\n",
       "Vraagstelling: half augustus pijnloos ulcus glans penis; chlamydia PCR posiief, Lues, HIV serologie negatief.\n",
       "zie glanzende rand, suspekt voor basaalcelcarcinoom.\n",
       "<br>"
      ],
      "text/plain": [
       "<IPython.core.display.HTML object>"
      ]
     },
     "metadata": {},
     "output_type": "display_data"
    },
    {
     "name": "stdout",
     "output_type": "stream",
     "text": [
      "Entity: Atopie (469-475)\n",
      "\n",
      "            entity_id    label    bilstm_cv\n",
      "11224  SP1627_469_475  negated  not negated\n"
     ]
    },
    {
     "data": {
      "text/html": [
       "-------------------------------------------------------------------Datum: 26-aug-2007 19:04 Oproepnummer: #LongNumber# Soort contact: Consult Urgentie: U4 Routine--------------------------------------------------------------------Klacht/hulpvraag: Klachten: Zie voorgaande oproep; arm zwelt op, vingers worden dikker, krijgt koorts, nu boven de 38........\n",
       "Opmerkingen: Oproepen die zijn ontvangen en afgehandeld in de afgelopen 72 uur:Advies !#LongNumber# op 24-aug-07 19:44:26--------------------------------------------------------------------Bevindingen Subjectief sinds 2 dgn ppijnlijke re arm, sinds gisteren dikker en aanhoudende koorts, sinds ongeveer een week Objectief verder niet ziek, niet verkouden/<mark style='background-color: #fff59d'><text>keelpijn</text></mark>/hoesten; mictie gb; re arm wel dikker dan li; wat kattenkrabben, geen roodheid; Evaluatie: onduidlijke klachten, geen focus voor de koorts; kattenkrabziekte???(toxoplasmose?CMV???????)\n",
       "Evaluatie onduidlijke klachten, geen focus voor de koorts; kattenkrabziekte???(toxoplasmose?CMV???????)\n",
       "<br>"
      ],
      "text/plain": [
       "<IPython.core.display.HTML object>"
      ]
     },
     "metadata": {},
     "output_type": "display_data"
    },
    {
     "name": "stdout",
     "output_type": "stream",
     "text": [
      "Entity: keelpijn (711-719)\n",
      "\n",
      "            entity_id    label    bilstm_cv\n",
      "11276  SP1649_711_719  negated  not negated\n"
     ]
    },
    {
     "data": {
      "text/html": [
       "-------------------------------------------------------------------Datum: 26-aug-2007 19:04 Oproepnummer: #LongNumber# Soort contact: Consult Urgentie: U4 Routine--------------------------------------------------------------------Klacht/hulpvraag: Klachten: Zie voorgaande oproep; arm zwelt op, vingers worden dikker, krijgt koorts, nu boven de 38........\n",
       "Opmerkingen: Oproepen die zijn ontvangen en afgehandeld in de afgelopen 72 uur:Advies !#LongNumber# op 24-aug-07 19:44:26--------------------------------------------------------------------Bevindingen Subjectief sinds 2 dgn ppijnlijke re arm, sinds gisteren dikker en aanhoudende koorts, sinds ongeveer een week Objectief verder niet ziek, niet verkouden/keelpijn/<mark style='background-color: #fff59d'><text>hoesten</text></mark>; mictie gb; re arm wel dikker dan li; wat kattenkrabben, geen roodheid; Evaluatie: onduidlijke klachten, geen focus voor de koorts; kattenkrabziekte???(toxoplasmose?CMV???????)\n",
       "Evaluatie onduidlijke klachten, geen focus voor de koorts; kattenkrabziekte???(toxoplasmose?CMV???????)\n",
       "<br>"
      ],
      "text/plain": [
       "<IPython.core.display.HTML object>"
      ]
     },
     "metadata": {},
     "output_type": "display_data"
    },
    {
     "name": "stdout",
     "output_type": "stream",
     "text": [
      "Entity: hoesten (720-727)\n",
      "\n",
      "            entity_id    label    bilstm_cv\n",
      "11277  SP1649_720_727  negated  not negated\n"
     ]
    },
    {
     "data": {
      "text/html": [
       "Anamnese: Een 30-jarige vrouw, gravida 4, para 1, abortus 2, bij wie de datum laatste menstruatie 24-12-2009 is.\n",
       "Speciele Anamnese: aanvankelijk dacht pate dat een miskraam zou krijgen er blijkt een intacte zwangerschap , eenling aanwezig a terme 30-09-10 st na subtotaalruptuur vorige partus G4P1, 2x sp abortus, vit D def Gynaecologisch onderzoek: Uterus cf ad Rr 110/70 Gew 60 kg L 170 Laboratoriumonderzoek: <mark style='background-color: #fff59d'><text>Hepatitis B</text></mark>: Negatief.\n",
       "Rubella: Positief.\n",
       "Bij een amenorroe duur van 7W1D.\n",
       "<br>"
      ],
      "text/plain": [
       "<IPython.core.display.HTML object>"
      ]
     },
     "metadata": {},
     "output_type": "display_data"
    },
    {
     "name": "stdout",
     "output_type": "stream",
     "text": [
      "Entity: Hepatitis B (412-423)\n",
      "\n",
      "            entity_id    label    bilstm_cv\n",
      "11307  SP1654_412_423  negated  not negated\n"
     ]
    },
    {
     "data": {
      "text/html": [
       "Dit laatse is geen optie gezien zeer gemakkelijk zonnebrand.\n",
       "Geen syncope.\n",
       "Risicoprofiel: Roken nauwelijks, Bloeddruk neg, Cholesterol neg, <mark style='background-color: #fff59d'><text>Diabetes</text></mark> neg.\n",
       "Hij komt in aanmerking voor een ablatieve behandeling van AF. Bij deze patient met long lasting persisterend AF is een uitgebreide ablatie nodig met longvene isolatie, septumlijnen en bijkomende lijnen in de linker boezem (PVAC-MASC-MAAC).\n",
       "<br>"
      ],
      "text/plain": [
       "<IPython.core.display.HTML object>"
      ]
     },
     "metadata": {},
     "output_type": "display_data"
    },
    {
     "name": "stdout",
     "output_type": "stream",
     "text": [
      "Entity: Diabetes (140-148)\n",
      "\n",
      "            entity_id    label    bilstm_cv\n",
      "11424  SP1697_140_148  negated  not negated\n"
     ]
    },
    {
     "data": {
      "text/html": [
       "elektronische verwerking cc: Bevolkingsonderzoek op <mark style='background-color: #fff59d'><text>Borstkanker</text></mark>, Antwoordnummer #LongNumber#, #Postcode##City#\n",
       "<br>"
      ],
      "text/plain": [
       "<IPython.core.display.HTML object>"
      ]
     },
     "metadata": {},
     "output_type": "display_data"
    },
    {
     "name": "stdout",
     "output_type": "stream",
     "text": [
      "Entity: Borstkanker (52-63)\n",
      "\n",
      "          entity_id        label bilstm_cv\n",
      "11509  SP1741_52_63  not negated   negated\n"
     ]
    },
    {
     "data": {
      "text/html": [
       "Car [O]#Name#: nauwelijks of geen angineuze klachten na doorgemaakt <mark style='background-color: #fff59d'><text>infarct</text></mark> 20 jaar geleden, geen AP danwel decompensatie klachten\n",
       "<br>"
      ],
      "text/plain": [
       "<IPython.core.display.HTML object>"
      ]
     },
     "metadata": {},
     "output_type": "display_data"
    },
    {
     "name": "stdout",
     "output_type": "stream",
     "text": [
      "Entity: infarct (68-75)\n",
      "\n",
      "          entity_id        label bilstm_cv\n",
      "11632  SP1770_68_75  not negated   negated\n"
     ]
    },
    {
     "data": {
      "text/html": [
       "De <mark style='background-color: #fff59d'><text>diarree</text></mark> was in ieder geval volledig verdwenen.\n",
       "Deze was negatief voor de groei van Salmonella.\n",
       "<br>"
      ],
      "text/plain": [
       "<IPython.core.display.HTML object>"
      ]
     },
     "metadata": {},
     "output_type": "display_data"
    },
    {
     "name": "stdout",
     "output_type": "stream",
     "text": [
      "Entity: diarree (3-10)\n",
      "\n",
      "         entity_id    label    bilstm_cv\n",
      "11638  SP1774_3_10  negated  not negated\n"
     ]
    },
    {
     "data": {
      "text/html": [
       "De diarree was in ieder geval volledig verdwenen.\n",
       "Deze was negatief voor de groei van <mark style='background-color: #fff59d'><text>Salmonella</text></mark>.\n",
       "<br>"
      ],
      "text/plain": [
       "<IPython.core.display.HTML object>"
      ]
     },
     "metadata": {},
     "output_type": "display_data"
    },
    {
     "name": "stdout",
     "output_type": "stream",
     "text": [
      "Entity: Salmonella (86-96)\n",
      "\n",
      "          entity_id    label    bilstm_cv\n",
      "11639  SP1774_86_96  negated  not negated\n"
     ]
    },
    {
     "data": {
      "text/html": [
       "coronair lijden.\n",
       "S/4169 DIA/CAR] Opname 4/10-9/10 S/4169 Pijn op de borst, zonder nieuwe aanwijS/4169 zingen voor <mark style='background-color: #fff59d'><text>coronairlijden</text></mark>.\n",
       "<br>"
      ],
      "text/plain": [
       "<IPython.core.display.HTML object>"
      ]
     },
     "metadata": {},
     "output_type": "display_data"
    },
    {
     "name": "stdout",
     "output_type": "stream",
     "text": [
      "Entity: coronairlijden (114-128)\n",
      "\n",
      "            entity_id        label bilstm_cv\n",
      "11654  SP1782_114_128  not negated   negated\n"
     ]
    },
    {
     "data": {
      "text/html": [
       "Betreft: Neu [O]#Name#:Vermoeidheidsklachten zonder aanwyzin gen voor een myopathie of een #Name# Eaton Myastheen <mark style='background-color: #fff59d'><text>Syndroom</text></mark> by aanvullend onderzoek.\n",
       "<br>"
      ],
      "text/plain": [
       "<IPython.core.display.HTML object>"
      ]
     },
     "metadata": {},
     "output_type": "display_data"
    },
    {
     "name": "stdout",
     "output_type": "stream",
     "text": [
      "Entity: Syndroom (114-122)\n",
      "\n",
      "            entity_id    label    bilstm_cv\n",
      "11658  SP1784_114_122  negated  not negated\n"
     ]
    },
    {
     "data": {
      "text/html": [
       "VOD=0,05, geen duidelijke verklaring voor <mark style='background-color: #fff59d'><text>verminderde visus</text></mark>.\n",
       "<br>"
      ],
      "text/plain": [
       "<IPython.core.display.HTML object>"
      ]
     },
     "metadata": {},
     "output_type": "display_data"
    },
    {
     "name": "stdout",
     "output_type": "stream",
     "text": [
      "Entity: verminderde visus (42-59)\n",
      "\n",
      "          entity_id        label bilstm_cv\n",
      "11701  SP1796_42_59  not negated   negated\n"
     ]
    },
    {
     "data": {
      "text/html": [
       "Voorgeschiedenis: orchidopexie rechts in 1991 in verband met <mark style='background-color: #fff59d'><text>niet ingedaalde testis</text></mark>.\n",
       "Allergie: geen.\n",
       "<br>"
      ],
      "text/plain": [
       "<IPython.core.display.HTML object>"
      ]
     },
     "metadata": {},
     "output_type": "display_data"
    },
    {
     "name": "stdout",
     "output_type": "stream",
     "text": [
      "Entity: niet ingedaalde testis (61-83)\n",
      "\n",
      "          entity_id        label bilstm_cv\n",
      "11724  SP1809_61_83  not negated   negated\n"
     ]
    },
    {
     "data": {
      "text/html": [
       "<mark style='background-color: #fff59d'><text>Hartfalen</text></mark> niet waarschijnlijk\n",
       "<br>"
      ],
      "text/plain": [
       "<IPython.core.display.HTML object>"
      ]
     },
     "metadata": {},
     "output_type": "display_data"
    },
    {
     "name": "stdout",
     "output_type": "stream",
     "text": [
      "Entity: Hartfalen (0-9)\n",
      "\n",
      "        entity_id    label    bilstm_cv\n",
      "11779  SP1834_0_9  negated  not negated\n"
     ]
    },
    {
     "data": {
      "text/html": [
       "Diagnose: DD/ Peuterdiarree, G.\n",
       "Lamblia, coeliakie, KMEallergie, lactose intolerantie.\n",
       "Interval anamnese: kattenallergie(mild) PCR faeces parasieten: neg; <mark style='background-color: #fff59d'><text>coeliakie</text></mark> negatief.\n",
       "Weinig klachten meer, diarree wisselt, groei goed, alle lab goed, D/ peuterdiarree.\n",
       "<br>"
      ],
      "text/plain": [
       "<IPython.core.display.HTML object>"
      ]
     },
     "metadata": {},
     "output_type": "display_data"
    },
    {
     "name": "stdout",
     "output_type": "stream",
     "text": [
      "Entity: coeliakie (155-164)\n",
      "\n",
      "            entity_id    label    bilstm_cv\n",
      "11831  SP1856_155_164  negated  not negated\n"
     ]
    },
    {
     "data": {
      "text/html": [
       "Rede van opname: collaps met enkele minuten buitenbewustzijn Voorgeschiedenis: blanco Cardiale risicofactoren: Roken++.\n",
       "FA- (geen plotselinge dood).\n",
       "Op het veld plotseling duizeligheidsklachten met kortdurend bewustzijnsverlies.\n",
       "Geen trekkingen, geen incontinentie, geen tongbeet.\n",
       "Geen pijn op de borst klachten of vegetatieve verschijnselen gehad.\n",
       "Geen ritme geleidingsstoornissen.\n",
       "Bespreking: Bovengenoemde 37 jarige man werd kortdurend opgenome in verband met een collaps, vooraf gegaan door duizeligheidsklachten.\n",
       "De collaps vond plaats tijdens inspanning, na een intensieve voetbalwedstrijd waarvoor de man slechts 1 ontbijtkoek gegeten had.\n",
       "In de familie anmanese was geen sprake van sudden death of andere hart en <mark style='background-color: #fff59d'><text>vaatziekten</text></mark>.\n",
       "Differentiaal diagnostisch werd gedacht aan ARVC, Brugada, HOCM(hypertrofische obstructieve cardiomyopathie), ischaemie danwel arrythmogene rechterkamer dysplasie.\n",
       "De collaps lijkt dien overeenkomstig niet op basis van een cardiale oorzaak te zijn geweest en zou goed bij een tijdelijke hypoglykaemie door te weinig intake hebben kunnen passen.\n",
       "Conclusie: collaps waarvoor geen cardiologische oorzaak gevonden werd.\n",
       "<br>"
      ],
      "text/plain": [
       "<IPython.core.display.HTML object>"
      ]
     },
     "metadata": {},
     "output_type": "display_data"
    },
    {
     "name": "stdout",
     "output_type": "stream",
     "text": [
      "Entity: vaatziekten (721-732)\n",
      "\n",
      "            entity_id    label    bilstm_cv\n",
      "11878  SP1880_721_732  negated  not negated\n"
     ]
    },
    {
     "data": {
      "text/html": [
       "Reden van bezoek: Analyse auto-immuunziekte bij COP.\n",
       "Voorgeschiedenis:(2004) Erysipelasbeeld rechter enkel wv floxapen., -; (-) voet- en knie-operaties jaren geleden, -; (Sinds jan 2008) langzaam progressieve kortademigheid waarvoor opname in het #Hospital# in mei 2008 met aansluitend overplaatsing naar het #Hospital#,-; (26-05-2008) Op VATS rechts pro diagnosi met biopt rechter bovenkwab en rechter onderkwab waarin histologisch het beeld past bij organiserende pneumonie en deels bij een meer actief ontstekingsproces, 24: Geen aanwijzingen voor oorzakelijk myco-organismen.\n",
       "Anamnese: Patiente heeft sinds juni 2008 de diagnose COP gekregen.\n",
       "Voor de longaandoening was zij gezond.\n",
       "<mark style='background-color: #fff59d'><text>Ochtendstijfheid</text></mark>: nee Nachtelijke rugpijn: nee Sicca: niet Raynaud: nee UV overgevoeligheid: nee, Wel zonne-allergie.\n",
       "Oogontsteking: nee Huid/nagel afwijkingen:nee Huidige medicatie: Zuurstof 1,5 liter/minuut, bij inspanning 3-4 liter.\n",
       "#Name#,Internist - Reumatoloog Edifact bericht verstuurd vanuit secretariaat Interne/MDL/Reumatologie Met vriendelijke groet,#Name#, secretaresse Interne/MDL/Reumatologie#Hospital#, locatie #City# Artsen bereikbaar via: Poli hematologie/oncologie: #TelephoneNumber# Poli interne/nierziekten: #TelephoneNumber# Poli reumatologie: #TelephoneNumber# Poli MDL: #TelephoneNumber#\n",
       "<br>"
      ],
      "text/plain": [
       "<IPython.core.display.HTML object>"
      ]
     },
     "metadata": {},
     "output_type": "display_data"
    },
    {
     "name": "stdout",
     "output_type": "stream",
     "text": [
      "Entity: Ochtendstijfheid (686-702)\n",
      "\n",
      "            entity_id    label    bilstm_cv\n",
      "11923  SP1893_686_702  negated  not negated\n"
     ]
    },
    {
     "data": {
      "text/html": [
       "Reden van bezoek: Analyse auto-immuunziekte bij COP.\n",
       "Voorgeschiedenis:(2004) Erysipelasbeeld rechter enkel wv floxapen., -; (-) voet- en knie-operaties jaren geleden, -; (Sinds jan 2008) langzaam progressieve kortademigheid waarvoor opname in het #Hospital# in mei 2008 met aansluitend overplaatsing naar het #Hospital#,-; (26-05-2008) Op VATS rechts pro diagnosi met biopt rechter bovenkwab en rechter onderkwab waarin histologisch het beeld past bij organiserende pneumonie en deels bij een meer actief ontstekingsproces, 24: Geen aanwijzingen voor oorzakelijk myco-organismen.\n",
       "Anamnese: Patiente heeft sinds juni 2008 de diagnose COP gekregen.\n",
       "Voor de longaandoening was zij gezond.\n",
       "Ochtendstijfheid: nee Nachtelijke <mark style='background-color: #fff59d'><text>rugpijn</text></mark>: nee Sicca: niet Raynaud: nee UV overgevoeligheid: nee, Wel zonne-allergie.\n",
       "Oogontsteking: nee Huid/nagel afwijkingen:nee Huidige medicatie: Zuurstof 1,5 liter/minuut, bij inspanning 3-4 liter.\n",
       "#Name#,Internist - Reumatoloog Edifact bericht verstuurd vanuit secretariaat Interne/MDL/Reumatologie Met vriendelijke groet,#Name#, secretaresse Interne/MDL/Reumatologie#Hospital#, locatie #City# Artsen bereikbaar via: Poli hematologie/oncologie: #TelephoneNumber# Poli interne/nierziekten: #TelephoneNumber# Poli reumatologie: #TelephoneNumber# Poli MDL: #TelephoneNumber#\n",
       "<br>"
      ],
      "text/plain": [
       "<IPython.core.display.HTML object>"
      ]
     },
     "metadata": {},
     "output_type": "display_data"
    },
    {
     "name": "stdout",
     "output_type": "stream",
     "text": [
      "Entity: rugpijn (720-727)\n",
      "\n",
      "            entity_id    label    bilstm_cv\n",
      "11924  SP1893_720_727  negated  not negated\n"
     ]
    },
    {
     "data": {
      "text/html": [
       "Reden van bezoek: Analyse auto-immuunziekte bij COP.\n",
       "Voorgeschiedenis:(2004) Erysipelasbeeld rechter enkel wv floxapen., -; (-) voet- en knie-operaties jaren geleden, -; (Sinds jan 2008) langzaam progressieve kortademigheid waarvoor opname in het #Hospital# in mei 2008 met aansluitend overplaatsing naar het #Hospital#,-; (26-05-2008) Op VATS rechts pro diagnosi met biopt rechter bovenkwab en rechter onderkwab waarin histologisch het beeld past bij organiserende pneumonie en deels bij een meer actief ontstekingsproces, 24: Geen aanwijzingen voor oorzakelijk myco-organismen.\n",
       "Anamnese: Patiente heeft sinds juni 2008 de diagnose COP gekregen.\n",
       "Voor de longaandoening was zij gezond.\n",
       "Ochtendstijfheid: nee Nachtelijke rugpijn: nee Sicca: niet Raynaud: nee UV overgevoeligheid: nee, Wel zonne-allergie.\n",
       "<mark style='background-color: #fff59d'><text>Oogontsteking</text></mark>: nee Huid/nagel afwijkingen:nee Huidige medicatie: Zuurstof 1,5 liter/minuut, bij inspanning 3-4 liter.\n",
       "#Name#,Internist - Reumatoloog Edifact bericht verstuurd vanuit secretariaat Interne/MDL/Reumatologie Met vriendelijke groet,#Name#, secretaresse Interne/MDL/Reumatologie#Hospital#, locatie #City# Artsen bereikbaar via: Poli hematologie/oncologie: #TelephoneNumber# Poli interne/nierziekten: #TelephoneNumber# Poli reumatologie: #TelephoneNumber# Poli MDL: #TelephoneNumber#\n",
       "<br>"
      ],
      "text/plain": [
       "<IPython.core.display.HTML object>"
      ]
     },
     "metadata": {},
     "output_type": "display_data"
    },
    {
     "name": "stdout",
     "output_type": "stream",
     "text": [
      "Entity: Oogontsteking (804-817)\n",
      "\n",
      "            entity_id    label    bilstm_cv\n",
      "11927  SP1893_804_817  negated  not negated\n"
     ]
    },
    {
     "data": {
      "text/html": [
       "Lab [O] <mark style='background-color: #fff59d'><text>REUMA</text></mark>: IgM 2(negatief) IgA 1(negatief)\n",
       "<br>"
      ],
      "text/plain": [
       "<IPython.core.display.HTML object>"
      ]
     },
     "metadata": {},
     "output_type": "display_data"
    },
    {
     "name": "stdout",
     "output_type": "stream",
     "text": [
      "Entity: REUMA (8-13)\n",
      "\n",
      "         entity_id    label    bilstm_cv\n",
      "11929  SP1894_8_13  negated  not negated\n"
     ]
    },
    {
     "data": {
      "text/html": [
       "Int [O] #Name#: Leverfunctiestoornissen, <mark style='background-color: #fff59d'><text>Hepatitis B</text></mark> en C negatief evenals CMV.\n",
       "<br>"
      ],
      "text/plain": [
       "<IPython.core.display.HTML object>"
      ]
     },
     "metadata": {},
     "output_type": "display_data"
    },
    {
     "name": "stdout",
     "output_type": "stream",
     "text": [
      "Entity: Hepatitis B (41-52)\n",
      "\n",
      "          entity_id    label    bilstm_cv\n",
      "11940  SP1901_41_52  negated  not negated\n"
     ]
    },
    {
     "data": {
      "text/html": [
       "Heeft sinds vandaag opnieuw pijn in de onderrug,trekt naar de buik en benen.\n",
       "Zweten:+ Heeft afgelopen maand(sept) 3 kr een UWI gehad, waarvan 1 kr een nierbekkenontst.\n",
       "voor stemmingswisselingen.\n",
       "Geen allergie voor een ab-kuur.\n",
       "gb diffuus drukpijnlijk geen defense Evaluatie: rugpijn ssstralend over de buik.Onvoldoende aanwijzingen nu voor <mark style='background-color: #fff59d'><text>pyelonefritis</text></mark> Evaluatie rugpijn ssstralend over de buik.Onvoldoende aanwijzingen nu voor pyelonefritis Plan Gezien zweten en pijn onderrug: door naar HA hap.\n",
       "<br>"
      ],
      "text/plain": [
       "<IPython.core.display.HTML object>"
      ]
     },
     "metadata": {},
     "output_type": "display_data"
    },
    {
     "name": "stdout",
     "output_type": "stream",
     "text": [
      "Entity: pyelonefritis (340-353)\n",
      "\n",
      "            entity_id    label    bilstm_cv\n",
      "11977  SP1914_340_353  negated  not negated\n"
     ]
    },
    {
     "data": {
      "text/html": [
       "Heeft sinds vandaag opnieuw pijn in de onderrug,trekt naar de buik en benen.\n",
       "Zweten:+ Heeft afgelopen maand(sept) 3 kr een UWI gehad, waarvan 1 kr een nierbekkenontst.\n",
       "voor stemmingswisselingen.\n",
       "Geen allergie voor een ab-kuur.\n",
       "gb diffuus drukpijnlijk geen defense Evaluatie: rugpijn ssstralend over de buik.Onvoldoende aanwijzingen nu voor pyelonefritis Evaluatie rugpijn ssstralend over de buik.Onvoldoende aanwijzingen nu voor <mark style='background-color: #fff59d'><text>pyelonefritis</text></mark> Plan Gezien zweten en pijn onderrug: door naar HA hap.\n",
       "<br>"
      ],
      "text/plain": [
       "<IPython.core.display.HTML object>"
      ]
     },
     "metadata": {},
     "output_type": "display_data"
    },
    {
     "name": "stdout",
     "output_type": "stream",
     "text": [
      "Entity: pyelonefritis (429-442)\n",
      "\n",
      "            entity_id    label    bilstm_cv\n",
      "11979  SP1914_429_442  negated  not negated\n"
     ]
    },
    {
     "data": {
      "text/html": [
       "Algemene voorgeschiedenis:2003 myocard infarct waarvoor dotteren en stentplaatsing.\n",
       "Patient was verder niet ziek, wel veel stress aanwezig.\n",
       "Patient heeft nooit last van hyperacusis of van vervorming van het waargenomen geluid van buiten.\n",
       "Medicatie: Huidige medicatie: Lipitor 1 dd 20 mg, Acetylsalicylzuur 1 dd 40 mg, Selokeen heeft hij sinds zijn hartinfarct gebruikt tot 3 maanden geleden, dit gestaakt omdat in de bijsluiter vermeld werd, dit heeft echter geen verbetering opgeleverd.\n",
       "Hij gebruikt Omeprazol 1 dd 20 mg vanwege een maagbloeding onder Ascal gebruik.\n",
       "Hij heeft verder nooit medicijnen gebruikt die de tinnitus beinvloeden.\n",
       "Geen clonus objectiveerbaar, geen bijzonderheden aan gewricht.\n",
       "Tinnitus anamnese: Tinnituskarakter: de tinnitus bestaat uit 1 geluid, links waargenomen.\n",
       "De tinnitus is continu aanwezig en heeft het karakter van een hoge zoemtoon.\n",
       "De tinnitus valt 60% van de tijd dat patient wakker is op en geeft gedurende 30% van de tijd dat patient wakker is hinder.\n",
       "De tinnitus geeft dagelijks slaapproblemen, nooit concentratieproblemen en heeft nooit een negatieve invloed op het humeur van patient.\n",
       "De tinnitus heeft ook geen invloed op het sociale leven van patient en op het functioneren op het werk.\n",
       "Factoren met relatie tot de tinnitus: de aanwezigheid van achtergrondgeluiden, ook luide geluiden, hebben geen effect op de tinnitus behalve muziek, dit heeft een verminderend effect.\n",
       "Activatie van de spieren in en aan het hoofd hebben vrijwel geen invloed op de tinnitus.\n",
       "Wel heeft het klemmen van de kaken op elkaar, met name links een toonhoogte sturend effect op de tinnitus.\n",
       "Van de genotsmiddelen wordt alleen caffeine gebruikt, overigens zonder effect op de tinnitus.\n",
       "Mentale of emotionele stress heeft geen effect op de tinnitus.\n",
       "Lichamelijke inspanning heeft een verergerend effect op de tinnitus.\n",
       "Lezen verhoogt de hinder van de tinnitus.\n",
       "Eerdere behandeling voor de <mark style='background-color: #fff59d'><text>tinnitus</text></mark>: er werden geen behandelingen met een hoortoestel of maskeertoestel ingesteld.\n",
       "Toonaudiometrie: AD heeft een gehoorverlies van perceptieve aard met een lawaaidip karakter en een gemiddelde omvang (1, 2, 4 kHz) van 27dB.\n",
       "AS heeft een gehoorverlies van perceptieve aard, met een lawaaidip karakter en een gemiddelde omvang (1, 2, 4 kHz) van 23 dB.\n",
       "Geen aanwijzingen voor een recente of een in het verleden doorgemaakte infectie met HSV, VZV, CMV, EBV.\n",
       "Recente infectie met HSV, VZV, CMV, EBV.\n",
       "Syfilis serologie negatief/positief, b.\n",
       "Tinnitus vragenlijsten TQ: totaalscore van ../84, waarbij ..% op de subschaal emotionele en cognitieve stress, ..% op indringend karakter, ..% op gehoorproblemen, ..% op slaapproblemen en ..% op somatische klachten.\n",
       "tinnitus).\n",
       "Adviezen t.a.v. de tinnitus zullen in een eenmalig protocollair psychosociaal consult worden verstrekt door collega #Name#, psycholoog of collega #Name#, maatschappelijk werker.2.\n",
       "Nabehandeling: De directe nabehandeling ter attentie van de tinnitus zal als bovengenoemd worden uitgevoerd.\n",
       "<br>"
      ],
      "text/plain": [
       "<IPython.core.display.HTML object>"
      ]
     },
     "metadata": {},
     "output_type": "display_data"
    },
    {
     "name": "stdout",
     "output_type": "stream",
     "text": [
      "Entity: tinnitus (1909-1917)\n",
      "\n",
      "              entity_id        label bilstm_cv\n",
      "12056  SP1940_1909_1917  not negated   negated\n"
     ]
    },
    {
     "data": {
      "text/html": [
       "Algemene voorgeschiedenis:2003 myocard infarct waarvoor dotteren en stentplaatsing.\n",
       "Patient was verder niet ziek, wel veel stress aanwezig.\n",
       "Patient heeft nooit last van hyperacusis of van vervorming van het waargenomen geluid van buiten.\n",
       "Medicatie: Huidige medicatie: Lipitor 1 dd 20 mg, Acetylsalicylzuur 1 dd 40 mg, Selokeen heeft hij sinds zijn hartinfarct gebruikt tot 3 maanden geleden, dit gestaakt omdat in de bijsluiter vermeld werd, dit heeft echter geen verbetering opgeleverd.\n",
       "Hij gebruikt Omeprazol 1 dd 20 mg vanwege een maagbloeding onder Ascal gebruik.\n",
       "Hij heeft verder nooit medicijnen gebruikt die de tinnitus beinvloeden.\n",
       "Geen clonus objectiveerbaar, geen bijzonderheden aan gewricht.\n",
       "Tinnitus anamnese: Tinnituskarakter: de tinnitus bestaat uit 1 geluid, links waargenomen.\n",
       "De tinnitus is continu aanwezig en heeft het karakter van een hoge zoemtoon.\n",
       "De tinnitus valt 60% van de tijd dat patient wakker is op en geeft gedurende 30% van de tijd dat patient wakker is hinder.\n",
       "De tinnitus geeft dagelijks slaapproblemen, nooit concentratieproblemen en heeft nooit een negatieve invloed op het humeur van patient.\n",
       "De tinnitus heeft ook geen invloed op het sociale leven van patient en op het functioneren op het werk.\n",
       "Factoren met relatie tot de tinnitus: de aanwezigheid van achtergrondgeluiden, ook luide geluiden, hebben geen effect op de tinnitus behalve muziek, dit heeft een verminderend effect.\n",
       "Activatie van de spieren in en aan het hoofd hebben vrijwel geen invloed op de tinnitus.\n",
       "Wel heeft het klemmen van de kaken op elkaar, met name links een toonhoogte sturend effect op de tinnitus.\n",
       "Van de genotsmiddelen wordt alleen caffeine gebruikt, overigens zonder effect op de tinnitus.\n",
       "Mentale of emotionele stress heeft geen effect op de tinnitus.\n",
       "Lichamelijke inspanning heeft een verergerend effect op de tinnitus.\n",
       "Lezen verhoogt de hinder van de tinnitus.\n",
       "Eerdere behandeling voor de tinnitus: er werden geen behandelingen met een hoortoestel of maskeertoestel ingesteld.\n",
       "Toonaudiometrie: AD heeft een gehoorverlies van perceptieve aard met een lawaaidip karakter en een gemiddelde omvang (1, 2, 4 kHz) van 27dB.\n",
       "AS heeft een gehoorverlies van perceptieve aard, met een lawaaidip karakter en een gemiddelde omvang (1, 2, 4 kHz) van 23 dB.\n",
       "Geen aanwijzingen voor een recente of een in het verleden doorgemaakte <mark style='background-color: #fff59d'><text>infectie</text></mark> met HSV, VZV, CMV, EBV.\n",
       "Recente infectie met HSV, VZV, CMV, EBV.\n",
       "Syfilis serologie negatief/positief, b.\n",
       "Tinnitus vragenlijsten TQ: totaalscore van ../84, waarbij ..% op de subschaal emotionele en cognitieve stress, ..% op indringend karakter, ..% op gehoorproblemen, ..% op slaapproblemen en ..% op somatische klachten.\n",
       "tinnitus).\n",
       "Adviezen t.a.v. de tinnitus zullen in een eenmalig protocollair psychosociaal consult worden verstrekt door collega #Name#, psycholoog of collega #Name#, maatschappelijk werker.2.\n",
       "Nabehandeling: De directe nabehandeling ter attentie van de tinnitus zal als bovengenoemd worden uitgevoerd.\n",
       "<br>"
      ],
      "text/plain": [
       "<IPython.core.display.HTML object>"
      ]
     },
     "metadata": {},
     "output_type": "display_data"
    },
    {
     "name": "stdout",
     "output_type": "stream",
     "text": [
      "Entity: infectie (2335-2343)\n",
      "\n",
      "              entity_id    label    bilstm_cv\n",
      "12059  SP1940_2335_2343  negated  not negated\n"
     ]
    },
    {
     "data": {
      "text/html": [
       "cellen aangetroffen O 6 : Geen teken van <mark style='background-color: #fff59d'><text>ontsteking</text></mark> P 1 : Geen afwijkende plaveiselepitheelcellen A 1 : Geen andere afwijkingen C 1 : Geen afwijkingen van endocerv.\n",
       "<br>"
      ],
      "text/plain": [
       "<IPython.core.display.HTML object>"
      ]
     },
     "metadata": {},
     "output_type": "display_data"
    },
    {
     "name": "stdout",
     "output_type": "stream",
     "text": [
      "Entity: ontsteking (41-51)\n",
      "\n",
      "          entity_id        label bilstm_cv\n",
      "12072  SP1944_41_51  not negated   negated\n"
     ]
    },
    {
     "data": {
      "text/html": [
       "<mark style='background-color: #fff59d'><text>INFECTIE</text></mark> SEROLOGIE Materiaal serumpaar 1e serum Epstein Barr virus EBNA as *>600 (positief) <5 U/ml Autorisatie- Uitslag past bij een in het verleden doorgemaakte infectie met Epstein-Barr virus.\n",
       "<br>"
      ],
      "text/plain": [
       "<IPython.core.display.HTML object>"
      ]
     },
     "metadata": {},
     "output_type": "display_data"
    },
    {
     "name": "stdout",
     "output_type": "stream",
     "text": [
      "Entity: INFECTIE (0-8)\n",
      "\n",
      "        entity_id        label bilstm_cv\n",
      "12085  SP1954_0_8  not negated   negated\n"
     ]
    },
    {
     "data": {
      "text/html": [
       "Hospital# -, <mark style='background-color: #fff59d'><text>INFECTIE</text></mark> SEROLOGIE anti-Hepatitis B surface as titer *914.6 (positief) <10.0\n",
       "<br>"
      ],
      "text/plain": [
       "<IPython.core.display.HTML object>"
      ]
     },
     "metadata": {},
     "output_type": "display_data"
    },
    {
     "name": "stdout",
     "output_type": "stream",
     "text": [
      "Entity: INFECTIE (13-21)\n",
      "\n",
      "          entity_id        label bilstm_cv\n",
      "12098  SP1961_13_21  not negated   negated\n"
     ]
    },
    {
     "data": {
      "text/html": [
       "Hospital# -, INFECTIE SEROLOGIE anti-<mark style='background-color: #fff59d'><text>Hepatitis B</text></mark> surface as titer *914.6 (positief) <10.0\n",
       "<br>"
      ],
      "text/plain": [
       "<IPython.core.display.HTML object>"
      ]
     },
     "metadata": {},
     "output_type": "display_data"
    },
    {
     "name": "stdout",
     "output_type": "stream",
     "text": [
      "Entity: Hepatitis B (37-48)\n",
      "\n",
      "          entity_id        label bilstm_cv\n",
      "12099  SP1961_37_48  not negated   negated\n"
     ]
    },
    {
     "data": {
      "text/html": [
       "Re voet <mark style='background-color: #fff59d'><text>zwelling</text></mark> -, haematoom -, asdrukpijn 5e str, drukpijn tub.metatarsale\n",
       "<br>"
      ],
      "text/plain": [
       "<IPython.core.display.HTML object>"
      ]
     },
     "metadata": {},
     "output_type": "display_data"
    },
    {
     "name": "stdout",
     "output_type": "stream",
     "text": [
      "Entity: zwelling (8-16)\n",
      "\n",
      "         entity_id    label    bilstm_cv\n",
      "12100  SP1962_8_16  negated  not negated\n"
     ]
    },
    {
     "data": {
      "text/html": [
       "Reden van opname: koorts zonder duidelijke focus.\n",
       "Medische voorgeschiedenis: 1993 myocardinfarct met Dotter procedure.\n",
       "Breuk in de buikwand.\n",
       "Anamnese: sinds anderhalve week klachten van moeheid en koorts.\n",
       "Hij heeft veel op bed gelegen in verband met niet lekker voelen.\n",
       "Het is begonnen met hoesten met opgeven van wit sputum zonder bloed.\n",
       "Dit hoesten was na een aantal dagen over.\n",
       "De koorts bleef bestaan en gisteren is hij overgegaan op Augmentin.\n",
       "Patient is niet afgevallen, heeft geen last van nachtzweten, maar drinken en eten is de laatste tijd minder in verband met niet lekker voelen.\n",
       "!Tractus circulatorius: geen pijn op de borst, geen hartkloppingen.\n",
       "Lichamelijk onderzoek: matig zieke man met een vermoeid, bleek, grauw uiterlijk.\n",
       "Abdomen: diastase van de buikspieren met zwelling op de buik die goed reponeerbaar is, normale peristaltiek, wisselende tympanie, soepele buik.\n",
       "250 umol/l, natrium 136 mmol/l, kalium 4.7 mmol/l, geen leverenzymstoornissen,m <mark style='background-color: #fff59d'><text>glucose normaal</text></mark>.\n",
       "Urinesediment: geen aanwijzingen voor een urineweginfectie.\n",
       "Bespreking: bovengenoemde 76-jarige patiente werd opgenomen in verband met sinds anderhalve week bestaande koorts zonder duidelijke focus en nierfunctiestoornissen.\n",
       "Gezien er geen sprake was een duidelijke focus van de koorts, werd de Augmentin gestopt en patient heeft tijdens opname geen koorts meer gehad.\n",
       "Differentiaaldiagnostisch werd gedacht aan een virale infectie maar mede gezien de hoge BSE zal patient poliklinisch verder vervolgd worden.\n",
       "Gezien hij geen koorts meer had ontwikkeld en de nierfunctiestoornissen verbeterden na rehydratie, kon patient op07-07-2008 het ziekenhuis in goede conditie verlaten.\n",
       "Ontslagdiagnose(s): Sinds anderhalve week koorts zonder duidelijke focus met een verhoogde BSE, DD virale infectie.\n",
       "<br>"
      ],
      "text/plain": [
       "<IPython.core.display.HTML object>"
      ]
     },
     "metadata": {},
     "output_type": "display_data"
    },
    {
     "name": "stdout",
     "output_type": "stream",
     "text": [
      "Entity: glucose normaal (965-980)\n",
      "\n",
      "            entity_id        label bilstm_cv\n",
      "12124  SP1969_965_980  not negated   negated\n"
     ]
    },
    {
     "data": {
      "text/html": [
       "Reden van opname: koorts zonder duidelijke focus.\n",
       "Medische voorgeschiedenis: 1993 myocardinfarct met Dotter procedure.\n",
       "Breuk in de buikwand.\n",
       "Anamnese: sinds anderhalve week klachten van moeheid en koorts.\n",
       "Hij heeft veel op bed gelegen in verband met niet lekker voelen.\n",
       "Het is begonnen met hoesten met opgeven van wit sputum zonder bloed.\n",
       "Dit hoesten was na een aantal dagen over.\n",
       "De koorts bleef bestaan en gisteren is hij overgegaan op Augmentin.\n",
       "Patient is niet afgevallen, heeft geen last van nachtzweten, maar drinken en eten is de laatste tijd minder in verband met niet lekker voelen.\n",
       "!Tractus circulatorius: geen pijn op de borst, geen hartkloppingen.\n",
       "Lichamelijk onderzoek: matig zieke man met een vermoeid, bleek, grauw uiterlijk.\n",
       "Abdomen: diastase van de buikspieren met zwelling op de buik die goed reponeerbaar is, normale peristaltiek, wisselende tympanie, soepele buik.\n",
       "250 umol/l, natrium 136 mmol/l, kalium 4.7 mmol/l, geen leverenzymstoornissen,m glucose normaal.\n",
       "Urinesediment: geen aanwijzingen voor een urineweginfectie.\n",
       "Bespreking: bovengenoemde 76-jarige patiente werd opgenomen in verband met sinds anderhalve week bestaande koorts zonder duidelijke focus en nierfunctiestoornissen.\n",
       "Gezien er geen sprake was een duidelijke focus van de <mark style='background-color: #fff59d'><text>koorts</text></mark>, werd de Augmentin gestopt en patient heeft tijdens opname geen koorts meer gehad.\n",
       "Differentiaaldiagnostisch werd gedacht aan een virale infectie maar mede gezien de hoge BSE zal patient poliklinisch verder vervolgd worden.\n",
       "Gezien hij geen koorts meer had ontwikkeld en de nierfunctiestoornissen verbeterden na rehydratie, kon patient op07-07-2008 het ziekenhuis in goede conditie verlaten.\n",
       "Ontslagdiagnose(s): Sinds anderhalve week koorts zonder duidelijke focus met een verhoogde BSE, DD virale infectie.\n",
       "<br>"
      ],
      "text/plain": [
       "<IPython.core.display.HTML object>"
      ]
     },
     "metadata": {},
     "output_type": "display_data"
    },
    {
     "name": "stdout",
     "output_type": "stream",
     "text": [
      "Entity: koorts (1261-1267)\n",
      "\n",
      "              entity_id        label bilstm_cv\n",
      "12127  SP1969_1261_1267  not negated   negated\n"
     ]
    },
    {
     "data": {
      "text/html": [
       "Opnamereden: Vileus adenoom coecum en colon ascendens Chirurgische voorgeschiedenis:1996 CABG Conclusie OK:10-02-2011: lap hemicolectomie rechts13-02-2011: re-OK ivm ischemisch stukje omentum en vrij bloed(800cc).\n",
       "Conclusie opname: Hemicolectomie rechts, gecompliceerd door bloeding wv relaparotomie.\n",
       "PA uitslag: 2 tubulovilleuze adenomen: niet hooggradige dysplasie.\n",
       "In 1 adenoom slechts focaal hooggradige dysplasie.\n",
       "Geen maligniteit.2 lymfeklieren zijn <mark style='background-color: #fff59d'><text>tumor</text></mark> vrij.\n",
       "<br>"
      ],
      "text/plain": [
       "<IPython.core.display.HTML object>"
      ]
     },
     "metadata": {},
     "output_type": "display_data"
    },
    {
     "name": "stdout",
     "output_type": "stream",
     "text": [
      "Entity: tumor (456-461)\n",
      "\n",
      "            entity_id    label    bilstm_cv\n",
      "12183  SP1989_456_461  negated  not negated\n"
     ]
    },
    {
     "data": {
      "text/html": [
       "Donders: Verwijzing huisarts: hoofdpijn.\n",
       "Anamnese: in de zomer van 2001 heeft pat een perifere facialis parese li doorgemaakt.\n",
       "Er was geen sprake van een infectieziekte.\n",
       "In feb 2002 ontwikkelde hij een stekende hoofdpijn ter plaatse van de vertex.\n",
       "In mrt was de hoofdpijn nog steeds aanwezig en werd hij er misselijk bij.\n",
       "Overigens bestaan er geen <mark style='background-color: #fff59d'><text>mictiestoornissen</text></mark> en het looppatroon is normaal.\n",
       "Medicatie: geen Sociaal anamnese:pat is gehuwd en heeft 2 kinderen.\n",
       "behoudens moeheid Fam.anamnese: een neef heeft epilepsie.\n",
       "<br>"
      ],
      "text/plain": [
       "<IPython.core.display.HTML object>"
      ]
     },
     "metadata": {},
     "output_type": "display_data"
    },
    {
     "name": "stdout",
     "output_type": "stream",
     "text": [
      "Entity: mictiestoornissen (348-365)\n",
      "\n",
      "            entity_id        label bilstm_cv\n",
      "12268  SP2014_348_365  not negated   negated\n"
     ]
    },
    {
     "data": {
      "text/html": [
       "Ron [O] thorax:geen tumor of infiltraten,cor vergroot CTR 16-31,kalkarme thoracale wervels Huisartsgeneeskunde: thorax:geen <mark style='background-color: #fff59d'><text>tumor</text></mark> of infiltraten,cor vergroot CTR16-31,kalkarme thoracale wervels\n",
       "<br>"
      ],
      "text/plain": [
       "<IPython.core.display.HTML object>"
      ]
     },
     "metadata": {},
     "output_type": "display_data"
    },
    {
     "name": "stdout",
     "output_type": "stream",
     "text": [
      "Entity: tumor (124-129)\n",
      "\n",
      "            entity_id    label    bilstm_cv\n",
      "12397  SP2069_124_129  negated  not negated\n"
     ]
    },
    {
     "data": {
      "text/html": [
       "Het lijkt mij hier te gaan om neurogene <mark style='background-color: #fff59d'><text>claudicatio</text></mark> bij eendegeneratieve LWK.\n",
       "<br>"
      ],
      "text/plain": [
       "<IPython.core.display.HTML object>"
      ]
     },
     "metadata": {},
     "output_type": "display_data"
    },
    {
     "name": "stdout",
     "output_type": "stream",
     "text": [
      "Entity: claudicatio (40-51)\n",
      "\n",
      "          entity_id        label bilstm_cv\n",
      "12435  SP2080_40_51  not negated   negated\n"
     ]
    },
    {
     "data": {
      "text/html": [
       "Voorgeschiedenis: strabismus operatie op kinderleeftijd en kruisband ruptuur linker knie.\n",
       "Actuele gegevens: begin dit jaar voelde patiente een zwelling links in de bovenbuik, aanvankelijk pijnlijk nu meer zeurend van karakter.\n",
       "Er zijn geen algemene verschijnselen in de zin van koorts, nachtzweten of <mark style='background-color: #fff59d'><text>gewichtsverlies</text></mark>.\n",
       "Er is geen sprake geweest van een trauma.\n",
       "In de linker bovenbuik een zwelling 15 cm onder de ribbenboog.\n",
       "Geen ascites.\n",
       "Geen ascites.\n",
       "Het beeld zou kunnen passen bij een mucineus adenocarcinoom.\n",
       "<br>"
      ],
      "text/plain": [
       "<IPython.core.display.HTML object>"
      ]
     },
     "metadata": {},
     "output_type": "display_data"
    },
    {
     "name": "stdout",
     "output_type": "stream",
     "text": [
      "Entity: gewichtsverlies (301-316)\n",
      "\n",
      "            entity_id    label    bilstm_cv\n",
      "12465  SP2093_301_316  negated  not negated\n"
     ]
    },
    {
     "data": {
      "text/html": [
       "O 9 : Niet-specifieke <mark style='background-color: #fff59d'><text>ontsteking</text></mark> gezien.\n",
       "<br>"
      ],
      "text/plain": [
       "<IPython.core.display.HTML object>"
      ]
     },
     "metadata": {},
     "output_type": "display_data"
    },
    {
     "name": "stdout",
     "output_type": "stream",
     "text": [
      "Entity: ontsteking (22-32)\n",
      "\n",
      "          entity_id    label    bilstm_cv\n",
      "12521  SP2113_22_32  negated  not negated\n"
     ]
    }
   ],
   "source": [
    "# Show text for all errors in BiLSTM cross-validation\n",
    "model_pred = pd.read_csv(bilstm_result_file)\n",
    "\n",
    "# Load annotated data\n",
    "with open(annotation_file) as f:\n",
    "    annotations = json.load(f)\n",
    "result = []\n",
    "for document in annotations['projects'][0]['documents']:\n",
    "    document_name = document['name']\n",
    "    text = document['text']\n",
    "\n",
    "    for annotation in document['annotations']:\n",
    "\n",
    "        # Extract data\n",
    "        start_char = annotation['start']\n",
    "        end_char = annotation['end']\n",
    "        negation_value = annotation['meta_anns']['Negation']['value']\n",
    "\n",
    "        # Create custom ID\n",
    "        entity_id = f'{document_name}_{start_char}_{end_char}'\n",
    "        result.append([entity_id, negation_value])\n",
    "ann_labels = pd.DataFrame(result, columns=['entity_id', 'label'])  \n",
    "cmp_labels = pd.merge(left=ann_labels, right = model_pred, left_on='entity_id', right_on='entity_id')\n",
    "all_errors = cmp_labels[cmp_labels.label != cmp_labels.bilstm_cv]\n",
    "\n",
    "for error_id, series in all_errors.iterrows():\n",
    "    get_document_text(cmp_labels[\"entity_id\"].iloc[error_id], dcc_dir, cmp_labels)"
   ]
  },
  {
   "cell_type": "markdown",
   "metadata": {},
   "source": [
    "# Rule based"
   ]
  },
  {
   "cell_type": "markdown",
   "metadata": {},
   "source": [
    "## False negatives\n"
   ]
  },
  {
   "cell_type": "code",
   "execution_count": 21,
   "metadata": {},
   "outputs": [
    {
     "data": {
      "text/plain": [
       "191"
      ]
     },
     "execution_count": 21,
     "metadata": {},
     "output_type": "execute_result"
    }
   ],
   "source": [
    "FNs_rule = results[(results.label == 'negated') & (results.rule_based == 'not negated')]['entity_id']\n",
    "len(FNs_rule)"
   ]
  },
  {
   "cell_type": "code",
   "execution_count": 22,
   "metadata": {},
   "outputs": [],
   "source": [
    "g_FNs_rule = iter(FNs_rule.to_list())"
   ]
  },
  {
   "cell_type": "code",
   "execution_count": 23,
   "metadata": {},
   "outputs": [
    {
     "data": {
      "text/html": [
       "Er is geen trauma ontstaan.\n",
       "Er is een arthrogram en een arthroscopie gemaakt, welke aantoonde dat er een ligament-letsel zou zijn.\n",
       "De Watsontest (scapho-lunaire <mark style='background-color: #fff59d'><text>dissociatie</text></mark>) en de Finkelsteintest zijn negatief.\n",
       "Als de uitslag bekend is zal patiente wederom op mijn spreekuur komen, voor het bespreken van de uitslag.\n",
       "<br>"
      ],
      "text/plain": [
       "<IPython.core.display.HTML object>"
      ]
     },
     "metadata": {},
     "output_type": "display_data"
    },
    {
     "name": "stdout",
     "output_type": "stream",
     "text": [
      "Entity: dissociatie (161-172)\n",
      "\n",
      "          entity_id category    label   bilstm    bilstm_cv   rule_based  \\\n",
      "121  DL1156_161_172       DL  negated  negated  not negated  not negated   \n",
      "\n",
      "    robbert_512_2 robbert_128_2 robbert_32_2 robbert_32_1  \n",
      "121           NaN           NaN          NaN          NaN  \n"
     ]
    }
   ],
   "source": [
    "# iterate through one doc at a time\n",
    "get_document_text(next(g_FNs_rule), dcc_dir, results);"
   ]
  },
  {
   "cell_type": "markdown",
   "metadata": {},
   "source": [
    "### Observations:\n",
    "1. Most frequent false negatives are a \"list of negations\", e.g.:\n",
    "    - \"`ENT`-\" or \"`ENT` -\" or \"`ENT`:-\" (58 cases)\n",
    "    - \"`ENT`: nee\" or \"`ENT`: geen\" or \"`ENT`: negatief\" (7 cases)\n",
    "2. 2nd most frequent are actually not false negatives, but labeling errors (22 cases)\n",
    "    - negation is labelled as part of the entity, e.g. \"geen bijwerking\" is the entity (GP1665_79_94, GP1681_0_11, GP2567_126_137)\n",
    "    - no negation actually present (GP1558_64_70, GP2796_56_63, GP2967_0_6, RD1951_465_472, SP1164_179_186)\n",
    "    - entity is a (sub)heading of report; not actually present (e.g. SP1188_26_31; only occurs in SP)\n",
    "3. A negation trigger is missing that could easily be added\n",
    "    - \"neg\" / \"negatief\" (13 cases)\n",
    "    - \"pleit tegen\" (4 cases)\n",
    "    - \"niet voorafgegaan\" (8 cases)\n",
    "    - words like \"niet\" en \"geen\" that occur directly next to `ENT`, so have a scope of 1; probably too many false positives with broader scope (12 cases)"
   ]
  },
  {
   "cell_type": "markdown",
   "metadata": {},
   "source": [
    "### Categories"
   ]
  },
  {
   "cell_type": "code",
   "execution_count": 24,
   "metadata": {},
   "outputs": [
    {
     "data": {
      "text/html": [
       "<div>\n",
       "<style scoped>\n",
       "    .dataframe tbody tr th:only-of-type {\n",
       "        vertical-align: middle;\n",
       "    }\n",
       "\n",
       "    .dataframe tbody tr th {\n",
       "        vertical-align: top;\n",
       "    }\n",
       "\n",
       "    .dataframe thead th {\n",
       "        text-align: right;\n",
       "    }\n",
       "</style>\n",
       "<table border=\"1\" class=\"dataframe\">\n",
       "  <thead>\n",
       "    <tr style=\"text-align: right;\">\n",
       "      <th></th>\n",
       "      <th>entity_id</th>\n",
       "      <th>pattern</th>\n",
       "      <th>category_rule_based</th>\n",
       "      <th>category</th>\n",
       "      <th>trigger</th>\n",
       "    </tr>\n",
       "  </thead>\n",
       "  <tbody>\n",
       "    <tr>\n",
       "      <th>0</th>\n",
       "      <td>DL1156_161_172</td>\n",
       "      <td>ENT zijn negatief</td>\n",
       "      <td>missing variation</td>\n",
       "      <td>uncommon negation</td>\n",
       "      <td>negatief</td>\n",
       "    </tr>\n",
       "    <tr>\n",
       "      <th>1</th>\n",
       "      <td>DL1163_0_8</td>\n",
       "      <td>ENT treedt niet op</td>\n",
       "      <td>missing trigger</td>\n",
       "      <td>uncommon negation</td>\n",
       "      <td>treden niet op</td>\n",
       "    </tr>\n",
       "    <tr>\n",
       "      <th>2</th>\n",
       "      <td>DL1167_76_82</td>\n",
       "      <td>ENT kan niet worden herinnerd</td>\n",
       "      <td>negation of different term</td>\n",
       "      <td>negation of different term</td>\n",
       "      <td>NaN</td>\n",
       "    </tr>\n",
       "    <tr>\n",
       "      <th>3</th>\n",
       "      <td>DL1201_0_8</td>\n",
       "      <td>ENT treedt niet op</td>\n",
       "      <td>missing trigger</td>\n",
       "      <td>uncommon negation</td>\n",
       "      <td>treden niet op</td>\n",
       "    </tr>\n",
       "    <tr>\n",
       "      <th>4</th>\n",
       "      <td>DL1204_26_34</td>\n",
       "      <td>is er nooit een ENT</td>\n",
       "      <td>missing variation</td>\n",
       "      <td>uncommon negation</td>\n",
       "      <td>nooit</td>\n",
       "    </tr>\n",
       "  </tbody>\n",
       "</table>\n",
       "</div>"
      ],
      "text/plain": [
       "        entity_id                        pattern         category_rule_based  \\\n",
       "0  DL1156_161_172              ENT zijn negatief           missing variation   \n",
       "1      DL1163_0_8             ENT treedt niet op             missing trigger   \n",
       "2    DL1167_76_82  ENT kan niet worden herinnerd  negation of different term   \n",
       "3      DL1201_0_8             ENT treedt niet op             missing trigger   \n",
       "4    DL1204_26_34            is er nooit een ENT           missing variation   \n",
       "\n",
       "                     category         trigger  \n",
       "0           uncommon negation        negatief  \n",
       "1           uncommon negation  treden niet op  \n",
       "2  negation of different term             NaN  \n",
       "3           uncommon negation  treden niet op  \n",
       "4           uncommon negation           nooit  "
      ]
     },
     "execution_count": 24,
     "metadata": {},
     "output_type": "execute_result"
    }
   ],
   "source": [
    "# Load entity_id, snippet containing error, error category, and (absence of) trigger involved\n",
    "errors_FN = pd.read_csv(result_dir / 'false-negatives_rule-based.csv', sep = ';')\n",
    "errors_FN.head()"
   ]
  },
  {
   "cell_type": "code",
   "execution_count": 30,
   "metadata": {},
   "outputs": [
    {
     "data": {
      "text/html": [
       "<div>\n",
       "<style scoped>\n",
       "    .dataframe tbody tr th:only-of-type {\n",
       "        vertical-align: middle;\n",
       "    }\n",
       "\n",
       "    .dataframe tbody tr th {\n",
       "        vertical-align: top;\n",
       "    }\n",
       "\n",
       "    .dataframe thead th {\n",
       "        text-align: right;\n",
       "    }\n",
       "</style>\n",
       "<table border=\"1\" class=\"dataframe\">\n",
       "  <thead>\n",
       "    <tr style=\"text-align: right;\">\n",
       "      <th></th>\n",
       "      <th>entity_id</th>\n",
       "      <th>pattern</th>\n",
       "      <th>category_rule_based</th>\n",
       "      <th>category</th>\n",
       "      <th>trigger</th>\n",
       "    </tr>\n",
       "  </thead>\n",
       "  <tbody>\n",
       "    <tr>\n",
       "      <th>32</th>\n",
       "      <td>GP1191_121_127</td>\n",
       "      <td>ENT is over</td>\n",
       "      <td>wrong modality</td>\n",
       "      <td>wrong modality</td>\n",
       "      <td>NaN</td>\n",
       "    </tr>\n",
       "    <tr>\n",
       "      <th>109</th>\n",
       "      <td>RD1277_53_64</td>\n",
       "      <td>ENT geresorbeerd</td>\n",
       "      <td>wrong modality</td>\n",
       "      <td>wrong modality</td>\n",
       "      <td>NaN</td>\n",
       "    </tr>\n",
       "    <tr>\n",
       "      <th>112</th>\n",
       "      <td>RD1500_47_56</td>\n",
       "      <td>Genezen ENT</td>\n",
       "      <td>wrong modality</td>\n",
       "      <td>wrong modality</td>\n",
       "      <td>NaN</td>\n",
       "    </tr>\n",
       "    <tr>\n",
       "      <th>160</th>\n",
       "      <td>SP1483_46_55</td>\n",
       "      <td>Stoppen - ENT</td>\n",
       "      <td>wrong modality</td>\n",
       "      <td>wrong modality</td>\n",
       "      <td>NaN</td>\n",
       "    </tr>\n",
       "    <tr>\n",
       "      <th>166</th>\n",
       "      <td>SP1522_199_210</td>\n",
       "      <td>Onbelaste voorgeschiedenis voor ENT</td>\n",
       "      <td>wrong modality</td>\n",
       "      <td>wrong modality</td>\n",
       "      <td>NaN</td>\n",
       "    </tr>\n",
       "  </tbody>\n",
       "</table>\n",
       "</div>"
      ],
      "text/plain": [
       "          entity_id                              pattern category_rule_based  \\\n",
       "32   GP1191_121_127                          ENT is over      wrong modality   \n",
       "109    RD1277_53_64                     ENT geresorbeerd      wrong modality   \n",
       "112    RD1500_47_56                          Genezen ENT      wrong modality   \n",
       "160    SP1483_46_55                        Stoppen - ENT      wrong modality   \n",
       "166  SP1522_199_210  Onbelaste voorgeschiedenis voor ENT      wrong modality   \n",
       "\n",
       "           category trigger  \n",
       "32   wrong modality     NaN  \n",
       "109  wrong modality     NaN  \n",
       "112  wrong modality     NaN  \n",
       "160  wrong modality     NaN  \n",
       "166  wrong modality     NaN  "
      ]
     },
     "execution_count": 30,
     "metadata": {},
     "output_type": "execute_result"
    }
   ],
   "source": [
    "errors_FN[errors_FN.category_rule_based=='wrong modality']"
   ]
  },
  {
   "cell_type": "code",
   "execution_count": 25,
   "metadata": {},
   "outputs": [],
   "source": [
    "def print_category_counts(df, err_type):\n",
    "    cnt = df['category'].value_counts()\n",
    "    tot = df.shape[0]\n",
    "    print(f'{err_type} ({tot} total)')\n",
    "    print(pd.concat([cnt.rename('count'),\n",
    "               (cnt / tot * 100).rename('percentage')],\n",
    "              axis=1))"
   ]
  },
  {
   "cell_type": "code",
   "execution_count": 26,
   "metadata": {},
   "outputs": [
    {
     "name": "stdout",
     "output_type": "stream",
     "text": [
      "False negatives (191 total)\n",
      "                            count  percentage\n",
      "uncommon negation              62   32.460733\n",
      "minus                          51   26.701571\n",
      "other                          29   15.183246\n",
      "annotation error               20   10.471204\n",
      "punctuation                    13    6.806283\n",
      "speculation                     8    4.188482\n",
      "wrong modality                  6    3.141361\n",
      "negation of different term      2    1.047120\n"
     ]
    }
   ],
   "source": [
    "print_category_counts(errors_FN, 'False negatives')"
   ]
  },
  {
   "cell_type": "code",
   "execution_count": 27,
   "metadata": {},
   "outputs": [],
   "source": [
    "def print_example_error(df, category):\n",
    "    smpl = df[df['category'] == category].sample()\n",
    "    get_document_text(smpl.entity_id.values[0], dcc_dir, results.iloc[:,0:3]);\n",
    "    print(smpl)"
   ]
  },
  {
   "cell_type": "code",
   "execution_count": 28,
   "metadata": {},
   "outputs": [
    {
     "ename": "ValueError",
     "evalue": "a must be greater than 0 unless no samples are taken",
     "output_type": "error",
     "traceback": [
      "\u001b[0;31m---------------------------------------------------------------------------\u001b[0m",
      "\u001b[0;31mValueError\u001b[0m                                Traceback (most recent call last)",
      "\u001b[0;32m<ipython-input-28-078781a18d56>\u001b[0m in \u001b[0;36m<module>\u001b[0;34m\u001b[0m\n\u001b[0;32m----> 1\u001b[0;31m \u001b[0mprint_example_error\u001b[0m\u001b[0;34m(\u001b[0m\u001b[0merrors_FN\u001b[0m\u001b[0;34m,\u001b[0m \u001b[0;34m'sentence splitting'\u001b[0m\u001b[0;34m)\u001b[0m\u001b[0;34m\u001b[0m\u001b[0;34m\u001b[0m\u001b[0m\n\u001b[0m",
      "\u001b[0;32m<ipython-input-27-071237bf4395>\u001b[0m in \u001b[0;36mprint_example_error\u001b[0;34m(df, category)\u001b[0m\n\u001b[1;32m      1\u001b[0m \u001b[0;32mdef\u001b[0m \u001b[0mprint_example_error\u001b[0m\u001b[0;34m(\u001b[0m\u001b[0mdf\u001b[0m\u001b[0;34m,\u001b[0m \u001b[0mcategory\u001b[0m\u001b[0;34m)\u001b[0m\u001b[0;34m:\u001b[0m\u001b[0;34m\u001b[0m\u001b[0;34m\u001b[0m\u001b[0m\n\u001b[0;32m----> 2\u001b[0;31m     \u001b[0msmpl\u001b[0m \u001b[0;34m=\u001b[0m \u001b[0mdf\u001b[0m\u001b[0;34m[\u001b[0m\u001b[0mdf\u001b[0m\u001b[0;34m[\u001b[0m\u001b[0;34m'category'\u001b[0m\u001b[0;34m]\u001b[0m \u001b[0;34m==\u001b[0m \u001b[0mcategory\u001b[0m\u001b[0;34m]\u001b[0m\u001b[0;34m.\u001b[0m\u001b[0msample\u001b[0m\u001b[0;34m(\u001b[0m\u001b[0;34m)\u001b[0m\u001b[0;34m\u001b[0m\u001b[0;34m\u001b[0m\u001b[0m\n\u001b[0m\u001b[1;32m      3\u001b[0m     \u001b[0mget_document_text\u001b[0m\u001b[0;34m(\u001b[0m\u001b[0msmpl\u001b[0m\u001b[0;34m.\u001b[0m\u001b[0mentity_id\u001b[0m\u001b[0;34m.\u001b[0m\u001b[0mvalues\u001b[0m\u001b[0;34m[\u001b[0m\u001b[0;36m0\u001b[0m\u001b[0;34m]\u001b[0m\u001b[0;34m,\u001b[0m \u001b[0mdcc_dir\u001b[0m\u001b[0;34m,\u001b[0m \u001b[0mresults\u001b[0m\u001b[0;34m.\u001b[0m\u001b[0miloc\u001b[0m\u001b[0;34m[\u001b[0m\u001b[0;34m:\u001b[0m\u001b[0;34m,\u001b[0m\u001b[0;36m0\u001b[0m\u001b[0;34m:\u001b[0m\u001b[0;36m3\u001b[0m\u001b[0;34m]\u001b[0m\u001b[0;34m)\u001b[0m\u001b[0;34m;\u001b[0m\u001b[0;34m\u001b[0m\u001b[0;34m\u001b[0m\u001b[0m\n\u001b[1;32m      4\u001b[0m     \u001b[0mprint\u001b[0m\u001b[0;34m(\u001b[0m\u001b[0msmpl\u001b[0m\u001b[0;34m)\u001b[0m\u001b[0;34m\u001b[0m\u001b[0;34m\u001b[0m\u001b[0m\n",
      "\u001b[0;32m/media/koekiemonster/home/bramiozo/VIRTUALENVS/nlp/lib/python3.8/site-packages/pandas/core/generic.py\u001b[0m in \u001b[0;36msample\u001b[0;34m(self, n, frac, replace, weights, random_state, axis, ignore_index)\u001b[0m\n\u001b[1;32m   5452\u001b[0m             \u001b[0mweights\u001b[0m \u001b[0;34m=\u001b[0m \u001b[0msample\u001b[0m\u001b[0;34m.\u001b[0m\u001b[0mpreprocess_weights\u001b[0m\u001b[0;34m(\u001b[0m\u001b[0mself\u001b[0m\u001b[0;34m,\u001b[0m \u001b[0mweights\u001b[0m\u001b[0;34m,\u001b[0m \u001b[0maxis\u001b[0m\u001b[0;34m)\u001b[0m\u001b[0;34m\u001b[0m\u001b[0;34m\u001b[0m\u001b[0m\n\u001b[1;32m   5453\u001b[0m \u001b[0;34m\u001b[0m\u001b[0m\n\u001b[0;32m-> 5454\u001b[0;31m         \u001b[0msampled_indices\u001b[0m \u001b[0;34m=\u001b[0m \u001b[0msample\u001b[0m\u001b[0;34m.\u001b[0m\u001b[0msample\u001b[0m\u001b[0;34m(\u001b[0m\u001b[0mobj_len\u001b[0m\u001b[0;34m,\u001b[0m \u001b[0msize\u001b[0m\u001b[0;34m,\u001b[0m \u001b[0mreplace\u001b[0m\u001b[0;34m,\u001b[0m \u001b[0mweights\u001b[0m\u001b[0;34m,\u001b[0m \u001b[0mrs\u001b[0m\u001b[0;34m)\u001b[0m\u001b[0;34m\u001b[0m\u001b[0;34m\u001b[0m\u001b[0m\n\u001b[0m\u001b[1;32m   5455\u001b[0m         \u001b[0mresult\u001b[0m \u001b[0;34m=\u001b[0m \u001b[0mself\u001b[0m\u001b[0;34m.\u001b[0m\u001b[0mtake\u001b[0m\u001b[0;34m(\u001b[0m\u001b[0msampled_indices\u001b[0m\u001b[0;34m,\u001b[0m \u001b[0maxis\u001b[0m\u001b[0;34m=\u001b[0m\u001b[0maxis\u001b[0m\u001b[0;34m)\u001b[0m\u001b[0;34m\u001b[0m\u001b[0;34m\u001b[0m\u001b[0m\n\u001b[1;32m   5456\u001b[0m \u001b[0;34m\u001b[0m\u001b[0m\n",
      "\u001b[0;32m/media/koekiemonster/home/bramiozo/VIRTUALENVS/nlp/lib/python3.8/site-packages/pandas/core/sample.py\u001b[0m in \u001b[0;36msample\u001b[0;34m(obj_len, size, replace, weights, random_state)\u001b[0m\n\u001b[1;32m    148\u001b[0m             \u001b[0;32mraise\u001b[0m \u001b[0mValueError\u001b[0m\u001b[0;34m(\u001b[0m\u001b[0;34m\"Invalid weights: weights sum to zero\"\u001b[0m\u001b[0;34m)\u001b[0m\u001b[0;34m\u001b[0m\u001b[0;34m\u001b[0m\u001b[0m\n\u001b[1;32m    149\u001b[0m \u001b[0;34m\u001b[0m\u001b[0m\n\u001b[0;32m--> 150\u001b[0;31m     return random_state.choice(obj_len, size=size, replace=replace, p=weights).astype(\n\u001b[0m\u001b[1;32m    151\u001b[0m         \u001b[0mnp\u001b[0m\u001b[0;34m.\u001b[0m\u001b[0mintp\u001b[0m\u001b[0;34m,\u001b[0m \u001b[0mcopy\u001b[0m\u001b[0;34m=\u001b[0m\u001b[0;32mFalse\u001b[0m\u001b[0;34m\u001b[0m\u001b[0;34m\u001b[0m\u001b[0m\n\u001b[1;32m    152\u001b[0m     )\n",
      "\u001b[0;32mmtrand.pyx\u001b[0m in \u001b[0;36mnumpy.random.mtrand.RandomState.choice\u001b[0;34m()\u001b[0m\n",
      "\u001b[0;31mValueError\u001b[0m: a must be greater than 0 unless no samples are taken"
     ]
    }
   ],
   "source": [
    "print_example_error(errors_FN, 'sentence splitting')"
   ]
  },
  {
   "cell_type": "markdown",
   "metadata": {},
   "source": [
    "## False positives\n"
   ]
  },
  {
   "cell_type": "code",
   "execution_count": null,
   "metadata": {},
   "outputs": [],
   "source": [
    "FPs_rule = results[(results.label == 'not negated') & (results.rule_based == 'negated')]['entity_id']\n",
    "len(FPs_rule)"
   ]
  },
  {
   "cell_type": "code",
   "execution_count": null,
   "metadata": {},
   "outputs": [],
   "source": [
    "g_FPs_rule = iter(FPs_rule.to_list())"
   ]
  },
  {
   "cell_type": "code",
   "execution_count": null,
   "metadata": {},
   "outputs": [],
   "source": [
    "# iterate through one doc at a time\n",
    "get_document_text(next(g_FPs_rule), dcc_dir, results);"
   ]
  },
  {
   "cell_type": "markdown",
   "metadata": {},
   "source": [
    "### Observations:\n",
    "- \"wel\" should be a termination trigger\n",
    "- triggers like \"geen\" and \"niet\" should have a reduced scope (maybe even just 1?)\n",
    "    - might also help to add punctuation like `,` and `;` as termination triggers"
   ]
  },
  {
   "cell_type": "markdown",
   "metadata": {},
   "source": [
    "### Categories"
   ]
  },
  {
   "cell_type": "code",
   "execution_count": null,
   "metadata": {},
   "outputs": [],
   "source": [
    "# Load entity_id, snippet containing error, error category, and (absence of) trigger involved\n",
    "errors_FP = pd.read_csv(result_dir / 'false-positives_rule-based.csv', sep = ';')\n",
    "errors_FP.head()"
   ]
  },
  {
   "cell_type": "code",
   "execution_count": null,
   "metadata": {},
   "outputs": [],
   "source": [
    "print_category_counts(errors_FP, 'False positives')"
   ]
  },
  {
   "cell_type": "code",
   "execution_count": null,
   "metadata": {},
   "outputs": [],
   "source": [
    "print_example_error(errors_FP, 'missing termination trigger')"
   ]
  },
  {
   "cell_type": "markdown",
   "metadata": {},
   "source": [
    "# Ensemble"
   ]
  },
  {
   "cell_type": "code",
   "execution_count": null,
   "metadata": {},
   "outputs": [],
   "source": [
    "results[['label', 'bilstm', 'bilstm_cv', 'rule_based', \n",
    "         'robbert_512_2', 'robbert_128_2', 'robbert_32_2']]=\\\n",
    "results[['label', 'bilstm', 'bilstm_cv', 'rule_based', \n",
    "         'robbert_512_2', 'robbert_128_2', 'robbert_32_2']].apply(lambda x: x.map({'not negated':0,\n",
    "                                                                                   'negated': 1}), \n",
    "                                                                  axis=1)\n",
    "results.dropna(subset=['robbert_512_2'], inplace=True)\n",
    "results.drop(['bilstm', 'robbert_128_2', 'robbert_32_2'], axis=1, inplace=True)"
   ]
  },
  {
   "cell_type": "code",
   "execution_count": null,
   "metadata": {},
   "outputs": [],
   "source": [
    "'''\n",
    "ACC = (TP+TN)/(TP+TN+FP+FN)\n",
    "SPEC = TN/(TN+FP)\n",
    "SENS = TP/(TP+FN)\n",
    "PPV = TP/(TP+FP)\n",
    "NPV = TN/(TN+FN)\n",
    "'''\n",
    "\n",
    "results['ensemble_mv'] = results[['bilstm_cv', 'rule_based', 'robbert_512_2']].\\\n",
    "                            apply(lambda x: round(np.mean(x)),axis=1)"
   ]
  },
  {
   "cell_type": "code",
   "execution_count": null,
   "metadata": {},
   "outputs": [],
   "source": [
    "def confusion_matrix(ys,est='ensemble_mv'):\n",
    "    y_est = ys[est]\n",
    "    y_true = ys['label']\n",
    "    TP = sum((y_est==y_true) & (y_true==1))\n",
    "    TN = sum((y_est==y_true) & (y_true==0))\n",
    "    FP = sum((y_est!=y_true) & (y_true==0))\n",
    "    FN = sum((y_est!=y_true) & (y_true==1))\n",
    "    \n",
    "    ACC = (TP+TN)/(TP+TN+FP+FN)\n",
    "    SPEC = TN/(TN+FP)\n",
    "    SENS = TP/(TP+FN)\n",
    "    PPV = TP/(TP+FP)\n",
    "    NPV = TN/(TN+FN)\n",
    "\n",
    "    return round(ACC,3),round(SPEC,3),round(SENS,3),round(PPV,3),round(NPV,3)\n",
    "\n",
    "results[['category', 'label', 'ensemble_mv']].groupby('category').apply(confusion_matrix)"
   ]
  },
  {
   "cell_type": "code",
   "execution_count": null,
   "metadata": {},
   "outputs": [],
   "source": [
    "results[['category', 'label', 'bilstm_cv']].groupby('category').apply(lambda x: confusion_matrix(x,est='bilstm_cv'))"
   ]
  },
  {
   "cell_type": "code",
   "execution_count": null,
   "metadata": {},
   "outputs": [],
   "source": [
    "results[['category', 'label', 'rule_based']].groupby('category').apply(lambda x: confusion_matrix(x,est='rule_based'))"
   ]
  },
  {
   "cell_type": "code",
   "execution_count": null,
   "metadata": {},
   "outputs": [],
   "source": [
    "results[['category', 'label', 'robbert_512_2']].groupby('category').apply(lambda x: confusion_matrix(x,est='robbert_512_2'))"
   ]
  }
 ],
 "metadata": {
  "kernelspec": {
   "display_name": "NLP",
   "language": "python",
   "name": "nlp"
  },
  "language_info": {
   "codemirror_mode": {
    "name": "ipython",
    "version": 3
   },
   "file_extension": ".py",
   "mimetype": "text/x-python",
   "name": "python",
   "nbconvert_exporter": "python",
   "pygments_lexer": "ipython3",
   "version": "3.8.10"
  }
 },
 "nbformat": 4,
 "nbformat_minor": 5
}
