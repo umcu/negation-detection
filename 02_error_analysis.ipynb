{
 "cells": [
  {
   "cell_type": "code",
   "execution_count": 1,
   "id": "d8e6a601",
   "metadata": {},
   "outputs": [
    {
     "data": {
      "text/html": [
       "<div>\n",
       "<style scoped>\n",
       "    .dataframe tbody tr th:only-of-type {\n",
       "        vertical-align: middle;\n",
       "    }\n",
       "\n",
       "    .dataframe tbody tr th {\n",
       "        vertical-align: top;\n",
       "    }\n",
       "\n",
       "    .dataframe thead th {\n",
       "        text-align: right;\n",
       "    }\n",
       "</style>\n",
       "<table border=\"1\" class=\"dataframe\">\n",
       "  <thead>\n",
       "    <tr style=\"text-align: right;\">\n",
       "      <th></th>\n",
       "      <th>entity_id</th>\n",
       "      <th>label</th>\n",
       "      <th>bilstm</th>\n",
       "      <th>rule_based</th>\n",
       "    </tr>\n",
       "  </thead>\n",
       "  <tbody>\n",
       "    <tr>\n",
       "      <th>0</th>\n",
       "      <td>DL1111_32_46</td>\n",
       "      <td>not negated</td>\n",
       "      <td>not negated</td>\n",
       "      <td>not negated</td>\n",
       "    </tr>\n",
       "    <tr>\n",
       "      <th>1</th>\n",
       "      <td>DL1111_272_280</td>\n",
       "      <td>not negated</td>\n",
       "      <td>not negated</td>\n",
       "      <td>not negated</td>\n",
       "    </tr>\n",
       "    <tr>\n",
       "      <th>2</th>\n",
       "      <td>DL1111_363_377</td>\n",
       "      <td>not negated</td>\n",
       "      <td>not negated</td>\n",
       "      <td>not negated</td>\n",
       "    </tr>\n",
       "    <tr>\n",
       "      <th>3</th>\n",
       "      <td>DL1112_22_28</td>\n",
       "      <td>negated</td>\n",
       "      <td>negated</td>\n",
       "      <td>negated</td>\n",
       "    </tr>\n",
       "    <tr>\n",
       "      <th>4</th>\n",
       "      <td>DL1113_59_67</td>\n",
       "      <td>not negated</td>\n",
       "      <td>not negated</td>\n",
       "      <td>not negated</td>\n",
       "    </tr>\n",
       "  </tbody>\n",
       "</table>\n",
       "</div>"
      ],
      "text/plain": [
       "        entity_id        label       bilstm   rule_based\n",
       "0    DL1111_32_46  not negated  not negated  not negated\n",
       "1  DL1111_272_280  not negated  not negated  not negated\n",
       "2  DL1111_363_377  not negated  not negated  not negated\n",
       "3    DL1112_22_28      negated      negated      negated\n",
       "4    DL1113_59_67  not negated  not negated  not negated"
      ]
     },
     "execution_count": 1,
     "metadata": {},
     "output_type": "execute_result"
    }
   ],
   "source": [
    "from pathlib import Path\n",
    "from evaluation_utils import get_document_text\n",
    "import pandas as pd\n",
    "\n",
    "dcc_dir = Path('data') / 'EMCDutchClinicalCorpus'\n",
    "result_dir = Path('results')\n",
    "merged_result_file = result_dir / 'merged_results.csv.gz'\n",
    "\n",
    "# Load results\n",
    "results = pd.read_csv(merged_result_file)\n",
    "results.head()"
   ]
  },
  {
   "cell_type": "markdown",
   "id": "ba4217c0",
   "metadata": {},
   "source": [
    "## False negatives biLSTM"
   ]
  },
  {
   "cell_type": "code",
   "execution_count": 2,
   "id": "a5867e14",
   "metadata": {},
   "outputs": [
    {
     "data": {
      "text/html": [
       "<div>\n",
       "<style scoped>\n",
       "    .dataframe tbody tr th:only-of-type {\n",
       "        vertical-align: middle;\n",
       "    }\n",
       "\n",
       "    .dataframe tbody tr th {\n",
       "        vertical-align: top;\n",
       "    }\n",
       "\n",
       "    .dataframe thead th {\n",
       "        text-align: right;\n",
       "    }\n",
       "</style>\n",
       "<table border=\"1\" class=\"dataframe\">\n",
       "  <thead>\n",
       "    <tr style=\"text-align: right;\">\n",
       "      <th></th>\n",
       "      <th>entity_id</th>\n",
       "      <th>label</th>\n",
       "      <th>bilstm</th>\n",
       "      <th>rule_based</th>\n",
       "    </tr>\n",
       "  </thead>\n",
       "  <tbody>\n",
       "    <tr>\n",
       "      <th>599</th>\n",
       "      <td>DL1325_207_223</td>\n",
       "      <td>negated</td>\n",
       "      <td>not negated</td>\n",
       "      <td>not negated</td>\n",
       "    </tr>\n",
       "    <tr>\n",
       "      <th>1811</th>\n",
       "      <td>DL1756_184_191</td>\n",
       "      <td>negated</td>\n",
       "      <td>not negated</td>\n",
       "      <td>negated</td>\n",
       "    </tr>\n",
       "    <tr>\n",
       "      <th>2847</th>\n",
       "      <td>GP1136_0_7</td>\n",
       "      <td>negated</td>\n",
       "      <td>not negated</td>\n",
       "      <td>not negated</td>\n",
       "    </tr>\n",
       "    <tr>\n",
       "      <th>3612</th>\n",
       "      <td>GP1558_64_70</td>\n",
       "      <td>negated</td>\n",
       "      <td>not negated</td>\n",
       "      <td>not negated</td>\n",
       "    </tr>\n",
       "    <tr>\n",
       "      <th>5272</th>\n",
       "      <td>GP2595_16_23</td>\n",
       "      <td>negated</td>\n",
       "      <td>not negated</td>\n",
       "      <td>not negated</td>\n",
       "    </tr>\n",
       "  </tbody>\n",
       "</table>\n",
       "</div>"
      ],
      "text/plain": [
       "           entity_id    label       bilstm   rule_based\n",
       "599   DL1325_207_223  negated  not negated  not negated\n",
       "1811  DL1756_184_191  negated  not negated      negated\n",
       "2847      GP1136_0_7  negated  not negated  not negated\n",
       "3612    GP1558_64_70  negated  not negated  not negated\n",
       "5272    GP2595_16_23  negated  not negated  not negated"
      ]
     },
     "execution_count": 2,
     "metadata": {},
     "output_type": "execute_result"
    }
   ],
   "source": [
    "# Select false negatives\n",
    "false_negatives = results[(results.label == 'negated') & (results.bilstm == 'not negated')]\n",
    "false_negatives.head()"
   ]
  },
  {
   "cell_type": "code",
   "execution_count": 3,
   "id": "263150b8",
   "metadata": {},
   "outputs": [
    {
     "data": {
      "text/html": [
       "<mark style='background-color: #fff59d'><text>Hydrops</text></mark>-.\n",
       "<br>"
      ],
      "text/plain": [
       "<IPython.core.display.HTML object>"
      ]
     },
     "metadata": {},
     "output_type": "display_data"
    },
    {
     "name": "stdout",
     "output_type": "stream",
     "text": [
      "Entity: Hydrops (0-7)\n",
      "\n",
      "       entity_id    label       bilstm   rule_based\n",
      "5775  GP2876_0_7  negated  not negated  not negated\n"
     ]
    }
   ],
   "source": [
    "# Show issue with a random record\n",
    "random_entity = false_negatives.sample(1).entity_id.tolist()[0]\n",
    "text, start, end = get_document_text(random_entity, dcc_dir, results)"
   ]
  },
  {
   "cell_type": "code",
   "execution_count": 4,
   "id": "df84c972",
   "metadata": {},
   "outputs": [
    {
     "name": "stdout",
     "output_type": "stream",
     "text": [
      "2 of 23 (9%) false negatives caused by negation described as \"-\"\n"
     ]
    }
   ],
   "source": [
    "# Count number of false negatives caused by -\n",
    "count = 0\n",
    "for index, record in false_negatives.iterrows():\n",
    "    text, start, end = get_document_text(record.entity_id, dcc_dir, Path('data'), print_text=False)\n",
    "    if text[end:end+1] == '-':\n",
    "        count += 1\n",
    "print(f'{count} of {false_negatives.shape[0]} ({round((count / false_negatives.shape[0]) * 100)}%) false negatives caused by negation described as \"-\"')"
   ]
  }
 ],
 "metadata": {
  "kernelspec": {
   "display_name": "Python 3",
   "language": "python",
   "name": "python3"
  },
  "language_info": {
   "codemirror_mode": {
    "name": "ipython",
    "version": 3
   },
   "file_extension": ".py",
   "mimetype": "text/x-python",
   "name": "python",
   "nbconvert_exporter": "python",
   "pygments_lexer": "ipython3",
   "version": "3.8.5"
  }
 },
 "nbformat": 4,
 "nbformat_minor": 5
}
