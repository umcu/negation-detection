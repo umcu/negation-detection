{
 "cells": [
  {
   "cell_type": "code",
   "execution_count": 32,
   "metadata": {},
   "outputs": [
    {
     "name": "stdout",
     "output_type": "stream",
     "text": [
      "C:\\Users\\Bas.Arends\\Documents\n",
      "F1: 0.946 \n",
      "              precision    recall  f1-score   support\n",
      "\n",
      "     Negated       0.92      0.95      0.93       166\n",
      "  NotNegated       0.94      0.95      0.95      1050\n",
      "\n",
      "   micro avg       0.94      0.95      0.95      1216\n",
      "   macro avg       0.93      0.95      0.94      1216\n",
      "weighted avg       0.94      0.95      0.95      1216\n",
      "\n",
      "Bootstrap confidence intervals for negation\n",
      "Precision: 0.92 (0.87 - 0.96)\n",
      "Recall: 0.95 (0.91 - 0.98)\n",
      "F1: 0.93 (0.89 - 0.96)\n"
     ]
    }
   ],
   "source": [
    "%cd C:/Users/Bas.Arends/Documents/\n",
    "%run ner/ner_training.py --model_type roberta --model_path ner/output/per_source+/ --task negation --do_eval --eval_data DCC/per_source/datasets/all_val.txt --bio --bootstrap"
   ]
  },
  {
   "cell_type": "code",
   "execution_count": 23,
   "metadata": {},
   "outputs": [
    {
     "name": "stdout",
     "output_type": "stream",
     "text": [
      "C:\\Users\\Bas.Arends\\Documents\n",
      "F1: 0.976 \n",
      "              precision    recall  f1-score   support\n",
      "\n",
      "     Negated       0.95      1.00      0.97        35\n",
      "  NotNegated       0.98      0.97      0.98       232\n",
      "\n",
      "   micro avg       0.98      0.97      0.98       267\n",
      "   macro avg       0.96      0.98      0.97       267\n",
      "weighted avg       0.98      0.97      0.98       267\n",
      "\n",
      "Bootstrap confidence intervals for negation\n",
      "Precision: 0.95 (0.87 - 1.00)\n",
      "Recall: 1.00 (1.00 - 1.00)\n",
      "F1: 0.97 (0.93 - 1.00)\n"
     ]
    }
   ],
   "source": [
    "%cd C:/Users/Bas.Arends/Documents/\n",
    "%run ner/ner_training.py --model_type roberta --model_path ner/output/per_source+/ --task negation --do_eval --eval_data DCC/per_source/datasets/DL_val.txt --bio --bootstrap"
   ]
  },
  {
   "cell_type": "code",
   "execution_count": 24,
   "metadata": {},
   "outputs": [
    {
     "name": "stdout",
     "output_type": "stream",
     "text": [
      "C:\\Users\\Bas.Arends\\Documents\n",
      "F1: 0.939 \n",
      "              precision    recall  f1-score   support\n",
      "\n",
      "     Negated       0.83      0.94      0.88        31\n",
      "  NotNegated       0.94      0.95      0.95       302\n",
      "\n",
      "   micro avg       0.93      0.95      0.94       333\n",
      "   macro avg       0.88      0.94      0.91       333\n",
      "weighted avg       0.93      0.95      0.94       333\n",
      "\n",
      "Bootstrap confidence intervals for negation\n",
      "Precision: 0.83 (0.65 - 0.97)\n",
      "Recall: 0.93 (0.82 - 1.00)\n",
      "F1: 0.88 (0.73 - 0.98)\n"
     ]
    }
   ],
   "source": [
    "%cd C:/Users/Bas.Arends/Documents/\n",
    "%run ner/ner_training.py --model_type roberta --model_path ner/output/per_source+/ --task negation --do_eval --eval_data DCC/per_source/datasets/GP_val.txt --bio --bootstrap"
   ]
  },
  {
   "cell_type": "code",
   "execution_count": 25,
   "metadata": {},
   "outputs": [
    {
     "name": "stdout",
     "output_type": "stream",
     "text": [
      "C:\\Users\\Bas.Arends\\Documents\n",
      "F1: 0.955 \n",
      "              precision    recall  f1-score   support\n",
      "\n",
      "     Negated       0.98      0.98      0.98        63\n",
      "  NotNegated       0.94      0.96      0.95       322\n",
      "\n",
      "   micro avg       0.95      0.96      0.95       385\n",
      "   macro avg       0.96      0.97      0.97       385\n",
      "weighted avg       0.95      0.96      0.95       385\n",
      "\n",
      "Bootstrap confidence intervals for negation\n",
      "Precision: 0.98 (0.94 - 1.00)\n",
      "Recall: 0.98 (0.95 - 1.00)\n",
      "F1: 0.98 (0.96 - 1.00)\n"
     ]
    }
   ],
   "source": [
    "%cd C:/Users/Bas.Arends/Documents/\n",
    "%run ner/ner_training.py --model_type roberta --model_path ner/output/per_source+/ --task negation --do_eval --eval_data DCC/per_source/datasets/RD_val.txt --bio --bootstrap"
   ]
  },
  {
   "cell_type": "code",
   "execution_count": 26,
   "metadata": {},
   "outputs": [
    {
     "name": "stdout",
     "output_type": "stream",
     "text": [
      "C:\\Users\\Bas.Arends\\Documents\n",
      "F1: 0.906 \n",
      "              precision    recall  f1-score   support\n",
      "\n",
      "     Negated       0.86      0.86      0.86        37\n",
      "  NotNegated       0.90      0.93      0.91       194\n",
      "\n",
      "   micro avg       0.89      0.92      0.91       231\n",
      "   macro avg       0.88      0.90      0.89       231\n",
      "weighted avg       0.89      0.92      0.91       231\n",
      "\n",
      "Bootstrap confidence intervals for negation\n",
      "Precision: 0.87 (0.74 - 0.97)\n",
      "Recall: 0.87 (0.75 - 0.97)\n",
      "F1: 0.87 (0.77 - 0.96)\n"
     ]
    }
   ],
   "source": [
    "%cd C:/Users/Bas.Arends/Documents/\n",
    "%run ner/ner_training.py --model_type roberta --model_path ner/output/per_source+/ --task negation --do_eval --eval_data DCC/per_source/datasets/SP_val.txt --bio --bootstrap"
   ]
  },
  {
   "cell_type": "code",
   "execution_count": 27,
   "metadata": {},
   "outputs": [
    {
     "name": "stdout",
     "output_type": "stream",
     "text": [
      "C:\\Users\\Bas.Arends\\Documents\n",
      "F1: 0.941 \n",
      "              precision    recall  f1-score   support\n",
      "\n",
      "     Negated       0.89      0.96      0.92       166\n",
      "  NotNegated       0.94      0.95      0.94      1050\n",
      "\n",
      "   micro avg       0.93      0.95      0.94      1216\n",
      "   macro avg       0.92      0.95      0.93      1216\n",
      "weighted avg       0.93      0.95      0.94      1216\n",
      "\n",
      "Bootstrap confidence intervals for negation\n",
      "Precision: 0.88 (0.83 - 0.93)\n",
      "Recall: 0.96 (0.93 - 0.99)\n",
      "F1: 0.92 (0.89 - 0.96)\n"
     ]
    }
   ],
   "source": [
    "%cd C:/Users/Bas.Arends/Documents/\n",
    "%run ner/ner_training.py --model_type roberta --model_path ner/output/per_source/ --task negation --do_eval --eval_data DCC/per_source/datasets/all_val.txt --bio --bootstrap"
   ]
  },
  {
   "cell_type": "code",
   "execution_count": 28,
   "metadata": {},
   "outputs": [
    {
     "name": "stdout",
     "output_type": "stream",
     "text": [
      "C:\\Users\\Bas.Arends\\Documents\n",
      "F1: 0.970 \n",
      "              precision    recall  f1-score   support\n",
      "\n",
      "     Negated       0.95      1.00      0.97        35\n",
      "  NotNegated       0.97      0.97      0.97       232\n",
      "\n",
      "   micro avg       0.97      0.97      0.97       267\n",
      "   macro avg       0.96      0.98      0.97       267\n",
      "weighted avg       0.97      0.97      0.97       267\n",
      "\n",
      "Bootstrap confidence intervals for negation\n",
      "Precision: 0.95 (0.87 - 1.00)\n",
      "Recall: 1.00 (1.00 - 1.00)\n",
      "F1: 0.97 (0.93 - 1.00)\n"
     ]
    }
   ],
   "source": [
    "%cd C:/Users/Bas.Arends/Documents/\n",
    "%run ner/ner_training.py --model_type roberta --model_path ner/output/per_source/ --task negation --do_eval --eval_data DCC/per_source/datasets/DL_val.txt --bio --bootstrap"
   ]
  },
  {
   "cell_type": "code",
   "execution_count": 29,
   "metadata": {},
   "outputs": [
    {
     "name": "stdout",
     "output_type": "stream",
     "text": [
      "C:\\Users\\Bas.Arends\\Documents\n",
      "F1: 0.923 \n",
      "              precision    recall  f1-score   support\n",
      "\n",
      "     Negated       0.81      0.94      0.87        31\n",
      "  NotNegated       0.92      0.93      0.93       302\n",
      "\n",
      "   micro avg       0.91      0.93      0.92       333\n",
      "   macro avg       0.87      0.93      0.90       333\n",
      "weighted avg       0.91      0.93      0.92       333\n",
      "\n",
      "Bootstrap confidence intervals for negation\n",
      "Precision: 0.81 (0.62 - 0.95)\n",
      "Recall: 0.93 (0.82 - 1.00)\n",
      "F1: 0.86 (0.72 - 0.97)\n"
     ]
    }
   ],
   "source": [
    "%cd C:/Users/Bas.Arends/Documents/\n",
    "%run ner/ner_training.py --model_type roberta --model_path ner/output/per_source/ --task negation --do_eval --eval_data DCC/per_source/datasets/GP_val.txt --bio --bootstrap"
   ]
  },
  {
   "cell_type": "code",
   "execution_count": 30,
   "metadata": {},
   "outputs": [
    {
     "name": "stdout",
     "output_type": "stream",
     "text": [
      "C:\\Users\\Bas.Arends\\Documents\n",
      "F1: 0.956 \n",
      "              precision    recall  f1-score   support\n",
      "\n",
      "     Negated       0.98      1.00      0.99        63\n",
      "  NotNegated       0.94      0.95      0.95       322\n",
      "\n",
      "   micro avg       0.95      0.96      0.96       385\n",
      "   macro avg       0.96      0.98      0.97       385\n",
      "weighted avg       0.95      0.96      0.96       385\n",
      "\n",
      "Bootstrap confidence intervals for negation\n",
      "Precision: 0.98 (0.94 - 1.00)\n",
      "Recall: 1.00 (1.00 - 1.00)\n",
      "F1: 0.99 (0.97 - 1.00)\n"
     ]
    }
   ],
   "source": [
    "%cd C:/Users/Bas.Arends/Documents/\n",
    "%run ner/ner_training.py --model_type roberta --model_path ner/output/per_source/ --task negation --do_eval --eval_data DCC/per_source/datasets/RD_val.txt --bio --bootstrap"
   ]
  },
  {
   "cell_type": "code",
   "execution_count": 31,
   "metadata": {},
   "outputs": [
    {
     "name": "stdout",
     "output_type": "stream",
     "text": [
      "C:\\Users\\Bas.Arends\\Documents\n",
      "F1: 0.908 \n",
      "              precision    recall  f1-score   support\n",
      "\n",
      "     Negated       0.77      0.89      0.82        37\n",
      "  NotNegated       0.92      0.93      0.93       194\n",
      "\n",
      "   micro avg       0.89      0.92      0.91       231\n",
      "   macro avg       0.85      0.91      0.88       231\n",
      "weighted avg       0.90      0.92      0.91       231\n",
      "\n",
      "Bootstrap confidence intervals for negation\n",
      "Precision: 0.77 (0.58 - 0.92)\n",
      "Recall: 0.89 (0.76 - 0.97)\n",
      "F1: 0.82 (0.69 - 0.94)\n"
     ]
    }
   ],
   "source": [
    "%cd C:/Users/Bas.Arends/Documents/\n",
    "%run ner/ner_training.py --model_type roberta --model_path ner/output/per_source/ --task negation --do_eval --eval_data DCC/per_source/datasets/SP_val.txt --bio --bootstrap"
   ]
  },
  {
   "cell_type": "code",
   "execution_count": null,
   "metadata": {},
   "outputs": [],
   "source": []
  }
 ],
 "metadata": {
  "kernelspec": {
   "display_name": "Python 3 (ipykernel)",
   "language": "python",
   "name": "python3"
  },
  "language_info": {
   "codemirror_mode": {
    "name": "ipython",
    "version": 3
   },
   "file_extension": ".py",
   "mimetype": "text/x-python",
   "name": "python",
   "nbconvert_exporter": "python",
   "pygments_lexer": "ipython3",
   "version": "3.8.10"
  }
 },
 "nbformat": 4,
 "nbformat_minor": 4
}
