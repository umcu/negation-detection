{
 "cells": [
  {
   "cell_type": "markdown",
   "id": "271b4fe3",
   "metadata": {},
   "source": [
    "# Evaluation"
   ]
  },
  {
   "cell_type": "code",
   "execution_count": 1,
   "id": "a9f3ece5",
   "metadata": {},
   "outputs": [],
   "source": [
    "from pathlib import Path\n",
    "from evaluation_utils import print_statistics, get_document_text\n",
    "import pandas as pd\n",
    "import json\n",
    "import numpy as np\n",
    "\n",
    "data_dir = Path('data')\n",
    "annotation_file = data_dir / 'emc-dcc_ann.json'\n",
    "dcc_dir = data_dir / 'EMCDutchClinicalCorpus'\n",
    "result_dir = Path('results')\n",
    "bilstm_result_file = result_dir / 'bilstm_predictions.csv.gz'\n",
    "rule_based_result_file = result_dir / 'rule-based_predictions.csv.gz'\n",
    "merged_result_file = result_dir / 'merged_results.csv.gz'\n",
    "\n",
    "# Load annotated data\n",
    "with open(annotation_file) as f:\n",
    "    annotations = json.load(f)\n",
    "    \n",
    "# Load biLSTM results\n",
    "bilstm_annotations = pd.read_csv(bilstm_result_file)\n",
    "\n",
    "# Load rule based results\n",
    "ruled_based_annotations = pd.read_csv(rule_based_result_file)"
   ]
  },
  {
   "cell_type": "code",
   "execution_count": 2,
   "id": "19bf4729",
   "metadata": {},
   "outputs": [
    {
     "data": {
      "text/plain": [
       "(12551, 2)"
      ]
     },
     "execution_count": 2,
     "metadata": {},
     "output_type": "execute_result"
    }
   ],
   "source": [
    "bilstm_annotations.shape"
   ]
  },
  {
   "cell_type": "code",
   "execution_count": 3,
   "id": "4d62d405",
   "metadata": {},
   "outputs": [],
   "source": [
    "# Load annotated data\n",
    "result = []\n",
    "for document in annotations['projects'][0]['documents']:\n",
    "    document_name = document['name']\n",
    "    text = document['text']\n",
    "\n",
    "    for annotation in document['annotations']:\n",
    "\n",
    "        # Extract data\n",
    "        start_char = annotation['start']\n",
    "        end_char = annotation['end']\n",
    "        negation_value = annotation['meta_anns']['Negation']['value']\n",
    "\n",
    "        # Create custom ID\n",
    "        entity_id = f'{document_name}_{start_char}_{end_char}'\n",
    "        result.append([entity_id, negation_value])\n",
    "results = pd.DataFrame(result, columns=['entity_id', 'label'])"
   ]
  },
  {
   "cell_type": "markdown",
   "id": "e2fb1ee5",
   "metadata": {},
   "source": [
    "## Merge annotations from different methods"
   ]
  },
  {
   "cell_type": "code",
   "execution_count": 4,
   "id": "ca76bfca",
   "metadata": {},
   "outputs": [],
   "source": [
    "results = pd.merge(left=results, right = bilstm_annotations, left_on='entity_id', right_on='entity_id')"
   ]
  },
  {
   "cell_type": "code",
   "execution_count": 5,
   "id": "e74984ca",
   "metadata": {},
   "outputs": [],
   "source": [
    "results = pd.merge(left=results, right = ruled_based_annotations, left_on='entity_id', right_on='entity_id')\n",
    "results.drop(['annotation'], axis=1, inplace=True)"
   ]
  },
  {
   "cell_type": "code",
   "execution_count": 6,
   "id": "9f797707",
   "metadata": {},
   "outputs": [
    {
     "data": {
      "text/html": [
       "<div>\n",
       "<style scoped>\n",
       "    .dataframe tbody tr th:only-of-type {\n",
       "        vertical-align: middle;\n",
       "    }\n",
       "\n",
       "    .dataframe tbody tr th {\n",
       "        vertical-align: top;\n",
       "    }\n",
       "\n",
       "    .dataframe thead th {\n",
       "        text-align: right;\n",
       "    }\n",
       "</style>\n",
       "<table border=\"1\" class=\"dataframe\">\n",
       "  <thead>\n",
       "    <tr style=\"text-align: right;\">\n",
       "      <th></th>\n",
       "      <th>entity_id</th>\n",
       "      <th>label</th>\n",
       "      <th>bilstm</th>\n",
       "      <th>rule_based</th>\n",
       "    </tr>\n",
       "  </thead>\n",
       "  <tbody>\n",
       "    <tr>\n",
       "      <th>0</th>\n",
       "      <td>DL1111_32_46</td>\n",
       "      <td>not negated</td>\n",
       "      <td>not negated</td>\n",
       "      <td>not negated</td>\n",
       "    </tr>\n",
       "    <tr>\n",
       "      <th>1</th>\n",
       "      <td>DL1111_272_280</td>\n",
       "      <td>not negated</td>\n",
       "      <td>not negated</td>\n",
       "      <td>not negated</td>\n",
       "    </tr>\n",
       "    <tr>\n",
       "      <th>2</th>\n",
       "      <td>DL1111_363_377</td>\n",
       "      <td>not negated</td>\n",
       "      <td>not negated</td>\n",
       "      <td>not negated</td>\n",
       "    </tr>\n",
       "    <tr>\n",
       "      <th>3</th>\n",
       "      <td>DL1112_22_28</td>\n",
       "      <td>negated</td>\n",
       "      <td>negated</td>\n",
       "      <td>negated</td>\n",
       "    </tr>\n",
       "    <tr>\n",
       "      <th>4</th>\n",
       "      <td>DL1113_59_67</td>\n",
       "      <td>not negated</td>\n",
       "      <td>not negated</td>\n",
       "      <td>not negated</td>\n",
       "    </tr>\n",
       "  </tbody>\n",
       "</table>\n",
       "</div>"
      ],
      "text/plain": [
       "        entity_id        label       bilstm   rule_based\n",
       "0    DL1111_32_46  not negated  not negated  not negated\n",
       "1  DL1111_272_280  not negated  not negated  not negated\n",
       "2  DL1111_363_377  not negated  not negated  not negated\n",
       "3    DL1112_22_28      negated      negated      negated\n",
       "4    DL1113_59_67  not negated  not negated  not negated"
      ]
     },
     "execution_count": 6,
     "metadata": {},
     "output_type": "execute_result"
    }
   ],
   "source": [
    "results.head(5)"
   ]
  },
  {
   "cell_type": "markdown",
   "id": "43dbcab6",
   "metadata": {},
   "source": [
    "## Results biLSTM"
   ]
  },
  {
   "cell_type": "code",
   "execution_count": 7,
   "id": "cbc4e6d4",
   "metadata": {},
   "outputs": [
    {
     "name": "stdout",
     "output_type": "stream",
     "text": [
      "tp: 1737\n",
      "tn: 10766\n",
      "fp: 25\n",
      "fn: 23\n",
      "recall: 0.99\n",
      "precision: 0.99\n",
      "specificity: 1.0\n",
      "accuracy: 1.0\n",
      "f1: 0.99\n"
     ]
    }
   ],
   "source": [
    "print_statistics(results, 'bilstm')"
   ]
  },
  {
   "cell_type": "markdown",
   "id": "23ddd616",
   "metadata": {},
   "source": [
    "## Results Rule Based"
   ]
  },
  {
   "cell_type": "code",
   "execution_count": 8,
   "id": "748acf38",
   "metadata": {},
   "outputs": [
    {
     "name": "stdout",
     "output_type": "stream",
     "text": [
      "tp: 1569\n",
      "tn: 10455\n",
      "fp: 336\n",
      "fn: 191\n",
      "recall: 0.89\n",
      "precision: 0.82\n",
      "specificity: 0.97\n",
      "accuracy: 0.96\n",
      "f1: 0.86\n"
     ]
    }
   ],
   "source": [
    "print_statistics(results, 'rule_based')"
   ]
  },
  {
   "cell_type": "markdown",
   "id": "2258d292",
   "metadata": {},
   "source": [
    "## Save merged results"
   ]
  },
  {
   "cell_type": "code",
   "execution_count": 9,
   "id": "2931823d",
   "metadata": {},
   "outputs": [],
   "source": [
    "results.to_csv(merged_result_file, index=False, compression='gzip')"
   ]
  }
 ],
 "metadata": {
  "kernelspec": {
   "display_name": "Python 3",
   "language": "python",
   "name": "python3"
  },
  "language_info": {
   "codemirror_mode": {
    "name": "ipython",
    "version": 3
   },
   "file_extension": ".py",
   "mimetype": "text/x-python",
   "name": "python",
   "nbconvert_exporter": "python",
   "pygments_lexer": "ipython3",
   "version": "3.8.5"
  }
 },
 "nbformat": 4,
 "nbformat_minor": 5
}
