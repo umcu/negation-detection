{
 "cells": [
  {
   "cell_type": "code",
   "execution_count": 1,
   "metadata": {},
   "outputs": [
    {
     "data": {
      "text/plain": [
       "True"
      ]
     },
     "execution_count": 1,
     "metadata": {},
     "output_type": "execute_result"
    }
   ],
   "source": [
    "import torch\n",
    "torch.cuda.is_available()"
   ]
  },
  {
   "cell_type": "code",
   "execution_count": null,
   "metadata": {},
   "outputs": [],
   "source": [
    "%cd /Users/Bas.Arends/Documents/\n",
    "%run run_language_modeling.py --output_dir=models/mediumbert/output --model_type bert --config_name models/mediumbert/config --tokenizer_name models/mediumbert/config --do_train --train_data_file=corpus/train.txt --do_eval --eval_data_file=corpus/val.txt --mlm --logging_steps 12000 --save_steps 6000 --save_total_limit 3 --num_train_epochs 23 --overwrite_output_dir --per_gpu_train_batch_size 10 --per_gpu_eval_batch_size 10 --evaluate_during_training --block_size 512\n",
    "torch.cuda.empty_cache()"
   ]
  }
 ],
 "metadata": {
  "kernelspec": {
   "display_name": "Python 3",
   "language": "python",
   "name": "python3"
  },
  "language_info": {
   "codemirror_mode": {
    "name": "ipython",
    "version": 3
   },
   "file_extension": ".py",
   "mimetype": "text/x-python",
   "name": "python",
   "nbconvert_exporter": "python",
   "pygments_lexer": "ipython3",
   "version": "3.8.3"
  }
 },
 "nbformat": 4,
 "nbformat_minor": 4
}
