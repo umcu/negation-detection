{
 "cells": [
  {
   "cell_type": "markdown",
   "id": "271b4fe3",
   "metadata": {},
   "source": [
    "# Evaluation"
   ]
  },
  {
   "cell_type": "code",
   "execution_count": 1,
   "id": "a9f3ece5",
   "metadata": {},
   "outputs": [],
   "source": [
    "from pathlib import Path\n",
    "from evaluation_utils import predict_negations, print_statistics, print_document_text\n",
    "import pandas as pd\n",
    "import json\n",
    "import numpy as np\n",
    "\n",
    "data_dir = Path('data')\n",
    "annotation_file = data_dir / 'emc-dcc_ann.json'\n",
    "dcc_dir = data_dir / 'EMCDutchClinicalCorpus'\n",
    "\n",
    "# Load annotated data\n",
    "with open(annotation_file) as f:\n",
    "    annotations = json.load(f)"
   ]
  },
  {
   "cell_type": "markdown",
   "id": "e680245c",
   "metadata": {},
   "source": [
    "## Evaluate MetaCAT"
   ]
  },
  {
   "cell_type": "code",
   "execution_count": 2,
   "id": "26451ebb",
   "metadata": {},
   "outputs": [],
   "source": [
    "# Initiate MetaCAT\n",
    "from medcat.meta_cat import MetaCAT\n",
    "metacat_model_dir = Path('output') / 'bilstm'\n",
    "mc_negation = MetaCAT()\n",
    "mc_negation = mc_negation.load(save_dir=metacat_model_dir, add_prefix_space=True)"
   ]
  },
  {
   "cell_type": "code",
   "execution_count": 3,
   "id": "1c2952e0",
   "metadata": {},
   "outputs": [],
   "source": [
    "# Predict negations\n",
    "bilstm_predictions = predict_negations(annotations, 'bilstm', mc_negation)"
   ]
  },
  {
   "cell_type": "code",
   "execution_count": 4,
   "id": "a6c2a0ed",
   "metadata": {},
   "outputs": [
    {
     "data": {
      "text/html": [
       "<div>\n",
       "<style scoped>\n",
       "    .dataframe tbody tr th:only-of-type {\n",
       "        vertical-align: middle;\n",
       "    }\n",
       "\n",
       "    .dataframe tbody tr th {\n",
       "        vertical-align: top;\n",
       "    }\n",
       "\n",
       "    .dataframe thead th {\n",
       "        text-align: right;\n",
       "    }\n",
       "</style>\n",
       "<table border=\"1\" class=\"dataframe\">\n",
       "  <thead>\n",
       "    <tr style=\"text-align: right;\">\n",
       "      <th></th>\n",
       "      <th>entity_id</th>\n",
       "      <th>annotation</th>\n",
       "      <th>bilstm</th>\n",
       "    </tr>\n",
       "  </thead>\n",
       "  <tbody>\n",
       "    <tr>\n",
       "      <th>0</th>\n",
       "      <td>DL1111_32_46</td>\n",
       "      <td>not negated</td>\n",
       "      <td>not negated</td>\n",
       "    </tr>\n",
       "    <tr>\n",
       "      <th>1</th>\n",
       "      <td>DL1111_272_280</td>\n",
       "      <td>not negated</td>\n",
       "      <td>not negated</td>\n",
       "    </tr>\n",
       "    <tr>\n",
       "      <th>2</th>\n",
       "      <td>DL1111_363_377</td>\n",
       "      <td>not negated</td>\n",
       "      <td>not negated</td>\n",
       "    </tr>\n",
       "    <tr>\n",
       "      <th>3</th>\n",
       "      <td>DL1112_22_28</td>\n",
       "      <td>negated</td>\n",
       "      <td>negated</td>\n",
       "    </tr>\n",
       "    <tr>\n",
       "      <th>4</th>\n",
       "      <td>DL1113_59_67</td>\n",
       "      <td>not negated</td>\n",
       "      <td>not negated</td>\n",
       "    </tr>\n",
       "    <tr>\n",
       "      <th>...</th>\n",
       "      <td>...</td>\n",
       "      <td>...</td>\n",
       "      <td>...</td>\n",
       "    </tr>\n",
       "    <tr>\n",
       "      <th>12606</th>\n",
       "      <td>SP2118_862_876</td>\n",
       "      <td>not negated</td>\n",
       "      <td>not negated</td>\n",
       "    </tr>\n",
       "    <tr>\n",
       "      <th>12607</th>\n",
       "      <td>SP2119_23_45</td>\n",
       "      <td>negated</td>\n",
       "      <td>negated</td>\n",
       "    </tr>\n",
       "    <tr>\n",
       "      <th>12608</th>\n",
       "      <td>SP2120_3_23</td>\n",
       "      <td>not negated</td>\n",
       "      <td>not negated</td>\n",
       "    </tr>\n",
       "    <tr>\n",
       "      <th>12609</th>\n",
       "      <td>SP2121_73_85</td>\n",
       "      <td>not negated</td>\n",
       "      <td>not negated</td>\n",
       "    </tr>\n",
       "    <tr>\n",
       "      <th>12610</th>\n",
       "      <td>SP2122_0_19</td>\n",
       "      <td>not negated</td>\n",
       "      <td>not negated</td>\n",
       "    </tr>\n",
       "  </tbody>\n",
       "</table>\n",
       "<p>12611 rows × 3 columns</p>\n",
       "</div>"
      ],
      "text/plain": [
       "            entity_id   annotation       bilstm\n",
       "0        DL1111_32_46  not negated  not negated\n",
       "1      DL1111_272_280  not negated  not negated\n",
       "2      DL1111_363_377  not negated  not negated\n",
       "3        DL1112_22_28      negated      negated\n",
       "4        DL1113_59_67  not negated  not negated\n",
       "...               ...          ...          ...\n",
       "12606  SP2118_862_876  not negated  not negated\n",
       "12607    SP2119_23_45      negated      negated\n",
       "12608     SP2120_3_23  not negated  not negated\n",
       "12609    SP2121_73_85  not negated  not negated\n",
       "12610     SP2122_0_19  not negated  not negated\n",
       "\n",
       "[12611 rows x 3 columns]"
      ]
     },
     "execution_count": 4,
     "metadata": {},
     "output_type": "execute_result"
    }
   ],
   "source": [
    "# Check output table\n",
    "bilstm_predictions"
   ]
  },
  {
   "cell_type": "code",
   "execution_count": 5,
   "id": "cbc4e6d4",
   "metadata": {},
   "outputs": [
    {
     "name": "stdout",
     "output_type": "stream",
     "text": [
      "tp: 1260\n",
      "tn: 10796\n",
      "fp: 42\n",
      "fn: 513\n",
      "recall: 0.71\n",
      "precision: 0.97\n",
      "specificity: 1.0\n",
      "accuracy: 0.96\n",
      "f1: 0.82\n"
     ]
    }
   ],
   "source": [
    "# Calculate statistics\n",
    "print_statistics(bilstm_predictions, 'bilstm')"
   ]
  },
  {
   "cell_type": "code",
   "execution_count": 6,
   "id": "f9a44479",
   "metadata": {},
   "outputs": [
    {
     "data": {
      "text/html": [
       "<div>\n",
       "<style scoped>\n",
       "    .dataframe tbody tr th:only-of-type {\n",
       "        vertical-align: middle;\n",
       "    }\n",
       "\n",
       "    .dataframe tbody tr th {\n",
       "        vertical-align: top;\n",
       "    }\n",
       "\n",
       "    .dataframe thead th {\n",
       "        text-align: right;\n",
       "    }\n",
       "</style>\n",
       "<table border=\"1\" class=\"dataframe\">\n",
       "  <thead>\n",
       "    <tr style=\"text-align: right;\">\n",
       "      <th></th>\n",
       "      <th>entity_id</th>\n",
       "      <th>annotation</th>\n",
       "      <th>bilstm</th>\n",
       "    </tr>\n",
       "  </thead>\n",
       "  <tbody>\n",
       "    <tr>\n",
       "      <th>2791</th>\n",
       "      <td>DL2111_108_116</td>\n",
       "      <td>negated</td>\n",
       "      <td>not negated</td>\n",
       "    </tr>\n",
       "  </tbody>\n",
       "</table>\n",
       "</div>"
      ],
      "text/plain": [
       "           entity_id annotation       bilstm\n",
       "2791  DL2111_108_116    negated  not negated"
      ]
     },
     "execution_count": 6,
     "metadata": {},
     "output_type": "execute_result"
    }
   ],
   "source": [
    "bilstm_predictions[bilstm_predictions.entity_id == 'DL2111_108_116']"
   ]
  },
  {
   "cell_type": "code",
   "execution_count": 7,
   "id": "800ccb5a",
   "metadata": {},
   "outputs": [
    {
     "name": "stdout",
     "output_type": "stream",
     "text": [
      "Geen ochtendstijfheid noch startstijfheid.\n",
      "In de voorgeschiedenis geen luxatie of subluxatie.\n",
      "Geen dead arm syndroom.\n",
      "Geen atrofie.\n",
      "Beeldvormende diagnostiek: X-linker en rechter schouder 2 richtingen: kleine cyste in het tuberculum majus aan de rechterzijde met bdz.\n",
      "Echografie: een totale supraspinatuspees ruptuur.\n",
      "Conclusie: Schouderklachten bij status na totale supraspinatuspees ruptuur.\n",
      "\n",
      "Entity: syndroom (108-116)\n"
     ]
    }
   ],
   "source": [
    "# Print a single example of a false negative\n",
    "print_document_text('DL2111_108_116', dcc_dir)"
   ]
  },
  {
   "cell_type": "markdown",
   "id": "d9164aad",
   "metadata": {},
   "source": [
    "## To do\n",
    "\n",
    "Output table containing all predictions for easier error analysis. Something like this:\n",
    "\n",
    "| entity_id | annotation | bilstm | rule_based | bert |\n",
    "|-|-|-|-|-|\n",
    "| DL9998_32_46 | not negated | negated | not negated | not negated |\n",
    "| DL9999_75_87 | negated | not negated | negated | negated |"
   ]
  }
 ],
 "metadata": {
  "kernelspec": {
   "display_name": "Python 3",
   "language": "python",
   "name": "python3"
  },
  "language_info": {
   "codemirror_mode": {
    "name": "ipython",
    "version": 3
   },
   "file_extension": ".py",
   "mimetype": "text/x-python",
   "name": "python",
   "nbconvert_exporter": "python",
   "pygments_lexer": "ipython3",
   "version": "3.8.10"
  }
 },
 "nbformat": 4,
 "nbformat_minor": 5
}
