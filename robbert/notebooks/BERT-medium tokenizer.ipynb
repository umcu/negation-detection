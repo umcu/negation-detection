{
 "cells": [
  {
   "cell_type": "code",
   "execution_count": null,
   "metadata": {},
   "outputs": [],
   "source": [
    "from tokenizers import BertWordPieceTokenizer\n",
    "\n",
    "paths = [\"/Users/Bas.Arends/Documents/corpus/train.txt\"]\n",
    "\n",
    "tokenizer = BertWordPieceTokenizer(clean_text = True, handle_chinese_chars = False, strip_accents = False, lowercase = False)\n",
    "tokenizer.train(files = paths, vocab_size = 30000, min_frequency = 1, special_tokens = [\"[PAD]\", \"[UNK]\", \"[CLS]\", \"[SEP]\", \"[MASK]\"])\n",
    "tokenizer.save(\"/Users/Bas.Arends/Documents/models/mediumbert/config/\")"
   ]
  }
 ],
 "metadata": {
  "kernelspec": {
   "display_name": "Python 3",
   "language": "python",
   "name": "python3"
  },
  "language_info": {
   "codemirror_mode": {
    "name": "ipython",
    "version": 3
   },
   "file_extension": ".py",
   "mimetype": "text/x-python",
   "name": "python",
   "nbconvert_exporter": "python",
   "pygments_lexer": "ipython3",
   "version": "3.8.3"
  }
 },
 "nbformat": 4,
 "nbformat_minor": 4
}
