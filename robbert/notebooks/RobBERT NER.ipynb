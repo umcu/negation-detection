{
 "cells": [
  {
   "cell_type": "code",
   "execution_count": null,
   "source": [
    "%cd C:/Users/Bas.Arends/Documents/\n",
    "%run ner/ner_training.py --model_type roberta --model_path models/robbert/output --output_dir ner/output/ --task negation --train_data DCC/datasets/train.txt --eval_data DCC/datasets/val.txt --num_epochs 4 --gradient_accumulation_steps 1 --eval_steps 50 --batch_size 16 --lr 2e-5 --bio"
   ],
   "outputs": [],
   "metadata": {}
  },
  {
   "cell_type": "code",
   "execution_count": null,
   "source": [
    "%cd C:/Users/Bas.Arends/Documents/\n",
    "%run ner/ner_training.py --model_type roberta --model_path models/robbert/output --output_dir ner/output/ --task negation --train_data DCC/datasets/train.txt --eval_data DCC/datasets/val.txt --num_epochs 4 --gradient_accumulation_steps 1 --eval_steps 50 --batch_size 16 --lr 3e-5 --bio"
   ],
   "outputs": [],
   "metadata": {}
  },
  {
   "cell_type": "code",
   "execution_count": null,
   "source": [
    "%cd C:/Users/Bas.Arends/Documents/\n",
    "%run ner/ner_training.py --model_type roberta --model_path models/robbert/output --output_dir ner/output/ --task negation --train_data DCC/datasets/train.txt --eval_data DCC/datasets/val.txt --num_epochs 4 --gradient_accumulation_steps 1 --eval_steps 50 --batch_size 16 --lr 5e-5 --bio"
   ],
   "outputs": [],
   "metadata": {}
  },
  {
   "cell_type": "code",
   "execution_count": null,
   "source": [
    "%cd C:/Users/Bas.Arends/Documents/\n",
    "%run ner/ner_training.py --model_type roberta --model_path models/robbert/output --output_dir ner/output/ --task negation --train_data DCC/datasets/train.txt --eval_data DCC/datasets/val.txt --num_epochs 4 --gradient_accumulation_steps 2 --eval_steps 50 --batch_size 16 --lr 2e-5 --bio"
   ],
   "outputs": [],
   "metadata": {}
  },
  {
   "cell_type": "code",
   "execution_count": null,
   "source": [
    "%cd C:/Users/Bas.Arends/Documents/\n",
    "%run ner/ner_training.py --model_type roberta --model_path models/robbert/output --output_dir ner/output/ --task negation --train_data DCC/datasets/train.txt --eval_data DCC/datasets/val.txt --num_epochs 4 --gradient_accumulation_steps 2 --eval_steps 50 --batch_size 16 --lr 3e-5 --bio"
   ],
   "outputs": [],
   "metadata": {}
  },
  {
   "cell_type": "code",
   "execution_count": null,
   "source": [
    "%cd C:/Users/Bas.Arends/Documents/\n",
    "%run ner/ner_training.py --model_type roberta --model_path models/robbert/output --output_dir ner/output/ --task negation --train_data DCC/datasets/train.txt --eval_data DCC/datasets/val.txt --num_epochs 4 --gradient_accumulation_steps 2 --eval_steps 50 --batch_size 16 --lr 5e-5 --bio"
   ],
   "outputs": [],
   "metadata": {}
  },
  {
   "cell_type": "code",
   "execution_count": null,
   "source": [
    "%cd C:/Users/Bas.Arends/Documents/\n",
    "%run ner/ner_training.py --model_type roberta --model_path models/robbert/output --output_dir ner/output/ --task negation --train_data DCC/datasets/train.txt --eval_data DCC/datasets/val.txt --num_epochs 4 --gradient_accumulation_steps 4 --eval_steps 50 --batch_size 16 --lr 2e-5 --bio"
   ],
   "outputs": [],
   "metadata": {}
  },
  {
   "cell_type": "code",
   "execution_count": null,
   "source": [
    "%cd C:/Users/Bas.Arends/Documents/\n",
    "%run ner/ner_training.py --model_type roberta --model_path models/robbert/output --output_dir ner/output/ --task negation --train_data DCC/datasets/train.txt --eval_data DCC/datasets/val.txt --num_epochs 4 --gradient_accumulation_steps 4 --eval_steps 50 --batch_size 16 --lr 3e-5 --bio"
   ],
   "outputs": [],
   "metadata": {}
  },
  {
   "cell_type": "code",
   "execution_count": null,
   "source": [
    "%cd C:/Users/Bas.Arends/Documents/\n",
    "%run ner/ner_training.py --model_type roberta --model_path models/robbert/output --output_dir ner/output/ --task negation --train_data DCC/datasets/train.txt --eval_data DCC/datasets/val.txt --num_epochs 4 --gradient_accumulation_steps 4 --eval_steps 50 --batch_size 16 --lr 5e-5 --bio"
   ],
   "outputs": [],
   "metadata": {}
  },
  {
   "cell_type": "code",
   "execution_count": null,
   "source": [
    "%cd C:/Users/Bas.Arends/Documents/\n",
    "%run ner/ner_training.py --model_type roberta --model_path models/robbert/output --output_dir ner/output/ --task negation --train_data DCC/datasets/train.txt --eval_data DCC/datasets/val.txt --num_epochs 4 --gradient_accumulation_steps 1 --eval_steps 100 --batch_size 8 --lr 2e-5 --bio"
   ],
   "outputs": [],
   "metadata": {}
  },
  {
   "cell_type": "code",
   "execution_count": null,
   "source": [
    "%cd C:/Users/Bas.Arends/Documents/\n",
    "%run ner/ner_training.py --model_type roberta --model_path models/robbert/output --output_dir ner/output/ --task negation --train_data DCC/datasets/train.txt --eval_data DCC/datasets/val.txt --num_epochs 4 --gradient_accumulation_steps 1 --eval_steps 100 --batch_size 8 --lr 3e-5 --bio"
   ],
   "outputs": [],
   "metadata": {}
  },
  {
   "cell_type": "code",
   "execution_count": null,
   "source": [
    "%cd C:/Users/Bas.Arends/Documents/\n",
    "%run ner/ner_training.py --model_type roberta --model_path models/robbert/output --output_dir ner/output/ --task negation --train_data DCC/datasets/train.txt --eval_data DCC/datasets/val.txt --num_epochs 4 --gradient_accumulation_steps 1 --eval_steps 100 --batch_size 8 --lr 5e-5 --bio"
   ],
   "outputs": [],
   "metadata": {}
  },
  {
   "cell_type": "code",
   "execution_count": null,
   "source": [
    "%cd C:/Users/Bas.Arends/Documents/\n",
    "%run ner/ner_training.py --model_type roberta --model_path models/robbert/output --output_dir ner/output/ --task negation --train_data DCC/datasets/train.txt --eval_data DCC/datasets/val.txt --num_epochs 4 --gradient_accumulation_steps 1 --eval_steps 100 --batch_size 8 --lr 1e-4 --bio"
   ],
   "outputs": [],
   "metadata": {}
  },
  {
   "cell_type": "code",
   "execution_count": null,
   "source": [
    "%cd C:/Users/Bas.Arends/Documents/\n",
    "%run ner/ner_training.py --model_type roberta --model_path models/robbert/output --output_dir ner/output/ --task negation --train_data DCC/datasets/train.txt --eval_data DCC/datasets/val.txt --num_epochs 4 --gradient_accumulation_steps 1 --eval_steps 50 --batch_size 16 --lr 1e-4 --bio"
   ],
   "outputs": [],
   "metadata": {}
  },
  {
   "cell_type": "code",
   "execution_count": null,
   "source": [
    "%cd C:/Users/Bas.Arends/Documents/\n",
    "%run ner/ner_training.py --model_type roberta --model_path models/robbert/output --output_dir ner/output/ --task negation --train_data DCC/datasets/train.txt --eval_data DCC/datasets/val.txt --num_epochs 4 --gradient_accumulation_steps 2 --eval_steps 50 --batch_size 16 --lr 1e-4 --bio"
   ],
   "outputs": [],
   "metadata": {}
  },
  {
   "cell_type": "code",
   "execution_count": null,
   "source": [
    "%cd C:/Users/Bas.Arends/Documents/\n",
    "%run ner/ner_training.py --model_type roberta --model_path models/robbert/output --output_dir ner/output/ --task negation --train_data DCC/datasets/train.txt --eval_data DCC/datasets/val.txt --num_epochs 4 --gradient_accumulation_steps 4 --eval_steps 50 --batch_size 16 --lr 1e-4 --bio"
   ],
   "outputs": [],
   "metadata": {}
  },
  {
   "cell_type": "code",
   "execution_count": null,
   "source": [
    "%cd C:/Users/Bas.Arends/Documents/\n",
    "%run ner/ner_training.py --model_type roberta --model_path models/robbert/output --output_dir ner/output/ --task negation --train_data DCC/datasets/train.txt --eval_data DCC/datasets/val.txt --num_epochs 4 --gradient_accumulation_steps 1 --eval_steps 100 --batch_size 8 --lr 1e-5 --bio"
   ],
   "outputs": [],
   "metadata": {}
  },
  {
   "cell_type": "code",
   "execution_count": null,
   "source": [
    "%cd C:/Users/Bas.Arends/Documents/\n",
    "%run ner/ner_training.py --model_type roberta --model_path models/robbert/output --output_dir ner/output/ --task negation --train_data DCC/datasets/train.txt --eval_data DCC/datasets/val.txt --num_epochs 4 --gradient_accumulation_steps 1 --eval_steps 50 --batch_size 16 --lr 1e-5 --bio"
   ],
   "outputs": [],
   "metadata": {}
  },
  {
   "cell_type": "code",
   "execution_count": null,
   "source": [
    "%cd C:/Users/Bas.Arends/Documents/\n",
    "%run ner/ner_training.py --model_type roberta --model_path models/robbert/output --output_dir ner/output/ --task negation --train_data DCC/datasets/train.txt --eval_data DCC/datasets/val.txt --num_epochs 4 --gradient_accumulation_steps 2 --eval_steps 50 --batch_size 16 --lr 1e-5 --bio"
   ],
   "outputs": [],
   "metadata": {}
  },
  {
   "cell_type": "code",
   "execution_count": null,
   "source": [
    "%cd C:/Users/Bas.Arends/Documents/\n",
    "%run ner/ner_training.py --model_type roberta --model_path models/robbert/output --output_dir ner/output/ --task negation --train_data DCC/datasets/train.txt --eval_data DCC/datasets/val.txt --num_epochs 4 --gradient_accumulation_steps 4 --eval_steps 50 --batch_size 16 --lr 1e-5 --bio"
   ],
   "outputs": [],
   "metadata": {}
  },
  {
   "cell_type": "code",
   "execution_count": null,
   "source": [
    "%cd C:/Users/Bas.Arends/Documents/\n",
    "%run ner/ner_training.py --model_type roberta --model_path models/robbert/original --output_dir ner/output/ --task negation --train_data DCC/datasets/train.txt --eval_data DCC/datasets/val.txt --num_epochs 4 --gradient_accumulation_steps 1 --eval_steps 50 --batch_size 16 --lr 2e-5 --bio"
   ],
   "outputs": [],
   "metadata": {}
  },
  {
   "cell_type": "code",
   "execution_count": null,
   "source": [
    "%cd C:/Users/Bas.Arends/Documents/\n",
    "%run ner/ner_training.py --model_type roberta --model_path models/robbert/original --output_dir ner/output/ --task negation --train_data DCC/datasets/train.txt --eval_data DCC/datasets/val.txt --num_epochs 4 --gradient_accumulation_steps 1 --eval_steps 50 --batch_size 16 --lr 3e-5 --bio"
   ],
   "outputs": [],
   "metadata": {}
  },
  {
   "cell_type": "code",
   "execution_count": null,
   "source": [
    "%cd C:/Users/Bas.Arends/Documents/\n",
    "%run ner/ner_training.py --model_type roberta --model_path models/robbert/original --output_dir ner/output/ --task negation --train_data DCC/datasets/train.txt --eval_data DCC/datasets/val.txt --num_epochs 4 --gradient_accumulation_steps 1 --eval_steps 50 --batch_size 16 --lr 5e-5 --bio"
   ],
   "outputs": [],
   "metadata": {}
  },
  {
   "cell_type": "code",
   "execution_count": null,
   "source": [
    "%cd C:/Users/Bas.Arends/Documents/\n",
    "%run ner/ner_training.py --model_type roberta --model_path models/robbert/original --output_dir ner/output/ --task negation --train_data DCC/datasets/train.txt --eval_data DCC/datasets/val.txt --num_epochs 4 --gradient_accumulation_steps 1 --eval_steps 50 --batch_size 16 --lr 1e-4 --bio"
   ],
   "outputs": [],
   "metadata": {}
  },
  {
   "cell_type": "code",
   "execution_count": null,
   "source": [
    "%cd C:/Users/Bas.Arends/Documents/\n",
    "%run ner/ner_training.py --model_type roberta --model_path models/robbert/original --output_dir ner/output/ --task negation --train_data DCC/datasets/train.txt --eval_data DCC/datasets/val.txt --num_epochs 4 --gradient_accumulation_steps 2 --eval_steps 50 --batch_size 16 --lr 2e-5 --bio"
   ],
   "outputs": [],
   "metadata": {}
  },
  {
   "cell_type": "code",
   "execution_count": null,
   "source": [
    "%cd C:/Users/Bas.Arends/Documents/\n",
    "%run ner/ner_training.py --model_type roberta --model_path models/robbert/original --output_dir ner/output/ --task negation --train_data DCC/datasets/train.txt --eval_data DCC/datasets/val.txt --num_epochs 4 --gradient_accumulation_steps 2 --eval_steps 50 --batch_size 16 --lr 3e-5 --bio"
   ],
   "outputs": [],
   "metadata": {}
  },
  {
   "cell_type": "code",
   "execution_count": null,
   "source": [
    "%cd C:/Users/Bas.Arends/Documents/\n",
    "%run ner/ner_training.py --model_type roberta --model_path models/robbert/original --output_dir ner/output/ --task negation --train_data DCC/datasets/train.txt --eval_data DCC/datasets/val.txt --num_epochs 4 --gradient_accumulation_steps 2 --eval_steps 50 --batch_size 16 --lr 5e-5 --bio"
   ],
   "outputs": [],
   "metadata": {}
  },
  {
   "cell_type": "code",
   "execution_count": null,
   "source": [
    "%cd C:/Users/Bas.Arends/Documents/\n",
    "%run ner/ner_training.py --model_type roberta --model_path models/robbert/original --output_dir ner/output/ --task negation --train_data DCC/datasets/train.txt --eval_data DCC/datasets/val.txt --num_epochs 4 --gradient_accumulation_steps 2 --eval_steps 50 --batch_size 16 --lr 1e-4 --bio"
   ],
   "outputs": [],
   "metadata": {}
  },
  {
   "cell_type": "code",
   "execution_count": null,
   "source": [
    "%cd C:/Users/Bas.Arends/Documents/\n",
    "%run ner/ner_training.py --model_type roberta --model_path models/robbert/original --output_dir ner/output/ --task negation --train_data DCC/datasets/train.txt --eval_data DCC/datasets/val.txt --num_epochs 4 --gradient_accumulation_steps 4 --eval_steps 50 --batch_size 16 --lr 2e-5 --bio"
   ],
   "outputs": [],
   "metadata": {}
  },
  {
   "cell_type": "code",
   "execution_count": null,
   "source": [
    "%cd C:/Users/Bas.Arends/Documents/\n",
    "%run ner/ner_training.py --model_type roberta --model_path models/robbert/original --output_dir ner/output/ --task negation --train_data DCC/datasets/train.txt --eval_data DCC/datasets/val.txt --num_epochs 4 --gradient_accumulation_steps 4 --eval_steps 50 --batch_size 16 --lr 3e-5 --bio"
   ],
   "outputs": [],
   "metadata": {}
  },
  {
   "cell_type": "code",
   "execution_count": null,
   "source": [
    "%cd C:/Users/Bas.Arends/Documents/\n",
    "%run ner/ner_training.py --model_type roberta --model_path models/robbert/original --output_dir ner/output/ --task negation --train_data DCC/datasets/train.txt --eval_data DCC/datasets/val.txt --num_epochs 4 --gradient_accumulation_steps 4 --eval_steps 50 --batch_size 16 --lr 5e-5 --bio"
   ],
   "outputs": [],
   "metadata": {}
  },
  {
   "cell_type": "code",
   "execution_count": null,
   "source": [
    "%cd C:/Users/Bas.Arends/Documents/\n",
    "%run ner/ner_training.py --model_type roberta --model_path models/robbert/original --output_dir ner/output/ --task negation --train_data DCC/datasets/train.txt --eval_data DCC/datasets/val.txt --num_epochs 4 --gradient_accumulation_steps 4 --eval_steps 50 --batch_size 16 --lr 1e-4 --bio"
   ],
   "outputs": [],
   "metadata": {}
  },
  {
   "cell_type": "code",
   "execution_count": null,
   "source": [
    "%cd C:/Users/Bas.Arends/Documents/\n",
    "%run ner/ner_training.py --model_type roberta --model_path models/robbert/original --output_dir ner/output/ --task negation --train_data DCC/datasets/train.txt --eval_data DCC/datasets/val.txt --num_epochs 4 --gradient_accumulation_steps 1 --eval_steps 100 --batch_size 8 --lr 1e-4 --bio"
   ],
   "outputs": [],
   "metadata": {}
  },
  {
   "cell_type": "code",
   "execution_count": null,
   "source": [
    "%cd C:/Users/Bas.Arends/Documents/\n",
    "%run ner/ner_training.py --model_type roberta --model_path models/robbert/original --output_dir ner/output/ --task negation --train_data DCC/datasets/train.txt --eval_data DCC/datasets/val.txt --num_epochs 4 --gradient_accumulation_steps 1 --eval_steps 100 --batch_size 8 --lr 5e-5 --bio"
   ],
   "outputs": [],
   "metadata": {}
  },
  {
   "cell_type": "code",
   "execution_count": null,
   "source": [
    "%cd C:/Users/Bas.Arends/Documents/\n",
    "%run ner/ner_training.py --model_type roberta --model_path models/robbert/original --output_dir ner/output/ --task negation --train_data DCC/datasets/train.txt --eval_data DCC/datasets/val.txt --num_epochs 4 --gradient_accumulation_steps 1 --eval_steps 100 --batch_size 8 --lr 3e-5 --bio"
   ],
   "outputs": [],
   "metadata": {}
  },
  {
   "cell_type": "code",
   "execution_count": null,
   "source": [
    "%cd C:/Users/Bas.Arends/Documents/\n",
    "%run ner/ner_training.py --model_type roberta --model_path models/robbert/original --output_dir ner/output/ --task negation --train_data DCC/datasets/train.txt --eval_data DCC/datasets/val.txt --num_epochs 4 --gradient_accumulation_steps 1 --eval_steps 100 --batch_size 8 --lr 2e-5 --bio"
   ],
   "outputs": [],
   "metadata": {}
  },
  {
   "cell_type": "code",
   "execution_count": null,
   "source": [
    "%cd C:/Users/Bas.Arends/Documents/\n",
    "%run ner/ner_training.py --model_type roberta --model_path models/robbert/original --output_dir ner/output/ --task negation --train_data DCC/datasets/train.txt --eval_data DCC/datasets/val.txt --num_epochs 4 --gradient_accumulation_steps 1 --eval_steps 100 --batch_size 8 --lr 1e-5 --bio"
   ],
   "outputs": [],
   "metadata": {}
  },
  {
   "cell_type": "code",
   "execution_count": null,
   "source": [
    "%cd C:/Users/Bas.Arends/Documents/\n",
    "%run ner/ner_training.py --model_type roberta --model_path models/robbert/original --output_dir ner/output/ --task negation --train_data DCC/datasets/train.txt --eval_data DCC/datasets/val.txt --num_epochs 4 --gradient_accumulation_steps 1 --eval_steps 50 --batch_size 16 --lr 1e-5 --bio"
   ],
   "outputs": [],
   "metadata": {}
  },
  {
   "cell_type": "code",
   "execution_count": null,
   "source": [
    "%cd C:/Users/Bas.Arends/Documents/\n",
    "%run ner/ner_training.py --model_type roberta --model_path models/robbert/original --output_dir ner/output/ --task negation --train_data DCC/datasets/train.txt --eval_data DCC/datasets/val.txt --num_epochs 4 --gradient_accumulation_steps 2 --eval_steps 50 --batch_size 16 --lr 1e-5 --bio"
   ],
   "outputs": [],
   "metadata": {}
  },
  {
   "cell_type": "code",
   "execution_count": null,
   "source": [
    "%cd C:/Users/Bas.Arends/Documents/\n",
    "%run ner/ner_training.py --model_type roberta --model_path models/robbert/original --output_dir ner/output/ --task negation --train_data DCC/datasets/train.txt --eval_data DCC/datasets/val.txt --num_epochs 4 --gradient_accumulation_steps 4 --eval_steps 50 --batch_size 16 --lr 1e-5 --bio"
   ],
   "outputs": [],
   "metadata": {}
  },
  {
   "cell_type": "code",
   "execution_count": null,
   "source": [
    "%cd C:/Users/Bas.Arends/Documents/\n",
    "%run ner/ner_training.py --model_type roberta --model_path models/robbert/original/ --output_dir ner/output/robbert/ --task negation --train_data DCC/datasets/train.txt --eval_data DCC/datasets/val.txt --num_epochs 4 --gradient_accumulation_steps 1 --eval_steps 50 --batch_size 16 --lr 3e-5 --bio --save_model"
   ],
   "outputs": [],
   "metadata": {
    "scrolled": true
   }
  },
  {
   "cell_type": "code",
   "execution_count": null,
   "source": [
    "%cd C:/Users/Bas.Arends/Documents/\n",
    "%run ner/ner_training.py --model_type roberta --model_path models/robbert/output --output_dir ner/output/robbert+ --task negation --train_data DCC/datasets/train.txt --eval_data DCC/datasets/val.txt --num_epochs 4 --gradient_accumulation_steps 4 --eval_steps 50 --batch_size 16 --lr 5e-5 --bio --save_model"
   ],
   "outputs": [],
   "metadata": {}
  },
  {
   "cell_type": "code",
   "execution_count": null,
   "source": [
    "%cd C:/Users/Bas.Arends/Documents/\n",
    "%run ner/ner_training.py --model_type roberta --model_path ner/output/robbert/ --output_dir ner/output/robbert/ --task negation --train_data DCC/datasets/train.txt --eval_data DCC/datasets/test.txt --num_epochs 4 --gradient_accumulation_steps 4 --eval_steps 50 --batch_size 16 --lr 5e-5 --bio --evaluate_only"
   ],
   "outputs": [],
   "metadata": {}
  },
  {
   "cell_type": "code",
   "execution_count": null,
   "source": [
    "%cd C:/Users/Bas.Arends/Documents/\n",
    "%run ner/ner_training.py --model_type roberta --model_path ner/output/robbert/ --output_dir ner/output/robbert/ --task negation --train_data DCC/datasets/train.txt --eval_data DCC/datasets/test.txt --num_epochs 4 --gradient_accumulation_steps 4 --eval_steps 50 --batch_size 16 --lr 5e-5 --bio --evaluate_only --use_best_model"
   ],
   "outputs": [],
   "metadata": {}
  },
  {
   "cell_type": "code",
   "execution_count": null,
   "source": [
    "%cd C:/Users/Bas.Arends/Documents/\n",
    "%run ner/ner_training.py --model_type roberta --model_path ner/output/robbert+/ --output_dir ner/output/robbert+/ --task negation --train_data DCC/datasets/train.txt --eval_data DCC/datasets/test.txt --num_epochs 4 --gradient_accumulation_steps 4 --eval_steps 50 --batch_size 16 --lr 5e-5 --bio --evaluate_only"
   ],
   "outputs": [],
   "metadata": {}
  },
  {
   "cell_type": "code",
   "execution_count": null,
   "source": [
    "%cd C:/Users/Bas.Arends/Documents/\n",
    "%run ner/ner_training.py --model_type roberta --model_path ner/output/robbert+/ --output_dir ner/output/robbert+/ --task negation --train_data DCC/datasets/train.txt --eval_data DCC/datasets/test.txt --num_epochs 4 --gradient_accumulation_steps 4 --eval_steps 50 --batch_size 16 --lr 5e-5 --bio --evaluate_only --use_best_model"
   ],
   "outputs": [],
   "metadata": {}
  },
  {
   "cell_type": "code",
   "execution_count": null,
   "source": [
    "%cd C:/Users/Bas.Arends/Documents/\n",
    "%run ner/ner_training.py --model_type roberta --model_path models/robbert/original/ --output_dir ner/output/robbert/ --task negation --train_data DCC/datasets/train.txt --eval_data DCC/datasets/val.txt --num_epochs 4 --gradient_accumulation_steps 1 --eval_steps 50 --batch_size 16 --lr 5e-5 --bio --save_model"
   ],
   "outputs": [],
   "metadata": {
    "scrolled": true
   }
  },
  {
   "cell_type": "code",
   "execution_count": null,
   "source": [
    "%cd C:/Users/Bas.Arends/Documents/\n",
    "%run ner/ner_training.py --model_type roberta --model_path models/robbert/output/ --output_dir ner/output/robbert+/ --task negation --train_data DCC/datasets/train.txt --eval_data DCC/datasets/val.txt --num_epochs 4 --gradient_accumulation_steps 1 --eval_steps 50 --batch_size 16 --lr 5e-5 --bio --save_model"
   ],
   "outputs": [],
   "metadata": {}
  },
  {
   "cell_type": "code",
   "execution_count": null,
   "source": [
    "%cd C:/Users/Bas.Arends/Documents/\n",
    "%run ner/ner_training.py --model_type roberta --model_path ner/output/robbert/ --output_dir ner/output/robbert/ --task negation --train_data DCC/datasets/train.txt --eval_data DCC/datasets/test.txt --num_epochs 4 --gradient_accumulation_steps 4 --eval_steps 50 --batch_size 16 --lr 5e-5 --bio --evaluate_only"
   ],
   "outputs": [],
   "metadata": {}
  },
  {
   "cell_type": "code",
   "execution_count": null,
   "source": [
    "%cd C:/Users/Bas.Arends/Documents/\n",
    "%run ner/ner_training.py --model_type roberta --model_path ner/output/robbert+/ --output_dir ner/output/robbert+/ --task negation --train_data DCC/datasets/train.txt --eval_data DCC/datasets/test.txt --num_epochs 4 --gradient_accumulation_steps 4 --eval_steps 50 --batch_size 16 --lr 5e-5 --bio --evaluate_only"
   ],
   "outputs": [],
   "metadata": {}
  },
  {
   "cell_type": "code",
   "execution_count": null,
   "source": [
    "%cd C:/Users/Bas.Arends/Documents/\n",
    "%run ner/ner_training.py --model_type roberta --model_path models/robbert/output/ --output_dir ner/output/ --task negation --train_data DCC/datasets/train.txt --eval_data DCC/datasets/val.txt --num_epochs 4 --gradient_accumulation_steps 4 --eval_steps 50 --batch_size 16 --lr 5e-5 --bio"
   ],
   "outputs": [],
   "metadata": {
    "scrolled": true
   }
  },
  {
   "cell_type": "code",
   "execution_count": null,
   "source": [
    "%cd C:/Users/Bas.Arends/Documents/\n",
    "%run ner/ner_training.py --model_type roberta --model_path ner/output/per_source+/ --task negation --do_eval --eval_data DCC/per_source/datasets/DL_val.txt --bio%cd C:/Users/Bas.Arends/Documents/\n",
    "%run ner/ner_training.py --model_type roberta --model_path models/robbert/output/ --output_dir ner/output/per_source+/ --task negation --do_train --train_data DCC/per_source/datasets/all_train.txt --gradient_accumulation_steps 4 --batch_size 16 --lr 5e-5 --bio --save_model"
   ],
   "outputs": [],
   "metadata": {
    "scrolled": true
   }
  },
  {
   "cell_type": "code",
   "execution_count": null,
   "source": [
    "%cd C:/Users/Bas.Arends/Documents/\n",
    "%run ner/ner_training.py --model_type roberta --model_path models/robbert/original/ --output_dir ner/output/per_source/ --task negation --do_train --train_data DCC/per_source/datasets/all_train.txt --batch_size 16 --lr 3e-5 --bio --save_model"
   ],
   "outputs": [],
   "metadata": {
    "scrolled": true
   }
  },
  {
   "cell_type": "code",
   "execution_count": null,
   "source": [
    "%cd C:/Users/Bas.Arends/Documents/\n",
    "%run ner/ner_training.py --model_type roberta --model_path ner/output/per_source+/ --task negation --do_eval --eval_data DCC/per_source/datasets/all_val.txt --bio"
   ],
   "outputs": [],
   "metadata": {}
  },
  {
   "cell_type": "code",
   "execution_count": null,
   "source": [
    "%cd C:/Users/Bas.Arends/Documents/\n",
    "%run ner/ner_training.py --model_type roberta --model_path ner/output/per_source/ --task negation --do_eval --eval_data DCC/per_source/datasets/all_val.txt --bio"
   ],
   "outputs": [],
   "metadata": {}
  },
  {
   "cell_type": "code",
   "execution_count": null,
   "source": [
    "%cd C:/Users/Bas.Arends/Documents/\n",
    "%run ner/ner_training.py --model_type roberta --model_path ner/output/per_source+/ --task negation --do_eval --eval_data DCC/per_source/datasets/DL_val.txt --bio"
   ],
   "outputs": [],
   "metadata": {}
  },
  {
   "cell_type": "code",
   "execution_count": null,
   "source": [
    "%cd C:/Users/Bas.Arends/Documents/\n",
    "%run ner/ner_training.py --model_type roberta --model_path ner/output/per_source+/ --task negation --do_eval --eval_data DCC/per_source/datasets/GP_val.txt --bio"
   ],
   "outputs": [],
   "metadata": {}
  },
  {
   "cell_type": "code",
   "execution_count": null,
   "source": [
    "%cd C:/Users/Bas.Arends/Documents/\n",
    "%run ner/ner_training.py --model_type roberta --model_path ner/output/per_source+/ --task negation --do_eval --eval_data DCC/per_source/datasets/RD_val.txt --bio"
   ],
   "outputs": [],
   "metadata": {}
  },
  {
   "cell_type": "code",
   "execution_count": null,
   "source": [
    "%cd C:/Users/Bas.Arends/Documents/\n",
    "%run ner/ner_training.py --model_type roberta --model_path ner/output/per_source+/ --task negation --do_eval --eval_data DCC/per_source/datasets/SP_val.txt --bio"
   ],
   "outputs": [],
   "metadata": {}
  },
  {
   "cell_type": "code",
   "execution_count": null,
   "source": [
    "%cd C:/Users/Bas.Arends/Documents/\n",
    "%run ner/ner_training.py --model_type roberta --model_path ner/output/per_source/ --task negation --do_eval --eval_data DCC/per_source/datasets/DL_val.txt --bio"
   ],
   "outputs": [],
   "metadata": {}
  },
  {
   "cell_type": "code",
   "execution_count": null,
   "source": [
    "%cd C:/Users/Bas.Arends/Documents/\n",
    "%run ner/ner_training.py --model_type roberta --model_path ner/output/per_source/ --task negation --do_eval --eval_data DCC/per_source/datasets/GP_val.txt --bio"
   ],
   "outputs": [],
   "metadata": {}
  },
  {
   "cell_type": "code",
   "execution_count": null,
   "source": [
    "%cd C:/Users/Bas.Arends/Documents/\n",
    "%run ner/ner_training.py --model_type roberta --model_path ner/output/per_source/ --task negation --do_eval --eval_data DCC/per_source/datasets/RD_val.txt --bio"
   ],
   "outputs": [],
   "metadata": {}
  },
  {
   "cell_type": "code",
   "execution_count": null,
   "source": [
    "%cd C:/Users/Bas.Arends/Documents/\n",
    "%run ner/ner_training.py --model_type roberta --model_path ner/output/per_source/ --task negation --do_eval --eval_data DCC/per_source/datasets/SP_val.txt --bio"
   ],
   "outputs": [],
   "metadata": {}
  },
  {
   "cell_type": "code",
   "execution_count": null,
   "source": [],
   "outputs": [],
   "metadata": {}
  }
 ],
 "metadata": {
  "kernelspec": {
   "display_name": "Python 3",
   "language": "python",
   "name": "python3"
  },
  "language_info": {
   "codemirror_mode": {
    "name": "ipython",
    "version": 3
   },
   "file_extension": ".py",
   "mimetype": "text/x-python",
   "name": "python",
   "nbconvert_exporter": "python",
   "pygments_lexer": "ipython3",
   "version": "3.8.3"
  }
 },
 "nbformat": 4,
 "nbformat_minor": 4
}