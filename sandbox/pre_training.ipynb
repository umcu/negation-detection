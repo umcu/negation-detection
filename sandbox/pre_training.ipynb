{
 "cells": [
  {
   "cell_type": "code",
   "execution_count": 1,
   "metadata": {},
   "outputs": [],
   "source": [
    "import transformers\n",
    "import tokenizers\n",
    "import gc\n",
    "import torch\n",
    "import os\n",
    "import pandas as pd\n",
    "import re\n",
    "import math\n",
    "\n",
    "from tqdm import tqdm"
   ]
  },
  {
   "cell_type": "code",
   "execution_count": 2,
   "metadata": {},
   "outputs": [
    {
     "data": {
      "text/plain": [
       "(True, False)"
      ]
     },
     "execution_count": 2,
     "metadata": {},
     "output_type": "execute_result"
    }
   ],
   "source": [
    "torch.cuda.is_available(), torch.cuda.is_initialized()"
   ]
  },
  {
   "cell_type": "code",
   "execution_count": 3,
   "metadata": {},
   "outputs": [
    {
     "data": {
      "text/plain": [
       "'\\nsudo rmmod nvidia-uvm\\nsudo modprobe nvidia-uvm\\n'"
      ]
     },
     "execution_count": 3,
     "metadata": {},
     "output_type": "execute_result"
    }
   ],
   "source": [
    "'''\n",
    "sudo rmmod nvidia-uvm\n",
    "sudo modprobe nvidia-uvm\n",
    "'''"
   ]
  },
  {
   "cell_type": "code",
   "execution_count": 4,
   "metadata": {},
   "outputs": [],
   "source": [
    "TRAIN_EPOCHS = 10\n",
    "LEARNING_RATE = 1e-4\n",
    "WEIGHT_DECAY = 1e-3\n",
    "GRAD_ACC_STEPS = 128\n",
    "TRAIN_BATCH_SIZE = 4\n",
    "VALID_BATCH_SIZE = 4\n",
    "MAX_LEN = 512\n",
    "train_frac = 0.9"
   ]
  },
  {
   "cell_type": "code",
   "execution_count": 5,
   "metadata": {},
   "outputs": [],
   "source": [
    "model_name = 'medroberta_journals_ARGUS_nvvc_IBD_RA' # belabbert #medroberta\n",
    "model_suffix = '_HMC'\n",
    "trainsets = ['HMC'] #, 'journals', 'dhd', 'dictionaries', 'nvr', 'nvog', 'nvmdl', 'fms', 'nvvc', 'www', 'corpora', 'ARGUS', HMC', 'RA', 'IBD']\n",
    "split_on = '---NEW DOCUMENT---'\n",
    "output_dir = '/media/koekiemonster/DATA-FAST/text_data/word_vectors_and_language_models/dutch/Medical/languagemodels/'\n",
    "model_folder = os.path.join(output_dir, model_name+model_suffix)"
   ]
  },
  {
   "cell_type": "code",
   "execution_count": 6,
   "metadata": {},
   "outputs": [],
   "source": [
    "os.chdir(\"/media/koekiemonster/DATA-FAST/text_data/\")"
   ]
  },
  {
   "cell_type": "code",
   "execution_count": 7,
   "metadata": {},
   "outputs": [],
   "source": [
    "from transformers import AutoTokenizer, AutoModelForMaskedLM, RobertaTokenizer, RobertaForMaskedLM\n",
    "\n",
    "tokenizer = AutoTokenizer.from_pretrained(\"word_vectors_and_language_models/dutch/Medical/languagemodels/\"+model_name)\n",
    "model = AutoModelForMaskedLM.from_pretrained(\"word_vectors_and_language_models/dutch/Medical/languagemodels/\"+model_name)\n",
    "   "
   ]
  },
  {
   "cell_type": "code",
   "execution_count": 8,
   "metadata": {},
   "outputs": [
    {
     "name": "stdout",
     "output_type": "stream",
     "text": [
      "Num parameters:  126031648\n"
     ]
    }
   ],
   "source": [
    "print('Num parameters: ',model.num_parameters())"
   ]
  },
  {
   "cell_type": "code",
   "execution_count": 9,
   "metadata": {},
   "outputs": [],
   "source": [
    "from transformers import DataCollatorForLanguageModeling\n",
    "from transformers import Trainer,TrainingArguments\n",
    "from datasets import load_dataset, load_from_disk, load\n",
    "from torch.utils.data.dataset import Dataset"
   ]
  },
  {
   "cell_type": "code",
   "execution_count": 10,
   "metadata": {},
   "outputs": [],
   "source": [
    "class CustomDataset(Dataset):\n",
    "    def __init__(self, df, tokenizer):\n",
    "        # or use the RobertaTokenizer from `transformers` directly.\n",
    "        self.examples = []\n",
    "        self.failed_docs = []\n",
    "        # For every value in the dataframe \n",
    "        for example in tqdm(df.values):\n",
    "            # \n",
    "            try:\n",
    "                x=tokenizer.encode_plus(example, max_length = MAX_LEN, truncation=True, padding=True)\n",
    "                self.examples += [x.input_ids]\n",
    "            except:\n",
    "                self.failed_docs.append(example)\n",
    "                \n",
    "    def __len__(self):\n",
    "        return len(self.examples)\n",
    "\n",
    "    def __getitem__(self, i):\n",
    "        # We’ll pad at the batch level.\n",
    "        return torch.tensor(self.examples[i])"
   ]
  },
  {
   "cell_type": "code",
   "execution_count": 11,
   "metadata": {},
   "outputs": [],
   "source": [
    "# ADD simple strider that respects sentences\n",
    "re_splitter = re.compile(r'\\s')\n",
    "re_sentencer = re.compile(r'[\\r\\n\\.]+')\n",
    "def get_strides(txt, max_len=496):\n",
    "    tkns = re_splitter.split(txt.strip())\n",
    "\n",
    "    docs = []\n",
    "    _docs = []\n",
    "    jdx = 0\n",
    "    last_sent_idx = None\n",
    "    for idx, tkn in enumerate(tkns, start=1):\n",
    "        _docs.append(tkn)\n",
    "        jdx = jdx+1\n",
    "        if \".\" in  tkn:\n",
    "            last_sent_idx = jdx            \n",
    "        if (idx%max_len==0):\n",
    "            if last_sent_idx is None:\n",
    "                last_sent_idx = jdx\n",
    "            docs.append(_docs[:last_sent_idx+1])\n",
    "            jdx=0\n",
    "            _docs = _docs[last_sent_idx+1:]\n",
    "    docs.append(_docs)\n",
    "    return docs"
   ]
  },
  {
   "cell_type": "code",
   "execution_count": 12,
   "metadata": {},
   "outputs": [],
   "source": [
    "# add last minute cleaners\n",
    "re_mspace = re.compile(r'\\s{2,}')\n",
    "re_brackets = re.compile(r'[\\[\\]\\<\\>]')\n",
    "re_integer = re.compile(r'\\#+')\n",
    "re_float = re.compile(r'\\#+\\,\\#*')\n",
    "re_vert =  re.compile(r'\\|')"
   ]
  },
  {
   "cell_type": "code",
   "execution_count": 13,
   "metadata": {},
   "outputs": [],
   "source": [
    "# UPDATE\n",
    "docs = []\n",
    "for s in trainsets:    \n",
    "    with open('pubscience/COLLECTIONS/'+s+'.txt', 'r') as reader:\n",
    "        _docs = reader.readlines()\n",
    "        _docs = [re_mspace.sub(' ', s) for s in _docs]\n",
    "        _docs = [re_brackets.sub('', s) for s in _docs]\n",
    "        _docs = [re_integer.sub('INT', s) for s in _docs]\n",
    "        _docs = [re_float.sub('FLOAT', s) for s in _docs]\n",
    "        _docs = [re_vert.sub(\" \", s) for s in _docs]\n",
    "        _docs = [_s for s in _docs for _s in get_strides(s, max_len=MAX_LEN)]\n",
    "    docs.extend([t for t in _docs])"
   ]
  },
  {
   "cell_type": "code",
   "execution_count": 14,
   "metadata": {},
   "outputs": [
    {
     "data": {
      "text/plain": [
       "0"
      ]
     },
     "execution_count": 14,
     "metadata": {},
     "output_type": "execute_result"
    }
   ],
   "source": [
    "# do stuff with docs easy with list in list format\n",
    "docs_joined = [\" \".join(tlist) for tlist in docs]\n",
    "del docs, _docs\n",
    "gc.collect()"
   ]
  },
  {
   "cell_type": "code",
   "execution_count": 15,
   "metadata": {},
   "outputs": [],
   "source": [
    "dataset = pd.DataFrame({\"doc\":pd.Series(docs_joined)})\n",
    "dataset = dataset.sample(frac=1)"
   ]
  },
  {
   "cell_type": "code",
   "execution_count": 16,
   "metadata": {},
   "outputs": [
    {
     "name": "stderr",
     "output_type": "stream",
     "text": [
      "100%|███████████████████████████████████████████████████████████████████████████████████████████████████████████████████████████████████████████████████████████████████████| 73908/73908 [02:45<00:00, 447.64it/s]\n",
      "100%|█████████████████████████████████████████████████████████████████████████████████████████████████████████████████████████████████████████████████████████████████████████| 8213/8213 [00:18<00:00, 450.86it/s]\n"
     ]
    }
   ],
   "source": [
    "train_dataset = CustomDataset(dataset.iloc[:int(dataset.shape[0]*train_frac)].doc, tokenizer)\n",
    "test_dataset = CustomDataset(dataset.iloc[int(dataset.shape[0]*train_frac):].doc, tokenizer)"
   ]
  },
  {
   "cell_type": "code",
   "execution_count": 17,
   "metadata": {},
   "outputs": [],
   "source": [
    "data_collator = DataCollatorForLanguageModeling(tokenizer=tokenizer, mlm=True, mlm_probability=0.2)"
   ]
  },
  {
   "cell_type": "code",
   "execution_count": 20,
   "metadata": {},
   "outputs": [],
   "source": [
    "training_args = TrainingArguments(\n",
    "        output_dir = model_folder,\n",
    "        evaluation_strategy = 'epoch',\n",
    "        gradient_accumulation_steps=GRAD_ACC_STEPS,\n",
    "        num_train_epochs=TRAIN_EPOCHS,\n",
    "        learning_rate=LEARNING_RATE,\n",
    "        weight_decay=WEIGHT_DECAY,\n",
    "        per_device_train_batch_size=TRAIN_BATCH_SIZE,\n",
    "        per_device_eval_batch_size=VALID_BATCH_SIZE,\n",
    "        save_steps=8192,\n",
    "        fp16=True,\n",
    "        #eval_steps=4096,\n",
    "        save_total_limit=1,\n",
    ")"
   ]
  },
  {
   "cell_type": "code",
   "execution_count": 21,
   "metadata": {},
   "outputs": [
    {
     "name": "stderr",
     "output_type": "stream",
     "text": [
      "Using amp fp16 backend\n"
     ]
    }
   ],
   "source": [
    "trainer = Trainer(model=model, \n",
    "                  args=training_args, \n",
    "                  data_collator=data_collator, \n",
    "                  train_dataset=train_dataset, \n",
    "                  eval_dataset=test_dataset)"
   ]
  },
  {
   "cell_type": "code",
   "execution_count": 22,
   "metadata": {},
   "outputs": [
    {
     "name": "stderr",
     "output_type": "stream",
     "text": [
      "***** Running training *****\n",
      "  Num examples = 73908\n",
      "  Num Epochs = 10\n",
      "  Instantaneous batch size per device = 4\n",
      "  Total train batch size (w. parallel, distributed & accumulation) = 512\n",
      "  Gradient Accumulation steps = 128\n",
      "  Total optimization steps = 1440\n"
     ]
    },
    {
     "data": {
      "text/html": [
       "\n",
       "    <div>\n",
       "      \n",
       "      <progress value='1440' max='1440' style='width:300px; height:20px; vertical-align: middle;'></progress>\n",
       "      [1440/1440 7:00:44, Epoch 9/10]\n",
       "    </div>\n",
       "    <table border=\"1\" class=\"dataframe\">\n",
       "  <thead>\n",
       "    <tr style=\"text-align: left;\">\n",
       "      <th>Epoch</th>\n",
       "      <th>Training Loss</th>\n",
       "      <th>Validation Loss</th>\n",
       "    </tr>\n",
       "  </thead>\n",
       "  <tbody>\n",
       "    <tr>\n",
       "      <td>0</td>\n",
       "      <td>No log</td>\n",
       "      <td>1.471810</td>\n",
       "    </tr>\n",
       "    <tr>\n",
       "      <td>1</td>\n",
       "      <td>No log</td>\n",
       "      <td>1.378278</td>\n",
       "    </tr>\n",
       "    <tr>\n",
       "      <td>2</td>\n",
       "      <td>No log</td>\n",
       "      <td>1.323844</td>\n",
       "    </tr>\n",
       "    <tr>\n",
       "      <td>3</td>\n",
       "      <td>1.524000</td>\n",
       "      <td>1.299168</td>\n",
       "    </tr>\n",
       "    <tr>\n",
       "      <td>4</td>\n",
       "      <td>1.524000</td>\n",
       "      <td>1.274145</td>\n",
       "    </tr>\n",
       "    <tr>\n",
       "      <td>5</td>\n",
       "      <td>1.524000</td>\n",
       "      <td>1.252910</td>\n",
       "    </tr>\n",
       "    <tr>\n",
       "      <td>6</td>\n",
       "      <td>1.334300</td>\n",
       "      <td>1.242853</td>\n",
       "    </tr>\n",
       "    <tr>\n",
       "      <td>7</td>\n",
       "      <td>1.334300</td>\n",
       "      <td>1.235181</td>\n",
       "    </tr>\n",
       "    <tr>\n",
       "      <td>8</td>\n",
       "      <td>1.334300</td>\n",
       "      <td>1.228761</td>\n",
       "    </tr>\n",
       "    <tr>\n",
       "      <td>9</td>\n",
       "      <td>1.334300</td>\n",
       "      <td>1.227015</td>\n",
       "    </tr>\n",
       "  </tbody>\n",
       "</table><p>"
      ],
      "text/plain": [
       "<IPython.core.display.HTML object>"
      ]
     },
     "metadata": {},
     "output_type": "display_data"
    },
    {
     "name": "stderr",
     "output_type": "stream",
     "text": [
      "***** Running Evaluation *****\n",
      "  Num examples = 8213\n",
      "  Batch size = 4\n",
      "***** Running Evaluation *****\n",
      "  Num examples = 8213\n",
      "  Batch size = 4\n",
      "***** Running Evaluation *****\n",
      "  Num examples = 8213\n",
      "  Batch size = 4\n",
      "***** Running Evaluation *****\n",
      "  Num examples = 8213\n",
      "  Batch size = 4\n",
      "***** Running Evaluation *****\n",
      "  Num examples = 8213\n",
      "  Batch size = 4\n",
      "***** Running Evaluation *****\n",
      "  Num examples = 8213\n",
      "  Batch size = 4\n",
      "***** Running Evaluation *****\n",
      "  Num examples = 8213\n",
      "  Batch size = 4\n",
      "***** Running Evaluation *****\n",
      "  Num examples = 8213\n",
      "  Batch size = 4\n",
      "***** Running Evaluation *****\n",
      "  Num examples = 8213\n",
      "  Batch size = 4\n",
      "***** Running Evaluation *****\n",
      "  Num examples = 8213\n",
      "  Batch size = 4\n",
      "\n",
      "\n",
      "Training completed. Do not forget to share your model on huggingface.co/models =)\n",
      "\n",
      "\n",
      "***** Running Evaluation *****\n",
      "  Num examples = 8213\n",
      "  Batch size = 4\n"
     ]
    },
    {
     "data": {
      "text/html": [
       "\n",
       "    <div>\n",
       "      \n",
       "      <progress value='2054' max='2054' style='width:300px; height:20px; vertical-align: middle;'></progress>\n",
       "      [2054/2054 03:05]\n",
       "    </div>\n",
       "    "
      ],
      "text/plain": [
       "<IPython.core.display.HTML object>"
      ]
     },
     "metadata": {},
     "output_type": "display_data"
    }
   ],
   "source": [
    "trainer.train()\n",
    "eval_results = trainer.evaluate()"
   ]
  },
  {
   "cell_type": "code",
   "execution_count": 23,
   "metadata": {},
   "outputs": [
    {
     "name": "stdout",
     "output_type": "stream",
     "text": [
      "Perplexity: 3.42\n"
     ]
    }
   ],
   "source": [
    "print(f\"Perplexity: {math.exp(eval_results['eval_loss']):.2f}\")"
   ]
  },
  {
   "cell_type": "code",
   "execution_count": 24,
   "metadata": {},
   "outputs": [
    {
     "name": "stderr",
     "output_type": "stream",
     "text": [
      "Saving model checkpoint to /media/koekiemonster/DATA-FAST/text_data/word_vectors_and_language_models/dutch/Medical/languagemodels/medroberta_journals_ARGUS_nvvc_journals_ARGUS_nvvc_IBD_RA\n",
      "Configuration saved in /media/koekiemonster/DATA-FAST/text_data/word_vectors_and_language_models/dutch/Medical/languagemodels/medroberta_journals_ARGUS_nvvc_journals_ARGUS_nvvc_IBD_RA/config.json\n",
      "Model weights saved in /media/koekiemonster/DATA-FAST/text_data/word_vectors_and_language_models/dutch/Medical/languagemodels/medroberta_journals_ARGUS_nvvc_journals_ARGUS_nvvc_IBD_RA/pytorch_model.bin\n",
      "Dropping the following result as it does not have all the necessary field:\n",
      "{'task': {'name': 'Masked Language Modeling', 'type': 'fill-mask'}}\n"
     ]
    }
   ],
   "source": [
    "trainer.save_model(model_folder)\n",
    "trainer.create_model_card()"
   ]
  },
  {
   "cell_type": "markdown",
   "metadata": {},
   "source": [
    "## Test masks"
   ]
  },
  {
   "cell_type": "code",
   "execution_count": 25,
   "metadata": {},
   "outputs": [
    {
     "name": "stdout",
     "output_type": "stream",
     "text": [
      "Ġnog De Ġpatient Ġheeft Ġlast Ġvan Ġhartkloppingen Ġen Ġduizeligheid . Ġ.\n"
     ]
    }
   ],
   "source": [
    "test_input = tokenizer(\"De patient heeft last van hartkloppingen en <mask>.\", return_tensors='pt')\n",
    "test_input.to(device='cuda:0')\n",
    "output = trainer.model.forward(**test_input, output_attentions=True )\n",
    "\n",
    "odds = torch.exp(output.logits)\n",
    "proba = odds/(1+odds)\n",
    "word_idcs = torch.argmax(proba[0], axis=1)\n",
    "\n",
    "print(\" \".join(tokenizer.convert_ids_to_tokens(word_idcs)))"
   ]
  },
  {
   "cell_type": "code",
   "execution_count": 26,
   "metadata": {},
   "outputs": [
    {
     "name": "stdout",
     "output_type": "stream",
     "text": [
      "Ġnog De Ġdarm ontstekingen Ġzijn Ġgelokaliseerd Ġin Ġde Ġbuik . ĠP\n"
     ]
    }
   ],
   "source": [
    "test_input = tokenizer(\"De darmontstekingen zijn gelokaliseerd in de <mask>.\", return_tensors='pt')\n",
    "test_input.to(device='cuda:0')\n",
    "output = trainer.model.forward(**test_input, output_attentions=True )\n",
    "\n",
    "odds = torch.exp(output.logits)\n",
    "proba = odds/(1+odds)\n",
    "word_idcs = torch.argmax(proba[0], axis=1)\n",
    "\n",
    "print(\" \".join(tokenizer.convert_ids_to_tokens(word_idcs)))"
   ]
  },
  {
   "cell_type": "code",
   "execution_count": 28,
   "metadata": {},
   "outputs": [
    {
     "name": "stdout",
     "output_type": "stream",
     "text": [
      "Ġnog De Ġpijnklachten Ġzijn Ġgelokaliseerd Ġin Ġde Ġbuik . ĠP\n"
     ]
    }
   ],
   "source": [
    "test_input = tokenizer(\"De <mask> zijn gelokaliseerd in de buik.\", return_tensors='pt')\n",
    "test_input.to(device='cuda:0')\n",
    "output = trainer.model.forward(**test_input, output_attentions=True )\n",
    "\n",
    "odds = torch.exp(output.logits)\n",
    "proba = odds/(1+odds)\n",
    "word_idcs = torch.argmax(proba[0], axis=1)\n",
    "\n",
    "print(\" \".join(tokenizer.convert_ids_to_tokens(word_idcs)))"
   ]
  },
  {
   "cell_type": "code",
   "execution_count": 32,
   "metadata": {},
   "outputs": [
    {
     "name": "stdout",
     "output_type": "stream",
     "text": [
      "Ġnog ĠEr Ġis Ġgecalcificeerde Ġplaque Ġin Ġde Ġa deren . Ġ.\n"
     ]
    }
   ],
   "source": [
    "test_input = tokenizer(\"Er is gecalcificeerde <mask> in de aderen.\", return_tensors='pt')\n",
    "test_input.to(device='cuda:0')\n",
    "output = trainer.model.forward(**test_input, output_attentions=True )\n",
    "\n",
    "odds = torch.exp(output.logits)\n",
    "proba = odds/(1+odds)\n",
    "word_idcs = torch.argmax(proba[0], axis=1)\n",
    "\n",
    "print(\" \".join(tokenizer.convert_ids_to_tokens(word_idcs)))"
   ]
  },
  {
   "cell_type": "code",
   "execution_count": 34,
   "metadata": {},
   "outputs": [
    {
     "name": "stdout",
     "output_type": "stream",
     "text": [
      "Ġnog Geen Ġatherosclerose Ġof Ġstenose . ĠV entrikel septum Ġmeet ĠINT , INT Ġmm , Ġlaterale Ġwand ĠINT , INT m , ĠLV ĠINT mm , ĠRV ĠINT Ġmm Ġop Ġde Ġaxiale Ġcoupes Ġin Ġdeze Ġmid Ġdiastolische Ġfase . ĠGeen ĠPFO Ġzichtbaar . ĠP\n"
     ]
    }
   ],
   "source": [
    "test_input = tokenizer(\"Geen atherosclerose of <mask>. Ventrikelseptum meet INT,INT mm, laterale wand INT,INTm, LV INTmm, RV INT mm op de axiale coupes in deze mid diastolische fase. Geen <mask> zichtbaar.\", return_tensors='pt')\n",
    "test_input.to(device='cuda:0')\n",
    "output = trainer.model.forward(**test_input, output_attentions=True )\n",
    "\n",
    "odds = torch.exp(output.logits)\n",
    "proba = odds/(1+odds)\n",
    "word_idcs = torch.argmax(proba[0], axis=1)\n",
    "\n",
    "print(\" \".join(tokenizer.convert_ids_to_tokens(word_idcs)))"
   ]
  },
  {
   "cell_type": "code",
   "execution_count": 45,
   "metadata": {},
   "outputs": [
    {
     "name": "stdout",
     "output_type": "stream",
     "text": [
      "Ġcoronair ĠGeen Ġcoronairsclerose Ġen Ġverkalkingen ? V entrik septumdefect Ġdiameter INT . ĠINT mm Ġen ĠLaterale Ġdoorsnede INT . ĠINT Ġm Ġen ĠRV INT cm . ĠLV INT mm op ĠDe Ġcoronale Ġcoupe in Ġdezelfde ĠMid Ġsystolische fase Ġ: Geen Ġstenose Ġaanwezig Ġ. ĠINT\n"
     ]
    }
   ],
   "source": [
    "word_idcs = torch.argsort(proba[0], axis=1)[:,-2]\n",
    "print(\" \".join(tokenizer.convert_ids_to_tokens(word_idcs)))"
   ]
  }
 ],
 "metadata": {
  "kernelspec": {
   "display_name": "NLP",
   "language": "python",
   "name": "nlp"
  },
  "language_info": {
   "codemirror_mode": {
    "name": "ipython",
    "version": 3
   },
   "file_extension": ".py",
   "mimetype": "text/x-python",
   "name": "python",
   "nbconvert_exporter": "python",
   "pygments_lexer": "ipython3",
   "version": "3.8.10"
  }
 },
 "nbformat": 4,
 "nbformat_minor": 4
}
