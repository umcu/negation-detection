{
 "cells": [
  {
   "cell_type": "code",
   "execution_count": 1,
   "metadata": {},
   "outputs": [],
   "source": [
    "import transformers\n",
    "import tokenizers\n",
    "import gc\n",
    "import torch\n",
    "import os\n",
    "import pandas as pd\n",
    "import re\n",
    "import math\n",
    "\n",
    "from tqdm import tqdm"
   ]
  },
  {
   "cell_type": "code",
   "execution_count": 2,
   "metadata": {},
   "outputs": [
    {
     "data": {
      "text/plain": [
       "(False, False)"
      ]
     },
     "execution_count": 2,
     "metadata": {},
     "output_type": "execute_result"
    }
   ],
   "source": [
    "torch.cuda.is_available(), torch.cuda.is_initialized()"
   ]
  },
  {
   "cell_type": "code",
   "execution_count": 3,
   "metadata": {},
   "outputs": [
    {
     "data": {
      "text/plain": [
       "'\\nsudo rmmod nvidia-uvm\\nsudo modprobe nvidia-uvm\\n'"
      ]
     },
     "execution_count": 3,
     "metadata": {},
     "output_type": "execute_result"
    }
   ],
   "source": [
    "'''\n",
    "sudo rmmod nvidia-uvm\n",
    "sudo modprobe nvidia-uvm\n",
    "'''"
   ]
  },
  {
   "cell_type": "code",
   "execution_count": 4,
   "metadata": {},
   "outputs": [],
   "source": [
    "TRAIN_EPOCHS = 5\n",
    "LEARNING_RATE = 1e-4\n",
    "WEIGHT_DECAY = 1e-3\n",
    "GRAD_ACC_STEPS = 128\n",
    "TRAIN_BATCH_SIZE = 16\n",
    "VALID_BATCH_SIZE = 4\n",
    "MAX_LEN = 64\n",
    "train_frac = 0.9"
   ]
  },
  {
   "cell_type": "code",
   "execution_count": 5,
   "metadata": {},
   "outputs": [],
   "source": [
    "model_name = 'belabbert' # belabbert, medroberta, robbert, bertje\n",
    "model_suffix = 'dapt_umcu_v1'\n",
    "trainsets = ['HMC_decursus', 'HMC_radio', 'nvr', 'nvog', 'nvmdl', 'fms', 'CCN', 'journals', 'dhd', 'dictionaries', 'nvr', 'nvog', 'nvmdl', 'fms', 'nvvc', 'www', 'corpora', 'ARGUS', 'RA', 'IBD', 'books']\n",
    "ignore_line = '---NEW DOCUMENT---'\n",
    "output_dir = '/media/koekiemonster/DATA-FAST1/text_data/word_vectors_and_language_models/dutch/Medical/languagemodels/DAPT'\n",
    "model_folder = os.path.join(output_dir, model_name+model_suffix)"
   ]
  },
  {
   "cell_type": "code",
   "execution_count": 6,
   "metadata": {},
   "outputs": [],
   "source": [
    "os.chdir(\"/media/koekiemonster/DATA-FAST1/text_data/\")"
   ]
  },
  {
   "cell_type": "code",
   "execution_count": 7,
   "metadata": {},
   "outputs": [],
   "source": [
    "from transformers import AutoTokenizer, AutoModelForMaskedLM, RobertaTokenizer, RobertaForMaskedLM\n",
    "\n",
    "tokenizer = AutoTokenizer.from_pretrained(\"word_vectors_and_language_models/dutch/Medical/languagemodels/base/\"+model_name)\n",
    "model = AutoModelForMaskedLM.from_pretrained(\"word_vectors_and_language_models/dutch/Medical/languagemodels/base/\"+model_name)"
   ]
  },
  {
   "cell_type": "code",
   "execution_count": 8,
   "metadata": {},
   "outputs": [
    {
     "name": "stdout",
     "output_type": "stream",
     "text": [
      "Num parameters:  116803648\n"
     ]
    }
   ],
   "source": [
    "print('Num parameters: ',model.num_parameters())"
   ]
  },
  {
   "cell_type": "code",
   "execution_count": 9,
   "metadata": {},
   "outputs": [],
   "source": [
    "from transformers import DataCollatorForLanguageModeling\n",
    "from transformers import Trainer,TrainingArguments\n",
    "from datasets import load_dataset, load_from_disk, load\n",
    "from torch.utils.data.dataset import Dataset"
   ]
  },
  {
   "cell_type": "code",
   "execution_count": 10,
   "metadata": {},
   "outputs": [],
   "source": [
    "class CustomDataset(Dataset):\n",
    "    def __init__(self, df, tokenizer):\n",
    "        # or use the RobertaTokenizer from `transformers` directly.\n",
    "        self.examples = []\n",
    "        self.failed_docs = []\n",
    "        # For every value in the dataframe \n",
    "        for example in tqdm(df.values):\n",
    "            # \n",
    "            try:\n",
    "                x=tokenizer.encode_plus(example, max_length = MAX_LEN, truncation=True, padding=True)\n",
    "                self.examples += [x.input_ids]\n",
    "            except:\n",
    "                self.failed_docs.append(example)\n",
    "                \n",
    "    def __len__(self):\n",
    "        return len(self.examples)\n",
    "\n",
    "    def __getitem__(self, i):\n",
    "        # We’ll pad at the batch level.\n",
    "        return torch.tensor(self.examples[i])"
   ]
  },
  {
   "cell_type": "code",
   "execution_count": 11,
   "metadata": {},
   "outputs": [],
   "source": [
    "# ADD simple strider that respects sentences\n",
    "re_splitter = re.compile(r'\\s')\n",
    "re_sentencer = re.compile(r'[\\r\\n\\.]+')\n",
    "def get_strides(txt, max_len=496):\n",
    "    tkns = re_splitter.split(txt.strip())\n",
    "\n",
    "    docs = []\n",
    "    _docs = []\n",
    "    jdx = 0\n",
    "    last_sent_idx = None\n",
    "    for idx, tkn in enumerate(tkns, start=1):\n",
    "        _docs.append(tkn)\n",
    "        jdx = jdx+1\n",
    "        if \".\" in  tkn:\n",
    "            last_sent_idx = jdx            \n",
    "        if (jdx%max_len==0):\n",
    "            if last_sent_idx is None:\n",
    "                last_sent_idx = jdx\n",
    "            docs.append(_docs[:last_sent_idx+1])\n",
    "            jdx=0\n",
    "            _docs = _docs[last_sent_idx+1:]\n",
    "    docs.append(_docs)\n",
    "    return docs"
   ]
  },
  {
   "cell_type": "code",
   "execution_count": 12,
   "metadata": {},
   "outputs": [],
   "source": [
    "# add last minute cleaners\n",
    "re_mspace = re.compile(r'\\s{2,}')\n",
    "re_brackets = re.compile(r'[\\[\\]\\<\\>]')\n",
    "re_integer = re.compile(r'\\#+')\n",
    "re_float = re.compile(r'\\#+[\\,\\.]\\#*')\n",
    "re_vert =  re.compile(r'\\|')"
   ]
  },
  {
   "cell_type": "code",
   "execution_count": 13,
   "metadata": {},
   "outputs": [],
   "source": [
    "# UPDATE\n",
    "docs = []\n",
    "for s in trainsets:    \n",
    "    with open('pubscience/COLLECTIONS/'+s+'.txt', 'r') as reader:\n",
    "        _docs = reader.readlines()        \n",
    "        _docs = [re_brackets.sub(' ', s) for s in _docs if  s.strip()!=ignore_line]\n",
    "        _docs = [re_integer.sub('INT', s) for s in _docs]\n",
    "        _docs = [re_float.sub('FLOAT', s) for s in _docs]\n",
    "        _docs = [re_vert.sub(\" \", s) for s in _docs]\n",
    "        _docs = [re_mspace.sub(' ', s) for s in _docs]\n",
    "        _docs = [_s for s in _docs for _s in get_strides(s, max_len=MAX_LEN)]\n",
    "    docs.extend([t for t in _docs])"
   ]
  },
  {
   "cell_type": "code",
   "execution_count": 14,
   "metadata": {},
   "outputs": [
    {
     "data": {
      "text/plain": [
       "0"
      ]
     },
     "execution_count": 14,
     "metadata": {},
     "output_type": "execute_result"
    }
   ],
   "source": [
    "# do stuff with docs easy with list in list format\n",
    "docs_joined = [\" \".join(tlist) for tlist in docs]\n",
    "del docs, _docs\n",
    "gc.collect()"
   ]
  },
  {
   "cell_type": "code",
   "execution_count": 15,
   "metadata": {},
   "outputs": [],
   "source": [
    "dataset = pd.DataFrame({\"doc\":pd.Series(docs_joined)})\n",
    "dataset = dataset.sample(frac=1)"
   ]
  },
  {
   "cell_type": "code",
   "execution_count": 16,
   "metadata": {},
   "outputs": [
    {
     "data": {
      "text/plain": [
       "0"
      ]
     },
     "execution_count": 16,
     "metadata": {},
     "output_type": "execute_result"
    }
   ],
   "source": [
    "gc.collect()"
   ]
  },
  {
   "cell_type": "code",
   "execution_count": 17,
   "metadata": {},
   "outputs": [],
   "source": [
    "dataset.reset_index(drop=True).to_csv(\"pubscience/COLLECTIONS/compressed/clinical_corpus_v1.csv.zip\", \n",
    "                                      index=False, compression='zip')"
   ]
  },
  {
   "cell_type": "code",
   "execution_count": 18,
   "metadata": {},
   "outputs": [
    {
     "name": "stderr",
     "output_type": "stream",
     "text": [
      "100%|██████████| 1051486/1051486 [41:57<00:00, 417.64it/s] \n",
      "100%|██████████| 116832/116832 [04:44<00:00, 411.32it/s]\n"
     ]
    }
   ],
   "source": [
    "train_dataset = CustomDataset(dataset.iloc[:int(dataset.shape[0]*train_frac)].doc, tokenizer)\n",
    "test_dataset = CustomDataset(dataset.iloc[int(dataset.shape[0]*train_frac):].doc, tokenizer)"
   ]
  },
  {
   "cell_type": "code",
   "execution_count": 19,
   "metadata": {},
   "outputs": [],
   "source": [
    "data_collator = DataCollatorForLanguageModeling(tokenizer=tokenizer, mlm=True, mlm_probability=0.2)"
   ]
  },
  {
   "cell_type": "code",
   "execution_count": 20,
   "metadata": {},
   "outputs": [],
   "source": [
    "training_args = TrainingArguments(\n",
    "        output_dir = model_folder,\n",
    "        evaluation_strategy = 'epoch',\n",
    "        gradient_accumulation_steps=GRAD_ACC_STEPS,\n",
    "        num_train_epochs=TRAIN_EPOCHS,\n",
    "        learning_rate=LEARNING_RATE,\n",
    "        weight_decay=WEIGHT_DECAY,\n",
    "        per_device_train_batch_size=TRAIN_BATCH_SIZE,\n",
    "        per_device_eval_batch_size=VALID_BATCH_SIZE,\n",
    "        save_steps=8192,\n",
    "        fp16=True,\n",
    "        #eval_steps=4096,\n",
    "        save_total_limit=1,\n",
    ")"
   ]
  },
  {
   "cell_type": "code",
   "execution_count": 21,
   "metadata": {},
   "outputs": [
    {
     "name": "stderr",
     "output_type": "stream",
     "text": [
      "Using cuda_amp half precision backend\n"
     ]
    }
   ],
   "source": [
    "trainer = Trainer(model=model, \n",
    "                  args=training_args, \n",
    "                  data_collator=data_collator, \n",
    "                  train_dataset=train_dataset, \n",
    "                  eval_dataset=test_dataset)"
   ]
  },
  {
   "cell_type": "code",
   "execution_count": 38,
   "metadata": {},
   "outputs": [
    {
     "name": "stderr",
     "output_type": "stream",
     "text": [
      "***** Running training *****\n",
      "  Num examples = 1051486\n",
      "  Num Epochs = 1\n",
      "  Instantaneous batch size per device = 4\n",
      "  Total train batch size (w. parallel, distributed & accumulation) = 512\n",
      "  Gradient Accumulation steps = 128\n",
      "  Total optimization steps = 2053\n"
     ]
    },
    {
     "data": {
      "text/html": [
       "\n",
       "    <div>\n",
       "      \n",
       "      <progress value='2053' max='2053' style='width:300px; height:20px; vertical-align: middle;'></progress>\n",
       "      [2053/2053 8:29:15, Epoch 0/1]\n",
       "    </div>\n",
       "    <table border=\"1\" class=\"dataframe\">\n",
       "  <thead>\n",
       " <tr style=\"text-align: left;\">\n",
       "      <th>Epoch</th>\n",
       "      <th>Training Loss</th>\n",
       "      <th>Validation Loss</th>\n",
       "    </tr>\n",
       "  </thead>\n",
       "  <tbody>\n",
       "    <tr>\n",
       "      <td>0</td>\n",
       "      <td>1.133100</td>\n",
       "      <td>1.050987</td>\n",
       "    </tr>\n",
       "  </tbody>\n",
       "</table><p>"
      ],
      "text/plain": [
       "<IPython.core.display.HTML object>"
      ]
     },
     "metadata": {},
     "output_type": "display_data"
    },
    {
     "name": "stderr",
     "output_type": "stream",
     "text": [
      "***** Running Evaluation *****\n",
      "  Num examples = 116832\n",
      "  Batch size = 4\n",
      "\n",
      "\n",
      "Training completed. Do not forget to share your model on huggingface.co/models =)\n",
      "\n",
      "\n",
      "***** Running Evaluation *****\n",
      "  Num examples = 116832\n",
      "  Batch size = 4\n"
     ]
    },
    {
     "data": {
      "text/html": [
       "\n",
       "    <div>\n",
       "      \n",
       "      <progress value='29208' max='29208' style='width:300px; height:20px; vertical-align: middle;'></progress>\n",
       "      [29208/29208 18:42]\n",
       "    </div>\n",
       "    "
      ],
      "text/plain": [
       "<IPython.core.display.HTML object>"
      ]
     },
     "metadata": {},
     "output_type": "display_data"
    }
   ],
   "source": [
    "trainer.train()\n",
    "eval_results = trainer.evaluate()"
   ]
  },
  {
   "cell_type": "code",
   "execution_count": 39,
   "metadata": {},
   "outputs": [
    {
     "name": "stdout",
     "output_type": "stream",
     "text": [
      "Perplexity: 2.86\n"
     ]
    }
   ],
   "source": [
    "print(f\"Perplexity: {math.exp(eval_results['eval_loss']):.2f}\")"
   ]
  },
  {
   "cell_type": "code",
   "execution_count": 40,
   "metadata": {},
   "outputs": [
    {
     "data": {
      "text/plain": [
       "{'eval_loss': 1.0498334169387817,\n",
       " 'eval_runtime': 1122.8279,\n",
       " 'eval_samples_per_second': 104.052,\n",
       " 'eval_steps_per_second': 26.013,\n",
       " 'epoch': 1.0}"
      ]
     },
     "execution_count": 40,
     "metadata": {},
     "output_type": "execute_result"
    }
   ],
   "source": [
    "eval_results"
   ]
  },
  {
   "cell_type": "code",
   "execution_count": 41,
   "metadata": {},
   "outputs": [
    {
     "name": "stderr",
     "output_type": "stream",
     "text": [
      "Saving model checkpoint to /media/koekiemonster/DATA-FAST1/text_data/word_vectors_and_language_models/dutch/Medical/languagemodels/DAPT/robbertdapt_umcu_v1\n",
      "Configuration saved in /media/koekiemonster/DATA-FAST1/text_data/word_vectors_and_language_models/dutch/Medical/languagemodels/DAPT/robbertdapt_umcu_v1/config.json\n",
      "Model weights saved in /media/koekiemonster/DATA-FAST1/text_data/word_vectors_and_language_models/dutch/Medical/languagemodels/DAPT/robbertdapt_umcu_v1/pytorch_model.bin\n",
      "Dropping the following result as it does not have all the necessary fields:\n",
      "{'task': {'name': 'Masked Language Modeling', 'type': 'fill-mask'}}\n"
     ]
    }
   ],
   "source": [
    "trainer.save_model(model_folder)\n",
    "trainer.create_model_card()"
   ]
  },
  {
   "cell_type": "markdown",
   "metadata": {},
   "source": [
    "## Test masks"
   ]
  },
  {
   "cell_type": "code",
   "execution_count": 42,
   "metadata": {},
   "outputs": [
    {
     "name": "stdout",
     "output_type": "stream",
     "text": [
      "- Ġman Ġheeft Ġlast Ġvan Ġhart st ig Ġen Ġvage Ġklachten .\n"
     ]
    }
   ],
   "source": [
    "test_input = tokenizer(\"De patient heeft last van hartkloppingen en vage <mask>.\", return_tensors='pt')\n",
    "test_input.to(device='cuda:0')\n",
    "output = trainer.model.forward(**test_input, output_attentions=True )\n",
    "\n",
    "odds = torch.exp(output.logits)\n",
    "proba = odds/(1+odds)\n",
    "word_idcs = torch.argmax(proba[0][1:-1], axis=1)\n",
    "\n",
    "print(\" \".join(tokenizer.convert_ids_to_tokens(word_idcs)))"
   ]
  },
  {
   "cell_type": "code",
   "execution_count": 43,
   "metadata": {},
   "outputs": [
    {
     "name": "stdout",
     "output_type": "stream",
     "text": [
      "Ġde Ġmaag verd jes Ġis Ġben on eerd Ġin Ġde Ġbuik .\n"
     ]
    }
   ],
   "source": [
    "test_input = tokenizer(\"De darmontstekingen zijn gelokaliseerd in de <mask>.\", return_tensors='pt')\n",
    "test_input.to(device='cuda:0')\n",
    "output = trainer.model.forward(**test_input, output_attentions=True )\n",
    "\n",
    "odds = torch.exp(output.logits)\n",
    "proba = odds/(1+odds)\n",
    "word_idcs = torch.argmax(proba[0][1:-1], axis=1)\n",
    "\n",
    "print(\" \".join(tokenizer.convert_ids_to_tokens(word_idcs)))"
   ]
  },
  {
   "cell_type": "code",
   "execution_count": 44,
   "metadata": {},
   "outputs": [
    {
     "name": "stdout",
     "output_type": "stream",
     "text": [
      "ĠDe Ġnieren Ġis Ġben of eerd Ġin Ġde Ġbuik .\n"
     ]
    }
   ],
   "source": [
    "test_input = tokenizer(\"De <mask> zijn gelokaliseerd in de buik.\", return_tensors='pt')\n",
    "test_input.to(device='cuda:0')\n",
    "output = trainer.model.forward(**test_input, output_attentions=True )\n",
    "\n",
    "odds = torch.exp(output.logits)\n",
    "proba = odds/(1+odds)\n",
    "word_idcs = torch.argmax(proba[0][1:-1], axis=1)\n",
    "\n",
    "print(\" \".join(tokenizer.convert_ids_to_tokens(word_idcs)))"
   ]
  },
  {
   "cell_type": "code",
   "execution_count": 45,
   "metadata": {},
   "outputs": [
    {
     "name": "stdout",
     "output_type": "stream",
     "text": [
      "Ġer Ġis Ġc al c eerde Ġontsteking Ġin Ġde ĠA ders .\n"
     ]
    }
   ],
   "source": [
    "test_input = tokenizer(\"Er is gecalcificeerde<mask> in de aderen.\", return_tensors='pt')\n",
    "test_input.to(device='cuda:0')\n",
    "output = trainer.model.forward(**test_input, output_attentions=True )\n",
    "\n",
    "odds = torch.exp(output.logits)\n",
    "proba = odds/(1+odds)\n",
    "word_idcs = torch.argmax(proba[0][1:-1], axis=1)\n",
    "\n",
    "print(\" \".join(tokenizer.convert_ids_to_tokens(word_idcs)))"
   ]
  },
  {
   "cell_type": "code",
   "execution_count": 46,
   "metadata": {},
   "outputs": [
    {
     "name": "stdout",
     "output_type": "stream",
     "text": [
      "In Ġis ter Ġs or ose , Ġresten ologie Ġof Ġartrose . ĠOp r el ut on Ġmeet ĠIN t . IN m . ĠL aal , Ġlater se Ġwand Ġ( t . T m . ĠP V ĠIN T mm . ĠV ĠIN T Ġm Ġop Ġde ĠA x ale Ġcoup e Ġin Ġdeze Ġmid Ġdi st ole Ġperiode . ĠDe Ġ? m K k > Ġzichtbaar .\n"
     ]
    }
   ],
   "source": [
    "test_input = tokenizer(\"Geen atherosclerose, stenose of <mask>. Ventrikelseptum meet INT,INT mm,\\\n",
    "                       laterale wand INT,INTm, LV INTmm, RV INT mm op de axiale coupes in deze mid diastolische fase. Geen <MASK> zichtbaar.\", return_tensors='pt')\n",
    "test_input.to(device='cuda:0')\n",
    "output = trainer.model.forward(**test_input, output_attentions=True )\n",
    "\n",
    "odds = torch.exp(output.logits)\n",
    "proba = odds/(1+odds)\n",
    "word_idcs = torch.argmax(proba[0][1:-1], axis=1)\n",
    "\n",
    "print(\" \".join(tokenizer.convert_ids_to_tokens(word_idcs)))"
   ]
  },
  {
   "cell_type": "code",
   "execution_count": 50,
   "metadata": {},
   "outputs": [
    {
     "name": "stdout",
     "output_type": "stream",
     "text": [
      "t or ax . Ġer Ġis Ġwel Ġsprake Ġvan ĠA eerd a le st ose . Ġer Ġis Ġgeen Ġsprake Ġvan ĠA eert a le ste ie .\n"
     ]
    }
   ],
   "source": [
    "test_input = tokenizer(\"Thorax: Er is wel sprake van aortaklepstenose. Er is <mask> sprake van aortaklepstenose.\", return_tensors='pt')\n",
    "test_input.to(device='cuda:0')\n",
    "output = trainer.model.forward(**test_input, output_hidden_states=True, output_attentions=True )\n",
    "\n",
    "odds = torch.exp(output.logits)\n",
    "proba = odds/(1+odds)\n",
    "word_idcs = torch.argmax(proba[0][1:-1], axis=1)\n",
    "\n",
    "print(\" \".join(tokenizer.convert_ids_to_tokens(word_idcs)))"
   ]
  },
  {
   "cell_type": "code",
   "execution_count": 48,
   "metadata": {},
   "outputs": [
    {
     "name": "stdout",
     "output_type": "stream",
     "text": [
      "Pan Hor ax Ġ: ĠHierbij Ġlijkt Ġsprake Ġvan ĠSten osie Ġin Ġde Ġan ort Ġak lep . ĠHiervan Ġlijkt Ġgeen Ġsprake Ġvan Ġa ort Ġak lep Ġsten rose .\n"
     ]
    }
   ],
   "source": [
    "word_idcs = torch.argsort(proba[0][1:-1], axis=1)[:,-1]\n",
    "print(\" \".join(tokenizer.convert_ids_to_tokens(word_idcs)))"
   ]
  },
  {
   "cell_type": "code",
   "execution_count": 36,
   "metadata": {},
   "outputs": [],
   "source": [
    "if model_name=='bertje':\n",
    "    last_hidden_state = output.hidden_states[-1]\n",
    "    sentence_embedding = last_hidden_state[0][0]"
   ]
  },
  {
   "cell_type": "code",
   "execution_count": null,
   "metadata": {},
   "outputs": [],
   "source": []
  }
 ],
 "metadata": {
  "kernelspec": {
   "display_name": "Python 3.10.5 ('nlp_310')",
   "language": "python",
   "name": "python3"
  },
  "language_info": {
   "codemirror_mode": {
    "name": "ipython",
    "version": 3
   },
   "file_extension": ".py",
   "mimetype": "text/x-python",
   "name": "python",
   "nbconvert_exporter": "python",
   "pygments_lexer": "ipython3",
   "version": "3.10.0"
  },
  "vscode": {
   "interpreter": {
    "hash": "5d6f4b7495fcf809bcae2c20b86ff8004e67d45f534b9a332f5a640ec04f8003"
   }
  }
 },
 "nbformat": 4,
 "nbformat_minor": 4
}
