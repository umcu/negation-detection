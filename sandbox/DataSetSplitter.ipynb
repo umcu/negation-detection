{
 "cells": [
  {
   "cell_type": "code",
   "execution_count": 29,
   "metadata": {},
   "outputs": [],
   "source": [
    "from sklearn.model_selection import RepeatedKFold\n",
    "import os\n",
    "import pandas as pd\n",
    "import glob\n",
    "from pathlib import Path\n",
    "from tqdm import tqdm\n",
    "import random\n",
    "from collections import defaultdict\n",
    "from itertools import combinations"
   ]
  },
  {
   "cell_type": "code",
   "execution_count": 14,
   "metadata": {},
   "outputs": [],
   "source": [
    "def get_ids_dataframe(corpus_path: str)-> pd.DataFrame:\n",
    "    '''\n",
    "        in: \n",
    "            corpus_path: contains the path with the sub-folders named after the \n",
    "                         document types\n",
    "        out: pandas.DataFrame: [id, group]\n",
    "    '''\n",
    "        \n",
    "    ids = []\n",
    "    for subdir, folders, files in os.walk(corpus_path):\n",
    "        if subdir!=corpus_path:\n",
    "            for file in tqdm(os.listdir(path=subdir)):\n",
    "                if \".ann\" in file:           \n",
    "                    if Path(os.path.join(subdir,file)).stat().st_size!=0:\n",
    "                        ids.append({\n",
    "                                \"id\": file.split(\".\")[0],\n",
    "                                \"group\": subdir.split(\"\\\\\")[-1]\n",
    "                            }\n",
    "                        )\n",
    "    return pd.DataFrame(ids).set_index('id')"
   ]
  },
  {
   "cell_type": "markdown",
   "metadata": {},
   "source": [
    "# Intra-group folds"
   ]
  },
  {
   "cell_type": "code",
   "execution_count": 18,
   "metadata": {},
   "outputs": [],
   "source": [
    "def get_intra_group_folds(ids_df: pd.DataFrame, \n",
    "                          rnd_state: int=1524513)-> dict:\n",
    "    '''\n",
    "        in: \n",
    "            ids_df: pandas.DataFrame[id, group] \n",
    "            rnd_state: seed for random number generator\n",
    "        \n",
    "        out: dict {letterype: [(fold_train_0, fold_test_0), (fold_train_1, fold_test1), (..)]}\n",
    "        \n",
    "    '''\n",
    "        \n",
    "    intra_group_folds = defaultdict(list)\n",
    "    groups = ids_df['group'].unique()\n",
    "    for document_type in groups:\n",
    "        repeated_k_folder = RepeatedKFold(n_repeats=100, n_splits=10, random_state=rnd_state)\n",
    "        df = ids_df[ids_df['group']==document_type]\n",
    "        for train_indcs, test_indcs in tqdm(repeated_k_folder.split(df)):\n",
    "            intra_group_folds[document_type].append((list(ids_df.iloc[train_indcs].index), \n",
    "                                                     list(ids_df.iloc[test_indcs].index)))\n",
    "    return intra_group_folds"
   ]
  },
  {
   "cell_type": "markdown",
   "metadata": {},
   "source": [
    "# Inter-group folds"
   ]
  },
  {
   "cell_type": "code",
   "execution_count": 21,
   "metadata": {},
   "outputs": [],
   "source": [
    "def get_inter_group_splits(ids_df: pd.DataFrame,\n",
    "                     p: int, \n",
    "                     rnd_state: int=1524513,\n",
    "                     train_frac: int=1) -> dict:\n",
    "    '''\n",
    "        in: \n",
    "            ids_df: pandas.DataFrame[id, group]\n",
    "            p: number of lettertypes in train set\n",
    "            rnd_state: seed for random number generator\n",
    "            train_frac: fraction of training data used for model, default=1\n",
    "        \n",
    "        out: dict {}\n",
    "    \n",
    "    '''\n",
    "\n",
    "    group_splits = dict()\n",
    "    unique_groups = ids_df.group.unique()\n",
    "    groups_train = [tuple(map(str, comb)) for comb in combinations(unique_groups, p)]\n",
    "    groups_test = [tuple(set(unique_groups)-set(gt)) for gt in groups_train]\n",
    "        \n",
    "    for idx, gtrain in enumerate(groups_train):\n",
    "        gtest = groups_test[idx]\n",
    "        group_splits[idx] = {'groups_train': gtrain, \n",
    "                             'groups_test': gtest,\n",
    "                             'train_fold': ids_df.loc[ids_df.group.isin(gtrain)]\\\n",
    "                                            .sample(frac=train_frac, random_state=rnd_state).index.tolist(), \n",
    "                             'test_fold': ids_df.loc[ids_df.group.isin(gtest)].index.tolist()\n",
    "                          }\n",
    "    return group_splits"
   ]
  },
  {
   "cell_type": "code",
   "execution_count": 5,
   "metadata": {},
   "outputs": [],
   "source": [
    "dcc_path = \"T:\\\\laupodteam\\\\AIOS\\\\Bram\\\\data\\\\Argus\\\\text_data\\\\external_text\\\\corpora\\\\EMCDutchClinicalCorpus\""
   ]
  },
  {
   "cell_type": "code",
   "execution_count": 15,
   "metadata": {},
   "outputs": [
    {
     "name": "stderr",
     "output_type": "stream",
     "text": [
      "100%|█████████████████████████████████████| 2999/2999 [00:04<00:00, 668.31it/s]\n",
      "100%|█████████████████████████████████████| 4000/4000 [00:06<00:00, 632.85it/s]\n",
      "100%|█████████████████████████████████████| 4001/4001 [00:06<00:00, 656.37it/s]\n",
      "100%|█████████████████████████████████████| 3983/3983 [00:07<00:00, 566.19it/s]\n"
     ]
    }
   ],
   "source": [
    "ids_df = get_ids_dataframe(dcc_path)\n",
    "intra_folds = get_intra_group_folds(ids_df=ids_df)\n",
    "inter_folds = get_inter_group_splits(ids_df=ids_df, p=3)"
   ]
  },
  {
   "cell_type": "code",
   "execution_count": null,
   "metadata": {},
   "outputs": [],
   "source": []
  }
 ],
 "metadata": {
  "kernelspec": {
   "display_name": "Python 3 (NLP)",
   "language": "python",
   "name": "nlp"
  },
  "language_info": {
   "codemirror_mode": {
    "name": "ipython",
    "version": 3
   },
   "file_extension": ".py",
   "mimetype": "text/x-python",
   "name": "python",
   "nbconvert_exporter": "python",
   "pygments_lexer": "ipython3",
   "version": "3.7.6"
  }
 },
 "nbformat": 4,
 "nbformat_minor": 4
}
