{
 "cells": [
  {
   "cell_type": "markdown",
   "metadata": {},
   "source": [
    "We have a dataset (DCC) with a shortage of certain labels. We want to generate \n",
    "new samples synthetically using GPT-4. We will use the following approach:\n",
    "1. We take the existing samples for each document type and present these to GPT-4\n",
    "2. we ask to generate new sentences like it, where the token labels are provided in the BIO format\n",
    "\n",
    "We care specifically about the following labels:\n",
    "* Experiencer: Other\n",
    "* Historical: Hypothetical\n",
    "\n",
    "The task of the GPT model is to generate new sentences that are similar to the input sentences but with variations of the medical concepts. \n",
    "\n",
    "For instance: \n",
    "\n"
   ]
  },
  {
   "cell_type": "code",
   "execution_count": 11,
   "metadata": {},
   "outputs": [
    {
     "data": {
      "text/plain": [
       "True"
      ]
     },
     "execution_count": 11,
     "metadata": {},
     "output_type": "execute_result"
    }
   ],
   "source": [
    "import os, sys, re\n",
    "import json, dotenv\n",
    "\n",
    "import openai\n",
    "import asyncio\n",
    "from openai import AsyncOpenAI, OpenAI\n",
    "\n",
    "\n",
    "dotenv.load_dotenv()"
   ]
  },
  {
   "cell_type": "code",
   "execution_count": 2,
   "metadata": {},
   "outputs": [],
   "source": [
    "openai.api_key = os.getenv(\"OPENAI_KEY\")"
   ]
  },
  {
   "cell_type": "code",
   "execution_count": 3,
   "metadata": {},
   "outputs": [],
   "source": [
    "DCC = json.load(open('../data/emc-dcc_ann.json'))"
   ]
  },
  {
   "cell_type": "code",
   "execution_count": 17,
   "metadata": {},
   "outputs": [],
   "source": [
    "docs = DCC['projects'][0]['documents']"
   ]
  },
  {
   "cell_type": "code",
   "execution_count": 30,
   "metadata": {},
   "outputs": [],
   "source": [
    "relevant_docs = []\n",
    "for i, doc in enumerate(docs):\n",
    "    for concept in doc['annotations']:\n",
    "        if (concept['meta_anns']['Temporality']['value']=='hypothetical') | \\\n",
    "                    (concept['meta_anns']['Experiencer']['value']=='other'):\n",
    "            relevant_docs.append(doc)\n",
    "            break"
   ]
  },
  {
   "cell_type": "code",
   "execution_count": 33,
   "metadata": {},
   "outputs": [
    {
     "data": {
      "text/plain": [
       "{'id': 106,\n",
       " 'name': 'DL1139',\n",
       " 'text': \"De flexiecontractuur lijkt daarom meer een gevolg te zijn van spasme van de flexoren.\\nPatient geeft eveneens aan psychische klachten te hebben en worstelt op het moment met vroegere trauma's met zijn ouders, waarvoor hij steun krijgt in het Boumanshuis.\\nGezien de duidelijke spasmen van de flexoren, lijkt het mij geindiceerd om ten eerst conservatieve behandeling te starten m.b.v. fysiotherapie, spalken en analgesie.\\n\",\n",
       " 'annotations': [{'id': 107,\n",
       "   'user': 'emc_dcc',\n",
       "   'cui': 15,\n",
       "   'value': 'spasme',\n",
       "   'start': 62,\n",
       "   'end': 68,\n",
       "   'validated': True,\n",
       "   'correct': True,\n",
       "   'deleted': False,\n",
       "   'alternative': False,\n",
       "   'killed': False,\n",
       "   'meta_anns': {'Negation': {'name': 'Negation',\n",
       "     'validated': True,\n",
       "     'acc': 1.0,\n",
       "     'value': 'not negated'},\n",
       "    'Temporality': {'name': 'Temporality',\n",
       "     'validated': True,\n",
       "     'acc': 1.0,\n",
       "     'value': 'recent'},\n",
       "    'Experiencer': {'name': 'Experiencer',\n",
       "     'validated': True,\n",
       "     'acc': 1.0,\n",
       "     'value': 'patient'}}},\n",
       "  {'id': 108,\n",
       "   'user': 'emc_dcc',\n",
       "   'cui': 2,\n",
       "   'value': 'trauma',\n",
       "   'start': 182,\n",
       "   'end': 188,\n",
       "   'validated': True,\n",
       "   'correct': True,\n",
       "   'deleted': False,\n",
       "   'alternative': False,\n",
       "   'killed': False,\n",
       "   'meta_anns': {'Negation': {'name': 'Negation',\n",
       "     'validated': True,\n",
       "     'acc': 1.0,\n",
       "     'value': 'not negated'},\n",
       "    'Temporality': {'name': 'Temporality',\n",
       "     'validated': True,\n",
       "     'acc': 1.0,\n",
       "     'value': 'recent'},\n",
       "    'Experiencer': {'name': 'Experiencer',\n",
       "     'validated': True,\n",
       "     'acc': 1.0,\n",
       "     'value': 'other'}}},\n",
       "  {'id': 109,\n",
       "   'user': 'emc_dcc',\n",
       "   'cui': 3,\n",
       "   'value': 'analgesie',\n",
       "   'start': 409,\n",
       "   'end': 418,\n",
       "   'validated': True,\n",
       "   'correct': True,\n",
       "   'deleted': False,\n",
       "   'alternative': False,\n",
       "   'killed': False,\n",
       "   'meta_anns': {'Negation': {'name': 'Negation',\n",
       "     'validated': True,\n",
       "     'acc': 1.0,\n",
       "     'value': 'not negated'},\n",
       "    'Temporality': {'name': 'Temporality',\n",
       "     'validated': True,\n",
       "     'acc': 1.0,\n",
       "     'value': 'recent'},\n",
       "    'Experiencer': {'name': 'Experiencer',\n",
       "     'validated': True,\n",
       "     'acc': 1.0,\n",
       "     'value': 'patient'}}}]}"
      ]
     },
     "execution_count": 33,
     "metadata": {},
     "output_type": "execute_result"
    }
   ],
   "source": [
    "relevant_docs[0]"
   ]
  },
  {
   "cell_type": "code",
   "execution_count": 16,
   "metadata": {},
   "outputs": [],
   "source": [
    "OAI_ASYNC_CLIENT = AsyncOpenAI(api_key=os.getenv(\"OPENAI_KEY\"), max_retries=2)\n",
    "OAI_CLIENT = OpenAI(api_key=os.getenv(\"OPENAI_KEY\"), max_retries=2)"
   ]
  },
  {
   "cell_type": "code",
   "execution_count": 15,
   "metadata": {},
   "outputs": [
    {
     "name": "stdout",
     "output_type": "stream",
     "text": [
      "\n",
      "This\n",
      " is\n",
      " a\n",
      " test\n",
      ".\n",
      "\n"
     ]
    }
   ],
   "source": [
    "stream = OAI_CLIENT.chat.completions.create(\n",
    "    model=\"gpt-3.5-turbo\",\n",
    "    messages=[{\"role\": \"user\", \"content\": \"Say this is a test\"}],\n",
    "    stream=True,\n",
    ")\n",
    "for part in stream:\n",
    "    print(part.choices[0].delta.content or \"\")"
   ]
  },
  {
   "cell_type": "code",
   "execution_count": null,
   "metadata": {},
   "outputs": [],
   "source": []
  }
 ],
 "metadata": {
  "kernelspec": {
   "display_name": "nlp",
   "language": "python",
   "name": "python3"
  },
  "language_info": {
   "codemirror_mode": {
    "name": "ipython",
    "version": 3
   },
   "file_extension": ".py",
   "mimetype": "text/x-python",
   "name": "python",
   "nbconvert_exporter": "python",
   "pygments_lexer": "ipython3",
   "version": "3.10.4"
  }
 },
 "nbformat": 4,
 "nbformat_minor": 2
}
