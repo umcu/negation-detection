{
 "cells": [
  {
   "cell_type": "markdown",
   "id": "53affcce",
   "metadata": {},
   "source": [
    "Starting from a \n",
    "* pre-trained model with a \n",
    "* pre-trained tokenizer\n",
    "\n",
    "we perform finetuning on a negation task\n",
    "\n",
    "Tweakable:\n",
    "* test-time augmentation\n",
    "* flattening B-, I-\n",
    "* block-size\n",
    "* batch-size\n",
    "* gradient"
   ]
  },
  {
   "cell_type": "markdown",
   "id": "393fea2f",
   "metadata": {},
   "source": [
    "Experiments:\n",
    "* (negation paper) 32 block size, 32 batch size, with/without centered validation\n",
    "  * MedRoBERTa.nl\n",
    "  * RobBERT v2\n",
    "* 32 block size, 32 batch size, with centered validation, 1-12 layers \n",
    "  * MedRoBERTa.nl\n",
    "  * RobBERT v2"
   ]
  },
  {
   "cell_type": "code",
   "execution_count": 1,
   "id": "39671c2b",
   "metadata": {},
   "outputs": [],
   "source": [
    "%load_ext autoreload\n",
    "%autoreload 2\n",
    "\n",
    "import os \n",
    "import sys\n",
    "import numpy as np\n",
    "import random\n",
    "from tqdm import tqdm\n",
    "\n",
    "from torch.nn import CrossEntropyLoss\n",
    "from torch.utils.data import Dataset, DataLoader\n",
    "from torch import device, cuda, version\n",
    "\n",
    "#import apex\n",
    "import pandas as pd\n",
    "\n",
    "import seaborn\n",
    "import matplotlib.pyplot as plt\n",
    "\n",
    "from collections import namedtuple\n",
    "from transformers import AutoTokenizer, RobertaTokenizer, AutoModelForTokenClassification\n",
    "from transformers import AutoModelForSequenceClassification\n",
    "\n",
    "module_path = os.path.abspath(os.path.join('..'))\n",
    "if module_path not in sys.path:\n",
    "    sys.path.append(module_path)\n",
    "    \n",
    "from utils import dcc_splitter as splitter\n",
    "from utils import ner_training as trainer\n",
    "#import dcc_splitter as splitter\n",
    "\n",
    "use_gpu = True"
   ]
  },
  {
   "cell_type": "code",
   "execution_count": 2,
   "id": "4f3cc061",
   "metadata": {},
   "outputs": [],
   "source": [
    "os.environ[\"CUDA_DEVICE_ORDER\"]=\"PCI_BUS_ID\"   # see issue #152\n",
    "os.environ[\"CUDA_VISIBLE_DEVICES\"]=\"0,1\""
   ]
  },
  {
   "cell_type": "code",
   "execution_count": 3,
   "id": "7a190030",
   "metadata": {},
   "outputs": [
    {
     "name": "stdout",
     "output_type": "stream",
     "text": [
      "CUDA, GPU, is working\n"
     ]
    }
   ],
   "source": [
    "if cuda.is_available():\n",
    "    print('CUDA, GPU, is working')\n",
    "    os.system(\"espeak 'CUDA, GPU, is working!'\")\n",
    "else:\n",
    "    print('CUDA, GPU, is not working')\n",
    "    os.system(\"espeak 'CUDA, GPU, is NOT working!'\")\n",
    "    \n",
    "device = device(\"cuda:0\") if (cuda.is_available()) & (use_gpu==True) else device(\"cpu\")"
   ]
  },
  {
   "cell_type": "code",
   "execution_count": 4,
   "id": "6c680fb1",
   "metadata": {},
   "outputs": [],
   "source": [
    "dcc_dir = None\n",
    "output_dir = None\n",
    "skip_file = None\n",
    "n_splits = 10\n",
    "random_state = None\n",
    "reduce_tags = False\n",
    "centered_testing = True\n",
    "train_on_all = True\n",
    "zero_shot = False # do not train the attention layers, only the final linear layer\n",
    "num_trainable_layers = None # None: all, overrides zero_shot\n",
    "base_folder = \"/media/koekiemonster/DATA-FAST/text_data/word_vectors_and_language_models/dutch/Medical/languagemodels\"\n",
    "mod_name = \"medroberta_journals_ARGUS_nvvc_IBD_RA\" #\"robbert-v2-dutch-base-DAPT\" # \"robbert-v2-dutch-base\" # belabBERT_115k # bert-base-dutch, #MedRoBERTa # robbert-v2-dutch-base-DAPT # medroberta_journals_ARGUS_nvvc_IBD_RA\n",
    " \n",
    "\n",
    "args = namedtuple\n",
    "args.task = \"temporality\" # experiencer, temporality, negation\n",
    "args.model_path = os.path.join(base_folder, mod_name)\n",
    "args.model_type = \"roberta\" # bertje \n",
    "args.num_epochs = 3 # 10 for zero-shot\n",
    "args.eval_steps = 500 \n",
    "args.lr =  1e-4 # 5e-5 for non-zeroshot 64 bs, 5e-3 for zero-shot 128 bs, 1e-4 for nonzeroshot 32 bs\n",
    "args.batch_size= 32 #4\n",
    "args.gradient_accumulation_steps = 1 #16\n",
    "args.block_size = 32 # 512 \n",
    "args.save_model=False\n",
    "args.bio=True\n",
    "args.do_eval=False\n",
    "args.do_write=False\n",
    "args.bootstrap=False\n",
    "args.do_print_class_report=False\n",
    "args.amp=True\n",
    "\n",
    "mod_name = mod_name.replace(\"-\",\"_\")+\"_\"+\"_\".join([str(args.num_epochs), \n",
    "                                                   str(args.batch_size*args.gradient_accumulation_steps), \n",
    "                                                   str(args.block_size),\n",
    "                                                   \"zeroShot\" if zero_shot else \"\",\n",
    "                                                   \"centeredVal\" if centered_testing else \"\"])\n",
    "mod_name = mod_name.strip(\"_\")\n",
    "output_folder = \"fine_tuned_token_\"+args.task+\"_\"+mod_name\n",
    "\n",
    "args.output_dir = os.path.join(base_folder, output_folder)\n",
    "\n",
    "\n",
    "random.seed(77)"
   ]
  },
  {
   "cell_type": "code",
   "execution_count": 5,
   "id": "223e8040",
   "metadata": {},
   "outputs": [
    {
     "data": {
      "text/plain": [
       "'medroberta_journals_ARGUS_nvvc_IBD_RA_3_32_32__centeredVal'"
      ]
     },
     "execution_count": 5,
     "metadata": {},
     "output_type": "execute_result"
    }
   ],
   "source": [
    "mod_name"
   ]
  },
  {
   "cell_type": "code",
   "execution_count": 6,
   "id": "69942f98",
   "metadata": {},
   "outputs": [],
   "source": [
    "# args.block_size determines how many text snippets are  used for training, see ner_training.py lines 118--141\n",
    "# obviously this is a code-design flaw that should be mended.\n",
    "# the dataset loader should  include the id_begin_end in the output"
   ]
  },
  {
   "cell_type": "code",
   "execution_count": 7,
   "id": "56477b33",
   "metadata": {},
   "outputs": [],
   "source": [
    "# dcc-splitter for folds\n",
    "dcc_splitter = splitter.DCCSplitter(dcc_dir, output_dir, skip_file, n_splits, random_state, write_to_file=False)\n",
    "splits = dcc_splitter.split()"
   ]
  },
  {
   "cell_type": "code",
   "execution_count": 8,
   "id": "92db3d9b",
   "metadata": {},
   "outputs": [],
   "source": [
    "# load NER DCC set\n",
    "dcc = pd.read_csv(\"../data/RobBERT/DCC_df.csv\", \n",
    "                  sep=\"\\t\", \n",
    "                  skip_blank_lines=True, \n",
    "                  engine=\"python\", \n",
    "                  encoding=\"latin1\",\n",
    "                  on_bad_lines='warn', \n",
    "                  keep_default_na=False)"
   ]
  },
  {
   "cell_type": "code",
   "execution_count": 9,
   "id": "4c3a0f8f",
   "metadata": {},
   "outputs": [
    {
     "data": {
      "text/plain": [
       "O             139764\n",
       "NotNegated     16781\n",
       "Negated         3058\n",
       "Name: Negation, dtype: int64"
      ]
     },
     "execution_count": 9,
     "metadata": {},
     "output_type": "execute_result"
    }
   ],
   "source": [
    "dcc.Negation.value_counts()"
   ]
  },
  {
   "cell_type": "code",
   "execution_count": 10,
   "id": "8e74f26e",
   "metadata": {},
   "outputs": [
    {
     "data": {
      "text/plain": [
       "O    139764\n",
       "B     11971\n",
       "I      7868\n",
       "Name: BIO, dtype: int64"
      ]
     },
     "execution_count": 10,
     "metadata": {},
     "output_type": "execute_result"
    }
   ],
   "source": [
    "dcc.BIO.value_counts()"
   ]
  },
  {
   "cell_type": "code",
   "execution_count": 11,
   "id": "9a85c624",
   "metadata": {},
   "outputs": [
    {
     "data": {
      "text/plain": [
       "19839"
      ]
     },
     "execution_count": 11,
     "metadata": {},
     "output_type": "execute_result"
    }
   ],
   "source": [
    "dcc.loc[dcc.BIO!='O'][['Id', 'Begin', 'End']].apply(lambda x: \"_\".join(str(x)), axis=1).nunique()"
   ]
  },
  {
   "cell_type": "code",
   "execution_count": 12,
   "id": "69a61e86",
   "metadata": {},
   "outputs": [],
   "source": [
    "Texts = dcc.groupby('Id').Word.apply(lambda x: \" \".join(x))"
   ]
  },
  {
   "cell_type": "code",
   "execution_count": 13,
   "id": "dbf2c319",
   "metadata": {},
   "outputs": [],
   "source": [
    "if reduce_tags:\n",
    "    tag_ids = {'negation':{'B-Negated':0,'B-NotNegated':1,'I-Negated':0,'I-NotNegated':1},\n",
    "              'temporality':{'B-Recent':0,'B-Historical':1,'B-Hypothetical':2,'I-Recent':0,\n",
    "                             'I-Historical':1,'I-Hypothetical':2},\n",
    "              'experiencer':{'B-Patient':0,'B-Other':1,'I-Patient':0,'I-Other':1}}\n",
    "else:\n",
    "    tag_ids = {'negation':{'B-Negated':0,'B-NotNegated':1,'I-Negated':2,'I-NotNegated':3},\n",
    "              'temporality':{'B-Recent':0,'B-Historical':1,'B-Hypothetical':2,'I-Recent':3,\n",
    "                             'I-Historical':4,'I-Hypothetical':5},\n",
    "              'experiencer':{'B-Patient':0,'B-Other':1,'I-Patient':2,'I-Other':3}}\n",
    "\n",
    "tag2id = tag_ids[args.task]\n",
    "tokenizer = AutoTokenizer.from_pretrained(args.model_path)"
   ]
  },
  {
   "cell_type": "code",
   "execution_count": 14,
   "id": "7b462f81",
   "metadata": {},
   "outputs": [],
   "source": [
    "dcc['num_tokens'] = dcc.Word.apply(lambda x: len(tokenizer.tokenize(x)))\n",
    "dcc['cumsum_tokens'] = dcc.groupby('Id').num_tokens.cumsum()\n",
    "dcc['letter_type'] = dcc.Id.str.slice(0,2)\n",
    "tokens_df = dcc.groupby(['Id', 'letter_type']).cumsum_tokens.agg(num_tokens=max).reset_index()"
   ]
  },
  {
   "cell_type": "code",
   "execution_count": 15,
   "id": "de5b273a",
   "metadata": {},
   "outputs": [
    {
     "name": "stdout",
     "output_type": "stream",
     "text": [
      "Mean \n",
      "DL tokens: 51.27199191102123\n",
      "SP tokens :52.58494404883011\n",
      "RD tokens :31.180240320427238\n",
      "GP tokens :28.964116094986807\n"
     ]
    },
    {
     "data": {
      "image/png": "[encoded data removed]",
      "text/plain": [
       "<Figure size 1008x720 with 1 Axes>"
      ]
     },
     "metadata": {
      "needs_background": "light"
     },
     "output_type": "display_data"
    }
   ],
   "source": [
    "plt.figure(figsize=(14,10))\n",
    "tokens_df[(tokens_df.letter_type=='DL')]\\\n",
    "                        .num_tokens.plot.kde(lw=4, alpha=0.75, label='discharge letters')\n",
    "tokens_df[(tokens_df.letter_type=='SP')]\\\n",
    "                        .num_tokens.plot.kde(lw=4, alpha=0.75, label='specialist letters')\n",
    "tokens_df[(tokens_df.letter_type=='RD')]\\\n",
    "                        .num_tokens.plot.kde(lw=4, alpha=0.75, label='radiology reports')\n",
    "tokens_df[(tokens_df.letter_type=='GP')]\\\n",
    "                        .num_tokens.plot.kde(lw=4, alpha=0.75, label='general practitioner entries')\n",
    "\n",
    "tokens_df[(tokens_df.letter_type=='DL')]\\\n",
    "                        .num_tokens.plot.hist(bins=60, alpha=0.35, density=True, color='blue',\n",
    "                                              label='discharge letters')\n",
    "tokens_df[(tokens_df.letter_type=='SP')]\\\n",
    "                        .num_tokens.plot.hist(bins=60, alpha=0.35, density=True, color='orange',\n",
    "                                              label='specialist letters')\n",
    "tokens_df[(tokens_df.letter_type=='RD')]\\\n",
    "                        .num_tokens.plot.hist(bins=60, alpha=0.35, density=True, color='green',\n",
    "                                              label='radiology reports')\n",
    "tokens_df[(tokens_df.letter_type=='GP')]\\\n",
    "                        .num_tokens.plot.hist(bins=60, alpha=0.35, density=True, color='red',\n",
    "                                              label='general practitioner entries')\n",
    "\n",
    "\n",
    "plt.legend()\n",
    "plt.semilogx()\n",
    "plt.xlabel(\"Number of tokens\")\n",
    "plt.xlim(1,512)\n",
    "\n",
    "print(f\"Mean \\nDL tokens: {tokens_df[(tokens_df.letter_type=='DL')].num_tokens.mean()}\\n\\\n",
    "SP tokens :{tokens_df[(tokens_df.letter_type=='SP')].num_tokens.mean()}\\n\\\n",
    "RD tokens :{tokens_df[(tokens_df.letter_type=='RD')].num_tokens.mean()}\\n\\\n",
    "GP tokens :{tokens_df[(tokens_df.letter_type=='GP')].num_tokens.mean()}\")"
   ]
  },
  {
   "cell_type": "code",
   "execution_count": 16,
   "id": "db9ace64",
   "metadata": {},
   "outputs": [],
   "source": [
    "#dcc.sort_values(by='Id', inplace=True)"
   ]
  },
  {
   "cell_type": "code",
   "execution_count": 17,
   "id": "74dfa1c3",
   "metadata": {},
   "outputs": [],
   "source": [
    "# find I that is not preceeded by a B..\n",
    "def prior_equal_to(x, equal_to='O'):    \n",
    "    if isinstance(x, pd.Series):\n",
    "        _x = np.array(x.values)\n",
    "        indx = x.index\n",
    "        for i, __x in enumerate(_x):\n",
    "            if i>0:\n",
    "                x.loc[indx[i]] = (_x[i-1] in equal_to)\n",
    "            else:      \n",
    "                x.loc[indx[i]] = np.nan\n",
    "    else:\n",
    "        x.loc[x.index[0]] = np.nan\n",
    "    return x\n",
    "dcc['O_as_prior'] = dcc.groupby('Id').BIO.apply(prior_equal_to, **{'equal_to':['O']})\n",
    "dcc['I_as_prior'] = dcc.groupby('Id').BIO.apply(prior_equal_to, **{'equal_to':['I']})\n",
    "dcc['SpecialChar_as_prior'] = dcc.groupby('Id').Word.apply(prior_equal_to,\n",
    "                                                           **{'equal_to':['.', ',', ':', ';', \n",
    "                                                                          '!', '?','-','+']})\n",
    "dcc.loc[(dcc.BIO=='I') & (dcc.O_as_prior==True), 'BIO'] = 'B'\n",
    "dcc.loc[(dcc.BIO=='I') & (dcc.SpecialChar_as_prior==True), 'BIO'] = 'B'\n",
    "\n"
   ]
  },
  {
   "cell_type": "code",
   "execution_count": 18,
   "id": "d89a07ba",
   "metadata": {},
   "outputs": [
    {
     "name": "stderr",
     "output_type": "stream",
     "text": [
      "100%|██████████| 5365/5365 [03:45<00:00, 23.75it/s]\n"
     ]
    }
   ],
   "source": [
    "# for centering, just change the dcc..\n",
    "# improvement: add boolean to indicate whether entity is in center, process in training routine :)\n",
    "sub_dfs = []\n",
    "for _id in tqdm(dcc.Id.unique()):\n",
    "    cst_list = dcc[(dcc.Id==_id) & (dcc.BIO=='B')].cumsum_tokens.to_list()\n",
    "    for l, cst in enumerate(cst_list):\n",
    "        sub_df = dcc[(dcc.Id==_id) & \n",
    "                (dcc.cumsum_tokens<cst+int(0.5*args.block_size)) &\n",
    "                (dcc.cumsum_tokens>cst-int(0.5*args.block_size))].reset_index(drop=True)\n",
    "        sub_df['center']=False\n",
    "        sub_df.loc[sub_df.cumsum_tokens==cst, 'center'] = True\n",
    "        sub_df.loc[:, 'sub_Id'] = l\n",
    "        sub_dfs.append(sub_df)\n",
    "_dcc = pd.concat(sub_dfs, axis=0).reset_index(drop=True)\n",
    "_dcc['sub_Id'] = _dcc['sub_Id'].astype(str)\n",
    "_dcc['Id'] = _dcc['Id'] + \"_\" + _dcc['sub_Id']\n",
    "dcc = _dcc"
   ]
  },
  {
   "cell_type": "markdown",
   "id": "4051ff0c",
   "metadata": {},
   "source": [
    "## Over all document sources\n",
    "\n",
    "improvement: \n",
    "* only output best model based on validation scores\n",
    "* save results after each epoch --> should be included in train_model\n",
    "* allow freezing specific layers: https://discuss.huggingface.co/t/how-to-freeze-some-layers-of-bertmodel/917"
   ]
  },
  {
   "cell_type": "code",
   "execution_count": 19,
   "id": "acb187ec",
   "metadata": {},
   "outputs": [],
   "source": [
    "dcc.loc[:,'Begin'] = dcc['Begin'].astype(str)\n",
    "dcc.loc[:, 'End'] = dcc['End'].astype(str)\n",
    "dcc=dcc[['Id', 'Word', 'BIO', 'Negation', 'Experiencer', 'Temporality', 'Begin', 'End', 'center']]"
   ]
  },
  {
   "cell_type": "code",
   "execution_count": 20,
   "id": "659dd996",
   "metadata": {},
   "outputs": [
    {
     "name": "stderr",
     "output_type": "stream",
     "text": [
      "0it [00:00, ?it/s]Some weights of the model checkpoint at /media/koekiemonster/DATA-FAST/text_data/word_vectors_and_language_models/dutch/Medical/languagemodels/medroberta_journals_ARGUS_nvvc_IBD_RA were not used when initializing RobertaForTokenClassification: ['lm_head.bias', 'lm_head.layer_norm.bias', 'lm_head.dense.bias', 'lm_head.layer_norm.weight', 'lm_head.dense.weight']\n",
      "- This IS expected if you are initializing RobertaForTokenClassification from the checkpoint of a model trained on another task or with another architecture (e.g. initializing a BertForSequenceClassification model from a BertForPreTraining model).\n",
      "- This IS NOT expected if you are initializing RobertaForTokenClassification from the checkpoint of a model that you expect to be exactly identical (initializing a BertForSequenceClassification model from a BertForSequenceClassification model).\n",
      "Some weights of RobertaForTokenClassification were not initialized from the model checkpoint at /media/koekiemonster/DATA-FAST/text_data/word_vectors_and_language_models/dutch/Medical/languagemodels/medroberta_journals_ARGUS_nvvc_IBD_RA and are newly initialized: ['classifier.weight', 'classifier.bias']\n",
      "You should probably TRAIN this model on a down-stream task to be able to use it for predictions and inference.\n"
     ]
    },
    {
     "name": "stdout",
     "output_type": "stream",
     "text": [
      "RobertaConfig {\n",
      "  \"_name_or_path\": \"/media/koekiemonster/DATA-FAST/text_data/word_vectors_and_language_models/dutch/Medical/languagemodels/medroberta_journals_ARGUS_nvvc_IBD_RA\",\n",
      "  \"architectures\": [\n",
      "    \"RobertaForMaskedLM\"\n",
      "  ],\n",
      "  \"attention_probs_dropout_prob\": 0.1,\n",
      "  \"bos_token_id\": 0,\n",
      "  \"classifier_dropout\": null,\n",
      "  \"eos_token_id\": 2,\n",
      "  \"gradient_checkpointing\": false,\n",
      "  \"hidden_act\": \"gelu\",\n",
      "  \"hidden_dropout_prob\": 0.1,\n",
      "  \"hidden_size\": 768,\n",
      "  \"id2label\": {\n",
      "    \"0\": \"LABEL_0\",\n",
      "    \"1\": \"LABEL_1\",\n",
      "    \"2\": \"LABEL_2\",\n",
      "    \"3\": \"LABEL_3\",\n",
      "    \"4\": \"LABEL_4\",\n",
      "    \"5\": \"LABEL_5\"\n",
      "  },\n",
      "  \"initializer_range\": 0.02,\n",
      "  \"intermediate_size\": 3072,\n",
      "  \"label2id\": {\n",
      "    \"LABEL_0\": 0,\n",
      "    \"LABEL_1\": 1,\n",
      "    \"LABEL_2\": 2,\n",
      "    \"LABEL_3\": 3,\n",
      "    \"LABEL_4\": 4,\n",
      "    \"LABEL_5\": 5\n",
      "  },\n",
      "  \"layer_norm_eps\": 1e-12,\n",
      "  \"max_position_embeddings\": 514,\n",
      "  \"model_type\": \"roberta\",\n",
      "  \"num_attention_heads\": 12,\n",
      "  \"num_hidden_layers\": 12,\n",
      "  \"pad_token_id\": 1,\n",
      "  \"position_embedding_type\": \"absolute\",\n",
      "  \"torch_dtype\": \"float32\",\n",
      "  \"transformers_version\": \"4.11.3\",\n",
      "  \"type_vocab_size\": 1,\n",
      "  \"use_cache\": true,\n",
      "  \"vocab_size\": 52000\n",
      "}\n",
      "\n"
     ]
    },
    {
     "name": "stderr",
     "output_type": "stream",
     "text": [
      "Epoch 1: 100%|██████████| 352/352 [00:55<00:00,  6.31it/s]\n",
      "Epoch 2: 100%|██████████| 352/352 [00:56<00:00,  6.22it/s]\n",
      "Epoch 3: 100%|██████████| 352/352 [00:55<00:00,  6.29it/s]\n"
     ]
    },
    {
     "name": "stdout",
     "output_type": "stream",
     "text": [
      "Training finished, best model f = 0.000\n"
     ]
    },
    {
     "name": "stderr",
     "output_type": "stream",
     "text": [
      "\r",
      "1it [05:13, 313.89s/it]"
     ]
    },
    {
     "name": "stdout",
     "output_type": "stream",
     "text": [
      "F1: 0.968 \n",
      "              precision    recall  f1-score   support\n",
      "\n",
      "  Historical       0.63      0.50      0.56        34\n",
      "Hypothetical       0.33      0.08      0.12        13\n",
      "      Recent       0.98      0.99      0.98      1195\n",
      "\n",
      "   micro avg       0.97      0.97      0.97      1242\n",
      "   macro avg       0.65      0.52      0.56      1242\n",
      "weighted avg       0.96      0.97      0.96      1242\n",
      "\n"
     ]
    },
    {
     "name": "stderr",
     "output_type": "stream",
     "text": [
      "Some weights of the model checkpoint at /media/koekiemonster/DATA-FAST/text_data/word_vectors_and_language_models/dutch/Medical/languagemodels/medroberta_journals_ARGUS_nvvc_IBD_RA were not used when initializing RobertaForTokenClassification: ['lm_head.bias', 'lm_head.layer_norm.bias', 'lm_head.dense.bias', 'lm_head.layer_norm.weight', 'lm_head.dense.weight']\n",
      "- This IS expected if you are initializing RobertaForTokenClassification from the checkpoint of a model trained on another task or with another architecture (e.g. initializing a BertForSequenceClassification model from a BertForPreTraining model).\n",
      "- This IS NOT expected if you are initializing RobertaForTokenClassification from the checkpoint of a model that you expect to be exactly identical (initializing a BertForSequenceClassification model from a BertForSequenceClassification model).\n",
      "Some weights of RobertaForTokenClassification were not initialized from the model checkpoint at /media/koekiemonster/DATA-FAST/text_data/word_vectors_and_language_models/dutch/Medical/languagemodels/medroberta_journals_ARGUS_nvvc_IBD_RA and are newly initialized: ['classifier.weight', 'classifier.bias']\n",
      "You should probably TRAIN this model on a down-stream task to be able to use it for predictions and inference.\n"
     ]
    },
    {
     "name": "stdout",
     "output_type": "stream",
     "text": [
      "RobertaConfig {\n",
      "  \"_name_or_path\": \"/media/koekiemonster/DATA-FAST/text_data/word_vectors_and_language_models/dutch/Medical/languagemodels/medroberta_journals_ARGUS_nvvc_IBD_RA\",\n",
      "  \"architectures\": [\n",
      "    \"RobertaForMaskedLM\"\n",
      "  ],\n",
      "  \"attention_probs_dropout_prob\": 0.1,\n",
      "  \"bos_token_id\": 0,\n",
      "  \"classifier_dropout\": null,\n",
      "  \"eos_token_id\": 2,\n",
      "  \"gradient_checkpointing\": false,\n",
      "  \"hidden_act\": \"gelu\",\n",
      "  \"hidden_dropout_prob\": 0.1,\n",
      "  \"hidden_size\": 768,\n",
      "  \"id2label\": {\n",
      "    \"0\": \"LABEL_0\",\n",
      "    \"1\": \"LABEL_1\",\n",
      "    \"2\": \"LABEL_2\",\n",
      "    \"3\": \"LABEL_3\",\n",
      "    \"4\": \"LABEL_4\",\n",
      "    \"5\": \"LABEL_5\"\n",
      "  },\n",
      "  \"initializer_range\": 0.02,\n",
      "  \"intermediate_size\": 3072,\n",
      "  \"label2id\": {\n",
      "    \"LABEL_0\": 0,\n",
      "    \"LABEL_1\": 1,\n",
      "    \"LABEL_2\": 2,\n",
      "    \"LABEL_3\": 3,\n",
      "    \"LABEL_4\": 4,\n",
      "    \"LABEL_5\": 5\n",
      "  },\n",
      "  \"layer_norm_eps\": 1e-12,\n",
      "  \"max_position_embeddings\": 514,\n",
      "  \"model_type\": \"roberta\",\n",
      "  \"num_attention_heads\": 12,\n",
      "  \"num_hidden_layers\": 12,\n",
      "  \"pad_token_id\": 1,\n",
      "  \"position_embedding_type\": \"absolute\",\n",
      "  \"torch_dtype\": \"float32\",\n",
      "  \"transformers_version\": \"4.11.3\",\n",
      "  \"type_vocab_size\": 1,\n",
      "  \"use_cache\": true,\n",
      "  \"vocab_size\": 52000\n",
      "}\n",
      "\n"
     ]
    },
    {
     "name": "stderr",
     "output_type": "stream",
     "text": [
      "Epoch 1: 100%|██████████| 351/351 [00:56<00:00,  6.20it/s]\n",
      "Epoch 2: 100%|██████████| 351/351 [00:57<00:00,  6.12it/s]\n",
      "Epoch 3: 100%|██████████| 351/351 [00:55<00:00,  6.32it/s]\n"
     ]
    },
    {
     "name": "stdout",
     "output_type": "stream",
     "text": [
      "Training finished, best model f = 0.000\n"
     ]
    },
    {
     "name": "stderr",
     "output_type": "stream",
     "text": [
      "\r",
      "2it [10:26, 313.06s/it]"
     ]
    },
    {
     "name": "stdout",
     "output_type": "stream",
     "text": [
      "F1: 0.964 \n",
      "              precision    recall  f1-score   support\n",
      "\n",
      "  Historical       0.64      0.62      0.63        45\n",
      "Hypothetical       0.33      0.08      0.13        12\n",
      "      Recent       0.98      0.99      0.98      1207\n",
      "\n",
      "   micro avg       0.96      0.96      0.96      1264\n",
      "   macro avg       0.65      0.56      0.58      1264\n",
      "weighted avg       0.96      0.96      0.96      1264\n",
      "\n"
     ]
    },
    {
     "name": "stderr",
     "output_type": "stream",
     "text": [
      "Some weights of the model checkpoint at /media/koekiemonster/DATA-FAST/text_data/word_vectors_and_language_models/dutch/Medical/languagemodels/medroberta_journals_ARGUS_nvvc_IBD_RA were not used when initializing RobertaForTokenClassification: ['lm_head.bias', 'lm_head.layer_norm.bias', 'lm_head.dense.bias', 'lm_head.layer_norm.weight', 'lm_head.dense.weight']\n",
      "- This IS expected if you are initializing RobertaForTokenClassification from the checkpoint of a model trained on another task or with another architecture (e.g. initializing a BertForSequenceClassification model from a BertForPreTraining model).\n",
      "- This IS NOT expected if you are initializing RobertaForTokenClassification from the checkpoint of a model that you expect to be exactly identical (initializing a BertForSequenceClassification model from a BertForSequenceClassification model).\n",
      "Some weights of RobertaForTokenClassification were not initialized from the model checkpoint at /media/koekiemonster/DATA-FAST/text_data/word_vectors_and_language_models/dutch/Medical/languagemodels/medroberta_journals_ARGUS_nvvc_IBD_RA and are newly initialized: ['classifier.weight', 'classifier.bias']\n",
      "You should probably TRAIN this model on a down-stream task to be able to use it for predictions and inference.\n"
     ]
    },
    {
     "name": "stdout",
     "output_type": "stream",
     "text": [
      "RobertaConfig {\n",
      "  \"_name_or_path\": \"/media/koekiemonster/DATA-FAST/text_data/word_vectors_and_language_models/dutch/Medical/languagemodels/medroberta_journals_ARGUS_nvvc_IBD_RA\",\n",
      "  \"architectures\": [\n",
      "    \"RobertaForMaskedLM\"\n",
      "  ],\n",
      "  \"attention_probs_dropout_prob\": 0.1,\n",
      "  \"bos_token_id\": 0,\n",
      "  \"classifier_dropout\": null,\n",
      "  \"eos_token_id\": 2,\n",
      "  \"gradient_checkpointing\": false,\n",
      "  \"hidden_act\": \"gelu\",\n",
      "  \"hidden_dropout_prob\": 0.1,\n",
      "  \"hidden_size\": 768,\n",
      "  \"id2label\": {\n",
      "    \"0\": \"LABEL_0\",\n",
      "    \"1\": \"LABEL_1\",\n",
      "    \"2\": \"LABEL_2\",\n",
      "    \"3\": \"LABEL_3\",\n",
      "    \"4\": \"LABEL_4\",\n",
      "    \"5\": \"LABEL_5\"\n",
      "  },\n",
      "  \"initializer_range\": 0.02,\n",
      "  \"intermediate_size\": 3072,\n",
      "  \"label2id\": {\n",
      "    \"LABEL_0\": 0,\n",
      "    \"LABEL_1\": 1,\n",
      "    \"LABEL_2\": 2,\n",
      "    \"LABEL_3\": 3,\n",
      "    \"LABEL_4\": 4,\n",
      "    \"LABEL_5\": 5\n",
      "  },\n",
      "  \"layer_norm_eps\": 1e-12,\n",
      "  \"max_position_embeddings\": 514,\n",
      "  \"model_type\": \"roberta\",\n",
      "  \"num_attention_heads\": 12,\n",
      "  \"num_hidden_layers\": 12,\n",
      "  \"pad_token_id\": 1,\n",
      "  \"position_embedding_type\": \"absolute\",\n",
      "  \"torch_dtype\": \"float32\",\n",
      "  \"transformers_version\": \"4.11.3\",\n",
      "  \"type_vocab_size\": 1,\n",
      "  \"use_cache\": true,\n",
      "  \"vocab_size\": 52000\n",
      "}\n",
      "\n"
     ]
    },
    {
     "name": "stderr",
     "output_type": "stream",
     "text": [
      "Epoch 1: 100%|██████████| 351/351 [00:54<00:00,  6.42it/s]\n",
      "Epoch 2: 100%|██████████| 351/351 [00:54<00:00,  6.39it/s]\n",
      "Epoch 3: 100%|██████████| 351/351 [00:54<00:00,  6.42it/s]\n"
     ]
    },
    {
     "name": "stdout",
     "output_type": "stream",
     "text": [
      "Training finished, best model f = 0.000\n"
     ]
    },
    {
     "name": "stderr",
     "output_type": "stream",
     "text": [
      "\r",
      "3it [15:42, 314.42s/it]"
     ]
    },
    {
     "name": "stdout",
     "output_type": "stream",
     "text": [
      "F1: 0.965 \n",
      "              precision    recall  f1-score   support\n",
      "\n",
      "  Historical       0.53      0.56      0.55        43\n",
      "Hypothetical       0.00      0.00      0.00         5\n",
      "      Recent       0.98      0.98      0.98      1222\n",
      "\n",
      "   micro avg       0.96      0.96      0.96      1270\n",
      "   macro avg       0.51      0.51      0.51      1270\n",
      "weighted avg       0.96      0.96      0.96      1270\n",
      "\n"
     ]
    },
    {
     "name": "stderr",
     "output_type": "stream",
     "text": [
      "Some weights of the model checkpoint at /media/koekiemonster/DATA-FAST/text_data/word_vectors_and_language_models/dutch/Medical/languagemodels/medroberta_journals_ARGUS_nvvc_IBD_RA were not used when initializing RobertaForTokenClassification: ['lm_head.bias', 'lm_head.layer_norm.bias', 'lm_head.dense.bias', 'lm_head.layer_norm.weight', 'lm_head.dense.weight']\n",
      "- This IS expected if you are initializing RobertaForTokenClassification from the checkpoint of a model trained on another task or with another architecture (e.g. initializing a BertForSequenceClassification model from a BertForPreTraining model).\n",
      "- This IS NOT expected if you are initializing RobertaForTokenClassification from the checkpoint of a model that you expect to be exactly identical (initializing a BertForSequenceClassification model from a BertForSequenceClassification model).\n",
      "Some weights of RobertaForTokenClassification were not initialized from the model checkpoint at /media/koekiemonster/DATA-FAST/text_data/word_vectors_and_language_models/dutch/Medical/languagemodels/medroberta_journals_ARGUS_nvvc_IBD_RA and are newly initialized: ['classifier.weight', 'classifier.bias']\n",
      "You should probably TRAIN this model on a down-stream task to be able to use it for predictions and inference.\n"
     ]
    },
    {
     "name": "stdout",
     "output_type": "stream",
     "text": [
      "RobertaConfig {\n",
      "  \"_name_or_path\": \"/media/koekiemonster/DATA-FAST/text_data/word_vectors_and_language_models/dutch/Medical/languagemodels/medroberta_journals_ARGUS_nvvc_IBD_RA\",\n",
      "  \"architectures\": [\n",
      "    \"RobertaForMaskedLM\"\n",
      "  ],\n",
      "  \"attention_probs_dropout_prob\": 0.1,\n",
      "  \"bos_token_id\": 0,\n",
      "  \"classifier_dropout\": null,\n",
      "  \"eos_token_id\": 2,\n",
      "  \"gradient_checkpointing\": false,\n",
      "  \"hidden_act\": \"gelu\",\n",
      "  \"hidden_dropout_prob\": 0.1,\n",
      "  \"hidden_size\": 768,\n",
      "  \"id2label\": {\n",
      "    \"0\": \"LABEL_0\",\n",
      "    \"1\": \"LABEL_1\",\n",
      "    \"2\": \"LABEL_2\",\n",
      "    \"3\": \"LABEL_3\",\n",
      "    \"4\": \"LABEL_4\",\n",
      "    \"5\": \"LABEL_5\"\n",
      "  },\n",
      "  \"initializer_range\": 0.02,\n",
      "  \"intermediate_size\": 3072,\n",
      "  \"label2id\": {\n",
      "    \"LABEL_0\": 0,\n",
      "    \"LABEL_1\": 1,\n",
      "    \"LABEL_2\": 2,\n",
      "    \"LABEL_3\": 3,\n",
      "    \"LABEL_4\": 4,\n",
      "    \"LABEL_5\": 5\n",
      "  },\n",
      "  \"layer_norm_eps\": 1e-12,\n",
      "  \"max_position_embeddings\": 514,\n",
      "  \"model_type\": \"roberta\",\n",
      "  \"num_attention_heads\": 12,\n",
      "  \"num_hidden_layers\": 12,\n",
      "  \"pad_token_id\": 1,\n",
      "  \"position_embedding_type\": \"absolute\",\n",
      "  \"torch_dtype\": \"float32\",\n",
      "  \"transformers_version\": \"4.11.3\",\n",
      "  \"type_vocab_size\": 1,\n",
      "  \"use_cache\": true,\n",
      "  \"vocab_size\": 52000\n",
      "}\n",
      "\n"
     ]
    },
    {
     "name": "stderr",
     "output_type": "stream",
     "text": [
      "Epoch 1: 100%|██████████| 353/353 [00:54<00:00,  6.43it/s]\n",
      "Epoch 2: 100%|██████████| 353/353 [00:55<00:00,  6.38it/s]\n",
      "Epoch 3: 100%|██████████| 353/353 [00:54<00:00,  6.46it/s]\n"
     ]
    },
    {
     "name": "stdout",
     "output_type": "stream",
     "text": [
      "Training finished, best model f = 0.000\n"
     ]
    },
    {
     "name": "stderr",
     "output_type": "stream",
     "text": [
      "\r",
      "4it [20:50, 311.92s/it]"
     ]
    },
    {
     "name": "stdout",
     "output_type": "stream",
     "text": [
      "F1: 0.959 \n",
      "              precision    recall  f1-score   support\n",
      "\n",
      "  Historical       0.66      0.49      0.56        63\n",
      "Hypothetical       0.67      0.67      0.67         3\n",
      "      Recent       0.97      0.99      0.98      1141\n",
      "\n",
      "   micro avg       0.96      0.96      0.96      1207\n",
      "   macro avg       0.77      0.71      0.74      1207\n",
      "weighted avg       0.95      0.96      0.96      1207\n",
      "\n"
     ]
    },
    {
     "name": "stderr",
     "output_type": "stream",
     "text": [
      "Some weights of the model checkpoint at /media/koekiemonster/DATA-FAST/text_data/word_vectors_and_language_models/dutch/Medical/languagemodels/medroberta_journals_ARGUS_nvvc_IBD_RA were not used when initializing RobertaForTokenClassification: ['lm_head.bias', 'lm_head.layer_norm.bias', 'lm_head.dense.bias', 'lm_head.layer_norm.weight', 'lm_head.dense.weight']\n",
      "- This IS expected if you are initializing RobertaForTokenClassification from the checkpoint of a model trained on another task or with another architecture (e.g. initializing a BertForSequenceClassification model from a BertForPreTraining model).\n",
      "- This IS NOT expected if you are initializing RobertaForTokenClassification from the checkpoint of a model that you expect to be exactly identical (initializing a BertForSequenceClassification model from a BertForSequenceClassification model).\n",
      "Some weights of RobertaForTokenClassification were not initialized from the model checkpoint at /media/koekiemonster/DATA-FAST/text_data/word_vectors_and_language_models/dutch/Medical/languagemodels/medroberta_journals_ARGUS_nvvc_IBD_RA and are newly initialized: ['classifier.weight', 'classifier.bias']\n",
      "You should probably TRAIN this model on a down-stream task to be able to use it for predictions and inference.\n"
     ]
    },
    {
     "name": "stdout",
     "output_type": "stream",
     "text": [
      "RobertaConfig {\n",
      "  \"_name_or_path\": \"/media/koekiemonster/DATA-FAST/text_data/word_vectors_and_language_models/dutch/Medical/languagemodels/medroberta_journals_ARGUS_nvvc_IBD_RA\",\n",
      "  \"architectures\": [\n",
      "    \"RobertaForMaskedLM\"\n",
      "  ],\n",
      "  \"attention_probs_dropout_prob\": 0.1,\n",
      "  \"bos_token_id\": 0,\n",
      "  \"classifier_dropout\": null,\n",
      "  \"eos_token_id\": 2,\n",
      "  \"gradient_checkpointing\": false,\n",
      "  \"hidden_act\": \"gelu\",\n",
      "  \"hidden_dropout_prob\": 0.1,\n",
      "  \"hidden_size\": 768,\n",
      "  \"id2label\": {\n",
      "    \"0\": \"LABEL_0\",\n",
      "    \"1\": \"LABEL_1\",\n",
      "    \"2\": \"LABEL_2\",\n",
      "    \"3\": \"LABEL_3\",\n",
      "    \"4\": \"LABEL_4\",\n",
      "    \"5\": \"LABEL_5\"\n",
      "  },\n",
      "  \"initializer_range\": 0.02,\n",
      "  \"intermediate_size\": 3072,\n",
      "  \"label2id\": {\n",
      "    \"LABEL_0\": 0,\n",
      "    \"LABEL_1\": 1,\n",
      "    \"LABEL_2\": 2,\n",
      "    \"LABEL_3\": 3,\n",
      "    \"LABEL_4\": 4,\n",
      "    \"LABEL_5\": 5\n",
      "  },\n",
      "  \"layer_norm_eps\": 1e-12,\n",
      "  \"max_position_embeddings\": 514,\n",
      "  \"model_type\": \"roberta\",\n",
      "  \"num_attention_heads\": 12,\n",
      "  \"num_hidden_layers\": 12,\n",
      "  \"pad_token_id\": 1,\n",
      "  \"position_embedding_type\": \"absolute\",\n",
      "  \"torch_dtype\": \"float32\",\n",
      "  \"transformers_version\": \"4.11.3\",\n",
      "  \"type_vocab_size\": 1,\n",
      "  \"use_cache\": true,\n",
      "  \"vocab_size\": 52000\n",
      "}\n",
      "\n"
     ]
    },
    {
     "name": "stderr",
     "output_type": "stream",
     "text": [
      "Epoch 1: 100%|██████████| 352/352 [00:54<00:00,  6.42it/s]\n",
      "Epoch 2: 100%|██████████| 352/352 [00:54<00:00,  6.42it/s]\n",
      "Epoch 3: 100%|██████████| 352/352 [00:54<00:00,  6.46it/s]\n"
     ]
    },
    {
     "name": "stdout",
     "output_type": "stream",
     "text": [
      "Training finished, best model f = 0.000\n"
     ]
    },
    {
     "name": "stderr",
     "output_type": "stream",
     "text": [
      "\r",
      "5it [25:56, 309.73s/it]"
     ]
    },
    {
     "name": "stdout",
     "output_type": "stream",
     "text": [
      "F1: 0.972 \n",
      "              precision    recall  f1-score   support\n",
      "\n",
      "  Historical       0.71      0.56      0.63        39\n",
      "Hypothetical       0.67      0.20      0.31        10\n",
      "      Recent       0.98      0.99      0.99      1186\n",
      "\n",
      "   micro avg       0.97      0.97      0.97      1235\n",
      "   macro avg       0.79      0.59      0.64      1235\n",
      "weighted avg       0.97      0.97      0.97      1235\n",
      "\n"
     ]
    },
    {
     "name": "stderr",
     "output_type": "stream",
     "text": [
      "Some weights of the model checkpoint at /media/koekiemonster/DATA-FAST/text_data/word_vectors_and_language_models/dutch/Medical/languagemodels/medroberta_journals_ARGUS_nvvc_IBD_RA were not used when initializing RobertaForTokenClassification: ['lm_head.bias', 'lm_head.layer_norm.bias', 'lm_head.dense.bias', 'lm_head.layer_norm.weight', 'lm_head.dense.weight']\n",
      "- This IS expected if you are initializing RobertaForTokenClassification from the checkpoint of a model trained on another task or with another architecture (e.g. initializing a BertForSequenceClassification model from a BertForPreTraining model).\n",
      "- This IS NOT expected if you are initializing RobertaForTokenClassification from the checkpoint of a model that you expect to be exactly identical (initializing a BertForSequenceClassification model from a BertForSequenceClassification model).\n",
      "Some weights of RobertaForTokenClassification were not initialized from the model checkpoint at /media/koekiemonster/DATA-FAST/text_data/word_vectors_and_language_models/dutch/Medical/languagemodels/medroberta_journals_ARGUS_nvvc_IBD_RA and are newly initialized: ['classifier.weight', 'classifier.bias']\n",
      "You should probably TRAIN this model on a down-stream task to be able to use it for predictions and inference.\n"
     ]
    },
    {
     "name": "stdout",
     "output_type": "stream",
     "text": [
      "RobertaConfig {\n",
      "  \"_name_or_path\": \"/media/koekiemonster/DATA-FAST/text_data/word_vectors_and_language_models/dutch/Medical/languagemodels/medroberta_journals_ARGUS_nvvc_IBD_RA\",\n",
      "  \"architectures\": [\n",
      "    \"RobertaForMaskedLM\"\n",
      "  ],\n",
      "  \"attention_probs_dropout_prob\": 0.1,\n",
      "  \"bos_token_id\": 0,\n",
      "  \"classifier_dropout\": null,\n",
      "  \"eos_token_id\": 2,\n",
      "  \"gradient_checkpointing\": false,\n",
      "  \"hidden_act\": \"gelu\",\n",
      "  \"hidden_dropout_prob\": 0.1,\n",
      "  \"hidden_size\": 768,\n",
      "  \"id2label\": {\n",
      "    \"0\": \"LABEL_0\",\n",
      "    \"1\": \"LABEL_1\",\n",
      "    \"2\": \"LABEL_2\",\n",
      "    \"3\": \"LABEL_3\",\n",
      "    \"4\": \"LABEL_4\",\n",
      "    \"5\": \"LABEL_5\"\n",
      "  },\n",
      "  \"initializer_range\": 0.02,\n",
      "  \"intermediate_size\": 3072,\n",
      "  \"label2id\": {\n",
      "    \"LABEL_0\": 0,\n",
      "    \"LABEL_1\": 1,\n",
      "    \"LABEL_2\": 2,\n",
      "    \"LABEL_3\": 3,\n",
      "    \"LABEL_4\": 4,\n",
      "    \"LABEL_5\": 5\n",
      "  },\n",
      "  \"layer_norm_eps\": 1e-12,\n",
      "  \"max_position_embeddings\": 514,\n",
      "  \"model_type\": \"roberta\",\n",
      "  \"num_attention_heads\": 12,\n",
      "  \"num_hidden_layers\": 12,\n",
      "  \"pad_token_id\": 1,\n",
      "  \"position_embedding_type\": \"absolute\",\n",
      "  \"torch_dtype\": \"float32\",\n",
      "  \"transformers_version\": \"4.11.3\",\n",
      "  \"type_vocab_size\": 1,\n",
      "  \"use_cache\": true,\n",
      "  \"vocab_size\": 52000\n",
      "}\n",
      "\n"
     ]
    },
    {
     "name": "stderr",
     "output_type": "stream",
     "text": [
      "Epoch 1: 100%|██████████| 351/351 [00:54<00:00,  6.46it/s]\n",
      "Epoch 2: 100%|██████████| 351/351 [00:54<00:00,  6.44it/s]\n",
      "Epoch 3: 100%|██████████| 351/351 [00:54<00:00,  6.41it/s]\n"
     ]
    },
    {
     "name": "stdout",
     "output_type": "stream",
     "text": [
      "Training finished, best model f = 0.000\n"
     ]
    },
    {
     "name": "stderr",
     "output_type": "stream",
     "text": [
      "\r",
      "6it [31:01, 308.10s/it]"
     ]
    },
    {
     "name": "stdout",
     "output_type": "stream",
     "text": [
      "F1: 0.953 \n",
      "              precision    recall  f1-score   support\n",
      "\n",
      "  Historical       0.80      0.61      0.69        71\n",
      "Hypothetical       0.00      0.00      0.00        19\n",
      "      Recent       0.96      0.99      0.98      1173\n",
      "\n",
      "   micro avg       0.95      0.95      0.95      1263\n",
      "   macro avg       0.59      0.53      0.55      1263\n",
      "weighted avg       0.94      0.95      0.94      1263\n",
      "\n"
     ]
    },
    {
     "name": "stderr",
     "output_type": "stream",
     "text": [
      "Some weights of the model checkpoint at /media/koekiemonster/DATA-FAST/text_data/word_vectors_and_language_models/dutch/Medical/languagemodels/medroberta_journals_ARGUS_nvvc_IBD_RA were not used when initializing RobertaForTokenClassification: ['lm_head.bias', 'lm_head.layer_norm.bias', 'lm_head.dense.bias', 'lm_head.layer_norm.weight', 'lm_head.dense.weight']\n",
      "- This IS expected if you are initializing RobertaForTokenClassification from the checkpoint of a model trained on another task or with another architecture (e.g. initializing a BertForSequenceClassification model from a BertForPreTraining model).\n",
      "- This IS NOT expected if you are initializing RobertaForTokenClassification from the checkpoint of a model that you expect to be exactly identical (initializing a BertForSequenceClassification model from a BertForSequenceClassification model).\n",
      "Some weights of RobertaForTokenClassification were not initialized from the model checkpoint at /media/koekiemonster/DATA-FAST/text_data/word_vectors_and_language_models/dutch/Medical/languagemodels/medroberta_journals_ARGUS_nvvc_IBD_RA and are newly initialized: ['classifier.weight', 'classifier.bias']\n",
      "You should probably TRAIN this model on a down-stream task to be able to use it for predictions and inference.\n"
     ]
    },
    {
     "name": "stdout",
     "output_type": "stream",
     "text": [
      "RobertaConfig {\n",
      "  \"_name_or_path\": \"/media/koekiemonster/DATA-FAST/text_data/word_vectors_and_language_models/dutch/Medical/languagemodels/medroberta_journals_ARGUS_nvvc_IBD_RA\",\n",
      "  \"architectures\": [\n",
      "    \"RobertaForMaskedLM\"\n",
      "  ],\n",
      "  \"attention_probs_dropout_prob\": 0.1,\n",
      "  \"bos_token_id\": 0,\n",
      "  \"classifier_dropout\": null,\n",
      "  \"eos_token_id\": 2,\n",
      "  \"gradient_checkpointing\": false,\n",
      "  \"hidden_act\": \"gelu\",\n",
      "  \"hidden_dropout_prob\": 0.1,\n",
      "  \"hidden_size\": 768,\n",
      "  \"id2label\": {\n",
      "    \"0\": \"LABEL_0\",\n",
      "    \"1\": \"LABEL_1\",\n",
      "    \"2\": \"LABEL_2\",\n",
      "    \"3\": \"LABEL_3\",\n",
      "    \"4\": \"LABEL_4\",\n",
      "    \"5\": \"LABEL_5\"\n",
      "  },\n",
      "  \"initializer_range\": 0.02,\n",
      "  \"intermediate_size\": 3072,\n",
      "  \"label2id\": {\n",
      "    \"LABEL_0\": 0,\n",
      "    \"LABEL_1\": 1,\n",
      "    \"LABEL_2\": 2,\n",
      "    \"LABEL_3\": 3,\n",
      "    \"LABEL_4\": 4,\n",
      "    \"LABEL_5\": 5\n",
      "  },\n",
      "  \"layer_norm_eps\": 1e-12,\n",
      "  \"max_position_embeddings\": 514,\n",
      "  \"model_type\": \"roberta\",\n",
      "  \"num_attention_heads\": 12,\n",
      "  \"num_hidden_layers\": 12,\n",
      "  \"pad_token_id\": 1,\n",
      "  \"position_embedding_type\": \"absolute\",\n",
      "  \"torch_dtype\": \"float32\",\n",
      "  \"transformers_version\": \"4.11.3\",\n",
      "  \"type_vocab_size\": 1,\n",
      "  \"use_cache\": true,\n",
      "  \"vocab_size\": 52000\n",
      "}\n",
      "\n"
     ]
    },
    {
     "name": "stderr",
     "output_type": "stream",
     "text": [
      "Epoch 1: 100%|██████████| 352/352 [00:54<00:00,  6.46it/s]\n",
      "Epoch 2: 100%|██████████| 352/352 [00:54<00:00,  6.41it/s]\n",
      "Epoch 3: 100%|██████████| 352/352 [00:54<00:00,  6.43it/s]\n"
     ]
    },
    {
     "name": "stdout",
     "output_type": "stream",
     "text": [
      "Training finished, best model f = 0.000\n"
     ]
    },
    {
     "name": "stderr",
     "output_type": "stream",
     "text": [
      "\r",
      "7it [36:07, 307.43s/it]"
     ]
    },
    {
     "name": "stdout",
     "output_type": "stream",
     "text": [
      "F1: 0.962 \n",
      "              precision    recall  f1-score   support\n",
      "\n",
      "  Historical       0.83      0.47      0.60        51\n",
      "Hypothetical       0.60      0.19      0.29        16\n",
      "      Recent       0.97      0.99      0.98      1181\n",
      "\n",
      "   micro avg       0.96      0.96      0.96      1248\n",
      "   macro avg       0.80      0.55      0.62      1248\n",
      "weighted avg       0.96      0.96      0.96      1248\n",
      "\n"
     ]
    },
    {
     "name": "stderr",
     "output_type": "stream",
     "text": [
      "Some weights of the model checkpoint at /media/koekiemonster/DATA-FAST/text_data/word_vectors_and_language_models/dutch/Medical/languagemodels/medroberta_journals_ARGUS_nvvc_IBD_RA were not used when initializing RobertaForTokenClassification: ['lm_head.bias', 'lm_head.layer_norm.bias', 'lm_head.dense.bias', 'lm_head.layer_norm.weight', 'lm_head.dense.weight']\n",
      "- This IS expected if you are initializing RobertaForTokenClassification from the checkpoint of a model trained on another task or with another architecture (e.g. initializing a BertForSequenceClassification model from a BertForPreTraining model).\n",
      "- This IS NOT expected if you are initializing RobertaForTokenClassification from the checkpoint of a model that you expect to be exactly identical (initializing a BertForSequenceClassification model from a BertForSequenceClassification model).\n",
      "Some weights of RobertaForTokenClassification were not initialized from the model checkpoint at /media/koekiemonster/DATA-FAST/text_data/word_vectors_and_language_models/dutch/Medical/languagemodels/medroberta_journals_ARGUS_nvvc_IBD_RA and are newly initialized: ['classifier.weight', 'classifier.bias']\n",
      "You should probably TRAIN this model on a down-stream task to be able to use it for predictions and inference.\n"
     ]
    },
    {
     "name": "stdout",
     "output_type": "stream",
     "text": [
      "RobertaConfig {\n",
      "  \"_name_or_path\": \"/media/koekiemonster/DATA-FAST/text_data/word_vectors_and_language_models/dutch/Medical/languagemodels/medroberta_journals_ARGUS_nvvc_IBD_RA\",\n",
      "  \"architectures\": [\n",
      "    \"RobertaForMaskedLM\"\n",
      "  ],\n",
      "  \"attention_probs_dropout_prob\": 0.1,\n",
      "  \"bos_token_id\": 0,\n",
      "  \"classifier_dropout\": null,\n",
      "  \"eos_token_id\": 2,\n",
      "  \"gradient_checkpointing\": false,\n",
      "  \"hidden_act\": \"gelu\",\n",
      "  \"hidden_dropout_prob\": 0.1,\n",
      "  \"hidden_size\": 768,\n",
      "  \"id2label\": {\n",
      "    \"0\": \"LABEL_0\",\n",
      "    \"1\": \"LABEL_1\",\n",
      "    \"2\": \"LABEL_2\",\n",
      "    \"3\": \"LABEL_3\",\n",
      "    \"4\": \"LABEL_4\",\n",
      "    \"5\": \"LABEL_5\"\n",
      "  },\n",
      "  \"initializer_range\": 0.02,\n",
      "  \"intermediate_size\": 3072,\n",
      "  \"label2id\": {\n",
      "    \"LABEL_0\": 0,\n",
      "    \"LABEL_1\": 1,\n",
      "    \"LABEL_2\": 2,\n",
      "    \"LABEL_3\": 3,\n",
      "    \"LABEL_4\": 4,\n",
      "    \"LABEL_5\": 5\n",
      "  },\n",
      "  \"layer_norm_eps\": 1e-12,\n",
      "  \"max_position_embeddings\": 514,\n",
      "  \"model_type\": \"roberta\",\n",
      "  \"num_attention_heads\": 12,\n",
      "  \"num_hidden_layers\": 12,\n",
      "  \"pad_token_id\": 1,\n",
      "  \"position_embedding_type\": \"absolute\",\n",
      "  \"torch_dtype\": \"float32\",\n",
      "  \"transformers_version\": \"4.11.3\",\n",
      "  \"type_vocab_size\": 1,\n",
      "  \"use_cache\": true,\n",
      "  \"vocab_size\": 52000\n",
      "}\n",
      "\n"
     ]
    },
    {
     "name": "stderr",
     "output_type": "stream",
     "text": [
      "Epoch 1: 100%|██████████| 352/352 [00:54<00:00,  6.41it/s]\n",
      "Epoch 2: 100%|██████████| 352/352 [00:55<00:00,  6.39it/s]\n",
      "Epoch 3: 100%|██████████| 352/352 [00:54<00:00,  6.47it/s]\n"
     ]
    },
    {
     "name": "stdout",
     "output_type": "stream",
     "text": [
      "Training finished, best model f = 0.000\n"
     ]
    },
    {
     "name": "stderr",
     "output_type": "stream",
     "text": [
      "/media/koekiemonster/home/bramiozo/VIRTUALENVS/nlp/lib/python3.8/site-packages/seqeval/metrics/v1.py:57: UndefinedMetricWarning: Precision and F-score are ill-defined and being set to 0.0 in labels with no predicted samples. Use `zero_division` parameter to control this behavior.\n",
      "  _warn_prf(average, modifier, msg_start, len(result))\n",
      "\r",
      "8it [41:13, 307.09s/it]"
     ]
    },
    {
     "name": "stdout",
     "output_type": "stream",
     "text": [
      "F1: 0.957 \n",
      "              precision    recall  f1-score   support\n",
      "\n",
      "  Historical       0.63      0.56      0.60        55\n",
      "Hypothetical       0.00      0.00      0.00        12\n",
      "      Recent       0.97      0.99      0.98      1180\n",
      "\n",
      "   micro avg       0.96      0.96      0.96      1247\n",
      "   macro avg       0.53      0.52      0.52      1247\n",
      "weighted avg       0.95      0.96      0.95      1247\n",
      "\n"
     ]
    },
    {
     "name": "stderr",
     "output_type": "stream",
     "text": [
      "Some weights of the model checkpoint at /media/koekiemonster/DATA-FAST/text_data/word_vectors_and_language_models/dutch/Medical/languagemodels/medroberta_journals_ARGUS_nvvc_IBD_RA were not used when initializing RobertaForTokenClassification: ['lm_head.bias', 'lm_head.layer_norm.bias', 'lm_head.dense.bias', 'lm_head.layer_norm.weight', 'lm_head.dense.weight']\n",
      "- This IS expected if you are initializing RobertaForTokenClassification from the checkpoint of a model trained on another task or with another architecture (e.g. initializing a BertForSequenceClassification model from a BertForPreTraining model).\n",
      "- This IS NOT expected if you are initializing RobertaForTokenClassification from the checkpoint of a model that you expect to be exactly identical (initializing a BertForSequenceClassification model from a BertForSequenceClassification model).\n",
      "Some weights of RobertaForTokenClassification were not initialized from the model checkpoint at /media/koekiemonster/DATA-FAST/text_data/word_vectors_and_language_models/dutch/Medical/languagemodels/medroberta_journals_ARGUS_nvvc_IBD_RA and are newly initialized: ['classifier.weight', 'classifier.bias']\n",
      "You should probably TRAIN this model on a down-stream task to be able to use it for predictions and inference.\n"
     ]
    },
    {
     "name": "stdout",
     "output_type": "stream",
     "text": [
      "RobertaConfig {\n",
      "  \"_name_or_path\": \"/media/koekiemonster/DATA-FAST/text_data/word_vectors_and_language_models/dutch/Medical/languagemodels/medroberta_journals_ARGUS_nvvc_IBD_RA\",\n",
      "  \"architectures\": [\n",
      "    \"RobertaForMaskedLM\"\n",
      "  ],\n",
      "  \"attention_probs_dropout_prob\": 0.1,\n",
      "  \"bos_token_id\": 0,\n",
      "  \"classifier_dropout\": null,\n",
      "  \"eos_token_id\": 2,\n",
      "  \"gradient_checkpointing\": false,\n",
      "  \"hidden_act\": \"gelu\",\n",
      "  \"hidden_dropout_prob\": 0.1,\n",
      "  \"hidden_size\": 768,\n",
      "  \"id2label\": {\n",
      "    \"0\": \"LABEL_0\",\n",
      "    \"1\": \"LABEL_1\",\n",
      "    \"2\": \"LABEL_2\",\n",
      "    \"3\": \"LABEL_3\",\n",
      "    \"4\": \"LABEL_4\",\n",
      "    \"5\": \"LABEL_5\"\n",
      "  },\n",
      "  \"initializer_range\": 0.02,\n",
      "  \"intermediate_size\": 3072,\n",
      "  \"label2id\": {\n",
      "    \"LABEL_0\": 0,\n",
      "    \"LABEL_1\": 1,\n",
      "    \"LABEL_2\": 2,\n",
      "    \"LABEL_3\": 3,\n",
      "    \"LABEL_4\": 4,\n",
      "    \"LABEL_5\": 5\n",
      "  },\n",
      "  \"layer_norm_eps\": 1e-12,\n",
      "  \"max_position_embeddings\": 514,\n",
      "  \"model_type\": \"roberta\",\n",
      "  \"num_attention_heads\": 12,\n",
      "  \"num_hidden_layers\": 12,\n",
      "  \"pad_token_id\": 1,\n",
      "  \"position_embedding_type\": \"absolute\",\n",
      "  \"torch_dtype\": \"float32\",\n",
      "  \"transformers_version\": \"4.11.3\",\n",
      "  \"type_vocab_size\": 1,\n",
      "  \"use_cache\": true,\n",
      "  \"vocab_size\": 52000\n",
      "}\n",
      "\n"
     ]
    },
    {
     "name": "stderr",
     "output_type": "stream",
     "text": [
      "Epoch 1: 100%|██████████| 351/351 [00:54<00:00,  6.46it/s]\n",
      "Epoch 2: 100%|██████████| 351/351 [00:54<00:00,  6.39it/s]\n",
      "Epoch 3: 100%|██████████| 351/351 [00:54<00:00,  6.46it/s]\n"
     ]
    },
    {
     "name": "stdout",
     "output_type": "stream",
     "text": [
      "Training finished, best model f = 0.000\n"
     ]
    },
    {
     "name": "stderr",
     "output_type": "stream",
     "text": [
      "\r",
      "9it [46:19, 306.58s/it]"
     ]
    },
    {
     "name": "stdout",
     "output_type": "stream",
     "text": [
      "F1: 0.961 \n",
      "              precision    recall  f1-score   support\n",
      "\n",
      "  Historical       0.70      0.65      0.67        60\n",
      "Hypothetical       0.67      0.15      0.25        13\n",
      "      Recent       0.97      0.98      0.98      1196\n",
      "\n",
      "   micro avg       0.96      0.96      0.96      1269\n",
      "   macro avg       0.78      0.60      0.63      1269\n",
      "weighted avg       0.96      0.96      0.96      1269\n",
      "\n"
     ]
    },
    {
     "name": "stderr",
     "output_type": "stream",
     "text": [
      "Some weights of the model checkpoint at /media/koekiemonster/DATA-FAST/text_data/word_vectors_and_language_models/dutch/Medical/languagemodels/medroberta_journals_ARGUS_nvvc_IBD_RA were not used when initializing RobertaForTokenClassification: ['lm_head.bias', 'lm_head.layer_norm.bias', 'lm_head.dense.bias', 'lm_head.layer_norm.weight', 'lm_head.dense.weight']\n",
      "- This IS expected if you are initializing RobertaForTokenClassification from the checkpoint of a model trained on another task or with another architecture (e.g. initializing a BertForSequenceClassification model from a BertForPreTraining model).\n",
      "- This IS NOT expected if you are initializing RobertaForTokenClassification from the checkpoint of a model that you expect to be exactly identical (initializing a BertForSequenceClassification model from a BertForSequenceClassification model).\n",
      "Some weights of RobertaForTokenClassification were not initialized from the model checkpoint at /media/koekiemonster/DATA-FAST/text_data/word_vectors_and_language_models/dutch/Medical/languagemodels/medroberta_journals_ARGUS_nvvc_IBD_RA and are newly initialized: ['classifier.weight', 'classifier.bias']\n",
      "You should probably TRAIN this model on a down-stream task to be able to use it for predictions and inference.\n"
     ]
    },
    {
     "name": "stdout",
     "output_type": "stream",
     "text": [
      "RobertaConfig {\n",
      "  \"_name_or_path\": \"/media/koekiemonster/DATA-FAST/text_data/word_vectors_and_language_models/dutch/Medical/languagemodels/medroberta_journals_ARGUS_nvvc_IBD_RA\",\n",
      "  \"architectures\": [\n",
      "    \"RobertaForMaskedLM\"\n",
      "  ],\n",
      "  \"attention_probs_dropout_prob\": 0.1,\n",
      "  \"bos_token_id\": 0,\n",
      "  \"classifier_dropout\": null,\n",
      "  \"eos_token_id\": 2,\n",
      "  \"gradient_checkpointing\": false,\n",
      "  \"hidden_act\": \"gelu\",\n",
      "  \"hidden_dropout_prob\": 0.1,\n",
      "  \"hidden_size\": 768,\n",
      "  \"id2label\": {\n",
      "    \"0\": \"LABEL_0\",\n",
      "    \"1\": \"LABEL_1\",\n",
      "    \"2\": \"LABEL_2\",\n",
      "    \"3\": \"LABEL_3\",\n",
      "    \"4\": \"LABEL_4\",\n",
      "    \"5\": \"LABEL_5\"\n",
      "  },\n",
      "  \"initializer_range\": 0.02,\n",
      "  \"intermediate_size\": 3072,\n",
      "  \"label2id\": {\n",
      "    \"LABEL_0\": 0,\n",
      "    \"LABEL_1\": 1,\n",
      "    \"LABEL_2\": 2,\n",
      "    \"LABEL_3\": 3,\n",
      "    \"LABEL_4\": 4,\n",
      "    \"LABEL_5\": 5\n",
      "  },\n",
      "  \"layer_norm_eps\": 1e-12,\n",
      "  \"max_position_embeddings\": 514,\n",
      "  \"model_type\": \"roberta\",\n",
      "  \"num_attention_heads\": 12,\n",
      "  \"num_hidden_layers\": 12,\n",
      "  \"pad_token_id\": 1,\n",
      "  \"position_embedding_type\": \"absolute\",\n",
      "  \"torch_dtype\": \"float32\",\n",
      "  \"transformers_version\": \"4.11.3\",\n",
      "  \"type_vocab_size\": 1,\n",
      "  \"use_cache\": true,\n",
      "  \"vocab_size\": 52000\n",
      "}\n",
      "\n"
     ]
    },
    {
     "name": "stderr",
     "output_type": "stream",
     "text": [
      "Epoch 1: 100%|██████████| 352/352 [00:54<00:00,  6.44it/s]\n",
      "Epoch 2: 100%|██████████| 352/352 [00:54<00:00,  6.42it/s]\n",
      "Epoch 3: 100%|██████████| 352/352 [00:54<00:00,  6.42it/s]\n"
     ]
    },
    {
     "name": "stdout",
     "output_type": "stream",
     "text": [
      "Training finished, best model f = 0.000\n"
     ]
    },
    {
     "name": "stderr",
     "output_type": "stream",
     "text": [
      "10it [51:25, 308.55s/it]"
     ]
    },
    {
     "name": "stdout",
     "output_type": "stream",
     "text": [
      "F1: 0.965 \n",
      "              precision    recall  f1-score   support\n",
      "\n",
      "  Historical       0.72      0.44      0.55        48\n",
      "Hypothetical       0.33      0.33      0.33         6\n",
      "      Recent       0.97      0.99      0.98      1184\n",
      "\n",
      "   micro avg       0.97      0.97      0.97      1238\n",
      "   macro avg       0.68      0.59      0.62      1238\n",
      "weighted avg       0.96      0.97      0.96      1238\n",
      "\n"
     ]
    },
    {
     "name": "stderr",
     "output_type": "stream",
     "text": [
      "\n"
     ]
    }
   ],
   "source": [
    "# cycle through folds\n",
    "scores = []\n",
    "predlist = []\n",
    "test_lists = []\n",
    "loss_history = {}\n",
    "for idx, fold in tqdm(enumerate(splits)):\n",
    "    # re-init model for each fold, otherwise it keeps on training the same throughout all folds..\n",
    "    token_model = AutoModelForTokenClassification.from_pretrained(args.model_path, \n",
    "                                                                  num_labels = len(tag2id))\n",
    "    \n",
    "    if zero_shot:\n",
    "        for name, param in token_model.named_parameters():\n",
    "            if 'classifier' not in name: # classifier layer\n",
    "                param.requires_grad = False\n",
    "\n",
    "    train_list, test_list = fold['train'], list(set(fold['test']))\n",
    "    \n",
    "    ## eval is optional (to gauge the best number of steps/epochs)\n",
    "    eval_list = random.choices(train_list,k=int(len(train_list)/10)) if args.do_eval else []\n",
    "    \n",
    "    eval_dcc = dcc.loc[dcc.Id.str.slice(0,6).isin(eval_list)]\n",
    "    test_dcc = dcc.loc[dcc.Id.str.slice(0,6).isin(test_list)]\n",
    "\n",
    "    if centered_testing:                \n",
    "        '''Note\n",
    "                We do this to ensure that we only validate on the centered terms.\n",
    "        '''\n",
    "        eval_dcc.loc[eval_dcc.center==False, ['BIO', 'Negation', 'Experiencer', 'Temporality']] = 'O'\n",
    "        test_dcc.loc[test_dcc.center==False, ['BIO', 'Negation', 'Experiencer', 'Temporality']] = 'O'\n",
    "\n",
    "    \n",
    "    train_dcc = dcc.loc[(dcc.Id.str.slice(0,6).isin(train_list)) & (~dcc.Id.isin(eval_list))]\n",
    "    \n",
    "    test_list = test_dcc.Id.tolist()\n",
    "    eval_list = eval_dcc.Id.tolist()\n",
    "\n",
    "    ###\n",
    "    train_dataset = trainer.TextDatasetFromDataFrame(train_dcc, tokenizer, args) \n",
    "    test_dataset = trainer.TextDatasetFromDataFrame(test_dcc, tokenizer, args)\n",
    "    eval_dataset = trainer.TextDatasetFromDataFrame(eval_dcc, tokenizer, args)\n",
    "    \n",
    "    args.do_print_class_report=False\n",
    "    # Train on all document sources\n",
    "    trained_model, eval_loss_history = trainer.train_model(model=token_model.to(device), \n",
    "                                                            tokenizer=tokenizer, \n",
    "                                                            train_dataset=train_dataset, \n",
    "                                                            eval_dataset=eval_dataset, \n",
    "                                                            tag2id=tag2id,\n",
    "                                                            device=device, \n",
    "                                                            args=args,\n",
    "                                                            max_grad_norm=1.0,\n",
    "                                                            amp=False)\n",
    "    args.do_print_class_report=True\n",
    "    # Evaluate on all document sources\n",
    "    f1, prec, rec, preds, truth, test_ids = trainer.eval_model(model=trained_model, \n",
    "                                       tokenizer=tokenizer, \n",
    "                                       eval_dataset=test_dataset, \n",
    "                                       tag2id=tag2id, \n",
    "                                       device=device, \n",
    "                                       args=args, \n",
    "                                       return_pred=True)\n",
    "    \n",
    "    loss_history[idx]=eval_loss_history\n",
    "    \n",
    "    #test_ids = [\"_\".join(t) for t in zip(test_dcc.Id, test_dcc.Begin, test_dcc.End)]\n",
    "    scores.append({'fold': idx, 'f1': f1, 'precision': prec, 'recall': rec})\n",
    "    predlist.append({'fold': idx, 'prediction': preds, 'truth': truth, 'ids': test_ids})\n",
    "    test_lists.append(test_ids)\n",
    "\n",
    "if  train_on_all:\n",
    "    args.save_model=True\n",
    "    dataset = trainer.TextDatasetFromDataFrame(dcc, tokenizer, args)    \n",
    "    token_model = AutoModelForTokenClassification.from_pretrained(args.model_path, \n",
    "                                                                  num_labels = len(tag2id))\n",
    "    final_model, eval_loss_history = trainer.train_model(model=token_model.to(device), \n",
    "                                                            tokenizer=tokenizer, \n",
    "                                                            train_dataset=dataset, \n",
    "                                                            eval_dataset=None, \n",
    "                                                            tag2id=tag2id,\n",
    "                                                            device=device, \n",
    "                                                            args=args,\n",
    "                                                            max_grad_norm=1.0,\n",
    "                                                            amp=False)    \n",
    "    "
   ]
  },
  {
   "cell_type": "code",
   "execution_count": 21,
   "id": "497ad477",
   "metadata": {},
   "outputs": [],
   "source": [
    "predlist_prep = []\n",
    "robbert_col_name = mod_name\n",
    "\n",
    "for foldnum, foldres in enumerate(predlist):\n",
    "    ids = foldres['ids']\n",
    "    for prs, trs, ids in zip(foldres['prediction'], foldres['truth'], foldres['ids']):\n",
    "        for pr, tr, _id in zip(prs, trs, ids):\n",
    "            tmp_dict={}\n",
    "            if len(pr)==len(tr)==0:\n",
    "                tmp_dict['fold'] = foldnum\n",
    "                tmp_dict['entity_id'] = _id\n",
    "                tmp_dict['label'] = \"n/a\"\n",
    "                tmp_dict[robbert_col_name] = \"n/a\"\n",
    "            elif len(pr)>0:\n",
    "                tmp_dict['fold'] = foldnum\n",
    "                tmp_dict['entity_id'] = _id\n",
    "                tmp_dict['label'] = tr\n",
    "                tmp_dict[robbert_col_name] = pr                \n",
    "            else:\n",
    "                raise ValueError(\"predictions are empty while truth is not\")    \n",
    "            predlist_prep.append(tmp_dict)\n",
    "predlist_df = pd.DataFrame(predlist_prep)\n",
    "predlist_df['bio_label'] = predlist_df['label'].str.replace(r\"([BI])\\-[A-z]+\", \"\\\\1\", \n",
    "                                                        regex=True, case=True).str.strip()\n",
    "predlist_df['bio_robbert'] = predlist_df[robbert_col_name].str.replace(r\"([BI])\\-[A-z]+\", \"\\\\1\", \n",
    "                                                        regex=True, case=True).str.strip()\n",
    "\n",
    "bio_pred = predlist_df[['entity_id', 'bio_label', 'bio_robbert']]\n",
    "predlist_df = predlist_df.loc[predlist_df.bio_label.isin(['B', 'I'])]\n",
    "predlist_df.drop(['bio_label', 'bio_robbert', 'fold'], axis=1, inplace=True)\n",
    "\n",
    "neg_map = {'B-NotNegated': 'not negated', 'B-Negated': 'negated', \n",
    "           'I-NotNegated': 'not negated', 'I-Negated': 'negated'}\n",
    "temp_map = {'B-Recent': 'recent', 'B-Hypothetical': 'hypothetical', 'B-Historical': 'historical',\n",
    "            'I-Recent': 'recent', 'I-Hypothetical': 'hypothetical', 'I-Historical': 'historical'}\n",
    "exp_map  = {'B-Patient': 'patient', 'B-Other': 'other',\n",
    "            'I-Patient': 'patient', 'I-Other': 'other'}\n",
    "\n",
    "if args.task == 'negation':\n",
    "    lab_map = neg_map\n",
    "elif args.task == 'temporality':\n",
    "    lab_map = temp_map\n",
    "elif args.experiencer == 'experiencer':\n",
    "    lab_map = exp_map\n",
    "    \n",
    "predlist_df['label'] = predlist_df.label.map(lab_map)\n",
    "predlist_df[robbert_col_name] = predlist_df[robbert_col_name].map(lab_map)"
   ]
  },
  {
   "cell_type": "code",
   "execution_count": 22,
   "id": "415cc9c4",
   "metadata": {},
   "outputs": [],
   "source": [
    "# we have multiple entries for each token\n",
    "# ideally we pick only the token that was centered\n",
    "tmp = predlist_df.copy()\n",
    "tmp.loc[:, 'sub_id'] = tmp.entity_id.str.split(\"_\").apply(lambda x: x[1])\n",
    "tmp.loc[:, 'entity_id'] = tmp.entity_id.str.split(\"_\").apply(lambda x: \"_\".join([x[0],x[2],x[3]]))\n",
    "tmp.drop_duplicates(subset=['entity_id', 'label'], keep='first', inplace=True)\n",
    "predlist_df = tmp"
   ]
  },
  {
   "cell_type": "code",
   "execution_count": 23,
   "id": "c11da3fd",
   "metadata": {},
   "outputs": [],
   "source": [
    "if args.do_eval:\n",
    "    dfl = []\n",
    "    for i in range(2):\n",
    "        df = pd.DataFrame(loss_history[i])\n",
    "        df['fold']=i\n",
    "        dfl.append(df)\n",
    "    eval_history = pd.concat(dfl).reset_index()\n",
    "    eval_history['step'] = eval_history['step'].astype(int)\n",
    "    eval_history['fold'] = eval_history['fold'].astype(int)\n",
    "\n",
    "    fig, ax = plt.subplots(ncols=3, figsize=(18,5))\n",
    "    seaborn.lineplot(data=eval_history, x='step', y='f1', hue='fold', ax=ax[0])\n",
    "    seaborn.lineplot(data=eval_history, x='step', y='recall', hue='fold', ax=ax[1])\n",
    "    seaborn.lineplot(data=eval_history, x='step', y='precision', hue='fold', ax=ax[2])"
   ]
  },
  {
   "cell_type": "code",
   "execution_count": 24,
   "id": "4c932ecf",
   "metadata": {},
   "outputs": [],
   "source": [
    "from sklearn.metrics import f1_score, precision_score, recall_score"
   ]
  },
  {
   "cell_type": "markdown",
   "id": "ad3fbf5f",
   "metadata": {},
   "source": [
    "## Append to other results "
   ]
  },
  {
   "cell_type": "code",
   "execution_count": 25,
   "id": "0608975e",
   "metadata": {},
   "outputs": [],
   "source": [
    "merged_result_file = '../results/merged_results.csv.gz'\n",
    "results = pd.read_csv(merged_result_file)"
   ]
  },
  {
   "cell_type": "code",
   "execution_count": 26,
   "id": "2016b054",
   "metadata": {},
   "outputs": [
    {
     "name": "stderr",
     "output_type": "stream",
     "text": [
      "<ipython-input-26-0684ab97392f>:1: FutureWarning: The default value of regex will change from True to False in a future version.\n",
      "  entities = results.entity_id.str.replace(r\"\\_[0-9]+\\_[0-9]+\", \"\").unique()\n"
     ]
    },
    {
     "data": {
      "text/plain": [
       "5365"
      ]
     },
     "execution_count": 26,
     "metadata": {},
     "output_type": "execute_result"
    }
   ],
   "source": [
    "entities = results.entity_id.str.replace(r\"\\_[0-9]+\\_[0-9]+\", \"\").unique()\n",
    "len(entities)"
   ]
  },
  {
   "cell_type": "code",
   "execution_count": 27,
   "id": "cc788923",
   "metadata": {},
   "outputs": [
    {
     "data": {
      "text/plain": [
       "True"
      ]
     },
     "execution_count": 27,
     "metadata": {},
     "output_type": "execute_result"
    }
   ],
   "source": [
    "sanity_check = predlist_df[['entity_id', 'label']].set_index('entity_id').join(results[['entity_id', 'label']].set_index('entity_id'),\n",
    "                                                                how='inner',rsuffix='_or')\n",
    "\n",
    "(sanity_check['label'] == sanity_check['label_or']).sum()==sanity_check.shape[0]"
   ]
  },
  {
   "cell_type": "code",
   "execution_count": 28,
   "id": "7b0b4e9b",
   "metadata": {},
   "outputs": [],
   "source": [
    "predlist_df.set_index('entity_id', inplace=True)\n",
    "results.set_index('entity_id', inplace=True)"
   ]
  },
  {
   "cell_type": "code",
   "execution_count": 29,
   "id": "17d90bc0",
   "metadata": {},
   "outputs": [],
   "source": [
    "total_results = results.drop(robbert_col_name, axis=1, errors='ignore').join(predlist_df[[robbert_col_name]], how='left')"
   ]
  },
  {
   "cell_type": "code",
   "execution_count": 30,
   "id": "ff27d355",
   "metadata": {},
   "outputs": [
    {
     "data": {
      "text/html": [
       "<div>\n",
       "<style scoped>\n",
       "    .dataframe tbody tr th:only-of-type {\n",
       "        vertical-align: middle;\n",
       "    }\n",
       "\n",
       "    .dataframe tbody tr th {\n",
       "        vertical-align: top;\n",
       "    }\n",
       "\n",
       "    .dataframe thead th {\n",
       "        text-align: right;\n",
       "    }\n",
       "</style>\n",
       "<table border=\"1\" class=\"dataframe\">\n",
       "  <thead>\n",
       "    <tr style=\"text-align: right;\">\n",
       "      <th></th>\n",
       "      <th>category</th>\n",
       "      <th>label</th>\n",
       "      <th>bilstm</th>\n",
       "      <th>bilstm_cv</th>\n",
       "      <th>rule_based</th>\n",
       "      <th>robbert_v2_dutch_base_2_64_512</th>\n",
       "      <th>robbert_v2_dutch_base_3_64_512</th>\n",
       "      <th>robbert_v2_dutch_base_3_32_512</th>\n",
       "      <th>robbert_v2_dutch_base_3_32_32</th>\n",
       "      <th>robbert_v2_dutch_base_3_32_64</th>\n",
       "      <th>MedRoBERTa_2_64_512</th>\n",
       "      <th>MedRoBERTa_3_64_512</th>\n",
       "      <th>MedRoBERTa_3_32_512</th>\n",
       "      <th>robbert_v2_dutch_base_DAPT_2_64_512</th>\n",
       "      <th>robbert_v2_dutch_base_DAPT_3_64_512</th>\n",
       "      <th>robbert_v2_dutch_base_DAPT_3_32_512</th>\n",
       "      <th>robbert_v2_dutch_base_10_128_512_zeroShot</th>\n",
       "      <th>robbert_v2_dutch_base_DAPT_10_128_512_zeroShot</th>\n",
       "      <th>MedRoBERTa_10_128_512_zeroShot</th>\n",
       "      <th>robbert_v2_dutch_base_3_32_32__centeredVal</th>\n",
       "    </tr>\n",
       "    <tr>\n",
       "      <th>entity_id</th>\n",
       "      <th></th>\n",
       "      <th></th>\n",
       "      <th></th>\n",
       "      <th></th>\n",
       "      <th></th>\n",
       "      <th></th>\n",
       "      <th></th>\n",
       "      <th></th>\n",
       "      <th></th>\n",
       "      <th></th>\n",
       "      <th></th>\n",
       "      <th></th>\n",
       "      <th></th>\n",
       "      <th></th>\n",
       "      <th></th>\n",
       "      <th></th>\n",
       "      <th></th>\n",
       "      <th></th>\n",
       "      <th></th>\n",
       "      <th></th>\n",
       "    </tr>\n",
       "  </thead>\n",
       "  <tbody>\n",
       "    <tr>\n",
       "      <th>DL1111_272_280</th>\n",
       "      <td>DL</td>\n",
       "      <td>not negated</td>\n",
       "      <td>not negated</td>\n",
       "      <td>not negated</td>\n",
       "      <td>not negated</td>\n",
       "      <td>not negated</td>\n",
       "      <td>not negated</td>\n",
       "      <td>not negated</td>\n",
       "      <td>not negated</td>\n",
       "      <td>not negated</td>\n",
       "      <td>not negated</td>\n",
       "      <td>not negated</td>\n",
       "      <td>not negated</td>\n",
       "      <td>not negated</td>\n",
       "      <td>not negated</td>\n",
       "      <td>not negated</td>\n",
       "      <td>not negated</td>\n",
       "      <td>not negated</td>\n",
       "      <td>not negated</td>\n",
       "      <td>not negated</td>\n",
       "    </tr>\n",
       "    <tr>\n",
       "      <th>DL1111_32_46</th>\n",
       "      <td>DL</td>\n",
       "      <td>not negated</td>\n",
       "      <td>not negated</td>\n",
       "      <td>not negated</td>\n",
       "      <td>not negated</td>\n",
       "      <td>not negated</td>\n",
       "      <td>not negated</td>\n",
       "      <td>not negated</td>\n",
       "      <td>not negated</td>\n",
       "      <td>not negated</td>\n",
       "      <td>not negated</td>\n",
       "      <td>not negated</td>\n",
       "      <td>not negated</td>\n",
       "      <td>not negated</td>\n",
       "      <td>not negated</td>\n",
       "      <td>not negated</td>\n",
       "      <td>not negated</td>\n",
       "      <td>not negated</td>\n",
       "      <td>not negated</td>\n",
       "      <td>not negated</td>\n",
       "    </tr>\n",
       "    <tr>\n",
       "      <th>DL1111_363_377</th>\n",
       "      <td>DL</td>\n",
       "      <td>not negated</td>\n",
       "      <td>not negated</td>\n",
       "      <td>not negated</td>\n",
       "      <td>not negated</td>\n",
       "      <td>not negated</td>\n",
       "      <td>not negated</td>\n",
       "      <td>not negated</td>\n",
       "      <td>not negated</td>\n",
       "      <td>not negated</td>\n",
       "      <td>not negated</td>\n",
       "      <td>not negated</td>\n",
       "      <td>not negated</td>\n",
       "      <td>not negated</td>\n",
       "      <td>not negated</td>\n",
       "      <td>not negated</td>\n",
       "      <td>not negated</td>\n",
       "      <td>not negated</td>\n",
       "      <td>not negated</td>\n",
       "      <td>not negated</td>\n",
       "    </tr>\n",
       "    <tr>\n",
       "      <th>DL1112_22_28</th>\n",
       "      <td>DL</td>\n",
       "      <td>negated</td>\n",
       "      <td>negated</td>\n",
       "      <td>negated</td>\n",
       "      <td>negated</td>\n",
       "      <td>negated</td>\n",
       "      <td>negated</td>\n",
       "      <td>negated</td>\n",
       "      <td>negated</td>\n",
       "      <td>negated</td>\n",
       "      <td>negated</td>\n",
       "      <td>negated</td>\n",
       "      <td>negated</td>\n",
       "      <td>negated</td>\n",
       "      <td>negated</td>\n",
       "      <td>negated</td>\n",
       "      <td>negated</td>\n",
       "      <td>negated</td>\n",
       "      <td>negated</td>\n",
       "      <td>negated</td>\n",
       "    </tr>\n",
       "    <tr>\n",
       "      <th>DL1113_141_155</th>\n",
       "      <td>DL</td>\n",
       "      <td>not negated</td>\n",
       "      <td>not negated</td>\n",
       "      <td>not negated</td>\n",
       "      <td>not negated</td>\n",
       "      <td>not negated</td>\n",
       "      <td>not negated</td>\n",
       "      <td>not negated</td>\n",
       "      <td>not negated</td>\n",
       "      <td>not negated</td>\n",
       "      <td>not negated</td>\n",
       "      <td>not negated</td>\n",
       "      <td>not negated</td>\n",
       "      <td>not negated</td>\n",
       "      <td>not negated</td>\n",
       "      <td>not negated</td>\n",
       "      <td>not negated</td>\n",
       "      <td>not negated</td>\n",
       "      <td>not negated</td>\n",
       "      <td>not negated</td>\n",
       "    </tr>\n",
       "    <tr>\n",
       "      <th>...</th>\n",
       "      <td>...</td>\n",
       "      <td>...</td>\n",
       "      <td>...</td>\n",
       "      <td>...</td>\n",
       "      <td>...</td>\n",
       "      <td>...</td>\n",
       "      <td>...</td>\n",
       "      <td>...</td>\n",
       "      <td>...</td>\n",
       "      <td>...</td>\n",
       "      <td>...</td>\n",
       "      <td>...</td>\n",
       "      <td>...</td>\n",
       "      <td>...</td>\n",
       "      <td>...</td>\n",
       "      <td>...</td>\n",
       "      <td>...</td>\n",
       "      <td>...</td>\n",
       "      <td>...</td>\n",
       "      <td>...</td>\n",
       "    </tr>\n",
       "    <tr>\n",
       "      <th>SP2118_862_876</th>\n",
       "      <td>SP</td>\n",
       "      <td>not negated</td>\n",
       "      <td>not negated</td>\n",
       "      <td>not negated</td>\n",
       "      <td>not negated</td>\n",
       "      <td>not negated</td>\n",
       "      <td>not negated</td>\n",
       "      <td>not negated</td>\n",
       "      <td>not negated</td>\n",
       "      <td>not negated</td>\n",
       "      <td>not negated</td>\n",
       "      <td>not negated</td>\n",
       "      <td>not negated</td>\n",
       "      <td>not negated</td>\n",
       "      <td>not negated</td>\n",
       "      <td>not negated</td>\n",
       "      <td>not negated</td>\n",
       "      <td>not negated</td>\n",
       "      <td>not negated</td>\n",
       "      <td>not negated</td>\n",
       "    </tr>\n",
       "    <tr>\n",
       "      <th>SP2119_23_45</th>\n",
       "      <td>SP</td>\n",
       "      <td>negated</td>\n",
       "      <td>negated</td>\n",
       "      <td>negated</td>\n",
       "      <td>negated</td>\n",
       "      <td>negated</td>\n",
       "      <td>negated</td>\n",
       "      <td>negated</td>\n",
       "      <td>negated</td>\n",
       "      <td>negated</td>\n",
       "      <td>negated</td>\n",
       "      <td>negated</td>\n",
       "      <td>negated</td>\n",
       "      <td>negated</td>\n",
       "      <td>negated</td>\n",
       "      <td>negated</td>\n",
       "      <td>not negated</td>\n",
       "      <td>negated</td>\n",
       "      <td>negated</td>\n",
       "      <td>negated</td>\n",
       "    </tr>\n",
       "    <tr>\n",
       "      <th>SP2120_3_23</th>\n",
       "      <td>SP</td>\n",
       "      <td>not negated</td>\n",
       "      <td>not negated</td>\n",
       "      <td>not negated</td>\n",
       "      <td>not negated</td>\n",
       "      <td>not negated</td>\n",
       "      <td>not negated</td>\n",
       "      <td>not negated</td>\n",
       "      <td>not negated</td>\n",
       "      <td>not negated</td>\n",
       "      <td>not negated</td>\n",
       "      <td>not negated</td>\n",
       "      <td>not negated</td>\n",
       "      <td>not negated</td>\n",
       "      <td>not negated</td>\n",
       "      <td>not negated</td>\n",
       "      <td>not negated</td>\n",
       "      <td>not negated</td>\n",
       "      <td>not negated</td>\n",
       "      <td>not negated</td>\n",
       "    </tr>\n",
       "    <tr>\n",
       "      <th>SP2121_73_85</th>\n",
       "      <td>SP</td>\n",
       "      <td>not negated</td>\n",
       "      <td>not negated</td>\n",
       "      <td>not negated</td>\n",
       "      <td>not negated</td>\n",
       "      <td>not negated</td>\n",
       "      <td>not negated</td>\n",
       "      <td>not negated</td>\n",
       "      <td>not negated</td>\n",
       "      <td>not negated</td>\n",
       "      <td>not negated</td>\n",
       "      <td>not negated</td>\n",
       "      <td>not negated</td>\n",
       "      <td>not negated</td>\n",
       "      <td>not negated</td>\n",
       "      <td>not negated</td>\n",
       "      <td>not negated</td>\n",
       "      <td>not negated</td>\n",
       "      <td>not negated</td>\n",
       "      <td>not negated</td>\n",
       "    </tr>\n",
       "    <tr>\n",
       "      <th>SP2122_0_19</th>\n",
       "      <td>SP</td>\n",
       "      <td>not negated</td>\n",
       "      <td>not negated</td>\n",
       "      <td>not negated</td>\n",
       "      <td>not negated</td>\n",
       "      <td>not negated</td>\n",
       "      <td>not negated</td>\n",
       "      <td>not negated</td>\n",
       "      <td>not negated</td>\n",
       "      <td>not negated</td>\n",
       "      <td>not negated</td>\n",
       "      <td>not negated</td>\n",
       "      <td>not negated</td>\n",
       "      <td>not negated</td>\n",
       "      <td>not negated</td>\n",
       "      <td>not negated</td>\n",
       "      <td>not negated</td>\n",
       "      <td>not negated</td>\n",
       "      <td>not negated</td>\n",
       "      <td>not negated</td>\n",
       "    </tr>\n",
       "  </tbody>\n",
       "</table>\n",
       "<p>12585 rows × 20 columns</p>\n",
       "</div>"
      ],
      "text/plain": [
       "               category        label       bilstm    bilstm_cv   rule_based  \\\n",
       "entity_id                                                                     \n",
       "DL1111_272_280       DL  not negated  not negated  not negated  not negated   \n",
       "DL1111_32_46         DL  not negated  not negated  not negated  not negated   \n",
       "DL1111_363_377       DL  not negated  not negated  not negated  not negated   \n",
       "DL1112_22_28         DL      negated      negated      negated      negated   \n",
       "DL1113_141_155       DL  not negated  not negated  not negated  not negated   \n",
       "...                 ...          ...          ...          ...          ...   \n",
       "SP2118_862_876       SP  not negated  not negated  not negated  not negated   \n",
       "SP2119_23_45         SP      negated      negated      negated      negated   \n",
       "SP2120_3_23          SP  not negated  not negated  not negated  not negated   \n",
       "SP2121_73_85         SP  not negated  not negated  not negated  not negated   \n",
       "SP2122_0_19          SP  not negated  not negated  not negated  not negated   \n",
       "\n",
       "               robbert_v2_dutch_base_2_64_512 robbert_v2_dutch_base_3_64_512  \\\n",
       "entity_id                                                                      \n",
       "DL1111_272_280                    not negated                    not negated   \n",
       "DL1111_32_46                      not negated                    not negated   \n",
       "DL1111_363_377                    not negated                    not negated   \n",
       "DL1112_22_28                          negated                        negated   \n",
       "DL1113_141_155                    not negated                    not negated   \n",
       "...                                       ...                            ...   \n",
       "SP2118_862_876                    not negated                    not negated   \n",
       "SP2119_23_45                          negated                        negated   \n",
       "SP2120_3_23                       not negated                    not negated   \n",
       "SP2121_73_85                      not negated                    not negated   \n",
       "SP2122_0_19                       not negated                    not negated   \n",
       "\n",
       "               robbert_v2_dutch_base_3_32_512 robbert_v2_dutch_base_3_32_32  \\\n",
       "entity_id                                                                     \n",
       "DL1111_272_280                    not negated                   not negated   \n",
       "DL1111_32_46                      not negated                   not negated   \n",
       "DL1111_363_377                    not negated                   not negated   \n",
       "DL1112_22_28                          negated                       negated   \n",
       "DL1113_141_155                    not negated                   not negated   \n",
       "...                                       ...                           ...   \n",
       "SP2118_862_876                    not negated                   not negated   \n",
       "SP2119_23_45                          negated                       negated   \n",
       "SP2120_3_23                       not negated                   not negated   \n",
       "SP2121_73_85                      not negated                   not negated   \n",
       "SP2122_0_19                       not negated                   not negated   \n",
       "\n",
       "               robbert_v2_dutch_base_3_32_64 MedRoBERTa_2_64_512  \\\n",
       "entity_id                                                          \n",
       "DL1111_272_280                   not negated         not negated   \n",
       "DL1111_32_46                     not negated         not negated   \n",
       "DL1111_363_377                   not negated         not negated   \n",
       "DL1112_22_28                         negated             negated   \n",
       "DL1113_141_155                   not negated         not negated   \n",
       "...                                      ...                 ...   \n",
       "SP2118_862_876                   not negated         not negated   \n",
       "SP2119_23_45                         negated             negated   \n",
       "SP2120_3_23                      not negated         not negated   \n",
       "SP2121_73_85                     not negated         not negated   \n",
       "SP2122_0_19                      not negated         not negated   \n",
       "\n",
       "               MedRoBERTa_3_64_512 MedRoBERTa_3_32_512  \\\n",
       "entity_id                                                \n",
       "DL1111_272_280         not negated         not negated   \n",
       "DL1111_32_46           not negated         not negated   \n",
       "DL1111_363_377         not negated         not negated   \n",
       "DL1112_22_28               negated             negated   \n",
       "DL1113_141_155         not negated         not negated   \n",
       "...                            ...                 ...   \n",
       "SP2118_862_876         not negated         not negated   \n",
       "SP2119_23_45               negated             negated   \n",
       "SP2120_3_23            not negated         not negated   \n",
       "SP2121_73_85           not negated         not negated   \n",
       "SP2122_0_19            not negated         not negated   \n",
       "\n",
       "               robbert_v2_dutch_base_DAPT_2_64_512  \\\n",
       "entity_id                                            \n",
       "DL1111_272_280                         not negated   \n",
       "DL1111_32_46                           not negated   \n",
       "DL1111_363_377                         not negated   \n",
       "DL1112_22_28                               negated   \n",
       "DL1113_141_155                         not negated   \n",
       "...                                            ...   \n",
       "SP2118_862_876                         not negated   \n",
       "SP2119_23_45                               negated   \n",
       "SP2120_3_23                            not negated   \n",
       "SP2121_73_85                           not negated   \n",
       "SP2122_0_19                            not negated   \n",
       "\n",
       "               robbert_v2_dutch_base_DAPT_3_64_512  \\\n",
       "entity_id                                            \n",
       "DL1111_272_280                         not negated   \n",
       "DL1111_32_46                           not negated   \n",
       "DL1111_363_377                         not negated   \n",
       "DL1112_22_28                               negated   \n",
       "DL1113_141_155                         not negated   \n",
       "...                                            ...   \n",
       "SP2118_862_876                         not negated   \n",
       "SP2119_23_45                               negated   \n",
       "SP2120_3_23                            not negated   \n",
       "SP2121_73_85                           not negated   \n",
       "SP2122_0_19                            not negated   \n",
       "\n",
       "               robbert_v2_dutch_base_DAPT_3_32_512  \\\n",
       "entity_id                                            \n",
       "DL1111_272_280                         not negated   \n",
       "DL1111_32_46                           not negated   \n",
       "DL1111_363_377                         not negated   \n",
       "DL1112_22_28                               negated   \n",
       "DL1113_141_155                         not negated   \n",
       "...                                            ...   \n",
       "SP2118_862_876                         not negated   \n",
       "SP2119_23_45                               negated   \n",
       "SP2120_3_23                            not negated   \n",
       "SP2121_73_85                           not negated   \n",
       "SP2122_0_19                            not negated   \n",
       "\n",
       "               robbert_v2_dutch_base_10_128_512_zeroShot  \\\n",
       "entity_id                                                  \n",
       "DL1111_272_280                               not negated   \n",
       "DL1111_32_46                                 not negated   \n",
       "DL1111_363_377                               not negated   \n",
       "DL1112_22_28                                     negated   \n",
       "DL1113_141_155                               not negated   \n",
       "...                                                  ...   \n",
       "SP2118_862_876                               not negated   \n",
       "SP2119_23_45                                 not negated   \n",
       "SP2120_3_23                                  not negated   \n",
       "SP2121_73_85                                 not negated   \n",
       "SP2122_0_19                                  not negated   \n",
       "\n",
       "               robbert_v2_dutch_base_DAPT_10_128_512_zeroShot  \\\n",
       "entity_id                                                       \n",
       "DL1111_272_280                                    not negated   \n",
       "DL1111_32_46                                      not negated   \n",
       "DL1111_363_377                                    not negated   \n",
       "DL1112_22_28                                          negated   \n",
       "DL1113_141_155                                    not negated   \n",
       "...                                                       ...   \n",
       "SP2118_862_876                                    not negated   \n",
       "SP2119_23_45                                          negated   \n",
       "SP2120_3_23                                       not negated   \n",
       "SP2121_73_85                                      not negated   \n",
       "SP2122_0_19                                       not negated   \n",
       "\n",
       "               MedRoBERTa_10_128_512_zeroShot  \\\n",
       "entity_id                                       \n",
       "DL1111_272_280                    not negated   \n",
       "DL1111_32_46                      not negated   \n",
       "DL1111_363_377                    not negated   \n",
       "DL1112_22_28                          negated   \n",
       "DL1113_141_155                    not negated   \n",
       "...                                       ...   \n",
       "SP2118_862_876                    not negated   \n",
       "SP2119_23_45                          negated   \n",
       "SP2120_3_23                       not negated   \n",
       "SP2121_73_85                      not negated   \n",
       "SP2122_0_19                       not negated   \n",
       "\n",
       "               robbert_v2_dutch_base_3_32_32__centeredVal  \n",
       "entity_id                                                  \n",
       "DL1111_272_280                                not negated  \n",
       "DL1111_32_46                                  not negated  \n",
       "DL1111_363_377                                not negated  \n",
       "DL1112_22_28                                      negated  \n",
       "DL1113_141_155                                not negated  \n",
       "...                                                   ...  \n",
       "SP2118_862_876                                not negated  \n",
       "SP2119_23_45                                      negated  \n",
       "SP2120_3_23                                   not negated  \n",
       "SP2121_73_85                                  not negated  \n",
       "SP2122_0_19                                   not negated  \n",
       "\n",
       "[12585 rows x 20 columns]"
      ]
     },
     "execution_count": 30,
     "metadata": {},
     "output_type": "execute_result"
    }
   ],
   "source": [
    "total_results"
   ]
  },
  {
   "cell_type": "code",
   "execution_count": 31,
   "id": "95fd5de0",
   "metadata": {},
   "outputs": [],
   "source": [
    "total_results[['category', 'label', robbert_col_name]].to_csv(f\"../results/{mod_name}_predictions.csv.gz\", index=True, compression='gzip')"
   ]
  },
  {
   "cell_type": "code",
   "execution_count": 32,
   "id": "03094264",
   "metadata": {},
   "outputs": [],
   "source": [
    "robberts = [c for c in total_results.columns if 'robbert' in c]\n",
    "unanimous = total_results.dropna()[['label', 'bilstm_cv', 'rule_based']+robberts].apply(lambda x: x[0]==x[1]==x[2]==x[3]==x[4], \n",
    "                                                                         axis=1)"
   ]
  },
  {
   "cell_type": "code",
   "execution_count": 33,
   "id": "487e411e",
   "metadata": {},
   "outputs": [
    {
     "data": {
      "text/plain": [
       "0.9384874488732056"
      ]
     },
     "execution_count": 33,
     "metadata": {},
     "output_type": "execute_result"
    }
   ],
   "source": [
    "sum(unanimous)/total_results.loc[total_results[robbert_col_name].isna()==False].shape[0]"
   ]
  },
  {
   "cell_type": "code",
   "execution_count": 34,
   "id": "2279a84c",
   "metadata": {},
   "outputs": [],
   "source": [
    "def number_of_dissenters(x):\n",
    "    return int(x[0] != x[1])+\\\n",
    "           int(x[0] != x[2])+\\\n",
    "           int(x[0] != x[3])+\\\n",
    "           int(x[0] != x[4])+\\\n",
    "           int(x[0] != x[5])+\\\n",
    "           int(x[0] != x[6])"
   ]
  },
  {
   "cell_type": "code",
   "execution_count": 35,
   "id": "d2e7f46c",
   "metadata": {},
   "outputs": [
    {
     "name": "stderr",
     "output_type": "stream",
     "text": [
      "<ipython-input-35-f05c17c4ba66>:5: FutureWarning: reindexing with a non-unique Index is deprecated and will raise in a future version.\n",
      "  total_results.loc[dissenters.index, 'dissenters'] = dissenters.astype(int)\n"
     ]
    },
    {
     "ename": "ValueError",
     "evalue": "cannot reindex on an axis with duplicate labels",
     "output_type": "error",
     "traceback": [
      "\u001b[0;31m---------------------------------------------------------------------------\u001b[0m",
      "\u001b[0;31mValueError\u001b[0m                                Traceback (most recent call last)",
      "\u001b[0;32m<ipython-input-35-f05c17c4ba66>\u001b[0m in \u001b[0;36m<module>\u001b[0;34m\u001b[0m\n\u001b[1;32m      3\u001b[0m \u001b[0;34m\u001b[0m\u001b[0m\n\u001b[1;32m      4\u001b[0m \u001b[0mtotal_results\u001b[0m\u001b[0;34m.\u001b[0m\u001b[0mdissenters\u001b[0m \u001b[0;34m=\u001b[0m \u001b[0mnp\u001b[0m\u001b[0;34m.\u001b[0m\u001b[0mnan\u001b[0m\u001b[0;34m\u001b[0m\u001b[0;34m\u001b[0m\u001b[0m\n\u001b[0;32m----> 5\u001b[0;31m \u001b[0mtotal_results\u001b[0m\u001b[0;34m.\u001b[0m\u001b[0mloc\u001b[0m\u001b[0;34m[\u001b[0m\u001b[0mdissenters\u001b[0m\u001b[0;34m.\u001b[0m\u001b[0mindex\u001b[0m\u001b[0;34m,\u001b[0m \u001b[0;34m'dissenters'\u001b[0m\u001b[0;34m]\u001b[0m \u001b[0;34m=\u001b[0m \u001b[0mdissenters\u001b[0m\u001b[0;34m.\u001b[0m\u001b[0mastype\u001b[0m\u001b[0;34m(\u001b[0m\u001b[0mint\u001b[0m\u001b[0;34m)\u001b[0m\u001b[0;34m\u001b[0m\u001b[0;34m\u001b[0m\u001b[0m\n\u001b[0m",
      "\u001b[0;32m/media/koekiemonster/home/bramiozo/VIRTUALENVS/nlp/lib/python3.8/site-packages/pandas/core/indexing.py\u001b[0m in \u001b[0;36m__setitem__\u001b[0;34m(self, key, value)\u001b[0m\n\u001b[1;32m    714\u001b[0m \u001b[0;34m\u001b[0m\u001b[0m\n\u001b[1;32m    715\u001b[0m         \u001b[0miloc\u001b[0m \u001b[0;34m=\u001b[0m \u001b[0mself\u001b[0m \u001b[0;32mif\u001b[0m \u001b[0mself\u001b[0m\u001b[0;34m.\u001b[0m\u001b[0mname\u001b[0m \u001b[0;34m==\u001b[0m \u001b[0;34m\"iloc\"\u001b[0m \u001b[0;32melse\u001b[0m \u001b[0mself\u001b[0m\u001b[0;34m.\u001b[0m\u001b[0mobj\u001b[0m\u001b[0;34m.\u001b[0m\u001b[0miloc\u001b[0m\u001b[0;34m\u001b[0m\u001b[0;34m\u001b[0m\u001b[0m\n\u001b[0;32m--> 716\u001b[0;31m         \u001b[0miloc\u001b[0m\u001b[0;34m.\u001b[0m\u001b[0m_setitem_with_indexer\u001b[0m\u001b[0;34m(\u001b[0m\u001b[0mindexer\u001b[0m\u001b[0;34m,\u001b[0m \u001b[0mvalue\u001b[0m\u001b[0;34m,\u001b[0m \u001b[0mself\u001b[0m\u001b[0;34m.\u001b[0m\u001b[0mname\u001b[0m\u001b[0;34m)\u001b[0m\u001b[0;34m\u001b[0m\u001b[0;34m\u001b[0m\u001b[0m\n\u001b[0m\u001b[1;32m    717\u001b[0m \u001b[0;34m\u001b[0m\u001b[0m\n\u001b[1;32m    718\u001b[0m     \u001b[0;32mdef\u001b[0m \u001b[0m_validate_key\u001b[0m\u001b[0;34m(\u001b[0m\u001b[0mself\u001b[0m\u001b[0;34m,\u001b[0m \u001b[0mkey\u001b[0m\u001b[0;34m,\u001b[0m \u001b[0maxis\u001b[0m\u001b[0;34m:\u001b[0m \u001b[0mint\u001b[0m\u001b[0;34m)\u001b[0m\u001b[0;34m:\u001b[0m\u001b[0;34m\u001b[0m\u001b[0;34m\u001b[0m\u001b[0m\n",
      "\u001b[0;32m/media/koekiemonster/home/bramiozo/VIRTUALENVS/nlp/lib/python3.8/site-packages/pandas/core/indexing.py\u001b[0m in \u001b[0;36m_setitem_with_indexer\u001b[0;34m(self, indexer, value, name)\u001b[0m\n\u001b[1;32m   1645\u001b[0m                             \u001b[0mindexer\u001b[0m\u001b[0;34m,\u001b[0m \u001b[0mself\u001b[0m\u001b[0;34m.\u001b[0m\u001b[0mobj\u001b[0m\u001b[0;34m.\u001b[0m\u001b[0maxes\u001b[0m\u001b[0;34m\u001b[0m\u001b[0;34m\u001b[0m\u001b[0m\n\u001b[1;32m   1646\u001b[0m                         )\n\u001b[0;32m-> 1647\u001b[0;31m                         \u001b[0mself\u001b[0m\u001b[0;34m.\u001b[0m\u001b[0m_setitem_with_indexer\u001b[0m\u001b[0;34m(\u001b[0m\u001b[0mnew_indexer\u001b[0m\u001b[0;34m,\u001b[0m \u001b[0mvalue\u001b[0m\u001b[0;34m,\u001b[0m \u001b[0mname\u001b[0m\u001b[0;34m)\u001b[0m\u001b[0;34m\u001b[0m\u001b[0;34m\u001b[0m\u001b[0m\n\u001b[0m\u001b[1;32m   1648\u001b[0m \u001b[0;34m\u001b[0m\u001b[0m\n\u001b[1;32m   1649\u001b[0m                         \u001b[0;32mreturn\u001b[0m\u001b[0;34m\u001b[0m\u001b[0;34m\u001b[0m\u001b[0m\n",
      "\u001b[0;32m/media/koekiemonster/home/bramiozo/VIRTUALENVS/nlp/lib/python3.8/site-packages/pandas/core/indexing.py\u001b[0m in \u001b[0;36m_setitem_with_indexer\u001b[0;34m(self, indexer, value, name)\u001b[0m\n\u001b[1;32m   1686\u001b[0m         \u001b[0;32mif\u001b[0m \u001b[0mtake_split_path\u001b[0m\u001b[0;34m:\u001b[0m\u001b[0;34m\u001b[0m\u001b[0;34m\u001b[0m\u001b[0m\n\u001b[1;32m   1687\u001b[0m             \u001b[0;31m# We have to operate column-wise\u001b[0m\u001b[0;34m\u001b[0m\u001b[0;34m\u001b[0m\u001b[0;34m\u001b[0m\u001b[0m\n\u001b[0;32m-> 1688\u001b[0;31m             \u001b[0mself\u001b[0m\u001b[0;34m.\u001b[0m\u001b[0m_setitem_with_indexer_split_path\u001b[0m\u001b[0;34m(\u001b[0m\u001b[0mindexer\u001b[0m\u001b[0;34m,\u001b[0m \u001b[0mvalue\u001b[0m\u001b[0;34m,\u001b[0m \u001b[0mname\u001b[0m\u001b[0;34m)\u001b[0m\u001b[0;34m\u001b[0m\u001b[0;34m\u001b[0m\u001b[0m\n\u001b[0m\u001b[1;32m   1689\u001b[0m         \u001b[0;32melse\u001b[0m\u001b[0;34m:\u001b[0m\u001b[0;34m\u001b[0m\u001b[0;34m\u001b[0m\u001b[0m\n\u001b[1;32m   1690\u001b[0m             \u001b[0mself\u001b[0m\u001b[0;34m.\u001b[0m\u001b[0m_setitem_single_block\u001b[0m\u001b[0;34m(\u001b[0m\u001b[0mindexer\u001b[0m\u001b[0;34m,\u001b[0m \u001b[0mvalue\u001b[0m\u001b[0;34m,\u001b[0m \u001b[0mname\u001b[0m\u001b[0;34m)\u001b[0m\u001b[0;34m\u001b[0m\u001b[0;34m\u001b[0m\u001b[0m\n",
      "\u001b[0;32m/media/koekiemonster/home/bramiozo/VIRTUALENVS/nlp/lib/python3.8/site-packages/pandas/core/indexing.py\u001b[0m in \u001b[0;36m_setitem_with_indexer_split_path\u001b[0;34m(self, indexer, value, name)\u001b[0m\n\u001b[1;32m   1707\u001b[0m             \u001b[0;32mfrom\u001b[0m \u001b[0mpandas\u001b[0m \u001b[0;32mimport\u001b[0m \u001b[0mSeries\u001b[0m\u001b[0;34m\u001b[0m\u001b[0;34m\u001b[0m\u001b[0m\n\u001b[1;32m   1708\u001b[0m \u001b[0;34m\u001b[0m\u001b[0m\n\u001b[0;32m-> 1709\u001b[0;31m             \u001b[0mvalue\u001b[0m \u001b[0;34m=\u001b[0m \u001b[0mself\u001b[0m\u001b[0;34m.\u001b[0m\u001b[0m_align_series\u001b[0m\u001b[0;34m(\u001b[0m\u001b[0mindexer\u001b[0m\u001b[0;34m,\u001b[0m \u001b[0mSeries\u001b[0m\u001b[0;34m(\u001b[0m\u001b[0mvalue\u001b[0m\u001b[0;34m)\u001b[0m\u001b[0;34m)\u001b[0m\u001b[0;34m\u001b[0m\u001b[0;34m\u001b[0m\u001b[0m\n\u001b[0m\u001b[1;32m   1710\u001b[0m \u001b[0;34m\u001b[0m\u001b[0m\n\u001b[1;32m   1711\u001b[0m         \u001b[0;31m# Ensure we have something we can iterate over\u001b[0m\u001b[0;34m\u001b[0m\u001b[0;34m\u001b[0m\u001b[0;34m\u001b[0m\u001b[0m\n",
      "\u001b[0;32m/media/koekiemonster/home/bramiozo/VIRTUALENVS/nlp/lib/python3.8/site-packages/pandas/core/indexing.py\u001b[0m in \u001b[0;36m_align_series\u001b[0;34m(self, indexer, ser, multiindex_indexer)\u001b[0m\n\u001b[1;32m   2110\u001b[0m                         \u001b[0;32mreturn\u001b[0m \u001b[0mser\u001b[0m\u001b[0;34m.\u001b[0m\u001b[0m_values\u001b[0m\u001b[0;34m.\u001b[0m\u001b[0mcopy\u001b[0m\u001b[0;34m(\u001b[0m\u001b[0;34m)\u001b[0m\u001b[0;34m\u001b[0m\u001b[0;34m\u001b[0m\u001b[0m\n\u001b[1;32m   2111\u001b[0m \u001b[0;34m\u001b[0m\u001b[0m\n\u001b[0;32m-> 2112\u001b[0;31m                     \u001b[0;32mreturn\u001b[0m \u001b[0mser\u001b[0m\u001b[0;34m.\u001b[0m\u001b[0mreindex\u001b[0m\u001b[0;34m(\u001b[0m\u001b[0mnew_ix\u001b[0m\u001b[0;34m)\u001b[0m\u001b[0;34m.\u001b[0m\u001b[0m_values\u001b[0m\u001b[0;34m\u001b[0m\u001b[0;34m\u001b[0m\u001b[0m\n\u001b[0m\u001b[1;32m   2113\u001b[0m \u001b[0;34m\u001b[0m\u001b[0m\n\u001b[1;32m   2114\u001b[0m                 \u001b[0;31m# 2 dims\u001b[0m\u001b[0;34m\u001b[0m\u001b[0;34m\u001b[0m\u001b[0;34m\u001b[0m\u001b[0m\n",
      "\u001b[0;32m/media/koekiemonster/home/bramiozo/VIRTUALENVS/nlp/lib/python3.8/site-packages/pandas/core/series.py\u001b[0m in \u001b[0;36mreindex\u001b[0;34m(self, *args, **kwargs)\u001b[0m\n\u001b[1;32m   4670\u001b[0m                 )\n\u001b[1;32m   4671\u001b[0m             \u001b[0mkwargs\u001b[0m\u001b[0;34m.\u001b[0m\u001b[0mupdate\u001b[0m\u001b[0;34m(\u001b[0m\u001b[0;34m{\u001b[0m\u001b[0;34m\"index\"\u001b[0m\u001b[0;34m:\u001b[0m \u001b[0mindex\u001b[0m\u001b[0;34m}\u001b[0m\u001b[0;34m)\u001b[0m\u001b[0;34m\u001b[0m\u001b[0;34m\u001b[0m\u001b[0m\n\u001b[0;32m-> 4672\u001b[0;31m         \u001b[0;32mreturn\u001b[0m \u001b[0msuper\u001b[0m\u001b[0;34m(\u001b[0m\u001b[0;34m)\u001b[0m\u001b[0;34m.\u001b[0m\u001b[0mreindex\u001b[0m\u001b[0;34m(\u001b[0m\u001b[0;34m**\u001b[0m\u001b[0mkwargs\u001b[0m\u001b[0;34m)\u001b[0m\u001b[0;34m\u001b[0m\u001b[0;34m\u001b[0m\u001b[0m\n\u001b[0m\u001b[1;32m   4673\u001b[0m \u001b[0;34m\u001b[0m\u001b[0m\n\u001b[1;32m   4674\u001b[0m     \u001b[0;34m@\u001b[0m\u001b[0mdeprecate_nonkeyword_arguments\u001b[0m\u001b[0;34m(\u001b[0m\u001b[0mversion\u001b[0m\u001b[0;34m=\u001b[0m\u001b[0;32mNone\u001b[0m\u001b[0;34m,\u001b[0m \u001b[0mallowed_args\u001b[0m\u001b[0;34m=\u001b[0m\u001b[0;34m[\u001b[0m\u001b[0;34m\"self\"\u001b[0m\u001b[0;34m,\u001b[0m \u001b[0;34m\"labels\"\u001b[0m\u001b[0;34m]\u001b[0m\u001b[0;34m)\u001b[0m\u001b[0;34m\u001b[0m\u001b[0;34m\u001b[0m\u001b[0m\n",
      "\u001b[0;32m/media/koekiemonster/home/bramiozo/VIRTUALENVS/nlp/lib/python3.8/site-packages/pandas/core/generic.py\u001b[0m in \u001b[0;36mreindex\u001b[0;34m(self, *args, **kwargs)\u001b[0m\n\u001b[1;32m   4972\u001b[0m \u001b[0;34m\u001b[0m\u001b[0m\n\u001b[1;32m   4973\u001b[0m         \u001b[0;31m# perform the reindex on the axes\u001b[0m\u001b[0;34m\u001b[0m\u001b[0;34m\u001b[0m\u001b[0;34m\u001b[0m\u001b[0m\n\u001b[0;32m-> 4974\u001b[0;31m         return self._reindex_axes(\n\u001b[0m\u001b[1;32m   4975\u001b[0m             \u001b[0maxes\u001b[0m\u001b[0;34m,\u001b[0m \u001b[0mlevel\u001b[0m\u001b[0;34m,\u001b[0m \u001b[0mlimit\u001b[0m\u001b[0;34m,\u001b[0m \u001b[0mtolerance\u001b[0m\u001b[0;34m,\u001b[0m \u001b[0mmethod\u001b[0m\u001b[0;34m,\u001b[0m \u001b[0mfill_value\u001b[0m\u001b[0;34m,\u001b[0m \u001b[0mcopy\u001b[0m\u001b[0;34m\u001b[0m\u001b[0;34m\u001b[0m\u001b[0m\n\u001b[1;32m   4976\u001b[0m         ).__finalize__(self, method=\"reindex\")\n",
      "\u001b[0;32m/media/koekiemonster/home/bramiozo/VIRTUALENVS/nlp/lib/python3.8/site-packages/pandas/core/generic.py\u001b[0m in \u001b[0;36m_reindex_axes\u001b[0;34m(self, axes, level, limit, tolerance, method, fill_value, copy)\u001b[0m\n\u001b[1;32m   4992\u001b[0m \u001b[0;34m\u001b[0m\u001b[0m\n\u001b[1;32m   4993\u001b[0m             \u001b[0maxis\u001b[0m \u001b[0;34m=\u001b[0m \u001b[0mself\u001b[0m\u001b[0;34m.\u001b[0m\u001b[0m_get_axis_number\u001b[0m\u001b[0;34m(\u001b[0m\u001b[0ma\u001b[0m\u001b[0;34m)\u001b[0m\u001b[0;34m\u001b[0m\u001b[0;34m\u001b[0m\u001b[0m\n\u001b[0;32m-> 4994\u001b[0;31m             obj = obj._reindex_with_indexers(\n\u001b[0m\u001b[1;32m   4995\u001b[0m                 \u001b[0;34m{\u001b[0m\u001b[0maxis\u001b[0m\u001b[0;34m:\u001b[0m \u001b[0;34m[\u001b[0m\u001b[0mnew_index\u001b[0m\u001b[0;34m,\u001b[0m \u001b[0mindexer\u001b[0m\u001b[0;34m]\u001b[0m\u001b[0;34m}\u001b[0m\u001b[0;34m,\u001b[0m\u001b[0;34m\u001b[0m\u001b[0;34m\u001b[0m\u001b[0m\n\u001b[1;32m   4996\u001b[0m                 \u001b[0mfill_value\u001b[0m\u001b[0;34m=\u001b[0m\u001b[0mfill_value\u001b[0m\u001b[0;34m,\u001b[0m\u001b[0;34m\u001b[0m\u001b[0;34m\u001b[0m\u001b[0m\n",
      "\u001b[0;32m/media/koekiemonster/home/bramiozo/VIRTUALENVS/nlp/lib/python3.8/site-packages/pandas/core/generic.py\u001b[0m in \u001b[0;36m_reindex_with_indexers\u001b[0;34m(self, reindexers, fill_value, copy, allow_dups)\u001b[0m\n\u001b[1;32m   5038\u001b[0m \u001b[0;34m\u001b[0m\u001b[0m\n\u001b[1;32m   5039\u001b[0m             \u001b[0;31m# TODO: speed up on homogeneous DataFrame objects (see _reindex_multi)\u001b[0m\u001b[0;34m\u001b[0m\u001b[0;34m\u001b[0m\u001b[0;34m\u001b[0m\u001b[0m\n\u001b[0;32m-> 5040\u001b[0;31m             new_data = new_data.reindex_indexer(\n\u001b[0m\u001b[1;32m   5041\u001b[0m                 \u001b[0mindex\u001b[0m\u001b[0;34m,\u001b[0m\u001b[0;34m\u001b[0m\u001b[0;34m\u001b[0m\u001b[0m\n\u001b[1;32m   5042\u001b[0m                 \u001b[0mindexer\u001b[0m\u001b[0;34m,\u001b[0m\u001b[0;34m\u001b[0m\u001b[0;34m\u001b[0m\u001b[0m\n",
      "\u001b[0;32m/media/koekiemonster/home/bramiozo/VIRTUALENVS/nlp/lib/python3.8/site-packages/pandas/core/internals/managers.py\u001b[0m in \u001b[0;36mreindex_indexer\u001b[0;34m(self, new_axis, indexer, axis, fill_value, allow_dups, copy, consolidate, only_slice, use_na_proxy)\u001b[0m\n\u001b[1;32m    677\u001b[0m         \u001b[0;31m# some axes don't allow reindexing with dups\u001b[0m\u001b[0;34m\u001b[0m\u001b[0;34m\u001b[0m\u001b[0;34m\u001b[0m\u001b[0m\n\u001b[1;32m    678\u001b[0m         \u001b[0;32mif\u001b[0m \u001b[0;32mnot\u001b[0m \u001b[0mallow_dups\u001b[0m\u001b[0;34m:\u001b[0m\u001b[0;34m\u001b[0m\u001b[0;34m\u001b[0m\u001b[0m\n\u001b[0;32m--> 679\u001b[0;31m             \u001b[0mself\u001b[0m\u001b[0;34m.\u001b[0m\u001b[0maxes\u001b[0m\u001b[0;34m[\u001b[0m\u001b[0maxis\u001b[0m\u001b[0;34m]\u001b[0m\u001b[0;34m.\u001b[0m\u001b[0m_validate_can_reindex\u001b[0m\u001b[0;34m(\u001b[0m\u001b[0mindexer\u001b[0m\u001b[0;34m)\u001b[0m\u001b[0;34m\u001b[0m\u001b[0;34m\u001b[0m\u001b[0m\n\u001b[0m\u001b[1;32m    680\u001b[0m \u001b[0;34m\u001b[0m\u001b[0m\n\u001b[1;32m    681\u001b[0m         \u001b[0;32mif\u001b[0m \u001b[0maxis\u001b[0m \u001b[0;34m>=\u001b[0m \u001b[0mself\u001b[0m\u001b[0;34m.\u001b[0m\u001b[0mndim\u001b[0m\u001b[0;34m:\u001b[0m\u001b[0;34m\u001b[0m\u001b[0;34m\u001b[0m\u001b[0m\n",
      "\u001b[0;32m/media/koekiemonster/home/bramiozo/VIRTUALENVS/nlp/lib/python3.8/site-packages/pandas/core/indexes/base.py\u001b[0m in \u001b[0;36m_validate_can_reindex\u001b[0;34m(self, indexer)\u001b[0m\n\u001b[1;32m   4105\u001b[0m         \u001b[0;31m# trying to reindex on an axis with duplicates\u001b[0m\u001b[0;34m\u001b[0m\u001b[0;34m\u001b[0m\u001b[0;34m\u001b[0m\u001b[0m\n\u001b[1;32m   4106\u001b[0m         \u001b[0;32mif\u001b[0m \u001b[0;32mnot\u001b[0m \u001b[0mself\u001b[0m\u001b[0;34m.\u001b[0m\u001b[0m_index_as_unique\u001b[0m \u001b[0;32mand\u001b[0m \u001b[0mlen\u001b[0m\u001b[0;34m(\u001b[0m\u001b[0mindexer\u001b[0m\u001b[0;34m)\u001b[0m\u001b[0;34m:\u001b[0m\u001b[0;34m\u001b[0m\u001b[0;34m\u001b[0m\u001b[0m\n\u001b[0;32m-> 4107\u001b[0;31m             \u001b[0;32mraise\u001b[0m \u001b[0mValueError\u001b[0m\u001b[0;34m(\u001b[0m\u001b[0;34m\"cannot reindex on an axis with duplicate labels\"\u001b[0m\u001b[0;34m)\u001b[0m\u001b[0;34m\u001b[0m\u001b[0;34m\u001b[0m\u001b[0m\n\u001b[0m\u001b[1;32m   4108\u001b[0m \u001b[0;34m\u001b[0m\u001b[0m\n\u001b[1;32m   4109\u001b[0m     def reindex(\n",
      "\u001b[0;31mValueError\u001b[0m: cannot reindex on an axis with duplicate labels"
     ]
    }
   ],
   "source": [
    "dissenters = total_results.dropna()[['label','bilstm', 'bilstm_cv','rule_based']+robberts]\\\n",
    "                            .apply(number_of_dissenters, axis=1)\n",
    "\n",
    "total_results.dissenters = np.nan\n",
    "total_results.loc[dissenters.index, 'dissenters'] = dissenters.astype(int)"
   ]
  },
  {
   "cell_type": "code",
   "execution_count": null,
   "id": "505396ee",
   "metadata": {},
   "outputs": [],
   "source": [
    "total_results"
   ]
  },
  {
   "cell_type": "code",
   "execution_count": null,
   "id": "405752af",
   "metadata": {},
   "outputs": [],
   "source": [
    "# 80*2*10/60 hours for 2 epochs and block size 512\n",
    "# 16*2*10/60 hours for 2 epochs and block size 128\n",
    "# 6*2*10/60 hours for 2 epochs and block size 32"
   ]
  },
  {
   "cell_type": "markdown",
   "id": "3bcb36e9",
   "metadata": {},
   "source": [
    "## "
   ]
  },
  {
   "cell_type": "markdown",
   "id": "ef376d4b",
   "metadata": {},
   "source": [
    "## Inference in practice\n",
    "\n",
    "Suppose we have some sentence:\n",
    "```De patient vertoont tekenen van ischemische hartziekte. Op de MRI waren sporen van infarctie te zien. Ik concludeer dat hier sprake is van significante stenose```\n",
    "\n",
    "Now, how do we deploy our model?\n",
    "First we need to establish **what** we wish to label, for this we can use MedCAT trained on Dutch clinical texts to recognize medical concepts. For our purpose we may wish the constrain the possible medical concepts\n",
    "to symptoms and pathologies. Now, given our approximated medical concepts we apply our negation model to \n",
    "estimate whether the concept is negated or not.\n"
   ]
  }
 ],
 "metadata": {
  "kernelspec": {
   "display_name": "NLP",
   "language": "python",
   "name": "nlp"
  },
  "language_info": {
   "codemirror_mode": {
    "name": "ipython",
    "version": 3
   },
   "file_extension": ".py",
   "mimetype": "text/x-python",
   "name": "python",
   "nbconvert_exporter": "python",
   "pygments_lexer": "ipython3",
   "version": "3.8.10"
  }
 },
 "nbformat": 4,
 "nbformat_minor": 5
}
