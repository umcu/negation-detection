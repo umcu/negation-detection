{
 "cells": [
  {
   "cell_type": "code",
   "execution_count": 1,
   "metadata": {},
   "outputs": [],
   "source": [
    "import os\n",
    "import json\n",
    "import sys\n",
    "import pandas as pd"
   ]
  },
  {
   "cell_type": "code",
   "execution_count": 2,
   "metadata": {},
   "outputs": [],
   "source": [
    "os.chdir('T://lab_research//RES-Folder-UPOD//Echo_label//E_ResearchData//2_ResearchData')"
   ]
  },
  {
   "cell_type": "code",
   "execution_count": 3,
   "metadata": {},
   "outputs": [],
   "source": [
    "'''\n",
    "{projects: [{\"name\": \"ECHO\", \"id\": 77, \"cuis\": \"\", \"tuis\": \"\", \n",
    "    \"documents\":[\n",
    "        {\n",
    "            \"id\": 1, \n",
    "            \"name\": \"doc1\", \n",
    "            \"text\": \"text1\",\n",
    "            \"annotations\": [\n",
    "                {\n",
    "                    \"id\": 1,\n",
    "                    \"user\": \"user1\", \n",
    "                    \"cui\": 1, \n",
    "                    \"start\": 1,\n",
    "                    \"end\": 2, \n",
    "                    \"value\": \"value1\",\n",
    "                    \"validated\": true,\n",
    "                    \"correct\": true,\n",
    "                    \"deleted\": false,\n",
    "                    \"alternative\": false,\n",
    "                    \"killed\": false,\n",
    "                    \"meta_anns\": {\n",
    "                        \"Negation\":{\n",
    "                            \"name\": \"Negation\",\n",
    "                            \"validated\": true,\n",
    "                            \"accuracy\": 1.0,\n",
    "                            \"value\": \"Negated\"\n",
    "                        }\n",
    "                    }\n",
    "            ]\n",
    "    ]}\n",
    "]}\n",
    "'''\n",
    "base_dict = {\"projects\": [{\"name\": \"ECHO_LABEL\", \"id\": 777, \"cuis\": \"\", \"tuis\": \"\", \"documents\":[]}]}"
   ]
  },
  {
   "cell_type": "code",
   "execution_count": 4,
   "metadata": {},
   "outputs": [],
   "source": [
    "# read in jsonl file put in list of dictionaries\n",
    "with open('outdb_140423.jsonl', 'r') as f:\n",
    "    data = f.readlines()\n",
    "    data = [json.loads(line) for line in data]\n",
    "data_with_span = [d for d in data if \"spans\" in d.keys()]"
   ]
  },
  {
   "cell_type": "code",
   "execution_count": 5,
   "metadata": {},
   "outputs": [
    {
     "data": {
      "text/plain": [
       "{'lv_sys_func_hyperdynamic',\n",
       " 'lv_sys_func_improved',\n",
       " 'lv_sys_func_mild',\n",
       " 'lv_sys_func_moderate',\n",
       " 'lv_sys_func_normal',\n",
       " 'lv_sys_func_severe',\n",
       " 'lv_sys_func_unchanged',\n",
       " 'lv_sys_func_unknown'}"
      ]
     },
     "execution_count": 5,
     "metadata": {},
     "output_type": "execute_result"
    }
   ],
   "source": [
    "# unique labels\n",
    "set([s['label'] \n",
    "     for d in data_with_span\n",
    "       for s in d[\"spans\"]])"
   ]
  },
  {
   "cell_type": "code",
   "execution_count": 6,
   "metadata": {},
   "outputs": [
    {
     "data": {
      "text/plain": [
       "(5000, 4966)"
      ]
     },
     "execution_count": 6,
     "metadata": {},
     "output_type": "execute_result"
    }
   ],
   "source": [
    "len(data), len(data_with_span)"
   ]
  },
  {
   "cell_type": "code",
   "execution_count": 16,
   "metadata": {},
   "outputs": [],
   "source": [
    "_base_annotation = { \"user\": \"BVE\", \n",
    "                    \"cui\": 1, \n",
    "                    \"start\": 1,\n",
    "                    \"end\": 2, \n",
    "                    \"value\": \"value1\",\n",
    "                    \"validated\": True,\n",
    "                    \"correct\": True,\n",
    "                    \"deleted\": False,\n",
    "                    \"alternative\": False,\n",
    "                    \"killed\": False\n",
    "                }\n",
    "\n",
    "documents = []\n",
    "for idx, d in enumerate(data_with_span):\n",
    "    new_doc = {\"id\": idx,\n",
    "               \"name\": f\"doc_{idx}\", \n",
    "               \"text\": d[\"text\"], \n",
    "               \"annotations\":[]}\n",
    "    for jdx, span in enumerate(d['spans']):\n",
    "        base_annotation = _base_annotation.copy()\n",
    "        base_annotation['id'] = jdx\n",
    "        base_annotation['cui'] = jdx\n",
    "        base_annotation['start'] = span['start']\n",
    "        base_annotation['end'] = span['end']\n",
    "        base_annotation['value'] = d[\"text\"][span['start']:span['end']]\n",
    "        base_annotation['meta_anns'] = {\"LeftVentricleFunction\":{\n",
    "                                            \"name\": \"LeftVentricleFunction\",\n",
    "                                            \"validated\": True,\n",
    "                                            \"accuracy\": 1.0,\n",
    "                                            \"value\": span['label']\n",
    "                                        }\n",
    "                                      }\n",
    "        new_doc[\"annotations\"].append(base_annotation)\n",
    "    documents.append(new_doc)\n",
    "base_dict['projects'][0]['documents'] = documents"
   ]
  },
  {
   "cell_type": "code",
   "execution_count": 8,
   "metadata": {},
   "outputs": [],
   "source": [
    "# write out json file\n",
    "with open('metacat_outdb_140423.json', 'w') as f:\n",
    "    json.dump(base_dict, f)"
   ]
  },
  {
   "cell_type": "code",
   "execution_count": 9,
   "metadata": {},
   "outputs": [],
   "source": [
    "# read in json file with pandas\n",
    "df = pd.read_json('outdb_140423.jsonl', lines=True)\n",
    "df.reset_index().rename(columns={'index':'name'})[['name', 'text']].to_csv('outdb_140423_medcat.csv', index=False)"
   ]
  },
  {
   "cell_type": "code",
   "execution_count": 19,
   "metadata": {},
   "outputs": [
    {
     "data": {
      "text/plain": [
       "{'id': 14,\n",
       " 'name': 'doc_14',\n",
       " 'text': \"Borderline dilated LV with mild LV dysfunction; 3D LVEF :47%. Diastolic dysfunction grade I(a); E/E'= 3-4. Dilated atria. Mild M. Normal AoV function.\\r\\nDilated RV  (RVEDD 44 mm); Normal RV function. Homograft in PV position with moderate stenosis; PA V2 max: 378 cm/sec; PA max PG: 57 mmHg; PA mean PG: 29 mmHg; (prev Vmax was 339 cm/sec on 7/10/2020); Mild PR, mild TR; Vmax 330cm/s IVC normal in size and collapsing well. Estimated RVSP 46 mmHg.\\r\\n\\r\\nConclusie: borderline gedilateerde LV en RV met redelijke functie. Pulmonalishomograft met matige PS en spoor PI. Langzaam toename gradient over PVR tov 2019-2020.\",\n",
       " 'annotations': [{'user': 'BVE',\n",
       "   'cui': 0,\n",
       "   'start': 19,\n",
       "   'end': 46,\n",
       "   'value': 'LV with mild LV dysfunction',\n",
       "   'validated': True,\n",
       "   'correct': True,\n",
       "   'deleted': False,\n",
       "   'alternative': False,\n",
       "   'killed': False,\n",
       "   'id': 0,\n",
       "   'meta_anns': {'LeftVentricleFunction': {'name': 'LeftVentricleFunction',\n",
       "     'validated': True,\n",
       "     'accuracy': 1.0,\n",
       "     'value': 'lv_sys_func_mild'}}},\n",
       "  {'user': 'BVE',\n",
       "   'cui': 1,\n",
       "   'start': 48,\n",
       "   'end': 60,\n",
       "   'value': '3D LVEF :47%',\n",
       "   'validated': True,\n",
       "   'correct': True,\n",
       "   'deleted': False,\n",
       "   'alternative': False,\n",
       "   'killed': False,\n",
       "   'id': 1,\n",
       "   'meta_anns': {'LeftVentricleFunction': {'name': 'LeftVentricleFunction',\n",
       "     'validated': True,\n",
       "     'accuracy': 1.0,\n",
       "     'value': 'lv_sys_func_mild'}}}]}"
      ]
     },
     "execution_count": 19,
     "metadata": {},
     "output_type": "execute_result"
    }
   ],
   "source": [
    "base_dict['projects'][0]['documents'][14]"
   ]
  },
  {
   "cell_type": "code",
   "execution_count": null,
   "metadata": {},
   "outputs": [],
   "source": []
  }
 ],
 "metadata": {
  "kernelspec": {
   "display_name": "base_310",
   "language": "python",
   "name": "python3"
  },
  "language_info": {
   "codemirror_mode": {
    "name": "ipython",
    "version": 3
   },
   "file_extension": ".py",
   "mimetype": "text/x-python",
   "name": "python",
   "nbconvert_exporter": "python",
   "pygments_lexer": "ipython3",
   "version": "3.10.5"
  },
  "orig_nbformat": 4
 },
 "nbformat": 4,
 "nbformat_minor": 2
}
