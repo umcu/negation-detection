{
 "cells": [
  {
   "cell_type": "markdown",
   "metadata": {},
   "source": [
    "# MetaCAT - Training biLSTM"
   ]
  },
  {
   "cell_type": "code",
   "execution_count": 11,
   "metadata": {},
   "outputs": [],
   "source": [
    "import numpy as np\n",
    "from medcat.tokenizers.meta_cat_tokenizers import TokenizerWrapperBPE\n",
    "from pathlib import Path\n",
    "from medcat.meta_cat import MetaCAT\n",
    "import json"
   ]
  },
  {
   "cell_type": "code",
   "execution_count": 12,
   "metadata": {},
   "outputs": [],
   "source": [
    "# Input\n",
    "data_dir = Path.cwd().parents[0] / 'data'\n",
    "annotation_file = data_dir / 'emc-dcc_ann.json'\n",
    "split_list_file = data_dir / 'split_list.json'\n",
    "model_dir = Path.cwd().parents[0] / 'models' / 'bilstm'\n",
    "embeddings_file = model_dir / 'embeddings.npy'\n",
    "\n",
    "# Output\n",
    "annotations_split_dir = data_dir / 'annotations_split'\n",
    "models_split_dir = model_dir / 'model_splits'\n",
    "\n",
    "# Create output dir\n",
    "annotations_split_dir.mkdir(exist_ok=True)\n",
    "split_model_dir.mkdir(exist_ok=True)"
   ]
  },
  {
   "cell_type": "markdown",
   "metadata": {},
   "source": [
    "## Load Tokenizer and embeddings matrix"
   ]
  },
  {
   "cell_type": "code",
   "execution_count": 13,
   "metadata": {},
   "outputs": [],
   "source": [
    "tokenizer = TokenizerWrapperBPE.load(model_dir)\n",
    "embeddings = np.load(embeddings_file)"
   ]
  },
  {
   "cell_type": "markdown",
   "metadata": {},
   "source": [
    "## Split annotation file"
   ]
  },
  {
   "cell_type": "code",
   "execution_count": 15,
   "metadata": {
    "scrolled": true
   },
   "outputs": [],
   "source": [
    "# Load annotated data\n",
    "with open(annotation_file) as f:\n",
    "    annotations = json.load(f)\n",
    "    \n",
    "# Load split lists\n",
    "with open(split_list_file) as f:\n",
    "    split_lists = json.load(f)\n",
    "\n",
    "split_list = split_lists[0]\n"
   ]
  },
  {
   "cell_type": "code",
   "execution_count": 16,
   "metadata": {},
   "outputs": [],
   "source": [
    "train_annotations = []\n",
    "test_annotations = []\n",
    "                         \n",
    "for document in annotations['projects'][0]['documents']:\n",
    "    if document['name'] in split_list['train']:\n",
    "        train_annotations.append(document)\n",
    "    elif document['name'] in split_list['test']:\n",
    "        test_annotations.append(document)\n",
    "#     else:\n",
    "#         print(f'{document[\"name\"]} not found in either train or test')\n",
    "\n",
    "# Create an annotation file for the split following MetaCAT's annotation format\n",
    "project_train_annotations = {'projects': [{'documents': train_annotations}]}\n",
    "project_test_annotations = {'projects': [{'documents': test_annotations}]}\n",
    "\n",
    "# Write output files\n",
    "train_output_file = annotations_split_dir / f'train_annotations_{split_list[\"split_id\"]}.json'\n",
    "with open(train_output_file, \"w\") as fp:\n",
    "    json.dump(project_train_annotations, fp)\n",
    "    \n",
    "test_output_file = annotations_split_dir / f'test_annotations_{split_list[\"split_id\"]}.json'\n",
    "with open(test_output_file, \"w\") as fp:\n",
    "    json.dump(project_test_annotations, fp)"
   ]
  },
  {
   "cell_type": "markdown",
   "metadata": {},
   "source": [
    "## Train biLSTM from training sets"
   ]
  },
  {
   "cell_type": "code",
   "execution_count": 17,
   "metadata": {},
   "outputs": [],
   "source": [
    "from medcat.config_meta_cat import ConfigMetaCAT\n",
    "config_metacat = ConfigMetaCAT()\n",
    "config_metacat.general['category_name'] = 'Negation'\n",
    "config_metacat.train['nepochs'] = 2"
   ]
  },
  {
   "cell_type": "code",
   "execution_count": 18,
   "metadata": {},
   "outputs": [
    {
     "name": "stdout",
     "output_type": "stream",
     "text": [
      "/Users/stan3/Data/negation-detection/data/annotations_split/train_annotations_0.json\n"
     ]
    }
   ],
   "source": [
    "for train_file in annotations_split_dir.rglob(\"train_annotations_*.json\"):\n",
    "    print(train_file)\n",
    "    split_id = train_file.stem.split('_')[2]\n",
    "    split_dir = split_model_dir / split_id\n",
    "    split_dir.mkdir(exist_ok=True)\n",
    "    \n",
    "    # Initiate MetaCAT\n",
    "    mc_negation = MetaCAT(tokenizer=tokenizer, config=config_metacat)"
   ]
  },
  {
   "cell_type": "code",
   "execution_count": 19,
   "metadata": {},
   "outputs": [
    {
     "name": "stdout",
     "output_type": "stream",
     "text": [
      "Epoch: 0 **************************************************  Train\n",
      "              precision    recall  f1-score   support\n",
      "\n",
      "           0       0.87      0.71      0.78      1407\n",
      "           1       0.95      0.98      0.97      8717\n",
      "\n",
      "    accuracy                           0.94     10124\n",
      "   macro avg       0.91      0.85      0.88     10124\n",
      "weighted avg       0.94      0.94      0.94     10124\n",
      "\n",
      "Epoch: 0 **************************************************  Test\n",
      "              precision    recall  f1-score   support\n",
      "\n",
      "           0       1.00      0.76      0.87       164\n",
      "           1       0.96      1.00      0.98       960\n",
      "\n",
      "    accuracy                           0.97      1124\n",
      "   macro avg       0.98      0.88      0.92      1124\n",
      "weighted avg       0.97      0.97      0.96      1124\n",
      "\n",
      "\n",
      "##### Model saved to /Users/stan3/Data/negation-detection/models/bilstm/model_splits/model.dat at epoch: 0 and f1: 0.9633066907297615 #####\n",
      "\n",
      "Epoch: 1 **************************************************  Train\n",
      "              precision    recall  f1-score   support\n",
      "\n",
      "           0       0.95      0.91      0.93      1407\n",
      "           1       0.99      0.99      0.99      8717\n",
      "\n",
      "    accuracy                           0.98     10124\n",
      "   macro avg       0.97      0.95      0.96     10124\n",
      "weighted avg       0.98      0.98      0.98     10124\n",
      "\n",
      "Epoch: 1 **************************************************  Test\n",
      "              precision    recall  f1-score   support\n",
      "\n",
      "           0       0.91      0.89      0.90       164\n",
      "           1       0.98      0.99      0.98       960\n",
      "\n",
      "    accuracy                           0.97      1124\n",
      "   macro avg       0.95      0.94      0.94      1124\n",
      "weighted avg       0.97      0.97      0.97      1124\n",
      "\n",
      "\n",
      "##### Model saved to /Users/stan3/Data/negation-detection/models/bilstm/model_splits/model.dat at epoch: 1 and f1: 0.9713841042429417 #####\n",
      "\n"
     ]
    }
   ],
   "source": [
    "            # Train model\n",
    "results = mc_negation.train(json_path=train_file, save_dir_path=models_split_dir)"
   ]
  },
  {
   "cell_type": "code",
   "execution_count": 20,
   "metadata": {},
   "outputs": [
    {
     "name": "stdout",
     "output_type": "stream",
     "text": [
      "D:/Repositories/negation-detection/data/annotations_split/test_annotations_0.json\n"
     ]
    }
   ],
   "source": [
    "test_file = Path('D:/Repositories/negation-detection/data/annotations_split/test_annotations_0.json')\n",
    "print(test_file)"
   ]
  },
  {
   "cell_type": "code",
   "execution_count": 21,
   "metadata": {},
   "outputs": [
    {
     "ename": "FileNotFoundError",
     "evalue": "[Errno 2] No such file or directory: 'D:/Repositories/negation-detection/data/annotations_split/test_annotations_0.json'",
     "output_type": "error",
     "traceback": [
      "\u001b[0;31m---------------------------------------------------------------------------\u001b[0m",
      "\u001b[0;31mFileNotFoundError\u001b[0m                         Traceback (most recent call last)",
      "\u001b[0;32m<ipython-input-21-36711b9a2269>\u001b[0m in \u001b[0;36m<module>\u001b[0;34m\u001b[0m\n\u001b[0;32m----> 1\u001b[0;31m \u001b[0mresult\u001b[0m \u001b[0;34m=\u001b[0m \u001b[0mmc_negation\u001b[0m\u001b[0;34m.\u001b[0m\u001b[0meval\u001b[0m\u001b[0;34m(\u001b[0m\u001b[0mjson_path\u001b[0m\u001b[0;34m=\u001b[0m\u001b[0mtest_file\u001b[0m\u001b[0;34m)\u001b[0m\u001b[0;34m\u001b[0m\u001b[0;34m\u001b[0m\u001b[0m\n\u001b[0m",
      "\u001b[0;32m~/Data/MedCAT/medcat/meta_cat.py\u001b[0m in \u001b[0;36meval\u001b[0;34m(self, json_path)\u001b[0m\n\u001b[1;32m    127\u001b[0m         \u001b[0mt_config\u001b[0m \u001b[0;34m=\u001b[0m \u001b[0mself\u001b[0m\u001b[0;34m.\u001b[0m\u001b[0mconfig\u001b[0m\u001b[0;34m.\u001b[0m\u001b[0mtrain\u001b[0m\u001b[0;34m\u001b[0m\u001b[0;34m\u001b[0m\u001b[0m\n\u001b[1;32m    128\u001b[0m \u001b[0;34m\u001b[0m\u001b[0m\n\u001b[0;32m--> 129\u001b[0;31m         \u001b[0;32mwith\u001b[0m \u001b[0mopen\u001b[0m\u001b[0;34m(\u001b[0m\u001b[0mjson_path\u001b[0m\u001b[0;34m,\u001b[0m \u001b[0;34m'r'\u001b[0m\u001b[0;34m)\u001b[0m \u001b[0;32mas\u001b[0m \u001b[0mf\u001b[0m\u001b[0;34m:\u001b[0m\u001b[0;34m\u001b[0m\u001b[0;34m\u001b[0m\u001b[0m\n\u001b[0m\u001b[1;32m    130\u001b[0m             \u001b[0mdata\u001b[0m \u001b[0;34m=\u001b[0m \u001b[0mjson\u001b[0m\u001b[0;34m.\u001b[0m\u001b[0mload\u001b[0m\u001b[0;34m(\u001b[0m\u001b[0mf\u001b[0m\u001b[0;34m)\u001b[0m\u001b[0;34m\u001b[0m\u001b[0;34m\u001b[0m\u001b[0m\n\u001b[1;32m    131\u001b[0m \u001b[0;34m\u001b[0m\u001b[0m\n",
      "\u001b[0;31mFileNotFoundError\u001b[0m: [Errno 2] No such file or directory: 'D:/Repositories/negation-detection/data/annotations_split/test_annotations_0.json'"
     ]
    }
   ],
   "source": [
    "result = mc_negation.eval(json_path=test_file)"
   ]
  },
  {
   "cell_type": "code",
   "execution_count": 71,
   "metadata": {},
   "outputs": [
    {
     "data": {
      "text/plain": [
       "23"
      ]
     },
     "execution_count": 71,
     "metadata": {},
     "output_type": "execute_result"
    }
   ],
   "source": [
    "len(result['examples']['FP']['negated'])"
   ]
  },
  {
   "cell_type": "code",
   "execution_count": null,
   "metadata": {},
   "outputs": [],
   "source": []
  }
 ],
 "metadata": {
  "kernelspec": {
   "display_name": "Python 3",
   "language": "python",
   "name": "python3"
  },
  "language_info": {
   "codemirror_mode": {
    "name": "ipython",
    "version": 3
   },
   "file_extension": ".py",
   "mimetype": "text/x-python",
   "name": "python",
   "nbconvert_exporter": "python",
   "pygments_lexer": "ipython3",
   "version": "3.8.5"
  }
 },
 "nbformat": 4,
 "nbformat_minor": 2
}
