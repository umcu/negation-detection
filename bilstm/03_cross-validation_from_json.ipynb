{
 "cells": [
  {
   "cell_type": "markdown",
   "metadata": {},
   "source": [
    "# Training and testing using cross-validation\n",
    "This notebook uses predefined subsets of examples to train and test models.|"
   ]
  },
  {
   "cell_type": "code",
   "execution_count": null,
   "metadata": {},
   "outputs": [],
   "source": [
    "import json\n",
    "import numpy as np\n",
    "import pandas as pd\n",
    "from utils import evaluate_per_example\n",
    "from medcat.tokenizers.meta_cat_tokenizers import TokenizerWrapperBPE\n",
    "from medcat.config_meta_cat import ConfigMetaCAT\n",
    "from medcat.meta_cat import MetaCAT\n",
    "from pathlib import Path"
   ]
  },
  {
   "cell_type": "code",
   "execution_count": 75,
   "metadata": {},
   "outputs": [],
   "source": [
    "# Configure MetaCAT\n",
    "CLASS = 'Temporality'\n",
    "AVG = 'micro' # binary or micro\n",
    "config_metacat = ConfigMetaCAT()\n",
    "config_metacat.general['category_name'] = CLASS\n",
    "config_metacat.train['nepochs'] = 10\n",
    "config_metacat.train['score_average'] = AVG\n",
    "config_metacat.model['n_classes'] = 3\n",
    "\n",
    "# Input\n",
    "data_dir = Path.cwd().parents[0] / 'data'\n",
    "annotation_file = data_dir / 'emc-dcc_ann_Augmented.json'\n",
    "model_dir = Path.cwd().parents[0] / 'models' / 'bilstm'\n",
    "embeddings_file = model_dir / 'embeddings.npy'\n",
    "\n",
    "# Output\n",
    "annotations_split_dir = data_dir / 'annotations_split'\n",
    "models_split_dir = model_dir / 'model_splits' / CLASS\n",
    "result_dir = Path.cwd().parents[0] / 'results'\n",
    "score_result_file = result_dir / 'bilstm_scores_cv_augmented.csv.gz'\n",
    "predictions_result_file = result_dir / 'bilstm_predictions_cv_augmented.csv.gz'\n",
    "\n",
    "# Create output dirs\n",
    "annotations_split_dir.mkdir(exist_ok=True)\n",
    "models_split_dir.mkdir(exist_ok=True)\n",
    "\n",
    "# num folds\n",
    "n_folds = 10\n",
    "group = 'name'\n"
   ]
  },
  {
   "cell_type": "markdown",
   "metadata": {},
   "source": [
    "## Load tokenizer and embeddings matrix\n",
    "Load a project-wide tokenizer and embeddings matrix which are created in `01_tokenizer_embeddings.ipynb`."
   ]
  },
  {
   "cell_type": "code",
   "execution_count": 76,
   "metadata": {},
   "outputs": [],
   "source": [
    "tokenizer = TokenizerWrapperBPE.load(model_dir)\n",
    "embeddings = np.load(embeddings_file)"
   ]
  },
  {
   "cell_type": "markdown",
   "metadata": {},
   "source": [
    "## Extract folds"
   ]
  },
  {
   "cell_type": "code",
   "execution_count": 77,
   "metadata": {},
   "outputs": [],
   "source": [
    "annotations = json.load(open(annotation_file, 'r'))"
   ]
  },
  {
   "cell_type": "code",
   "execution_count": 78,
   "metadata": {},
   "outputs": [],
   "source": [
    "names = [d['name'] for d in annotations['projects'][0]['documents']]\n",
    "groups = [n.split(\"|\")[0] for n in names]"
   ]
  },
  {
   "cell_type": "code",
   "execution_count": 79,
   "metadata": {},
   "outputs": [],
   "source": [
    "from sklearn.model_selection import GroupKFold"
   ]
  },
  {
   "cell_type": "code",
   "execution_count": 80,
   "metadata": {},
   "outputs": [
    {
     "data": {
      "text/plain": [
       "10"
      ]
     },
     "execution_count": 80,
     "metadata": {},
     "output_type": "execute_result"
    }
   ],
   "source": [
    "Splitter = GroupKFold(n_splits=n_folds)\n",
    "Texts = [d['text'] for d in annotations['projects'][0]['documents']]\n",
    "Splitter.get_n_splits(Texts)"
   ]
  },
  {
   "cell_type": "code",
   "execution_count": 81,
   "metadata": {},
   "outputs": [],
   "source": [
    "annotations_train = {'projects': [{'name': 'emc-dcc-synthAug', 'documents': []}]}\n",
    "annotations_test = {'projects': [{'name': 'emc-dcc-synthAug', 'documents': []}]}\n",
    "for i, (train_index, test_index) in enumerate(Splitter.split(Texts, groups=groups)):\n",
    "    # collect train and test data\n",
    "    \n",
    "    annotations_train['projects'][0]['documents'] = [annotations['projects'][0]['documents'][i] for i in train_index]\n",
    "    annotations_test['projects'][0]['documents'] = [annotations['projects'][0]['documents'][i] for i in test_index]\n",
    "        \n",
    "    # write train and test data to file\n",
    "    fname_train = annotations_split_dir / f'train_annotations_{i}.json'\n",
    "    fname_test = annotations_split_dir / f'test_annotations_{i}.json'\n",
    "    json.dump(annotations_train, open(fname_train, 'w'))\n",
    "    json.dump(annotations_test, open(fname_test, 'w'))"
   ]
  },
  {
   "cell_type": "markdown",
   "metadata": {},
   "source": [
    "## Train and test on folds\n",
    "Per fold, a MetaCAT model is trained and tested. Testing is done using MetaCAT's eval() function, which contains functionality to evaluate the model on a testset and returns a dictionary with scores and examples, but does not include the example ID, which we use to compare examples between different methods. Therefor we use a different evaluation function later in this notebook."
   ]
  },
  {
   "cell_type": "code",
   "execution_count": 91,
   "metadata": {},
   "outputs": [
    {
     "data": {
      "text/plain": [
       "[('Predicted: recent, True: hypothetical',\n",
       "  'angst voor <<ontsteking>>  heup heup re litteken, zwelling thv trochan'),\n",
       " ('Predicted: recent, True: hypothetical',\n",
       "  'statusnummer : xxxxxx   vraagstelling : <<melanoom>> .\\n~@@~ ct thorax '),\n",
       " ('Predicted: recent, True: hypothetical',\n",
       "  '-intestinale bijwerkingen, leverfunctiestoornissen, beenmergsuppressie, mtx- <<p>> neumonitis (gekenmerkt door droge hoest'),\n",
       " ('Predicted: recent, True: hypothetical',\n",
       "  'pressie, mtx-pneumonitis (gekenmerkt door <<droge>>  hoest, koorts en dyspnoe).\\nd'),\n",
       " ('Predicted: recent, True: hypothetical',\n",
       "  'tx-pneumonitis (gekenmerkt door droge hoest, <<koorts>>  en dyspnoe).\\ndaarom wordt foliumzuur'),\n",
       " ('Predicted: recent, True: hypothetical',\n",
       "  '-pneumonitis (gekenmerkt door droge hoest, koorts en <<dysp>> noe).\\ndaarom wordt foliumzuur bij start'),\n",
       " ('Predicted: recent, True: hypothetical',\n",
       "  'oprim of co-trimoxazol in verband met het risico van <<p>> ancytopenie.\\n'),\n",
       " ('Predicted: recent, True: hypothetical',\n",
       "  ': bezorgdheid voor <<oste>> onecrose in het kniegewricht, geen palpatiepijn'),\n",
       " ('Predicted: recent, True: hypothetical',\n",
       "  ': bekommernis over <<pathologische>>  fractuur van de pols, lokaal een blauwe plek,'),\n",
       " ('Predicted: recent, True: hypothetical',\n",
       "  ': vrees voor <<litteken>> breuk in het operatiegebied, geen erytheem of'),\n",
       " ('Predicted: recent, True: hypothetical',\n",
       "  ' is er nog steeds een residuale zwelling zichtbaar. patiënt vreest voor <<a>> septische loslating van de knieprothese.'),\n",
       " ('Predicted: recent, True: hypothetical',\n",
       "  ' hematoom opgelost, maar blijft een milde zwelling zichtbaar.\\ncliënt angstig voor <<oste>> omyelitis bij de geplaatste schroeven.'),\n",
       " ('Predicted: recent, True: hypothetical',\n",
       "  ': vrees voor <<spieratrofie>>  na immobilisatie van het onderbeen, mild oedeem rond de'),\n",
       " ('Predicted: recent, True: hypothetical',\n",
       "  ': bezorgdheid over <<gewricht>> seffusie in de rechterknie, pijn'),\n",
       " ('Predicted: recent, True: hypothetical',\n",
       "  ': statusnummer : xxxxxx vraagstelling : <<long>> carcinoom.\\n~@@~ ct thorax'),\n",
       " ('Predicted: recent, True: hypothetical',\n",
       "  ': statusnummer : xxxxxx   vraagstelling : <<oste>> osarcoom.\\n~@@~ mri bekken'),\n",
       " ('Predicted: recent, True: hypothetical',\n",
       "  ': statusnummer : xxxxxx   vraagstelling : <<h>> odgkinlymfoom.\\n~@@~ ct'),\n",
       " ('Predicted: recent, True: hypothetical',\n",
       "  ': statusnummer : xxxxxx   vraagstelling : <<pancreas>> kopcarcinoom.\\n~@@~ ct'),\n",
       " ('Predicted: recent, True: hypothetical',\n",
       "  ': statusnummer: xxxxxx   vraagstelling: <<pancreas>> kopcarcinoom. ~@@~ mri'),\n",
       " ('Predicted: recent, True: hypothetical',\n",
       "  ': statusnummer : xxxxxx   vraagstelling : <<pancreas>> carcinoom.\\n~@@~ mri ab'),\n",
       " ('Predicted: recent, True: hypothetical',\n",
       "  ': statusnummer : xxxxxx   vraagstelling : <<pancreas>> kopcarcinoom.\\n~@@~ mri'),\n",
       " ('Predicted: recent, True: hypothetical',\n",
       "  ': statusnummer : xxxxxx   vraagstelling : <<pancreas>> carcinoom.\\n~@@~ mri ab'),\n",
       " ('Predicted: recent, True: hypothetical',\n",
       "  ': statusnummer : xxxxxx   vraagstelling : <<pancreas>> carcinoom.\\n~@@~ mri ab'),\n",
       " ('Predicted: recent, True: hypothetical',\n",
       "  'iximab-geïnduceerde lupus (gekarakteriseerd door gewrichtspijn, <<huid>> laesies en malaise).\\nconsequent wordt'),\n",
       " ('Predicted: recent, True: hypothetical',\n",
       "  ': diagnose: <<dermat>> omyositis.\\ner is een spiertenderheid'),\n",
       " ('Predicted: recent, True: hypothetical',\n",
       "  ' van gabapentine zijn: cognitieve disfunctie, perifeer oedeem, gewichtstoename, <<ataxie>> .\\ndaarom wordt ook leefstijlaanpass'),\n",
       " ('Predicted: recent, True: hypothetical',\n",
       "  'opathie, gastro-intestinale klachten, myopathie, bloedbeeldafwijkingen, en <<cardi>> omyopathie (gekenmerkt door vermoeidheid, palpit'),\n",
       " ('Predicted: recent, True: hypothetical',\n",
       "  ', en cardiomyopathie (gekenmerkt door vermoeidheid, palpitaties en <<kortademigheid>> ).\\ndaarom wordt aanvullend oogonderzoek geadviseerd en'),\n",
       " ('Predicted: recent, True: hypothetical',\n",
       "  'duceerde pneumonitis (gekenmerkt door productieve hoest, febr <<is>>  en dyspneu).\\ndaarom wordt foliumzuursup'),\n",
       " ('Predicted: recent, True: hypothetical',\n",
       "  'itis (gekenmerkt door productieve hoest, febris en dysp <<neu>> ).\\ndaarom wordt foliumzuursupplementatie geadviseerd')]"
      ]
     },
     "execution_count": 91,
     "metadata": {},
     "output_type": "execute_result"
    }
   ],
   "source": [
    "test_results['examples']['FN']['hypothetical']"
   ]
  },
  {
   "cell_type": "code",
   "execution_count": 82,
   "metadata": {},
   "outputs": [
    {
     "name": "stdout",
     "output_type": "stream",
     "text": [
      "\\\\ds\\data\\LAB\\laupodteam\\AIOS\\Bram\\notebooks\\code_dev\\negation-detection\\data\\annotations_split\\train_annotations_0.json\n"
     ]
    },
    {
     "name": "stderr",
     "output_type": "stream",
     "text": [
      "c:\\Users\\bes3\\VIRTUALENVS\\nlp\\lib\\site-packages\\sklearn\\metrics\\_classification.py:1469: UndefinedMetricWarning: Precision and F-score are ill-defined and being set to 0.0 in labels with no predicted samples. Use `zero_division` parameter to control this behavior.\n",
      "  _warn_prf(average, modifier, msg_start, len(result))\n",
      "c:\\Users\\bes3\\VIRTUALENVS\\nlp\\lib\\site-packages\\sklearn\\metrics\\_classification.py:1469: UndefinedMetricWarning: Precision and F-score are ill-defined and being set to 0.0 in labels with no predicted samples. Use `zero_division` parameter to control this behavior.\n",
      "  _warn_prf(average, modifier, msg_start, len(result))\n",
      "c:\\Users\\bes3\\VIRTUALENVS\\nlp\\lib\\site-packages\\sklearn\\metrics\\_classification.py:1469: UndefinedMetricWarning: Precision and F-score are ill-defined and being set to 0.0 in labels with no predicted samples. Use `zero_division` parameter to control this behavior.\n",
      "  _warn_prf(average, modifier, msg_start, len(result))\n",
      "c:\\Users\\bes3\\VIRTUALENVS\\nlp\\lib\\site-packages\\sklearn\\metrics\\_classification.py:1469: UndefinedMetricWarning: Precision and F-score are ill-defined and being set to 0.0 in labels with no predicted samples. Use `zero_division` parameter to control this behavior.\n",
      "  _warn_prf(average, modifier, msg_start, len(result))\n",
      "c:\\Users\\bes3\\VIRTUALENVS\\nlp\\lib\\site-packages\\sklearn\\metrics\\_classification.py:1469: UndefinedMetricWarning: Precision and F-score are ill-defined and being set to 0.0 in labels with no predicted samples. Use `zero_division` parameter to control this behavior.\n",
      "  _warn_prf(average, modifier, msg_start, len(result))\n",
      "c:\\Users\\bes3\\VIRTUALENVS\\nlp\\lib\\site-packages\\sklearn\\metrics\\_classification.py:1469: UndefinedMetricWarning: Precision and F-score are ill-defined and being set to 0.0 in labels with no predicted samples. Use `zero_division` parameter to control this behavior.\n",
      "  _warn_prf(average, modifier, msg_start, len(result))\n",
      "c:\\Users\\bes3\\VIRTUALENVS\\nlp\\lib\\site-packages\\sklearn\\metrics\\_classification.py:1469: UndefinedMetricWarning: Precision and F-score are ill-defined and being set to 0.0 in labels with no predicted samples. Use `zero_division` parameter to control this behavior.\n",
      "  _warn_prf(average, modifier, msg_start, len(result))\n",
      "c:\\Users\\bes3\\VIRTUALENVS\\nlp\\lib\\site-packages\\sklearn\\metrics\\_classification.py:1469: UndefinedMetricWarning: Precision and F-score are ill-defined and being set to 0.0 in labels with no predicted samples. Use `zero_division` parameter to control this behavior.\n",
      "  _warn_prf(average, modifier, msg_start, len(result))\n",
      "c:\\Users\\bes3\\VIRTUALENVS\\nlp\\lib\\site-packages\\sklearn\\metrics\\_classification.py:1469: UndefinedMetricWarning: Precision and F-score are ill-defined and being set to 0.0 in labels with no predicted samples. Use `zero_division` parameter to control this behavior.\n",
      "  _warn_prf(average, modifier, msg_start, len(result))\n"
     ]
    },
    {
     "name": "stdout",
     "output_type": "stream",
     "text": [
      "\\\\ds\\data\\LAB\\laupodteam\\AIOS\\Bram\\notebooks\\code_dev\\negation-detection\\data\\annotations_split\\train_annotations_1.json\n"
     ]
    },
    {
     "name": "stderr",
     "output_type": "stream",
     "text": [
      "c:\\Users\\bes3\\VIRTUALENVS\\nlp\\lib\\site-packages\\sklearn\\metrics\\_classification.py:1469: UndefinedMetricWarning: Precision and F-score are ill-defined and being set to 0.0 in labels with no predicted samples. Use `zero_division` parameter to control this behavior.\n",
      "  _warn_prf(average, modifier, msg_start, len(result))\n",
      "c:\\Users\\bes3\\VIRTUALENVS\\nlp\\lib\\site-packages\\sklearn\\metrics\\_classification.py:1469: UndefinedMetricWarning: Precision and F-score are ill-defined and being set to 0.0 in labels with no predicted samples. Use `zero_division` parameter to control this behavior.\n",
      "  _warn_prf(average, modifier, msg_start, len(result))\n",
      "c:\\Users\\bes3\\VIRTUALENVS\\nlp\\lib\\site-packages\\sklearn\\metrics\\_classification.py:1469: UndefinedMetricWarning: Precision and F-score are ill-defined and being set to 0.0 in labels with no predicted samples. Use `zero_division` parameter to control this behavior.\n",
      "  _warn_prf(average, modifier, msg_start, len(result))\n",
      "c:\\Users\\bes3\\VIRTUALENVS\\nlp\\lib\\site-packages\\sklearn\\metrics\\_classification.py:1469: UndefinedMetricWarning: Precision and F-score are ill-defined and being set to 0.0 in labels with no predicted samples. Use `zero_division` parameter to control this behavior.\n",
      "  _warn_prf(average, modifier, msg_start, len(result))\n",
      "c:\\Users\\bes3\\VIRTUALENVS\\nlp\\lib\\site-packages\\sklearn\\metrics\\_classification.py:1469: UndefinedMetricWarning: Precision and F-score are ill-defined and being set to 0.0 in labels with no predicted samples. Use `zero_division` parameter to control this behavior.\n",
      "  _warn_prf(average, modifier, msg_start, len(result))\n",
      "c:\\Users\\bes3\\VIRTUALENVS\\nlp\\lib\\site-packages\\sklearn\\metrics\\_classification.py:1469: UndefinedMetricWarning: Precision and F-score are ill-defined and being set to 0.0 in labels with no predicted samples. Use `zero_division` parameter to control this behavior.\n",
      "  _warn_prf(average, modifier, msg_start, len(result))\n",
      "c:\\Users\\bes3\\VIRTUALENVS\\nlp\\lib\\site-packages\\sklearn\\metrics\\_classification.py:1469: UndefinedMetricWarning: Precision and F-score are ill-defined and being set to 0.0 in labels with no predicted samples. Use `zero_division` parameter to control this behavior.\n",
      "  _warn_prf(average, modifier, msg_start, len(result))\n",
      "c:\\Users\\bes3\\VIRTUALENVS\\nlp\\lib\\site-packages\\sklearn\\metrics\\_classification.py:1469: UndefinedMetricWarning: Precision and F-score are ill-defined and being set to 0.0 in labels with no predicted samples. Use `zero_division` parameter to control this behavior.\n",
      "  _warn_prf(average, modifier, msg_start, len(result))\n",
      "c:\\Users\\bes3\\VIRTUALENVS\\nlp\\lib\\site-packages\\sklearn\\metrics\\_classification.py:1469: UndefinedMetricWarning: Precision and F-score are ill-defined and being set to 0.0 in labels with no predicted samples. Use `zero_division` parameter to control this behavior.\n",
      "  _warn_prf(average, modifier, msg_start, len(result))\n"
     ]
    },
    {
     "name": "stdout",
     "output_type": "stream",
     "text": [
      "\\\\ds\\data\\LAB\\laupodteam\\AIOS\\Bram\\notebooks\\code_dev\\negation-detection\\data\\annotations_split\\train_annotations_2.json\n"
     ]
    },
    {
     "name": "stderr",
     "output_type": "stream",
     "text": [
      "c:\\Users\\bes3\\VIRTUALENVS\\nlp\\lib\\site-packages\\sklearn\\metrics\\_classification.py:1469: UndefinedMetricWarning: Precision and F-score are ill-defined and being set to 0.0 in labels with no predicted samples. Use `zero_division` parameter to control this behavior.\n",
      "  _warn_prf(average, modifier, msg_start, len(result))\n",
      "c:\\Users\\bes3\\VIRTUALENVS\\nlp\\lib\\site-packages\\sklearn\\metrics\\_classification.py:1469: UndefinedMetricWarning: Precision and F-score are ill-defined and being set to 0.0 in labels with no predicted samples. Use `zero_division` parameter to control this behavior.\n",
      "  _warn_prf(average, modifier, msg_start, len(result))\n",
      "c:\\Users\\bes3\\VIRTUALENVS\\nlp\\lib\\site-packages\\sklearn\\metrics\\_classification.py:1469: UndefinedMetricWarning: Precision and F-score are ill-defined and being set to 0.0 in labels with no predicted samples. Use `zero_division` parameter to control this behavior.\n",
      "  _warn_prf(average, modifier, msg_start, len(result))\n",
      "c:\\Users\\bes3\\VIRTUALENVS\\nlp\\lib\\site-packages\\sklearn\\metrics\\_classification.py:1469: UndefinedMetricWarning: Precision and F-score are ill-defined and being set to 0.0 in labels with no predicted samples. Use `zero_division` parameter to control this behavior.\n",
      "  _warn_prf(average, modifier, msg_start, len(result))\n",
      "c:\\Users\\bes3\\VIRTUALENVS\\nlp\\lib\\site-packages\\sklearn\\metrics\\_classification.py:1469: UndefinedMetricWarning: Precision and F-score are ill-defined and being set to 0.0 in labels with no predicted samples. Use `zero_division` parameter to control this behavior.\n",
      "  _warn_prf(average, modifier, msg_start, len(result))\n",
      "c:\\Users\\bes3\\VIRTUALENVS\\nlp\\lib\\site-packages\\sklearn\\metrics\\_classification.py:1469: UndefinedMetricWarning: Precision and F-score are ill-defined and being set to 0.0 in labels with no predicted samples. Use `zero_division` parameter to control this behavior.\n",
      "  _warn_prf(average, modifier, msg_start, len(result))\n",
      "c:\\Users\\bes3\\VIRTUALENVS\\nlp\\lib\\site-packages\\sklearn\\metrics\\_classification.py:1469: UndefinedMetricWarning: Precision and F-score are ill-defined and being set to 0.0 in labels with no predicted samples. Use `zero_division` parameter to control this behavior.\n",
      "  _warn_prf(average, modifier, msg_start, len(result))\n",
      "c:\\Users\\bes3\\VIRTUALENVS\\nlp\\lib\\site-packages\\sklearn\\metrics\\_classification.py:1469: UndefinedMetricWarning: Precision and F-score are ill-defined and being set to 0.0 in labels with no predicted samples. Use `zero_division` parameter to control this behavior.\n",
      "  _warn_prf(average, modifier, msg_start, len(result))\n",
      "c:\\Users\\bes3\\VIRTUALENVS\\nlp\\lib\\site-packages\\sklearn\\metrics\\_classification.py:1469: UndefinedMetricWarning: Precision and F-score are ill-defined and being set to 0.0 in labels with no predicted samples. Use `zero_division` parameter to control this behavior.\n",
      "  _warn_prf(average, modifier, msg_start, len(result))\n"
     ]
    },
    {
     "name": "stdout",
     "output_type": "stream",
     "text": [
      "\\\\ds\\data\\LAB\\laupodteam\\AIOS\\Bram\\notebooks\\code_dev\\negation-detection\\data\\annotations_split\\train_annotations_3.json\n"
     ]
    },
    {
     "name": "stderr",
     "output_type": "stream",
     "text": [
      "c:\\Users\\bes3\\VIRTUALENVS\\nlp\\lib\\site-packages\\sklearn\\metrics\\_classification.py:1469: UndefinedMetricWarning: Precision and F-score are ill-defined and being set to 0.0 in labels with no predicted samples. Use `zero_division` parameter to control this behavior.\n",
      "  _warn_prf(average, modifier, msg_start, len(result))\n",
      "c:\\Users\\bes3\\VIRTUALENVS\\nlp\\lib\\site-packages\\sklearn\\metrics\\_classification.py:1469: UndefinedMetricWarning: Precision and F-score are ill-defined and being set to 0.0 in labels with no predicted samples. Use `zero_division` parameter to control this behavior.\n",
      "  _warn_prf(average, modifier, msg_start, len(result))\n",
      "c:\\Users\\bes3\\VIRTUALENVS\\nlp\\lib\\site-packages\\sklearn\\metrics\\_classification.py:1469: UndefinedMetricWarning: Precision and F-score are ill-defined and being set to 0.0 in labels with no predicted samples. Use `zero_division` parameter to control this behavior.\n",
      "  _warn_prf(average, modifier, msg_start, len(result))\n",
      "c:\\Users\\bes3\\VIRTUALENVS\\nlp\\lib\\site-packages\\sklearn\\metrics\\_classification.py:1469: UndefinedMetricWarning: Precision and F-score are ill-defined and being set to 0.0 in labels with no predicted samples. Use `zero_division` parameter to control this behavior.\n",
      "  _warn_prf(average, modifier, msg_start, len(result))\n",
      "c:\\Users\\bes3\\VIRTUALENVS\\nlp\\lib\\site-packages\\sklearn\\metrics\\_classification.py:1469: UndefinedMetricWarning: Precision and F-score are ill-defined and being set to 0.0 in labels with no predicted samples. Use `zero_division` parameter to control this behavior.\n",
      "  _warn_prf(average, modifier, msg_start, len(result))\n",
      "c:\\Users\\bes3\\VIRTUALENVS\\nlp\\lib\\site-packages\\sklearn\\metrics\\_classification.py:1469: UndefinedMetricWarning: Precision and F-score are ill-defined and being set to 0.0 in labels with no predicted samples. Use `zero_division` parameter to control this behavior.\n",
      "  _warn_prf(average, modifier, msg_start, len(result))\n",
      "c:\\Users\\bes3\\VIRTUALENVS\\nlp\\lib\\site-packages\\sklearn\\metrics\\_classification.py:1469: UndefinedMetricWarning: Precision and F-score are ill-defined and being set to 0.0 in labels with no predicted samples. Use `zero_division` parameter to control this behavior.\n",
      "  _warn_prf(average, modifier, msg_start, len(result))\n",
      "c:\\Users\\bes3\\VIRTUALENVS\\nlp\\lib\\site-packages\\sklearn\\metrics\\_classification.py:1469: UndefinedMetricWarning: Precision and F-score are ill-defined and being set to 0.0 in labels with no predicted samples. Use `zero_division` parameter to control this behavior.\n",
      "  _warn_prf(average, modifier, msg_start, len(result))\n",
      "c:\\Users\\bes3\\VIRTUALENVS\\nlp\\lib\\site-packages\\sklearn\\metrics\\_classification.py:1469: UndefinedMetricWarning: Precision and F-score are ill-defined and being set to 0.0 in labels with no predicted samples. Use `zero_division` parameter to control this behavior.\n",
      "  _warn_prf(average, modifier, msg_start, len(result))\n"
     ]
    },
    {
     "name": "stdout",
     "output_type": "stream",
     "text": [
      "\\\\ds\\data\\LAB\\laupodteam\\AIOS\\Bram\\notebooks\\code_dev\\negation-detection\\data\\annotations_split\\train_annotations_4.json\n"
     ]
    },
    {
     "name": "stderr",
     "output_type": "stream",
     "text": [
      "c:\\Users\\bes3\\VIRTUALENVS\\nlp\\lib\\site-packages\\sklearn\\metrics\\_classification.py:1469: UndefinedMetricWarning: Precision and F-score are ill-defined and being set to 0.0 in labels with no predicted samples. Use `zero_division` parameter to control this behavior.\n",
      "  _warn_prf(average, modifier, msg_start, len(result))\n",
      "c:\\Users\\bes3\\VIRTUALENVS\\nlp\\lib\\site-packages\\sklearn\\metrics\\_classification.py:1469: UndefinedMetricWarning: Precision and F-score are ill-defined and being set to 0.0 in labels with no predicted samples. Use `zero_division` parameter to control this behavior.\n",
      "  _warn_prf(average, modifier, msg_start, len(result))\n",
      "c:\\Users\\bes3\\VIRTUALENVS\\nlp\\lib\\site-packages\\sklearn\\metrics\\_classification.py:1469: UndefinedMetricWarning: Precision and F-score are ill-defined and being set to 0.0 in labels with no predicted samples. Use `zero_division` parameter to control this behavior.\n",
      "  _warn_prf(average, modifier, msg_start, len(result))\n",
      "c:\\Users\\bes3\\VIRTUALENVS\\nlp\\lib\\site-packages\\sklearn\\metrics\\_classification.py:1469: UndefinedMetricWarning: Precision and F-score are ill-defined and being set to 0.0 in labels with no predicted samples. Use `zero_division` parameter to control this behavior.\n",
      "  _warn_prf(average, modifier, msg_start, len(result))\n",
      "c:\\Users\\bes3\\VIRTUALENVS\\nlp\\lib\\site-packages\\sklearn\\metrics\\_classification.py:1469: UndefinedMetricWarning: Precision and F-score are ill-defined and being set to 0.0 in labels with no predicted samples. Use `zero_division` parameter to control this behavior.\n",
      "  _warn_prf(average, modifier, msg_start, len(result))\n",
      "c:\\Users\\bes3\\VIRTUALENVS\\nlp\\lib\\site-packages\\sklearn\\metrics\\_classification.py:1469: UndefinedMetricWarning: Precision and F-score are ill-defined and being set to 0.0 in labels with no predicted samples. Use `zero_division` parameter to control this behavior.\n",
      "  _warn_prf(average, modifier, msg_start, len(result))\n",
      "c:\\Users\\bes3\\VIRTUALENVS\\nlp\\lib\\site-packages\\sklearn\\metrics\\_classification.py:1469: UndefinedMetricWarning: Precision and F-score are ill-defined and being set to 0.0 in labels with no predicted samples. Use `zero_division` parameter to control this behavior.\n",
      "  _warn_prf(average, modifier, msg_start, len(result))\n",
      "c:\\Users\\bes3\\VIRTUALENVS\\nlp\\lib\\site-packages\\sklearn\\metrics\\_classification.py:1469: UndefinedMetricWarning: Precision and F-score are ill-defined and being set to 0.0 in labels with no predicted samples. Use `zero_division` parameter to control this behavior.\n",
      "  _warn_prf(average, modifier, msg_start, len(result))\n",
      "c:\\Users\\bes3\\VIRTUALENVS\\nlp\\lib\\site-packages\\sklearn\\metrics\\_classification.py:1469: UndefinedMetricWarning: Precision and F-score are ill-defined and being set to 0.0 in labels with no predicted samples. Use `zero_division` parameter to control this behavior.\n",
      "  _warn_prf(average, modifier, msg_start, len(result))\n"
     ]
    },
    {
     "name": "stdout",
     "output_type": "stream",
     "text": [
      "\\\\ds\\data\\LAB\\laupodteam\\AIOS\\Bram\\notebooks\\code_dev\\negation-detection\\data\\annotations_split\\train_annotations_5.json\n"
     ]
    },
    {
     "name": "stderr",
     "output_type": "stream",
     "text": [
      "c:\\Users\\bes3\\VIRTUALENVS\\nlp\\lib\\site-packages\\sklearn\\metrics\\_classification.py:1469: UndefinedMetricWarning: Precision and F-score are ill-defined and being set to 0.0 in labels with no predicted samples. Use `zero_division` parameter to control this behavior.\n",
      "  _warn_prf(average, modifier, msg_start, len(result))\n",
      "c:\\Users\\bes3\\VIRTUALENVS\\nlp\\lib\\site-packages\\sklearn\\metrics\\_classification.py:1469: UndefinedMetricWarning: Precision and F-score are ill-defined and being set to 0.0 in labels with no predicted samples. Use `zero_division` parameter to control this behavior.\n",
      "  _warn_prf(average, modifier, msg_start, len(result))\n",
      "c:\\Users\\bes3\\VIRTUALENVS\\nlp\\lib\\site-packages\\sklearn\\metrics\\_classification.py:1469: UndefinedMetricWarning: Precision and F-score are ill-defined and being set to 0.0 in labels with no predicted samples. Use `zero_division` parameter to control this behavior.\n",
      "  _warn_prf(average, modifier, msg_start, len(result))\n",
      "c:\\Users\\bes3\\VIRTUALENVS\\nlp\\lib\\site-packages\\sklearn\\metrics\\_classification.py:1469: UndefinedMetricWarning: Precision and F-score are ill-defined and being set to 0.0 in labels with no predicted samples. Use `zero_division` parameter to control this behavior.\n",
      "  _warn_prf(average, modifier, msg_start, len(result))\n",
      "c:\\Users\\bes3\\VIRTUALENVS\\nlp\\lib\\site-packages\\sklearn\\metrics\\_classification.py:1469: UndefinedMetricWarning: Precision and F-score are ill-defined and being set to 0.0 in labels with no predicted samples. Use `zero_division` parameter to control this behavior.\n",
      "  _warn_prf(average, modifier, msg_start, len(result))\n",
      "c:\\Users\\bes3\\VIRTUALENVS\\nlp\\lib\\site-packages\\sklearn\\metrics\\_classification.py:1469: UndefinedMetricWarning: Precision and F-score are ill-defined and being set to 0.0 in labels with no predicted samples. Use `zero_division` parameter to control this behavior.\n",
      "  _warn_prf(average, modifier, msg_start, len(result))\n",
      "c:\\Users\\bes3\\VIRTUALENVS\\nlp\\lib\\site-packages\\sklearn\\metrics\\_classification.py:1469: UndefinedMetricWarning: Precision and F-score are ill-defined and being set to 0.0 in labels with no predicted samples. Use `zero_division` parameter to control this behavior.\n",
      "  _warn_prf(average, modifier, msg_start, len(result))\n",
      "c:\\Users\\bes3\\VIRTUALENVS\\nlp\\lib\\site-packages\\sklearn\\metrics\\_classification.py:1469: UndefinedMetricWarning: Precision and F-score are ill-defined and being set to 0.0 in labels with no predicted samples. Use `zero_division` parameter to control this behavior.\n",
      "  _warn_prf(average, modifier, msg_start, len(result))\n",
      "c:\\Users\\bes3\\VIRTUALENVS\\nlp\\lib\\site-packages\\sklearn\\metrics\\_classification.py:1469: UndefinedMetricWarning: Precision and F-score are ill-defined and being set to 0.0 in labels with no predicted samples. Use `zero_division` parameter to control this behavior.\n",
      "  _warn_prf(average, modifier, msg_start, len(result))\n"
     ]
    },
    {
     "name": "stdout",
     "output_type": "stream",
     "text": [
      "\\\\ds\\data\\LAB\\laupodteam\\AIOS\\Bram\\notebooks\\code_dev\\negation-detection\\data\\annotations_split\\train_annotations_6.json\n"
     ]
    },
    {
     "name": "stderr",
     "output_type": "stream",
     "text": [
      "c:\\Users\\bes3\\VIRTUALENVS\\nlp\\lib\\site-packages\\sklearn\\metrics\\_classification.py:1469: UndefinedMetricWarning: Precision and F-score are ill-defined and being set to 0.0 in labels with no predicted samples. Use `zero_division` parameter to control this behavior.\n",
      "  _warn_prf(average, modifier, msg_start, len(result))\n",
      "c:\\Users\\bes3\\VIRTUALENVS\\nlp\\lib\\site-packages\\sklearn\\metrics\\_classification.py:1469: UndefinedMetricWarning: Precision and F-score are ill-defined and being set to 0.0 in labels with no predicted samples. Use `zero_division` parameter to control this behavior.\n",
      "  _warn_prf(average, modifier, msg_start, len(result))\n",
      "c:\\Users\\bes3\\VIRTUALENVS\\nlp\\lib\\site-packages\\sklearn\\metrics\\_classification.py:1469: UndefinedMetricWarning: Precision and F-score are ill-defined and being set to 0.0 in labels with no predicted samples. Use `zero_division` parameter to control this behavior.\n",
      "  _warn_prf(average, modifier, msg_start, len(result))\n",
      "c:\\Users\\bes3\\VIRTUALENVS\\nlp\\lib\\site-packages\\sklearn\\metrics\\_classification.py:1469: UndefinedMetricWarning: Precision and F-score are ill-defined and being set to 0.0 in labels with no predicted samples. Use `zero_division` parameter to control this behavior.\n",
      "  _warn_prf(average, modifier, msg_start, len(result))\n",
      "c:\\Users\\bes3\\VIRTUALENVS\\nlp\\lib\\site-packages\\sklearn\\metrics\\_classification.py:1469: UndefinedMetricWarning: Precision and F-score are ill-defined and being set to 0.0 in labels with no predicted samples. Use `zero_division` parameter to control this behavior.\n",
      "  _warn_prf(average, modifier, msg_start, len(result))\n",
      "c:\\Users\\bes3\\VIRTUALENVS\\nlp\\lib\\site-packages\\sklearn\\metrics\\_classification.py:1469: UndefinedMetricWarning: Precision and F-score are ill-defined and being set to 0.0 in labels with no predicted samples. Use `zero_division` parameter to control this behavior.\n",
      "  _warn_prf(average, modifier, msg_start, len(result))\n",
      "c:\\Users\\bes3\\VIRTUALENVS\\nlp\\lib\\site-packages\\sklearn\\metrics\\_classification.py:1469: UndefinedMetricWarning: Precision and F-score are ill-defined and being set to 0.0 in labels with no predicted samples. Use `zero_division` parameter to control this behavior.\n",
      "  _warn_prf(average, modifier, msg_start, len(result))\n",
      "c:\\Users\\bes3\\VIRTUALENVS\\nlp\\lib\\site-packages\\sklearn\\metrics\\_classification.py:1469: UndefinedMetricWarning: Precision and F-score are ill-defined and being set to 0.0 in labels with no predicted samples. Use `zero_division` parameter to control this behavior.\n",
      "  _warn_prf(average, modifier, msg_start, len(result))\n",
      "c:\\Users\\bes3\\VIRTUALENVS\\nlp\\lib\\site-packages\\sklearn\\metrics\\_classification.py:1469: UndefinedMetricWarning: Precision and F-score are ill-defined and being set to 0.0 in labels with no predicted samples. Use `zero_division` parameter to control this behavior.\n",
      "  _warn_prf(average, modifier, msg_start, len(result))\n"
     ]
    },
    {
     "name": "stdout",
     "output_type": "stream",
     "text": [
      "\\\\ds\\data\\LAB\\laupodteam\\AIOS\\Bram\\notebooks\\code_dev\\negation-detection\\data\\annotations_split\\train_annotations_7.json\n"
     ]
    },
    {
     "name": "stderr",
     "output_type": "stream",
     "text": [
      "c:\\Users\\bes3\\VIRTUALENVS\\nlp\\lib\\site-packages\\sklearn\\metrics\\_classification.py:1469: UndefinedMetricWarning: Precision and F-score are ill-defined and being set to 0.0 in labels with no predicted samples. Use `zero_division` parameter to control this behavior.\n",
      "  _warn_prf(average, modifier, msg_start, len(result))\n",
      "c:\\Users\\bes3\\VIRTUALENVS\\nlp\\lib\\site-packages\\sklearn\\metrics\\_classification.py:1469: UndefinedMetricWarning: Precision and F-score are ill-defined and being set to 0.0 in labels with no predicted samples. Use `zero_division` parameter to control this behavior.\n",
      "  _warn_prf(average, modifier, msg_start, len(result))\n",
      "c:\\Users\\bes3\\VIRTUALENVS\\nlp\\lib\\site-packages\\sklearn\\metrics\\_classification.py:1469: UndefinedMetricWarning: Precision and F-score are ill-defined and being set to 0.0 in labels with no predicted samples. Use `zero_division` parameter to control this behavior.\n",
      "  _warn_prf(average, modifier, msg_start, len(result))\n",
      "c:\\Users\\bes3\\VIRTUALENVS\\nlp\\lib\\site-packages\\sklearn\\metrics\\_classification.py:1469: UndefinedMetricWarning: Precision and F-score are ill-defined and being set to 0.0 in labels with no predicted samples. Use `zero_division` parameter to control this behavior.\n",
      "  _warn_prf(average, modifier, msg_start, len(result))\n",
      "c:\\Users\\bes3\\VIRTUALENVS\\nlp\\lib\\site-packages\\sklearn\\metrics\\_classification.py:1469: UndefinedMetricWarning: Precision and F-score are ill-defined and being set to 0.0 in labels with no predicted samples. Use `zero_division` parameter to control this behavior.\n",
      "  _warn_prf(average, modifier, msg_start, len(result))\n",
      "c:\\Users\\bes3\\VIRTUALENVS\\nlp\\lib\\site-packages\\sklearn\\metrics\\_classification.py:1469: UndefinedMetricWarning: Precision and F-score are ill-defined and being set to 0.0 in labels with no predicted samples. Use `zero_division` parameter to control this behavior.\n",
      "  _warn_prf(average, modifier, msg_start, len(result))\n",
      "c:\\Users\\bes3\\VIRTUALENVS\\nlp\\lib\\site-packages\\sklearn\\metrics\\_classification.py:1469: UndefinedMetricWarning: Precision and F-score are ill-defined and being set to 0.0 in labels with no predicted samples. Use `zero_division` parameter to control this behavior.\n",
      "  _warn_prf(average, modifier, msg_start, len(result))\n",
      "c:\\Users\\bes3\\VIRTUALENVS\\nlp\\lib\\site-packages\\sklearn\\metrics\\_classification.py:1469: UndefinedMetricWarning: Precision and F-score are ill-defined and being set to 0.0 in labels with no predicted samples. Use `zero_division` parameter to control this behavior.\n",
      "  _warn_prf(average, modifier, msg_start, len(result))\n",
      "c:\\Users\\bes3\\VIRTUALENVS\\nlp\\lib\\site-packages\\sklearn\\metrics\\_classification.py:1469: UndefinedMetricWarning: Precision and F-score are ill-defined and being set to 0.0 in labels with no predicted samples. Use `zero_division` parameter to control this behavior.\n",
      "  _warn_prf(average, modifier, msg_start, len(result))\n"
     ]
    },
    {
     "name": "stdout",
     "output_type": "stream",
     "text": [
      "\\\\ds\\data\\LAB\\laupodteam\\AIOS\\Bram\\notebooks\\code_dev\\negation-detection\\data\\annotations_split\\train_annotations_8.json\n"
     ]
    },
    {
     "name": "stderr",
     "output_type": "stream",
     "text": [
      "c:\\Users\\bes3\\VIRTUALENVS\\nlp\\lib\\site-packages\\sklearn\\metrics\\_classification.py:1469: UndefinedMetricWarning: Precision and F-score are ill-defined and being set to 0.0 in labels with no predicted samples. Use `zero_division` parameter to control this behavior.\n",
      "  _warn_prf(average, modifier, msg_start, len(result))\n",
      "c:\\Users\\bes3\\VIRTUALENVS\\nlp\\lib\\site-packages\\sklearn\\metrics\\_classification.py:1469: UndefinedMetricWarning: Precision and F-score are ill-defined and being set to 0.0 in labels with no predicted samples. Use `zero_division` parameter to control this behavior.\n",
      "  _warn_prf(average, modifier, msg_start, len(result))\n",
      "c:\\Users\\bes3\\VIRTUALENVS\\nlp\\lib\\site-packages\\sklearn\\metrics\\_classification.py:1469: UndefinedMetricWarning: Precision and F-score are ill-defined and being set to 0.0 in labels with no predicted samples. Use `zero_division` parameter to control this behavior.\n",
      "  _warn_prf(average, modifier, msg_start, len(result))\n",
      "c:\\Users\\bes3\\VIRTUALENVS\\nlp\\lib\\site-packages\\sklearn\\metrics\\_classification.py:1469: UndefinedMetricWarning: Precision and F-score are ill-defined and being set to 0.0 in labels with no predicted samples. Use `zero_division` parameter to control this behavior.\n",
      "  _warn_prf(average, modifier, msg_start, len(result))\n",
      "c:\\Users\\bes3\\VIRTUALENVS\\nlp\\lib\\site-packages\\sklearn\\metrics\\_classification.py:1469: UndefinedMetricWarning: Precision and F-score are ill-defined and being set to 0.0 in labels with no predicted samples. Use `zero_division` parameter to control this behavior.\n",
      "  _warn_prf(average, modifier, msg_start, len(result))\n",
      "c:\\Users\\bes3\\VIRTUALENVS\\nlp\\lib\\site-packages\\sklearn\\metrics\\_classification.py:1469: UndefinedMetricWarning: Precision and F-score are ill-defined and being set to 0.0 in labels with no predicted samples. Use `zero_division` parameter to control this behavior.\n",
      "  _warn_prf(average, modifier, msg_start, len(result))\n",
      "c:\\Users\\bes3\\VIRTUALENVS\\nlp\\lib\\site-packages\\sklearn\\metrics\\_classification.py:1469: UndefinedMetricWarning: Precision and F-score are ill-defined and being set to 0.0 in labels with no predicted samples. Use `zero_division` parameter to control this behavior.\n",
      "  _warn_prf(average, modifier, msg_start, len(result))\n",
      "c:\\Users\\bes3\\VIRTUALENVS\\nlp\\lib\\site-packages\\sklearn\\metrics\\_classification.py:1469: UndefinedMetricWarning: Precision and F-score are ill-defined and being set to 0.0 in labels with no predicted samples. Use `zero_division` parameter to control this behavior.\n",
      "  _warn_prf(average, modifier, msg_start, len(result))\n",
      "c:\\Users\\bes3\\VIRTUALENVS\\nlp\\lib\\site-packages\\sklearn\\metrics\\_classification.py:1469: UndefinedMetricWarning: Precision and F-score are ill-defined and being set to 0.0 in labels with no predicted samples. Use `zero_division` parameter to control this behavior.\n",
      "  _warn_prf(average, modifier, msg_start, len(result))\n"
     ]
    },
    {
     "name": "stdout",
     "output_type": "stream",
     "text": [
      "\\\\ds\\data\\LAB\\laupodteam\\AIOS\\Bram\\notebooks\\code_dev\\negation-detection\\data\\annotations_split\\train_annotations_9.json\n"
     ]
    },
    {
     "name": "stderr",
     "output_type": "stream",
     "text": [
      "c:\\Users\\bes3\\VIRTUALENVS\\nlp\\lib\\site-packages\\sklearn\\metrics\\_classification.py:1469: UndefinedMetricWarning: Precision and F-score are ill-defined and being set to 0.0 in labels with no predicted samples. Use `zero_division` parameter to control this behavior.\n",
      "  _warn_prf(average, modifier, msg_start, len(result))\n",
      "c:\\Users\\bes3\\VIRTUALENVS\\nlp\\lib\\site-packages\\sklearn\\metrics\\_classification.py:1469: UndefinedMetricWarning: Precision and F-score are ill-defined and being set to 0.0 in labels with no predicted samples. Use `zero_division` parameter to control this behavior.\n",
      "  _warn_prf(average, modifier, msg_start, len(result))\n",
      "c:\\Users\\bes3\\VIRTUALENVS\\nlp\\lib\\site-packages\\sklearn\\metrics\\_classification.py:1469: UndefinedMetricWarning: Precision and F-score are ill-defined and being set to 0.0 in labels with no predicted samples. Use `zero_division` parameter to control this behavior.\n",
      "  _warn_prf(average, modifier, msg_start, len(result))\n",
      "c:\\Users\\bes3\\VIRTUALENVS\\nlp\\lib\\site-packages\\sklearn\\metrics\\_classification.py:1469: UndefinedMetricWarning: Precision and F-score are ill-defined and being set to 0.0 in labels with no predicted samples. Use `zero_division` parameter to control this behavior.\n",
      "  _warn_prf(average, modifier, msg_start, len(result))\n",
      "c:\\Users\\bes3\\VIRTUALENVS\\nlp\\lib\\site-packages\\sklearn\\metrics\\_classification.py:1469: UndefinedMetricWarning: Precision and F-score are ill-defined and being set to 0.0 in labels with no predicted samples. Use `zero_division` parameter to control this behavior.\n",
      "  _warn_prf(average, modifier, msg_start, len(result))\n",
      "c:\\Users\\bes3\\VIRTUALENVS\\nlp\\lib\\site-packages\\sklearn\\metrics\\_classification.py:1469: UndefinedMetricWarning: Precision and F-score are ill-defined and being set to 0.0 in labels with no predicted samples. Use `zero_division` parameter to control this behavior.\n",
      "  _warn_prf(average, modifier, msg_start, len(result))\n",
      "c:\\Users\\bes3\\VIRTUALENVS\\nlp\\lib\\site-packages\\sklearn\\metrics\\_classification.py:1469: UndefinedMetricWarning: Precision and F-score are ill-defined and being set to 0.0 in labels with no predicted samples. Use `zero_division` parameter to control this behavior.\n",
      "  _warn_prf(average, modifier, msg_start, len(result))\n",
      "c:\\Users\\bes3\\VIRTUALENVS\\nlp\\lib\\site-packages\\sklearn\\metrics\\_classification.py:1469: UndefinedMetricWarning: Precision and F-score are ill-defined and being set to 0.0 in labels with no predicted samples. Use `zero_division` parameter to control this behavior.\n",
      "  _warn_prf(average, modifier, msg_start, len(result))\n",
      "c:\\Users\\bes3\\VIRTUALENVS\\nlp\\lib\\site-packages\\sklearn\\metrics\\_classification.py:1469: UndefinedMetricWarning: Precision and F-score are ill-defined and being set to 0.0 in labels with no predicted samples. Use `zero_division` parameter to control this behavior.\n",
      "  _warn_prf(average, modifier, msg_start, len(result))\n"
     ]
    }
   ],
   "source": [
    "# List to store results of individual folds\n",
    "score_result_list = []\n",
    "\n",
    "for train_file in annotations_split_dir.rglob(\"train_annotations_*.json\"):\n",
    "    print(train_file)\n",
    "    split_id = train_file.stem.split('_')[2]\n",
    "    split_id_dir = models_split_dir / split_id\n",
    "    split_id_dir.mkdir(exist_ok=True)\n",
    "    \n",
    "    # Initiate MetaCAT\n",
    "    meta_cat = MetaCAT(tokenizer=tokenizer, embeddings=embeddings, config=config_metacat)\n",
    "    \n",
    "    # Train model\n",
    "    train_results = meta_cat.train_from_json(json_path=str(train_file), save_dir_path=str(split_id_dir))\n",
    "    \n",
    "    # Evaluate using MetaCAT's eval function\n",
    "    test_file = train_file.parent / train_file.name.replace('train_annotations_', 'test_annotations_')\n",
    "    test_results = meta_cat.eval(json_path=test_file)\n",
    "    \n",
    "    # Count positive and negatives\n",
    "    tp = 0\n",
    "    if 'negated' in test_results['examples']['TP']:\n",
    "        tp = len(test_results['examples']['TP']['negated'])\n",
    "    \n",
    "    fp = 0\n",
    "    if 'negated' in test_results['examples']['FP']:\n",
    "        fp = len(test_results['examples']['FP']['negated'])\n",
    "        \n",
    "    fn = 0\n",
    "    if 'negated' in test_results['examples']['FN']:\n",
    "        fn = len(test_results['examples']['FN']['negated'])\n",
    "    # Save test results\n",
    "    score_result_list.append([split_id,\n",
    "                              round(test_results['f1'], 2),\n",
    "                              round(test_results['precision'], 2),\n",
    "                              round(test_results['recall'], 2),\n",
    "                              tp,\n",
    "                              fp,\n",
    "                              fn]\n",
    "                             )"
   ]
  },
  {
   "cell_type": "markdown",
   "metadata": {},
   "source": [
    "## Test on folds\n",
    "Use this cell to test on the test data if the models are already created."
   ]
  },
  {
   "cell_type": "code",
   "execution_count": 85,
   "metadata": {},
   "outputs": [],
   "source": [
    "# List to store results of individual folds\n",
    "score_result_list = []\n",
    "\n",
    "for test_file in annotations_split_dir.rglob(\"test_annotations_*.json\"):\n",
    "    split_id = test_file.stem.split('_')[2]\n",
    "    split_id_dir = models_split_dir / split_id\n",
    "    \n",
    "    # Load biLSTM\n",
    "    meta_cat = MetaCAT.load(str(split_id_dir))\n",
    "    \n",
    "    # Evaluate using MetaCAT's eval function\n",
    "    test_results = meta_cat.eval(json_path=test_file)\n",
    "    \n",
    "    # Save test results\n",
    "    score_result_list.append([split_id,\n",
    "                              round(test_results['f1'], 2),\n",
    "                              round(test_results['precision'], 2),\n",
    "                              round(test_results['recall'], 2),\n",
    "                              len(test_results['examples']['TP']['hypothetical']),\n",
    "                              len(test_results['examples']['FP']['hypothetical']),\n",
    "                              len(test_results['examples']['FN']['hypothetical'])])"
   ]
  },
  {
   "cell_type": "markdown",
   "metadata": {},
   "source": [
    "## Gather scores from folds\n",
    "In this section, results are gathered from the folds and saved in a single CSV.\n",
    "\n",
    "Currently, recall and precision are not returned by MetaCAT's eval() function. A future release will add this functionality (https://github.com/CogStack/MedCAT/pull/172)."
   ]
  },
  {
   "cell_type": "code",
   "execution_count": 86,
   "metadata": {},
   "outputs": [
    {
     "data": {
      "text/html": [
       "<div>\n",
       "<style scoped>\n",
       "    .dataframe tbody tr th:only-of-type {\n",
       "        vertical-align: middle;\n",
       "    }\n",
       "\n",
       "    .dataframe tbody tr th {\n",
       "        vertical-align: top;\n",
       "    }\n",
       "\n",
       "    .dataframe thead th {\n",
       "        text-align: right;\n",
       "    }\n",
       "</style>\n",
       "<table border=\"1\" class=\"dataframe\">\n",
       "  <thead>\n",
       "    <tr style=\"text-align: right;\">\n",
       "      <th></th>\n",
       "      <th>split_id</th>\n",
       "      <th>weighted_f1</th>\n",
       "      <th>weighted_precision</th>\n",
       "      <th>weighted_recall</th>\n",
       "      <th>tp</th>\n",
       "      <th>fp</th>\n",
       "      <th>fn</th>\n",
       "      <th>manual_recall</th>\n",
       "      <th>manual_precision</th>\n",
       "      <th>manual_f1</th>\n",
       "    </tr>\n",
       "  </thead>\n",
       "  <tbody>\n",
       "    <tr>\n",
       "      <th>0</th>\n",
       "      <td>0</td>\n",
       "      <td>0.88</td>\n",
       "      <td>0.88</td>\n",
       "      <td>0.88</td>\n",
       "      <td>117</td>\n",
       "      <td>7</td>\n",
       "      <td>133</td>\n",
       "      <td>0.47</td>\n",
       "      <td>0.94</td>\n",
       "      <td>0.63</td>\n",
       "    </tr>\n",
       "    <tr>\n",
       "      <th>1</th>\n",
       "      <td>1</td>\n",
       "      <td>0.94</td>\n",
       "      <td>0.94</td>\n",
       "      <td>0.94</td>\n",
       "      <td>41</td>\n",
       "      <td>25</td>\n",
       "      <td>13</td>\n",
       "      <td>0.76</td>\n",
       "      <td>0.62</td>\n",
       "      <td>0.68</td>\n",
       "    </tr>\n",
       "    <tr>\n",
       "      <th>2</th>\n",
       "      <td>2</td>\n",
       "      <td>0.94</td>\n",
       "      <td>0.94</td>\n",
       "      <td>0.94</td>\n",
       "      <td>40</td>\n",
       "      <td>6</td>\n",
       "      <td>32</td>\n",
       "      <td>0.56</td>\n",
       "      <td>0.87</td>\n",
       "      <td>0.68</td>\n",
       "    </tr>\n",
       "    <tr>\n",
       "      <th>3</th>\n",
       "      <td>3</td>\n",
       "      <td>0.93</td>\n",
       "      <td>0.93</td>\n",
       "      <td>0.93</td>\n",
       "      <td>60</td>\n",
       "      <td>8</td>\n",
       "      <td>42</td>\n",
       "      <td>0.59</td>\n",
       "      <td>0.88</td>\n",
       "      <td>0.71</td>\n",
       "    </tr>\n",
       "    <tr>\n",
       "      <th>4</th>\n",
       "      <td>4</td>\n",
       "      <td>0.91</td>\n",
       "      <td>0.91</td>\n",
       "      <td>0.91</td>\n",
       "      <td>65</td>\n",
       "      <td>6</td>\n",
       "      <td>79</td>\n",
       "      <td>0.45</td>\n",
       "      <td>0.92</td>\n",
       "      <td>0.60</td>\n",
       "    </tr>\n",
       "    <tr>\n",
       "      <th>5</th>\n",
       "      <td>5</td>\n",
       "      <td>0.87</td>\n",
       "      <td>0.87</td>\n",
       "      <td>0.87</td>\n",
       "      <td>109</td>\n",
       "      <td>9</td>\n",
       "      <td>118</td>\n",
       "      <td>0.48</td>\n",
       "      <td>0.92</td>\n",
       "      <td>0.63</td>\n",
       "    </tr>\n",
       "    <tr>\n",
       "      <th>6</th>\n",
       "      <td>6</td>\n",
       "      <td>0.92</td>\n",
       "      <td>0.92</td>\n",
       "      <td>0.92</td>\n",
       "      <td>72</td>\n",
       "      <td>3</td>\n",
       "      <td>61</td>\n",
       "      <td>0.54</td>\n",
       "      <td>0.96</td>\n",
       "      <td>0.69</td>\n",
       "    </tr>\n",
       "    <tr>\n",
       "      <th>7</th>\n",
       "      <td>7</td>\n",
       "      <td>0.92</td>\n",
       "      <td>0.92</td>\n",
       "      <td>0.92</td>\n",
       "      <td>26</td>\n",
       "      <td>4</td>\n",
       "      <td>65</td>\n",
       "      <td>0.29</td>\n",
       "      <td>0.87</td>\n",
       "      <td>0.43</td>\n",
       "    </tr>\n",
       "    <tr>\n",
       "      <th>8</th>\n",
       "      <td>8</td>\n",
       "      <td>0.91</td>\n",
       "      <td>0.91</td>\n",
       "      <td>0.91</td>\n",
       "      <td>60</td>\n",
       "      <td>1</td>\n",
       "      <td>58</td>\n",
       "      <td>0.51</td>\n",
       "      <td>0.98</td>\n",
       "      <td>0.67</td>\n",
       "    </tr>\n",
       "    <tr>\n",
       "      <th>9</th>\n",
       "      <td>9</td>\n",
       "      <td>0.92</td>\n",
       "      <td>0.92</td>\n",
       "      <td>0.92</td>\n",
       "      <td>35</td>\n",
       "      <td>19</td>\n",
       "      <td>30</td>\n",
       "      <td>0.54</td>\n",
       "      <td>0.65</td>\n",
       "      <td>0.59</td>\n",
       "    </tr>\n",
       "  </tbody>\n",
       "</table>\n",
       "</div>"
      ],
      "text/plain": [
       "  split_id  weighted_f1  weighted_precision  weighted_recall   tp  fp   fn  \\\n",
       "0        0         0.88                0.88             0.88  117   7  133   \n",
       "1        1         0.94                0.94             0.94   41  25   13   \n",
       "2        2         0.94                0.94             0.94   40   6   32   \n",
       "3        3         0.93                0.93             0.93   60   8   42   \n",
       "4        4         0.91                0.91             0.91   65   6   79   \n",
       "5        5         0.87                0.87             0.87  109   9  118   \n",
       "6        6         0.92                0.92             0.92   72   3   61   \n",
       "7        7         0.92                0.92             0.92   26   4   65   \n",
       "8        8         0.91                0.91             0.91   60   1   58   \n",
       "9        9         0.92                0.92             0.92   35  19   30   \n",
       "\n",
       "   manual_recall  manual_precision  manual_f1  \n",
       "0           0.47              0.94       0.63  \n",
       "1           0.76              0.62       0.68  \n",
       "2           0.56              0.87       0.68  \n",
       "3           0.59              0.88       0.71  \n",
       "4           0.45              0.92       0.60  \n",
       "5           0.48              0.92       0.63  \n",
       "6           0.54              0.96       0.69  \n",
       "7           0.29              0.87       0.43  \n",
       "8           0.51              0.98       0.67  \n",
       "9           0.54              0.65       0.59  "
      ]
     },
     "execution_count": 86,
     "metadata": {},
     "output_type": "execute_result"
    }
   ],
   "source": [
    "def calculate_recall(row):\n",
    "    tp = row.tp\n",
    "    fp = row.fp\n",
    "    fn = row.fn\n",
    "    recall = round(tp / (tp + fn), 2)\n",
    "    return recall\n",
    "\n",
    "def calculate_precision(row):\n",
    "    tp = row.tp\n",
    "    fp = row.fp\n",
    "    fn = row.fn\n",
    "    precision = round(tp / (tp + fp), 2)\n",
    "    return precision\n",
    "\n",
    "def calculate_f1(row):\n",
    "    tp = row.tp\n",
    "    fp = row.fp\n",
    "    fn = row.fn\n",
    "    f1 = round((2*tp) / ((2*tp) + fp + fn), 2)\n",
    "    return f1\n",
    "\n",
    "score_results = pd.DataFrame(score_result_list, columns=['split_id', 'weighted_f1', 'weighted_precision', 'weighted_recall', 'tp', 'fp', 'fn'])\n",
    "score_results['manual_recall'] = score_results.apply(calculate_recall, axis=1)\n",
    "score_results['manual_precision'] = score_results.apply(calculate_precision, axis=1)\n",
    "score_results['manual_f1'] = score_results.apply(calculate_f1, axis=1)\n",
    "score_results.to_csv(score_result_file, index=False, compression='gzip')\n",
    "score_results"
   ]
  },
  {
   "cell_type": "markdown",
   "metadata": {},
   "source": [
    "## Custom evaluation per example per fold\n",
    "In this project we are interested per example whether a negation has been correctly predicted or not. MetaCAT does not have such functionality; it only returns scores, predictions and examples.\n",
    "\n",
    "In this section we iterate through all annotations from an annotation file (MedCAT Trainer format), create an ID for every example (`exampleID = documentID_start_end`), collect the prediction per example and save all predictions in a CSV."
   ]
  },
  {
   "cell_type": "code",
   "execution_count": null,
   "metadata": {},
   "outputs": [],
   "source": [
    "# Evaluate models on their respective test sets\n",
    "predictions_on_test_list = []\n",
    "for annotation_filename in annotations_split_dir.rglob(\"test_annotations_*.json\"):\n",
    "    \n",
    "    # Extract split ID\n",
    "    split_id = annotation_filename.stem.split('_')[2]\n",
    "    split_id_dir = models_split_dir / split_id\n",
    "    print(f'Evaluating test set {split_id}')\n",
    "    \n",
    "    # Load MetaCAT model\n",
    "    meta_cat = MetaCAT.load(split_id_dir)\n",
    "    \n",
    "    # Gather the predictions on every example in the provided annotation file.\n",
    "    predictions_on_test_list.append(evaluate_per_example(annotation_filename, meta_cat, f'bilstm_cv'))\n",
    "    \n",
    "# Save al predictions in a single dataframe\n",
    "predictions_on_test_df = pd.DataFrame(columns=['entity_id', 'bilstm_cv'])\n",
    "for i in predictions_on_test_list:\n",
    "    predictions_on_test_df = predictions_on_test_df.append(i)\n",
    "\n",
    "# Save predictions in a csv\n",
    "predictions_on_test_df.reset_index(drop=True, inplace=True)\n",
    "predictions_on_test_df.to_csv(predictions_result_file, index=False, compression='gzip', line_terminator='\\n')\n",
    "predictions_on_test_df"
   ]
  }
 ],
 "metadata": {
  "kernelspec": {
   "display_name": "Python 3 (ipykernel)",
   "language": "python",
   "name": "python3"
  },
  "language_info": {
   "codemirror_mode": {
    "name": "ipython",
    "version": 3
   },
   "file_extension": ".py",
   "mimetype": "text/x-python",
   "name": "python",
   "nbconvert_exporter": "python",
   "pygments_lexer": "ipython3",
   "version": "3.10.0"
  }
 },
 "nbformat": 4,
 "nbformat_minor": 2
}
