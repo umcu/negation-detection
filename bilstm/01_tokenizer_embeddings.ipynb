{
 "cells": [
  {
   "cell_type": "markdown",
   "metadata": {},
   "source": [
    "# MetaCAT - Tokenizer & Embeddings"
   ]
  },
  {
   "cell_type": "code",
   "execution_count": 1,
   "metadata": {},
   "outputs": [],
   "source": [
    "import numpy as np\n",
    "from tokenizers import ByteLevelBPETokenizer\n",
    "from gensim.models import Word2Vec\n",
    "from pathlib import Path\n",
    "from medcat.preprocessing.tokenizers import TokenizerWrapperBPE"
   ]
  },
  {
   "cell_type": "code",
   "execution_count": 2,
   "metadata": {},
   "outputs": [],
   "source": [
    "# Input\n",
    "data_dir = Path.cwd().parents[0] / 'data'\n",
    "text_file = data_dir / 'data.txt'\n",
    "\n",
    "# Output\n",
    "model_dir = Path.cwd().parents[0] / 'models' / 'bilstm'\n",
    "model_dir.mkdir(parents=True, exist_ok=True)\n",
    "embeddings_file = model_diroutput_dir / 'embeddings.npy'\n",
    "\n",
    "# Name should contain 'bbpe' for ByteLevelBPETokenizer or 'bert' for BertTokenizerFast\n",
    "# This name is saved in the model_config dict and subssequently in vars.dat on disk.\n",
    "tokenizer_name = 'bbpe_dutch-wikipedia'"
   ]
  },
  {
   "cell_type": "markdown",
   "metadata": {},
   "source": [
    "## Create tokenizer"
   ]
  },
  {
   "cell_type": "code",
   "execution_count": 3,
   "metadata": {},
   "outputs": [],
   "source": [
    "# Create, train and save the tokenizer\n",
    "tokenizer = ByteLevelBPETokenizer(add_prefix_space=True)\n",
    "tokenizer.train(text_file.__str__())"
   ]
  },
  {
   "cell_type": "code",
   "execution_count": 4,
   "metadata": {},
   "outputs": [
    {
     "data": {
      "text/plain": [
       "['D:\\\\Repositories\\\\negation-detection\\\\output\\\\bilstm\\\\bbpe_dutch-wikipedia-vocab.json',\n",
       " 'D:\\\\Repositories\\\\negation-detection\\\\output\\\\bilstm\\\\bbpe_dutch-wikipedia-merges.txt']"
      ]
     },
     "execution_count": 4,
     "metadata": {},
     "output_type": "execute_result"
    }
   ],
   "source": [
    "# Save the tokenizer\n",
    "tokenizer.save_model(model_dir.__str__(), tokenizer_name)"
   ]
  },
  {
   "cell_type": "markdown",
   "metadata": {},
   "source": [
    "## Create embeddings matrix"
   ]
  },
  {
   "cell_type": "code",
   "execution_count": 5,
   "metadata": {
    "scrolled": true
   },
   "outputs": [],
   "source": [
    "# Tokenize text and train with Word2Vec\n",
    "text_data = []\n",
    "with open(text_file, encoding='utf-8') as text:\n",
    "    for line in text:\n",
    "        text_data.append(tokenizer.encode(line).tokens)\n",
    "w2v = Word2Vec(text_data, size=300, min_count=1)"
   ]
  },
  {
   "cell_type": "code",
   "execution_count": 6,
   "metadata": {},
   "outputs": [
    {
     "data": {
      "text/plain": [
       "[('Ġkortademigheid', 0.9220506548881531),\n",
       " ('Ġniezen', 0.9031012654304504),\n",
       " ('Ġbraken', 0.887566089630127),\n",
       " ('Ġjeuk', 0.876832127571106),\n",
       " ('Ġconstipatie', 0.8761879205703735),\n",
       " ('Ġdiarree', 0.8760838508605957),\n",
       " ('Ġspierpijn', 0.8698310852050781),\n",
       " ('Ġovergeven', 0.8678290843963623),\n",
       " ('Ġbenauwdheid', 0.8653152585029602),\n",
       " ('Ġmisselijkheid', 0.8651226758956909)]"
      ]
     },
     "execution_count": 6,
     "metadata": {},
     "output_type": "execute_result"
    }
   ],
   "source": [
    "# Check trained word2vec model\n",
    "# Ġ denotes start of word (a space)\n",
    "w2v.wv.most_similar('Ġhoesten')"
   ]
  },
  {
   "cell_type": "code",
   "execution_count": 7,
   "metadata": {},
   "outputs": [],
   "source": [
    "# Create embeddings matrix\n",
    "embeddings = []\n",
    "for i in range(tokenizer.get_vocab_size()):\n",
    "    word = tokenizer.id_to_token(i)\n",
    "    if word in w2v.wv:\n",
    "        embeddings.append(w2v.wv[word])\n",
    "    else:\n",
    "        # Assign a random vector if the word was not frequent enough to receive an embedding\n",
    "        embeddings.append(np.random.rand(300))"
   ]
  },
  {
   "cell_type": "code",
   "execution_count": 8,
   "metadata": {},
   "outputs": [],
   "source": [
    "# Save the embeddings\n",
    "np.save(open(embeddings_file, 'wb'), np.array(embeddings))"
   ]
  }
 ],
 "metadata": {
  "kernelspec": {
   "display_name": "Python 3",
   "language": "python",
   "name": "python3"
  },
  "language_info": {
   "codemirror_mode": {
    "name": "ipython",
    "version": 3
   },
   "file_extension": ".py",
   "mimetype": "text/x-python",
   "name": "python",
   "nbconvert_exporter": "python",
   "pygments_lexer": "ipython3",
   "version": "3.8.5"
  }
 },
 "nbformat": 4,
 "nbformat_minor": 2
}
