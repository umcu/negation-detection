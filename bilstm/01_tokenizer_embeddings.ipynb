{
 "cells": [
  {
   "cell_type": "markdown",
   "metadata": {},
   "source": [
    "# MetaCAT - Tokenizer & Embeddings"
   ]
  },
  {
   "cell_type": "code",
   "execution_count": 2,
   "metadata": {},
   "outputs": [],
   "source": [
    "import numpy as np\n",
    "from medcat.tokenizers.meta_cat_tokenizers import ByteLevelBPETokenizer\n",
    "from gensim.models import Word2Vec\n",
    "from pathlib import Path"
   ]
  },
  {
   "cell_type": "code",
   "execution_count": 3,
   "metadata": {},
   "outputs": [],
   "source": [
    "# Input\n",
    "data_dir = Path.cwd().parents[0] / 'data'\n",
    "text_file = data_dir / 'data.txt'\n",
    "\n",
    "# Output\n",
    "model_dir = Path.cwd().parents[0] / 'models' / 'bilstm'\n",
    "model_dir.mkdir(parents=True, exist_ok=True)\n",
    "embeddings_file = model_dir / 'embeddings.npy'\n",
    "\n",
    "# Name should contain 'bbpe' for ByteLevelBPETokenizer or 'bert' for BertTokenizerFast\n",
    "# This name is saved in the model_config dict and subssequently in vars.dat on disk.\n",
    "tokenizer_name = 'bbpe_dutch-wikipedia'"
   ]
  },
  {
   "cell_type": "markdown",
   "metadata": {},
   "source": [
    "## Create tokenizer"
   ]
  },
  {
   "cell_type": "code",
   "execution_count": 4,
   "metadata": {},
   "outputs": [],
   "source": [
    "# Create, train and save the tokenizer\n",
    "tokenizer = ByteLevelBPETokenizer(add_prefix_space=True)\n",
    "tokenizer.train(text_file.__str__())"
   ]
  },
  {
   "cell_type": "code",
   "execution_count": 5,
   "metadata": {},
   "outputs": [
    {
     "data": {
      "text/plain": [
       "['D:\\\\Repositories\\\\negation-detection\\\\models\\\\bilstm\\\\bbpe_dutch-wikipedia-vocab.json',\n",
       " 'D:\\\\Repositories\\\\negation-detection\\\\models\\\\bilstm\\\\bbpe_dutch-wikipedia-merges.txt']"
      ]
     },
     "execution_count": 5,
     "metadata": {},
     "output_type": "execute_result"
    }
   ],
   "source": [
    "# Save the tokenizer\n",
    "tokenizer.save_model(model_dir.__str__(), tokenizer_name)"
   ]
  },
  {
   "cell_type": "markdown",
   "metadata": {},
   "source": [
    "## Create embeddings matrix"
   ]
  },
  {
   "cell_type": "code",
   "execution_count": 6,
   "metadata": {
    "scrolled": true
   },
   "outputs": [],
   "source": [
    "# Tokenize text and train with Word2Vec\n",
    "text_data = []\n",
    "with open(text_file, encoding='utf-8') as text:\n",
    "    for line in text:\n",
    "        text_data.append(tokenizer.encode(line).tokens)\n",
    "w2v = Word2Vec(text_data, size=300, min_count=1)"
   ]
  },
  {
   "cell_type": "code",
   "execution_count": 7,
   "metadata": {},
   "outputs": [
    {
     "data": {
      "text/plain": [
       "[('Ġkortademigheid', 0.9120935201644897),\n",
       " ('Ġzweten', 0.9087247848510742),\n",
       " ('Ġdiarree', 0.8979878425598145),\n",
       " ('Ġjeuk', 0.8853147625923157),\n",
       " ('Ġniezen', 0.8850206136703491),\n",
       " ('Ġbraken', 0.8805117607116699),\n",
       " ('Ġovergeven', 0.8755332827568054),\n",
       " ('Ġkrampen', 0.8732550144195557),\n",
       " ('Ġbenauwdheid', 0.8729687929153442),\n",
       " ('Ġconstipatie', 0.8685443997383118)]"
      ]
     },
     "execution_count": 7,
     "metadata": {},
     "output_type": "execute_result"
    }
   ],
   "source": [
    "# Check trained word2vec model\n",
    "# Ġ denotes start of word (a space)\n",
    "w2v.wv.most_similar('Ġhoesten')"
   ]
  }
 ],
 "metadata": {
  "kernelspec": {
   "display_name": "Python 3 (ipykernel)",
   "language": "python",
   "name": "python3"
  },
  "language_info": {
   "codemirror_mode": {
    "name": "ipython",
    "version": 3
   },
   "file_extension": ".py",
   "mimetype": "text/x-python",
   "name": "python",
   "nbconvert_exporter": "python",
   "pygments_lexer": "ipython3",
   "version": "3.8.10"
  }
 },
 "nbformat": 4,
 "nbformat_minor": 2
}
