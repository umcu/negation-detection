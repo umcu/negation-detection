{
 "cells": [
  {
   "cell_type": "markdown",
   "metadata": {},
   "source": [
    "# Create tokenizer & embedding matrix\n",
    "This notebook generates a tokenizer and embedding matrix based on medical articles from the Dutch Wikipedia. Everything in this notebook is based on the MedCAT tutorials, see https://github.com/CogStack/MedCAT/tree/master/tutorial."
   ]
  },
  {
   "cell_type": "code",
   "execution_count": 1,
   "metadata": {},
   "outputs": [],
   "source": [
    "import numpy as np\n",
    "from medcat.tokenizers.meta_cat_tokenizers import ByteLevelBPETokenizer, TokenizerWrapperBPE\n",
    "from gensim.models import Word2Vec\n",
    "from pathlib import Path"
   ]
  },
  {
   "cell_type": "code",
   "execution_count": 2,
   "metadata": {},
   "outputs": [],
   "source": [
    "# Input\n",
    "data_dir = Path.cwd().parents[0] / 'data'\n",
    "text_file = data_dir / 'nlwiki_20200901_geneeskunde_depth4.txt'\n",
    "\n",
    "# Output\n",
    "model_dir = Path.cwd().parents[0] / 'models' / 'bilstm'\n",
    "model_dir.mkdir(parents=True, exist_ok=True)\n",
    "embeddings_file = model_dir / 'embeddings.npy'"
   ]
  },
  {
   "cell_type": "code",
   "execution_count": 4,
   "metadata": {},
   "outputs": [
    {
     "data": {
      "text/plain": [
       "WindowsPath('//ds/data/LAB/laupodteam/AIOS/Bram/notebooks/code_dev/negation-detection/data')"
      ]
     },
     "execution_count": 4,
     "metadata": {},
     "output_type": "execute_result"
    }
   ],
   "source": [
    "data_dir"
   ]
  },
  {
   "cell_type": "markdown",
   "metadata": {},
   "source": [
    "## Create tokenizer"
   ]
  },
  {
   "cell_type": "code",
   "execution_count": 5,
   "metadata": {},
   "outputs": [],
   "source": [
    "# Create, train and save the tokenizer\n",
    "tokenizer = ByteLevelBPETokenizer(add_prefix_space=True)\n",
    "tokenizer.train(text_file.__str__())"
   ]
  },
  {
   "cell_type": "code",
   "execution_count": 6,
   "metadata": {},
   "outputs": [],
   "source": [
    "# Convert to wrapped tokenizer for MetaCAT\n",
    "wrapped_tokenizer = TokenizerWrapperBPE(hf_tokenizers=tokenizer)\n",
    "# Save the tokenizer\n",
    "wrapped_tokenizer.save(model_dir.__str__())"
   ]
  },
  {
   "cell_type": "markdown",
   "metadata": {},
   "source": [
    "## Create embedding matrix"
   ]
  },
  {
   "cell_type": "code",
   "execution_count": 7,
   "metadata": {
    "scrolled": true
   },
   "outputs": [],
   "source": [
    "# Tokenize text and train with Word2Vec\n",
    "text_data = []\n",
    "with open(text_file, encoding='utf-8') as text:\n",
    "    for line in text:\n",
    "        text_data.append(tokenizer.encode(line).tokens)\n",
    "w2v = Word2Vec(text_data, vector_size=300, min_count=1, workers=8, sg=1)"
   ]
  },
  {
   "cell_type": "code",
   "execution_count": 8,
   "metadata": {},
   "outputs": [
    {
     "data": {
      "text/plain": [
       "[('Ġniezen', 0.8427163362503052),\n",
       " ('Ġloopneus', 0.8114466667175293),\n",
       " ('Ġkortademigheid', 0.8107344508171082),\n",
       " ('Ġbenauwdheid', 0.7975018620491028),\n",
       " ('rampen', 0.7906360626220703),\n",
       " ('Ġhartkloppingen', 0.7903270125389099),\n",
       " ('Ġconstipatie', 0.789264440536499),\n",
       " ('Ġspierpijn', 0.7881028652191162),\n",
       " ('Ġrillingen', 0.7871307730674744),\n",
       " ('Ġkeelpijn', 0.7849506139755249)]"
      ]
     },
     "execution_count": 8,
     "metadata": {},
     "output_type": "execute_result"
    }
   ],
   "source": [
    "# Check trained word2vec model\n",
    "# Ġ denotes start of word (a space)\n",
    "w2v.wv.most_similar('Ġhoesten')"
   ]
  },
  {
   "cell_type": "code",
   "execution_count": 9,
   "metadata": {},
   "outputs": [],
   "source": [
    "# Create embedding matrix\n",
    "embeddings = []\n",
    "for i in range(tokenizer.get_vocab_size()):\n",
    "    word = tokenizer.id_to_token(i)\n",
    "    if word in w2v.wv:\n",
    "        embeddings.append(w2v.wv[word])\n",
    "    else:\n",
    "        # Assign a random vector if the word was not frequent enough to receive an embedding\n",
    "        embeddings.append(np.random.rand(300))\n",
    "# Save the embeddings\n",
    "np.save(open(embeddings_file, 'wb'), np.array(embeddings))"
   ]
  }
 ],
 "metadata": {
  "kernelspec": {
   "display_name": "Python 3 (ipykernel)",
   "language": "python",
   "name": "python3"
  },
  "language_info": {
   "codemirror_mode": {
    "name": "ipython",
    "version": 3
   },
   "file_extension": ".py",
   "mimetype": "text/x-python",
   "name": "python",
   "nbconvert_exporter": "python",
   "pygments_lexer": "ipython3",
   "version": "3.10.0"
  }
 },
 "nbformat": 4,
 "nbformat_minor": 2
}
