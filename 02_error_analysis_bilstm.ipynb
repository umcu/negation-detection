{
 "cells": [
  {
   "cell_type": "code",
   "execution_count": 1,
   "id": "d8e6a601",
   "metadata": {},
   "outputs": [],
   "source": [
    "from pathlib import Path\n",
    "from evaluation_utils import get_document_text\n",
    "import pandas as pd\n",
    "import json\n",
    "import numpy as np\n",
    "\n",
    "data_dir = Path('data')\n",
    "annotation_file = data_dir / 'emc-dcc_ann.json'\n",
    "dcc_dir = data_dir / 'EMCDutchClinicalCorpus'\n",
    "result_dir = Path('results')\n",
    "bilstm_result_file = result_dir / 'bilstm_predictions.csv.gz'\n",
    "\n",
    "# Load annotated data\n",
    "with open(annotation_file) as f:\n",
    "    annotations = json.load(f)"
   ]
  },
  {
   "cell_type": "code",
   "execution_count": 2,
   "id": "9760ad4a",
   "metadata": {},
   "outputs": [
    {
     "data": {
      "text/html": [
       "<div>\n",
       "<style scoped>\n",
       "    .dataframe tbody tr th:only-of-type {\n",
       "        vertical-align: middle;\n",
       "    }\n",
       "\n",
       "    .dataframe tbody tr th {\n",
       "        vertical-align: top;\n",
       "    }\n",
       "\n",
       "    .dataframe thead th {\n",
       "        text-align: right;\n",
       "    }\n",
       "</style>\n",
       "<table border=\"1\" class=\"dataframe\">\n",
       "  <thead>\n",
       "    <tr style=\"text-align: right;\">\n",
       "      <th></th>\n",
       "      <th>entity_id</th>\n",
       "      <th>annotation</th>\n",
       "      <th>bilstm</th>\n",
       "    </tr>\n",
       "  </thead>\n",
       "  <tbody>\n",
       "    <tr>\n",
       "      <th>0</th>\n",
       "      <td>DL1111_32_46</td>\n",
       "      <td>not negated</td>\n",
       "      <td>not negated</td>\n",
       "    </tr>\n",
       "    <tr>\n",
       "      <th>1</th>\n",
       "      <td>DL1111_272_280</td>\n",
       "      <td>not negated</td>\n",
       "      <td>not negated</td>\n",
       "    </tr>\n",
       "    <tr>\n",
       "      <th>2</th>\n",
       "      <td>DL1111_363_377</td>\n",
       "      <td>not negated</td>\n",
       "      <td>not negated</td>\n",
       "    </tr>\n",
       "    <tr>\n",
       "      <th>3</th>\n",
       "      <td>DL1112_22_28</td>\n",
       "      <td>negated</td>\n",
       "      <td>negated</td>\n",
       "    </tr>\n",
       "    <tr>\n",
       "      <th>4</th>\n",
       "      <td>DL1113_59_67</td>\n",
       "      <td>not negated</td>\n",
       "      <td>not negated</td>\n",
       "    </tr>\n",
       "  </tbody>\n",
       "</table>\n",
       "</div>"
      ],
      "text/plain": [
       "        entity_id   annotation       bilstm\n",
       "0    DL1111_32_46  not negated  not negated\n",
       "1  DL1111_272_280  not negated  not negated\n",
       "2  DL1111_363_377  not negated  not negated\n",
       "3    DL1112_22_28      negated      negated\n",
       "4    DL1113_59_67  not negated  not negated"
      ]
     },
     "execution_count": 2,
     "metadata": {},
     "output_type": "execute_result"
    }
   ],
   "source": [
    "# Load\n",
    "bilstm_predictions = pd.read_csv(bilstm_result_file)\n",
    "bilstm_predictions.head()"
   ]
  },
  {
   "cell_type": "code",
   "execution_count": 3,
   "id": "a5867e14",
   "metadata": {},
   "outputs": [
    {
     "data": {
      "text/html": [
       "<div>\n",
       "<style scoped>\n",
       "    .dataframe tbody tr th:only-of-type {\n",
       "        vertical-align: middle;\n",
       "    }\n",
       "\n",
       "    .dataframe tbody tr th {\n",
       "        vertical-align: top;\n",
       "    }\n",
       "\n",
       "    .dataframe thead th {\n",
       "        text-align: right;\n",
       "    }\n",
       "</style>\n",
       "<table border=\"1\" class=\"dataframe\">\n",
       "  <thead>\n",
       "    <tr style=\"text-align: right;\">\n",
       "      <th></th>\n",
       "      <th>entity_id</th>\n",
       "      <th>annotation</th>\n",
       "      <th>bilstm</th>\n",
       "    </tr>\n",
       "  </thead>\n",
       "  <tbody>\n",
       "    <tr>\n",
       "      <th>121</th>\n",
       "      <td>DL1156_161_172</td>\n",
       "      <td>negated</td>\n",
       "      <td>not negated</td>\n",
       "    </tr>\n",
       "    <tr>\n",
       "      <th>127</th>\n",
       "      <td>DL1158_173_183</td>\n",
       "      <td>negated</td>\n",
       "      <td>not negated</td>\n",
       "    </tr>\n",
       "    <tr>\n",
       "      <th>142</th>\n",
       "      <td>DL1163_0_8</td>\n",
       "      <td>negated</td>\n",
       "      <td>not negated</td>\n",
       "    </tr>\n",
       "    <tr>\n",
       "      <th>155</th>\n",
       "      <td>DL1167_76_82</td>\n",
       "      <td>negated</td>\n",
       "      <td>not negated</td>\n",
       "    </tr>\n",
       "    <tr>\n",
       "      <th>266</th>\n",
       "      <td>DL1201_0_8</td>\n",
       "      <td>negated</td>\n",
       "      <td>not negated</td>\n",
       "    </tr>\n",
       "  </tbody>\n",
       "</table>\n",
       "</div>"
      ],
      "text/plain": [
       "          entity_id annotation       bilstm\n",
       "121  DL1156_161_172    negated  not negated\n",
       "127  DL1158_173_183    negated  not negated\n",
       "142      DL1163_0_8    negated  not negated\n",
       "155    DL1167_76_82    negated  not negated\n",
       "266      DL1201_0_8    negated  not negated"
      ]
     },
     "execution_count": 3,
     "metadata": {},
     "output_type": "execute_result"
    }
   ],
   "source": [
    "# Select false negatives\n",
    "false_negatives = bilstm_predictions[(bilstm_predictions.annotation == 'negated') & (bilstm_predictions.bilstm == 'not negated')]\n",
    "false_negatives.head()"
   ]
  },
  {
   "cell_type": "code",
   "execution_count": 4,
   "id": "263150b8",
   "metadata": {},
   "outputs": [
    {
     "name": "stdout",
     "output_type": "stream",
     "text": [
      "Voorgeschiedenis: strabismus operatie op kinderleeftijd en kruisband ruptuur linker knie.\n",
      "Actuele gegevens: begin dit jaar voelde patiente een zwelling links in de bovenbuik, aanvankelijk pijnlijk nu meer zeurend van karakter.\n",
      "Er zijn geen algemene verschijnselen in de zin van koorts, nachtzweten of gewichtsverlies.\n",
      "Er is geen sprake geweest van een trauma.\n",
      "In de linker bovenbuik een zwelling 15 cm onder de ribbenboog.\n",
      "Geen ascites.\n",
      "Geen ascites.\n",
      "Het beeld zou kunnen passen bij een mucineus adenocarcinoom.\n",
      "\n",
      "Entity: gewichtsverlies (301-316)\n",
      "\n",
      "            entity_id annotation       bilstm\n",
      "12520  SP2093_301_316    negated  not negated\n"
     ]
    }
   ],
   "source": [
    "# Show issue with a random record\n",
    "random_entity = false_negatives.sample(1).entity_id.tolist()[0]\n",
    "text, start, end = get_document_text(random_entity, dcc_dir, bilstm_predictions)"
   ]
  },
  {
   "cell_type": "code",
   "execution_count": 5,
   "id": "df84c972",
   "metadata": {},
   "outputs": [
    {
     "name": "stdout",
     "output_type": "stream",
     "text": [
      "51 of 340 (15%) false negatives caused by negation described as \"-\"\n"
     ]
    }
   ],
   "source": [
    "# Count number of false negatives caused by -\n",
    "count = 0\n",
    "for index, record in false_negatives.iterrows():\n",
    "    text, start, end = get_document_text(record.entity_id, dcc_dir, bilstm_predictions, print_text=False)\n",
    "    if text[end:end+1] == '-':\n",
    "        count += 1\n",
    "print(f'{count} of {false_negatives.shape[0]} ({round((count / false_negatives.shape[0]) * 100)}%) false negatives caused by negation described as \"-\"')"
   ]
  },
  {
   "cell_type": "code",
   "execution_count": null,
   "id": "b4b6430c",
   "metadata": {},
   "outputs": [],
   "source": []
  }
 ],
 "metadata": {
  "kernelspec": {
   "display_name": "Python 3 (ipykernel)",
   "language": "python",
   "name": "python3"
  },
  "language_info": {
   "codemirror_mode": {
    "name": "ipython",
    "version": 3
   },
   "file_extension": ".py",
   "mimetype": "text/x-python",
   "name": "python",
   "nbconvert_exporter": "python",
   "pygments_lexer": "ipython3",
   "version": "3.8.10"
  }
 },
 "nbformat": 4,
 "nbformat_minor": 5
}
